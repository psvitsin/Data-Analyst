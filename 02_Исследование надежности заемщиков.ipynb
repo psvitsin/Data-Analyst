{
 "cells": [
  {
   "cell_type": "markdown",
   "id": "93e770b9",
   "metadata": {},
   "source": [
    "# Исследование надежности заемщиков.\n",
    "**Описание проекта**\n",
    "\n",
    "Заказчик — кредитный отдел банка. Нужно разобраться, влияет ли `семейное положение` и `количество детей` клиента на `факт погашения кредита в срок`. Входные данные от банка — статистика о платёжеспособности клиентов.\n",
    "Результаты исследования будут учтены при построении модели кредитного скоринга — специальной системы, которая оценивает способность потенциального заёмщика вернуть кредит банку."
   ]
  },
  {
   "cell_type": "markdown",
   "id": "4b64857a",
   "metadata": {},
   "source": [
    "### Шаг 1. Обзор данных\n",
    "Составение представления о входных данных от банка — статистика о платёжеспособности клиентов (путь к файлу: /datasets/data.csv):"
   ]
  },
  {
   "cell_type": "code",
   "execution_count": 1,
   "id": "6f5cc0b2",
   "metadata": {},
   "outputs": [
    {
     "data": {
      "text/html": [
       "<div>\n",
       "<style scoped>\n",
       "    .dataframe tbody tr th:only-of-type {\n",
       "        vertical-align: middle;\n",
       "    }\n",
       "\n",
       "    .dataframe tbody tr th {\n",
       "        vertical-align: top;\n",
       "    }\n",
       "\n",
       "    .dataframe thead th {\n",
       "        text-align: right;\n",
       "    }\n",
       "</style>\n",
       "<table border=\"1\" class=\"dataframe\">\n",
       "  <thead>\n",
       "    <tr style=\"text-align: right;\">\n",
       "      <th></th>\n",
       "      <th>children</th>\n",
       "      <th>days_employed</th>\n",
       "      <th>dob_years</th>\n",
       "      <th>education</th>\n",
       "      <th>education_id</th>\n",
       "      <th>family_status</th>\n",
       "      <th>family_status_id</th>\n",
       "      <th>gender</th>\n",
       "      <th>income_type</th>\n",
       "      <th>debt</th>\n",
       "      <th>total_income</th>\n",
       "      <th>purpose</th>\n",
       "    </tr>\n",
       "  </thead>\n",
       "  <tbody>\n",
       "    <tr>\n",
       "      <th>0</th>\n",
       "      <td>1</td>\n",
       "      <td>-8437.673028</td>\n",
       "      <td>42</td>\n",
       "      <td>высшее</td>\n",
       "      <td>0</td>\n",
       "      <td>женат / замужем</td>\n",
       "      <td>0</td>\n",
       "      <td>F</td>\n",
       "      <td>сотрудник</td>\n",
       "      <td>0</td>\n",
       "      <td>253875.639453</td>\n",
       "      <td>покупка жилья</td>\n",
       "    </tr>\n",
       "    <tr>\n",
       "      <th>1</th>\n",
       "      <td>1</td>\n",
       "      <td>-4024.803754</td>\n",
       "      <td>36</td>\n",
       "      <td>среднее</td>\n",
       "      <td>1</td>\n",
       "      <td>женат / замужем</td>\n",
       "      <td>0</td>\n",
       "      <td>F</td>\n",
       "      <td>сотрудник</td>\n",
       "      <td>0</td>\n",
       "      <td>112080.014102</td>\n",
       "      <td>приобретение автомобиля</td>\n",
       "    </tr>\n",
       "    <tr>\n",
       "      <th>2</th>\n",
       "      <td>0</td>\n",
       "      <td>-5623.422610</td>\n",
       "      <td>33</td>\n",
       "      <td>Среднее</td>\n",
       "      <td>1</td>\n",
       "      <td>женат / замужем</td>\n",
       "      <td>0</td>\n",
       "      <td>M</td>\n",
       "      <td>сотрудник</td>\n",
       "      <td>0</td>\n",
       "      <td>145885.952297</td>\n",
       "      <td>покупка жилья</td>\n",
       "    </tr>\n",
       "    <tr>\n",
       "      <th>3</th>\n",
       "      <td>3</td>\n",
       "      <td>-4124.747207</td>\n",
       "      <td>32</td>\n",
       "      <td>среднее</td>\n",
       "      <td>1</td>\n",
       "      <td>женат / замужем</td>\n",
       "      <td>0</td>\n",
       "      <td>M</td>\n",
       "      <td>сотрудник</td>\n",
       "      <td>0</td>\n",
       "      <td>267628.550329</td>\n",
       "      <td>дополнительное образование</td>\n",
       "    </tr>\n",
       "    <tr>\n",
       "      <th>4</th>\n",
       "      <td>0</td>\n",
       "      <td>340266.072047</td>\n",
       "      <td>53</td>\n",
       "      <td>среднее</td>\n",
       "      <td>1</td>\n",
       "      <td>гражданский брак</td>\n",
       "      <td>1</td>\n",
       "      <td>F</td>\n",
       "      <td>пенсионер</td>\n",
       "      <td>0</td>\n",
       "      <td>158616.077870</td>\n",
       "      <td>сыграть свадьбу</td>\n",
       "    </tr>\n",
       "    <tr>\n",
       "      <th>5</th>\n",
       "      <td>0</td>\n",
       "      <td>-926.185831</td>\n",
       "      <td>27</td>\n",
       "      <td>высшее</td>\n",
       "      <td>0</td>\n",
       "      <td>гражданский брак</td>\n",
       "      <td>1</td>\n",
       "      <td>M</td>\n",
       "      <td>компаньон</td>\n",
       "      <td>0</td>\n",
       "      <td>255763.565419</td>\n",
       "      <td>покупка жилья</td>\n",
       "    </tr>\n",
       "    <tr>\n",
       "      <th>6</th>\n",
       "      <td>0</td>\n",
       "      <td>-2879.202052</td>\n",
       "      <td>43</td>\n",
       "      <td>высшее</td>\n",
       "      <td>0</td>\n",
       "      <td>женат / замужем</td>\n",
       "      <td>0</td>\n",
       "      <td>F</td>\n",
       "      <td>компаньон</td>\n",
       "      <td>0</td>\n",
       "      <td>240525.971920</td>\n",
       "      <td>операции с жильем</td>\n",
       "    </tr>\n",
       "    <tr>\n",
       "      <th>7</th>\n",
       "      <td>0</td>\n",
       "      <td>-152.779569</td>\n",
       "      <td>50</td>\n",
       "      <td>СРЕДНЕЕ</td>\n",
       "      <td>1</td>\n",
       "      <td>женат / замужем</td>\n",
       "      <td>0</td>\n",
       "      <td>M</td>\n",
       "      <td>сотрудник</td>\n",
       "      <td>0</td>\n",
       "      <td>135823.934197</td>\n",
       "      <td>образование</td>\n",
       "    </tr>\n",
       "    <tr>\n",
       "      <th>8</th>\n",
       "      <td>2</td>\n",
       "      <td>-6929.865299</td>\n",
       "      <td>35</td>\n",
       "      <td>ВЫСШЕЕ</td>\n",
       "      <td>0</td>\n",
       "      <td>гражданский брак</td>\n",
       "      <td>1</td>\n",
       "      <td>F</td>\n",
       "      <td>сотрудник</td>\n",
       "      <td>0</td>\n",
       "      <td>95856.832424</td>\n",
       "      <td>на проведение свадьбы</td>\n",
       "    </tr>\n",
       "    <tr>\n",
       "      <th>9</th>\n",
       "      <td>0</td>\n",
       "      <td>-2188.756445</td>\n",
       "      <td>41</td>\n",
       "      <td>среднее</td>\n",
       "      <td>1</td>\n",
       "      <td>женат / замужем</td>\n",
       "      <td>0</td>\n",
       "      <td>M</td>\n",
       "      <td>сотрудник</td>\n",
       "      <td>0</td>\n",
       "      <td>144425.938277</td>\n",
       "      <td>покупка жилья для семьи</td>\n",
       "    </tr>\n",
       "  </tbody>\n",
       "</table>\n",
       "</div>"
      ],
      "text/plain": [
       "   children  days_employed  dob_years education  education_id  \\\n",
       "0         1   -8437.673028         42    высшее             0   \n",
       "1         1   -4024.803754         36   среднее             1   \n",
       "2         0   -5623.422610         33   Среднее             1   \n",
       "3         3   -4124.747207         32   среднее             1   \n",
       "4         0  340266.072047         53   среднее             1   \n",
       "5         0    -926.185831         27    высшее             0   \n",
       "6         0   -2879.202052         43    высшее             0   \n",
       "7         0    -152.779569         50   СРЕДНЕЕ             1   \n",
       "8         2   -6929.865299         35    ВЫСШЕЕ             0   \n",
       "9         0   -2188.756445         41   среднее             1   \n",
       "\n",
       "      family_status  family_status_id gender income_type  debt   total_income  \\\n",
       "0   женат / замужем                 0      F   сотрудник     0  253875.639453   \n",
       "1   женат / замужем                 0      F   сотрудник     0  112080.014102   \n",
       "2   женат / замужем                 0      M   сотрудник     0  145885.952297   \n",
       "3   женат / замужем                 0      M   сотрудник     0  267628.550329   \n",
       "4  гражданский брак                 1      F   пенсионер     0  158616.077870   \n",
       "5  гражданский брак                 1      M   компаньон     0  255763.565419   \n",
       "6   женат / замужем                 0      F   компаньон     0  240525.971920   \n",
       "7   женат / замужем                 0      M   сотрудник     0  135823.934197   \n",
       "8  гражданский брак                 1      F   сотрудник     0   95856.832424   \n",
       "9   женат / замужем                 0      M   сотрудник     0  144425.938277   \n",
       "\n",
       "                      purpose  \n",
       "0               покупка жилья  \n",
       "1     приобретение автомобиля  \n",
       "2               покупка жилья  \n",
       "3  дополнительное образование  \n",
       "4             сыграть свадьбу  \n",
       "5               покупка жилья  \n",
       "6           операции с жильем  \n",
       "7                 образование  \n",
       "8       на проведение свадьбы  \n",
       "9     покупка жилья для семьи  "
      ]
     },
     "execution_count": 1,
     "metadata": {},
     "output_type": "execute_result"
    }
   ],
   "source": [
    "# импорт библиотеки pandas\n",
    "import pandas as pd\n",
    "\n",
    "# чтение файла с данными и сохранение в df\n",
    "df = pd.read_csv('/datasets/data.csv')\n",
    "\n",
    "# получение первых 10 строк таблицы df\n",
    "df.head(10)"
   ]
  },
  {
   "cell_type": "code",
   "execution_count": 2,
   "id": "31501cd6",
   "metadata": {},
   "outputs": [
    {
     "name": "stdout",
     "output_type": "stream",
     "text": [
      "<class 'pandas.core.frame.DataFrame'>\n",
      "RangeIndex: 21525 entries, 0 to 21524\n",
      "Data columns (total 12 columns):\n",
      " #   Column            Non-Null Count  Dtype  \n",
      "---  ------            --------------  -----  \n",
      " 0   children          21525 non-null  int64  \n",
      " 1   days_employed     19351 non-null  float64\n",
      " 2   dob_years         21525 non-null  int64  \n",
      " 3   education         21525 non-null  object \n",
      " 4   education_id      21525 non-null  int64  \n",
      " 5   family_status     21525 non-null  object \n",
      " 6   family_status_id  21525 non-null  int64  \n",
      " 7   gender            21525 non-null  object \n",
      " 8   income_type       21525 non-null  object \n",
      " 9   debt              21525 non-null  int64  \n",
      " 10  total_income      19351 non-null  float64\n",
      " 11  purpose           21525 non-null  object \n",
      "dtypes: float64(2), int64(5), object(5)\n",
      "memory usage: 2.0+ MB\n"
     ]
    }
   ],
   "source": [
    "# вывод информации о df\n",
    "df.info()"
   ]
  },
  {
   "cell_type": "markdown",
   "id": "8f454a7a",
   "metadata": {},
   "source": [
    "В таблице `12 столбцов`:\n",
    "* `children` — количество детей в семье (целые цисла);\n",
    "* `days_employed` — количество дней трудового стажа (числа с плавающей точкой);  \n",
    "* `dob_years` — возраст клиента в годах (целые цисла);\n",
    "* `education` — уровень образования клиента (object);\n",
    "* `education_id` — идентификатор уровня образования (целые цисла);\n",
    "* `family_status` — семейное положение (object);\n",
    "* `family_status_id` — идентификатор семейного положения (целые цисла);\n",
    "* `gender` — пол клиента (object);  \n",
    "* `income_type` — тип занятости (object);\n",
    "* `debt` — имел ли задолженность по возврату кредитов (целые цисла: 0, 1);\n",
    "* `total_income` — ежемесячный доход (числа с плавающей точкой);\n",
    "* `purpose` — цель получения кредита (object);\n",
    "\n",
    "В соответствии с информацией о полученных данных в столбцах **'days_employed'** и **'total_income'** есть пропущенные значения (заполнено **19351** строк при общем количестве строк **21525**).\n",
    "Нарушения стиля в названиях столбцов нет."
   ]
  },
  {
   "cell_type": "markdown",
   "id": "4d94b7cf",
   "metadata": {},
   "source": [
    "### Шаг 2.1 Заполнение пропусков\n",
    "* Расчет количества пропусков и поиск соответветсвующих строк.\n",
    "* Проверка доли пропущенных значений в каждом из столбцов с пропусками;\n",
    "* Описание пропущенных значений;\n",
    "* Анализ причин появления пропусков в данных;\n",
    "* Обоснование необходимости заполнения пропусков медианным значением."
   ]
  },
  {
   "cell_type": "code",
   "execution_count": 3,
   "id": "5f3a402a",
   "metadata": {},
   "outputs": [
    {
     "data": {
      "text/plain": [
       "children               0\n",
       "days_employed       2174\n",
       "dob_years              0\n",
       "education              0\n",
       "education_id           0\n",
       "family_status          0\n",
       "family_status_id       0\n",
       "gender                 0\n",
       "income_type            0\n",
       "debt                   0\n",
       "total_income        2174\n",
       "purpose                0\n",
       "dtype: int64"
      ]
     },
     "execution_count": 3,
     "metadata": {},
     "output_type": "execute_result"
    }
   ],
   "source": [
    "# подсчёт пропусков\n",
    "df.isna().sum()"
   ]
  },
  {
   "cell_type": "code",
   "execution_count": 4,
   "id": "db5e999c",
   "metadata": {},
   "outputs": [
    {
     "data": {
      "text/html": [
       "<div>\n",
       "<style scoped>\n",
       "    .dataframe tbody tr th:only-of-type {\n",
       "        vertical-align: middle;\n",
       "    }\n",
       "\n",
       "    .dataframe tbody tr th {\n",
       "        vertical-align: top;\n",
       "    }\n",
       "\n",
       "    .dataframe thead th {\n",
       "        text-align: right;\n",
       "    }\n",
       "</style>\n",
       "<table border=\"1\" class=\"dataframe\">\n",
       "  <thead>\n",
       "    <tr style=\"text-align: right;\">\n",
       "      <th></th>\n",
       "      <th>children</th>\n",
       "      <th>days_employed</th>\n",
       "      <th>dob_years</th>\n",
       "      <th>education</th>\n",
       "      <th>education_id</th>\n",
       "      <th>family_status</th>\n",
       "      <th>family_status_id</th>\n",
       "      <th>gender</th>\n",
       "      <th>income_type</th>\n",
       "      <th>debt</th>\n",
       "      <th>total_income</th>\n",
       "      <th>purpose</th>\n",
       "    </tr>\n",
       "  </thead>\n",
       "  <tbody>\n",
       "    <tr>\n",
       "      <th>12</th>\n",
       "      <td>0</td>\n",
       "      <td>NaN</td>\n",
       "      <td>65</td>\n",
       "      <td>среднее</td>\n",
       "      <td>1</td>\n",
       "      <td>гражданский брак</td>\n",
       "      <td>1</td>\n",
       "      <td>M</td>\n",
       "      <td>пенсионер</td>\n",
       "      <td>0</td>\n",
       "      <td>NaN</td>\n",
       "      <td>сыграть свадьбу</td>\n",
       "    </tr>\n",
       "    <tr>\n",
       "      <th>26</th>\n",
       "      <td>0</td>\n",
       "      <td>NaN</td>\n",
       "      <td>41</td>\n",
       "      <td>среднее</td>\n",
       "      <td>1</td>\n",
       "      <td>женат / замужем</td>\n",
       "      <td>0</td>\n",
       "      <td>M</td>\n",
       "      <td>госслужащий</td>\n",
       "      <td>0</td>\n",
       "      <td>NaN</td>\n",
       "      <td>образование</td>\n",
       "    </tr>\n",
       "    <tr>\n",
       "      <th>29</th>\n",
       "      <td>0</td>\n",
       "      <td>NaN</td>\n",
       "      <td>63</td>\n",
       "      <td>среднее</td>\n",
       "      <td>1</td>\n",
       "      <td>Не женат / не замужем</td>\n",
       "      <td>4</td>\n",
       "      <td>F</td>\n",
       "      <td>пенсионер</td>\n",
       "      <td>0</td>\n",
       "      <td>NaN</td>\n",
       "      <td>строительство жилой недвижимости</td>\n",
       "    </tr>\n",
       "    <tr>\n",
       "      <th>41</th>\n",
       "      <td>0</td>\n",
       "      <td>NaN</td>\n",
       "      <td>50</td>\n",
       "      <td>среднее</td>\n",
       "      <td>1</td>\n",
       "      <td>женат / замужем</td>\n",
       "      <td>0</td>\n",
       "      <td>F</td>\n",
       "      <td>госслужащий</td>\n",
       "      <td>0</td>\n",
       "      <td>NaN</td>\n",
       "      <td>сделка с подержанным автомобилем</td>\n",
       "    </tr>\n",
       "    <tr>\n",
       "      <th>55</th>\n",
       "      <td>0</td>\n",
       "      <td>NaN</td>\n",
       "      <td>54</td>\n",
       "      <td>среднее</td>\n",
       "      <td>1</td>\n",
       "      <td>гражданский брак</td>\n",
       "      <td>1</td>\n",
       "      <td>F</td>\n",
       "      <td>пенсионер</td>\n",
       "      <td>1</td>\n",
       "      <td>NaN</td>\n",
       "      <td>сыграть свадьбу</td>\n",
       "    </tr>\n",
       "    <tr>\n",
       "      <th>65</th>\n",
       "      <td>0</td>\n",
       "      <td>NaN</td>\n",
       "      <td>21</td>\n",
       "      <td>среднее</td>\n",
       "      <td>1</td>\n",
       "      <td>Не женат / не замужем</td>\n",
       "      <td>4</td>\n",
       "      <td>M</td>\n",
       "      <td>компаньон</td>\n",
       "      <td>0</td>\n",
       "      <td>NaN</td>\n",
       "      <td>операции с коммерческой недвижимостью</td>\n",
       "    </tr>\n",
       "    <tr>\n",
       "      <th>67</th>\n",
       "      <td>0</td>\n",
       "      <td>NaN</td>\n",
       "      <td>52</td>\n",
       "      <td>высшее</td>\n",
       "      <td>0</td>\n",
       "      <td>женат / замужем</td>\n",
       "      <td>0</td>\n",
       "      <td>F</td>\n",
       "      <td>пенсионер</td>\n",
       "      <td>0</td>\n",
       "      <td>NaN</td>\n",
       "      <td>покупка жилья для семьи</td>\n",
       "    </tr>\n",
       "    <tr>\n",
       "      <th>72</th>\n",
       "      <td>1</td>\n",
       "      <td>NaN</td>\n",
       "      <td>32</td>\n",
       "      <td>высшее</td>\n",
       "      <td>0</td>\n",
       "      <td>женат / замужем</td>\n",
       "      <td>0</td>\n",
       "      <td>M</td>\n",
       "      <td>госслужащий</td>\n",
       "      <td>0</td>\n",
       "      <td>NaN</td>\n",
       "      <td>операции с коммерческой недвижимостью</td>\n",
       "    </tr>\n",
       "    <tr>\n",
       "      <th>82</th>\n",
       "      <td>2</td>\n",
       "      <td>NaN</td>\n",
       "      <td>50</td>\n",
       "      <td>высшее</td>\n",
       "      <td>0</td>\n",
       "      <td>женат / замужем</td>\n",
       "      <td>0</td>\n",
       "      <td>F</td>\n",
       "      <td>сотрудник</td>\n",
       "      <td>0</td>\n",
       "      <td>NaN</td>\n",
       "      <td>жилье</td>\n",
       "    </tr>\n",
       "    <tr>\n",
       "      <th>83</th>\n",
       "      <td>0</td>\n",
       "      <td>NaN</td>\n",
       "      <td>52</td>\n",
       "      <td>среднее</td>\n",
       "      <td>1</td>\n",
       "      <td>женат / замужем</td>\n",
       "      <td>0</td>\n",
       "      <td>M</td>\n",
       "      <td>сотрудник</td>\n",
       "      <td>0</td>\n",
       "      <td>NaN</td>\n",
       "      <td>жилье</td>\n",
       "    </tr>\n",
       "  </tbody>\n",
       "</table>\n",
       "</div>"
      ],
      "text/plain": [
       "    children  days_employed  dob_years education  education_id  \\\n",
       "12         0            NaN         65   среднее             1   \n",
       "26         0            NaN         41   среднее             1   \n",
       "29         0            NaN         63   среднее             1   \n",
       "41         0            NaN         50   среднее             1   \n",
       "55         0            NaN         54   среднее             1   \n",
       "65         0            NaN         21   среднее             1   \n",
       "67         0            NaN         52    высшее             0   \n",
       "72         1            NaN         32    высшее             0   \n",
       "82         2            NaN         50    высшее             0   \n",
       "83         0            NaN         52   среднее             1   \n",
       "\n",
       "            family_status  family_status_id gender  income_type  debt  \\\n",
       "12       гражданский брак                 1      M    пенсионер     0   \n",
       "26        женат / замужем                 0      M  госслужащий     0   \n",
       "29  Не женат / не замужем                 4      F    пенсионер     0   \n",
       "41        женат / замужем                 0      F  госслужащий     0   \n",
       "55       гражданский брак                 1      F    пенсионер     1   \n",
       "65  Не женат / не замужем                 4      M    компаньон     0   \n",
       "67        женат / замужем                 0      F    пенсионер     0   \n",
       "72        женат / замужем                 0      M  госслужащий     0   \n",
       "82        женат / замужем                 0      F    сотрудник     0   \n",
       "83        женат / замужем                 0      M    сотрудник     0   \n",
       "\n",
       "    total_income                                purpose  \n",
       "12           NaN                        сыграть свадьбу  \n",
       "26           NaN                            образование  \n",
       "29           NaN       строительство жилой недвижимости  \n",
       "41           NaN       сделка с подержанным автомобилем  \n",
       "55           NaN                        сыграть свадьбу  \n",
       "65           NaN  операции с коммерческой недвижимостью  \n",
       "67           NaN                покупка жилья для семьи  \n",
       "72           NaN  операции с коммерческой недвижимостью  \n",
       "82           NaN                                  жилье  \n",
       "83           NaN                                  жилье  "
      ]
     },
     "execution_count": 4,
     "metadata": {},
     "output_type": "execute_result"
    }
   ],
   "source": [
    "# отображение первых 10 строк с пропущенными данными:\n",
    "df[df.isna().any(axis=1)].head(10)"
   ]
  },
  {
   "cell_type": "code",
   "execution_count": 5,
   "id": "658b9628",
   "metadata": {},
   "outputs": [
    {
     "data": {
      "text/plain": [
       "0.10099883855981417"
      ]
     },
     "execution_count": 5,
     "metadata": {},
     "output_type": "execute_result"
    }
   ],
   "source": [
    "# Доля пропусков в столбце 'days_employed'\n",
    "df['days_employed'].isna().sum() / len(df['days_employed'].index)"
   ]
  },
  {
   "cell_type": "code",
   "execution_count": 6,
   "id": "64631e85",
   "metadata": {},
   "outputs": [
    {
     "data": {
      "text/plain": [
       "0.10099883855981417"
      ]
     },
     "execution_count": 6,
     "metadata": {},
     "output_type": "execute_result"
    }
   ],
   "source": [
    "# Доля пропусков в столбце 'total_income'\n",
    "df['total_income'].isna().sum() / len(df['total_income'].index)"
   ]
  },
  {
   "cell_type": "markdown",
   "id": "36bcb427",
   "metadata": {},
   "source": [
    "Пропущенные значения относятся к столбцам с данными о трудовом стаже и ежемесячном доходе.\n",
    "\n",
    "Вероятно отсутствие данных обусловлено ограничениями в конфиденциальности информации или невозможностью их отображения.\n",
    "\n",
    "Доля пропусков в каждом столбце составлет 10%, что является существенным значением для последующего анализа.\n",
    "\n",
    "Некоторые значения в столбцах `'days_employed'` и `'total_income'` сильно выделяются среди большинства и среднее значение будет некорректно характеризовать данные, поэтому для заполнения пропусков используются медианные значения."
   ]
  },
  {
   "cell_type": "code",
   "execution_count": 7,
   "id": "bcd6e0ee",
   "metadata": {},
   "outputs": [
    {
     "data": {
      "text/html": [
       "<div>\n",
       "<style scoped>\n",
       "    .dataframe tbody tr th:only-of-type {\n",
       "        vertical-align: middle;\n",
       "    }\n",
       "\n",
       "    .dataframe tbody tr th {\n",
       "        vertical-align: top;\n",
       "    }\n",
       "\n",
       "    .dataframe thead tr th {\n",
       "        text-align: left;\n",
       "    }\n",
       "\n",
       "    .dataframe thead tr:last-of-type th {\n",
       "        text-align: right;\n",
       "    }\n",
       "</style>\n",
       "<table border=\"1\" class=\"dataframe\">\n",
       "  <thead>\n",
       "    <tr>\n",
       "      <th></th>\n",
       "      <th>count</th>\n",
       "      <th>median</th>\n",
       "      <th>mean</th>\n",
       "    </tr>\n",
       "    <tr>\n",
       "      <th></th>\n",
       "      <th>days_employed</th>\n",
       "      <th>days_employed</th>\n",
       "      <th>days_employed</th>\n",
       "    </tr>\n",
       "    <tr>\n",
       "      <th>income_type</th>\n",
       "      <th></th>\n",
       "      <th></th>\n",
       "      <th></th>\n",
       "    </tr>\n",
       "  </thead>\n",
       "  <tbody>\n",
       "    <tr>\n",
       "      <th>безработный</th>\n",
       "      <td>2</td>\n",
       "      <td>366413.652744</td>\n",
       "      <td>366413.652744</td>\n",
       "    </tr>\n",
       "    <tr>\n",
       "      <th>в декрете</th>\n",
       "      <td>1</td>\n",
       "      <td>-3296.759962</td>\n",
       "      <td>-3296.759962</td>\n",
       "    </tr>\n",
       "    <tr>\n",
       "      <th>госслужащий</th>\n",
       "      <td>1312</td>\n",
       "      <td>-2689.368353</td>\n",
       "      <td>-3399.896902</td>\n",
       "    </tr>\n",
       "    <tr>\n",
       "      <th>компаньон</th>\n",
       "      <td>4577</td>\n",
       "      <td>-1547.382223</td>\n",
       "      <td>-2111.524398</td>\n",
       "    </tr>\n",
       "    <tr>\n",
       "      <th>пенсионер</th>\n",
       "      <td>3443</td>\n",
       "      <td>365213.306266</td>\n",
       "      <td>365003.491245</td>\n",
       "    </tr>\n",
       "    <tr>\n",
       "      <th>предприниматель</th>\n",
       "      <td>1</td>\n",
       "      <td>-520.848083</td>\n",
       "      <td>-520.848083</td>\n",
       "    </tr>\n",
       "    <tr>\n",
       "      <th>сотрудник</th>\n",
       "      <td>10014</td>\n",
       "      <td>-1574.202821</td>\n",
       "      <td>-2326.499216</td>\n",
       "    </tr>\n",
       "    <tr>\n",
       "      <th>студент</th>\n",
       "      <td>1</td>\n",
       "      <td>-578.751554</td>\n",
       "      <td>-578.751554</td>\n",
       "    </tr>\n",
       "  </tbody>\n",
       "</table>\n",
       "</div>"
      ],
      "text/plain": [
       "                        count         median           mean\n",
       "                days_employed  days_employed  days_employed\n",
       "income_type                                                \n",
       "безработный                 2  366413.652744  366413.652744\n",
       "в декрете                   1   -3296.759962   -3296.759962\n",
       "госслужащий              1312   -2689.368353   -3399.896902\n",
       "компаньон                4577   -1547.382223   -2111.524398\n",
       "пенсионер                3443  365213.306266  365003.491245\n",
       "предприниматель             1    -520.848083    -520.848083\n",
       "сотрудник               10014   -1574.202821   -2326.499216\n",
       "студент                     1    -578.751554    -578.751554"
      ]
     },
     "execution_count": 7,
     "metadata": {},
     "output_type": "execute_result"
    }
   ],
   "source": [
    "df.pivot_table(index='income_type', values='days_employed', aggfunc=['count', 'median', 'mean'])"
   ]
  },
  {
   "cell_type": "code",
   "execution_count": 8,
   "id": "34ddfd73",
   "metadata": {},
   "outputs": [],
   "source": [
    "# Корректировка трудового стажа для безработных и пенсионеров \n",
    "df.loc[df['income_type'] == 'безработный', 'days_employed'] = df.loc[df['income_type'] == 'безработный', 'days_employed'] / 24\n",
    "df.loc[df['income_type'] == 'пенсионер', 'days_employed'] = df.loc[df['income_type'] == 'пенсионер', 'days_employed'] / 24"
   ]
  },
  {
   "cell_type": "code",
   "execution_count": 9,
   "id": "0842e2a7",
   "metadata": {},
   "outputs": [
    {
     "data": {
      "text/plain": [
       "children            0\n",
       "days_employed       0\n",
       "dob_years           0\n",
       "education           0\n",
       "education_id        0\n",
       "family_status       0\n",
       "family_status_id    0\n",
       "gender              0\n",
       "income_type         0\n",
       "debt                0\n",
       "total_income        0\n",
       "purpose             0\n",
       "dtype: int64"
      ]
     },
     "execution_count": 9,
     "metadata": {},
     "output_type": "execute_result"
    }
   ],
   "source": [
    "# Заполнение пропусков медианными значениями\n",
    "df['days_employed'] = df['days_employed'].fillna(df['days_employed'].median())\n",
    "df['total_income'] = df['total_income'].fillna(df['total_income'].median())\n",
    "\n",
    "# Проверка на отсутствие пропусков\n",
    "df.isna().sum()"
   ]
  },
  {
   "cell_type": "markdown",
   "id": "18be007d",
   "metadata": {},
   "source": [
    "### Шаг 2.2 Проверка данных на аномалии и исправления.\n",
    "**Проверка значений по столбцам:**\n",
    "\n",
    "* **Количество детей в семье:**"
   ]
  },
  {
   "cell_type": "code",
   "execution_count": 10,
   "id": "9b1a409a",
   "metadata": {},
   "outputs": [
    {
     "data": {
      "text/plain": [
       "array([ 1,  0,  3,  2, -1,  4, 20,  5])"
      ]
     },
     "execution_count": 10,
     "metadata": {},
     "output_type": "execute_result"
    }
   ],
   "source": [
    "# Уникальные значения по количеству детей:\n",
    "df['children'].unique()"
   ]
  },
  {
   "cell_type": "markdown",
   "id": "c3b8fca1",
   "metadata": {},
   "source": [
    "Аномальные значения в столбце `'children'`: **-1** и **20**. Проверка количества и правдоподобности данных:"
   ]
  },
  {
   "cell_type": "code",
   "execution_count": 11,
   "id": "2091d37a",
   "metadata": {},
   "outputs": [
    {
     "data": {
      "text/plain": [
       "47"
      ]
     },
     "execution_count": 11,
     "metadata": {},
     "output_type": "execute_result"
    }
   ],
   "source": [
    "# Проверка количества записей со значением \"-1\" в столбце 'children'\n",
    "df[df['children']==-1]['children'].count()"
   ]
  },
  {
   "cell_type": "markdown",
   "id": "106d202a",
   "metadata": {},
   "source": [
    "Вероятно отрицательные значения - ошибочная запись, корректировка значений без отрицательного знака:"
   ]
  },
  {
   "cell_type": "code",
   "execution_count": 12,
   "id": "97b9799a",
   "metadata": {},
   "outputs": [],
   "source": [
    "# Замена \"-1\" на \"1\" в столбце 'children'\n",
    "df.loc[df['children']==-1, 'children'] = 1"
   ]
  },
  {
   "cell_type": "code",
   "execution_count": 13,
   "id": "92f97863",
   "metadata": {},
   "outputs": [
    {
     "data": {
      "text/plain": [
       "76"
      ]
     },
     "execution_count": 13,
     "metadata": {},
     "output_type": "execute_result"
    }
   ],
   "source": [
    "# Проверка количества записей со значением \"20\" в столбце 'children'\n",
    "df[df['children']==20]['children'].count()"
   ]
  },
  {
   "cell_type": "code",
   "execution_count": 14,
   "id": "5380cb1f",
   "metadata": {},
   "outputs": [
    {
     "data": {
      "text/plain": [
       "606     21\n",
       "720     44\n",
       "1074    56\n",
       "2510    59\n",
       "2941     0\n",
       "3302    35\n",
       "3396    56\n",
       "3671    23\n",
       "3697    40\n",
       "3735    26\n",
       "Name: dob_years, dtype: int64"
      ]
     },
     "execution_count": 14,
     "metadata": {},
     "output_type": "execute_result"
    }
   ],
   "source": [
    "# Проверка возраста клиентов с количеством детей = 20 шт\n",
    "df[df['children']==20]['dob_years'].head(10)"
   ]
  },
  {
   "cell_type": "markdown",
   "id": "7f53ee22",
   "metadata": {},
   "source": [
    "У людей с возрастом 20-30 лет маловероятно наличие детей в количестве 20 шт, следовательно данные ошибочные и вместо **20** наиболее корректное значение **2** (ошибочно добавлен 0). Корректировка значений \"20\" на \"2\":"
   ]
  },
  {
   "cell_type": "code",
   "execution_count": 15,
   "id": "08fb12ad",
   "metadata": {},
   "outputs": [
    {
     "data": {
      "text/plain": [
       "array([1, 0, 3, 2, 4, 5])"
      ]
     },
     "execution_count": 15,
     "metadata": {},
     "output_type": "execute_result"
    }
   ],
   "source": [
    "# Замена \"20\" на \"2\" в столбце 'children'\n",
    "df.loc[df['children']==20, 'children'] = 2\n",
    "\n",
    "# Проверка уникальных значений после корректировок:\n",
    "df['children'].unique()"
   ]
  },
  {
   "cell_type": "markdown",
   "id": "5323fd25",
   "metadata": {},
   "source": [
    "* **Количество дней трудового стажа:**\n",
    "\n",
    "Присутствуют отрицательные значения. Корректировка:"
   ]
  },
  {
   "cell_type": "code",
   "execution_count": 16,
   "id": "89ae5eb0",
   "metadata": {},
   "outputs": [
    {
     "data": {
      "text/html": [
       "<div>\n",
       "<style scoped>\n",
       "    .dataframe tbody tr th:only-of-type {\n",
       "        vertical-align: middle;\n",
       "    }\n",
       "\n",
       "    .dataframe tbody tr th {\n",
       "        vertical-align: top;\n",
       "    }\n",
       "\n",
       "    .dataframe thead th {\n",
       "        text-align: right;\n",
       "    }\n",
       "</style>\n",
       "<table border=\"1\" class=\"dataframe\">\n",
       "  <thead>\n",
       "    <tr style=\"text-align: right;\">\n",
       "      <th></th>\n",
       "      <th>children</th>\n",
       "      <th>days_employed</th>\n",
       "      <th>dob_years</th>\n",
       "      <th>education</th>\n",
       "      <th>education_id</th>\n",
       "      <th>family_status</th>\n",
       "      <th>family_status_id</th>\n",
       "      <th>gender</th>\n",
       "      <th>income_type</th>\n",
       "      <th>debt</th>\n",
       "      <th>total_income</th>\n",
       "      <th>purpose</th>\n",
       "    </tr>\n",
       "  </thead>\n",
       "  <tbody>\n",
       "    <tr>\n",
       "      <th>0</th>\n",
       "      <td>1</td>\n",
       "      <td>8437.673028</td>\n",
       "      <td>42</td>\n",
       "      <td>высшее</td>\n",
       "      <td>0</td>\n",
       "      <td>женат / замужем</td>\n",
       "      <td>0</td>\n",
       "      <td>F</td>\n",
       "      <td>сотрудник</td>\n",
       "      <td>0</td>\n",
       "      <td>253875.639453</td>\n",
       "      <td>покупка жилья</td>\n",
       "    </tr>\n",
       "    <tr>\n",
       "      <th>1</th>\n",
       "      <td>1</td>\n",
       "      <td>4024.803754</td>\n",
       "      <td>36</td>\n",
       "      <td>среднее</td>\n",
       "      <td>1</td>\n",
       "      <td>женат / замужем</td>\n",
       "      <td>0</td>\n",
       "      <td>F</td>\n",
       "      <td>сотрудник</td>\n",
       "      <td>0</td>\n",
       "      <td>112080.014102</td>\n",
       "      <td>приобретение автомобиля</td>\n",
       "    </tr>\n",
       "    <tr>\n",
       "      <th>2</th>\n",
       "      <td>0</td>\n",
       "      <td>5623.422610</td>\n",
       "      <td>33</td>\n",
       "      <td>Среднее</td>\n",
       "      <td>1</td>\n",
       "      <td>женат / замужем</td>\n",
       "      <td>0</td>\n",
       "      <td>M</td>\n",
       "      <td>сотрудник</td>\n",
       "      <td>0</td>\n",
       "      <td>145885.952297</td>\n",
       "      <td>покупка жилья</td>\n",
       "    </tr>\n",
       "    <tr>\n",
       "      <th>3</th>\n",
       "      <td>3</td>\n",
       "      <td>4124.747207</td>\n",
       "      <td>32</td>\n",
       "      <td>среднее</td>\n",
       "      <td>1</td>\n",
       "      <td>женат / замужем</td>\n",
       "      <td>0</td>\n",
       "      <td>M</td>\n",
       "      <td>сотрудник</td>\n",
       "      <td>0</td>\n",
       "      <td>267628.550329</td>\n",
       "      <td>дополнительное образование</td>\n",
       "    </tr>\n",
       "    <tr>\n",
       "      <th>4</th>\n",
       "      <td>0</td>\n",
       "      <td>14177.753002</td>\n",
       "      <td>53</td>\n",
       "      <td>среднее</td>\n",
       "      <td>1</td>\n",
       "      <td>гражданский брак</td>\n",
       "      <td>1</td>\n",
       "      <td>F</td>\n",
       "      <td>пенсионер</td>\n",
       "      <td>0</td>\n",
       "      <td>158616.077870</td>\n",
       "      <td>сыграть свадьбу</td>\n",
       "    </tr>\n",
       "  </tbody>\n",
       "</table>\n",
       "</div>"
      ],
      "text/plain": [
       "   children  days_employed  dob_years education  education_id  \\\n",
       "0         1    8437.673028         42    высшее             0   \n",
       "1         1    4024.803754         36   среднее             1   \n",
       "2         0    5623.422610         33   Среднее             1   \n",
       "3         3    4124.747207         32   среднее             1   \n",
       "4         0   14177.753002         53   среднее             1   \n",
       "\n",
       "      family_status  family_status_id gender income_type  debt   total_income  \\\n",
       "0   женат / замужем                 0      F   сотрудник     0  253875.639453   \n",
       "1   женат / замужем                 0      F   сотрудник     0  112080.014102   \n",
       "2   женат / замужем                 0      M   сотрудник     0  145885.952297   \n",
       "3   женат / замужем                 0      M   сотрудник     0  267628.550329   \n",
       "4  гражданский брак                 1      F   пенсионер     0  158616.077870   \n",
       "\n",
       "                      purpose  \n",
       "0               покупка жилья  \n",
       "1     приобретение автомобиля  \n",
       "2               покупка жилья  \n",
       "3  дополнительное образование  \n",
       "4             сыграть свадьбу  "
      ]
     },
     "execution_count": 16,
     "metadata": {},
     "output_type": "execute_result"
    }
   ],
   "source": [
    "# Корректировка отрицательных значений в столбце 'days_employed':\n",
    "df['days_employed'] = df['days_employed'].abs()\n",
    "\n",
    "# Проверка первых 5 строк таблицы df\n",
    "df.head()"
   ]
  },
  {
   "cell_type": "markdown",
   "id": "1e7964db",
   "metadata": {},
   "source": [
    "* **Возраст клиента в годах:**"
   ]
  },
  {
   "cell_type": "code",
   "execution_count": 17,
   "id": "8ce6e126",
   "metadata": {},
   "outputs": [
    {
     "data": {
      "text/plain": [
       "array([42, 36, 33, 32, 53, 27, 43, 50, 35, 41, 40, 65, 54, 56, 26, 48, 24,\n",
       "       21, 57, 67, 28, 63, 62, 47, 34, 68, 25, 31, 30, 20, 49, 37, 45, 61,\n",
       "       64, 44, 52, 46, 23, 38, 39, 51,  0, 59, 29, 60, 55, 58, 71, 22, 73,\n",
       "       66, 69, 19, 72, 70, 74, 75])"
      ]
     },
     "execution_count": 17,
     "metadata": {},
     "output_type": "execute_result"
    }
   ],
   "source": [
    "# Уникальные значения по возрасту клиентов:\n",
    "df['dob_years'].unique()"
   ]
  },
  {
   "cell_type": "markdown",
   "id": "e9a496e2",
   "metadata": {},
   "source": [
    "Аномальные значения в столбце 'dob_years': 0. Вычисление доли и определение необходимости корреткировки значений:"
   ]
  },
  {
   "cell_type": "code",
   "execution_count": 18,
   "id": "262ed606",
   "metadata": {},
   "outputs": [
    {
     "data": {
      "text/plain": [
       "0.004692218350754936"
      ]
     },
     "execution_count": 18,
     "metadata": {},
     "output_type": "execute_result"
    }
   ],
   "source": [
    "# Доля записей со значением \"0\" в столбце 'dob_years'\n",
    "df[df['dob_years']==0]['dob_years'].count() / len(df['dob_years'].index)"
   ]
  },
  {
   "cell_type": "markdown",
   "id": "1f45834f",
   "metadata": {},
   "source": [
    "Доля записей со значением \"0\" в столбце с возратом клиетов менее 1%. Данный показатель не участвует в исследовании, но для чистоты эксперимента, произведена корректировка на медианное значение:"
   ]
  },
  {
   "cell_type": "code",
   "execution_count": 19,
   "id": "5fc3c14f",
   "metadata": {},
   "outputs": [
    {
     "data": {
      "text/plain": [
       "array([42, 36, 33, 32, 53, 27, 43, 50, 35, 41, 40, 65, 54, 56, 26, 48, 24,\n",
       "       21, 57, 67, 28, 63, 62, 47, 34, 68, 25, 31, 30, 20, 49, 37, 45, 61,\n",
       "       64, 44, 52, 46, 23, 38, 39, 51, 59, 29, 60, 55, 58, 71, 22, 73, 66,\n",
       "       69, 19, 72, 70, 74, 75])"
      ]
     },
     "execution_count": 19,
     "metadata": {},
     "output_type": "execute_result"
    }
   ],
   "source": [
    "# Замена \"0\" на медианное значение в столбце 'dob_years'\n",
    "df.loc[df['dob_years']==0, 'dob_years'] = int(df['dob_years'].median())\n",
    "\n",
    "# Проверка уникальных значений после корректировок:\n",
    "df['dob_years'].unique()"
   ]
  },
  {
   "cell_type": "markdown",
   "id": "fb16ebcb",
   "metadata": {},
   "source": [
    "* **Уровень образования клиента:**"
   ]
  },
  {
   "cell_type": "code",
   "execution_count": 20,
   "id": "22ee0ddd",
   "metadata": {},
   "outputs": [
    {
     "data": {
      "text/plain": [
       "array(['высшее', 'среднее', 'Среднее', 'СРЕДНЕЕ', 'ВЫСШЕЕ',\n",
       "       'неоконченное высшее', 'начальное', 'Высшее',\n",
       "       'НЕОКОНЧЕННОЕ ВЫСШЕЕ', 'Неоконченное высшее', 'НАЧАЛЬНОЕ',\n",
       "       'Начальное', 'Ученая степень', 'УЧЕНАЯ СТЕПЕНЬ', 'ученая степень'],\n",
       "      dtype=object)"
      ]
     },
     "execution_count": 20,
     "metadata": {},
     "output_type": "execute_result"
    }
   ],
   "source": [
    "# Уникальные значения по образованию клиентов:\n",
    "df['education'].unique()"
   ]
  },
  {
   "cell_type": "markdown",
   "id": "e88e79d9",
   "metadata": {},
   "source": [
    "Присутствуют дубликаты. Корректировка выполнена в п.`0.5 \"Шаг 2.4. Удаление дубликатов\"`"
   ]
  },
  {
   "cell_type": "markdown",
   "id": "c315abf0",
   "metadata": {},
   "source": [
    "* **Идентификатор уровня образования:**"
   ]
  },
  {
   "cell_type": "code",
   "execution_count": 21,
   "id": "8c76fe7f",
   "metadata": {},
   "outputs": [
    {
     "data": {
      "text/plain": [
       "array([0, 1, 2, 3, 4])"
      ]
     },
     "execution_count": 21,
     "metadata": {},
     "output_type": "execute_result"
    }
   ],
   "source": [
    "# Уникальные значения по идентификатору уровня образованию клиентов:\n",
    "df['education_id'].unique()"
   ]
  },
  {
   "cell_type": "markdown",
   "id": "5793bd39",
   "metadata": {},
   "source": [
    "Соответствие идентификатора и образования:\n",
    "* `0` - высшее;\n",
    "* `1` - среднее;\n",
    "* `2` - неоконченное высшее;\n",
    "* `3` - начальное;\n",
    "* `4` - ученная степень."
   ]
  },
  {
   "cell_type": "markdown",
   "id": "be589fc0",
   "metadata": {},
   "source": [
    "* **Семейное положение:**"
   ]
  },
  {
   "cell_type": "code",
   "execution_count": 22,
   "id": "c771c507",
   "metadata": {},
   "outputs": [
    {
     "data": {
      "text/plain": [
       "array(['женат / замужем', 'гражданский брак', 'вдовец / вдова',\n",
       "       'в разводе', 'Не женат / не замужем'], dtype=object)"
      ]
     },
     "execution_count": 22,
     "metadata": {},
     "output_type": "execute_result"
    }
   ],
   "source": [
    "# Уникальные значения по семейному положению клиентов:\n",
    "df['family_status'].unique()"
   ]
  },
  {
   "cell_type": "markdown",
   "id": "a6c174c1",
   "metadata": {},
   "source": [
    "Присутвтует 'Не женат / не замужем' с буквой в верхнем регистре. Корректировка:"
   ]
  },
  {
   "cell_type": "code",
   "execution_count": 23,
   "id": "cb1d85a1",
   "metadata": {},
   "outputs": [
    {
     "data": {
      "text/plain": [
       "array(['женат / замужем', 'гражданский брак', 'вдовец / вдова',\n",
       "       'в разводе', 'не женат / не замужем'], dtype=object)"
      ]
     },
     "execution_count": 23,
     "metadata": {},
     "output_type": "execute_result"
    }
   ],
   "source": [
    "# Приведение значений столбца 'family_status' к одному регистру\n",
    "df['family_status'] = df['family_status'].str.lower()\n",
    "\n",
    "# Проверка уникальных значений после корреткировки\n",
    "df['family_status'].unique()"
   ]
  },
  {
   "cell_type": "markdown",
   "id": "89a7827b",
   "metadata": {},
   "source": [
    "* **Идентификатор семейного положения:**"
   ]
  },
  {
   "cell_type": "code",
   "execution_count": 24,
   "id": "b6b874f6",
   "metadata": {},
   "outputs": [
    {
     "data": {
      "text/plain": [
       "array([0, 1, 2, 3, 4])"
      ]
     },
     "execution_count": 24,
     "metadata": {},
     "output_type": "execute_result"
    }
   ],
   "source": [
    "# Уникальные значения по индетификатору семейного положения клиентов:\n",
    "df['family_status_id'].unique()"
   ]
  },
  {
   "cell_type": "markdown",
   "id": "472aa513",
   "metadata": {},
   "source": [
    "Соответствие идентификатора и семейного положения:\n",
    "* `0` - женат / замужем;\n",
    "* `1` - гражданский брак;\n",
    "* `2` - вдовец / вдова;\n",
    "* `3` - в разводе;\n",
    "* `4` - не женат / не замужем."
   ]
  },
  {
   "cell_type": "markdown",
   "id": "14f18a75",
   "metadata": {},
   "source": [
    "* **Пол клиента:**"
   ]
  },
  {
   "cell_type": "code",
   "execution_count": 25,
   "id": "631356e1",
   "metadata": {},
   "outputs": [
    {
     "data": {
      "text/plain": [
       "array(['F', 'M', 'XNA'], dtype=object)"
      ]
     },
     "execution_count": 25,
     "metadata": {},
     "output_type": "execute_result"
    }
   ],
   "source": [
    "# Уникальные значения пола клиентов:\n",
    "df['gender'].unique()"
   ]
  },
  {
   "cell_type": "markdown",
   "id": "13ff586b",
   "metadata": {},
   "source": [
    "Присутствует аномальное значение `'XNA'`."
   ]
  },
  {
   "cell_type": "code",
   "execution_count": 26,
   "id": "77c13b05",
   "metadata": {},
   "outputs": [
    {
     "data": {
      "text/html": [
       "<div>\n",
       "<style scoped>\n",
       "    .dataframe tbody tr th:only-of-type {\n",
       "        vertical-align: middle;\n",
       "    }\n",
       "\n",
       "    .dataframe tbody tr th {\n",
       "        vertical-align: top;\n",
       "    }\n",
       "\n",
       "    .dataframe thead th {\n",
       "        text-align: right;\n",
       "    }\n",
       "</style>\n",
       "<table border=\"1\" class=\"dataframe\">\n",
       "  <thead>\n",
       "    <tr style=\"text-align: right;\">\n",
       "      <th></th>\n",
       "      <th>children</th>\n",
       "      <th>days_employed</th>\n",
       "      <th>dob_years</th>\n",
       "      <th>education</th>\n",
       "      <th>education_id</th>\n",
       "      <th>family_status</th>\n",
       "      <th>family_status_id</th>\n",
       "      <th>gender</th>\n",
       "      <th>income_type</th>\n",
       "      <th>debt</th>\n",
       "      <th>total_income</th>\n",
       "      <th>purpose</th>\n",
       "    </tr>\n",
       "  </thead>\n",
       "  <tbody>\n",
       "    <tr>\n",
       "      <th>10701</th>\n",
       "      <td>0</td>\n",
       "      <td>2358.600502</td>\n",
       "      <td>24</td>\n",
       "      <td>неоконченное высшее</td>\n",
       "      <td>2</td>\n",
       "      <td>гражданский брак</td>\n",
       "      <td>1</td>\n",
       "      <td>XNA</td>\n",
       "      <td>компаньон</td>\n",
       "      <td>0</td>\n",
       "      <td>203905.157261</td>\n",
       "      <td>покупка недвижимости</td>\n",
       "    </tr>\n",
       "  </tbody>\n",
       "</table>\n",
       "</div>"
      ],
      "text/plain": [
       "       children  days_employed  dob_years            education  education_id  \\\n",
       "10701         0    2358.600502         24  неоконченное высшее             2   \n",
       "\n",
       "          family_status  family_status_id gender income_type  debt  \\\n",
       "10701  гражданский брак                 1    XNA   компаньон     0   \n",
       "\n",
       "        total_income               purpose  \n",
       "10701  203905.157261  покупка недвижимости  "
      ]
     },
     "execution_count": 26,
     "metadata": {},
     "output_type": "execute_result"
    }
   ],
   "source": [
    "# отоброжение строки со значением 'XNA' в столбце 'gender'\n",
    "df[df['gender']=='XNA']"
   ]
  },
  {
   "cell_type": "markdown",
   "id": "f2517b6b",
   "metadata": {},
   "source": [
    "Пол клиента не является ключевым показателем в исследовании. Возможно пол клиента не относится к 'F' или 'M'. Значение остается без корректировки."
   ]
  },
  {
   "cell_type": "markdown",
   "id": "c8751c05",
   "metadata": {},
   "source": [
    "* **Тип занятости:**"
   ]
  },
  {
   "cell_type": "code",
   "execution_count": 27,
   "id": "636fb42a",
   "metadata": {},
   "outputs": [
    {
     "data": {
      "text/plain": [
       "array(['сотрудник', 'пенсионер', 'компаньон', 'госслужащий',\n",
       "       'безработный', 'предприниматель', 'студент', 'в декрете'],\n",
       "      dtype=object)"
      ]
     },
     "execution_count": 27,
     "metadata": {},
     "output_type": "execute_result"
    }
   ],
   "source": [
    "# Уникальные значения по типам занятости клиентов:\n",
    "df['income_type'].unique()"
   ]
  },
  {
   "cell_type": "markdown",
   "id": "baedfc94",
   "metadata": {},
   "source": [
    "* **Задолженность по возврату кредитов:**"
   ]
  },
  {
   "cell_type": "code",
   "execution_count": 28,
   "id": "98f38f21",
   "metadata": {},
   "outputs": [
    {
     "data": {
      "text/plain": [
       "array([0, 1])"
      ]
     },
     "execution_count": 28,
     "metadata": {},
     "output_type": "execute_result"
    }
   ],
   "source": [
    "# Уникальные значения по задолжности:\n",
    "df['debt'].unique()"
   ]
  },
  {
   "cell_type": "markdown",
   "id": "43cf53f5",
   "metadata": {},
   "source": [
    "* **Ежемесячный доход:**"
   ]
  },
  {
   "cell_type": "code",
   "execution_count": 29,
   "id": "61cdeeba",
   "metadata": {},
   "outputs": [
    {
     "data": {
      "text/plain": [
       "0"
      ]
     },
     "execution_count": 29,
     "metadata": {},
     "output_type": "execute_result"
    }
   ],
   "source": [
    "# Проверка отрицательных значений:\n",
    "df[df['total_income']<0]['total_income'].count()"
   ]
  },
  {
   "cell_type": "markdown",
   "id": "30e74b07",
   "metadata": {},
   "source": [
    "* **Цель получения кредита:**"
   ]
  },
  {
   "cell_type": "code",
   "execution_count": 30,
   "id": "701174d2",
   "metadata": {},
   "outputs": [
    {
     "data": {
      "text/plain": [
       "array(['покупка жилья', 'приобретение автомобиля',\n",
       "       'дополнительное образование', 'сыграть свадьбу',\n",
       "       'операции с жильем', 'образование', 'на проведение свадьбы',\n",
       "       'покупка жилья для семьи', 'покупка недвижимости',\n",
       "       'покупка коммерческой недвижимости', 'покупка жилой недвижимости',\n",
       "       'строительство собственной недвижимости', 'недвижимость',\n",
       "       'строительство недвижимости', 'на покупку подержанного автомобиля',\n",
       "       'на покупку своего автомобиля',\n",
       "       'операции с коммерческой недвижимостью',\n",
       "       'строительство жилой недвижимости', 'жилье',\n",
       "       'операции со своей недвижимостью', 'автомобили',\n",
       "       'заняться образованием', 'сделка с подержанным автомобилем',\n",
       "       'получение образования', 'автомобиль', 'свадьба',\n",
       "       'получение дополнительного образования', 'покупка своего жилья',\n",
       "       'операции с недвижимостью', 'получение высшего образования',\n",
       "       'свой автомобиль', 'сделка с автомобилем',\n",
       "       'профильное образование', 'высшее образование',\n",
       "       'покупка жилья для сдачи', 'на покупку автомобиля', 'ремонт жилью',\n",
       "       'заняться высшим образованием'], dtype=object)"
      ]
     },
     "execution_count": 30,
     "metadata": {},
     "output_type": "execute_result"
    }
   ],
   "source": [
    "# Уникальные значения по целям получения кредита:\n",
    "df['purpose'].unique()"
   ]
  },
  {
   "cell_type": "markdown",
   "id": "ead8dedc",
   "metadata": {},
   "source": [
    "Присутвует множество вариаций одного и того же действия. Данные будут использованы при категоризации в пункте `\"0.8 Шаг 2.7. Категоризация целей кредита.\"`"
   ]
  },
  {
   "cell_type": "markdown",
   "id": "7b72f86b",
   "metadata": {},
   "source": [
    "### Шаг 2.3. Изменение типов данных."
   ]
  },
  {
   "cell_type": "code",
   "execution_count": 31,
   "id": "8598d0fc",
   "metadata": {},
   "outputs": [
    {
     "name": "stdout",
     "output_type": "stream",
     "text": [
      "<class 'pandas.core.frame.DataFrame'>\n",
      "RangeIndex: 21525 entries, 0 to 21524\n",
      "Data columns (total 12 columns):\n",
      " #   Column            Non-Null Count  Dtype  \n",
      "---  ------            --------------  -----  \n",
      " 0   children          21525 non-null  int64  \n",
      " 1   days_employed     21525 non-null  float64\n",
      " 2   dob_years         21525 non-null  int64  \n",
      " 3   education         21525 non-null  object \n",
      " 4   education_id      21525 non-null  int64  \n",
      " 5   family_status     21525 non-null  object \n",
      " 6   family_status_id  21525 non-null  int64  \n",
      " 7   gender            21525 non-null  object \n",
      " 8   income_type       21525 non-null  object \n",
      " 9   debt              21525 non-null  int64  \n",
      " 10  total_income      21525 non-null  int64  \n",
      " 11  purpose           21525 non-null  object \n",
      "dtypes: float64(1), int64(6), object(5)\n",
      "memory usage: 2.0+ MB\n"
     ]
    }
   ],
   "source": [
    "# Замена вещественного типа данных в столбце `'total_income'` на целочисленный\n",
    "df['total_income'] = df['total_income'].astype('int')\n",
    "\n",
    "# Проверка после корректировки\n",
    "df.info()"
   ]
  },
  {
   "cell_type": "markdown",
   "id": "1256776f",
   "metadata": {},
   "source": [
    "### Шаг 2.4. Удаление дубликатов."
   ]
  },
  {
   "cell_type": "markdown",
   "id": "43fe7b0d",
   "metadata": {},
   "source": [
    "**Неявные дубликаты:**"
   ]
  },
  {
   "cell_type": "code",
   "execution_count": 32,
   "id": "c158a61c",
   "metadata": {},
   "outputs": [
    {
     "data": {
      "text/plain": [
       "array(['высшее', 'среднее', 'неоконченное высшее', 'начальное',\n",
       "       'ученая степень'], dtype=object)"
      ]
     },
     "execution_count": 32,
     "metadata": {},
     "output_type": "execute_result"
    }
   ],
   "source": [
    "# Приведение значений столбца 'education' к одному регистру\n",
    "df['education'] = df['education'].str.lower()\n",
    "\n",
    "# Проверка уникальных значений после корреткировки\n",
    "df['education'].unique()"
   ]
  },
  {
   "cell_type": "markdown",
   "id": "61e8c0e3",
   "metadata": {},
   "source": [
    "**Пояснения:** явные дубликаты найдены и посчитаны с помощью `.duplicated().sum()`. Неявные будликаты были выявлены в ходе проверки данных на аномалии с использованием уникальных значений `unique()`, т.к. основные отличия состояли в разнице регистров, то для устранения неявных дубликатов использовалось приведение к одному регистру `.str.lower()`."
   ]
  },
  {
   "cell_type": "markdown",
   "id": "a965385f",
   "metadata": {},
   "source": [
    "**Явные дубликаты:**"
   ]
  },
  {
   "cell_type": "code",
   "execution_count": 33,
   "id": "1ed344ad",
   "metadata": {},
   "outputs": [
    {
     "data": {
      "text/plain": [
       "72"
      ]
     },
     "execution_count": 33,
     "metadata": {},
     "output_type": "execute_result"
    }
   ],
   "source": [
    "# подсчёт явных дубликатов\n",
    "df.duplicated().sum()"
   ]
  },
  {
   "cell_type": "code",
   "execution_count": 34,
   "id": "3cd405d3",
   "metadata": {},
   "outputs": [
    {
     "data": {
      "text/plain": [
       "0"
      ]
     },
     "execution_count": 34,
     "metadata": {},
     "output_type": "execute_result"
    }
   ],
   "source": [
    "# удаление явных дубликатов (с удалением старых индексов и формированием новых)\n",
    "df = df.drop_duplicates().reset_index(drop=True)\n",
    "\n",
    "# проверка на отсутствие дубликатов\n",
    "df.duplicated().sum()"
   ]
  },
  {
   "cell_type": "markdown",
   "id": "23c0ca7d",
   "metadata": {},
   "source": [
    "### Шаг 2.5. Формирование дополнительных датафреймов словарей, декомпозиция исходного датафрейма."
   ]
  },
  {
   "cell_type": "markdown",
   "id": "eaa87355",
   "metadata": {},
   "source": [
    "**Формирование дополнительного датафрейма словаря для образования:**"
   ]
  },
  {
   "cell_type": "code",
   "execution_count": 35,
   "id": "b60de3df",
   "metadata": {},
   "outputs": [
    {
     "data": {
      "text/html": [
       "<div>\n",
       "<style scoped>\n",
       "    .dataframe tbody tr th:only-of-type {\n",
       "        vertical-align: middle;\n",
       "    }\n",
       "\n",
       "    .dataframe tbody tr th {\n",
       "        vertical-align: top;\n",
       "    }\n",
       "\n",
       "    .dataframe thead th {\n",
       "        text-align: right;\n",
       "    }\n",
       "</style>\n",
       "<table border=\"1\" class=\"dataframe\">\n",
       "  <thead>\n",
       "    <tr style=\"text-align: right;\">\n",
       "      <th></th>\n",
       "      <th>education</th>\n",
       "      <th>education_id</th>\n",
       "    </tr>\n",
       "  </thead>\n",
       "  <tbody>\n",
       "    <tr>\n",
       "      <th>0</th>\n",
       "      <td>высшее</td>\n",
       "      <td>0</td>\n",
       "    </tr>\n",
       "    <tr>\n",
       "      <th>1</th>\n",
       "      <td>среднее</td>\n",
       "      <td>1</td>\n",
       "    </tr>\n",
       "    <tr>\n",
       "      <th>2</th>\n",
       "      <td>неоконченное высшее</td>\n",
       "      <td>2</td>\n",
       "    </tr>\n",
       "    <tr>\n",
       "      <th>3</th>\n",
       "      <td>начальное</td>\n",
       "      <td>3</td>\n",
       "    </tr>\n",
       "    <tr>\n",
       "      <th>4</th>\n",
       "      <td>ученая степень</td>\n",
       "      <td>4</td>\n",
       "    </tr>\n",
       "  </tbody>\n",
       "</table>\n",
       "</div>"
      ],
      "text/plain": [
       "             education  education_id\n",
       "0               высшее             0\n",
       "1              среднее             1\n",
       "2  неоконченное высшее             2\n",
       "3            начальное             3\n",
       "4       ученая степень             4"
      ]
     },
     "execution_count": 35,
     "metadata": {},
     "output_type": "execute_result"
    }
   ],
   "source": [
    "# Создание отдельной таблицы education_dict\n",
    "education_dict = df[['education', 'education_id']]\n",
    "\n",
    "# Удаление дубликатов\n",
    "education_dict = education_dict.drop_duplicates().reset_index(drop=True)\n",
    "\n",
    "# Проверка\n",
    "education_dict"
   ]
  },
  {
   "cell_type": "markdown",
   "id": "285811c5",
   "metadata": {},
   "source": [
    "**Формирование дополнительного датафрейма словаря для семейного положения:**"
   ]
  },
  {
   "cell_type": "code",
   "execution_count": 36,
   "id": "5c031f2b",
   "metadata": {},
   "outputs": [
    {
     "data": {
      "text/html": [
       "<div>\n",
       "<style scoped>\n",
       "    .dataframe tbody tr th:only-of-type {\n",
       "        vertical-align: middle;\n",
       "    }\n",
       "\n",
       "    .dataframe tbody tr th {\n",
       "        vertical-align: top;\n",
       "    }\n",
       "\n",
       "    .dataframe thead th {\n",
       "        text-align: right;\n",
       "    }\n",
       "</style>\n",
       "<table border=\"1\" class=\"dataframe\">\n",
       "  <thead>\n",
       "    <tr style=\"text-align: right;\">\n",
       "      <th></th>\n",
       "      <th>family_status</th>\n",
       "      <th>family_status_id</th>\n",
       "    </tr>\n",
       "  </thead>\n",
       "  <tbody>\n",
       "    <tr>\n",
       "      <th>0</th>\n",
       "      <td>женат / замужем</td>\n",
       "      <td>0</td>\n",
       "    </tr>\n",
       "    <tr>\n",
       "      <th>1</th>\n",
       "      <td>гражданский брак</td>\n",
       "      <td>1</td>\n",
       "    </tr>\n",
       "    <tr>\n",
       "      <th>2</th>\n",
       "      <td>вдовец / вдова</td>\n",
       "      <td>2</td>\n",
       "    </tr>\n",
       "    <tr>\n",
       "      <th>3</th>\n",
       "      <td>в разводе</td>\n",
       "      <td>3</td>\n",
       "    </tr>\n",
       "    <tr>\n",
       "      <th>4</th>\n",
       "      <td>не женат / не замужем</td>\n",
       "      <td>4</td>\n",
       "    </tr>\n",
       "  </tbody>\n",
       "</table>\n",
       "</div>"
      ],
      "text/plain": [
       "           family_status  family_status_id\n",
       "0        женат / замужем                 0\n",
       "1       гражданский брак                 1\n",
       "2         вдовец / вдова                 2\n",
       "3              в разводе                 3\n",
       "4  не женат / не замужем                 4"
      ]
     },
     "execution_count": 36,
     "metadata": {},
     "output_type": "execute_result"
    }
   ],
   "source": [
    "# Создание отдельной таблицы family_status_dict\n",
    "family_status_dict = df[['family_status', 'family_status_id']]\n",
    "\n",
    "# Удаление дубликатов\n",
    "family_status_dict = family_status_dict.drop_duplicates().reset_index(drop=True)\n",
    "\n",
    "# Проверка\n",
    "family_status_dict"
   ]
  },
  {
   "cell_type": "markdown",
   "id": "1c504503",
   "metadata": {},
   "source": [
    "**Декомпозиция исходного датафрейма:**"
   ]
  },
  {
   "cell_type": "code",
   "execution_count": 37,
   "id": "169cbeae",
   "metadata": {},
   "outputs": [
    {
     "name": "stdout",
     "output_type": "stream",
     "text": [
      "<class 'pandas.core.frame.DataFrame'>\n",
      "RangeIndex: 21453 entries, 0 to 21452\n",
      "Data columns (total 10 columns):\n",
      " #   Column            Non-Null Count  Dtype  \n",
      "---  ------            --------------  -----  \n",
      " 0   children          21453 non-null  int64  \n",
      " 1   days_employed     21453 non-null  float64\n",
      " 2   dob_years         21453 non-null  int64  \n",
      " 3   education_id      21453 non-null  int64  \n",
      " 4   family_status_id  21453 non-null  int64  \n",
      " 5   gender            21453 non-null  object \n",
      " 6   income_type       21453 non-null  object \n",
      " 7   debt              21453 non-null  int64  \n",
      " 8   total_income      21453 non-null  int64  \n",
      " 9   purpose           21453 non-null  object \n",
      "dtypes: float64(1), int64(6), object(3)\n",
      "memory usage: 1.6+ MB\n"
     ]
    }
   ],
   "source": [
    "# Удаление столбцов 'education' и 'family_status'\n",
    "df = df.drop('education', 1)\n",
    "df = df.drop('family_status', 1)\n",
    "\n",
    "# Проверка после удаления столбцов\n",
    "df.info()"
   ]
  },
  {
   "cell_type": "markdown",
   "id": "ee3ddaac",
   "metadata": {},
   "source": [
    "### Шаг 2.6. Категоризация дохода."
   ]
  },
  {
   "cell_type": "code",
   "execution_count": 38,
   "id": "67edddc5",
   "metadata": {},
   "outputs": [
    {
     "data": {
      "text/html": [
       "<div>\n",
       "<style scoped>\n",
       "    .dataframe tbody tr th:only-of-type {\n",
       "        vertical-align: middle;\n",
       "    }\n",
       "\n",
       "    .dataframe tbody tr th {\n",
       "        vertical-align: top;\n",
       "    }\n",
       "\n",
       "    .dataframe thead th {\n",
       "        text-align: right;\n",
       "    }\n",
       "</style>\n",
       "<table border=\"1\" class=\"dataframe\">\n",
       "  <thead>\n",
       "    <tr style=\"text-align: right;\">\n",
       "      <th></th>\n",
       "      <th>children</th>\n",
       "      <th>days_employed</th>\n",
       "      <th>dob_years</th>\n",
       "      <th>education_id</th>\n",
       "      <th>family_status_id</th>\n",
       "      <th>gender</th>\n",
       "      <th>income_type</th>\n",
       "      <th>debt</th>\n",
       "      <th>total_income</th>\n",
       "      <th>purpose</th>\n",
       "      <th>total_income_category</th>\n",
       "    </tr>\n",
       "  </thead>\n",
       "  <tbody>\n",
       "    <tr>\n",
       "      <th>0</th>\n",
       "      <td>1</td>\n",
       "      <td>8437.673028</td>\n",
       "      <td>42</td>\n",
       "      <td>0</td>\n",
       "      <td>0</td>\n",
       "      <td>F</td>\n",
       "      <td>сотрудник</td>\n",
       "      <td>0</td>\n",
       "      <td>253875</td>\n",
       "      <td>покупка жилья</td>\n",
       "      <td>B</td>\n",
       "    </tr>\n",
       "    <tr>\n",
       "      <th>1</th>\n",
       "      <td>1</td>\n",
       "      <td>4024.803754</td>\n",
       "      <td>36</td>\n",
       "      <td>1</td>\n",
       "      <td>0</td>\n",
       "      <td>F</td>\n",
       "      <td>сотрудник</td>\n",
       "      <td>0</td>\n",
       "      <td>112080</td>\n",
       "      <td>приобретение автомобиля</td>\n",
       "      <td>C</td>\n",
       "    </tr>\n",
       "    <tr>\n",
       "      <th>2</th>\n",
       "      <td>0</td>\n",
       "      <td>5623.422610</td>\n",
       "      <td>33</td>\n",
       "      <td>1</td>\n",
       "      <td>0</td>\n",
       "      <td>M</td>\n",
       "      <td>сотрудник</td>\n",
       "      <td>0</td>\n",
       "      <td>145885</td>\n",
       "      <td>покупка жилья</td>\n",
       "      <td>C</td>\n",
       "    </tr>\n",
       "    <tr>\n",
       "      <th>3</th>\n",
       "      <td>3</td>\n",
       "      <td>4124.747207</td>\n",
       "      <td>32</td>\n",
       "      <td>1</td>\n",
       "      <td>0</td>\n",
       "      <td>M</td>\n",
       "      <td>сотрудник</td>\n",
       "      <td>0</td>\n",
       "      <td>267628</td>\n",
       "      <td>дополнительное образование</td>\n",
       "      <td>B</td>\n",
       "    </tr>\n",
       "    <tr>\n",
       "      <th>4</th>\n",
       "      <td>0</td>\n",
       "      <td>14177.753002</td>\n",
       "      <td>53</td>\n",
       "      <td>1</td>\n",
       "      <td>1</td>\n",
       "      <td>F</td>\n",
       "      <td>пенсионер</td>\n",
       "      <td>0</td>\n",
       "      <td>158616</td>\n",
       "      <td>сыграть свадьбу</td>\n",
       "      <td>C</td>\n",
       "    </tr>\n",
       "  </tbody>\n",
       "</table>\n",
       "</div>"
      ],
      "text/plain": [
       "   children  days_employed  dob_years  education_id  family_status_id gender  \\\n",
       "0         1    8437.673028         42             0                 0      F   \n",
       "1         1    4024.803754         36             1                 0      F   \n",
       "2         0    5623.422610         33             1                 0      M   \n",
       "3         3    4124.747207         32             1                 0      M   \n",
       "4         0   14177.753002         53             1                 1      F   \n",
       "\n",
       "  income_type  debt  total_income                     purpose  \\\n",
       "0   сотрудник     0        253875               покупка жилья   \n",
       "1   сотрудник     0        112080     приобретение автомобиля   \n",
       "2   сотрудник     0        145885               покупка жилья   \n",
       "3   сотрудник     0        267628  дополнительное образование   \n",
       "4   пенсионер     0        158616             сыграть свадьбу   \n",
       "\n",
       "  total_income_category  \n",
       "0                     B  \n",
       "1                     C  \n",
       "2                     C  \n",
       "3                     B  \n",
       "4                     C  "
      ]
     },
     "execution_count": 38,
     "metadata": {},
     "output_type": "execute_result"
    }
   ],
   "source": [
    "# Создание функции, которая определяет категорию в зависимости от дохода клиента\n",
    "def income_group(income):\n",
    "    if income < 30000:\n",
    "        return 'E'\n",
    "    elif 30001 <= income <= 50000:\n",
    "        return 'D'\n",
    "    elif 50001 <= income <= 200000:\n",
    "        return 'C'\n",
    "    elif 200001 <= income <= 1000000:\n",
    "        return 'B'\n",
    "    else:\n",
    "        return 'A'\n",
    "    \n",
    "# Создание столбца с категориями доходов\n",
    "df['total_income_category'] = df['total_income'].apply(income_group)\n",
    "\n",
    "# Проверка после добавления столбца с категориями доходов\n",
    "df.head()"
   ]
  },
  {
   "cell_type": "markdown",
   "id": "65ad39e0",
   "metadata": {},
   "source": [
    "### Шаг 2.7. Категоризация целей кредита."
   ]
  },
  {
   "cell_type": "code",
   "execution_count": 39,
   "id": "51358438",
   "metadata": {},
   "outputs": [
    {
     "data": {
      "text/plain": [
       "0"
      ]
     },
     "execution_count": 39,
     "metadata": {},
     "output_type": "execute_result"
    }
   ],
   "source": [
    "# Создание списков по категориям\n",
    "#auto = ['приобретение автомобиля', 'на покупку подержанного автомобиля', 'на покупку своего автомобиля', 'автомобили', 'сделка с подержанным автомобилем', 'автомобиль', 'свой автомобиль', 'сделка с автомобилем', 'на покупку автомобиля']\n",
    "#realty = ['покупка жилья', 'операции с жильем', 'покупка жилья для семьи', 'покупка недвижимости', 'покупка коммерческой недвижимости', 'покупка жилой недвижимости', 'строительство собственной недвижимости', 'недвижимость', 'строительство недвижимости', 'операции с коммерческой недвижимостью', 'строительство жилой недвижимости', 'жилье', 'операции со своей недвижимостью', 'покупка своего жилья', 'операции с недвижимостью', 'ремонт жилью', 'покупка жилья для сдачи']\n",
    "#wedding = ['сыграть свадьбу', 'на проведение свадьбы', 'свадьба']\n",
    "#study = ['дополнительное образование', 'образование', 'заняться образованием', 'получение образования', 'получение дополнительного образования', 'получение высшего образования', 'профильное образование', 'высшее образование', 'заняться высшим образованием']\n",
    "\n",
    "# Создание функции, которая определяет категорию в зависимости от целей кредита\n",
    "def porpose_group(porpose_name):\n",
    "    if 'авто' in porpose_name:\n",
    "        return 'операции с автомобилем'\n",
    "    elif 'жиль' or 'недвижимост' in porpose_name:\n",
    "        return 'операции с недвижимостью'\n",
    "    elif 'свадьб' in porpose_name:\n",
    "        return 'проведение свадьбы'\n",
    "    elif 'образовани' in porpose_name:\n",
    "        return 'получение образования'\n",
    "    else:\n",
    "        return 'категория не определена'\n",
    "    \n",
    "# Создание столбца с категориями по целям кредитования\n",
    "df['purpose_category'] = df['purpose'].apply(porpose_group)\n",
    "\n",
    "# Проверка после добавления столбца с категориями доходов\n",
    "df.head()\n",
    "\n",
    "# Проверка на отсутствие 'категория не определена'\n",
    "df[df['purpose_category']=='категория не определена']['purpose_category'].count()"
   ]
  },
  {
   "cell_type": "markdown",
   "id": "ca91281d",
   "metadata": {},
   "source": [
    "### Ответы на вопросы."
   ]
  },
  {
   "cell_type": "markdown",
   "id": "8314c617",
   "metadata": {},
   "source": [
    "##### Вопрос 1: Есть ли зависимость между количеством детей и возвратом кредита в срок?"
   ]
  },
  {
   "cell_type": "code",
   "execution_count": 40,
   "id": "5b9a270c",
   "metadata": {},
   "outputs": [
    {
     "data": {
      "text/html": [
       "<div>\n",
       "<style scoped>\n",
       "    .dataframe tbody tr th:only-of-type {\n",
       "        vertical-align: middle;\n",
       "    }\n",
       "\n",
       "    .dataframe tbody tr th {\n",
       "        vertical-align: top;\n",
       "    }\n",
       "\n",
       "    .dataframe thead tr th {\n",
       "        text-align: left;\n",
       "    }\n",
       "\n",
       "    .dataframe thead tr:last-of-type th {\n",
       "        text-align: right;\n",
       "    }\n",
       "</style>\n",
       "<table border=\"1\" class=\"dataframe\">\n",
       "  <thead>\n",
       "    <tr>\n",
       "      <th></th>\n",
       "      <th>count</th>\n",
       "      <th>mean</th>\n",
       "    </tr>\n",
       "    <tr>\n",
       "      <th></th>\n",
       "      <th>debt</th>\n",
       "      <th>debt</th>\n",
       "    </tr>\n",
       "    <tr>\n",
       "      <th>children</th>\n",
       "      <th></th>\n",
       "      <th></th>\n",
       "    </tr>\n",
       "  </thead>\n",
       "  <tbody>\n",
       "    <tr>\n",
       "      <th>0</th>\n",
       "      <td>14090</td>\n",
       "      <td>0.075444</td>\n",
       "    </tr>\n",
       "    <tr>\n",
       "      <th>1</th>\n",
       "      <td>4855</td>\n",
       "      <td>0.091658</td>\n",
       "    </tr>\n",
       "    <tr>\n",
       "      <th>2</th>\n",
       "      <td>2128</td>\n",
       "      <td>0.094925</td>\n",
       "    </tr>\n",
       "    <tr>\n",
       "      <th>3</th>\n",
       "      <td>330</td>\n",
       "      <td>0.081818</td>\n",
       "    </tr>\n",
       "    <tr>\n",
       "      <th>4</th>\n",
       "      <td>41</td>\n",
       "      <td>0.097561</td>\n",
       "    </tr>\n",
       "    <tr>\n",
       "      <th>5</th>\n",
       "      <td>9</td>\n",
       "      <td>0.000000</td>\n",
       "    </tr>\n",
       "  </tbody>\n",
       "</table>\n",
       "</div>"
      ],
      "text/plain": [
       "          count      mean\n",
       "           debt      debt\n",
       "children                 \n",
       "0         14090  0.075444\n",
       "1          4855  0.091658\n",
       "2          2128  0.094925\n",
       "3           330  0.081818\n",
       "4            41  0.097561\n",
       "5             9  0.000000"
      ]
     },
     "execution_count": 40,
     "metadata": {},
     "output_type": "execute_result"
    }
   ],
   "source": [
    "# Расчет конверсии задолжностей в зависимости от количества детей\n",
    "df.pivot_table(index='children', values='debt', aggfunc=['count', 'mean'])"
   ]
  },
  {
   "cell_type": "markdown",
   "id": "d0679743",
   "metadata": {},
   "source": [
    "**Вывод 1:** клиенты с детьми (от 1 до 4) имеют большую конверсию задолжностей, чем бездетные. При этом, если есть 5 детей, то задолжностей нет."
   ]
  },
  {
   "cell_type": "markdown",
   "id": "adef8f91",
   "metadata": {},
   "source": [
    "##### Вопрос 2: Есть ли зависимость между семейным положением и возвратом кредита в срок?"
   ]
  },
  {
   "cell_type": "code",
   "execution_count": 41,
   "id": "a4ef966c",
   "metadata": {},
   "outputs": [
    {
     "data": {
      "text/plain": [
       "family_status\n",
       "в разводе                0.071130\n",
       "вдовец / вдова           0.065693\n",
       "гражданский брак         0.093494\n",
       "женат / замужем          0.075452\n",
       "не женат / не замужем    0.097509\n",
       "Name: debt, dtype: float64"
      ]
     },
     "execution_count": 41,
     "metadata": {},
     "output_type": "execute_result"
    }
   ],
   "source": [
    "# Объединение декомпозитной таблицы со словарем семейного положения\n",
    "df_family = df.merge(family_status_dict, on='family_status_id', how='left')\n",
    "\n",
    "# Расчет конверсии задолжностей в зависимости от семейного положения\n",
    "df_family.groupby('family_status')['debt'].sum() / df_family.groupby('family_status')['debt'].count()"
   ]
  },
  {
   "cell_type": "markdown",
   "id": "6a71421d",
   "metadata": {},
   "source": [
    "**Вывод 2:** наибольшая конверсия задолжностей наблюдается у не женатых / не замужних клиентов и находящихся в гражданском браке. Средние значения конверсии задолжностей у тех, кто официально состоит в браке или разведен. Наименьшие значения - вдовцы / вдовы."
   ]
  },
  {
   "cell_type": "markdown",
   "id": "e1d384ff",
   "metadata": {},
   "source": [
    "##### Вопрос 3: Есть ли зависимость между уровнем дохода и возвратом кредита в срок?"
   ]
  },
  {
   "cell_type": "code",
   "execution_count": 42,
   "id": "2ae92c85",
   "metadata": {},
   "outputs": [
    {
     "data": {
      "text/html": [
       "<div>\n",
       "<style scoped>\n",
       "    .dataframe tbody tr th:only-of-type {\n",
       "        vertical-align: middle;\n",
       "    }\n",
       "\n",
       "    .dataframe tbody tr th {\n",
       "        vertical-align: top;\n",
       "    }\n",
       "\n",
       "    .dataframe thead tr th {\n",
       "        text-align: left;\n",
       "    }\n",
       "\n",
       "    .dataframe thead tr:last-of-type th {\n",
       "        text-align: right;\n",
       "    }\n",
       "</style>\n",
       "<table border=\"1\" class=\"dataframe\">\n",
       "  <thead>\n",
       "    <tr>\n",
       "      <th></th>\n",
       "      <th colspan=\"9\" halign=\"left\">count</th>\n",
       "      <th colspan=\"9\" halign=\"left\">mean</th>\n",
       "    </tr>\n",
       "    <tr>\n",
       "      <th>income_type</th>\n",
       "      <th>безработный</th>\n",
       "      <th>в декрете</th>\n",
       "      <th>госслужащий</th>\n",
       "      <th>компаньон</th>\n",
       "      <th>пенсионер</th>\n",
       "      <th>предприниматель</th>\n",
       "      <th>сотрудник</th>\n",
       "      <th>студент</th>\n",
       "      <th>All</th>\n",
       "      <th>безработный</th>\n",
       "      <th>в декрете</th>\n",
       "      <th>госслужащий</th>\n",
       "      <th>компаньон</th>\n",
       "      <th>пенсионер</th>\n",
       "      <th>предприниматель</th>\n",
       "      <th>сотрудник</th>\n",
       "      <th>студент</th>\n",
       "      <th>All</th>\n",
       "    </tr>\n",
       "    <tr>\n",
       "      <th>total_income_category</th>\n",
       "      <th></th>\n",
       "      <th></th>\n",
       "      <th></th>\n",
       "      <th></th>\n",
       "      <th></th>\n",
       "      <th></th>\n",
       "      <th></th>\n",
       "      <th></th>\n",
       "      <th></th>\n",
       "      <th></th>\n",
       "      <th></th>\n",
       "      <th></th>\n",
       "      <th></th>\n",
       "      <th></th>\n",
       "      <th></th>\n",
       "      <th></th>\n",
       "      <th></th>\n",
       "      <th></th>\n",
       "    </tr>\n",
       "  </thead>\n",
       "  <tbody>\n",
       "    <tr>\n",
       "      <th>A</th>\n",
       "      <td>0</td>\n",
       "      <td>0</td>\n",
       "      <td>0</td>\n",
       "      <td>15</td>\n",
       "      <td>0</td>\n",
       "      <td>0</td>\n",
       "      <td>10</td>\n",
       "      <td>0</td>\n",
       "      <td>25</td>\n",
       "      <td>0.0</td>\n",
       "      <td>0</td>\n",
       "      <td>0.000000</td>\n",
       "      <td>0.133333</td>\n",
       "      <td>0.000000</td>\n",
       "      <td>0</td>\n",
       "      <td>0.000000</td>\n",
       "      <td>0</td>\n",
       "      <td>0.080000</td>\n",
       "    </tr>\n",
       "    <tr>\n",
       "      <th>B</th>\n",
       "      <td>1</td>\n",
       "      <td>0</td>\n",
       "      <td>369</td>\n",
       "      <td>1741</td>\n",
       "      <td>552</td>\n",
       "      <td>1</td>\n",
       "      <td>2377</td>\n",
       "      <td>0</td>\n",
       "      <td>5041</td>\n",
       "      <td>0.0</td>\n",
       "      <td>0</td>\n",
       "      <td>0.048780</td>\n",
       "      <td>0.063182</td>\n",
       "      <td>0.056159</td>\n",
       "      <td>0</td>\n",
       "      <td>0.082878</td>\n",
       "      <td>0</td>\n",
       "      <td>0.070621</td>\n",
       "    </tr>\n",
       "    <tr>\n",
       "      <th>C</th>\n",
       "      <td>1</td>\n",
       "      <td>1</td>\n",
       "      <td>1063</td>\n",
       "      <td>3296</td>\n",
       "      <td>3097</td>\n",
       "      <td>1</td>\n",
       "      <td>8555</td>\n",
       "      <td>1</td>\n",
       "      <td>16015</td>\n",
       "      <td>1.0</td>\n",
       "      <td>1</td>\n",
       "      <td>0.063029</td>\n",
       "      <td>0.079794</td>\n",
       "      <td>0.056829</td>\n",
       "      <td>0</td>\n",
       "      <td>0.099591</td>\n",
       "      <td>0</td>\n",
       "      <td>0.084920</td>\n",
       "    </tr>\n",
       "    <tr>\n",
       "      <th>D</th>\n",
       "      <td>0</td>\n",
       "      <td>0</td>\n",
       "      <td>24</td>\n",
       "      <td>25</td>\n",
       "      <td>165</td>\n",
       "      <td>0</td>\n",
       "      <td>136</td>\n",
       "      <td>0</td>\n",
       "      <td>350</td>\n",
       "      <td>0.0</td>\n",
       "      <td>0</td>\n",
       "      <td>0.041667</td>\n",
       "      <td>0.040000</td>\n",
       "      <td>0.042424</td>\n",
       "      <td>0</td>\n",
       "      <td>0.088235</td>\n",
       "      <td>0</td>\n",
       "      <td>0.060000</td>\n",
       "    </tr>\n",
       "    <tr>\n",
       "      <th>E</th>\n",
       "      <td>0</td>\n",
       "      <td>0</td>\n",
       "      <td>1</td>\n",
       "      <td>1</td>\n",
       "      <td>15</td>\n",
       "      <td>0</td>\n",
       "      <td>5</td>\n",
       "      <td>0</td>\n",
       "      <td>22</td>\n",
       "      <td>0.0</td>\n",
       "      <td>0</td>\n",
       "      <td>0.000000</td>\n",
       "      <td>0.000000</td>\n",
       "      <td>0.133333</td>\n",
       "      <td>0</td>\n",
       "      <td>0.000000</td>\n",
       "      <td>0</td>\n",
       "      <td>0.090909</td>\n",
       "    </tr>\n",
       "    <tr>\n",
       "      <th>All</th>\n",
       "      <td>2</td>\n",
       "      <td>1</td>\n",
       "      <td>1457</td>\n",
       "      <td>5078</td>\n",
       "      <td>3829</td>\n",
       "      <td>2</td>\n",
       "      <td>11083</td>\n",
       "      <td>1</td>\n",
       "      <td>21453</td>\n",
       "      <td>0.5</td>\n",
       "      <td>1</td>\n",
       "      <td>0.059025</td>\n",
       "      <td>0.074045</td>\n",
       "      <td>0.056412</td>\n",
       "      <td>0</td>\n",
       "      <td>0.095732</td>\n",
       "      <td>0</td>\n",
       "      <td>0.081154</td>\n",
       "    </tr>\n",
       "  </tbody>\n",
       "</table>\n",
       "</div>"
      ],
      "text/plain": [
       "                            count                                            \\\n",
       "income_type           безработный в декрете госслужащий компаньон пенсионер   \n",
       "total_income_category                                                         \n",
       "A                               0         0           0        15         0   \n",
       "B                               1         0         369      1741       552   \n",
       "C                               1         1        1063      3296      3097   \n",
       "D                               0         0          24        25       165   \n",
       "E                               0         0           1         1        15   \n",
       "All                             2         1        1457      5078      3829   \n",
       "\n",
       "                                                                      mean  \\\n",
       "income_type           предприниматель сотрудник студент    All безработный   \n",
       "total_income_category                                                        \n",
       "A                                   0        10       0     25         0.0   \n",
       "B                                   1      2377       0   5041         0.0   \n",
       "C                                   1      8555       1  16015         1.0   \n",
       "D                                   0       136       0    350         0.0   \n",
       "E                                   0         5       0     22         0.0   \n",
       "All                                 2     11083       1  21453         0.5   \n",
       "\n",
       "                                                                 \\\n",
       "income_type           в декрете госслужащий компаньон пенсионер   \n",
       "total_income_category                                             \n",
       "A                             0    0.000000  0.133333  0.000000   \n",
       "B                             0    0.048780  0.063182  0.056159   \n",
       "C                             1    0.063029  0.079794  0.056829   \n",
       "D                             0    0.041667  0.040000  0.042424   \n",
       "E                             0    0.000000  0.000000  0.133333   \n",
       "All                           1    0.059025  0.074045  0.056412   \n",
       "\n",
       "                                                                   \n",
       "income_type           предприниматель сотрудник студент       All  \n",
       "total_income_category                                              \n",
       "A                                   0  0.000000       0  0.080000  \n",
       "B                                   0  0.082878       0  0.070621  \n",
       "C                                   0  0.099591       0  0.084920  \n",
       "D                                   0  0.088235       0  0.060000  \n",
       "E                                   0  0.000000       0  0.090909  \n",
       "All                                 0  0.095732       0  0.081154  "
      ]
     },
     "execution_count": 42,
     "metadata": {},
     "output_type": "execute_result"
    }
   ],
   "source": [
    "# Расчет конверсии задолжностей в зависимости от уровня дохода\n",
    "df.pivot_table(index='total_income_category', columns='income_type', values='debt', aggfunc=['count', 'mean'], margins=True, fill_value=0)"
   ]
  },
  {
   "cell_type": "markdown",
   "id": "446ed978",
   "metadata": {},
   "source": [
    "**Вывод 3:** наибольшая конверсия задолжностей наблюдается у категории \"E\" (с доходом до 30 000) в основном пенсионеры. Наименьшая конверсия задолжностей у категории \"D\" (доход от 30 001 до 50 000). Примечательно, что по типу занятости во всех категориях выделяются \"сотрудники\" с большими значениями конверсии задолжностей."
   ]
  },
  {
   "cell_type": "markdown",
   "id": "8daeea0d",
   "metadata": {},
   "source": [
    "##### Вопрос 4: Как разные цели кредита влияют на его возврат в срок?"
   ]
  },
  {
   "cell_type": "code",
   "execution_count": 43,
   "id": "060d5d9d",
   "metadata": {},
   "outputs": [
    {
     "data": {
      "text/plain": [
       "purpose_category\n",
       "операции с автомобилем      0.093590\n",
       "операции с недвижимостью    0.078031\n",
       "Name: debt, dtype: float64"
      ]
     },
     "execution_count": 43,
     "metadata": {},
     "output_type": "execute_result"
    }
   ],
   "source": [
    "# Расчет конверсии задолжностей в зависимости от цели кредита\n",
    "df.groupby('purpose_category')['debt'].sum() / df.groupby('purpose_category')['debt'].count()"
   ]
  },
  {
   "cell_type": "markdown",
   "id": "65a2935c",
   "metadata": {},
   "source": [
    "**Вывод 4:** кредиты выданные для операций с автомобилем и образованием имеют наибольшую конверсию задолжностей. Наименьшая конверсия задолжностей у операций с недвижимостью и проведением свадьбы."
   ]
  },
  {
   "cell_type": "markdown",
   "id": "4d5225e6",
   "metadata": {},
   "source": [
    "### Общий вывод:"
   ]
  },
  {
   "cell_type": "markdown",
   "id": "e097abf6",
   "metadata": {},
   "source": [
    "**Семейное положение и количество детей клиента влияет на факт погашения кредита в срок:**\n",
    "* Не женатые / не замужние клиенты, а так же клиенты состоящие в гражданском браке более склонны к наличию задолжностей в отличии от вдовцов / вдов.\n",
    "* Клиенты с детьми (от 1 до 4) более склонны к наличию задолжностей в отличии от бездетных. При этом, если есть 5 детей, то задолжностей нет.\n",
    "\n",
    "Чтобы снизить количество задолжностей при выдаче кредитов необходимо отдавать приоритет бездетным вдовцам / вдовам и клиентам с 5-ю детьми."
   ]
  },
  {
   "cell_type": "code",
   "execution_count": null,
   "id": "d01372bf",
   "metadata": {},
   "outputs": [],
   "source": []
  }
 ],
 "metadata": {
  "ExecuteTimeLog": [
   {
    "duration": 621,
    "start_time": "2022-03-07T13:52:05.438Z"
   },
   {
    "duration": 66,
    "start_time": "2022-03-07T13:53:07.744Z"
   },
   {
    "duration": 57,
    "start_time": "2022-03-07T13:54:18.915Z"
   },
   {
    "duration": 61,
    "start_time": "2022-03-07T13:55:07.756Z"
   },
   {
    "duration": 18,
    "start_time": "2022-03-07T13:56:00.893Z"
   },
   {
    "duration": 11,
    "start_time": "2022-03-07T13:56:37.433Z"
   },
   {
    "duration": 14,
    "start_time": "2022-03-07T14:20:43.535Z"
   },
   {
    "duration": 12,
    "start_time": "2022-03-07T14:22:21.010Z"
   },
   {
    "duration": 13,
    "start_time": "2022-03-07T14:31:14.057Z"
   },
   {
    "duration": 11,
    "start_time": "2022-03-07T14:31:43.997Z"
   },
   {
    "duration": 13,
    "start_time": "2022-03-07T14:33:27.363Z"
   },
   {
    "duration": 5,
    "start_time": "2022-03-07T14:37:09.595Z"
   },
   {
    "duration": 10,
    "start_time": "2022-03-07T14:39:28.287Z"
   },
   {
    "duration": 17,
    "start_time": "2022-03-07T14:42:08.567Z"
   },
   {
    "duration": 18,
    "start_time": "2022-03-07T14:43:07.794Z"
   },
   {
    "duration": 14,
    "start_time": "2022-03-07T14:45:49.174Z"
   },
   {
    "duration": 18,
    "start_time": "2022-03-07T14:46:04.558Z"
   },
   {
    "duration": 20,
    "start_time": "2022-03-07T14:48:16.013Z"
   },
   {
    "duration": 20,
    "start_time": "2022-03-07T14:49:05.588Z"
   },
   {
    "duration": 4,
    "start_time": "2022-03-07T15:02:35.615Z"
   },
   {
    "duration": 5,
    "start_time": "2022-03-07T15:03:43.667Z"
   },
   {
    "duration": 5,
    "start_time": "2022-03-07T15:04:33.251Z"
   },
   {
    "duration": 6,
    "start_time": "2022-03-07T15:04:40.031Z"
   },
   {
    "duration": 5,
    "start_time": "2022-03-07T15:06:31.597Z"
   },
   {
    "duration": 5,
    "start_time": "2022-03-07T15:24:01.256Z"
   },
   {
    "duration": 5,
    "start_time": "2022-03-07T15:25:41.161Z"
   },
   {
    "duration": 16,
    "start_time": "2022-03-07T15:25:52.419Z"
   },
   {
    "duration": 6,
    "start_time": "2022-03-07T15:27:18.720Z"
   },
   {
    "duration": 13,
    "start_time": "2022-03-07T15:27:53.792Z"
   },
   {
    "duration": 14,
    "start_time": "2022-03-07T15:28:27.618Z"
   },
   {
    "duration": 290,
    "start_time": "2022-03-08T06:03:22.854Z"
   },
   {
    "duration": 807,
    "start_time": "2022-03-08T06:03:38.065Z"
   },
   {
    "duration": 16,
    "start_time": "2022-03-08T06:03:38.875Z"
   },
   {
    "duration": 13,
    "start_time": "2022-03-08T06:03:38.895Z"
   },
   {
    "duration": 18,
    "start_time": "2022-03-08T06:03:38.911Z"
   },
   {
    "duration": 6,
    "start_time": "2022-03-08T06:03:38.931Z"
   },
   {
    "duration": 47,
    "start_time": "2022-03-08T06:03:38.939Z"
   },
   {
    "duration": 22,
    "start_time": "2022-03-08T06:03:38.988Z"
   },
   {
    "duration": 6,
    "start_time": "2022-03-08T06:03:39.013Z"
   },
   {
    "duration": 62,
    "start_time": "2022-03-08T06:03:39.022Z"
   },
   {
    "duration": 10,
    "start_time": "2022-03-08T06:05:02.954Z"
   },
   {
    "duration": 37,
    "start_time": "2022-03-08T06:05:29.801Z"
   },
   {
    "duration": 10,
    "start_time": "2022-03-08T06:05:41.280Z"
   },
   {
    "duration": 7,
    "start_time": "2022-03-08T06:07:12.155Z"
   },
   {
    "duration": 8,
    "start_time": "2022-03-08T06:08:22.112Z"
   },
   {
    "duration": 8,
    "start_time": "2022-03-08T06:08:55.570Z"
   },
   {
    "duration": 33,
    "start_time": "2022-03-08T06:09:11.147Z"
   },
   {
    "duration": 7,
    "start_time": "2022-03-08T06:17:55.913Z"
   },
   {
    "duration": 8,
    "start_time": "2022-03-08T06:18:26.151Z"
   },
   {
    "duration": 12,
    "start_time": "2022-03-08T06:18:34.642Z"
   },
   {
    "duration": 7,
    "start_time": "2022-03-08T06:19:00.794Z"
   },
   {
    "duration": 22,
    "start_time": "2022-03-08T06:20:10.994Z"
   },
   {
    "duration": 274,
    "start_time": "2022-03-08T06:21:38.039Z"
   },
   {
    "duration": 90,
    "start_time": "2022-03-08T06:21:48.592Z"
   },
   {
    "duration": 246,
    "start_time": "2022-03-08T06:22:11.792Z"
   },
   {
    "duration": 9,
    "start_time": "2022-03-08T06:22:23.946Z"
   },
   {
    "duration": 8,
    "start_time": "2022-03-08T06:22:43.882Z"
   },
   {
    "duration": 9,
    "start_time": "2022-03-08T06:22:54.040Z"
   },
   {
    "duration": 10,
    "start_time": "2022-03-08T06:30:41.913Z"
   },
   {
    "duration": 11,
    "start_time": "2022-03-08T06:31:04.525Z"
   },
   {
    "duration": 105,
    "start_time": "2022-03-08T06:32:37.275Z"
   },
   {
    "duration": 6,
    "start_time": "2022-03-08T06:33:23.695Z"
   },
   {
    "duration": 8,
    "start_time": "2022-03-08T06:34:54.897Z"
   },
   {
    "duration": 22,
    "start_time": "2022-03-08T06:36:02.102Z"
   },
   {
    "duration": 8,
    "start_time": "2022-03-08T06:41:49.649Z"
   },
   {
    "duration": 7,
    "start_time": "2022-03-08T06:49:33.367Z"
   },
   {
    "duration": 10,
    "start_time": "2022-03-08T06:50:32.486Z"
   },
   {
    "duration": 15,
    "start_time": "2022-03-08T06:50:45.631Z"
   },
   {
    "duration": 13,
    "start_time": "2022-03-08T06:51:03.576Z"
   },
   {
    "duration": 7,
    "start_time": "2022-03-08T06:51:18.079Z"
   },
   {
    "duration": 7,
    "start_time": "2022-03-08T06:51:31.552Z"
   },
   {
    "duration": 72,
    "start_time": "2022-03-08T06:51:39.359Z"
   },
   {
    "duration": 14,
    "start_time": "2022-03-08T06:51:39.434Z"
   },
   {
    "duration": 35,
    "start_time": "2022-03-08T06:51:39.452Z"
   },
   {
    "duration": 18,
    "start_time": "2022-03-08T06:51:39.489Z"
   },
   {
    "duration": 11,
    "start_time": "2022-03-08T06:51:39.509Z"
   },
   {
    "duration": 22,
    "start_time": "2022-03-08T06:51:39.522Z"
   },
   {
    "duration": 37,
    "start_time": "2022-03-08T06:51:39.547Z"
   },
   {
    "duration": 6,
    "start_time": "2022-03-08T06:51:39.586Z"
   },
   {
    "duration": 22,
    "start_time": "2022-03-08T06:51:39.596Z"
   },
   {
    "duration": 25,
    "start_time": "2022-03-08T06:51:39.621Z"
   },
   {
    "duration": 37,
    "start_time": "2022-03-08T06:51:39.648Z"
   },
   {
    "duration": 30,
    "start_time": "2022-03-08T06:51:39.687Z"
   },
   {
    "duration": 46,
    "start_time": "2022-03-08T06:51:39.719Z"
   },
   {
    "duration": 18,
    "start_time": "2022-03-08T06:51:39.768Z"
   },
   {
    "duration": 25,
    "start_time": "2022-03-08T06:51:39.789Z"
   },
   {
    "duration": 62,
    "start_time": "2022-03-08T06:51:39.816Z"
   },
   {
    "duration": 7,
    "start_time": "2022-03-08T06:51:53.191Z"
   },
   {
    "duration": 12,
    "start_time": "2022-03-08T06:52:10.319Z"
   },
   {
    "duration": 88,
    "start_time": "2022-03-08T06:54:39.757Z"
   },
   {
    "duration": 7,
    "start_time": "2022-03-08T06:56:07.450Z"
   },
   {
    "duration": 3,
    "start_time": "2022-03-08T06:56:26.628Z"
   },
   {
    "duration": 24,
    "start_time": "2022-03-08T07:01:15.270Z"
   },
   {
    "duration": 6,
    "start_time": "2022-03-08T07:02:22.111Z"
   },
   {
    "duration": 21,
    "start_time": "2022-03-08T07:05:06.809Z"
   },
   {
    "duration": 66,
    "start_time": "2022-03-08T07:06:52.849Z"
   },
   {
    "duration": 14,
    "start_time": "2022-03-08T07:06:52.917Z"
   },
   {
    "duration": 14,
    "start_time": "2022-03-08T07:06:52.934Z"
   },
   {
    "duration": 43,
    "start_time": "2022-03-08T07:06:52.950Z"
   },
   {
    "duration": 8,
    "start_time": "2022-03-08T07:06:52.996Z"
   },
   {
    "duration": 7,
    "start_time": "2022-03-08T07:06:53.007Z"
   },
   {
    "duration": 16,
    "start_time": "2022-03-08T07:06:53.016Z"
   },
   {
    "duration": 47,
    "start_time": "2022-03-08T07:06:53.036Z"
   },
   {
    "duration": 10,
    "start_time": "2022-03-08T07:06:53.086Z"
   },
   {
    "duration": 10,
    "start_time": "2022-03-08T07:06:53.098Z"
   },
   {
    "duration": 8,
    "start_time": "2022-03-08T07:06:53.110Z"
   },
   {
    "duration": 22,
    "start_time": "2022-03-08T07:06:53.120Z"
   },
   {
    "duration": 22,
    "start_time": "2022-03-08T07:06:53.144Z"
   },
   {
    "duration": 19,
    "start_time": "2022-03-08T07:06:53.183Z"
   },
   {
    "duration": 16,
    "start_time": "2022-03-08T07:06:53.204Z"
   },
   {
    "duration": 21,
    "start_time": "2022-03-08T07:06:53.223Z"
   },
   {
    "duration": 27,
    "start_time": "2022-03-08T07:06:53.247Z"
   },
   {
    "duration": 90,
    "start_time": "2022-03-08T07:08:12.240Z"
   },
   {
    "duration": 19,
    "start_time": "2022-03-08T07:08:47.770Z"
   },
   {
    "duration": 7,
    "start_time": "2022-03-08T07:09:25.040Z"
   },
   {
    "duration": 142,
    "start_time": "2022-03-08T07:13:26.095Z"
   },
   {
    "duration": 7,
    "start_time": "2022-03-08T07:14:10.453Z"
   },
   {
    "duration": 22,
    "start_time": "2022-03-08T07:15:25.128Z"
   },
   {
    "duration": 22,
    "start_time": "2022-03-08T07:15:32.706Z"
   },
   {
    "duration": 22,
    "start_time": "2022-03-08T07:15:39.487Z"
   },
   {
    "duration": 22,
    "start_time": "2022-03-08T07:16:59.663Z"
   },
   {
    "duration": 23,
    "start_time": "2022-03-08T07:17:12.600Z"
   },
   {
    "duration": 22,
    "start_time": "2022-03-08T07:17:42.014Z"
   },
   {
    "duration": 22,
    "start_time": "2022-03-08T07:18:13.288Z"
   },
   {
    "duration": 19,
    "start_time": "2022-03-08T07:18:22.104Z"
   },
   {
    "duration": 7,
    "start_time": "2022-03-08T07:21:29.247Z"
   },
   {
    "duration": 6,
    "start_time": "2022-03-08T07:34:19.320Z"
   },
   {
    "duration": 90,
    "start_time": "2022-03-08T07:35:39.199Z"
   },
   {
    "duration": 80,
    "start_time": "2022-03-08T07:35:44.159Z"
   },
   {
    "duration": 22,
    "start_time": "2022-03-08T07:36:21.399Z"
   },
   {
    "duration": 22,
    "start_time": "2022-03-08T07:36:36.104Z"
   },
   {
    "duration": 22,
    "start_time": "2022-03-08T07:36:51.928Z"
   },
   {
    "duration": 22,
    "start_time": "2022-03-08T07:37:02.302Z"
   },
   {
    "duration": 22,
    "start_time": "2022-03-08T07:37:10.161Z"
   },
   {
    "duration": 6,
    "start_time": "2022-03-08T07:39:19.232Z"
   },
   {
    "duration": 38,
    "start_time": "2022-03-08T07:40:07.443Z"
   },
   {
    "duration": 35,
    "start_time": "2022-03-08T07:40:31.958Z"
   },
   {
    "duration": 18,
    "start_time": "2022-03-08T07:40:39.237Z"
   },
   {
    "duration": 19,
    "start_time": "2022-03-08T07:45:32.595Z"
   },
   {
    "duration": 7,
    "start_time": "2022-03-08T07:50:38.631Z"
   },
   {
    "duration": 118,
    "start_time": "2022-03-08T07:51:30.216Z"
   },
   {
    "duration": 6,
    "start_time": "2022-03-08T07:52:14.511Z"
   },
   {
    "duration": 8,
    "start_time": "2022-03-08T07:53:38.177Z"
   },
   {
    "duration": 12,
    "start_time": "2022-03-08T07:54:33.018Z"
   },
   {
    "duration": 13,
    "start_time": "2022-03-08T07:54:48.341Z"
   },
   {
    "duration": 12,
    "start_time": "2022-03-08T07:55:21.297Z"
   },
   {
    "duration": 9,
    "start_time": "2022-03-08T07:55:30.339Z"
   },
   {
    "duration": 8,
    "start_time": "2022-03-08T07:55:42.024Z"
   },
   {
    "duration": 85,
    "start_time": "2022-03-08T07:56:31.551Z"
   },
   {
    "duration": 6294,
    "start_time": "2022-03-08T07:57:00.198Z"
   },
   {
    "duration": 8,
    "start_time": "2022-03-08T07:57:34.337Z"
   },
   {
    "duration": 26,
    "start_time": "2022-03-08T08:03:38.632Z"
   },
   {
    "duration": 78,
    "start_time": "2022-03-08T08:07:05.978Z"
   },
   {
    "duration": 16,
    "start_time": "2022-03-08T08:07:06.082Z"
   },
   {
    "duration": 15,
    "start_time": "2022-03-08T08:07:06.102Z"
   },
   {
    "duration": 21,
    "start_time": "2022-03-08T08:07:06.120Z"
   },
   {
    "duration": 39,
    "start_time": "2022-03-08T08:07:06.144Z"
   },
   {
    "duration": 8,
    "start_time": "2022-03-08T08:07:06.186Z"
   },
   {
    "duration": 28,
    "start_time": "2022-03-08T08:07:06.196Z"
   },
   {
    "duration": 11,
    "start_time": "2022-03-08T08:07:06.226Z"
   },
   {
    "duration": 16,
    "start_time": "2022-03-08T08:07:06.241Z"
   },
   {
    "duration": 28,
    "start_time": "2022-03-08T08:07:06.260Z"
   },
   {
    "duration": 24,
    "start_time": "2022-03-08T08:07:06.290Z"
   },
   {
    "duration": 12,
    "start_time": "2022-03-08T08:07:06.316Z"
   },
   {
    "duration": 13,
    "start_time": "2022-03-08T08:07:06.331Z"
   },
   {
    "duration": 35,
    "start_time": "2022-03-08T08:07:06.347Z"
   },
   {
    "duration": 5,
    "start_time": "2022-03-08T08:07:06.384Z"
   },
   {
    "duration": 30,
    "start_time": "2022-03-08T08:07:06.392Z"
   },
   {
    "duration": 18,
    "start_time": "2022-03-08T08:07:06.424Z"
   },
   {
    "duration": 12,
    "start_time": "2022-03-08T08:07:06.444Z"
   },
   {
    "duration": 20,
    "start_time": "2022-03-08T08:07:06.459Z"
   },
   {
    "duration": 16,
    "start_time": "2022-03-08T08:07:06.482Z"
   },
   {
    "duration": 49,
    "start_time": "2022-03-08T08:07:06.500Z"
   },
   {
    "duration": 15,
    "start_time": "2022-03-08T08:07:06.552Z"
   },
   {
    "duration": 24,
    "start_time": "2022-03-08T08:07:06.570Z"
   },
   {
    "duration": 36,
    "start_time": "2022-03-08T08:07:06.596Z"
   },
   {
    "duration": 26,
    "start_time": "2022-03-08T08:07:06.635Z"
   },
   {
    "duration": 16,
    "start_time": "2022-03-08T08:07:06.664Z"
   },
   {
    "duration": 35,
    "start_time": "2022-03-08T08:07:06.684Z"
   },
   {
    "duration": 20,
    "start_time": "2022-03-08T08:07:06.722Z"
   },
   {
    "duration": 5,
    "start_time": "2022-03-08T08:14:46.933Z"
   },
   {
    "duration": 16,
    "start_time": "2022-03-08T08:14:58.462Z"
   },
   {
    "duration": 16,
    "start_time": "2022-03-08T08:15:57.042Z"
   },
   {
    "duration": 23,
    "start_time": "2022-03-08T08:16:56.166Z"
   },
   {
    "duration": 27,
    "start_time": "2022-03-08T08:17:33.152Z"
   },
   {
    "duration": 55,
    "start_time": "2022-03-08T08:17:44.294Z"
   },
   {
    "duration": 24,
    "start_time": "2022-03-08T08:24:13.997Z"
   },
   {
    "duration": 11,
    "start_time": "2022-03-08T08:36:09.876Z"
   },
   {
    "duration": 17,
    "start_time": "2022-03-08T08:37:12.058Z"
   },
   {
    "duration": 16,
    "start_time": "2022-03-08T08:37:23.891Z"
   },
   {
    "duration": 16,
    "start_time": "2022-03-08T08:41:13.699Z"
   },
   {
    "duration": 18,
    "start_time": "2022-03-08T08:41:37.101Z"
   },
   {
    "duration": 21,
    "start_time": "2022-03-08T08:47:20.330Z"
   },
   {
    "duration": 33,
    "start_time": "2022-03-08T09:00:40.978Z"
   },
   {
    "duration": 20,
    "start_time": "2022-03-08T09:01:37.203Z"
   },
   {
    "duration": 55,
    "start_time": "2022-03-08T09:02:44.666Z"
   },
   {
    "duration": 31,
    "start_time": "2022-03-08T09:03:02.332Z"
   },
   {
    "duration": 6130,
    "start_time": "2022-03-08T09:18:27.993Z"
   },
   {
    "duration": 36,
    "start_time": "2022-03-08T09:20:40.588Z"
   },
   {
    "duration": 30,
    "start_time": "2022-03-08T09:21:09.397Z"
   },
   {
    "duration": 39,
    "start_time": "2022-03-08T09:22:34.540Z"
   },
   {
    "duration": 26,
    "start_time": "2022-03-08T09:46:24.946Z"
   },
   {
    "duration": 32,
    "start_time": "2022-03-08T09:46:27.964Z"
   },
   {
    "duration": 46,
    "start_time": "2022-03-08T09:46:37.547Z"
   },
   {
    "duration": 34,
    "start_time": "2022-03-08T09:48:28.618Z"
   },
   {
    "duration": 22,
    "start_time": "2022-03-08T09:48:44.332Z"
   },
   {
    "duration": 17,
    "start_time": "2022-03-08T09:49:27.729Z"
   },
   {
    "duration": 21,
    "start_time": "2022-03-08T09:49:35.141Z"
   },
   {
    "duration": 41,
    "start_time": "2022-03-08T10:05:56.082Z"
   },
   {
    "duration": 21,
    "start_time": "2022-03-08T10:14:47.662Z"
   },
   {
    "duration": 22,
    "start_time": "2022-03-08T10:19:30.839Z"
   },
   {
    "duration": 307,
    "start_time": "2022-03-08T10:41:33.231Z"
   },
   {
    "duration": 22,
    "start_time": "2022-03-08T10:41:44.425Z"
   },
   {
    "duration": 86,
    "start_time": "2022-03-08T10:54:09.224Z"
   },
   {
    "duration": 80,
    "start_time": "2022-03-08T10:54:15.449Z"
   },
   {
    "duration": 22,
    "start_time": "2022-03-08T11:00:29.376Z"
   },
   {
    "duration": 23,
    "start_time": "2022-03-08T11:24:08.039Z"
   },
   {
    "duration": 23,
    "start_time": "2022-03-08T11:24:22.816Z"
   },
   {
    "duration": 29,
    "start_time": "2022-03-08T11:24:26.471Z"
   },
   {
    "duration": 25,
    "start_time": "2022-03-08T11:24:47.497Z"
   },
   {
    "duration": 316,
    "start_time": "2022-03-08T11:33:12.802Z"
   },
   {
    "duration": 54,
    "start_time": "2022-03-08T11:33:52.168Z"
   },
   {
    "duration": 23,
    "start_time": "2022-03-08T11:41:21.648Z"
   },
   {
    "duration": 29,
    "start_time": "2022-03-08T11:44:37.051Z"
   },
   {
    "duration": 77,
    "start_time": "2022-03-08T11:44:43.687Z"
   },
   {
    "duration": 17,
    "start_time": "2022-03-08T11:44:43.790Z"
   },
   {
    "duration": 16,
    "start_time": "2022-03-08T11:44:43.810Z"
   },
   {
    "duration": 56,
    "start_time": "2022-03-08T11:44:43.829Z"
   },
   {
    "duration": 9,
    "start_time": "2022-03-08T11:44:43.889Z"
   },
   {
    "duration": 12,
    "start_time": "2022-03-08T11:44:43.901Z"
   },
   {
    "duration": 18,
    "start_time": "2022-03-08T11:44:43.915Z"
   },
   {
    "duration": 8,
    "start_time": "2022-03-08T11:44:43.984Z"
   },
   {
    "duration": 14,
    "start_time": "2022-03-08T11:44:43.998Z"
   },
   {
    "duration": 8,
    "start_time": "2022-03-08T11:44:44.015Z"
   },
   {
    "duration": 7,
    "start_time": "2022-03-08T11:44:44.025Z"
   },
   {
    "duration": 50,
    "start_time": "2022-03-08T11:44:44.034Z"
   },
   {
    "duration": 14,
    "start_time": "2022-03-08T11:44:44.086Z"
   },
   {
    "duration": 20,
    "start_time": "2022-03-08T11:44:44.102Z"
   },
   {
    "duration": 9,
    "start_time": "2022-03-08T11:44:44.125Z"
   },
   {
    "duration": 49,
    "start_time": "2022-03-08T11:44:44.138Z"
   },
   {
    "duration": 22,
    "start_time": "2022-03-08T11:44:44.190Z"
   },
   {
    "duration": 6,
    "start_time": "2022-03-08T11:44:44.215Z"
   },
   {
    "duration": 6,
    "start_time": "2022-03-08T11:44:44.223Z"
   },
   {
    "duration": 7,
    "start_time": "2022-03-08T11:44:44.231Z"
   },
   {
    "duration": 67,
    "start_time": "2022-03-08T11:44:44.240Z"
   },
   {
    "duration": 8,
    "start_time": "2022-03-08T11:44:44.309Z"
   },
   {
    "duration": 8,
    "start_time": "2022-03-08T11:44:44.320Z"
   },
   {
    "duration": 55,
    "start_time": "2022-03-08T11:44:44.330Z"
   },
   {
    "duration": 11,
    "start_time": "2022-03-08T11:44:44.388Z"
   },
   {
    "duration": 6,
    "start_time": "2022-03-08T11:44:44.402Z"
   },
   {
    "duration": 13,
    "start_time": "2022-03-08T11:44:44.413Z"
   },
   {
    "duration": 13,
    "start_time": "2022-03-08T11:44:44.429Z"
   },
   {
    "duration": 65,
    "start_time": "2022-03-08T11:44:44.445Z"
   },
   {
    "duration": 23,
    "start_time": "2022-03-08T11:44:44.512Z"
   },
   {
    "duration": 70,
    "start_time": "2022-03-08T11:44:44.538Z"
   },
   {
    "duration": 20,
    "start_time": "2022-03-08T11:44:44.610Z"
   },
   {
    "duration": 18,
    "start_time": "2022-03-08T11:44:44.633Z"
   },
   {
    "duration": 40,
    "start_time": "2022-03-08T11:44:44.653Z"
   },
   {
    "duration": 19,
    "start_time": "2022-03-08T11:44:44.696Z"
   },
   {
    "duration": 35,
    "start_time": "2022-03-08T11:44:44.718Z"
   },
   {
    "duration": 39,
    "start_time": "2022-03-08T11:44:44.784Z"
   },
   {
    "duration": 12,
    "start_time": "2022-03-08T11:44:44.825Z"
   },
   {
    "duration": 66,
    "start_time": "2022-03-08T11:44:44.839Z"
   },
   {
    "duration": 11,
    "start_time": "2022-03-08T11:44:44.908Z"
   },
   {
    "duration": 20,
    "start_time": "2022-03-08T11:44:44.922Z"
   },
   {
    "duration": 15,
    "start_time": "2022-03-08T11:46:05.399Z"
   },
   {
    "duration": 603,
    "start_time": "2022-03-16T18:09:57.608Z"
   },
   {
    "duration": 9,
    "start_time": "2022-03-16T18:09:58.213Z"
   },
   {
    "duration": 12,
    "start_time": "2022-03-16T18:09:58.224Z"
   },
   {
    "duration": 13,
    "start_time": "2022-03-16T18:09:58.237Z"
   },
   {
    "duration": 4,
    "start_time": "2022-03-16T18:09:58.251Z"
   },
   {
    "duration": 4,
    "start_time": "2022-03-16T18:09:58.281Z"
   },
   {
    "duration": 23,
    "start_time": "2022-03-16T18:09:58.287Z"
   },
   {
    "duration": 4,
    "start_time": "2022-03-16T18:09:58.311Z"
   },
   {
    "duration": 9,
    "start_time": "2022-03-16T18:09:58.318Z"
   },
   {
    "duration": 8,
    "start_time": "2022-03-16T18:09:58.329Z"
   },
   {
    "duration": 6,
    "start_time": "2022-03-16T18:09:58.339Z"
   },
   {
    "duration": 39,
    "start_time": "2022-03-16T18:09:58.346Z"
   },
   {
    "duration": 8,
    "start_time": "2022-03-16T18:09:58.387Z"
   },
   {
    "duration": 11,
    "start_time": "2022-03-16T18:09:58.397Z"
   },
   {
    "duration": 4,
    "start_time": "2022-03-16T18:09:58.410Z"
   },
   {
    "duration": 6,
    "start_time": "2022-03-16T18:09:58.416Z"
   },
   {
    "duration": 8,
    "start_time": "2022-03-16T18:09:58.424Z"
   },
   {
    "duration": 5,
    "start_time": "2022-03-16T18:09:58.434Z"
   },
   {
    "duration": 5,
    "start_time": "2022-03-16T18:09:58.481Z"
   },
   {
    "duration": 6,
    "start_time": "2022-03-16T18:09:58.488Z"
   },
   {
    "duration": 18,
    "start_time": "2022-03-16T18:09:58.496Z"
   },
   {
    "duration": 9,
    "start_time": "2022-03-16T18:09:58.516Z"
   },
   {
    "duration": 7,
    "start_time": "2022-03-16T18:09:58.526Z"
   },
   {
    "duration": 13,
    "start_time": "2022-03-16T18:09:58.535Z"
   },
   {
    "duration": 5,
    "start_time": "2022-03-16T18:09:58.581Z"
   },
   {
    "duration": 7,
    "start_time": "2022-03-16T18:09:58.587Z"
   },
   {
    "duration": 10,
    "start_time": "2022-03-16T18:09:58.597Z"
   },
   {
    "duration": 8,
    "start_time": "2022-03-16T18:09:58.609Z"
   },
   {
    "duration": 19,
    "start_time": "2022-03-16T18:09:58.618Z"
   },
   {
    "duration": 14,
    "start_time": "2022-03-16T18:09:58.638Z"
   },
   {
    "duration": 45,
    "start_time": "2022-03-16T18:09:58.654Z"
   },
   {
    "duration": 15,
    "start_time": "2022-03-16T18:09:58.700Z"
   },
   {
    "duration": 10,
    "start_time": "2022-03-16T18:09:58.717Z"
   },
   {
    "duration": 14,
    "start_time": "2022-03-16T18:09:58.729Z"
   },
   {
    "duration": 44,
    "start_time": "2022-03-16T18:09:58.745Z"
   },
   {
    "duration": 28,
    "start_time": "2022-03-16T18:09:58.791Z"
   },
   {
    "duration": 38,
    "start_time": "2022-03-16T18:09:58.821Z"
   },
   {
    "duration": 20,
    "start_time": "2022-03-16T18:09:58.861Z"
   },
   {
    "duration": 20,
    "start_time": "2022-03-16T18:09:58.883Z"
   },
   {
    "duration": 7,
    "start_time": "2022-03-16T18:09:58.905Z"
   },
   {
    "duration": 10,
    "start_time": "2022-03-16T18:09:58.913Z"
   },
   {
    "duration": 658,
    "start_time": "2022-03-16T18:48:07.063Z"
   },
   {
    "duration": 10,
    "start_time": "2022-03-16T18:48:07.723Z"
   },
   {
    "duration": 8,
    "start_time": "2022-03-16T18:48:07.734Z"
   },
   {
    "duration": 12,
    "start_time": "2022-03-16T18:48:07.744Z"
   },
   {
    "duration": 26,
    "start_time": "2022-03-16T18:48:07.757Z"
   },
   {
    "duration": 5,
    "start_time": "2022-03-16T18:48:07.785Z"
   },
   {
    "duration": 13,
    "start_time": "2022-03-16T18:48:07.791Z"
   },
   {
    "duration": 3,
    "start_time": "2022-03-16T18:48:07.806Z"
   },
   {
    "duration": 8,
    "start_time": "2022-03-16T18:48:07.811Z"
   },
   {
    "duration": 5,
    "start_time": "2022-03-16T18:48:07.821Z"
   },
   {
    "duration": 6,
    "start_time": "2022-03-16T18:48:07.827Z"
   },
   {
    "duration": 6,
    "start_time": "2022-03-16T18:48:07.834Z"
   },
   {
    "duration": 41,
    "start_time": "2022-03-16T18:48:07.841Z"
   },
   {
    "duration": 12,
    "start_time": "2022-03-16T18:48:07.883Z"
   },
   {
    "duration": 6,
    "start_time": "2022-03-16T18:48:07.896Z"
   },
   {
    "duration": 6,
    "start_time": "2022-03-16T18:48:07.904Z"
   },
   {
    "duration": 9,
    "start_time": "2022-03-16T18:48:07.912Z"
   },
   {
    "duration": 4,
    "start_time": "2022-03-16T18:48:07.922Z"
   },
   {
    "duration": 3,
    "start_time": "2022-03-16T18:48:07.928Z"
   },
   {
    "duration": 5,
    "start_time": "2022-03-16T18:48:07.933Z"
   },
   {
    "duration": 17,
    "start_time": "2022-03-16T18:48:07.980Z"
   },
   {
    "duration": 5,
    "start_time": "2022-03-16T18:48:07.998Z"
   },
   {
    "duration": 5,
    "start_time": "2022-03-16T18:48:08.005Z"
   },
   {
    "duration": 15,
    "start_time": "2022-03-16T18:48:08.012Z"
   },
   {
    "duration": 8,
    "start_time": "2022-03-16T18:48:08.028Z"
   },
   {
    "duration": 4,
    "start_time": "2022-03-16T18:48:08.037Z"
   },
   {
    "duration": 7,
    "start_time": "2022-03-16T18:48:08.043Z"
   },
   {
    "duration": 33,
    "start_time": "2022-03-16T18:48:08.052Z"
   },
   {
    "duration": 12,
    "start_time": "2022-03-16T18:48:08.086Z"
   },
   {
    "duration": 14,
    "start_time": "2022-03-16T18:48:08.100Z"
   },
   {
    "duration": 27,
    "start_time": "2022-03-16T18:48:08.116Z"
   },
   {
    "duration": 41,
    "start_time": "2022-03-16T18:48:08.145Z"
   },
   {
    "duration": 11,
    "start_time": "2022-03-16T18:48:08.188Z"
   },
   {
    "duration": 10,
    "start_time": "2022-03-16T18:48:08.200Z"
   },
   {
    "duration": 12,
    "start_time": "2022-03-16T18:48:08.212Z"
   },
   {
    "duration": 17,
    "start_time": "2022-03-16T18:48:08.226Z"
   },
   {
    "duration": 53,
    "start_time": "2022-03-16T18:48:08.244Z"
   },
   {
    "duration": 10,
    "start_time": "2022-03-16T18:48:08.298Z"
   },
   {
    "duration": 20,
    "start_time": "2022-03-16T18:48:08.310Z"
   },
   {
    "duration": 8,
    "start_time": "2022-03-16T18:48:08.331Z"
   },
   {
    "duration": 9,
    "start_time": "2022-03-16T18:48:08.341Z"
   },
   {
    "duration": 228,
    "start_time": "2022-03-17T00:50:49.567Z"
   },
   {
    "duration": 168,
    "start_time": "2022-03-17T00:51:14.289Z"
   },
   {
    "duration": 811,
    "start_time": "2022-03-17T00:51:21.627Z"
   },
   {
    "duration": 15,
    "start_time": "2022-03-17T00:51:22.441Z"
   },
   {
    "duration": 13,
    "start_time": "2022-03-17T00:51:22.459Z"
   },
   {
    "duration": 20,
    "start_time": "2022-03-17T00:51:22.475Z"
   },
   {
    "duration": 6,
    "start_time": "2022-03-17T00:51:22.497Z"
   },
   {
    "duration": 46,
    "start_time": "2022-03-17T00:51:22.506Z"
   },
   {
    "duration": 17,
    "start_time": "2022-03-17T00:51:22.555Z"
   },
   {
    "duration": 5,
    "start_time": "2022-03-17T00:51:22.576Z"
   },
   {
    "duration": 12,
    "start_time": "2022-03-17T00:51:22.584Z"
   },
   {
    "duration": 14,
    "start_time": "2022-03-17T00:51:22.599Z"
   },
   {
    "duration": 42,
    "start_time": "2022-03-17T00:51:22.615Z"
   },
   {
    "duration": 9,
    "start_time": "2022-03-17T00:51:22.660Z"
   },
   {
    "duration": 11,
    "start_time": "2022-03-17T00:51:22.671Z"
   },
   {
    "duration": 20,
    "start_time": "2022-03-17T00:51:22.684Z"
   },
   {
    "duration": 47,
    "start_time": "2022-03-17T00:51:22.707Z"
   },
   {
    "duration": 9,
    "start_time": "2022-03-17T00:51:22.756Z"
   },
   {
    "duration": 11,
    "start_time": "2022-03-17T00:51:22.767Z"
   },
   {
    "duration": 6,
    "start_time": "2022-03-17T00:51:22.780Z"
   },
   {
    "duration": 6,
    "start_time": "2022-03-17T00:51:22.788Z"
   },
   {
    "duration": 6,
    "start_time": "2022-03-17T00:51:22.852Z"
   },
   {
    "duration": 24,
    "start_time": "2022-03-17T00:51:22.860Z"
   },
   {
    "duration": 7,
    "start_time": "2022-03-17T00:51:22.886Z"
   },
   {
    "duration": 51,
    "start_time": "2022-03-17T00:51:22.900Z"
   },
   {
    "duration": 24,
    "start_time": "2022-03-17T00:51:22.955Z"
   },
   {
    "duration": 10,
    "start_time": "2022-03-17T00:51:22.982Z"
   },
   {
    "duration": 5,
    "start_time": "2022-03-17T00:51:22.994Z"
   },
   {
    "duration": 12,
    "start_time": "2022-03-17T00:51:23.001Z"
   },
   {
    "duration": 40,
    "start_time": "2022-03-17T00:51:23.016Z"
   },
   {
    "duration": 17,
    "start_time": "2022-03-17T00:51:23.059Z"
   },
   {
    "duration": 20,
    "start_time": "2022-03-17T00:51:23.079Z"
   },
   {
    "duration": 80,
    "start_time": "2022-03-17T00:51:23.102Z"
   },
   {
    "duration": 20,
    "start_time": "2022-03-17T00:51:23.184Z"
   },
   {
    "duration": 16,
    "start_time": "2022-03-17T00:51:23.206Z"
   },
   {
    "duration": 40,
    "start_time": "2022-03-17T00:51:23.225Z"
   },
   {
    "duration": 18,
    "start_time": "2022-03-17T00:51:23.268Z"
   },
   {
    "duration": 29,
    "start_time": "2022-03-17T00:51:23.288Z"
   },
   {
    "duration": 76,
    "start_time": "2022-03-17T00:51:23.319Z"
   },
   {
    "duration": 17,
    "start_time": "2022-03-17T00:51:23.398Z"
   },
   {
    "duration": 71,
    "start_time": "2022-03-17T00:51:23.417Z"
   },
   {
    "duration": 16,
    "start_time": "2022-03-17T00:51:23.491Z"
   },
   {
    "duration": 47,
    "start_time": "2022-03-17T00:51:23.509Z"
   },
   {
    "duration": 19,
    "start_time": "2022-03-17T00:53:34.033Z"
   },
   {
    "duration": 18,
    "start_time": "2022-03-17T00:54:27.776Z"
   },
   {
    "duration": 13,
    "start_time": "2022-03-17T00:54:40.472Z"
   },
   {
    "duration": 76,
    "start_time": "2022-03-17T00:55:04.708Z"
   },
   {
    "duration": 15,
    "start_time": "2022-03-17T00:55:04.787Z"
   },
   {
    "duration": 12,
    "start_time": "2022-03-17T00:55:04.805Z"
   },
   {
    "duration": 27,
    "start_time": "2022-03-17T00:55:04.852Z"
   },
   {
    "duration": 6,
    "start_time": "2022-03-17T00:55:04.881Z"
   },
   {
    "duration": 6,
    "start_time": "2022-03-17T00:55:04.890Z"
   },
   {
    "duration": 56,
    "start_time": "2022-03-17T00:55:04.899Z"
   },
   {
    "duration": 7,
    "start_time": "2022-03-17T00:55:04.960Z"
   },
   {
    "duration": 8,
    "start_time": "2022-03-17T00:55:04.971Z"
   },
   {
    "duration": 8,
    "start_time": "2022-03-17T00:55:04.983Z"
   },
   {
    "duration": 8,
    "start_time": "2022-03-17T00:55:04.994Z"
   },
   {
    "duration": 53,
    "start_time": "2022-03-17T00:55:05.005Z"
   },
   {
    "duration": 15,
    "start_time": "2022-03-17T00:55:05.061Z"
   },
   {
    "duration": 26,
    "start_time": "2022-03-17T00:55:05.078Z"
   },
   {
    "duration": 6,
    "start_time": "2022-03-17T00:55:05.107Z"
   },
   {
    "duration": 8,
    "start_time": "2022-03-17T00:55:05.151Z"
   },
   {
    "duration": 12,
    "start_time": "2022-03-17T00:55:05.161Z"
   },
   {
    "duration": 6,
    "start_time": "2022-03-17T00:55:05.175Z"
   },
   {
    "duration": 6,
    "start_time": "2022-03-17T00:55:05.183Z"
   },
   {
    "duration": 60,
    "start_time": "2022-03-17T00:55:05.192Z"
   },
   {
    "duration": 23,
    "start_time": "2022-03-17T00:55:05.255Z"
   },
   {
    "duration": 6,
    "start_time": "2022-03-17T00:55:05.281Z"
   },
   {
    "duration": 8,
    "start_time": "2022-03-17T00:55:05.293Z"
   },
   {
    "duration": 56,
    "start_time": "2022-03-17T00:55:05.303Z"
   },
   {
    "duration": 10,
    "start_time": "2022-03-17T00:55:05.361Z"
   },
   {
    "duration": 6,
    "start_time": "2022-03-17T00:55:05.373Z"
   },
   {
    "duration": 7,
    "start_time": "2022-03-17T00:55:05.381Z"
   },
   {
    "duration": 9,
    "start_time": "2022-03-17T00:55:05.391Z"
   },
   {
    "duration": 57,
    "start_time": "2022-03-17T00:55:05.402Z"
   },
   {
    "duration": 20,
    "start_time": "2022-03-17T00:55:05.461Z"
   },
   {
    "duration": 42,
    "start_time": "2022-03-17T00:55:05.484Z"
   },
   {
    "duration": 20,
    "start_time": "2022-03-17T00:55:05.552Z"
   },
   {
    "duration": 15,
    "start_time": "2022-03-17T00:55:05.575Z"
   },
   {
    "duration": 15,
    "start_time": "2022-03-17T00:55:05.593Z"
   },
   {
    "duration": 57,
    "start_time": "2022-03-17T00:55:05.611Z"
   },
   {
    "duration": 29,
    "start_time": "2022-03-17T00:55:05.670Z"
   },
   {
    "duration": 59,
    "start_time": "2022-03-17T00:55:05.701Z"
   },
   {
    "duration": 10,
    "start_time": "2022-03-17T00:55:05.763Z"
   },
   {
    "duration": 32,
    "start_time": "2022-03-17T00:55:05.775Z"
   },
   {
    "duration": 44,
    "start_time": "2022-03-17T00:55:05.809Z"
   },
   {
    "duration": 15,
    "start_time": "2022-03-17T00:55:05.855Z"
   },
   {
    "duration": 24,
    "start_time": "2022-03-17T01:04:12.713Z"
   },
   {
    "duration": 23,
    "start_time": "2022-03-17T01:05:02.912Z"
   },
   {
    "duration": 61,
    "start_time": "2022-03-17T01:13:06.015Z"
   },
   {
    "duration": 34,
    "start_time": "2022-03-17T01:13:12.568Z"
   },
   {
    "duration": 21,
    "start_time": "2022-03-17T01:14:09.320Z"
   },
   {
    "duration": 38,
    "start_time": "2022-03-17T01:15:03.471Z"
   },
   {
    "duration": 65,
    "start_time": "2022-03-17T01:19:56.113Z"
   },
   {
    "duration": 35,
    "start_time": "2022-03-17T01:20:40.657Z"
   },
   {
    "duration": 32,
    "start_time": "2022-03-17T01:27:19.130Z"
   },
   {
    "duration": 42,
    "start_time": "2022-03-17T01:27:37.298Z"
   },
   {
    "duration": 219,
    "start_time": "2022-03-17T01:29:15.375Z"
   },
   {
    "duration": 170,
    "start_time": "2022-03-17T01:31:00.268Z"
   },
   {
    "duration": 183,
    "start_time": "2022-03-17T01:31:16.212Z"
   },
   {
    "duration": 19,
    "start_time": "2022-03-17T01:31:38.322Z"
   },
   {
    "duration": 172,
    "start_time": "2022-03-17T01:32:02.698Z"
   },
   {
    "duration": 13,
    "start_time": "2022-03-17T01:32:08.859Z"
   },
   {
    "duration": 11,
    "start_time": "2022-03-17T01:32:33.851Z"
   },
   {
    "duration": 10,
    "start_time": "2022-03-17T01:35:14.974Z"
   },
   {
    "duration": 11,
    "start_time": "2022-03-17T01:35:35.080Z"
   },
   {
    "duration": 20,
    "start_time": "2022-03-17T01:36:01.635Z"
   },
   {
    "duration": 20,
    "start_time": "2022-03-17T01:36:08.057Z"
   },
   {
    "duration": 59,
    "start_time": "2022-03-17T01:36:12.559Z"
   },
   {
    "duration": 67,
    "start_time": "2022-03-17T01:36:28.552Z"
   },
   {
    "duration": 13,
    "start_time": "2022-03-17T01:36:28.622Z"
   },
   {
    "duration": 13,
    "start_time": "2022-03-17T01:36:28.654Z"
   },
   {
    "duration": 26,
    "start_time": "2022-03-17T01:36:28.671Z"
   },
   {
    "duration": 5,
    "start_time": "2022-03-17T01:36:28.700Z"
   },
   {
    "duration": 48,
    "start_time": "2022-03-17T01:36:28.707Z"
   },
   {
    "duration": 44,
    "start_time": "2022-03-17T01:36:28.758Z"
   },
   {
    "duration": 84,
    "start_time": "2022-03-17T01:36:28.806Z"
   },
   {
    "duration": 16,
    "start_time": "2022-03-17T01:36:28.893Z"
   },
   {
    "duration": 6,
    "start_time": "2022-03-17T01:36:28.911Z"
   },
   {
    "duration": 37,
    "start_time": "2022-03-17T01:36:28.919Z"
   },
   {
    "duration": 12,
    "start_time": "2022-03-17T01:36:28.958Z"
   },
   {
    "duration": 7,
    "start_time": "2022-03-17T01:36:28.973Z"
   },
   {
    "duration": 8,
    "start_time": "2022-03-17T01:36:28.983Z"
   },
   {
    "duration": 9,
    "start_time": "2022-03-17T01:36:28.993Z"
   },
   {
    "duration": 58,
    "start_time": "2022-03-17T01:36:29.004Z"
   },
   {
    "duration": 8,
    "start_time": "2022-03-17T01:36:29.065Z"
   },
   {
    "duration": 8,
    "start_time": "2022-03-17T01:36:29.076Z"
   },
   {
    "duration": 13,
    "start_time": "2022-03-17T01:36:29.087Z"
   },
   {
    "duration": 53,
    "start_time": "2022-03-17T01:36:29.103Z"
   },
   {
    "duration": 6,
    "start_time": "2022-03-17T01:36:29.158Z"
   },
   {
    "duration": 10,
    "start_time": "2022-03-17T01:36:29.167Z"
   },
   {
    "duration": 22,
    "start_time": "2022-03-17T01:36:29.183Z"
   },
   {
    "duration": 47,
    "start_time": "2022-03-17T01:36:29.208Z"
   },
   {
    "duration": 8,
    "start_time": "2022-03-17T01:36:29.257Z"
   },
   {
    "duration": 17,
    "start_time": "2022-03-17T01:36:29.267Z"
   },
   {
    "duration": 9,
    "start_time": "2022-03-17T01:36:29.287Z"
   },
   {
    "duration": 5,
    "start_time": "2022-03-17T01:36:29.298Z"
   },
   {
    "duration": 8,
    "start_time": "2022-03-17T01:36:29.352Z"
   },
   {
    "duration": 20,
    "start_time": "2022-03-17T01:36:29.362Z"
   },
   {
    "duration": 18,
    "start_time": "2022-03-17T01:36:29.384Z"
   },
   {
    "duration": 48,
    "start_time": "2022-03-17T01:36:29.405Z"
   },
   {
    "duration": 44,
    "start_time": "2022-03-17T01:36:29.455Z"
   },
   {
    "duration": 21,
    "start_time": "2022-03-17T01:36:29.501Z"
   },
   {
    "duration": 40,
    "start_time": "2022-03-17T01:36:29.524Z"
   },
   {
    "duration": 17,
    "start_time": "2022-03-17T01:36:29.566Z"
   },
   {
    "duration": 21,
    "start_time": "2022-03-17T01:36:29.585Z"
   },
   {
    "duration": 85,
    "start_time": "2022-03-17T01:36:29.610Z"
   },
   {
    "duration": 61,
    "start_time": "2022-03-17T01:36:29.698Z"
   },
   {
    "duration": 11,
    "start_time": "2022-03-17T01:36:29.761Z"
   },
   {
    "duration": 32,
    "start_time": "2022-03-17T01:36:29.774Z"
   },
   {
    "duration": 45,
    "start_time": "2022-03-17T01:36:29.808Z"
   },
   {
    "duration": 16,
    "start_time": "2022-03-17T01:36:29.855Z"
   },
   {
    "duration": 4259,
    "start_time": "2022-03-17T01:54:20.213Z"
   },
   {
    "duration": 17,
    "start_time": "2022-03-17T01:55:36.543Z"
   },
   {
    "duration": 69,
    "start_time": "2022-03-17T01:56:03.212Z"
   },
   {
    "duration": 14,
    "start_time": "2022-03-17T01:56:03.284Z"
   },
   {
    "duration": 11,
    "start_time": "2022-03-17T01:56:03.301Z"
   },
   {
    "duration": 54,
    "start_time": "2022-03-17T01:56:03.315Z"
   },
   {
    "duration": 6,
    "start_time": "2022-03-17T01:56:03.371Z"
   },
   {
    "duration": 6,
    "start_time": "2022-03-17T01:56:03.379Z"
   },
   {
    "duration": 80,
    "start_time": "2022-03-17T01:56:03.387Z"
   },
   {
    "duration": 18,
    "start_time": "2022-03-17T01:56:03.470Z"
   },
   {
    "duration": 15,
    "start_time": "2022-03-17T01:56:03.492Z"
   },
   {
    "duration": 5,
    "start_time": "2022-03-17T01:56:03.510Z"
   },
   {
    "duration": 7,
    "start_time": "2022-03-17T01:56:03.552Z"
   },
   {
    "duration": 7,
    "start_time": "2022-03-17T01:56:03.562Z"
   },
   {
    "duration": 7,
    "start_time": "2022-03-17T01:56:03.571Z"
   },
   {
    "duration": 11,
    "start_time": "2022-03-17T01:56:03.581Z"
   },
   {
    "duration": 15,
    "start_time": "2022-03-17T01:56:03.595Z"
   },
   {
    "duration": 54,
    "start_time": "2022-03-17T01:56:03.613Z"
   },
   {
    "duration": 6,
    "start_time": "2022-03-17T01:56:03.670Z"
   },
   {
    "duration": 7,
    "start_time": "2022-03-17T01:56:03.679Z"
   },
   {
    "duration": 12,
    "start_time": "2022-03-17T01:56:03.688Z"
   },
   {
    "duration": 49,
    "start_time": "2022-03-17T01:56:03.702Z"
   },
   {
    "duration": 6,
    "start_time": "2022-03-17T01:56:03.754Z"
   },
   {
    "duration": 9,
    "start_time": "2022-03-17T01:56:03.762Z"
   },
   {
    "duration": 24,
    "start_time": "2022-03-17T01:56:03.773Z"
   },
   {
    "duration": 6,
    "start_time": "2022-03-17T01:56:03.799Z"
   },
   {
    "duration": 50,
    "start_time": "2022-03-17T01:56:03.807Z"
   },
   {
    "duration": 18,
    "start_time": "2022-03-17T01:56:03.859Z"
   },
   {
    "duration": 10,
    "start_time": "2022-03-17T01:56:03.882Z"
   },
   {
    "duration": 6,
    "start_time": "2022-03-17T01:56:03.895Z"
   },
   {
    "duration": 49,
    "start_time": "2022-03-17T01:56:03.904Z"
   },
   {
    "duration": 8,
    "start_time": "2022-03-17T01:56:03.955Z"
   },
   {
    "duration": 18,
    "start_time": "2022-03-17T01:56:03.966Z"
   },
   {
    "duration": 19,
    "start_time": "2022-03-17T01:56:03.986Z"
   },
   {
    "duration": 86,
    "start_time": "2022-03-17T01:56:04.007Z"
   },
   {
    "duration": 20,
    "start_time": "2022-03-17T01:56:04.096Z"
   },
   {
    "duration": 40,
    "start_time": "2022-03-17T01:56:04.119Z"
   },
   {
    "duration": 19,
    "start_time": "2022-03-17T01:56:04.162Z"
   },
   {
    "duration": 19,
    "start_time": "2022-03-17T01:56:04.183Z"
   },
   {
    "duration": 69,
    "start_time": "2022-03-17T01:56:04.205Z"
   },
   {
    "duration": 31,
    "start_time": "2022-03-17T01:56:04.277Z"
   },
   {
    "duration": 11,
    "start_time": "2022-03-17T01:56:04.310Z"
   },
   {
    "duration": 31,
    "start_time": "2022-03-17T01:56:04.351Z"
   },
   {
    "duration": 11,
    "start_time": "2022-03-17T01:56:04.384Z"
   },
   {
    "duration": 13,
    "start_time": "2022-03-17T01:56:04.398Z"
   },
   {
    "duration": 68,
    "start_time": "2022-03-17T02:04:56.962Z"
   },
   {
    "duration": 21,
    "start_time": "2022-03-17T02:04:57.033Z"
   },
   {
    "duration": 12,
    "start_time": "2022-03-17T02:04:57.057Z"
   },
   {
    "duration": 26,
    "start_time": "2022-03-17T02:04:57.072Z"
   },
   {
    "duration": 6,
    "start_time": "2022-03-17T02:04:57.101Z"
   },
   {
    "duration": 47,
    "start_time": "2022-03-17T02:04:57.109Z"
   },
   {
    "duration": 43,
    "start_time": "2022-03-17T02:04:57.159Z"
   },
   {
    "duration": 52,
    "start_time": "2022-03-17T02:04:57.205Z"
   },
   {
    "duration": 16,
    "start_time": "2022-03-17T02:04:57.261Z"
   },
   {
    "duration": 7,
    "start_time": "2022-03-17T02:04:57.281Z"
   },
   {
    "duration": 9,
    "start_time": "2022-03-17T02:04:57.291Z"
   },
   {
    "duration": 57,
    "start_time": "2022-03-17T02:04:57.302Z"
   },
   {
    "duration": 9,
    "start_time": "2022-03-17T02:04:57.362Z"
   },
   {
    "duration": 9,
    "start_time": "2022-03-17T02:04:57.374Z"
   },
   {
    "duration": 12,
    "start_time": "2022-03-17T02:04:57.386Z"
   },
   {
    "duration": 68,
    "start_time": "2022-03-17T02:04:57.401Z"
   },
   {
    "duration": 7,
    "start_time": "2022-03-17T02:04:57.472Z"
   },
   {
    "duration": 10,
    "start_time": "2022-03-17T02:04:57.482Z"
   },
   {
    "duration": 57,
    "start_time": "2022-03-17T02:04:57.494Z"
   },
   {
    "duration": 6,
    "start_time": "2022-03-17T02:04:57.553Z"
   },
   {
    "duration": 9,
    "start_time": "2022-03-17T02:04:57.561Z"
   },
   {
    "duration": 10,
    "start_time": "2022-03-17T02:04:57.572Z"
   },
   {
    "duration": 22,
    "start_time": "2022-03-17T02:04:57.584Z"
   },
   {
    "duration": 44,
    "start_time": "2022-03-17T02:04:57.609Z"
   },
   {
    "duration": 13,
    "start_time": "2022-03-17T02:04:57.655Z"
   },
   {
    "duration": 17,
    "start_time": "2022-03-17T02:04:57.673Z"
   },
   {
    "duration": 10,
    "start_time": "2022-03-17T02:04:57.693Z"
   },
   {
    "duration": 8,
    "start_time": "2022-03-17T02:04:57.705Z"
   },
   {
    "duration": 9,
    "start_time": "2022-03-17T02:04:57.752Z"
   },
   {
    "duration": 13,
    "start_time": "2022-03-17T02:04:57.764Z"
   },
   {
    "duration": 19,
    "start_time": "2022-03-17T02:04:57.780Z"
   },
   {
    "duration": 60,
    "start_time": "2022-03-17T02:04:57.802Z"
   },
   {
    "duration": 25,
    "start_time": "2022-03-17T02:04:57.866Z"
   },
   {
    "duration": 79,
    "start_time": "2022-03-17T02:04:57.894Z"
   },
   {
    "duration": 18,
    "start_time": "2022-03-17T02:04:57.976Z"
   },
   {
    "duration": 18,
    "start_time": "2022-03-17T02:04:57.997Z"
   },
   {
    "duration": 51,
    "start_time": "2022-03-17T02:04:58.018Z"
   },
   {
    "duration": 28,
    "start_time": "2022-03-17T02:04:58.072Z"
   },
   {
    "duration": 63,
    "start_time": "2022-03-17T02:04:58.102Z"
   },
   {
    "duration": 10,
    "start_time": "2022-03-17T02:04:58.167Z"
   },
   {
    "duration": 29,
    "start_time": "2022-03-17T02:04:58.180Z"
   },
   {
    "duration": 44,
    "start_time": "2022-03-17T02:04:58.211Z"
   },
   {
    "duration": 14,
    "start_time": "2022-03-17T02:04:58.257Z"
   },
   {
    "duration": 19,
    "start_time": "2022-03-17T02:12:48.468Z"
   },
   {
    "duration": 25,
    "start_time": "2022-03-17T02:13:09.087Z"
   },
   {
    "duration": 18,
    "start_time": "2022-03-17T02:13:22.169Z"
   },
   {
    "duration": 32,
    "start_time": "2022-03-17T02:28:23.712Z"
   },
   {
    "duration": 153,
    "start_time": "2022-03-17T02:29:47.823Z"
   },
   {
    "duration": 31,
    "start_time": "2022-03-17T02:29:53.398Z"
   },
   {
    "duration": 27,
    "start_time": "2022-03-17T02:30:58.368Z"
   },
   {
    "duration": 25,
    "start_time": "2022-03-17T02:31:49.133Z"
   },
   {
    "duration": 31,
    "start_time": "2022-03-17T02:32:46.479Z"
   },
   {
    "duration": 62,
    "start_time": "2022-03-17T02:34:21.798Z"
   },
   {
    "duration": 161,
    "start_time": "2022-03-17T02:34:26.142Z"
   },
   {
    "duration": 38,
    "start_time": "2022-03-17T02:34:56.044Z"
   },
   {
    "duration": 43,
    "start_time": "2022-03-17T02:36:47.487Z"
   },
   {
    "duration": 44,
    "start_time": "2022-03-17T02:37:03.830Z"
   },
   {
    "duration": 59,
    "start_time": "2022-03-17T02:38:59.181Z"
   },
   {
    "duration": 67,
    "start_time": "2022-03-17T02:39:03.321Z"
   },
   {
    "duration": 70,
    "start_time": "2022-03-17T02:39:57.773Z"
   },
   {
    "duration": 48,
    "start_time": "2022-03-17T02:40:07.261Z"
   },
   {
    "duration": 45,
    "start_time": "2022-03-17T02:43:56.824Z"
   },
   {
    "duration": 179,
    "start_time": "2022-03-17T02:45:48.237Z"
   },
   {
    "duration": 156,
    "start_time": "2022-03-17T02:46:13.560Z"
   },
   {
    "duration": 50,
    "start_time": "2022-03-17T02:46:27.367Z"
   },
   {
    "duration": 51,
    "start_time": "2022-03-17T02:47:12.737Z"
   },
   {
    "duration": 92,
    "start_time": "2022-03-17T02:49:03.289Z"
   },
   {
    "duration": 92,
    "start_time": "2022-03-17T02:49:38.656Z"
   },
   {
    "duration": 166,
    "start_time": "2022-03-17T02:50:35.346Z"
   },
   {
    "duration": 154,
    "start_time": "2022-03-17T02:51:12.649Z"
   },
   {
    "duration": 159,
    "start_time": "2022-03-17T02:55:14.293Z"
   },
   {
    "duration": 158,
    "start_time": "2022-03-17T02:57:32.205Z"
   },
   {
    "duration": 75,
    "start_time": "2022-03-17T03:06:14.848Z"
   },
   {
    "duration": 36,
    "start_time": "2022-03-17T03:06:14.925Z"
   },
   {
    "duration": 12,
    "start_time": "2022-03-17T03:06:14.964Z"
   },
   {
    "duration": 24,
    "start_time": "2022-03-17T03:06:14.979Z"
   },
   {
    "duration": 49,
    "start_time": "2022-03-17T03:06:15.006Z"
   },
   {
    "duration": 7,
    "start_time": "2022-03-17T03:06:15.057Z"
   },
   {
    "duration": 44,
    "start_time": "2022-03-17T03:06:15.066Z"
   },
   {
    "duration": 20,
    "start_time": "2022-03-17T03:06:15.150Z"
   },
   {
    "duration": 16,
    "start_time": "2022-03-17T03:06:15.173Z"
   },
   {
    "duration": 6,
    "start_time": "2022-03-17T03:06:15.191Z"
   },
   {
    "duration": 10,
    "start_time": "2022-03-17T03:06:15.201Z"
   },
   {
    "duration": 11,
    "start_time": "2022-03-17T03:06:15.252Z"
   },
   {
    "duration": 11,
    "start_time": "2022-03-17T03:06:15.265Z"
   },
   {
    "duration": 10,
    "start_time": "2022-03-17T03:06:15.279Z"
   },
   {
    "duration": 60,
    "start_time": "2022-03-17T03:06:15.292Z"
   },
   {
    "duration": 20,
    "start_time": "2022-03-17T03:06:15.356Z"
   },
   {
    "duration": 8,
    "start_time": "2022-03-17T03:06:15.379Z"
   },
   {
    "duration": 10,
    "start_time": "2022-03-17T03:06:15.390Z"
   },
   {
    "duration": 58,
    "start_time": "2022-03-17T03:06:15.402Z"
   },
   {
    "duration": 7,
    "start_time": "2022-03-17T03:06:15.463Z"
   },
   {
    "duration": 7,
    "start_time": "2022-03-17T03:06:15.473Z"
   },
   {
    "duration": 7,
    "start_time": "2022-03-17T03:06:15.483Z"
   },
   {
    "duration": 64,
    "start_time": "2022-03-17T03:06:15.496Z"
   },
   {
    "duration": 6,
    "start_time": "2022-03-17T03:06:15.563Z"
   },
   {
    "duration": 10,
    "start_time": "2022-03-17T03:06:15.572Z"
   },
   {
    "duration": 21,
    "start_time": "2022-03-17T03:06:15.585Z"
   },
   {
    "duration": 57,
    "start_time": "2022-03-17T03:06:15.608Z"
   },
   {
    "duration": 7,
    "start_time": "2022-03-17T03:06:15.668Z"
   },
   {
    "duration": 8,
    "start_time": "2022-03-17T03:06:15.677Z"
   },
   {
    "duration": 13,
    "start_time": "2022-03-17T03:06:15.687Z"
   },
   {
    "duration": 49,
    "start_time": "2022-03-17T03:06:15.702Z"
   },
   {
    "duration": 20,
    "start_time": "2022-03-17T03:06:15.754Z"
   },
   {
    "duration": 26,
    "start_time": "2022-03-17T03:06:15.777Z"
   },
   {
    "duration": 74,
    "start_time": "2022-03-17T03:06:15.805Z"
   },
   {
    "duration": 16,
    "start_time": "2022-03-17T03:06:15.882Z"
   },
   {
    "duration": 15,
    "start_time": "2022-03-17T03:06:15.900Z"
   },
   {
    "duration": 44,
    "start_time": "2022-03-17T03:06:15.918Z"
   },
   {
    "duration": 30,
    "start_time": "2022-03-17T03:06:15.964Z"
   },
   {
    "duration": 26,
    "start_time": "2022-03-17T03:06:15.997Z"
   },
   {
    "duration": 192,
    "start_time": "2022-03-17T03:06:16.025Z"
   },
   {
    "duration": 44,
    "start_time": "2022-03-17T03:06:16.219Z"
   },
   {
    "duration": 167,
    "start_time": "2022-03-17T03:06:16.266Z"
   },
   {
    "duration": 22,
    "start_time": "2022-03-17T03:06:16.436Z"
   },
   {
    "duration": 642,
    "start_time": "2022-03-17T14:45:19.822Z"
   },
   {
    "duration": 22,
    "start_time": "2022-03-17T14:45:20.467Z"
   },
   {
    "duration": 12,
    "start_time": "2022-03-17T14:45:20.491Z"
   },
   {
    "duration": 47,
    "start_time": "2022-03-17T14:45:20.506Z"
   },
   {
    "duration": 6,
    "start_time": "2022-03-17T14:45:20.555Z"
   },
   {
    "duration": 9,
    "start_time": "2022-03-17T14:45:20.563Z"
   },
   {
    "duration": 84,
    "start_time": "2022-03-17T14:45:20.574Z"
   },
   {
    "duration": 23,
    "start_time": "2022-03-17T14:45:20.661Z"
   },
   {
    "duration": 24,
    "start_time": "2022-03-17T14:45:20.687Z"
   },
   {
    "duration": 7,
    "start_time": "2022-03-17T14:45:20.742Z"
   },
   {
    "duration": 9,
    "start_time": "2022-03-17T14:45:20.752Z"
   },
   {
    "duration": 9,
    "start_time": "2022-03-17T14:45:20.763Z"
   },
   {
    "duration": 11,
    "start_time": "2022-03-17T14:45:20.774Z"
   },
   {
    "duration": 12,
    "start_time": "2022-03-17T14:45:20.788Z"
   },
   {
    "duration": 44,
    "start_time": "2022-03-17T14:45:20.803Z"
   },
   {
    "duration": 18,
    "start_time": "2022-03-17T14:45:20.850Z"
   },
   {
    "duration": 9,
    "start_time": "2022-03-17T14:45:20.871Z"
   },
   {
    "duration": 16,
    "start_time": "2022-03-17T14:45:20.883Z"
   },
   {
    "duration": 47,
    "start_time": "2022-03-17T14:45:20.902Z"
   },
   {
    "duration": 8,
    "start_time": "2022-03-17T14:45:20.951Z"
   },
   {
    "duration": 7,
    "start_time": "2022-03-17T14:45:20.961Z"
   },
   {
    "duration": 25,
    "start_time": "2022-03-17T14:45:20.970Z"
   },
   {
    "duration": 47,
    "start_time": "2022-03-17T14:45:20.997Z"
   },
   {
    "duration": 8,
    "start_time": "2022-03-17T14:45:21.046Z"
   },
   {
    "duration": 14,
    "start_time": "2022-03-17T14:45:21.056Z"
   },
   {
    "duration": 23,
    "start_time": "2022-03-17T14:45:21.072Z"
   },
   {
    "duration": 9,
    "start_time": "2022-03-17T14:45:21.098Z"
   },
   {
    "duration": 6,
    "start_time": "2022-03-17T14:45:21.142Z"
   },
   {
    "duration": 11,
    "start_time": "2022-03-17T14:45:21.150Z"
   },
   {
    "duration": 11,
    "start_time": "2022-03-17T14:45:21.163Z"
   },
   {
    "duration": 21,
    "start_time": "2022-03-17T14:45:21.176Z"
   },
   {
    "duration": 59,
    "start_time": "2022-03-17T14:45:21.200Z"
   },
   {
    "duration": 27,
    "start_time": "2022-03-17T14:45:21.261Z"
   },
   {
    "duration": 78,
    "start_time": "2022-03-17T14:45:21.290Z"
   },
   {
    "duration": 17,
    "start_time": "2022-03-17T14:45:21.370Z"
   },
   {
    "duration": 18,
    "start_time": "2022-03-17T14:45:21.390Z"
   },
   {
    "duration": 56,
    "start_time": "2022-03-17T14:45:21.411Z"
   },
   {
    "duration": 28,
    "start_time": "2022-03-17T14:45:21.470Z"
   },
   {
    "duration": 56,
    "start_time": "2022-03-17T14:45:21.500Z"
   },
   {
    "duration": 159,
    "start_time": "2022-03-17T14:45:21.559Z"
   },
   {
    "duration": 44,
    "start_time": "2022-03-17T14:45:21.721Z"
   },
   {
    "duration": 176,
    "start_time": "2022-03-17T14:45:21.768Z"
   },
   {
    "duration": 18,
    "start_time": "2022-03-17T14:45:21.947Z"
   },
   {
    "duration": 51,
    "start_time": "2022-03-17T15:05:59.373Z"
   },
   {
    "duration": 596,
    "start_time": "2022-03-17T15:14:00.067Z"
   },
   {
    "duration": 21,
    "start_time": "2022-03-17T15:14:00.666Z"
   },
   {
    "duration": 14,
    "start_time": "2022-03-17T15:14:00.689Z"
   },
   {
    "duration": 52,
    "start_time": "2022-03-17T15:14:00.705Z"
   },
   {
    "duration": 7,
    "start_time": "2022-03-17T15:14:00.760Z"
   },
   {
    "duration": 24,
    "start_time": "2022-03-17T15:14:00.769Z"
   },
   {
    "duration": 60,
    "start_time": "2022-03-17T15:14:00.795Z"
   },
   {
    "duration": 19,
    "start_time": "2022-03-17T15:14:00.857Z"
   },
   {
    "duration": 20,
    "start_time": "2022-03-17T15:14:00.878Z"
   },
   {
    "duration": 8,
    "start_time": "2022-03-17T15:14:00.900Z"
   },
   {
    "duration": 9,
    "start_time": "2022-03-17T15:14:00.944Z"
   },
   {
    "duration": 9,
    "start_time": "2022-03-17T15:14:00.956Z"
   },
   {
    "duration": 10,
    "start_time": "2022-03-17T15:14:00.967Z"
   },
   {
    "duration": 24,
    "start_time": "2022-03-17T15:14:00.981Z"
   },
   {
    "duration": 39,
    "start_time": "2022-03-17T15:14:01.007Z"
   },
   {
    "duration": 19,
    "start_time": "2022-03-17T15:14:01.049Z"
   },
   {
    "duration": 20,
    "start_time": "2022-03-17T15:14:01.071Z"
   },
   {
    "duration": 18,
    "start_time": "2022-03-17T15:14:01.094Z"
   },
   {
    "duration": 32,
    "start_time": "2022-03-17T15:14:01.114Z"
   },
   {
    "duration": 10,
    "start_time": "2022-03-17T15:14:01.148Z"
   },
   {
    "duration": 48,
    "start_time": "2022-03-17T15:14:01.160Z"
   },
   {
    "duration": 33,
    "start_time": "2022-03-17T15:14:01.211Z"
   },
   {
    "duration": 45,
    "start_time": "2022-03-17T15:14:01.246Z"
   },
   {
    "duration": 15,
    "start_time": "2022-03-17T15:14:01.293Z"
   },
   {
    "duration": 12,
    "start_time": "2022-03-17T15:14:01.310Z"
   },
   {
    "duration": 24,
    "start_time": "2022-03-17T15:14:01.324Z"
   },
   {
    "duration": 31,
    "start_time": "2022-03-17T15:14:01.351Z"
   },
   {
    "duration": 57,
    "start_time": "2022-03-17T15:14:01.385Z"
   },
   {
    "duration": 20,
    "start_time": "2022-03-17T15:14:01.444Z"
   },
   {
    "duration": 17,
    "start_time": "2022-03-17T15:14:01.466Z"
   },
   {
    "duration": 30,
    "start_time": "2022-03-17T15:14:01.485Z"
   },
   {
    "duration": 33,
    "start_time": "2022-03-17T15:14:01.517Z"
   },
   {
    "duration": 55,
    "start_time": "2022-03-17T15:14:01.552Z"
   },
   {
    "duration": 53,
    "start_time": "2022-03-17T15:14:01.609Z"
   },
   {
    "duration": 16,
    "start_time": "2022-03-17T15:14:01.665Z"
   },
   {
    "duration": 33,
    "start_time": "2022-03-17T15:14:01.684Z"
   },
   {
    "duration": 40,
    "start_time": "2022-03-17T15:14:01.720Z"
   },
   {
    "duration": 41,
    "start_time": "2022-03-17T15:14:01.762Z"
   },
   {
    "duration": 37,
    "start_time": "2022-03-17T15:14:01.805Z"
   },
   {
    "duration": 161,
    "start_time": "2022-03-17T15:14:01.844Z"
   },
   {
    "duration": 43,
    "start_time": "2022-03-17T15:14:02.010Z"
   },
   {
    "duration": 157,
    "start_time": "2022-03-17T15:14:02.055Z"
   },
   {
    "duration": 30,
    "start_time": "2022-03-17T15:14:02.213Z"
   },
   {
    "duration": 50,
    "start_time": "2022-03-17T15:20:21.055Z"
   },
   {
    "duration": 454,
    "start_time": "2022-03-17T15:20:32.412Z"
   },
   {
    "duration": 15,
    "start_time": "2022-03-17T15:20:32.868Z"
   },
   {
    "duration": 10,
    "start_time": "2022-03-17T15:20:32.885Z"
   },
   {
    "duration": 20,
    "start_time": "2022-03-17T15:20:32.896Z"
   },
   {
    "duration": 5,
    "start_time": "2022-03-17T15:20:32.919Z"
   },
   {
    "duration": 7,
    "start_time": "2022-03-17T15:20:32.925Z"
   },
   {
    "duration": 57,
    "start_time": "2022-03-17T15:20:32.934Z"
   },
   {
    "duration": 11,
    "start_time": "2022-03-17T15:20:32.992Z"
   },
   {
    "duration": 15,
    "start_time": "2022-03-17T15:20:33.005Z"
   },
   {
    "duration": 4,
    "start_time": "2022-03-17T15:20:33.022Z"
   },
   {
    "duration": 22,
    "start_time": "2022-03-17T15:20:33.027Z"
   },
   {
    "duration": 5,
    "start_time": "2022-03-17T15:20:33.062Z"
   },
   {
    "duration": 12,
    "start_time": "2022-03-17T15:20:33.069Z"
   },
   {
    "duration": 8,
    "start_time": "2022-03-17T15:20:33.085Z"
   },
   {
    "duration": 7,
    "start_time": "2022-03-17T15:20:33.095Z"
   },
   {
    "duration": 12,
    "start_time": "2022-03-17T15:20:33.104Z"
   },
   {
    "duration": 5,
    "start_time": "2022-03-17T15:20:33.117Z"
   },
   {
    "duration": 41,
    "start_time": "2022-03-17T15:20:33.123Z"
   },
   {
    "duration": 7,
    "start_time": "2022-03-17T15:20:33.166Z"
   },
   {
    "duration": 6,
    "start_time": "2022-03-17T15:20:33.174Z"
   },
   {
    "duration": 6,
    "start_time": "2022-03-17T15:20:33.181Z"
   },
   {
    "duration": 7,
    "start_time": "2022-03-17T15:20:33.188Z"
   },
   {
    "duration": 17,
    "start_time": "2022-03-17T15:20:33.197Z"
   },
   {
    "duration": 4,
    "start_time": "2022-03-17T15:20:33.217Z"
   },
   {
    "duration": 41,
    "start_time": "2022-03-17T15:20:33.223Z"
   },
   {
    "duration": 16,
    "start_time": "2022-03-17T15:20:33.266Z"
   },
   {
    "duration": 8,
    "start_time": "2022-03-17T15:20:33.284Z"
   },
   {
    "duration": 4,
    "start_time": "2022-03-17T15:20:33.294Z"
   },
   {
    "duration": 7,
    "start_time": "2022-03-17T15:20:33.300Z"
   },
   {
    "duration": 7,
    "start_time": "2022-03-17T15:20:33.308Z"
   },
   {
    "duration": 49,
    "start_time": "2022-03-17T15:20:33.317Z"
   },
   {
    "duration": 15,
    "start_time": "2022-03-17T15:20:33.368Z"
   },
   {
    "duration": 22,
    "start_time": "2022-03-17T15:20:33.384Z"
   },
   {
    "duration": 36,
    "start_time": "2022-03-17T15:20:33.407Z"
   },
   {
    "duration": 14,
    "start_time": "2022-03-17T15:20:33.463Z"
   },
   {
    "duration": 13,
    "start_time": "2022-03-17T15:20:33.479Z"
   },
   {
    "duration": 18,
    "start_time": "2022-03-17T15:20:33.494Z"
   },
   {
    "duration": 50,
    "start_time": "2022-03-17T15:20:33.514Z"
   },
   {
    "duration": 14,
    "start_time": "2022-03-17T15:20:33.566Z"
   },
   {
    "duration": 32,
    "start_time": "2022-03-17T15:20:33.582Z"
   },
   {
    "duration": 45,
    "start_time": "2022-03-17T15:20:33.618Z"
   },
   {
    "duration": 98,
    "start_time": "2022-03-17T15:20:33.665Z"
   },
   {
    "duration": 11,
    "start_time": "2022-03-17T15:20:33.765Z"
   },
   {
    "duration": 19,
    "start_time": "2022-03-17T15:21:46.881Z"
   },
   {
    "duration": 631,
    "start_time": "2022-03-17T15:48:50.511Z"
   },
   {
    "duration": 21,
    "start_time": "2022-03-17T15:48:51.144Z"
   },
   {
    "duration": 12,
    "start_time": "2022-03-17T15:48:51.168Z"
   },
   {
    "duration": 58,
    "start_time": "2022-03-17T15:48:51.184Z"
   },
   {
    "duration": 7,
    "start_time": "2022-03-17T15:48:51.244Z"
   },
   {
    "duration": 10,
    "start_time": "2022-03-17T15:48:51.253Z"
   },
   {
    "duration": 47,
    "start_time": "2022-03-17T15:48:51.265Z"
   },
   {
    "duration": 42,
    "start_time": "2022-03-17T15:48:51.315Z"
   },
   {
    "duration": 19,
    "start_time": "2022-03-17T15:48:51.359Z"
   },
   {
    "duration": 5,
    "start_time": "2022-03-17T15:48:51.382Z"
   },
   {
    "duration": 9,
    "start_time": "2022-03-17T15:48:51.389Z"
   },
   {
    "duration": 5,
    "start_time": "2022-03-17T15:48:51.400Z"
   },
   {
    "duration": 7,
    "start_time": "2022-03-17T15:48:51.443Z"
   },
   {
    "duration": 9,
    "start_time": "2022-03-17T15:48:51.453Z"
   },
   {
    "duration": 9,
    "start_time": "2022-03-17T15:48:51.464Z"
   },
   {
    "duration": 20,
    "start_time": "2022-03-17T15:48:51.475Z"
   },
   {
    "duration": 47,
    "start_time": "2022-03-17T15:48:51.497Z"
   },
   {
    "duration": 8,
    "start_time": "2022-03-17T15:48:51.546Z"
   },
   {
    "duration": 11,
    "start_time": "2022-03-17T15:48:51.556Z"
   },
   {
    "duration": 7,
    "start_time": "2022-03-17T15:48:51.570Z"
   },
   {
    "duration": 8,
    "start_time": "2022-03-17T15:48:51.579Z"
   },
   {
    "duration": 9,
    "start_time": "2022-03-17T15:48:51.589Z"
   },
   {
    "duration": 25,
    "start_time": "2022-03-17T15:48:51.642Z"
   },
   {
    "duration": 11,
    "start_time": "2022-03-17T15:48:51.670Z"
   },
   {
    "duration": 8,
    "start_time": "2022-03-17T15:48:51.684Z"
   },
   {
    "duration": 51,
    "start_time": "2022-03-17T15:48:51.695Z"
   },
   {
    "duration": 10,
    "start_time": "2022-03-17T15:48:51.748Z"
   },
   {
    "duration": 7,
    "start_time": "2022-03-17T15:48:51.762Z"
   },
   {
    "duration": 11,
    "start_time": "2022-03-17T15:48:51.771Z"
   },
   {
    "duration": 13,
    "start_time": "2022-03-17T15:48:51.784Z"
   },
   {
    "duration": 59,
    "start_time": "2022-03-17T15:48:51.799Z"
   },
   {
    "duration": 22,
    "start_time": "2022-03-17T15:48:51.860Z"
   },
   {
    "duration": 58,
    "start_time": "2022-03-17T15:48:51.885Z"
   },
   {
    "duration": 51,
    "start_time": "2022-03-17T15:48:51.945Z"
   },
   {
    "duration": 15,
    "start_time": "2022-03-17T15:48:51.999Z"
   },
   {
    "duration": 44,
    "start_time": "2022-03-17T15:48:52.016Z"
   },
   {
    "duration": 29,
    "start_time": "2022-03-17T15:48:52.062Z"
   },
   {
    "duration": 58,
    "start_time": "2022-03-17T15:48:52.093Z"
   },
   {
    "duration": 22,
    "start_time": "2022-03-17T15:48:52.154Z"
   },
   {
    "duration": 29,
    "start_time": "2022-03-17T15:48:52.178Z"
   },
   {
    "duration": 60,
    "start_time": "2022-03-17T15:48:52.209Z"
   },
   {
    "duration": 172,
    "start_time": "2022-03-17T15:48:52.272Z"
   },
   {
    "duration": 16,
    "start_time": "2022-03-17T15:48:52.446Z"
   },
   {
    "duration": 711,
    "start_time": "2022-08-28T09:57:21.125Z"
   },
   {
    "duration": 14,
    "start_time": "2022-08-28T09:57:21.839Z"
   },
   {
    "duration": 9,
    "start_time": "2022-08-28T09:57:21.854Z"
   },
   {
    "duration": 17,
    "start_time": "2022-08-28T09:57:21.864Z"
   },
   {
    "duration": 4,
    "start_time": "2022-08-28T09:57:21.882Z"
   },
   {
    "duration": 4,
    "start_time": "2022-08-28T09:57:21.898Z"
   },
   {
    "duration": 30,
    "start_time": "2022-08-28T09:57:21.903Z"
   },
   {
    "duration": 11,
    "start_time": "2022-08-28T09:57:21.935Z"
   },
   {
    "duration": 17,
    "start_time": "2022-08-28T09:57:21.948Z"
   },
   {
    "duration": 3,
    "start_time": "2022-08-28T09:57:21.968Z"
   },
   {
    "duration": 30,
    "start_time": "2022-08-28T09:57:21.972Z"
   },
   {
    "duration": 9,
    "start_time": "2022-08-28T09:57:22.005Z"
   },
   {
    "duration": 11,
    "start_time": "2022-08-28T09:57:22.016Z"
   },
   {
    "duration": 19,
    "start_time": "2022-08-28T09:57:22.028Z"
   },
   {
    "duration": 7,
    "start_time": "2022-08-28T09:57:22.048Z"
   },
   {
    "duration": 11,
    "start_time": "2022-08-28T09:57:22.057Z"
   },
   {
    "duration": 5,
    "start_time": "2022-08-28T09:57:22.070Z"
   },
   {
    "duration": 25,
    "start_time": "2022-08-28T09:57:22.076Z"
   },
   {
    "duration": 9,
    "start_time": "2022-08-28T09:57:22.103Z"
   },
   {
    "duration": 8,
    "start_time": "2022-08-28T09:57:22.114Z"
   },
   {
    "duration": 15,
    "start_time": "2022-08-28T09:57:22.124Z"
   },
   {
    "duration": 8,
    "start_time": "2022-08-28T09:57:22.141Z"
   },
   {
    "duration": 29,
    "start_time": "2022-08-28T09:57:22.151Z"
   },
   {
    "duration": 22,
    "start_time": "2022-08-28T09:57:22.181Z"
   },
   {
    "duration": 5,
    "start_time": "2022-08-28T09:57:22.205Z"
   },
   {
    "duration": 11,
    "start_time": "2022-08-28T09:57:22.212Z"
   },
   {
    "duration": 8,
    "start_time": "2022-08-28T09:57:22.225Z"
   },
   {
    "duration": 11,
    "start_time": "2022-08-28T09:57:22.236Z"
   },
   {
    "duration": 10,
    "start_time": "2022-08-28T09:57:22.248Z"
   },
   {
    "duration": 7,
    "start_time": "2022-08-28T09:57:22.259Z"
   },
   {
    "duration": 30,
    "start_time": "2022-08-28T09:57:22.268Z"
   },
   {
    "duration": 14,
    "start_time": "2022-08-28T09:57:22.300Z"
   },
   {
    "duration": 19,
    "start_time": "2022-08-28T09:57:22.315Z"
   },
   {
    "duration": 32,
    "start_time": "2022-08-28T09:57:22.336Z"
   },
   {
    "duration": 33,
    "start_time": "2022-08-28T09:57:22.369Z"
   },
   {
    "duration": 11,
    "start_time": "2022-08-28T09:57:22.403Z"
   },
   {
    "duration": 15,
    "start_time": "2022-08-28T09:57:22.416Z"
   },
   {
    "duration": 16,
    "start_time": "2022-08-28T09:57:22.432Z"
   },
   {
    "duration": 13,
    "start_time": "2022-08-28T09:57:22.450Z"
   },
   {
    "duration": 47,
    "start_time": "2022-08-28T09:57:22.464Z"
   },
   {
    "duration": 18,
    "start_time": "2022-08-28T09:57:22.513Z"
   },
   {
    "duration": 97,
    "start_time": "2022-08-28T09:57:22.532Z"
   },
   {
    "duration": 11,
    "start_time": "2022-08-28T09:57:22.631Z"
   }
  ],
  "kernelspec": {
   "display_name": "Python 3 (ipykernel)",
   "language": "python",
   "name": "python3"
  },
  "language_info": {
   "codemirror_mode": {
    "name": "ipython",
    "version": 3
   },
   "file_extension": ".py",
   "mimetype": "text/x-python",
   "name": "python",
   "nbconvert_exporter": "python",
   "pygments_lexer": "ipython3",
   "version": "3.9.5"
  },
  "toc": {
   "base_numbering": 1,
   "nav_menu": {},
   "number_sections": true,
   "sideBar": true,
   "skip_h1_title": true,
   "title_cell": "Table of Contents",
   "title_sidebar": "Contents",
   "toc_cell": false,
   "toc_position": {},
   "toc_section_display": true,
   "toc_window_display": false
  }
 },
 "nbformat": 4,
 "nbformat_minor": 5
}
