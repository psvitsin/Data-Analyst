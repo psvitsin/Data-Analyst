{
 "cells": [
  {
   "cell_type": "markdown",
   "metadata": {},
   "source": [
    "# Описание проекта\n",
    "**Краткое описание:** в крупном интернет-магазине, совместно с отделом маркетинга подготовлен список из 9 гипотез для увеличения выручки.\n",
    "\n",
    "**Цель:** необходимо приоритизировать гипотезы, запустить A/B-тест и проанализировать результаты.\n",
    "\n",
    "**Описание данных:**\n",
    "\n",
    "hypothesis.csv:\n",
    "* `Hypothesis` — краткое описание гипотезы;\n",
    "* `Reach` — охват пользователей по 10-балльной шкале;\n",
    "* `Impact` — влияние на пользователей по 10-балльной шкале;\n",
    "* `Confidence` — уверенность в гипотезе по 10-балльной шкале;\n",
    "* `Efforts` — затраты ресурсов на проверку гипотезы по 10-балльной шкале.\n",
    "\n",
    "orders.csv:\n",
    "* `transactionId` — идентификатор заказа;\n",
    "* `visitorId` — идентификатор пользователя, совершившего заказ;\n",
    "* `date` — дата, когда был совершён заказ;\n",
    "* `revenue` — выручка заказа;\n",
    "* `group` — группа A/B-теста, в которую попал заказ.\n",
    "\n",
    "visitors.csv:\n",
    "* `date` — дата;\n",
    "* `group` — группа A/B-теста;\n",
    "* `visitors` — количество пользователей в указанную дату в указанной группе A/B-теста\n",
    "\n",
    "**План работы:**\n",
    "\n",
    "Приоритизировать гипотезы:\n",
    "* Применить фреймворк ICE для приоритизации гипотез. Отсортировать их по убыванию приоритета.\n",
    "* Применить фреймворк RICE для приоритизации гипотез. Отсортировать их по убыванию приоритета.\n",
    "* Проанализировать, сделать выводы.\n",
    "\n",
    "Проанализиравть A/B-тест:\n",
    "* Построить график кумулятивной выручки по группам. Сделать выводы и предположения.\n",
    "* Построить график кумулятивного среднего чека по группам. Сделать выводы и предположения.\n",
    "* Построить график относительного изменения кумулятивного среднего чека группы B к группе A. Сделать выводы и предположения.\n",
    "* Построить график кумулятивной конверсии по группам. Сделать выводы и предположения.\n",
    "* Построить график относительного изменения кумулятивной конверсии группы B к группе A. Сделать выводы и предположения.\n",
    "* Построить точечный график количества заказов по пользователям. Сделать выводы и предположения.\n",
    "* Посчитать 95-й и 99-й перцентили количества заказов на пользователя. Выбрать границу для определения аномальных пользователей.\n",
    "* Построить точечный график стоимостей заказов. Сделать выводы и предположения.\n",
    "* Посчитать 95-й и 99-й перцентили стоимости заказов. Выбрать границу для определения аномальных заказов.\n",
    "* Посчитать статистическую значимость различий в конверсии между группами по «сырым» данным. Сделать выводы и предположения.\n",
    "* Посчитать статистическую значимость различий в среднем чеке заказа между группами по «сырым» данным. Сделать выводы и предположения.\n",
    "* Посчитать статистическую значимость различий в конверсии между группами по «очищенным» данным. Сделать выводы и предположения.\n",
    "* Посчитать статистическую значимость различий в среднем чеке заказа между группами по «очищенным» данным. Сделать выводы и предположения.\n",
    "* Проанализировать, сделать выводы. Принять одно из решений: 1. Остановить тест, зафиксировать победу одной из групп. 2. Остановить тест, зафиксировать отсутствие различий между группами. 3. Продолжить тест."
   ]
  },
  {
   "cell_type": "markdown",
   "metadata": {},
   "source": [
    "## Приоритизация гипотез\n",
    "Чтобы не тратить ресурсы на проверку всех гипотез, выполняется приоритизация имеющихся гипотез с использованием метода ICE."
   ]
  },
  {
   "cell_type": "code",
   "execution_count": 1,
   "metadata": {},
   "outputs": [],
   "source": [
    "# Импорт необходимых библиотек\n",
    "import pandas as pd\n",
    "import matplotlib.pyplot as plt\n",
    "import scipy.stats as stats\n",
    "import datetime as dt\n",
    "import numpy as np\n",
    "from pandas.plotting import register_matplotlib_converters\n",
    "import warnings # конвертеры, которые позволяют использовать типы pandas в matplotlib"
   ]
  },
  {
   "cell_type": "code",
   "execution_count": 2,
   "metadata": {},
   "outputs": [
    {
     "data": {
      "text/html": [
       "<div>\n",
       "<style scoped>\n",
       "    .dataframe tbody tr th:only-of-type {\n",
       "        vertical-align: middle;\n",
       "    }\n",
       "\n",
       "    .dataframe tbody tr th {\n",
       "        vertical-align: top;\n",
       "    }\n",
       "\n",
       "    .dataframe thead th {\n",
       "        text-align: right;\n",
       "    }\n",
       "</style>\n",
       "<table border=\"1\" class=\"dataframe\">\n",
       "  <thead>\n",
       "    <tr style=\"text-align: right;\">\n",
       "      <th></th>\n",
       "      <th>hypothesis</th>\n",
       "      <th>reach</th>\n",
       "      <th>impact</th>\n",
       "      <th>confidence</th>\n",
       "      <th>efforts</th>\n",
       "    </tr>\n",
       "  </thead>\n",
       "  <tbody>\n",
       "    <tr>\n",
       "      <th>0</th>\n",
       "      <td>Добавить два новых канала привлечения трафика, что позволит привлекать на 30% больше пользователей</td>\n",
       "      <td>3</td>\n",
       "      <td>10</td>\n",
       "      <td>8</td>\n",
       "      <td>6</td>\n",
       "    </tr>\n",
       "    <tr>\n",
       "      <th>1</th>\n",
       "      <td>Запустить собственную службу доставки, что сократит срок доставки заказов</td>\n",
       "      <td>2</td>\n",
       "      <td>5</td>\n",
       "      <td>4</td>\n",
       "      <td>10</td>\n",
       "    </tr>\n",
       "    <tr>\n",
       "      <th>2</th>\n",
       "      <td>Добавить блоки рекомендаций товаров на сайт интернет магазина, чтобы повысить конверсию и средний чек заказа</td>\n",
       "      <td>8</td>\n",
       "      <td>3</td>\n",
       "      <td>7</td>\n",
       "      <td>3</td>\n",
       "    </tr>\n",
       "    <tr>\n",
       "      <th>3</th>\n",
       "      <td>Изменить структура категорий, что увеличит конверсию, т.к. пользователи быстрее найдут нужный товар</td>\n",
       "      <td>8</td>\n",
       "      <td>3</td>\n",
       "      <td>3</td>\n",
       "      <td>8</td>\n",
       "    </tr>\n",
       "    <tr>\n",
       "      <th>4</th>\n",
       "      <td>Изменить цвет фона главной страницы, чтобы увеличить вовлеченность пользователей</td>\n",
       "      <td>3</td>\n",
       "      <td>1</td>\n",
       "      <td>1</td>\n",
       "      <td>1</td>\n",
       "    </tr>\n",
       "    <tr>\n",
       "      <th>5</th>\n",
       "      <td>Добавить страницу отзывов клиентов о магазине, что позволит увеличить количество заказов</td>\n",
       "      <td>3</td>\n",
       "      <td>2</td>\n",
       "      <td>2</td>\n",
       "      <td>3</td>\n",
       "    </tr>\n",
       "    <tr>\n",
       "      <th>6</th>\n",
       "      <td>Показать на главной странице баннеры с актуальными акциями и распродажами, чтобы увеличить конверсию</td>\n",
       "      <td>5</td>\n",
       "      <td>3</td>\n",
       "      <td>8</td>\n",
       "      <td>3</td>\n",
       "    </tr>\n",
       "    <tr>\n",
       "      <th>7</th>\n",
       "      <td>Добавить форму подписки на все основные страницы, чтобы собрать базу клиентов для email-рассылок</td>\n",
       "      <td>10</td>\n",
       "      <td>7</td>\n",
       "      <td>8</td>\n",
       "      <td>5</td>\n",
       "    </tr>\n",
       "    <tr>\n",
       "      <th>8</th>\n",
       "      <td>Запустить акцию, дающую скидку на товар в день рождения</td>\n",
       "      <td>1</td>\n",
       "      <td>9</td>\n",
       "      <td>9</td>\n",
       "      <td>5</td>\n",
       "    </tr>\n",
       "  </tbody>\n",
       "</table>\n",
       "</div>"
      ],
      "text/plain": [
       "                                                                                                     hypothesis  \\\n",
       "0            Добавить два новых канала привлечения трафика, что позволит привлекать на 30% больше пользователей   \n",
       "1                                     Запустить собственную службу доставки, что сократит срок доставки заказов   \n",
       "2  Добавить блоки рекомендаций товаров на сайт интернет магазина, чтобы повысить конверсию и средний чек заказа   \n",
       "3           Изменить структура категорий, что увеличит конверсию, т.к. пользователи быстрее найдут нужный товар   \n",
       "4                              Изменить цвет фона главной страницы, чтобы увеличить вовлеченность пользователей   \n",
       "5                      Добавить страницу отзывов клиентов о магазине, что позволит увеличить количество заказов   \n",
       "6          Показать на главной странице баннеры с актуальными акциями и распродажами, чтобы увеличить конверсию   \n",
       "7              Добавить форму подписки на все основные страницы, чтобы собрать базу клиентов для email-рассылок   \n",
       "8                                                       Запустить акцию, дающую скидку на товар в день рождения   \n",
       "\n",
       "   reach  impact  confidence  efforts  \n",
       "0      3      10           8        6  \n",
       "1      2       5           4       10  \n",
       "2      8       3           7        3  \n",
       "3      8       3           3        8  \n",
       "4      3       1           1        1  \n",
       "5      3       2           2        3  \n",
       "6      5       3           8        3  \n",
       "7     10       7           8        5  \n",
       "8      1       9           9        5  "
      ]
     },
     "execution_count": 2,
     "metadata": {},
     "output_type": "execute_result"
    }
   ],
   "source": [
    "# Открытие файлов\n",
    "hypothesis = pd.read_csv('/datasets/hypothesis.csv') # гипотезы\n",
    "orders = pd.read_csv('/datasets/orders.csv') # заказы\n",
    "visitors = pd.read_csv('/datasets/visitors.csv') # посетители\n",
    "    \n",
    "# Снятие ограничений на отражение максимального коливества столбцов и символов\n",
    "pd.set_option('display.max_columns', None)\n",
    "pd.set_option('display.max_colwidth', None)\n",
    "\n",
    "# Переименование столбцов в соответствии со стилем Python (приведение к нижнему регистру)\n",
    "hypothesis.columns = hypothesis.columns.str.lower()\n",
    "\n",
    "# Вывод таблицы hypothesis\n",
    "hypothesis"
   ]
  },
  {
   "cell_type": "markdown",
   "metadata": {},
   "source": [
    "**Информация о hypothesis:**\n",
    "* `hypothesis` — краткое описание гипотезы;\n",
    "* `reach` — охват пользователей по 10-балльной шкале;\n",
    "* `impact` — влияние на пользователей по 10-балльной шкале;\n",
    "* `confidence` — уверенность в гипотезе по 10-балльной шкале;\n",
    "* `efforts` — затраты ресурсов на проверку гипотезы по 10-балльной шкале. Чем больше значение efforts, тем дороже проверка гипотезы."
   ]
  },
  {
   "cell_type": "markdown",
   "metadata": {},
   "source": [
    "### ICE score\n",
    "(от англ. impact, confidence, effort / ease «влияние, уверенность, усилия / простота»)\n",
    "\n",
    "ICE score = Impact * Confidence * Ease = Impact * Confidence / Effort"
   ]
  },
  {
   "cell_type": "code",
   "execution_count": 3,
   "metadata": {},
   "outputs": [
    {
     "data": {
      "text/html": [
       "<div>\n",
       "<style scoped>\n",
       "    .dataframe tbody tr th:only-of-type {\n",
       "        vertical-align: middle;\n",
       "    }\n",
       "\n",
       "    .dataframe tbody tr th {\n",
       "        vertical-align: top;\n",
       "    }\n",
       "\n",
       "    .dataframe thead th {\n",
       "        text-align: right;\n",
       "    }\n",
       "</style>\n",
       "<table border=\"1\" class=\"dataframe\">\n",
       "  <thead>\n",
       "    <tr style=\"text-align: right;\">\n",
       "      <th></th>\n",
       "      <th>hypothesis</th>\n",
       "      <th>ice</th>\n",
       "    </tr>\n",
       "  </thead>\n",
       "  <tbody>\n",
       "    <tr>\n",
       "      <th>8</th>\n",
       "      <td>Запустить акцию, дающую скидку на товар в день рождения</td>\n",
       "      <td>16.20</td>\n",
       "    </tr>\n",
       "    <tr>\n",
       "      <th>0</th>\n",
       "      <td>Добавить два новых канала привлечения трафика, что позволит привлекать на 30% больше пользователей</td>\n",
       "      <td>13.33</td>\n",
       "    </tr>\n",
       "    <tr>\n",
       "      <th>7</th>\n",
       "      <td>Добавить форму подписки на все основные страницы, чтобы собрать базу клиентов для email-рассылок</td>\n",
       "      <td>11.20</td>\n",
       "    </tr>\n",
       "    <tr>\n",
       "      <th>6</th>\n",
       "      <td>Показать на главной странице баннеры с актуальными акциями и распродажами, чтобы увеличить конверсию</td>\n",
       "      <td>8.00</td>\n",
       "    </tr>\n",
       "    <tr>\n",
       "      <th>2</th>\n",
       "      <td>Добавить блоки рекомендаций товаров на сайт интернет магазина, чтобы повысить конверсию и средний чек заказа</td>\n",
       "      <td>7.00</td>\n",
       "    </tr>\n",
       "    <tr>\n",
       "      <th>1</th>\n",
       "      <td>Запустить собственную службу доставки, что сократит срок доставки заказов</td>\n",
       "      <td>2.00</td>\n",
       "    </tr>\n",
       "    <tr>\n",
       "      <th>5</th>\n",
       "      <td>Добавить страницу отзывов клиентов о магазине, что позволит увеличить количество заказов</td>\n",
       "      <td>1.33</td>\n",
       "    </tr>\n",
       "    <tr>\n",
       "      <th>3</th>\n",
       "      <td>Изменить структура категорий, что увеличит конверсию, т.к. пользователи быстрее найдут нужный товар</td>\n",
       "      <td>1.12</td>\n",
       "    </tr>\n",
       "    <tr>\n",
       "      <th>4</th>\n",
       "      <td>Изменить цвет фона главной страницы, чтобы увеличить вовлеченность пользователей</td>\n",
       "      <td>1.00</td>\n",
       "    </tr>\n",
       "  </tbody>\n",
       "</table>\n",
       "</div>"
      ],
      "text/plain": [
       "                                                                                                     hypothesis  \\\n",
       "8                                                       Запустить акцию, дающую скидку на товар в день рождения   \n",
       "0            Добавить два новых канала привлечения трафика, что позволит привлекать на 30% больше пользователей   \n",
       "7              Добавить форму подписки на все основные страницы, чтобы собрать базу клиентов для email-рассылок   \n",
       "6          Показать на главной странице баннеры с актуальными акциями и распродажами, чтобы увеличить конверсию   \n",
       "2  Добавить блоки рекомендаций товаров на сайт интернет магазина, чтобы повысить конверсию и средний чек заказа   \n",
       "1                                     Запустить собственную службу доставки, что сократит срок доставки заказов   \n",
       "5                      Добавить страницу отзывов клиентов о магазине, что позволит увеличить количество заказов   \n",
       "3           Изменить структура категорий, что увеличит конверсию, т.к. пользователи быстрее найдут нужный товар   \n",
       "4                              Изменить цвет фона главной страницы, чтобы увеличить вовлеченность пользователей   \n",
       "\n",
       "     ice  \n",
       "8  16.20  \n",
       "0  13.33  \n",
       "7  11.20  \n",
       "6   8.00  \n",
       "2   7.00  \n",
       "1   2.00  \n",
       "5   1.33  \n",
       "3   1.12  \n",
       "4   1.00  "
      ]
     },
     "execution_count": 3,
     "metadata": {},
     "output_type": "execute_result"
    }
   ],
   "source": [
    "# Расчет ICE score для гипотез в отдельном столбце таблицы hypothesis\n",
    "hypothesis['ice'] = round(hypothesis['impact'] * hypothesis['confidence'] / hypothesis['efforts'], 2)\n",
    "\n",
    "# Вывод гипотез в порядке убывания ICE score\n",
    "hypothesis[['hypothesis', 'ice']].sort_values(by='ice', ascending=False)"
   ]
  },
  {
   "cell_type": "markdown",
   "metadata": {},
   "source": [
    "**Вывод:** наиболее перспективные гипотезы по ICE:\n",
    "* 8 - Запустить акцию, дающую скидку на товар в день рождения;\n",
    "* 0 - Добавить два новых канала привлечения трафика, что позволит привлекать на 30% больше пользователей;\n",
    "* 7 - Добавить форму подписки на все основные страницы, чтобы собрать базу клиентов для email-рассылок."
   ]
  },
  {
   "cell_type": "markdown",
   "metadata": {},
   "source": [
    "### RICE score\n",
    "(R от англ. reach, «охват») - модификация метода ICE.\n",
    "\n",
    "RICE score = Reach * Impact * Confidence / Effort"
   ]
  },
  {
   "cell_type": "code",
   "execution_count": 4,
   "metadata": {
    "scrolled": true
   },
   "outputs": [
    {
     "data": {
      "text/html": [
       "<div>\n",
       "<style scoped>\n",
       "    .dataframe tbody tr th:only-of-type {\n",
       "        vertical-align: middle;\n",
       "    }\n",
       "\n",
       "    .dataframe tbody tr th {\n",
       "        vertical-align: top;\n",
       "    }\n",
       "\n",
       "    .dataframe thead th {\n",
       "        text-align: right;\n",
       "    }\n",
       "</style>\n",
       "<table border=\"1\" class=\"dataframe\">\n",
       "  <thead>\n",
       "    <tr style=\"text-align: right;\">\n",
       "      <th></th>\n",
       "      <th>hypothesis</th>\n",
       "      <th>rice</th>\n",
       "    </tr>\n",
       "  </thead>\n",
       "  <tbody>\n",
       "    <tr>\n",
       "      <th>7</th>\n",
       "      <td>Добавить форму подписки на все основные страницы, чтобы собрать базу клиентов для email-рассылок</td>\n",
       "      <td>112.0</td>\n",
       "    </tr>\n",
       "    <tr>\n",
       "      <th>2</th>\n",
       "      <td>Добавить блоки рекомендаций товаров на сайт интернет магазина, чтобы повысить конверсию и средний чек заказа</td>\n",
       "      <td>56.0</td>\n",
       "    </tr>\n",
       "    <tr>\n",
       "      <th>0</th>\n",
       "      <td>Добавить два новых канала привлечения трафика, что позволит привлекать на 30% больше пользователей</td>\n",
       "      <td>40.0</td>\n",
       "    </tr>\n",
       "    <tr>\n",
       "      <th>6</th>\n",
       "      <td>Показать на главной странице баннеры с актуальными акциями и распродажами, чтобы увеличить конверсию</td>\n",
       "      <td>40.0</td>\n",
       "    </tr>\n",
       "    <tr>\n",
       "      <th>8</th>\n",
       "      <td>Запустить акцию, дающую скидку на товар в день рождения</td>\n",
       "      <td>16.2</td>\n",
       "    </tr>\n",
       "    <tr>\n",
       "      <th>3</th>\n",
       "      <td>Изменить структура категорий, что увеличит конверсию, т.к. пользователи быстрее найдут нужный товар</td>\n",
       "      <td>9.0</td>\n",
       "    </tr>\n",
       "    <tr>\n",
       "      <th>1</th>\n",
       "      <td>Запустить собственную службу доставки, что сократит срок доставки заказов</td>\n",
       "      <td>4.0</td>\n",
       "    </tr>\n",
       "    <tr>\n",
       "      <th>5</th>\n",
       "      <td>Добавить страницу отзывов клиентов о магазине, что позволит увеличить количество заказов</td>\n",
       "      <td>4.0</td>\n",
       "    </tr>\n",
       "    <tr>\n",
       "      <th>4</th>\n",
       "      <td>Изменить цвет фона главной страницы, чтобы увеличить вовлеченность пользователей</td>\n",
       "      <td>3.0</td>\n",
       "    </tr>\n",
       "  </tbody>\n",
       "</table>\n",
       "</div>"
      ],
      "text/plain": [
       "                                                                                                     hypothesis  \\\n",
       "7              Добавить форму подписки на все основные страницы, чтобы собрать базу клиентов для email-рассылок   \n",
       "2  Добавить блоки рекомендаций товаров на сайт интернет магазина, чтобы повысить конверсию и средний чек заказа   \n",
       "0            Добавить два новых канала привлечения трафика, что позволит привлекать на 30% больше пользователей   \n",
       "6          Показать на главной странице баннеры с актуальными акциями и распродажами, чтобы увеличить конверсию   \n",
       "8                                                       Запустить акцию, дающую скидку на товар в день рождения   \n",
       "3           Изменить структура категорий, что увеличит конверсию, т.к. пользователи быстрее найдут нужный товар   \n",
       "1                                     Запустить собственную службу доставки, что сократит срок доставки заказов   \n",
       "5                      Добавить страницу отзывов клиентов о магазине, что позволит увеличить количество заказов   \n",
       "4                              Изменить цвет фона главной страницы, чтобы увеличить вовлеченность пользователей   \n",
       "\n",
       "    rice  \n",
       "7  112.0  \n",
       "2   56.0  \n",
       "0   40.0  \n",
       "6   40.0  \n",
       "8   16.2  \n",
       "3    9.0  \n",
       "1    4.0  \n",
       "5    4.0  \n",
       "4    3.0  "
      ]
     },
     "execution_count": 4,
     "metadata": {},
     "output_type": "execute_result"
    }
   ],
   "source": [
    "# Расчет RICE score для гипотез в отдельном столбце таблицы hypothesis\n",
    "hypothesis['rice'] = hypothesis['reach'] * hypothesis['impact'] * hypothesis['confidence'] / hypothesis['efforts']\n",
    "\n",
    "# Вывод гипотез в порядке убывания RICE score\n",
    "hypothesis[['hypothesis', 'rice']].sort_values(by='rice', ascending=False)"
   ]
  },
  {
   "cell_type": "markdown",
   "metadata": {},
   "source": [
    "**Вывод:** наиболее перспективные гипотезы по RICE:\n",
    "* 7 - Добавить форму подписки на все основные страницы, чтобы собрать базу клиентов для email-рассылок;\n",
    "* 2 - Добавить блоки рекомендаций товаров на сайт интернет магазина, чтобы повысить конверсию и средний чек заказа;\n",
    "* 0 - Добавить два новых канала привлечения трафика, что позволит привлекать на 30% больше пользователей;\n",
    "* 6 - Показать на главной странице баннеры с актуальными акциями и распродажами, чтобы увеличить конверсию.\n",
    "\n",
    "При применении метода RICE гипотеза №7 (Добавить форму подписки на все основные страницы, чтобы собрать базу клиентов для email-рассылок) стала на первом месте, т.к. ее охват значительно больше, чем у остальных гипотез. Гипотеза №8 (Запустить акцию, дающую скидку на товар в день рождения) имеет наименьший охват, поэтому в методике RICE не является лидирующей в отличии от ICE."
   ]
  },
  {
   "cell_type": "markdown",
   "metadata": {},
   "source": [
    "### Вывод\n",
    "Из имеющего перечня гипотез наиболее перспективными являются:\n",
    "* 7 - Добавить форму подписки на все основные страницы, чтобы собрать базу клиентов для email-рассылок (`наибольший охват`);\n",
    "* 0 - Добавить два новых канала привлечения трафика, что позволит привлекать на 30% больше пользователей (`наибольшее влияние`)."
   ]
  },
  {
   "cell_type": "markdown",
   "metadata": {},
   "source": [
    "## A/B-тест\n",
    "Проведен A/B-тест, результаты представлены в загруженных ранее датафреймах orders и visitors. Необходимо выполнить анализ A/B-теста."
   ]
  },
  {
   "cell_type": "markdown",
   "metadata": {},
   "source": [
    "### Подготовка данных"
   ]
  },
  {
   "cell_type": "code",
   "execution_count": 5,
   "metadata": {},
   "outputs": [
    {
     "name": "stdout",
     "output_type": "stream",
     "text": [
      "<class 'pandas.core.frame.DataFrame'>\n",
      "RangeIndex: 1197 entries, 0 to 1196\n",
      "Data columns (total 5 columns):\n",
      " #   Column         Non-Null Count  Dtype \n",
      "---  ------         --------------  ----- \n",
      " 0   transactionId  1197 non-null   int64 \n",
      " 1   visitorId      1197 non-null   int64 \n",
      " 2   date           1197 non-null   object\n",
      " 3   revenue        1197 non-null   int64 \n",
      " 4   group          1197 non-null   object\n",
      "dtypes: int64(3), object(2)\n",
      "memory usage: 46.9+ KB\n"
     ]
    },
    {
     "data": {
      "text/html": [
       "<div>\n",
       "<style scoped>\n",
       "    .dataframe tbody tr th:only-of-type {\n",
       "        vertical-align: middle;\n",
       "    }\n",
       "\n",
       "    .dataframe tbody tr th {\n",
       "        vertical-align: top;\n",
       "    }\n",
       "\n",
       "    .dataframe thead th {\n",
       "        text-align: right;\n",
       "    }\n",
       "</style>\n",
       "<table border=\"1\" class=\"dataframe\">\n",
       "  <thead>\n",
       "    <tr style=\"text-align: right;\">\n",
       "      <th></th>\n",
       "      <th>transactionId</th>\n",
       "      <th>visitorId</th>\n",
       "      <th>date</th>\n",
       "      <th>revenue</th>\n",
       "      <th>group</th>\n",
       "    </tr>\n",
       "  </thead>\n",
       "  <tbody>\n",
       "    <tr>\n",
       "      <th>0</th>\n",
       "      <td>3667963787</td>\n",
       "      <td>3312258926</td>\n",
       "      <td>2019-08-15</td>\n",
       "      <td>1650</td>\n",
       "      <td>B</td>\n",
       "    </tr>\n",
       "    <tr>\n",
       "      <th>1</th>\n",
       "      <td>2804400009</td>\n",
       "      <td>3642806036</td>\n",
       "      <td>2019-08-15</td>\n",
       "      <td>730</td>\n",
       "      <td>B</td>\n",
       "    </tr>\n",
       "    <tr>\n",
       "      <th>2</th>\n",
       "      <td>2961555356</td>\n",
       "      <td>4069496402</td>\n",
       "      <td>2019-08-15</td>\n",
       "      <td>400</td>\n",
       "      <td>A</td>\n",
       "    </tr>\n",
       "    <tr>\n",
       "      <th>3</th>\n",
       "      <td>3797467345</td>\n",
       "      <td>1196621759</td>\n",
       "      <td>2019-08-15</td>\n",
       "      <td>9759</td>\n",
       "      <td>B</td>\n",
       "    </tr>\n",
       "    <tr>\n",
       "      <th>4</th>\n",
       "      <td>2282983706</td>\n",
       "      <td>2322279887</td>\n",
       "      <td>2019-08-15</td>\n",
       "      <td>2308</td>\n",
       "      <td>B</td>\n",
       "    </tr>\n",
       "  </tbody>\n",
       "</table>\n",
       "</div>"
      ],
      "text/plain": [
       "   transactionId   visitorId        date  revenue group\n",
       "0     3667963787  3312258926  2019-08-15     1650     B\n",
       "1     2804400009  3642806036  2019-08-15      730     B\n",
       "2     2961555356  4069496402  2019-08-15      400     A\n",
       "3     3797467345  1196621759  2019-08-15     9759     B\n",
       "4     2282983706  2322279887  2019-08-15     2308     B"
      ]
     },
     "execution_count": 5,
     "metadata": {},
     "output_type": "execute_result"
    }
   ],
   "source": [
    "# Вывод информации о датафрейме с заказами и первых 5 строк\n",
    "orders.info()\n",
    "orders.head()"
   ]
  },
  {
   "cell_type": "code",
   "execution_count": 6,
   "metadata": {},
   "outputs": [
    {
     "name": "stdout",
     "output_type": "stream",
     "text": [
      "<class 'pandas.core.frame.DataFrame'>\n",
      "RangeIndex: 62 entries, 0 to 61\n",
      "Data columns (total 3 columns):\n",
      " #   Column    Non-Null Count  Dtype \n",
      "---  ------    --------------  ----- \n",
      " 0   date      62 non-null     object\n",
      " 1   group     62 non-null     object\n",
      " 2   visitors  62 non-null     int64 \n",
      "dtypes: int64(1), object(2)\n",
      "memory usage: 1.6+ KB\n"
     ]
    },
    {
     "data": {
      "text/html": [
       "<div>\n",
       "<style scoped>\n",
       "    .dataframe tbody tr th:only-of-type {\n",
       "        vertical-align: middle;\n",
       "    }\n",
       "\n",
       "    .dataframe tbody tr th {\n",
       "        vertical-align: top;\n",
       "    }\n",
       "\n",
       "    .dataframe thead th {\n",
       "        text-align: right;\n",
       "    }\n",
       "</style>\n",
       "<table border=\"1\" class=\"dataframe\">\n",
       "  <thead>\n",
       "    <tr style=\"text-align: right;\">\n",
       "      <th></th>\n",
       "      <th>date</th>\n",
       "      <th>group</th>\n",
       "      <th>visitors</th>\n",
       "    </tr>\n",
       "  </thead>\n",
       "  <tbody>\n",
       "    <tr>\n",
       "      <th>0</th>\n",
       "      <td>2019-08-01</td>\n",
       "      <td>A</td>\n",
       "      <td>719</td>\n",
       "    </tr>\n",
       "    <tr>\n",
       "      <th>1</th>\n",
       "      <td>2019-08-02</td>\n",
       "      <td>A</td>\n",
       "      <td>619</td>\n",
       "    </tr>\n",
       "    <tr>\n",
       "      <th>2</th>\n",
       "      <td>2019-08-03</td>\n",
       "      <td>A</td>\n",
       "      <td>507</td>\n",
       "    </tr>\n",
       "    <tr>\n",
       "      <th>3</th>\n",
       "      <td>2019-08-04</td>\n",
       "      <td>A</td>\n",
       "      <td>717</td>\n",
       "    </tr>\n",
       "    <tr>\n",
       "      <th>4</th>\n",
       "      <td>2019-08-05</td>\n",
       "      <td>A</td>\n",
       "      <td>756</td>\n",
       "    </tr>\n",
       "  </tbody>\n",
       "</table>\n",
       "</div>"
      ],
      "text/plain": [
       "         date group  visitors\n",
       "0  2019-08-01     A       719\n",
       "1  2019-08-02     A       619\n",
       "2  2019-08-03     A       507\n",
       "3  2019-08-04     A       717\n",
       "4  2019-08-05     A       756"
      ]
     },
     "execution_count": 6,
     "metadata": {},
     "output_type": "execute_result"
    }
   ],
   "source": [
    "# Вывод информации о датафрейме с посетителями и первых 5 строк\n",
    "visitors.info()\n",
    "visitors.head()"
   ]
  },
  {
   "cell_type": "code",
   "execution_count": 7,
   "metadata": {},
   "outputs": [
    {
     "data": {
      "text/plain": [
       "0"
      ]
     },
     "metadata": {},
     "output_type": "display_data"
    },
    {
     "data": {
      "text/plain": [
       "0"
      ]
     },
     "execution_count": 7,
     "metadata": {},
     "output_type": "execute_result"
    }
   ],
   "source": [
    "# Проверка датафреймов на наличие дубликатов\n",
    "display(orders.duplicated().sum())\n",
    "visitors.duplicated().sum()"
   ]
  },
  {
   "cell_type": "code",
   "execution_count": 8,
   "metadata": {},
   "outputs": [
    {
     "data": {
      "text/html": [
       "<div>\n",
       "<style scoped>\n",
       "    .dataframe tbody tr th:only-of-type {\n",
       "        vertical-align: middle;\n",
       "    }\n",
       "\n",
       "    .dataframe tbody tr th {\n",
       "        vertical-align: top;\n",
       "    }\n",
       "\n",
       "    .dataframe thead th {\n",
       "        text-align: right;\n",
       "    }\n",
       "</style>\n",
       "<table border=\"1\" class=\"dataframe\">\n",
       "  <thead>\n",
       "    <tr style=\"text-align: right;\">\n",
       "      <th></th>\n",
       "      <th>transaction_id</th>\n",
       "      <th>visitor_id</th>\n",
       "      <th>date</th>\n",
       "      <th>revenue</th>\n",
       "      <th>group</th>\n",
       "    </tr>\n",
       "  </thead>\n",
       "  <tbody>\n",
       "  </tbody>\n",
       "</table>\n",
       "</div>"
      ],
      "text/plain": [
       "Empty DataFrame\n",
       "Columns: [transaction_id, visitor_id, date, revenue, group]\n",
       "Index: []"
      ]
     },
     "execution_count": 8,
     "metadata": {},
     "output_type": "execute_result"
    }
   ],
   "source": [
    "# Переименование столбцов датафрейма orders в соответствии со стилем Python\n",
    "orders = orders.rename(columns={'transactionId': 'transaction_id', 'visitorId': 'visitor_id'})\n",
    "orders.head(0)"
   ]
  },
  {
   "cell_type": "code",
   "execution_count": 9,
   "metadata": {},
   "outputs": [],
   "source": [
    "# Приведение столбцов с датами к формату datetime\n",
    "orders['date'] = pd.to_datetime(orders['date'])\n",
    "visitors['date'] = pd.to_datetime(visitors['date'])"
   ]
  },
  {
   "cell_type": "markdown",
   "metadata": {},
   "source": [
    "**Информация о orders:**\n",
    "* `transaction_id` — идентификатор заказа;\n",
    "* `visitor_id` — идентификатор пользователя, совершившего заказ;\n",
    "* `date` — дата, когда был совершён заказ;\n",
    "* `revenue` — выручка заказа;\n",
    "* `group` — группа A/B-теста, в которую попал заказ."
   ]
  },
  {
   "cell_type": "markdown",
   "metadata": {},
   "source": [
    "**Информация о visitors:**\n",
    "* `date` — дата;\n",
    "* `group` — группа A/B-теста;\n",
    "* `visitors` — количество пользователей в указанную дату в указанной группе A/B-теста."
   ]
  },
  {
   "cell_type": "code",
   "execution_count": 10,
   "metadata": {},
   "outputs": [
    {
     "data": {
      "text/plain": [
       "array(['A', 'B'], dtype=object)"
      ]
     },
     "execution_count": 10,
     "metadata": {},
     "output_type": "execute_result"
    }
   ],
   "source": [
    "# Уникальные значения по группам\n",
    "visitors['group'].sort_values().unique()"
   ]
  },
  {
   "cell_type": "code",
   "execution_count": 11,
   "metadata": {},
   "outputs": [
    {
     "data": {
      "text/plain": [
       "Timestamp('2019-08-01 00:00:00')"
      ]
     },
     "metadata": {},
     "output_type": "display_data"
    },
    {
     "data": {
      "text/plain": [
       "Timestamp('2019-08-31 00:00:00')"
      ]
     },
     "execution_count": 11,
     "metadata": {},
     "output_type": "execute_result"
    }
   ],
   "source": [
    "# Определение миниматьной и максимальной даты\n",
    "display(visitors['date'].min())\n",
    "visitors['date'].max()"
   ]
  },
  {
   "cell_type": "markdown",
   "metadata": {},
   "source": [
    "**Вывод:** в датафрейме заказов 1197 записей, пропусков и дубликатов нет, требуется приведение дат к типу datatime. В датафрейме visitors 62 записи, пропусков и дубликатов нет, требуется приведение дат к типу datatime. Всего две группы: А и В. Период проведения теста - с 01.08.2021 по 31.08.2021г (один месяц)."
   ]
  },
  {
   "cell_type": "markdown",
   "metadata": {},
   "source": [
    "### График кумулятивной выручки по группам"
   ]
  },
  {
   "cell_type": "code",
   "execution_count": 12,
   "metadata": {
    "scrolled": false
   },
   "outputs": [
    {
     "data": {
      "image/png": "[encoded data removed]",
      "text/plain": [
       "<Figure size 432x288 with 1 Axes>"
      ]
     },
     "metadata": {
      "needs_background": "light"
     },
     "output_type": "display_data"
    }
   ],
   "source": [
    "# Создание массива уникальных пар значений дат и групп теста\n",
    "datesGroups = orders[['date', 'group']].drop_duplicates()\n",
    "\n",
    "# Получение агрегированных кумулятивных по дням данных о заказах\n",
    "ordersAggregated = datesGroups.apply(\n",
    "    lambda x: orders[\n",
    "        np.logical_and(\n",
    "            orders['date'] <= x['date'], orders['group'] == x['group']\n",
    "        )\n",
    "    ].agg(\n",
    "        {\n",
    "            'date': 'max',\n",
    "            'group': 'max',\n",
    "            'transaction_id': 'nunique',\n",
    "            'visitor_id': 'nunique',\n",
    "            'revenue': 'sum',\n",
    "        }\n",
    "    ),\n",
    "    axis=1,\n",
    ").sort_values(by=['date', 'group'])\n",
    "\n",
    "# Получение агрегированных кумулятивных по дням данных о посетителях интернет-магазина\n",
    "visitorsAggregated = datesGroups.apply(\n",
    "    lambda x: visitors[\n",
    "        np.logical_and(\n",
    "            visitors['date'] <= x['date'], visitors['group'] == x['group']\n",
    "        )\n",
    "    ].agg({'date': 'max', 'group': 'max', 'visitors': 'sum'}),\n",
    "    axis=1,\n",
    ").sort_values(by=['date', 'group'])\n",
    "\n",
    "cumulativeData = ordersAggregated.merge(\n",
    "    visitorsAggregated, left_on=['date', 'group'], right_on=['date', 'group']\n",
    ")\n",
    "cumulativeData.columns = [\n",
    "    'date',\n",
    "    'group',\n",
    "    'orders',\n",
    "    'buyers',\n",
    "    'revenue',\n",
    "    'visitors',\n",
    "]\n",
    "\n",
    "# Датафрейм с кумулятивным количеством заказов и кумулятивной выручкой по дням в группе А\n",
    "cumulativeRevenueA = cumulativeData[cumulativeData['group']=='A'][['date','revenue', 'orders']]\n",
    "\n",
    "# Датафрейм с кумулятивным количеством заказов и кумулятивной выручкой по дням в группе B\n",
    "cumulativeRevenueB = cumulativeData[cumulativeData['group']=='B'][['date','revenue', 'orders']]\n",
    "\n",
    "# Построение графика выручки группы А\n",
    "plt.plot(cumulativeRevenueA['date'], cumulativeRevenueA['revenue'], label='A')\n",
    "\n",
    "# Построение графика выручки группы B\n",
    "plt.plot(cumulativeRevenueB['date'], cumulativeRevenueB['revenue'], label='B')\n",
    "\n",
    "plt.title('График кумулятивной выручки по группам A и B')\n",
    "plt.xlabel('Дата')\n",
    "plt.ylabel('Выручка')\n",
    "plt.legend()\n",
    "plt.xticks(rotation=45)\n",
    "plt.show()"
   ]
  },
  {
   "cell_type": "markdown",
   "metadata": {},
   "source": [
    "**Вывод:** группа В лидирует по выручке над группой А практически на всем промежутке времени проведения теста. В середине теста выручка группы В имеет скачок, возможно это влияние аномально больших заказов."
   ]
  },
  {
   "cell_type": "markdown",
   "metadata": {},
   "source": [
    "### График кумулятивного среднего чека по группам"
   ]
  },
  {
   "cell_type": "code",
   "execution_count": 13,
   "metadata": {},
   "outputs": [
    {
     "data": {
      "image/png": "[encoded data removed]",
      "text/plain": [
       "<Figure size 432x288 with 1 Axes>"
      ]
     },
     "metadata": {
      "needs_background": "light"
     },
     "output_type": "display_data"
    }
   ],
   "source": [
    "# Построение графика среднего чека по группам (разделение кумулятивной выручки на кумулятивное число заказов)\n",
    "plt.plot(cumulativeRevenueA['date'], cumulativeRevenueA['revenue']/cumulativeRevenueA['orders'], label='A')\n",
    "plt.plot(cumulativeRevenueB['date'], cumulativeRevenueB['revenue']/cumulativeRevenueB['orders'], label='B')\n",
    "plt.title('График кумулятивного среднего чека по группам')\n",
    "plt.xlabel('Дата')\n",
    "plt.ylabel('Средний чек')\n",
    "plt.legend()\n",
    "plt.xticks(rotation=45)\n",
    "plt.show()"
   ]
  },
  {
   "cell_type": "markdown",
   "metadata": {},
   "source": [
    "**Вывод:** кумулятивное значение среднего чека группы А стабилизируется возле отметки 7000, в отличии от группы В, где после скачка наблюдается нисходящий тренд. Принимать решение по этой метрике рано, т.к. требуется анализ выбросов, которые могут искажать результаты."
   ]
  },
  {
   "cell_type": "markdown",
   "metadata": {},
   "source": [
    "### График относительного изменения кумулятивного среднего чека группы B к группе A"
   ]
  },
  {
   "cell_type": "code",
   "execution_count": 14,
   "metadata": {},
   "outputs": [
    {
     "data": {
      "image/png": "[encoded data removed]",
      "text/plain": [
       "<Figure size 432x288 with 1 Axes>"
      ]
     },
     "metadata": {
      "needs_background": "light"
     },
     "output_type": "display_data"
    }
   ],
   "source": [
    "# Консолидация данных в одном датафрейме\n",
    "mergedCumulativeRevenue = cumulativeRevenueA.merge(cumulativeRevenueB, left_on='date', right_on='date', how='left', suffixes=['A', 'B'])\n",
    "\n",
    "# Построение отношения средних чеков\n",
    "plt.plot(mergedCumulativeRevenue['date'], (mergedCumulativeRevenue['revenueB']/mergedCumulativeRevenue['ordersB'])/(mergedCumulativeRevenue['revenueA']/mergedCumulativeRevenue['ordersA'])-1)\n",
    "\n",
    "# Добавление оси X\n",
    "plt.axhline(y=0, color='black', linestyle='--')\n",
    "plt.title('График относительного изменения кумулятивного среднего чека группы B к группе A')\n",
    "plt.xlabel('Дата')\n",
    "plt.xticks(rotation=45)\n",
    "plt.show()"
   ]
  },
  {
   "cell_type": "markdown",
   "metadata": {},
   "source": [
    "**Вывод:** на графике присутсвуют резкие изменения, возможно в эти даты были совершены аномальные заказы."
   ]
  },
  {
   "cell_type": "markdown",
   "metadata": {},
   "source": [
    "### График кумулятивной конверсии по группам"
   ]
  },
  {
   "cell_type": "code",
   "execution_count": 15,
   "metadata": {},
   "outputs": [
    {
     "data": {
      "image/png": "[encoded data removed]",
      "text/plain": [
       "<Figure size 432x288 with 1 Axes>"
      ]
     },
     "metadata": {
      "needs_background": "light"
     },
     "output_type": "display_data"
    }
   ],
   "source": [
    "# Расчет кумулятивной конверсии\n",
    "cumulativeData['conversion'] = cumulativeData['orders']/cumulativeData['visitors']\n",
    "\n",
    "# Отделение данных по группе A\n",
    "cumulativeDataA = cumulativeData[cumulativeData['group']=='A']\n",
    "\n",
    "# Отделение данных по группе B\n",
    "cumulativeDataB = cumulativeData[cumulativeData['group']=='B']\n",
    "\n",
    "# Построение графика\n",
    "plt.plot(cumulativeDataA['date'], cumulativeDataA['conversion'], label='A')\n",
    "plt.plot(cumulativeDataB['date'], cumulativeDataB['conversion'], label='B')\n",
    "plt.legend()\n",
    "\n",
    "# Масштаб осей\n",
    "plt.axis([dt.datetime(2019, 8, 1), dt.datetime(2019, 9, 1), 0, 0.05])\n",
    "plt.axhline(y=0.03, color='black', linestyle='--')\n",
    "plt.title('График кумулятивной конверсии по группам')\n",
    "plt.xlabel('Дата')\n",
    "plt.legend()\n",
    "plt.xticks(rotation=45)\n",
    "plt.show()"
   ]
  },
  {
   "cell_type": "markdown",
   "metadata": {},
   "source": [
    "**Вывод:** первое время группа А имела большую конверсию, но постепенно снизилась до уровня 0.03, в то время как группа Б со временем выровнялась и закрепилась выше 0.03."
   ]
  },
  {
   "cell_type": "markdown",
   "metadata": {},
   "source": [
    "### График относительного изменения кумулятивной конверсии группы B к группе A"
   ]
  },
  {
   "cell_type": "code",
   "execution_count": 16,
   "metadata": {},
   "outputs": [
    {
     "data": {
      "image/png": "[encoded data removed]",
      "text/plain": [
       "<Figure size 432x288 with 1 Axes>"
      ]
     },
     "metadata": {
      "needs_background": "light"
     },
     "output_type": "display_data"
    }
   ],
   "source": [
    "# Объединение таблиц cumulativeDataA и cumulativeDataB\n",
    "mergedCumulativeConversions = cumulativeDataA[['date','conversion']].merge(cumulativeDataB[['date','conversion']], left_on='date', right_on='date', how='left', suffixes=['A', 'B'])\n",
    "\n",
    "# Построение графика\n",
    "plt.plot(mergedCumulativeConversions['date'], mergedCumulativeConversions['conversionB']/mergedCumulativeConversions['conversionA']-1, label=\"Относительный прирост конверсии группы B относительно группы A\")\n",
    "\n",
    "plt.axhline(y=0, color='black', linestyle='--')\n",
    "plt.axhline(y=0.1, color='grey', linestyle='--')\n",
    "plt.axis([dt.datetime(2019, 8, 1), dt.datetime(2019, 9, 1), -0.2, 0.3])\n",
    "plt.title('График относительного изменения кумулятивной конверсии группы B к группе A')\n",
    "plt.xlabel('Дата')\n",
    "plt.legend(loc='lower center')\n",
    "plt.xticks(rotation=45)\n",
    "plt.show()"
   ]
  },
  {
   "cell_type": "markdown",
   "metadata": {},
   "source": [
    "**Вывод:** почти с самого начала теста группа В лидирует по конверсии, в середине теста была лучше почти на 20% и в последующем закрепилась выше 10%."
   ]
  },
  {
   "cell_type": "markdown",
   "metadata": {},
   "source": [
    "### Точечный график количества заказов по пользователям"
   ]
  },
  {
   "cell_type": "code",
   "execution_count": 17,
   "metadata": {},
   "outputs": [
    {
     "data": {
      "image/png": "[encoded data removed]",
      "text/plain": [
       "<Figure size 432x288 with 1 Axes>"
      ]
     },
     "metadata": {
      "needs_background": "light"
     },
     "output_type": "display_data"
    }
   ],
   "source": [
    "# Группировка заказов по пользователям\n",
    "ordersByUsers = (\n",
    "    orders.groupby('visitor_id', as_index=False)\n",
    "    .agg({'transaction_id': 'nunique'})\n",
    ")\n",
    "ordersByUsers.columns = ['visitor_id', 'orders']\n",
    "\n",
    "# Серия из чисел от 0 до количества наблюдений в ordersByUsers\n",
    "x_values = pd.Series(range(0, len(ordersByUsers)))\n",
    "\n",
    "# Построение графика\n",
    "plt.scatter(x_values, ordersByUsers['orders'])\n",
    "plt.title('График количества заказов по пользователям')\n",
    "plt.ylabel('Кол-во заказов')\n",
    "plt.xlabel('Посетители')\n",
    "plt.show()"
   ]
  },
  {
   "cell_type": "markdown",
   "metadata": {},
   "source": [
    "**Вывод:** пользователей сделавших больше 2-х заказов очень мало, они вполне могут быть аномальными. А для того, чтобы определить является ли количество заказов равным 2 аномальным, необходимо воспользоваться расчетом перцентилей количества заказов на пользователя."
   ]
  },
  {
   "cell_type": "markdown",
   "metadata": {},
   "source": [
    "###  Расчет 95-й и 99-й перцентили количества заказов на пользователя"
   ]
  },
  {
   "cell_type": "code",
   "execution_count": 18,
   "metadata": {},
   "outputs": [
    {
     "data": {
      "text/plain": [
       "array([2., 4.])"
      ]
     },
     "execution_count": 18,
     "metadata": {},
     "output_type": "execute_result"
    }
   ],
   "source": [
    "# Расчет 95 и 99 перцентили количества заказов на одного пользователя\n",
    "np.percentile(ordersByUsers['orders'], [95, 99])"
   ]
  },
  {
   "cell_type": "markdown",
   "metadata": {},
   "source": [
    "**Вывод:** Не более 5% пользователей оформляли больше 2-х заказов и всего лишь 1% пользователей заказывали более 4-х раз.\n",
    "Данные показатели позволяют отсеять аномальных пользователей с количеством заказов больше одного."
   ]
  },
  {
   "cell_type": "markdown",
   "metadata": {},
   "source": [
    "### График стоимостей заказов"
   ]
  },
  {
   "cell_type": "code",
   "execution_count": 19,
   "metadata": {},
   "outputs": [
    {
     "data": {
      "image/png": "[encoded data removed]",
      "text/plain": [
       "<Figure size 432x288 with 1 Axes>"
      ]
     },
     "metadata": {
      "needs_background": "light"
     },
     "output_type": "display_data"
    }
   ],
   "source": [
    "# Определение кол-во наблюдений\n",
    "x_values = pd.Series(range(0, len(orders['revenue'])))\n",
    "\n",
    "# Построение графика\n",
    "plt.scatter(x_values, orders['revenue'])\n",
    "plt.title('График стоимостей заказов')\n",
    "plt.ylabel('Стоимость заказа')\n",
    "plt.xlabel('Наблюдения')\n",
    "plt.show()"
   ]
  },
  {
   "cell_type": "code",
   "execution_count": 20,
   "metadata": {},
   "outputs": [
    {
     "data": {
      "image/png": "[encoded data removed]",
      "text/plain": [
       "<Figure size 432x288 with 1 Axes>"
      ]
     },
     "metadata": {
      "needs_background": "light"
     },
     "output_type": "display_data"
    }
   ],
   "source": [
    "# Построение графика без учета выбросов\n",
    "plt.scatter(x_values, orders['revenue'])\n",
    "plt.title('График стоимостей заказов')\n",
    "plt.ylabel('Стоимость заказа')\n",
    "plt.xlabel('Наблюдения')\n",
    "plt.ylim(0, 125000)\n",
    "plt.show()"
   ]
  },
  {
   "cell_type": "markdown",
   "metadata": {},
   "source": [
    "**Вывод:** заказ стоимость более 1 000 000 руб. выглядит аномально, заказов более 200 000 руб. не так много. Необходимо рассчитать 95-й и 99-й перцентили стоимости заказов."
   ]
  },
  {
   "cell_type": "markdown",
   "metadata": {},
   "source": [
    "### Расчет 95-й и 99-й перцентили стоимости заказов"
   ]
  },
  {
   "cell_type": "code",
   "execution_count": 21,
   "metadata": {},
   "outputs": [
    {
     "data": {
      "text/plain": [
       "array([28000. , 58233.2])"
      ]
     },
     "execution_count": 21,
     "metadata": {},
     "output_type": "execute_result"
    }
   ],
   "source": [
    "# Расчет 95 и 99 перцентили стоимости заказов\n",
    "np.percentile(orders['revenue'], [95, 99])"
   ]
  },
  {
   "cell_type": "markdown",
   "metadata": {},
   "source": [
    "**Вывод:** не более, чем у 5% заказов чек дороже 28 000 рублей. И не больше чем у 1% заказов - дороже 58 233 руб. Заказы стоимостью свыше 28 000 руб. можно принять как аномальные."
   ]
  },
  {
   "cell_type": "markdown",
   "metadata": {},
   "source": [
    "### Статистическая значимость различий в конверсии между группами по «сырым» данным\n",
    "Сформулируем гипотезы:\n",
    "* Нулевая: различий в конверсии между группами нет.\n",
    "* Альтернативная: различия в конверсии между группами есть.\n",
    "\n",
    "Проверка статистической значимости с использованием критерия Манна-Уитни. Значение alpha = 0.05."
   ]
  },
  {
   "cell_type": "code",
   "execution_count": 22,
   "metadata": {},
   "outputs": [
    {
     "data": {
      "text/html": [
       "<div>\n",
       "<style scoped>\n",
       "    .dataframe tbody tr th:only-of-type {\n",
       "        vertical-align: middle;\n",
       "    }\n",
       "\n",
       "    .dataframe tbody tr th {\n",
       "        vertical-align: top;\n",
       "    }\n",
       "\n",
       "    .dataframe thead th {\n",
       "        text-align: right;\n",
       "    }\n",
       "</style>\n",
       "<table border=\"1\" class=\"dataframe\">\n",
       "  <thead>\n",
       "    <tr style=\"text-align: right;\">\n",
       "      <th></th>\n",
       "      <th>date</th>\n",
       "      <th>ordersPerDateA</th>\n",
       "      <th>revenuePerDateA</th>\n",
       "      <th>ordersPerDateB</th>\n",
       "      <th>revenuePerDateB</th>\n",
       "      <th>ordersCummulativeA</th>\n",
       "      <th>revenueCummulativeA</th>\n",
       "      <th>ordersCummulativeB</th>\n",
       "      <th>revenueCummulativeB</th>\n",
       "      <th>visitorsPerDateA</th>\n",
       "      <th>visitorsPerDateB</th>\n",
       "      <th>visitorsCummulativeA</th>\n",
       "      <th>visitorsCummulativeB</th>\n",
       "    </tr>\n",
       "  </thead>\n",
       "  <tbody>\n",
       "    <tr>\n",
       "      <th>0</th>\n",
       "      <td>2019-08-01</td>\n",
       "      <td>24</td>\n",
       "      <td>148579</td>\n",
       "      <td>21</td>\n",
       "      <td>101217</td>\n",
       "      <td>24</td>\n",
       "      <td>148579</td>\n",
       "      <td>21</td>\n",
       "      <td>101217</td>\n",
       "      <td>719</td>\n",
       "      <td>713</td>\n",
       "      <td>719</td>\n",
       "      <td>713</td>\n",
       "    </tr>\n",
       "    <tr>\n",
       "      <th>1</th>\n",
       "      <td>2019-08-02</td>\n",
       "      <td>20</td>\n",
       "      <td>93822</td>\n",
       "      <td>24</td>\n",
       "      <td>165531</td>\n",
       "      <td>44</td>\n",
       "      <td>242401</td>\n",
       "      <td>45</td>\n",
       "      <td>266748</td>\n",
       "      <td>619</td>\n",
       "      <td>581</td>\n",
       "      <td>1338</td>\n",
       "      <td>1294</td>\n",
       "    </tr>\n",
       "    <tr>\n",
       "      <th>2</th>\n",
       "      <td>2019-08-03</td>\n",
       "      <td>24</td>\n",
       "      <td>112473</td>\n",
       "      <td>16</td>\n",
       "      <td>114248</td>\n",
       "      <td>68</td>\n",
       "      <td>354874</td>\n",
       "      <td>61</td>\n",
       "      <td>380996</td>\n",
       "      <td>507</td>\n",
       "      <td>509</td>\n",
       "      <td>1845</td>\n",
       "      <td>1803</td>\n",
       "    </tr>\n",
       "    <tr>\n",
       "      <th>3</th>\n",
       "      <td>2019-08-04</td>\n",
       "      <td>16</td>\n",
       "      <td>70825</td>\n",
       "      <td>17</td>\n",
       "      <td>108571</td>\n",
       "      <td>84</td>\n",
       "      <td>425699</td>\n",
       "      <td>78</td>\n",
       "      <td>489567</td>\n",
       "      <td>717</td>\n",
       "      <td>770</td>\n",
       "      <td>2562</td>\n",
       "      <td>2573</td>\n",
       "    </tr>\n",
       "    <tr>\n",
       "      <th>4</th>\n",
       "      <td>2019-08-05</td>\n",
       "      <td>25</td>\n",
       "      <td>124218</td>\n",
       "      <td>23</td>\n",
       "      <td>92428</td>\n",
       "      <td>109</td>\n",
       "      <td>549917</td>\n",
       "      <td>101</td>\n",
       "      <td>581995</td>\n",
       "      <td>756</td>\n",
       "      <td>707</td>\n",
       "      <td>3318</td>\n",
       "      <td>3280</td>\n",
       "    </tr>\n",
       "  </tbody>\n",
       "</table>\n",
       "</div>"
      ],
      "text/plain": [
       "        date  ordersPerDateA  revenuePerDateA  ordersPerDateB  \\\n",
       "0 2019-08-01              24           148579              21   \n",
       "1 2019-08-02              20            93822              24   \n",
       "2 2019-08-03              24           112473              16   \n",
       "3 2019-08-04              16            70825              17   \n",
       "4 2019-08-05              25           124218              23   \n",
       "\n",
       "   revenuePerDateB  ordersCummulativeA  revenueCummulativeA  \\\n",
       "0           101217                  24               148579   \n",
       "1           165531                  44               242401   \n",
       "2           114248                  68               354874   \n",
       "3           108571                  84               425699   \n",
       "4            92428                 109               549917   \n",
       "\n",
       "   ordersCummulativeB  revenueCummulativeB  visitorsPerDateA  \\\n",
       "0                  21               101217               719   \n",
       "1                  45               266748               619   \n",
       "2                  61               380996               507   \n",
       "3                  78               489567               717   \n",
       "4                 101               581995               756   \n",
       "\n",
       "   visitorsPerDateB  visitorsCummulativeA  visitorsCummulativeB  \n",
       "0               713                   719                   713  \n",
       "1               581                  1338                  1294  \n",
       "2               509                  1845                  1803  \n",
       "3               770                  2562                  2573  \n",
       "4               707                  3318                  3280  "
      ]
     },
     "execution_count": 22,
     "metadata": {},
     "output_type": "execute_result"
    }
   ],
   "source": [
    "# Разделение посетителей группы А по дням\n",
    "visitorsADaily = visitors[visitors['group'] == 'A'][['date', 'visitors']]\n",
    "visitorsADaily.columns = ['date', 'visitorsPerDateA']\n",
    "\n",
    "# Датафрейм с кумулятивным количеством посетителей по дням в группе А\n",
    "visitorsACummulative = visitorsADaily.apply(\n",
    "    lambda x: visitorsADaily[visitorsADaily['date'] <= x['date']].agg(\n",
    "        {'date': 'max', 'visitorsPerDateA': 'sum'}\n",
    "    ),\n",
    "    axis=1,\n",
    ")\n",
    "visitorsACummulative.columns = ['date', 'visitorsCummulativeA']\n",
    "\n",
    "# Разделение посетителей группы В по дням\n",
    "visitorsBDaily = visitors[visitors['group'] == 'B'][['date', 'visitors']]\n",
    "visitorsBDaily.columns = ['date', 'visitorsPerDateB']\n",
    "\n",
    "# Датафрейм с кумулятивным количеством посетителей по дням в группе В\n",
    "visitorsBCummulative = visitorsBDaily.apply(\n",
    "    lambda x: visitorsBDaily[visitorsBDaily['date'] <= x['date']].agg(\n",
    "        {'date': 'max', 'visitorsPerDateB': 'sum'}\n",
    "    ),\n",
    "    axis=1,\n",
    ")\n",
    "visitorsBCummulative.columns = ['date', 'visitorsCummulativeB']\n",
    "\n",
    "# Разделение заказов группы А по дням\n",
    "ordersADaily = (\n",
    "    orders[orders['group'] == 'A'][['date', 'transaction_id', 'visitor_id', 'revenue']]\n",
    "    .groupby('date', as_index=False)\n",
    "    .agg({'transaction_id': pd.Series.nunique, 'revenue': 'sum'})\n",
    ")\n",
    "ordersADaily.columns = ['date', 'ordersPerDateA', 'revenuePerDateA']\n",
    "\n",
    "# Датафрейм с кумулятивным количеством заказов и выручки по дням в группе А\n",
    "ordersACummulative = ordersADaily.apply(\n",
    "    lambda x: ordersADaily[ordersADaily['date'] <= x['date']].agg(\n",
    "        {'date': 'max', 'ordersPerDateA': 'sum', 'revenuePerDateA': 'sum'}\n",
    "    ),\n",
    "    axis=1,\n",
    ").sort_values(by=['date'])\n",
    "ordersACummulative.columns = [\n",
    "    'date',\n",
    "    'ordersCummulativeA',\n",
    "    'revenueCummulativeA',\n",
    "]\n",
    "\n",
    "# Разделение заказов группы В по дням\n",
    "ordersBDaily = (\n",
    "    orders[orders['group'] == 'B'][['date', 'transaction_id', 'visitor_id', 'revenue']]\n",
    "    .groupby('date', as_index=False)\n",
    "    .agg({'transaction_id': pd.Series.nunique, 'revenue': 'sum'})\n",
    ")\n",
    "ordersBDaily.columns = ['date', 'ordersPerDateB', 'revenuePerDateB']\n",
    "\n",
    "# Датафрейм с кумулятивным количеством заказов и выручки по дням в группе В\n",
    "ordersBCummulative = ordersBDaily.apply(\n",
    "    lambda x: ordersBDaily[ordersBDaily['date'] <= x['date']].agg(\n",
    "        {'date': 'max', 'ordersPerDateB': 'sum', 'revenuePerDateB': 'sum'}\n",
    "    ),\n",
    "    axis=1,\n",
    ").sort_values(by=['date'])\n",
    "ordersBCummulative.columns = [\n",
    "    'date',\n",
    "    'ordersCummulativeB',\n",
    "    'revenueCummulativeB',\n",
    "]\n",
    "\n",
    "# Объедение полученных ранее таблиц в один датафрейм\n",
    "data = (\n",
    "    ordersADaily.merge(ordersBDaily, left_on='date', right_on='date', how='left')\n",
    "    .merge(ordersACummulative, left_on='date', right_on='date', how='left')\n",
    "    .merge(ordersBCummulative, left_on='date', right_on='date', how='left')\n",
    "    .merge(visitorsADaily, left_on='date', right_on='date', how='left')\n",
    "    .merge(visitorsBDaily, left_on='date', right_on='date', how='left')\n",
    "    .merge(visitorsACummulative, left_on='date', right_on='date', how='left')\n",
    "    .merge(visitorsBCummulative, left_on='date', right_on='date', how='left')\n",
    ")\n",
    "\n",
    "data.head(5)"
   ]
  },
  {
   "cell_type": "markdown",
   "metadata": {},
   "source": [
    "**Названия столбцов данных:**\n",
    "* `date` — дата;\n",
    "* `ordersPerDateA` — количество заказов в выбранную дату в группе A;\n",
    "* `revenuePerDateA` — суммарная выручка в выбранную дату в группе A;\n",
    "* `ordersPerDateB` — количество заказов в выбранную дату в группе B;\n",
    "* `revenuePerDateB` — суммарная выручка в выбранную дату в группе B;\n",
    "* `ordersCummulativeA` — суммарное число заказов до выбранной даты включительно в группе A;\n",
    "* `revenueCummulativeA` — суммарная выручка до выбранной даты включительно в группе A;\n",
    "* `rdersCummulativeB` — суммарное количество заказов до выбранной даты включительно в группе B;\n",
    "* `revenueCummulativeB` — суммарная выручка до выбранной даты включительно в группе B;\n",
    "* `visitorsPerDateA` — количество пользователей в выбранную дату в группе A;\n",
    "* `visitorsPerDateB` — количество пользователей в выбранную дату в группе B;\n",
    "* `visitorsCummulativeA` — количество пользователей до выбранной даты включительно в группе A;\n",
    "* `visitorsCummulativeB` — количество пользователей до выбранной даты включительно в группе B."
   ]
  },
  {
   "cell_type": "code",
   "execution_count": 23,
   "metadata": {},
   "outputs": [
    {
     "name": "stdout",
     "output_type": "stream",
     "text": [
      "p-value = 0.017\n",
      "Относительный прирост конверсии группы В к конверсии группы А = 13.8%\n"
     ]
    }
   ],
   "source": [
    "# Количество заказов для пользователей группы А\n",
    "ordersByUsersA = (\n",
    "    orders[orders['group'] == 'A']\n",
    "    .groupby('visitor_id', as_index=False)\n",
    "    .agg({'transaction_id': pd.Series.nunique})\n",
    ")\n",
    "ordersByUsersA.columns = ['visitor_id', 'orders']\n",
    "\n",
    "# Количество заказов для пользователей группы В\n",
    "ordersByUsersB = (\n",
    "    orders[orders['group'] == 'B']\n",
    "    .groupby('visitor_id', as_index=False)\n",
    "    .agg({'transaction_id': pd.Series.nunique})\n",
    ")\n",
    "ordersByUsersB.columns = ['visitor_id', 'orders']\n",
    "\n",
    "# С учетом нулей для пользователей, которые ничего не заказывали.\n",
    "sampleA = pd.concat([ordersByUsersA['orders'],pd.Series(0, index=np.arange(data['visitorsPerDateA'].sum() - len(ordersByUsersA['orders'])), name='orders')],axis=0)\n",
    "sampleB = pd.concat([ordersByUsersB['orders'],pd.Series(0, index=np.arange(data['visitorsPerDateB'].sum() - len(ordersByUsersB['orders'])), name='orders')],axis=0)\n",
    "\n",
    "# Расчет статистической значимости различия конверсии с помощью теста Манна-Уитни\n",
    "print(\"p-value =\", \"{0:.3f}\".format(stats.mannwhitneyu(sampleA, sampleB)[1]))\n",
    "\n",
    "# Расчет относительного различия в конверсии между группами\n",
    "print(\"Относительный прирост конверсии группы В к конверсии группы А =\", \"{0:.1%}\".format(sampleB.mean() / sampleA.mean() - 1))"
   ]
  },
  {
   "cell_type": "markdown",
   "metadata": {},
   "source": [
    "**Вывод:** p-value меньше 5%, следовательно нулевая гипотеза отвергается. Согласно анализу \"сырых\" данных в конверсиях между группами есть статистически значимые различия. Относительный прирост конверсии группы В к конверсии группы А = 13.8%."
   ]
  },
  {
   "cell_type": "markdown",
   "metadata": {},
   "source": [
    "### Статистическая значимость различий в среднем чеке заказа между группами по «сырым» данным\n",
    "* Нулевая гипотеза: различий в среднем чеке между группами нет.\n",
    "* Альтернативная гипотеза: различия в среднем чеке между группами есть."
   ]
  },
  {
   "cell_type": "code",
   "execution_count": 24,
   "metadata": {
    "scrolled": true
   },
   "outputs": [
    {
     "name": "stdout",
     "output_type": "stream",
     "text": [
      "p-value = 0.729\n",
      "Относительный прирост среднего чека группы B = 25.9%\n"
     ]
    }
   ],
   "source": [
    "print(\"p-value =\", '{0:.3f}'.format(stats.mannwhitneyu(orders[orders['group']=='A']['revenue'], orders[orders['group']=='B']['revenue'])[1]))\n",
    "print(\"Относительный прирост среднего чека группы B =\", '{0:.1%}'.format(orders[orders['group']=='B']['revenue'].mean()/orders[orders['group']=='A']['revenue'].mean()-1)) "
   ]
  },
  {
   "cell_type": "markdown",
   "metadata": {},
   "source": [
    "**Вывод:** p-value больше 5%, следовательно статистически значимых отличий в среднем чеке между группами нет. При этом относительное различие среднего чека = 25,9%, которое, вероятнее всего, обусловлено влиянием аномальных выбросов."
   ]
  },
  {
   "cell_type": "markdown",
   "metadata": {},
   "source": [
    "### Статистическая значимость различий в конверсии между группами по «очищенным» данным\n",
    "* Нулевая: различий в конверсии между группами нет.\n",
    "* Альтернативная: различия в конверсии между группами есть."
   ]
  },
  {
   "cell_type": "code",
   "execution_count": 25,
   "metadata": {},
   "outputs": [
    {
     "data": {
      "text/plain": [
       "111"
      ]
     },
     "execution_count": 25,
     "metadata": {},
     "output_type": "execute_result"
    }
   ],
   "source": [
    "# Определение аномальных пользователей с количеством заказов более 1 и стоимостью заказа более 28 000 руб.\n",
    "usersWithManyOrders = pd.concat(\n",
    "    [\n",
    "        ordersByUsersA[ordersByUsersA['orders'] > 1]['visitor_id'],\n",
    "        ordersByUsersB[ordersByUsersB['orders'] > 1]['visitor_id'],\n",
    "    ],\n",
    "    axis=0,\n",
    ")\n",
    "usersWithExpensiveOrders = orders[orders['revenue'] > 28000]['visitor_id']\n",
    "abnormalUsers = (\n",
    "    pd.concat([usersWithManyOrders, usersWithExpensiveOrders], axis=0)\n",
    "    .drop_duplicates()\n",
    "    .sort_values()\n",
    ")\n",
    "\n",
    "# Количество аномальных пользователей\n",
    "abnormalUsers.shape[0]"
   ]
  },
  {
   "cell_type": "code",
   "execution_count": 26,
   "metadata": {},
   "outputs": [
    {
     "name": "stdout",
     "output_type": "stream",
     "text": [
      "p-value = 0.016\n",
      "Относительный прирост конверсии группы В к конверсии группы А = 16.8%\n"
     ]
    }
   ],
   "source": [
    "# Датафрейм группы А с исключением аномальных пользователей\n",
    "sampleAFiltered = pd.concat(\n",
    "    [\n",
    "        ordersByUsersA[\n",
    "            np.logical_not(ordersByUsersA['visitor_id'].isin(abnormalUsers))\n",
    "        ]['orders'],\n",
    "        pd.Series(\n",
    "            0,\n",
    "            index=np.arange(\n",
    "                data['visitorsPerDateA'].sum() - len(ordersByUsersA['orders'])\n",
    "            ),\n",
    "            name='orders',\n",
    "        ),\n",
    "    ],\n",
    "    axis=0,\n",
    ")\n",
    "\n",
    "# Датафрейм группы В с исключением аномальных пользователей\n",
    "sampleBFiltered = pd.concat(\n",
    "    [\n",
    "        ordersByUsersB[\n",
    "            np.logical_not(ordersByUsersB['visitor_id'].isin(abnormalUsers))\n",
    "        ]['orders'],\n",
    "        pd.Series(\n",
    "            0,\n",
    "            index=np.arange(\n",
    "                data['visitorsPerDateB'].sum() - len(ordersByUsersB['orders'])\n",
    "            ),\n",
    "            name='orders',\n",
    "        ),\n",
    "    ],\n",
    "    axis=0,\n",
    ") \n",
    "\n",
    "print(\"p-value =\", '{0:.3f}'.format(stats.mannwhitneyu(sampleAFiltered, sampleBFiltered)[1]))\n",
    "print(\"Относительный прирост конверсии группы В к конверсии группы А =\", \"{0:.1%}\".format(sampleBFiltered.mean()/sampleAFiltered.mean()-1)) "
   ]
  },
  {
   "cell_type": "markdown",
   "metadata": {},
   "source": [
    "**Вывод:** статистическая значимость достигнута, сегмент группы В значительно лучше сегмаента А."
   ]
  },
  {
   "cell_type": "markdown",
   "metadata": {},
   "source": [
    "### Статистическая значимость различий в среднем чеке заказа между группами по «очищенным» данным\n",
    "* Нулевая гипотеза: различий в среднем чеке между группами нет.\n",
    "* Альтернативная гипотеза: различия в среднем чеке между группами есть."
   ]
  },
  {
   "cell_type": "code",
   "execution_count": 27,
   "metadata": {
    "scrolled": true
   },
   "outputs": [
    {
     "name": "stdout",
     "output_type": "stream",
     "text": [
      "p-value = 0.835\n",
      "Относительный прирост среднего чека группы B = -0.6%\n"
     ]
    }
   ],
   "source": [
    "print(\n",
    "    \"p-value =\", '{0:.3f}'.format(\n",
    "        stats.mannwhitneyu(\n",
    "            orders[\n",
    "                np.logical_and(\n",
    "                    orders['group'] == 'A',\n",
    "                    np.logical_not(orders['visitor_id'].isin(abnormalUsers)),\n",
    "                )\n",
    "            ]['revenue'],\n",
    "            orders[\n",
    "                np.logical_and(\n",
    "                    orders['group'] == 'B',\n",
    "                    np.logical_not(orders['visitor_id'].isin(abnormalUsers)),\n",
    "                )\n",
    "            ]['revenue'],\n",
    "        )[1]\n",
    "    )\n",
    ")\n",
    "\n",
    "print(\n",
    "    \"Относительный прирост среднего чека группы B =\", '{0:.1%}'.format(\n",
    "        orders[\n",
    "            np.logical_and(\n",
    "                orders['group'] == 'B',\n",
    "                np.logical_not(orders['visitor_id'].isin(abnormalUsers)),\n",
    "            )\n",
    "        ]['revenue'].mean()\n",
    "        / orders[\n",
    "            np.logical_and(\n",
    "                orders['group'] == 'A',\n",
    "                np.logical_not(orders['visitor_id'].isin(abnormalUsers)),\n",
    "            )\n",
    "        ]['revenue'].mean()\n",
    "        - 1\n",
    "    )\n",
    ")"
   ]
  },
  {
   "cell_type": "markdown",
   "metadata": {},
   "source": [
    "**Вывод:** p-value больше 5%, следовательно статистически значимых отличий в среднем чеке между группами нет. Относительное различие среднего чека = -0,6%."
   ]
  },
  {
   "cell_type": "markdown",
   "metadata": {},
   "source": [
    "## Общий вывод"
   ]
  },
  {
   "cell_type": "markdown",
   "metadata": {},
   "source": [
    "* Есть статистически значимое различие по конверсии между группами как по сырым данным, так и после фильтрации аномалий.\n",
    "* По сырым и очищенным данным нет статистически значимого различия по среднему чеку между группами.\n",
    "* График различия конверсии между группами сообщает, что результаты группы B лучше группы A: зафиксировались выше 10%.\n",
    "* График различия среднего чека колеблется, с его помощью были выдвинуты предположения об аномалиях. Сделать из этого графика определённые выводы нельзя.\n",
    "* Данный тест можно остановить и признать его успешным."
   ]
  }
 ],
 "metadata": {
  "ExecuteTimeLog": [
   {
    "duration": 53,
    "start_time": "2022-05-29T02:13:13.004Z"
   },
   {
    "duration": 1373,
    "start_time": "2022-05-29T02:13:18.746Z"
   },
   {
    "duration": 205,
    "start_time": "2022-05-29T02:13:20.479Z"
   },
   {
    "duration": 83,
    "start_time": "2022-05-29T02:15:42.682Z"
   },
   {
    "duration": 83,
    "start_time": "2022-05-29T02:15:50.975Z"
   },
   {
    "duration": 81,
    "start_time": "2022-05-29T02:16:04.104Z"
   },
   {
    "duration": 81,
    "start_time": "2022-05-29T02:16:10.504Z"
   },
   {
    "duration": 6,
    "start_time": "2022-05-29T02:29:58.960Z"
   },
   {
    "duration": 3,
    "start_time": "2022-05-29T02:30:40.260Z"
   },
   {
    "duration": 94,
    "start_time": "2022-05-29T02:30:40.265Z"
   },
   {
    "duration": 425,
    "start_time": "2022-05-29T02:30:40.361Z"
   },
   {
    "duration": 4,
    "start_time": "2022-05-29T02:32:54.024Z"
   },
   {
    "duration": 241,
    "start_time": "2022-05-29T02:32:57.861Z"
   },
   {
    "duration": 2,
    "start_time": "2022-05-29T02:37:32.274Z"
   },
   {
    "duration": 85,
    "start_time": "2022-05-29T02:37:32.279Z"
   },
   {
    "duration": 10,
    "start_time": "2022-05-29T02:37:32.365Z"
   },
   {
    "duration": 10,
    "start_time": "2022-05-29T02:45:43.433Z"
   },
   {
    "duration": 71,
    "start_time": "2022-05-29T03:06:01.478Z"
   },
   {
    "duration": 12,
    "start_time": "2022-05-29T03:12:54.789Z"
   },
   {
    "duration": 7,
    "start_time": "2022-05-29T03:13:18.619Z"
   },
   {
    "duration": 17,
    "start_time": "2022-05-29T03:13:36.090Z"
   },
   {
    "duration": 19,
    "start_time": "2022-05-29T03:15:02.045Z"
   },
   {
    "duration": 3,
    "start_time": "2022-05-29T03:18:34.828Z"
   },
   {
    "duration": 84,
    "start_time": "2022-05-29T03:18:34.832Z"
   },
   {
    "duration": 10,
    "start_time": "2022-05-29T03:18:34.918Z"
   },
   {
    "duration": 10,
    "start_time": "2022-05-29T03:18:34.930Z"
   },
   {
    "duration": 14,
    "start_time": "2022-05-29T03:18:34.942Z"
   },
   {
    "duration": 13,
    "start_time": "2022-05-29T03:18:34.958Z"
   },
   {
    "duration": 5,
    "start_time": "2022-05-29T03:18:34.973Z"
   },
   {
    "duration": 4,
    "start_time": "2022-05-29T03:18:34.980Z"
   },
   {
    "duration": 6,
    "start_time": "2022-05-29T03:19:03.691Z"
   },
   {
    "duration": 7,
    "start_time": "2022-05-29T03:19:12.962Z"
   },
   {
    "duration": 7,
    "start_time": "2022-05-29T03:22:25.754Z"
   },
   {
    "duration": 7,
    "start_time": "2022-05-29T03:22:46.963Z"
   },
   {
    "duration": 5,
    "start_time": "2022-05-29T03:34:18.675Z"
   },
   {
    "duration": 36,
    "start_time": "2022-05-29T03:39:03.947Z"
   },
   {
    "duration": 3,
    "start_time": "2022-05-29T03:39:38.042Z"
   },
   {
    "duration": 94,
    "start_time": "2022-05-29T03:39:38.046Z"
   },
   {
    "duration": 9,
    "start_time": "2022-05-29T03:39:38.142Z"
   },
   {
    "duration": 11,
    "start_time": "2022-05-29T03:39:38.153Z"
   },
   {
    "duration": 17,
    "start_time": "2022-05-29T03:39:38.166Z"
   },
   {
    "duration": 13,
    "start_time": "2022-05-29T03:39:38.184Z"
   },
   {
    "duration": 31,
    "start_time": "2022-05-29T03:39:38.199Z"
   },
   {
    "duration": 7,
    "start_time": "2022-05-29T03:39:38.231Z"
   },
   {
    "duration": 22,
    "start_time": "2022-05-29T03:39:38.240Z"
   },
   {
    "duration": 29,
    "start_time": "2022-05-29T03:40:11.397Z"
   },
   {
    "duration": 120,
    "start_time": "2022-05-29T03:40:21.622Z"
   },
   {
    "duration": 92,
    "start_time": "2022-05-29T03:40:51.348Z"
   },
   {
    "duration": 19,
    "start_time": "2022-05-29T03:44:04.988Z"
   },
   {
    "duration": 6,
    "start_time": "2022-05-29T03:44:30.130Z"
   },
   {
    "duration": 91,
    "start_time": "2022-05-29T03:51:19.067Z"
   },
   {
    "duration": 3,
    "start_time": "2022-05-29T03:53:31.988Z"
   },
   {
    "duration": 97,
    "start_time": "2022-05-29T03:53:31.993Z"
   },
   {
    "duration": 10,
    "start_time": "2022-05-29T03:53:32.091Z"
   },
   {
    "duration": 31,
    "start_time": "2022-05-29T03:53:32.102Z"
   },
   {
    "duration": 18,
    "start_time": "2022-05-29T03:53:32.134Z"
   },
   {
    "duration": 14,
    "start_time": "2022-05-29T03:53:32.155Z"
   },
   {
    "duration": 8,
    "start_time": "2022-05-29T03:53:32.171Z"
   },
   {
    "duration": 6,
    "start_time": "2022-05-29T03:53:32.180Z"
   },
   {
    "duration": 5,
    "start_time": "2022-05-29T03:53:32.188Z"
   },
   {
    "duration": 156,
    "start_time": "2022-05-29T03:53:32.194Z"
   },
   {
    "duration": 3,
    "start_time": "2022-05-29T03:58:49.889Z"
   },
   {
    "duration": 88,
    "start_time": "2022-05-29T03:58:49.894Z"
   },
   {
    "duration": 9,
    "start_time": "2022-05-29T03:58:49.983Z"
   },
   {
    "duration": 13,
    "start_time": "2022-05-29T03:58:49.994Z"
   },
   {
    "duration": 16,
    "start_time": "2022-05-29T03:58:50.009Z"
   },
   {
    "duration": 16,
    "start_time": "2022-05-29T03:58:50.027Z"
   },
   {
    "duration": 7,
    "start_time": "2022-05-29T03:58:50.044Z"
   },
   {
    "duration": 7,
    "start_time": "2022-05-29T03:58:50.053Z"
   },
   {
    "duration": 171,
    "start_time": "2022-05-29T03:58:50.061Z"
   },
   {
    "duration": 0,
    "start_time": "2022-05-29T03:58:50.234Z"
   },
   {
    "duration": 3,
    "start_time": "2022-05-29T04:01:20.772Z"
   },
   {
    "duration": 82,
    "start_time": "2022-05-29T04:01:20.854Z"
   },
   {
    "duration": 10,
    "start_time": "2022-05-29T04:01:20.938Z"
   },
   {
    "duration": 23,
    "start_time": "2022-05-29T04:01:20.950Z"
   },
   {
    "duration": 29,
    "start_time": "2022-05-29T04:01:20.975Z"
   },
   {
    "duration": 36,
    "start_time": "2022-05-29T04:01:21.006Z"
   },
   {
    "duration": 21,
    "start_time": "2022-05-29T04:01:21.043Z"
   },
   {
    "duration": 34,
    "start_time": "2022-05-29T04:01:21.066Z"
   },
   {
    "duration": 24,
    "start_time": "2022-05-29T04:01:21.102Z"
   },
   {
    "duration": 46,
    "start_time": "2022-05-29T04:01:21.128Z"
   },
   {
    "duration": 899,
    "start_time": "2022-05-29T04:04:11.858Z"
   },
   {
    "duration": 5,
    "start_time": "2022-05-29T04:05:19.661Z"
   },
   {
    "duration": 95,
    "start_time": "2022-05-29T04:05:19.669Z"
   },
   {
    "duration": 14,
    "start_time": "2022-05-29T04:05:19.766Z"
   },
   {
    "duration": 12,
    "start_time": "2022-05-29T04:05:19.782Z"
   },
   {
    "duration": 24,
    "start_time": "2022-05-29T04:05:19.797Z"
   },
   {
    "duration": 19,
    "start_time": "2022-05-29T04:05:19.827Z"
   },
   {
    "duration": 8,
    "start_time": "2022-05-29T04:05:19.848Z"
   },
   {
    "duration": 7,
    "start_time": "2022-05-29T04:05:19.858Z"
   },
   {
    "duration": 163,
    "start_time": "2022-05-29T04:05:19.866Z"
   },
   {
    "duration": 0,
    "start_time": "2022-05-29T04:05:20.030Z"
   },
   {
    "duration": 4,
    "start_time": "2022-05-29T04:05:54.267Z"
   },
   {
    "duration": 88,
    "start_time": "2022-05-29T04:05:54.272Z"
   },
   {
    "duration": 10,
    "start_time": "2022-05-29T04:05:54.362Z"
   },
   {
    "duration": 11,
    "start_time": "2022-05-29T04:05:54.374Z"
   },
   {
    "duration": 15,
    "start_time": "2022-05-29T04:05:54.387Z"
   },
   {
    "duration": 15,
    "start_time": "2022-05-29T04:05:54.403Z"
   },
   {
    "duration": 14,
    "start_time": "2022-05-29T04:05:54.419Z"
   },
   {
    "duration": 7,
    "start_time": "2022-05-29T04:05:54.434Z"
   },
   {
    "duration": 223,
    "start_time": "2022-05-29T04:05:54.443Z"
   },
   {
    "duration": 0,
    "start_time": "2022-05-29T04:05:54.668Z"
   },
   {
    "duration": 168,
    "start_time": "2022-05-29T04:07:02.224Z"
   },
   {
    "duration": 3,
    "start_time": "2022-05-29T04:07:26.055Z"
   },
   {
    "duration": 88,
    "start_time": "2022-05-29T04:07:26.061Z"
   },
   {
    "duration": 13,
    "start_time": "2022-05-29T04:07:26.152Z"
   },
   {
    "duration": 18,
    "start_time": "2022-05-29T04:07:26.167Z"
   },
   {
    "duration": 23,
    "start_time": "2022-05-29T04:07:26.187Z"
   },
   {
    "duration": 27,
    "start_time": "2022-05-29T04:07:26.212Z"
   },
   {
    "duration": 11,
    "start_time": "2022-05-29T04:07:26.241Z"
   },
   {
    "duration": 10,
    "start_time": "2022-05-29T04:07:26.254Z"
   },
   {
    "duration": 188,
    "start_time": "2022-05-29T04:07:26.266Z"
   },
   {
    "duration": 0,
    "start_time": "2022-05-29T04:07:26.456Z"
   },
   {
    "duration": 4,
    "start_time": "2022-05-29T04:07:35.655Z"
   },
   {
    "duration": 100,
    "start_time": "2022-05-29T04:07:35.661Z"
   },
   {
    "duration": 15,
    "start_time": "2022-05-29T04:07:35.763Z"
   },
   {
    "duration": 16,
    "start_time": "2022-05-29T04:07:35.781Z"
   },
   {
    "duration": 22,
    "start_time": "2022-05-29T04:07:35.799Z"
   },
   {
    "duration": 21,
    "start_time": "2022-05-29T04:07:35.823Z"
   },
   {
    "duration": 8,
    "start_time": "2022-05-29T04:07:35.846Z"
   },
   {
    "duration": 13,
    "start_time": "2022-05-29T04:07:35.855Z"
   },
   {
    "duration": 9,
    "start_time": "2022-05-29T04:07:35.870Z"
   },
   {
    "duration": 467,
    "start_time": "2022-05-29T04:07:35.881Z"
   },
   {
    "duration": 10,
    "start_time": "2022-05-29T04:09:24.081Z"
   },
   {
    "duration": 4,
    "start_time": "2022-05-29T04:09:45.598Z"
   },
   {
    "duration": 95,
    "start_time": "2022-05-29T04:09:45.604Z"
   },
   {
    "duration": 13,
    "start_time": "2022-05-29T04:09:45.700Z"
   },
   {
    "duration": 22,
    "start_time": "2022-05-29T04:09:45.715Z"
   },
   {
    "duration": 18,
    "start_time": "2022-05-29T04:09:45.739Z"
   },
   {
    "duration": 13,
    "start_time": "2022-05-29T04:09:45.759Z"
   },
   {
    "duration": 10,
    "start_time": "2022-05-29T04:09:45.774Z"
   },
   {
    "duration": 6,
    "start_time": "2022-05-29T04:09:45.786Z"
   },
   {
    "duration": 43,
    "start_time": "2022-05-29T04:09:45.795Z"
   },
   {
    "duration": 0,
    "start_time": "2022-05-29T04:09:45.840Z"
   },
   {
    "duration": 6,
    "start_time": "2022-05-29T04:10:18.409Z"
   },
   {
    "duration": 4,
    "start_time": "2022-05-29T04:10:20.970Z"
   },
   {
    "duration": 88,
    "start_time": "2022-05-29T04:10:20.977Z"
   },
   {
    "duration": 10,
    "start_time": "2022-05-29T04:10:21.066Z"
   },
   {
    "duration": 17,
    "start_time": "2022-05-29T04:10:21.079Z"
   },
   {
    "duration": 18,
    "start_time": "2022-05-29T04:10:21.097Z"
   },
   {
    "duration": 14,
    "start_time": "2022-05-29T04:10:21.116Z"
   },
   {
    "duration": 11,
    "start_time": "2022-05-29T04:10:21.132Z"
   },
   {
    "duration": 6,
    "start_time": "2022-05-29T04:10:21.145Z"
   },
   {
    "duration": 8,
    "start_time": "2022-05-29T04:10:21.153Z"
   },
   {
    "duration": 533,
    "start_time": "2022-05-29T04:10:21.163Z"
   },
   {
    "duration": 14,
    "start_time": "2022-05-29T04:11:47.610Z"
   },
   {
    "duration": 13,
    "start_time": "2022-05-29T04:11:57.385Z"
   },
   {
    "duration": 9,
    "start_time": "2022-05-29T04:12:10.634Z"
   },
   {
    "duration": 4,
    "start_time": "2022-05-29T04:13:30.989Z"
   },
   {
    "duration": 90,
    "start_time": "2022-05-29T04:13:30.996Z"
   },
   {
    "duration": 10,
    "start_time": "2022-05-29T04:13:31.088Z"
   },
   {
    "duration": 17,
    "start_time": "2022-05-29T04:13:31.100Z"
   },
   {
    "duration": 25,
    "start_time": "2022-05-29T04:13:31.119Z"
   },
   {
    "duration": 26,
    "start_time": "2022-05-29T04:13:31.145Z"
   },
   {
    "duration": 17,
    "start_time": "2022-05-29T04:13:31.173Z"
   },
   {
    "duration": 9,
    "start_time": "2022-05-29T04:13:31.192Z"
   },
   {
    "duration": 16,
    "start_time": "2022-05-29T04:13:31.202Z"
   },
   {
    "duration": 557,
    "start_time": "2022-05-29T04:13:31.221Z"
   },
   {
    "duration": 8,
    "start_time": "2022-05-29T04:14:03.752Z"
   },
   {
    "duration": 5,
    "start_time": "2022-05-29T04:14:32.960Z"
   },
   {
    "duration": 92,
    "start_time": "2022-05-29T04:14:32.967Z"
   },
   {
    "duration": 12,
    "start_time": "2022-05-29T04:14:33.061Z"
   },
   {
    "duration": 12,
    "start_time": "2022-05-29T04:14:33.075Z"
   },
   {
    "duration": 23,
    "start_time": "2022-05-29T04:14:33.089Z"
   },
   {
    "duration": 23,
    "start_time": "2022-05-29T04:14:33.114Z"
   },
   {
    "duration": 10,
    "start_time": "2022-05-29T04:14:33.139Z"
   },
   {
    "duration": 22,
    "start_time": "2022-05-29T04:14:33.151Z"
   },
   {
    "duration": 11,
    "start_time": "2022-05-29T04:14:33.176Z"
   },
   {
    "duration": 518,
    "start_time": "2022-05-29T04:14:33.191Z"
   },
   {
    "duration": 16,
    "start_time": "2022-05-29T04:14:33.711Z"
   },
   {
    "duration": 506,
    "start_time": "2022-05-29T04:15:30.811Z"
   },
   {
    "duration": 4,
    "start_time": "2022-05-29T04:15:33.946Z"
   },
   {
    "duration": 87,
    "start_time": "2022-05-29T04:15:33.953Z"
   },
   {
    "duration": 11,
    "start_time": "2022-05-29T04:15:34.041Z"
   },
   {
    "duration": 13,
    "start_time": "2022-05-29T04:15:34.053Z"
   },
   {
    "duration": 20,
    "start_time": "2022-05-29T04:15:34.068Z"
   },
   {
    "duration": 14,
    "start_time": "2022-05-29T04:15:34.089Z"
   },
   {
    "duration": 8,
    "start_time": "2022-05-29T04:15:34.127Z"
   },
   {
    "duration": 6,
    "start_time": "2022-05-29T04:15:34.137Z"
   },
   {
    "duration": 15,
    "start_time": "2022-05-29T04:15:34.145Z"
   },
   {
    "duration": 485,
    "start_time": "2022-05-29T04:15:34.161Z"
   },
   {
    "duration": 8,
    "start_time": "2022-05-29T04:15:34.647Z"
   },
   {
    "duration": 3,
    "start_time": "2022-05-29T04:17:44.117Z"
   },
   {
    "duration": 98,
    "start_time": "2022-05-29T04:17:44.122Z"
   },
   {
    "duration": 10,
    "start_time": "2022-05-29T04:17:44.222Z"
   },
   {
    "duration": 22,
    "start_time": "2022-05-29T04:17:44.233Z"
   },
   {
    "duration": 36,
    "start_time": "2022-05-29T04:17:44.256Z"
   },
   {
    "duration": 26,
    "start_time": "2022-05-29T04:17:44.294Z"
   },
   {
    "duration": 16,
    "start_time": "2022-05-29T04:17:44.321Z"
   },
   {
    "duration": 6,
    "start_time": "2022-05-29T04:17:44.339Z"
   },
   {
    "duration": 26,
    "start_time": "2022-05-29T04:17:44.347Z"
   },
   {
    "duration": 438,
    "start_time": "2022-05-29T04:17:44.374Z"
   },
   {
    "duration": 14,
    "start_time": "2022-05-29T04:17:44.813Z"
   },
   {
    "duration": 595,
    "start_time": "2022-05-29T04:19:46.904Z"
   },
   {
    "duration": 426,
    "start_time": "2022-05-29T04:20:05.105Z"
   },
   {
    "duration": 444,
    "start_time": "2022-05-29T04:20:13.911Z"
   },
   {
    "duration": 418,
    "start_time": "2022-05-29T04:20:38.071Z"
   },
   {
    "duration": 450,
    "start_time": "2022-05-29T04:20:51.049Z"
   },
   {
    "duration": 213,
    "start_time": "2022-05-29T05:05:08.472Z"
   },
   {
    "duration": 176,
    "start_time": "2022-05-29T05:06:26.894Z"
   },
   {
    "duration": 348,
    "start_time": "2022-05-29T05:17:04.314Z"
   },
   {
    "duration": 285,
    "start_time": "2022-05-29T05:19:55.296Z"
   },
   {
    "duration": 261,
    "start_time": "2022-05-29T05:20:45.952Z"
   },
   {
    "duration": 155,
    "start_time": "2022-05-29T05:26:49.059Z"
   },
   {
    "duration": 162,
    "start_time": "2022-05-29T05:27:14.043Z"
   },
   {
    "duration": 161,
    "start_time": "2022-05-29T05:27:20.049Z"
   },
   {
    "duration": 270,
    "start_time": "2022-05-29T05:28:10.714Z"
   },
   {
    "duration": 168,
    "start_time": "2022-05-29T05:28:49.274Z"
   },
   {
    "duration": 22,
    "start_time": "2022-05-29T05:33:59.732Z"
   },
   {
    "duration": 287,
    "start_time": "2022-05-29T05:34:46.275Z"
   },
   {
    "duration": 311,
    "start_time": "2022-05-29T05:39:30.826Z"
   },
   {
    "duration": 300,
    "start_time": "2022-05-29T05:41:53.796Z"
   },
   {
    "duration": 263,
    "start_time": "2022-05-29T05:42:05.644Z"
   },
   {
    "duration": 4,
    "start_time": "2022-05-29T05:42:48.731Z"
   },
   {
    "duration": 300,
    "start_time": "2022-05-29T05:43:07.004Z"
   },
   {
    "duration": 5,
    "start_time": "2022-05-29T05:43:53.818Z"
   },
   {
    "duration": 146,
    "start_time": "2022-05-29T05:44:28.771Z"
   },
   {
    "duration": 291,
    "start_time": "2022-05-29T05:44:59.364Z"
   },
   {
    "duration": 254,
    "start_time": "2022-05-29T05:45:43.653Z"
   },
   {
    "duration": 290,
    "start_time": "2022-05-29T05:45:52.307Z"
   },
   {
    "duration": 252,
    "start_time": "2022-05-29T05:46:05.475Z"
   },
   {
    "duration": 316,
    "start_time": "2022-05-29T05:46:20.699Z"
   },
   {
    "duration": 309,
    "start_time": "2022-05-29T05:46:51.518Z"
   },
   {
    "duration": 252,
    "start_time": "2022-05-29T05:47:27.460Z"
   },
   {
    "duration": 411,
    "start_time": "2022-05-29T05:47:58.995Z"
   },
   {
    "duration": 244,
    "start_time": "2022-05-29T05:48:13.771Z"
   },
   {
    "duration": 298,
    "start_time": "2022-05-29T05:49:29.021Z"
   },
   {
    "duration": 280,
    "start_time": "2022-05-29T05:49:39.036Z"
   },
   {
    "duration": 253,
    "start_time": "2022-05-29T05:50:40.567Z"
   },
   {
    "duration": 118,
    "start_time": "2022-05-29T06:00:48.844Z"
   },
   {
    "duration": 120,
    "start_time": "2022-05-29T06:03:36.076Z"
   },
   {
    "duration": 117,
    "start_time": "2022-05-29T06:03:47.838Z"
   },
   {
    "duration": 4,
    "start_time": "2022-05-29T06:12:27.332Z"
   },
   {
    "duration": 153,
    "start_time": "2022-05-29T06:18:55.596Z"
   },
   {
    "duration": 131,
    "start_time": "2022-05-29T06:21:35.374Z"
   },
   {
    "duration": 10,
    "start_time": "2022-05-29T06:26:14.032Z"
   },
   {
    "duration": 5,
    "start_time": "2022-05-29T06:26:30.811Z"
   },
   {
    "duration": 7,
    "start_time": "2022-05-29T06:38:17.280Z"
   },
   {
    "duration": 136,
    "start_time": "2022-05-29T06:46:41.404Z"
   },
   {
    "duration": 120,
    "start_time": "2022-05-29T06:48:02.924Z"
   },
   {
    "duration": 386,
    "start_time": "2022-05-29T06:55:36.785Z"
   },
   {
    "duration": 390,
    "start_time": "2022-05-29T06:56:17.460Z"
   },
   {
    "duration": 235,
    "start_time": "2022-05-29T06:57:03.008Z"
   },
   {
    "duration": 180,
    "start_time": "2022-05-29T07:07:06.521Z"
   },
   {
    "duration": 160,
    "start_time": "2022-05-29T07:09:44.156Z"
   },
   {
    "duration": 157,
    "start_time": "2022-05-29T07:11:09.057Z"
   },
   {
    "duration": 267,
    "start_time": "2022-05-29T07:17:41.423Z"
   },
   {
    "duration": 151,
    "start_time": "2022-05-29T07:17:54.271Z"
   },
   {
    "duration": 151,
    "start_time": "2022-05-29T07:18:11.073Z"
   },
   {
    "duration": 163,
    "start_time": "2022-05-29T07:18:15.454Z"
   },
   {
    "duration": 10,
    "start_time": "2022-05-29T07:19:25.087Z"
   },
   {
    "duration": 141,
    "start_time": "2022-05-29T07:22:21.651Z"
   },
   {
    "duration": 11,
    "start_time": "2022-05-29T07:22:23.918Z"
   },
   {
    "duration": 144,
    "start_time": "2022-05-29T07:22:44.175Z"
   },
   {
    "duration": 11,
    "start_time": "2022-05-29T07:22:51.825Z"
   },
   {
    "duration": 11,
    "start_time": "2022-05-29T07:31:50.422Z"
   },
   {
    "duration": 9,
    "start_time": "2022-05-29T07:32:31.111Z"
   },
   {
    "duration": 34,
    "start_time": "2022-05-29T07:36:20.963Z"
   },
   {
    "duration": 27,
    "start_time": "2022-05-29T07:41:55.822Z"
   },
   {
    "duration": 14,
    "start_time": "2022-05-29T07:42:53.103Z"
   },
   {
    "duration": 9,
    "start_time": "2022-05-29T07:45:02.698Z"
   },
   {
    "duration": 32,
    "start_time": "2022-05-29T07:45:06.553Z"
   },
   {
    "duration": 13,
    "start_time": "2022-05-29T07:45:13.302Z"
   },
   {
    "duration": 10,
    "start_time": "2022-05-29T07:45:35.743Z"
   },
   {
    "duration": 5,
    "start_time": "2022-05-29T07:45:39.237Z"
   },
   {
    "duration": 108,
    "start_time": "2022-05-29T07:45:39.244Z"
   },
   {
    "duration": 10,
    "start_time": "2022-05-29T07:45:39.354Z"
   },
   {
    "duration": 14,
    "start_time": "2022-05-29T07:45:39.365Z"
   },
   {
    "duration": 17,
    "start_time": "2022-05-29T07:45:39.381Z"
   },
   {
    "duration": 33,
    "start_time": "2022-05-29T07:45:39.399Z"
   },
   {
    "duration": 10,
    "start_time": "2022-05-29T07:45:39.444Z"
   },
   {
    "duration": 7,
    "start_time": "2022-05-29T07:45:39.455Z"
   },
   {
    "duration": 8,
    "start_time": "2022-05-29T07:45:39.463Z"
   },
   {
    "duration": 500,
    "start_time": "2022-05-29T07:45:39.473Z"
   },
   {
    "duration": 198,
    "start_time": "2022-05-29T07:45:39.977Z"
   },
   {
    "duration": 311,
    "start_time": "2022-05-29T07:45:40.177Z"
   },
   {
    "duration": 304,
    "start_time": "2022-05-29T07:45:40.489Z"
   },
   {
    "duration": 486,
    "start_time": "2022-05-29T07:45:40.795Z"
   },
   {
    "duration": 152,
    "start_time": "2022-05-29T07:45:41.283Z"
   },
   {
    "duration": 6,
    "start_time": "2022-05-29T07:45:41.440Z"
   },
   {
    "duration": 198,
    "start_time": "2022-05-29T07:45:41.448Z"
   },
   {
    "duration": 14,
    "start_time": "2022-05-29T07:45:41.650Z"
   },
   {
    "duration": 235,
    "start_time": "2022-05-29T07:45:41.666Z"
   },
   {
    "duration": 179,
    "start_time": "2022-05-29T07:45:41.903Z"
   },
   {
    "duration": 10,
    "start_time": "2022-05-29T07:45:42.084Z"
   },
   {
    "duration": 9,
    "start_time": "2022-05-29T07:45:42.095Z"
   },
   {
    "duration": 58,
    "start_time": "2022-05-29T07:45:42.106Z"
   },
   {
    "duration": 14,
    "start_time": "2022-05-29T07:45:42.166Z"
   },
   {
    "duration": 3,
    "start_time": "2022-05-29T07:45:59.105Z"
   },
   {
    "duration": 91,
    "start_time": "2022-05-29T07:45:59.110Z"
   },
   {
    "duration": 10,
    "start_time": "2022-05-29T07:45:59.203Z"
   },
   {
    "duration": 24,
    "start_time": "2022-05-29T07:45:59.215Z"
   },
   {
    "duration": 16,
    "start_time": "2022-05-29T07:45:59.242Z"
   },
   {
    "duration": 14,
    "start_time": "2022-05-29T07:45:59.260Z"
   },
   {
    "duration": 8,
    "start_time": "2022-05-29T07:45:59.275Z"
   },
   {
    "duration": 8,
    "start_time": "2022-05-29T07:45:59.285Z"
   },
   {
    "duration": 9,
    "start_time": "2022-05-29T07:45:59.295Z"
   },
   {
    "duration": 488,
    "start_time": "2022-05-29T07:45:59.328Z"
   },
   {
    "duration": 190,
    "start_time": "2022-05-29T07:45:59.830Z"
   },
   {
    "duration": 325,
    "start_time": "2022-05-29T07:46:00.022Z"
   },
   {
    "duration": 305,
    "start_time": "2022-05-29T07:46:00.349Z"
   },
   {
    "duration": 295,
    "start_time": "2022-05-29T07:46:00.656Z"
   },
   {
    "duration": 138,
    "start_time": "2022-05-29T07:46:00.953Z"
   },
   {
    "duration": 6,
    "start_time": "2022-05-29T07:46:01.092Z"
   },
   {
    "duration": 171,
    "start_time": "2022-05-29T07:46:01.099Z"
   },
   {
    "duration": 5,
    "start_time": "2022-05-29T07:46:01.272Z"
   },
   {
    "duration": 309,
    "start_time": "2022-05-29T07:46:01.279Z"
   },
   {
    "duration": 262,
    "start_time": "2022-05-29T07:46:01.590Z"
   },
   {
    "duration": 14,
    "start_time": "2022-05-29T07:46:01.854Z"
   },
   {
    "duration": 21,
    "start_time": "2022-05-29T07:46:01.870Z"
   },
   {
    "duration": 64,
    "start_time": "2022-05-29T07:46:01.893Z"
   },
   {
    "duration": 14,
    "start_time": "2022-05-29T07:46:01.959Z"
   },
   {
    "duration": 4,
    "start_time": "2022-05-29T07:59:38.035Z"
   },
   {
    "duration": 100,
    "start_time": "2022-05-29T07:59:38.041Z"
   },
   {
    "duration": 10,
    "start_time": "2022-05-29T07:59:38.142Z"
   },
   {
    "duration": 18,
    "start_time": "2022-05-29T07:59:38.154Z"
   },
   {
    "duration": 16,
    "start_time": "2022-05-29T07:59:38.174Z"
   },
   {
    "duration": 13,
    "start_time": "2022-05-29T07:59:38.191Z"
   },
   {
    "duration": 31,
    "start_time": "2022-05-29T07:59:38.206Z"
   },
   {
    "duration": 8,
    "start_time": "2022-05-29T07:59:38.238Z"
   },
   {
    "duration": 13,
    "start_time": "2022-05-29T07:59:38.248Z"
   },
   {
    "duration": 466,
    "start_time": "2022-05-29T07:59:38.262Z"
   },
   {
    "duration": 187,
    "start_time": "2022-05-29T07:59:38.730Z"
   },
   {
    "duration": 290,
    "start_time": "2022-05-29T07:59:38.918Z"
   },
   {
    "duration": 342,
    "start_time": "2022-05-29T07:59:39.209Z"
   },
   {
    "duration": 407,
    "start_time": "2022-05-29T07:59:39.553Z"
   },
   {
    "duration": 140,
    "start_time": "2022-05-29T07:59:39.962Z"
   },
   {
    "duration": 5,
    "start_time": "2022-05-29T07:59:40.104Z"
   },
   {
    "duration": 148,
    "start_time": "2022-05-29T07:59:40.110Z"
   },
   {
    "duration": 5,
    "start_time": "2022-05-29T07:59:40.260Z"
   },
   {
    "duration": 228,
    "start_time": "2022-05-29T07:59:40.266Z"
   },
   {
    "duration": 162,
    "start_time": "2022-05-29T07:59:40.496Z"
   },
   {
    "duration": 11,
    "start_time": "2022-05-29T07:59:40.659Z"
   },
   {
    "duration": 11,
    "start_time": "2022-05-29T07:59:40.671Z"
   },
   {
    "duration": 53,
    "start_time": "2022-05-29T07:59:40.684Z"
   },
   {
    "duration": 16,
    "start_time": "2022-05-29T07:59:40.739Z"
   },
   {
    "duration": 1060,
    "start_time": "2022-05-30T09:27:56.466Z"
   },
   {
    "duration": 77,
    "start_time": "2022-05-30T09:27:57.528Z"
   },
   {
    "duration": 10,
    "start_time": "2022-05-30T09:27:57.606Z"
   },
   {
    "duration": 9,
    "start_time": "2022-05-30T09:27:57.618Z"
   },
   {
    "duration": 20,
    "start_time": "2022-05-30T09:27:57.628Z"
   },
   {
    "duration": 13,
    "start_time": "2022-05-30T09:27:57.650Z"
   },
   {
    "duration": 7,
    "start_time": "2022-05-30T09:27:57.665Z"
   },
   {
    "duration": 6,
    "start_time": "2022-05-30T09:27:57.673Z"
   },
   {
    "duration": 8,
    "start_time": "2022-05-30T09:27:57.681Z"
   },
   {
    "duration": 548,
    "start_time": "2022-05-30T09:27:57.691Z"
   },
   {
    "duration": 232,
    "start_time": "2022-05-30T09:27:58.242Z"
   },
   {
    "duration": 268,
    "start_time": "2022-05-30T09:27:58.475Z"
   },
   {
    "duration": 279,
    "start_time": "2022-05-30T09:27:58.745Z"
   },
   {
    "duration": 325,
    "start_time": "2022-05-30T09:27:59.025Z"
   },
   {
    "duration": 125,
    "start_time": "2022-05-30T09:27:59.352Z"
   },
   {
    "duration": 5,
    "start_time": "2022-05-30T09:27:59.479Z"
   },
   {
    "duration": 139,
    "start_time": "2022-05-30T09:27:59.485Z"
   },
   {
    "duration": 4,
    "start_time": "2022-05-30T09:27:59.625Z"
   },
   {
    "duration": 225,
    "start_time": "2022-05-30T09:27:59.630Z"
   },
   {
    "duration": 222,
    "start_time": "2022-05-30T09:27:59.857Z"
   },
   {
    "duration": 11,
    "start_time": "2022-05-30T09:28:00.080Z"
   },
   {
    "duration": 9,
    "start_time": "2022-05-30T09:28:00.092Z"
   },
   {
    "duration": 52,
    "start_time": "2022-05-30T09:28:00.102Z"
   },
   {
    "duration": 18,
    "start_time": "2022-05-30T09:28:00.156Z"
   },
   {
    "duration": 4,
    "start_time": "2022-05-31T14:05:25.648Z"
   },
   {
    "duration": 87,
    "start_time": "2022-05-31T14:05:25.657Z"
   },
   {
    "duration": 11,
    "start_time": "2022-05-31T14:05:25.746Z"
   },
   {
    "duration": 31,
    "start_time": "2022-05-31T14:05:25.758Z"
   },
   {
    "duration": 28,
    "start_time": "2022-05-31T14:05:25.792Z"
   },
   {
    "duration": 19,
    "start_time": "2022-05-31T14:05:25.822Z"
   },
   {
    "duration": 15,
    "start_time": "2022-05-31T14:05:25.843Z"
   },
   {
    "duration": 19,
    "start_time": "2022-05-31T14:05:25.859Z"
   },
   {
    "duration": 62,
    "start_time": "2022-05-31T14:05:25.879Z"
   },
   {
    "duration": 541,
    "start_time": "2022-05-31T14:05:25.944Z"
   },
   {
    "duration": 198,
    "start_time": "2022-05-31T14:05:26.489Z"
   },
   {
    "duration": 330,
    "start_time": "2022-05-31T14:05:26.689Z"
   },
   {
    "duration": 288,
    "start_time": "2022-05-31T14:05:27.021Z"
   },
   {
    "duration": 297,
    "start_time": "2022-05-31T14:05:27.311Z"
   },
   {
    "duration": 227,
    "start_time": "2022-05-31T14:05:27.610Z"
   },
   {
    "duration": 7,
    "start_time": "2022-05-31T14:05:27.839Z"
   },
   {
    "duration": 180,
    "start_time": "2022-05-31T14:05:27.848Z"
   },
   {
    "duration": 6,
    "start_time": "2022-05-31T14:05:28.030Z"
   },
   {
    "duration": 318,
    "start_time": "2022-05-31T14:05:28.039Z"
   },
   {
    "duration": 175,
    "start_time": "2022-05-31T14:05:28.359Z"
   },
   {
    "duration": 14,
    "start_time": "2022-05-31T14:05:28.536Z"
   },
   {
    "duration": 29,
    "start_time": "2022-05-31T14:05:28.552Z"
   },
   {
    "duration": 62,
    "start_time": "2022-05-31T14:05:28.583Z"
   },
   {
    "duration": 13,
    "start_time": "2022-05-31T14:05:28.648Z"
   },
   {
    "duration": 7,
    "start_time": "2022-05-31T14:08:22.399Z"
   },
   {
    "duration": 6,
    "start_time": "2022-05-31T14:10:41.692Z"
   },
   {
    "duration": 569,
    "start_time": "2022-05-31T14:19:03.960Z"
   },
   {
    "duration": 492,
    "start_time": "2022-05-31T14:19:10.847Z"
   },
   {
    "duration": 11,
    "start_time": "2022-05-31T14:21:58.691Z"
   },
   {
    "duration": 449,
    "start_time": "2022-05-31T14:22:04.314Z"
   },
   {
    "duration": 443,
    "start_time": "2022-05-31T14:24:51.670Z"
   },
   {
    "duration": 398,
    "start_time": "2022-05-31T14:27:21.979Z"
   },
   {
    "duration": 379,
    "start_time": "2022-05-31T14:27:44.989Z"
   },
   {
    "duration": 409,
    "start_time": "2022-05-31T14:27:52.821Z"
   },
   {
    "duration": 406,
    "start_time": "2022-05-31T14:29:40.892Z"
   },
   {
    "duration": 417,
    "start_time": "2022-05-31T14:29:48.519Z"
   },
   {
    "duration": 572,
    "start_time": "2022-05-31T14:30:13.482Z"
   },
   {
    "duration": 656,
    "start_time": "2022-05-31T14:30:30.053Z"
   },
   {
    "duration": 573,
    "start_time": "2022-05-31T14:30:59.349Z"
   },
   {
    "duration": 444,
    "start_time": "2022-05-31T14:31:05.657Z"
   },
   {
    "duration": 477,
    "start_time": "2022-05-31T14:31:12.995Z"
   },
   {
    "duration": 416,
    "start_time": "2022-05-31T14:31:26.693Z"
   },
   {
    "duration": 423,
    "start_time": "2022-05-31T14:31:39.115Z"
   },
   {
    "duration": 465,
    "start_time": "2022-05-31T14:38:01.751Z"
   },
   {
    "duration": 429,
    "start_time": "2022-05-31T14:38:30.571Z"
   },
   {
    "duration": 1242,
    "start_time": "2022-05-31T23:34:49.177Z"
   },
   {
    "duration": 193,
    "start_time": "2022-05-31T23:34:50.421Z"
   },
   {
    "duration": 11,
    "start_time": "2022-05-31T23:34:50.616Z"
   },
   {
    "duration": 11,
    "start_time": "2022-05-31T23:34:50.629Z"
   },
   {
    "duration": 22,
    "start_time": "2022-05-31T23:34:50.641Z"
   },
   {
    "duration": 15,
    "start_time": "2022-05-31T23:34:50.664Z"
   },
   {
    "duration": 9,
    "start_time": "2022-05-31T23:34:50.680Z"
   },
   {
    "duration": 10,
    "start_time": "2022-05-31T23:34:50.690Z"
   },
   {
    "duration": 7,
    "start_time": "2022-05-31T23:34:50.701Z"
   },
   {
    "duration": 3,
    "start_time": "2022-05-31T23:34:50.728Z"
   },
   {
    "duration": 7,
    "start_time": "2022-05-31T23:34:50.732Z"
   },
   {
    "duration": 615,
    "start_time": "2022-05-31T23:34:50.741Z"
   },
   {
    "duration": 1,
    "start_time": "2022-05-31T23:34:51.357Z"
   },
   {
    "duration": 0,
    "start_time": "2022-05-31T23:34:51.359Z"
   },
   {
    "duration": 0,
    "start_time": "2022-05-31T23:34:51.360Z"
   },
   {
    "duration": 0,
    "start_time": "2022-05-31T23:34:51.361Z"
   },
   {
    "duration": 0,
    "start_time": "2022-05-31T23:34:51.362Z"
   },
   {
    "duration": 0,
    "start_time": "2022-05-31T23:34:51.363Z"
   },
   {
    "duration": 0,
    "start_time": "2022-05-31T23:34:51.364Z"
   },
   {
    "duration": 0,
    "start_time": "2022-05-31T23:34:51.365Z"
   },
   {
    "duration": 0,
    "start_time": "2022-05-31T23:34:51.366Z"
   },
   {
    "duration": 0,
    "start_time": "2022-05-31T23:34:51.366Z"
   },
   {
    "duration": 0,
    "start_time": "2022-05-31T23:34:51.367Z"
   },
   {
    "duration": 0,
    "start_time": "2022-05-31T23:34:51.368Z"
   },
   {
    "duration": 0,
    "start_time": "2022-05-31T23:34:51.369Z"
   },
   {
    "duration": 0,
    "start_time": "2022-05-31T23:34:51.370Z"
   },
   {
    "duration": 7,
    "start_time": "2022-05-31T23:35:28.123Z"
   },
   {
    "duration": 8,
    "start_time": "2022-05-31T23:35:45.990Z"
   },
   {
    "duration": 30,
    "start_time": "2022-05-31T23:35:50.622Z"
   },
   {
    "duration": 25,
    "start_time": "2022-05-31T23:36:12.839Z"
   },
   {
    "duration": 493,
    "start_time": "2022-05-31T23:36:47.482Z"
   },
   {
    "duration": 395,
    "start_time": "2022-05-31T23:37:20.904Z"
   },
   {
    "duration": 427,
    "start_time": "2022-05-31T23:37:30.575Z"
   },
   {
    "duration": 429,
    "start_time": "2022-05-31T23:42:20.104Z"
   },
   {
    "duration": 469,
    "start_time": "2022-05-31T23:42:47.856Z"
   },
   {
    "duration": 434,
    "start_time": "2022-05-31T23:42:58.224Z"
   },
   {
    "duration": 425,
    "start_time": "2022-05-31T23:43:10.648Z"
   },
   {
    "duration": 423,
    "start_time": "2022-05-31T23:43:13.432Z"
   },
   {
    "duration": 418,
    "start_time": "2022-05-31T23:43:31.287Z"
   },
   {
    "duration": 403,
    "start_time": "2022-05-31T23:44:52.511Z"
   },
   {
    "duration": 4,
    "start_time": "2022-05-31T23:45:32.056Z"
   },
   {
    "duration": 82,
    "start_time": "2022-05-31T23:45:32.061Z"
   },
   {
    "duration": 10,
    "start_time": "2022-05-31T23:45:32.144Z"
   },
   {
    "duration": 16,
    "start_time": "2022-05-31T23:45:32.155Z"
   },
   {
    "duration": 24,
    "start_time": "2022-05-31T23:45:32.172Z"
   },
   {
    "duration": 18,
    "start_time": "2022-05-31T23:45:32.198Z"
   },
   {
    "duration": 13,
    "start_time": "2022-05-31T23:45:32.217Z"
   },
   {
    "duration": 5,
    "start_time": "2022-05-31T23:45:32.232Z"
   },
   {
    "duration": 14,
    "start_time": "2022-05-31T23:45:32.239Z"
   },
   {
    "duration": 8,
    "start_time": "2022-05-31T23:45:32.254Z"
   },
   {
    "duration": 11,
    "start_time": "2022-05-31T23:45:32.264Z"
   },
   {
    "duration": 404,
    "start_time": "2022-05-31T23:45:32.276Z"
   },
   {
    "duration": 246,
    "start_time": "2022-05-31T23:45:32.681Z"
   },
   {
    "duration": 273,
    "start_time": "2022-05-31T23:45:32.929Z"
   },
   {
    "duration": 296,
    "start_time": "2022-05-31T23:45:33.204Z"
   },
   {
    "duration": 297,
    "start_time": "2022-05-31T23:45:33.502Z"
   },
   {
    "duration": 121,
    "start_time": "2022-05-31T23:45:33.802Z"
   },
   {
    "duration": 5,
    "start_time": "2022-05-31T23:45:33.927Z"
   },
   {
    "duration": 130,
    "start_time": "2022-05-31T23:45:33.933Z"
   },
   {
    "duration": 5,
    "start_time": "2022-05-31T23:45:34.064Z"
   },
   {
    "duration": 214,
    "start_time": "2022-05-31T23:45:34.070Z"
   },
   {
    "duration": 160,
    "start_time": "2022-05-31T23:45:34.286Z"
   },
   {
    "duration": 9,
    "start_time": "2022-05-31T23:45:34.447Z"
   },
   {
    "duration": 9,
    "start_time": "2022-05-31T23:45:34.460Z"
   },
   {
    "duration": 33,
    "start_time": "2022-05-31T23:45:34.470Z"
   },
   {
    "duration": 11,
    "start_time": "2022-05-31T23:45:34.527Z"
   },
   {
    "duration": 3,
    "start_time": "2022-05-31T23:48:56.902Z"
   },
   {
    "duration": 87,
    "start_time": "2022-05-31T23:48:56.907Z"
   },
   {
    "duration": 10,
    "start_time": "2022-05-31T23:48:56.996Z"
   },
   {
    "duration": 15,
    "start_time": "2022-05-31T23:48:57.007Z"
   },
   {
    "duration": 18,
    "start_time": "2022-05-31T23:48:57.024Z"
   },
   {
    "duration": 13,
    "start_time": "2022-05-31T23:48:57.043Z"
   },
   {
    "duration": 11,
    "start_time": "2022-05-31T23:48:57.057Z"
   },
   {
    "duration": 6,
    "start_time": "2022-05-31T23:48:57.070Z"
   },
   {
    "duration": 20,
    "start_time": "2022-05-31T23:48:57.078Z"
   },
   {
    "duration": 8,
    "start_time": "2022-05-31T23:48:57.100Z"
   },
   {
    "duration": 9,
    "start_time": "2022-05-31T23:48:57.110Z"
   },
   {
    "duration": 438,
    "start_time": "2022-05-31T23:48:57.126Z"
   },
   {
    "duration": 173,
    "start_time": "2022-05-31T23:48:57.566Z"
   },
   {
    "duration": 270,
    "start_time": "2022-05-31T23:48:57.740Z"
   },
   {
    "duration": 318,
    "start_time": "2022-05-31T23:48:58.011Z"
   },
   {
    "duration": 296,
    "start_time": "2022-05-31T23:48:58.331Z"
   },
   {
    "duration": 207,
    "start_time": "2022-05-31T23:48:58.629Z"
   },
   {
    "duration": 5,
    "start_time": "2022-05-31T23:48:58.838Z"
   },
   {
    "duration": 155,
    "start_time": "2022-05-31T23:48:58.845Z"
   },
   {
    "duration": 6,
    "start_time": "2022-05-31T23:48:59.002Z"
   },
   {
    "duration": 222,
    "start_time": "2022-05-31T23:48:59.010Z"
   },
   {
    "duration": 170,
    "start_time": "2022-05-31T23:48:59.234Z"
   },
   {
    "duration": 21,
    "start_time": "2022-05-31T23:48:59.406Z"
   },
   {
    "duration": 10,
    "start_time": "2022-05-31T23:48:59.429Z"
   },
   {
    "duration": 35,
    "start_time": "2022-05-31T23:48:59.441Z"
   },
   {
    "duration": 15,
    "start_time": "2022-05-31T23:48:59.478Z"
   },
   {
    "duration": 28,
    "start_time": "2022-05-31T23:51:19.624Z"
   },
   {
    "duration": 22,
    "start_time": "2022-05-31T23:51:34.147Z"
   },
   {
    "duration": 21,
    "start_time": "2022-05-31T23:51:46.098Z"
   },
   {
    "duration": 10,
    "start_time": "2022-05-31T23:51:54.775Z"
   },
   {
    "duration": 124,
    "start_time": "2022-05-31T23:52:00.664Z"
   },
   {
    "duration": 12,
    "start_time": "2022-05-31T23:54:08.514Z"
   },
   {
    "duration": 119,
    "start_time": "2022-06-01T00:03:00.381Z"
   },
   {
    "duration": 128,
    "start_time": "2022-06-01T00:03:18.500Z"
   },
   {
    "duration": 116,
    "start_time": "2022-06-01T00:03:40.211Z"
   },
   {
    "duration": 123,
    "start_time": "2022-06-01T00:03:52.763Z"
   },
   {
    "duration": 126,
    "start_time": "2022-06-01T00:12:47.320Z"
   },
   {
    "duration": 4,
    "start_time": "2022-06-01T00:22:54.436Z"
   },
   {
    "duration": 81,
    "start_time": "2022-06-01T00:22:54.441Z"
   },
   {
    "duration": 10,
    "start_time": "2022-06-01T00:22:54.524Z"
   },
   {
    "duration": 11,
    "start_time": "2022-06-01T00:22:54.535Z"
   },
   {
    "duration": 26,
    "start_time": "2022-06-01T00:22:54.547Z"
   },
   {
    "duration": 33,
    "start_time": "2022-06-01T00:22:54.575Z"
   },
   {
    "duration": 9,
    "start_time": "2022-06-01T00:22:54.610Z"
   },
   {
    "duration": 11,
    "start_time": "2022-06-01T00:22:54.620Z"
   },
   {
    "duration": 18,
    "start_time": "2022-06-01T00:22:54.633Z"
   },
   {
    "duration": 13,
    "start_time": "2022-06-01T00:22:54.653Z"
   },
   {
    "duration": 12,
    "start_time": "2022-06-01T00:22:54.668Z"
   },
   {
    "duration": 415,
    "start_time": "2022-06-01T00:22:54.682Z"
   },
   {
    "duration": 165,
    "start_time": "2022-06-01T00:22:55.099Z"
   },
   {
    "duration": 261,
    "start_time": "2022-06-01T00:22:55.266Z"
   },
   {
    "duration": 280,
    "start_time": "2022-06-01T00:22:55.529Z"
   },
   {
    "duration": 410,
    "start_time": "2022-06-01T00:22:55.811Z"
   },
   {
    "duration": 163,
    "start_time": "2022-06-01T00:22:56.228Z"
   },
   {
    "duration": 6,
    "start_time": "2022-06-01T00:22:56.393Z"
   },
   {
    "duration": 192,
    "start_time": "2022-06-01T00:22:56.401Z"
   },
   {
    "duration": 130,
    "start_time": "2022-06-01T00:22:56.595Z"
   },
   {
    "duration": 5,
    "start_time": "2022-06-01T00:22:56.727Z"
   },
   {
    "duration": 230,
    "start_time": "2022-06-01T00:22:56.733Z"
   },
   {
    "duration": 175,
    "start_time": "2022-06-01T00:22:56.965Z"
   },
   {
    "duration": 14,
    "start_time": "2022-06-01T00:22:57.142Z"
   },
   {
    "duration": 13,
    "start_time": "2022-06-01T00:22:57.158Z"
   },
   {
    "duration": 58,
    "start_time": "2022-06-01T00:22:57.172Z"
   },
   {
    "duration": 22,
    "start_time": "2022-06-01T00:22:57.232Z"
   },
   {
    "duration": 1078,
    "start_time": "2022-06-01T12:35:03.999Z"
   },
   {
    "duration": 96,
    "start_time": "2022-06-01T12:35:05.079Z"
   },
   {
    "duration": 12,
    "start_time": "2022-06-01T12:35:05.176Z"
   },
   {
    "duration": 22,
    "start_time": "2022-06-01T12:35:05.190Z"
   },
   {
    "duration": 76,
    "start_time": "2022-06-01T12:35:05.213Z"
   },
   {
    "duration": 60,
    "start_time": "2022-06-01T12:35:05.291Z"
   },
   {
    "duration": 55,
    "start_time": "2022-06-01T12:35:05.353Z"
   },
   {
    "duration": 16,
    "start_time": "2022-06-01T12:35:05.410Z"
   },
   {
    "duration": 48,
    "start_time": "2022-06-01T12:35:05.428Z"
   },
   {
    "duration": 44,
    "start_time": "2022-06-01T12:35:05.479Z"
   },
   {
    "duration": 51,
    "start_time": "2022-06-01T12:35:05.524Z"
   },
   {
    "duration": 654,
    "start_time": "2022-06-01T12:35:05.576Z"
   },
   {
    "duration": 324,
    "start_time": "2022-06-01T12:35:06.231Z"
   },
   {
    "duration": 314,
    "start_time": "2022-06-01T12:35:06.557Z"
   },
   {
    "duration": 308,
    "start_time": "2022-06-01T12:35:06.873Z"
   },
   {
    "duration": 306,
    "start_time": "2022-06-01T12:35:07.183Z"
   },
   {
    "duration": 147,
    "start_time": "2022-06-01T12:35:07.491Z"
   },
   {
    "duration": 5,
    "start_time": "2022-06-01T12:35:07.640Z"
   },
   {
    "duration": 188,
    "start_time": "2022-06-01T12:35:07.647Z"
   },
   {
    "duration": 182,
    "start_time": "2022-06-01T12:35:07.837Z"
   },
   {
    "duration": 5,
    "start_time": "2022-06-01T12:35:08.021Z"
   },
   {
    "duration": 269,
    "start_time": "2022-06-01T12:35:08.028Z"
   },
   {
    "duration": 210,
    "start_time": "2022-06-01T12:35:08.299Z"
   },
   {
    "duration": 11,
    "start_time": "2022-06-01T12:35:08.511Z"
   },
   {
    "duration": 67,
    "start_time": "2022-06-01T12:35:08.523Z"
   },
   {
    "duration": 98,
    "start_time": "2022-06-01T12:35:08.592Z"
   },
   {
    "duration": 14,
    "start_time": "2022-06-01T12:35:08.691Z"
   }
  ],
  "kernelspec": {
   "display_name": "Python 3 (ipykernel)",
   "language": "python",
   "name": "python3"
  },
  "language_info": {
   "codemirror_mode": {
    "name": "ipython",
    "version": 3
   },
   "file_extension": ".py",
   "mimetype": "text/x-python",
   "name": "python",
   "nbconvert_exporter": "python",
   "pygments_lexer": "ipython3",
   "version": "3.9.5"
  },
  "toc": {
   "base_numbering": "1",
   "nav_menu": {},
   "number_sections": true,
   "sideBar": true,
   "skip_h1_title": true,
   "title_cell": "Table of Contents",
   "title_sidebar": "Contents",
   "toc_cell": false,
   "toc_position": {
    "height": "calc(100% - 180px)",
    "left": "10px",
    "top": "150px",
    "width": "494.391px"
   },
   "toc_section_display": true,
   "toc_window_display": true
  }
 },
 "nbformat": 4,
 "nbformat_minor": 2
}
