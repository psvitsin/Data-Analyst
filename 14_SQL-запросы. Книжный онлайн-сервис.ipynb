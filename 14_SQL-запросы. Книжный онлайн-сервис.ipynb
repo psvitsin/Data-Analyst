{
 "cells": [
  {
   "cell_type": "markdown",
   "metadata": {},
   "source": [
    "# SQL"
   ]
  },
  {
   "cell_type": "markdown",
   "metadata": {},
   "source": [
    "## Общие сведения по проекту\n",
    "\n",
    "**Краткое описание:** Коронавирус застал мир врасплох, изменив привычный порядок вещей. В свободное время жители городов больше не выходят на улицу, не посещают кафе и торговые центры. Зато стало больше времени для книг. Это заметили стартаперы — и бросились создавать приложения для тех, кто любит читать. Ваша компания решила быть на волне и купила крупный сервис для чтения книг по подписке.\n",
    "\n",
    "\n",
    "**Цель** — проанализировать базу данных и сформулировать ценностное предложение для нового продукта.\n",
    "\n",
    "**Задачи:**\n",
    "* Посчитать, сколько книг вышло после 1 января 2000 года;\n",
    "* Для каждой книги посчитать количество обзоров и среднюю оценку;\n",
    "* Определить издательство, которое выпустило наибольшее число книг толще 50 страниц, чтобы исключить из анализа брошюры;\n",
    "* Определить автора с самой высокой средней оценкой книг (учитывать только книги с 50 и более оценками);\n",
    "* Посчитать среднее количество обзоров от пользователей, которые поставили больше 50 оценок.\n",
    "\n",
    "\n",
    "\n",
    "**Описание данных:**\n",
    "\n",
    "**books:**\n",
    "* `book_id` — идентификатор книги;\n",
    "* `author_id` — идентификатор автора;\n",
    "* `title` — название книги;\n",
    "* `num_pages` — количество страниц;\n",
    "* `publication_date` — дата публикации книги;\n",
    "* `publisher_id` — идентификатор издателя.\n",
    "\n",
    "**authors:**\n",
    "* `author_id` — идентификатор автора;\n",
    "* `author` — имя автора.\n",
    "\n",
    "**publishers:**\n",
    "* `publisher_id` — идентификатор издательства;\n",
    "* `publisher` — название издательства;\n",
    "\n",
    "**ratings:**\n",
    "* `rating_id` — идентификатор оценки;\n",
    "* `book_id` — идентификатор книги;\n",
    "* `username` — имя пользователя, оставившего оценку;\n",
    "* `rating` — оценка книги.\n",
    "\n",
    "**reviews:**\n",
    "* `review_id` — идентификатор обзора;\n",
    "* `book_id` — идентификатор книги;\n",
    "* `username` — имя пользователя, написавшего обзор;\n",
    "* `text` — текст обзора.\n",
    "\n",
    "\n",
    "\n",
    "**План работы:**\n",
    "1. Исследовать таблицы — вывести первые строки;\n",
    "2. Сделать по одному SQL-запросу для решения каждого задания;\n",
    "3. Вывести результат каждого запроса в тетрадке;\n",
    "4. Опишите выводы по каждой из решённых задач."
   ]
  },
  {
   "cell_type": "markdown",
   "metadata": {},
   "source": [
    "## Исследование таблиц"
   ]
  },
  {
   "cell_type": "code",
   "execution_count": 1,
   "metadata": {},
   "outputs": [],
   "source": [
    "# Импорт необходимых библиотек\n",
    "import pandas as pd\n",
    "from sqlalchemy import create_engine\n",
    "\n",
    "# Подключение к базе данных\n",
    "db_config = {'user': 'praktikum_student', # имя пользователя\n",
    "            'pwd': 'Sdf4$2;d-d30pp', # пароль\n",
    "            'host': 'rc1b-wcoijxj3yxfsf3fs.mdb.yandexcloud.net',\n",
    "            'port': 6432, # порт подключения\n",
    "            'db': 'data-analyst-final-project-db'} # название базы данных\n",
    "\n",
    "connection_string = 'postgresql://{}:{}@{}:{}/{}'.format(db_config['user'],\n",
    "                                                db_config['pwd'],\n",
    "                                                db_config['host'],\n",
    "                                                db_config['port'],\n",
    "                                                db_config['db'])\n",
    "\n",
    "# Сохранение коннектора\n",
    "engine = create_engine(connection_string, connect_args={'sslmode':'require'})"
   ]
  },
  {
   "cell_type": "markdown",
   "metadata": {},
   "source": [
    "### Таблица books"
   ]
  },
  {
   "cell_type": "code",
   "execution_count": 2,
   "metadata": {},
   "outputs": [
    {
     "data": {
      "text/html": [
       "<div>\n",
       "<style scoped>\n",
       "    .dataframe tbody tr th:only-of-type {\n",
       "        vertical-align: middle;\n",
       "    }\n",
       "\n",
       "    .dataframe tbody tr th {\n",
       "        vertical-align: top;\n",
       "    }\n",
       "\n",
       "    .dataframe thead th {\n",
       "        text-align: right;\n",
       "    }\n",
       "</style>\n",
       "<table border=\"1\" class=\"dataframe\">\n",
       "  <thead>\n",
       "    <tr style=\"text-align: right;\">\n",
       "      <th></th>\n",
       "      <th>book_id</th>\n",
       "      <th>author_id</th>\n",
       "      <th>title</th>\n",
       "      <th>num_pages</th>\n",
       "      <th>publication_date</th>\n",
       "      <th>publisher_id</th>\n",
       "    </tr>\n",
       "  </thead>\n",
       "  <tbody>\n",
       "    <tr>\n",
       "      <th>0</th>\n",
       "      <td>1</td>\n",
       "      <td>546</td>\n",
       "      <td>'Salem's Lot</td>\n",
       "      <td>594</td>\n",
       "      <td>2005-11-01</td>\n",
       "      <td>93</td>\n",
       "    </tr>\n",
       "    <tr>\n",
       "      <th>1</th>\n",
       "      <td>2</td>\n",
       "      <td>465</td>\n",
       "      <td>1 000 Places to See Before You Die</td>\n",
       "      <td>992</td>\n",
       "      <td>2003-05-22</td>\n",
       "      <td>336</td>\n",
       "    </tr>\n",
       "    <tr>\n",
       "      <th>2</th>\n",
       "      <td>3</td>\n",
       "      <td>407</td>\n",
       "      <td>13 Little Blue Envelopes (Little Blue Envelope...</td>\n",
       "      <td>322</td>\n",
       "      <td>2010-12-21</td>\n",
       "      <td>135</td>\n",
       "    </tr>\n",
       "    <tr>\n",
       "      <th>3</th>\n",
       "      <td>4</td>\n",
       "      <td>82</td>\n",
       "      <td>1491: New Revelations of the Americas Before C...</td>\n",
       "      <td>541</td>\n",
       "      <td>2006-10-10</td>\n",
       "      <td>309</td>\n",
       "    </tr>\n",
       "    <tr>\n",
       "      <th>4</th>\n",
       "      <td>5</td>\n",
       "      <td>125</td>\n",
       "      <td>1776</td>\n",
       "      <td>386</td>\n",
       "      <td>2006-07-04</td>\n",
       "      <td>268</td>\n",
       "    </tr>\n",
       "  </tbody>\n",
       "</table>\n",
       "</div>"
      ],
      "text/plain": [
       "   book_id  author_id                                              title  \\\n",
       "0        1        546                                       'Salem's Lot   \n",
       "1        2        465                 1 000 Places to See Before You Die   \n",
       "2        3        407  13 Little Blue Envelopes (Little Blue Envelope...   \n",
       "3        4         82  1491: New Revelations of the Americas Before C...   \n",
       "4        5        125                                               1776   \n",
       "\n",
       "   num_pages publication_date  publisher_id  \n",
       "0        594       2005-11-01            93  \n",
       "1        992       2003-05-22           336  \n",
       "2        322       2010-12-21           135  \n",
       "3        541       2006-10-10           309  \n",
       "4        386       2006-07-04           268  "
      ]
     },
     "execution_count": 2,
     "metadata": {},
     "output_type": "execute_result"
    }
   ],
   "source": [
    "# Запрос всей таблицы и вывод первых 5 строк\n",
    "query = '''\n",
    "            SELECT * \n",
    "            FROM books\n",
    "        '''\n",
    "books = pd.io.sql.read_sql(query, con = engine)\n",
    "\n",
    "books.head()"
   ]
  },
  {
   "cell_type": "code",
   "execution_count": 3,
   "metadata": {},
   "outputs": [
    {
     "name": "stdout",
     "output_type": "stream",
     "text": [
      "<class 'pandas.core.frame.DataFrame'>\n",
      "RangeIndex: 1000 entries, 0 to 999\n",
      "Data columns (total 6 columns):\n",
      " #   Column            Non-Null Count  Dtype \n",
      "---  ------            --------------  ----- \n",
      " 0   book_id           1000 non-null   int64 \n",
      " 1   author_id         1000 non-null   int64 \n",
      " 2   title             1000 non-null   object\n",
      " 3   num_pages         1000 non-null   int64 \n",
      " 4   publication_date  1000 non-null   object\n",
      " 5   publisher_id      1000 non-null   int64 \n",
      "dtypes: int64(4), object(2)\n",
      "memory usage: 47.0+ KB\n"
     ]
    }
   ],
   "source": [
    "# Вывод информации\n",
    "books.info()"
   ]
  },
  {
   "cell_type": "markdown",
   "metadata": {},
   "source": [
    "**Вывод:** в таблице 1000 записей, столбцы соответсвуют описанию данных."
   ]
  },
  {
   "cell_type": "markdown",
   "metadata": {},
   "source": [
    "### Таблица authors"
   ]
  },
  {
   "cell_type": "code",
   "execution_count": 4,
   "metadata": {},
   "outputs": [
    {
     "data": {
      "text/html": [
       "<div>\n",
       "<style scoped>\n",
       "    .dataframe tbody tr th:only-of-type {\n",
       "        vertical-align: middle;\n",
       "    }\n",
       "\n",
       "    .dataframe tbody tr th {\n",
       "        vertical-align: top;\n",
       "    }\n",
       "\n",
       "    .dataframe thead th {\n",
       "        text-align: right;\n",
       "    }\n",
       "</style>\n",
       "<table border=\"1\" class=\"dataframe\">\n",
       "  <thead>\n",
       "    <tr style=\"text-align: right;\">\n",
       "      <th></th>\n",
       "      <th>author_id</th>\n",
       "      <th>author</th>\n",
       "    </tr>\n",
       "  </thead>\n",
       "  <tbody>\n",
       "    <tr>\n",
       "      <th>0</th>\n",
       "      <td>1</td>\n",
       "      <td>A.S. Byatt</td>\n",
       "    </tr>\n",
       "    <tr>\n",
       "      <th>1</th>\n",
       "      <td>2</td>\n",
       "      <td>Aesop/Laura Harris/Laura Gibbs</td>\n",
       "    </tr>\n",
       "    <tr>\n",
       "      <th>2</th>\n",
       "      <td>3</td>\n",
       "      <td>Agatha Christie</td>\n",
       "    </tr>\n",
       "    <tr>\n",
       "      <th>3</th>\n",
       "      <td>4</td>\n",
       "      <td>Alan Brennert</td>\n",
       "    </tr>\n",
       "    <tr>\n",
       "      <th>4</th>\n",
       "      <td>5</td>\n",
       "      <td>Alan Moore/David   Lloyd</td>\n",
       "    </tr>\n",
       "  </tbody>\n",
       "</table>\n",
       "</div>"
      ],
      "text/plain": [
       "   author_id                          author\n",
       "0          1                      A.S. Byatt\n",
       "1          2  Aesop/Laura Harris/Laura Gibbs\n",
       "2          3                 Agatha Christie\n",
       "3          4                   Alan Brennert\n",
       "4          5        Alan Moore/David   Lloyd"
      ]
     },
     "execution_count": 4,
     "metadata": {},
     "output_type": "execute_result"
    }
   ],
   "source": [
    "# Запрос всей таблицы и вывод первых 5 строк\n",
    "query = '''\n",
    "            SELECT * \n",
    "            FROM authors\n",
    "        '''\n",
    "authors = pd.io.sql.read_sql(query, con = engine)\n",
    "authors.head()"
   ]
  },
  {
   "cell_type": "code",
   "execution_count": 5,
   "metadata": {},
   "outputs": [
    {
     "name": "stdout",
     "output_type": "stream",
     "text": [
      "<class 'pandas.core.frame.DataFrame'>\n",
      "RangeIndex: 636 entries, 0 to 635\n",
      "Data columns (total 2 columns):\n",
      " #   Column     Non-Null Count  Dtype \n",
      "---  ------     --------------  ----- \n",
      " 0   author_id  636 non-null    int64 \n",
      " 1   author     636 non-null    object\n",
      "dtypes: int64(1), object(1)\n",
      "memory usage: 10.1+ KB\n"
     ]
    }
   ],
   "source": [
    "# Вывод информации\n",
    "authors.info()"
   ]
  },
  {
   "cell_type": "markdown",
   "metadata": {},
   "source": [
    "**Вывод:** в таблице 636 записей, столбцы соответсвуют описанию данных."
   ]
  },
  {
   "cell_type": "markdown",
   "metadata": {},
   "source": [
    "### Таблица publishers"
   ]
  },
  {
   "cell_type": "code",
   "execution_count": 6,
   "metadata": {},
   "outputs": [
    {
     "data": {
      "text/html": [
       "<div>\n",
       "<style scoped>\n",
       "    .dataframe tbody tr th:only-of-type {\n",
       "        vertical-align: middle;\n",
       "    }\n",
       "\n",
       "    .dataframe tbody tr th {\n",
       "        vertical-align: top;\n",
       "    }\n",
       "\n",
       "    .dataframe thead th {\n",
       "        text-align: right;\n",
       "    }\n",
       "</style>\n",
       "<table border=\"1\" class=\"dataframe\">\n",
       "  <thead>\n",
       "    <tr style=\"text-align: right;\">\n",
       "      <th></th>\n",
       "      <th>publisher_id</th>\n",
       "      <th>publisher</th>\n",
       "    </tr>\n",
       "  </thead>\n",
       "  <tbody>\n",
       "    <tr>\n",
       "      <th>0</th>\n",
       "      <td>1</td>\n",
       "      <td>Ace</td>\n",
       "    </tr>\n",
       "    <tr>\n",
       "      <th>1</th>\n",
       "      <td>2</td>\n",
       "      <td>Ace Book</td>\n",
       "    </tr>\n",
       "    <tr>\n",
       "      <th>2</th>\n",
       "      <td>3</td>\n",
       "      <td>Ace Books</td>\n",
       "    </tr>\n",
       "    <tr>\n",
       "      <th>3</th>\n",
       "      <td>4</td>\n",
       "      <td>Ace Hardcover</td>\n",
       "    </tr>\n",
       "    <tr>\n",
       "      <th>4</th>\n",
       "      <td>5</td>\n",
       "      <td>Addison Wesley Publishing Company</td>\n",
       "    </tr>\n",
       "  </tbody>\n",
       "</table>\n",
       "</div>"
      ],
      "text/plain": [
       "   publisher_id                          publisher\n",
       "0             1                                Ace\n",
       "1             2                           Ace Book\n",
       "2             3                          Ace Books\n",
       "3             4                      Ace Hardcover\n",
       "4             5  Addison Wesley Publishing Company"
      ]
     },
     "execution_count": 6,
     "metadata": {},
     "output_type": "execute_result"
    }
   ],
   "source": [
    "# Запрос всей таблицы и вывод первых 5 строк\n",
    "query = '''\n",
    "            SELECT * \n",
    "            FROM publishers\n",
    "        '''\n",
    "publishers = pd.io.sql.read_sql(query, con = engine)\n",
    "publishers.head()"
   ]
  },
  {
   "cell_type": "code",
   "execution_count": 7,
   "metadata": {},
   "outputs": [
    {
     "name": "stdout",
     "output_type": "stream",
     "text": [
      "<class 'pandas.core.frame.DataFrame'>\n",
      "RangeIndex: 340 entries, 0 to 339\n",
      "Data columns (total 2 columns):\n",
      " #   Column        Non-Null Count  Dtype \n",
      "---  ------        --------------  ----- \n",
      " 0   publisher_id  340 non-null    int64 \n",
      " 1   publisher     340 non-null    object\n",
      "dtypes: int64(1), object(1)\n",
      "memory usage: 5.4+ KB\n"
     ]
    }
   ],
   "source": [
    "# Вывод информации\n",
    "publishers.info()"
   ]
  },
  {
   "cell_type": "markdown",
   "metadata": {},
   "source": [
    "**Вывод:** в таблице 340 записей, столбцы соответсвуют описанию данных."
   ]
  },
  {
   "cell_type": "markdown",
   "metadata": {},
   "source": [
    "### Таблица ratings"
   ]
  },
  {
   "cell_type": "code",
   "execution_count": 8,
   "metadata": {},
   "outputs": [
    {
     "data": {
      "text/html": [
       "<div>\n",
       "<style scoped>\n",
       "    .dataframe tbody tr th:only-of-type {\n",
       "        vertical-align: middle;\n",
       "    }\n",
       "\n",
       "    .dataframe tbody tr th {\n",
       "        vertical-align: top;\n",
       "    }\n",
       "\n",
       "    .dataframe thead th {\n",
       "        text-align: right;\n",
       "    }\n",
       "</style>\n",
       "<table border=\"1\" class=\"dataframe\">\n",
       "  <thead>\n",
       "    <tr style=\"text-align: right;\">\n",
       "      <th></th>\n",
       "      <th>rating_id</th>\n",
       "      <th>book_id</th>\n",
       "      <th>username</th>\n",
       "      <th>rating</th>\n",
       "    </tr>\n",
       "  </thead>\n",
       "  <tbody>\n",
       "    <tr>\n",
       "      <th>0</th>\n",
       "      <td>1</td>\n",
       "      <td>1</td>\n",
       "      <td>ryanfranco</td>\n",
       "      <td>4</td>\n",
       "    </tr>\n",
       "    <tr>\n",
       "      <th>1</th>\n",
       "      <td>2</td>\n",
       "      <td>1</td>\n",
       "      <td>grantpatricia</td>\n",
       "      <td>2</td>\n",
       "    </tr>\n",
       "    <tr>\n",
       "      <th>2</th>\n",
       "      <td>3</td>\n",
       "      <td>1</td>\n",
       "      <td>brandtandrea</td>\n",
       "      <td>5</td>\n",
       "    </tr>\n",
       "    <tr>\n",
       "      <th>3</th>\n",
       "      <td>4</td>\n",
       "      <td>2</td>\n",
       "      <td>lorichen</td>\n",
       "      <td>3</td>\n",
       "    </tr>\n",
       "    <tr>\n",
       "      <th>4</th>\n",
       "      <td>5</td>\n",
       "      <td>2</td>\n",
       "      <td>mariokeller</td>\n",
       "      <td>2</td>\n",
       "    </tr>\n",
       "  </tbody>\n",
       "</table>\n",
       "</div>"
      ],
      "text/plain": [
       "   rating_id  book_id       username  rating\n",
       "0          1        1     ryanfranco       4\n",
       "1          2        1  grantpatricia       2\n",
       "2          3        1   brandtandrea       5\n",
       "3          4        2       lorichen       3\n",
       "4          5        2    mariokeller       2"
      ]
     },
     "execution_count": 8,
     "metadata": {},
     "output_type": "execute_result"
    }
   ],
   "source": [
    "# Запрос всей таблицы и вывод первых 5 строк\n",
    "query = '''\n",
    "            SELECT * \n",
    "            FROM ratings\n",
    "        '''\n",
    "ratings = pd.io.sql.read_sql(query, con = engine)\n",
    "ratings.head()"
   ]
  },
  {
   "cell_type": "code",
   "execution_count": 9,
   "metadata": {},
   "outputs": [
    {
     "name": "stdout",
     "output_type": "stream",
     "text": [
      "<class 'pandas.core.frame.DataFrame'>\n",
      "RangeIndex: 6456 entries, 0 to 6455\n",
      "Data columns (total 4 columns):\n",
      " #   Column     Non-Null Count  Dtype \n",
      "---  ------     --------------  ----- \n",
      " 0   rating_id  6456 non-null   int64 \n",
      " 1   book_id    6456 non-null   int64 \n",
      " 2   username   6456 non-null   object\n",
      " 3   rating     6456 non-null   int64 \n",
      "dtypes: int64(3), object(1)\n",
      "memory usage: 201.9+ KB\n"
     ]
    }
   ],
   "source": [
    "# Вывод информации\n",
    "ratings.info()"
   ]
  },
  {
   "cell_type": "markdown",
   "metadata": {},
   "source": [
    "**Вывод:** в таблице 6 456 записей, столбцы соответсвуют описанию данных."
   ]
  },
  {
   "cell_type": "markdown",
   "metadata": {},
   "source": [
    "### Таблица reviews"
   ]
  },
  {
   "cell_type": "code",
   "execution_count": 10,
   "metadata": {},
   "outputs": [
    {
     "name": "stdout",
     "output_type": "stream",
     "text": [
      "<class 'pandas.core.frame.DataFrame'>\n",
      "RangeIndex: 2793 entries, 0 to 2792\n",
      "Data columns (total 4 columns):\n",
      " #   Column     Non-Null Count  Dtype \n",
      "---  ------     --------------  ----- \n",
      " 0   review_id  2793 non-null   int64 \n",
      " 1   book_id    2793 non-null   int64 \n",
      " 2   username   2793 non-null   object\n",
      " 3   text       2793 non-null   object\n",
      "dtypes: int64(2), object(2)\n",
      "memory usage: 87.4+ KB\n"
     ]
    }
   ],
   "source": [
    "# Запрос всей таблицы и вывод первых 5 строк\n",
    "query = '''\n",
    "            SELECT * \n",
    "            FROM reviews\n",
    "        '''\n",
    "reviews = pd.io.sql.read_sql(query, con = engine)\n",
    "reviews.info()"
   ]
  },
  {
   "cell_type": "code",
   "execution_count": 11,
   "metadata": {},
   "outputs": [
    {
     "name": "stdout",
     "output_type": "stream",
     "text": [
      "<class 'pandas.core.frame.DataFrame'>\n",
      "RangeIndex: 2793 entries, 0 to 2792\n",
      "Data columns (total 4 columns):\n",
      " #   Column     Non-Null Count  Dtype \n",
      "---  ------     --------------  ----- \n",
      " 0   review_id  2793 non-null   int64 \n",
      " 1   book_id    2793 non-null   int64 \n",
      " 2   username   2793 non-null   object\n",
      " 3   text       2793 non-null   object\n",
      "dtypes: int64(2), object(2)\n",
      "memory usage: 87.4+ KB\n"
     ]
    }
   ],
   "source": [
    "# Вывод информации\n",
    "reviews.info()"
   ]
  },
  {
   "cell_type": "markdown",
   "metadata": {},
   "source": [
    "**Вывод:** в таблице 2 793 записи, столбцы соответсвуют описанию данных."
   ]
  },
  {
   "cell_type": "markdown",
   "metadata": {},
   "source": [
    "## Задания"
   ]
  },
  {
   "cell_type": "markdown",
   "metadata": {},
   "source": [
    "### Посчитать, сколько книг вышло после 1 января 2000 года"
   ]
  },
  {
   "cell_type": "code",
   "execution_count": 12,
   "metadata": {},
   "outputs": [
    {
     "data": {
      "text/html": [
       "<div>\n",
       "<style scoped>\n",
       "    .dataframe tbody tr th:only-of-type {\n",
       "        vertical-align: middle;\n",
       "    }\n",
       "\n",
       "    .dataframe tbody tr th {\n",
       "        vertical-align: top;\n",
       "    }\n",
       "\n",
       "    .dataframe thead th {\n",
       "        text-align: right;\n",
       "    }\n",
       "</style>\n",
       "<table border=\"1\" class=\"dataframe\">\n",
       "  <thead>\n",
       "    <tr style=\"text-align: right;\">\n",
       "      <th></th>\n",
       "      <th>count_of_books</th>\n",
       "    </tr>\n",
       "  </thead>\n",
       "  <tbody>\n",
       "    <tr>\n",
       "      <th>0</th>\n",
       "      <td>821</td>\n",
       "    </tr>\n",
       "  </tbody>\n",
       "</table>\n",
       "</div>"
      ],
      "text/plain": [
       "   count_of_books\n",
       "0             821"
      ]
     },
     "execution_count": 12,
     "metadata": {},
     "output_type": "execute_result"
    }
   ],
   "source": [
    "query = '''\n",
    "            SELECT COUNT(book_id) count_of_books\n",
    "            FROM books \n",
    "            WHERE publication_date >= '01-01-2000'\n",
    "        '''\n",
    "pd.io.sql.read_sql(query, con = engine)"
   ]
  },
  {
   "cell_type": "markdown",
   "metadata": {},
   "source": [
    "**Вывод:** с 1 января 2000 года вышло 821 книга."
   ]
  },
  {
   "cell_type": "markdown",
   "metadata": {},
   "source": [
    "### Для каждой книги посчитать количество обзоров и среднюю оценку"
   ]
  },
  {
   "cell_type": "code",
   "execution_count": 13,
   "metadata": {},
   "outputs": [
    {
     "data": {
      "text/html": [
       "<div>\n",
       "<style scoped>\n",
       "    .dataframe tbody tr th:only-of-type {\n",
       "        vertical-align: middle;\n",
       "    }\n",
       "\n",
       "    .dataframe tbody tr th {\n",
       "        vertical-align: top;\n",
       "    }\n",
       "\n",
       "    .dataframe thead th {\n",
       "        text-align: right;\n",
       "    }\n",
       "</style>\n",
       "<table border=\"1\" class=\"dataframe\">\n",
       "  <thead>\n",
       "    <tr style=\"text-align: right;\">\n",
       "      <th></th>\n",
       "      <th>title</th>\n",
       "      <th>id</th>\n",
       "      <th>avg_rating</th>\n",
       "      <th>count_review</th>\n",
       "    </tr>\n",
       "  </thead>\n",
       "  <tbody>\n",
       "    <tr>\n",
       "      <th>0</th>\n",
       "      <td>Twilight (Twilight  #1)</td>\n",
       "      <td>948</td>\n",
       "      <td>3.662500</td>\n",
       "      <td>7</td>\n",
       "    </tr>\n",
       "    <tr>\n",
       "      <th>1</th>\n",
       "      <td>Water for Elephants</td>\n",
       "      <td>963</td>\n",
       "      <td>3.977273</td>\n",
       "      <td>6</td>\n",
       "    </tr>\n",
       "    <tr>\n",
       "      <th>2</th>\n",
       "      <td>The Glass Castle</td>\n",
       "      <td>734</td>\n",
       "      <td>4.206897</td>\n",
       "      <td>6</td>\n",
       "    </tr>\n",
       "    <tr>\n",
       "      <th>3</th>\n",
       "      <td>Harry Potter and the Prisoner of Azkaban (Harr...</td>\n",
       "      <td>302</td>\n",
       "      <td>4.414634</td>\n",
       "      <td>6</td>\n",
       "    </tr>\n",
       "    <tr>\n",
       "      <th>4</th>\n",
       "      <td>The Curious Incident of the Dog in the Night-Time</td>\n",
       "      <td>695</td>\n",
       "      <td>4.081081</td>\n",
       "      <td>6</td>\n",
       "    </tr>\n",
       "    <tr>\n",
       "      <th>...</th>\n",
       "      <td>...</td>\n",
       "      <td>...</td>\n",
       "      <td>...</td>\n",
       "      <td>...</td>\n",
       "    </tr>\n",
       "    <tr>\n",
       "      <th>995</th>\n",
       "      <td>Anne Rice's The Vampire Lestat: A Graphic Novel</td>\n",
       "      <td>83</td>\n",
       "      <td>3.666667</td>\n",
       "      <td>0</td>\n",
       "    </tr>\n",
       "    <tr>\n",
       "      <th>996</th>\n",
       "      <td>The Natural Way to Draw</td>\n",
       "      <td>808</td>\n",
       "      <td>3.000000</td>\n",
       "      <td>0</td>\n",
       "    </tr>\n",
       "    <tr>\n",
       "      <th>997</th>\n",
       "      <td>The Cat in the Hat and Other Dr. Seuss Favorites</td>\n",
       "      <td>672</td>\n",
       "      <td>5.000000</td>\n",
       "      <td>0</td>\n",
       "    </tr>\n",
       "    <tr>\n",
       "      <th>998</th>\n",
       "      <td>Essential Tales and Poems</td>\n",
       "      <td>221</td>\n",
       "      <td>4.000000</td>\n",
       "      <td>0</td>\n",
       "    </tr>\n",
       "    <tr>\n",
       "      <th>999</th>\n",
       "      <td>Disney's Beauty and the Beast (A Little Golden...</td>\n",
       "      <td>191</td>\n",
       "      <td>4.000000</td>\n",
       "      <td>0</td>\n",
       "    </tr>\n",
       "  </tbody>\n",
       "</table>\n",
       "<p>1000 rows × 4 columns</p>\n",
       "</div>"
      ],
      "text/plain": [
       "                                                 title   id  avg_rating  \\\n",
       "0                              Twilight (Twilight  #1)  948    3.662500   \n",
       "1                                  Water for Elephants  963    3.977273   \n",
       "2                                     The Glass Castle  734    4.206897   \n",
       "3    Harry Potter and the Prisoner of Azkaban (Harr...  302    4.414634   \n",
       "4    The Curious Incident of the Dog in the Night-Time  695    4.081081   \n",
       "..                                                 ...  ...         ...   \n",
       "995    Anne Rice's The Vampire Lestat: A Graphic Novel   83    3.666667   \n",
       "996                            The Natural Way to Draw  808    3.000000   \n",
       "997   The Cat in the Hat and Other Dr. Seuss Favorites  672    5.000000   \n",
       "998                          Essential Tales and Poems  221    4.000000   \n",
       "999  Disney's Beauty and the Beast (A Little Golden...  191    4.000000   \n",
       "\n",
       "     count_review  \n",
       "0               7  \n",
       "1               6  \n",
       "2               6  \n",
       "3               6  \n",
       "4               6  \n",
       "..            ...  \n",
       "995             0  \n",
       "996             0  \n",
       "997             0  \n",
       "998             0  \n",
       "999             0  \n",
       "\n",
       "[1000 rows x 4 columns]"
      ]
     },
     "execution_count": 13,
     "metadata": {},
     "output_type": "execute_result"
    }
   ],
   "source": [
    "query = '''\n",
    "        SELECT \n",
    "            books.title AS title,\n",
    "            books.book_id AS id,\n",
    "            AVG(ratings.rating) AS avg_rating,\n",
    "            COUNT(DISTINCT reviews.text) AS count_review\n",
    "        FROM\n",
    "            books\n",
    "        LEFT JOIN ratings ON ratings.book_id = books.book_id\n",
    "        LEFT JOIN reviews ON reviews.book_id = books.book_id\n",
    "        GROUP BY\n",
    "             books.title,\n",
    "             books.book_id\n",
    "        ORDER BY\n",
    "             count_review DESC\n",
    "        '''\n",
    "pd.io.sql.read_sql(query, con = engine)"
   ]
  },
  {
   "cell_type": "code",
   "execution_count": 14,
   "metadata": {},
   "outputs": [
    {
     "data": {
      "text/html": [
       "<div>\n",
       "<style scoped>\n",
       "    .dataframe tbody tr th:only-of-type {\n",
       "        vertical-align: middle;\n",
       "    }\n",
       "\n",
       "    .dataframe tbody tr th {\n",
       "        vertical-align: top;\n",
       "    }\n",
       "\n",
       "    .dataframe thead th {\n",
       "        text-align: right;\n",
       "    }\n",
       "</style>\n",
       "<table border=\"1\" class=\"dataframe\">\n",
       "  <thead>\n",
       "    <tr style=\"text-align: right;\">\n",
       "      <th></th>\n",
       "      <th>title</th>\n",
       "      <th>id</th>\n",
       "      <th>avg_rating</th>\n",
       "      <th>count_review</th>\n",
       "    </tr>\n",
       "  </thead>\n",
       "  <tbody>\n",
       "    <tr>\n",
       "      <th>0</th>\n",
       "      <td>A Woman of Substance (Emma Harte Saga #1)</td>\n",
       "      <td>55</td>\n",
       "      <td>5.000000</td>\n",
       "      <td>2</td>\n",
       "    </tr>\n",
       "    <tr>\n",
       "      <th>1</th>\n",
       "      <td>Dead Souls</td>\n",
       "      <td>182</td>\n",
       "      <td>5.000000</td>\n",
       "      <td>2</td>\n",
       "    </tr>\n",
       "    <tr>\n",
       "      <th>2</th>\n",
       "      <td>The Walking Dead  Book One (The Walking Dead #...</td>\n",
       "      <td>901</td>\n",
       "      <td>5.000000</td>\n",
       "      <td>2</td>\n",
       "    </tr>\n",
       "    <tr>\n",
       "      <th>3</th>\n",
       "      <td>Alas  Babylon</td>\n",
       "      <td>62</td>\n",
       "      <td>5.000000</td>\n",
       "      <td>2</td>\n",
       "    </tr>\n",
       "    <tr>\n",
       "      <th>4</th>\n",
       "      <td>Welcome to Temptation (Dempseys  #1)</td>\n",
       "      <td>967</td>\n",
       "      <td>5.000000</td>\n",
       "      <td>2</td>\n",
       "    </tr>\n",
       "    <tr>\n",
       "      <th>5</th>\n",
       "      <td>Evening Class</td>\n",
       "      <td>224</td>\n",
       "      <td>5.000000</td>\n",
       "      <td>2</td>\n",
       "    </tr>\n",
       "    <tr>\n",
       "      <th>6</th>\n",
       "      <td>Tai-Pan (Asian Saga  #2)</td>\n",
       "      <td>610</td>\n",
       "      <td>5.000000</td>\n",
       "      <td>2</td>\n",
       "    </tr>\n",
       "    <tr>\n",
       "      <th>7</th>\n",
       "      <td>The Demon-Haunted World: Science as a Candle i...</td>\n",
       "      <td>699</td>\n",
       "      <td>5.000000</td>\n",
       "      <td>2</td>\n",
       "    </tr>\n",
       "    <tr>\n",
       "      <th>8</th>\n",
       "      <td>Women</td>\n",
       "      <td>993</td>\n",
       "      <td>5.000000</td>\n",
       "      <td>2</td>\n",
       "    </tr>\n",
       "    <tr>\n",
       "      <th>9</th>\n",
       "      <td>Angels Fall</td>\n",
       "      <td>76</td>\n",
       "      <td>5.000000</td>\n",
       "      <td>2</td>\n",
       "    </tr>\n",
       "    <tr>\n",
       "      <th>10</th>\n",
       "      <td>The War of Art: Break Through the Blocks &amp; Win...</td>\n",
       "      <td>902</td>\n",
       "      <td>5.000000</td>\n",
       "      <td>2</td>\n",
       "    </tr>\n",
       "    <tr>\n",
       "      <th>11</th>\n",
       "      <td>The Woman in Black</td>\n",
       "      <td>913</td>\n",
       "      <td>5.000000</td>\n",
       "      <td>2</td>\n",
       "    </tr>\n",
       "    <tr>\n",
       "      <th>12</th>\n",
       "      <td>Triptych (Will Trent  #1)</td>\n",
       "      <td>938</td>\n",
       "      <td>5.000000</td>\n",
       "      <td>2</td>\n",
       "    </tr>\n",
       "    <tr>\n",
       "      <th>13</th>\n",
       "      <td>Stone of Farewell (Memory  Sorrow  and Thorn  #2)</td>\n",
       "      <td>599</td>\n",
       "      <td>5.000000</td>\n",
       "      <td>1</td>\n",
       "    </tr>\n",
       "    <tr>\n",
       "      <th>14</th>\n",
       "      <td>Light in August</td>\n",
       "      <td>390</td>\n",
       "      <td>5.000000</td>\n",
       "      <td>2</td>\n",
       "    </tr>\n",
       "    <tr>\n",
       "      <th>15</th>\n",
       "      <td>Neil Gaiman's Neverwhere</td>\n",
       "      <td>469</td>\n",
       "      <td>5.000000</td>\n",
       "      <td>2</td>\n",
       "    </tr>\n",
       "    <tr>\n",
       "      <th>16</th>\n",
       "      <td>The Cat in the Hat and Other Dr. Seuss Favorites</td>\n",
       "      <td>672</td>\n",
       "      <td>5.000000</td>\n",
       "      <td>0</td>\n",
       "    </tr>\n",
       "    <tr>\n",
       "      <th>17</th>\n",
       "      <td>The Big Bad Wolf  (Alex Cross  #9)</td>\n",
       "      <td>642</td>\n",
       "      <td>5.000000</td>\n",
       "      <td>2</td>\n",
       "    </tr>\n",
       "    <tr>\n",
       "      <th>18</th>\n",
       "      <td>Marvel 1602</td>\n",
       "      <td>421</td>\n",
       "      <td>5.000000</td>\n",
       "      <td>2</td>\n",
       "    </tr>\n",
       "    <tr>\n",
       "      <th>19</th>\n",
       "      <td>Wherever You Go  There You Are: Mindfulness Me...</td>\n",
       "      <td>972</td>\n",
       "      <td>5.000000</td>\n",
       "      <td>2</td>\n",
       "    </tr>\n",
       "    <tr>\n",
       "      <th>20</th>\n",
       "      <td>My Name Is Asher Lev</td>\n",
       "      <td>459</td>\n",
       "      <td>5.000000</td>\n",
       "      <td>2</td>\n",
       "    </tr>\n",
       "    <tr>\n",
       "      <th>21</th>\n",
       "      <td>Moneyball: The Art of Winning an Unfair Game</td>\n",
       "      <td>444</td>\n",
       "      <td>5.000000</td>\n",
       "      <td>3</td>\n",
       "    </tr>\n",
       "    <tr>\n",
       "      <th>22</th>\n",
       "      <td>Piercing the Darkness (Darkness  #2)</td>\n",
       "      <td>513</td>\n",
       "      <td>5.000000</td>\n",
       "      <td>2</td>\n",
       "    </tr>\n",
       "    <tr>\n",
       "      <th>23</th>\n",
       "      <td>Pop Goes the Weasel (Alex Cross  #5)</td>\n",
       "      <td>518</td>\n",
       "      <td>5.000000</td>\n",
       "      <td>2</td>\n",
       "    </tr>\n",
       "    <tr>\n",
       "      <th>24</th>\n",
       "      <td>Plum Island (John Corey  #1)</td>\n",
       "      <td>516</td>\n",
       "      <td>5.000000</td>\n",
       "      <td>2</td>\n",
       "    </tr>\n",
       "    <tr>\n",
       "      <th>25</th>\n",
       "      <td>Emily of New Moon (Emily  #1)</td>\n",
       "      <td>213</td>\n",
       "      <td>5.000000</td>\n",
       "      <td>2</td>\n",
       "    </tr>\n",
       "    <tr>\n",
       "      <th>26</th>\n",
       "      <td>The Adventures of Tom Sawyer and Adventures of...</td>\n",
       "      <td>625</td>\n",
       "      <td>5.000000</td>\n",
       "      <td>1</td>\n",
       "    </tr>\n",
       "    <tr>\n",
       "      <th>27</th>\n",
       "      <td>School's Out—Forever (Maximum Ride  #2)</td>\n",
       "      <td>553</td>\n",
       "      <td>5.000000</td>\n",
       "      <td>3</td>\n",
       "    </tr>\n",
       "    <tr>\n",
       "      <th>28</th>\n",
       "      <td>Evil Under the Sun (Hercule Poirot  #24)</td>\n",
       "      <td>229</td>\n",
       "      <td>5.000000</td>\n",
       "      <td>2</td>\n",
       "    </tr>\n",
       "    <tr>\n",
       "      <th>29</th>\n",
       "      <td>Stolen (Women of the Otherworld  #2)</td>\n",
       "      <td>598</td>\n",
       "      <td>5.000000</td>\n",
       "      <td>2</td>\n",
       "    </tr>\n",
       "    <tr>\n",
       "      <th>30</th>\n",
       "      <td>Homage to Catalonia</td>\n",
       "      <td>321</td>\n",
       "      <td>5.000000</td>\n",
       "      <td>2</td>\n",
       "    </tr>\n",
       "    <tr>\n",
       "      <th>31</th>\n",
       "      <td>Geek Love</td>\n",
       "      <td>275</td>\n",
       "      <td>5.000000</td>\n",
       "      <td>2</td>\n",
       "    </tr>\n",
       "    <tr>\n",
       "      <th>32</th>\n",
       "      <td>A Dirty Job (Grim Reaper  #1)</td>\n",
       "      <td>17</td>\n",
       "      <td>5.000000</td>\n",
       "      <td>4</td>\n",
       "    </tr>\n",
       "    <tr>\n",
       "      <th>33</th>\n",
       "      <td>Hard Times</td>\n",
       "      <td>297</td>\n",
       "      <td>5.000000</td>\n",
       "      <td>2</td>\n",
       "    </tr>\n",
       "    <tr>\n",
       "      <th>34</th>\n",
       "      <td>In the Hand of the Goddess (Song of the Liones...</td>\n",
       "      <td>347</td>\n",
       "      <td>5.000000</td>\n",
       "      <td>2</td>\n",
       "    </tr>\n",
       "    <tr>\n",
       "      <th>35</th>\n",
       "      <td>Act of Treason (Mitch Rapp  #9)</td>\n",
       "      <td>57</td>\n",
       "      <td>5.000000</td>\n",
       "      <td>2</td>\n",
       "    </tr>\n",
       "    <tr>\n",
       "      <th>36</th>\n",
       "      <td>Arrows of the Queen (Heralds of Valdemar  #1)</td>\n",
       "      <td>86</td>\n",
       "      <td>5.000000</td>\n",
       "      <td>2</td>\n",
       "    </tr>\n",
       "    <tr>\n",
       "      <th>37</th>\n",
       "      <td>How to Be a Domestic Goddess: Baking and the A...</td>\n",
       "      <td>330</td>\n",
       "      <td>5.000000</td>\n",
       "      <td>1</td>\n",
       "    </tr>\n",
       "    <tr>\n",
       "      <th>38</th>\n",
       "      <td>A Fistful of Charms (The Hollows  #4)</td>\n",
       "      <td>20</td>\n",
       "      <td>5.000000</td>\n",
       "      <td>2</td>\n",
       "    </tr>\n",
       "    <tr>\n",
       "      <th>39</th>\n",
       "      <td>Crucial Conversations: Tools for Talking When ...</td>\n",
       "      <td>169</td>\n",
       "      <td>5.000000</td>\n",
       "      <td>2</td>\n",
       "    </tr>\n",
       "    <tr>\n",
       "      <th>40</th>\n",
       "      <td>March</td>\n",
       "      <td>418</td>\n",
       "      <td>5.000000</td>\n",
       "      <td>2</td>\n",
       "    </tr>\n",
       "    <tr>\n",
       "      <th>41</th>\n",
       "      <td>The Ghost Map: The Story of London's Most Terr...</td>\n",
       "      <td>732</td>\n",
       "      <td>5.000000</td>\n",
       "      <td>2</td>\n",
       "    </tr>\n",
       "    <tr>\n",
       "      <th>42</th>\n",
       "      <td>Captivating: Unveiling the Mystery of a Woman'...</td>\n",
       "      <td>136</td>\n",
       "      <td>5.000000</td>\n",
       "      <td>2</td>\n",
       "    </tr>\n",
       "    <tr>\n",
       "      <th>43</th>\n",
       "      <td>Misty of Chincoteague (Misty  #1)</td>\n",
       "      <td>441</td>\n",
       "      <td>5.000000</td>\n",
       "      <td>2</td>\n",
       "    </tr>\n",
       "    <tr>\n",
       "      <th>44</th>\n",
       "      <td>Dragonfly in Amber (Outlander  #2)</td>\n",
       "      <td>195</td>\n",
       "      <td>4.875000</td>\n",
       "      <td>4</td>\n",
       "    </tr>\n",
       "    <tr>\n",
       "      <th>45</th>\n",
       "      <td>Preludes &amp; Nocturnes (The Sandman  #1)</td>\n",
       "      <td>524</td>\n",
       "      <td>4.833333</td>\n",
       "      <td>3</td>\n",
       "    </tr>\n",
       "    <tr>\n",
       "      <th>46</th>\n",
       "      <td>The Witching Hour (Lives of the Mayfair Witche...</td>\n",
       "      <td>912</td>\n",
       "      <td>4.750000</td>\n",
       "      <td>3</td>\n",
       "    </tr>\n",
       "    <tr>\n",
       "      <th>47</th>\n",
       "      <td>Lover Revealed (Black Dagger Brotherhood  #4)</td>\n",
       "      <td>411</td>\n",
       "      <td>4.750000</td>\n",
       "      <td>3</td>\n",
       "    </tr>\n",
       "    <tr>\n",
       "      <th>48</th>\n",
       "      <td>The Monster at the End of this Book</td>\n",
       "      <td>801</td>\n",
       "      <td>4.750000</td>\n",
       "      <td>3</td>\n",
       "    </tr>\n",
       "    <tr>\n",
       "      <th>49</th>\n",
       "      <td>The Twits</td>\n",
       "      <td>890</td>\n",
       "      <td>4.750000</td>\n",
       "      <td>3</td>\n",
       "    </tr>\n",
       "  </tbody>\n",
       "</table>\n",
       "</div>"
      ],
      "text/plain": [
       "                                                title   id  avg_rating  \\\n",
       "0           A Woman of Substance (Emma Harte Saga #1)   55    5.000000   \n",
       "1                                          Dead Souls  182    5.000000   \n",
       "2   The Walking Dead  Book One (The Walking Dead #...  901    5.000000   \n",
       "3                                       Alas  Babylon   62    5.000000   \n",
       "4                Welcome to Temptation (Dempseys  #1)  967    5.000000   \n",
       "5                                       Evening Class  224    5.000000   \n",
       "6                            Tai-Pan (Asian Saga  #2)  610    5.000000   \n",
       "7   The Demon-Haunted World: Science as a Candle i...  699    5.000000   \n",
       "8                                               Women  993    5.000000   \n",
       "9                                         Angels Fall   76    5.000000   \n",
       "10  The War of Art: Break Through the Blocks & Win...  902    5.000000   \n",
       "11                                 The Woman in Black  913    5.000000   \n",
       "12                          Triptych (Will Trent  #1)  938    5.000000   \n",
       "13  Stone of Farewell (Memory  Sorrow  and Thorn  #2)  599    5.000000   \n",
       "14                                    Light in August  390    5.000000   \n",
       "15                           Neil Gaiman's Neverwhere  469    5.000000   \n",
       "16   The Cat in the Hat and Other Dr. Seuss Favorites  672    5.000000   \n",
       "17                 The Big Bad Wolf  (Alex Cross  #9)  642    5.000000   \n",
       "18                                        Marvel 1602  421    5.000000   \n",
       "19  Wherever You Go  There You Are: Mindfulness Me...  972    5.000000   \n",
       "20                               My Name Is Asher Lev  459    5.000000   \n",
       "21       Moneyball: The Art of Winning an Unfair Game  444    5.000000   \n",
       "22               Piercing the Darkness (Darkness  #2)  513    5.000000   \n",
       "23               Pop Goes the Weasel (Alex Cross  #5)  518    5.000000   \n",
       "24                       Plum Island (John Corey  #1)  516    5.000000   \n",
       "25                      Emily of New Moon (Emily  #1)  213    5.000000   \n",
       "26  The Adventures of Tom Sawyer and Adventures of...  625    5.000000   \n",
       "27            School's Out—Forever (Maximum Ride  #2)  553    5.000000   \n",
       "28           Evil Under the Sun (Hercule Poirot  #24)  229    5.000000   \n",
       "29               Stolen (Women of the Otherworld  #2)  598    5.000000   \n",
       "30                                Homage to Catalonia  321    5.000000   \n",
       "31                                          Geek Love  275    5.000000   \n",
       "32                      A Dirty Job (Grim Reaper  #1)   17    5.000000   \n",
       "33                                         Hard Times  297    5.000000   \n",
       "34  In the Hand of the Goddess (Song of the Liones...  347    5.000000   \n",
       "35                    Act of Treason (Mitch Rapp  #9)   57    5.000000   \n",
       "36      Arrows of the Queen (Heralds of Valdemar  #1)   86    5.000000   \n",
       "37  How to Be a Domestic Goddess: Baking and the A...  330    5.000000   \n",
       "38              A Fistful of Charms (The Hollows  #4)   20    5.000000   \n",
       "39  Crucial Conversations: Tools for Talking When ...  169    5.000000   \n",
       "40                                              March  418    5.000000   \n",
       "41  The Ghost Map: The Story of London's Most Terr...  732    5.000000   \n",
       "42  Captivating: Unveiling the Mystery of a Woman'...  136    5.000000   \n",
       "43                  Misty of Chincoteague (Misty  #1)  441    5.000000   \n",
       "44                 Dragonfly in Amber (Outlander  #2)  195    4.875000   \n",
       "45             Preludes & Nocturnes (The Sandman  #1)  524    4.833333   \n",
       "46  The Witching Hour (Lives of the Mayfair Witche...  912    4.750000   \n",
       "47      Lover Revealed (Black Dagger Brotherhood  #4)  411    4.750000   \n",
       "48                The Monster at the End of this Book  801    4.750000   \n",
       "49                                          The Twits  890    4.750000   \n",
       "\n",
       "    count_review  \n",
       "0              2  \n",
       "1              2  \n",
       "2              2  \n",
       "3              2  \n",
       "4              2  \n",
       "5              2  \n",
       "6              2  \n",
       "7              2  \n",
       "8              2  \n",
       "9              2  \n",
       "10             2  \n",
       "11             2  \n",
       "12             2  \n",
       "13             1  \n",
       "14             2  \n",
       "15             2  \n",
       "16             0  \n",
       "17             2  \n",
       "18             2  \n",
       "19             2  \n",
       "20             2  \n",
       "21             3  \n",
       "22             2  \n",
       "23             2  \n",
       "24             2  \n",
       "25             2  \n",
       "26             1  \n",
       "27             3  \n",
       "28             2  \n",
       "29             2  \n",
       "30             2  \n",
       "31             2  \n",
       "32             4  \n",
       "33             2  \n",
       "34             2  \n",
       "35             2  \n",
       "36             2  \n",
       "37             1  \n",
       "38             2  \n",
       "39             2  \n",
       "40             2  \n",
       "41             2  \n",
       "42             2  \n",
       "43             2  \n",
       "44             4  \n",
       "45             3  \n",
       "46             3  \n",
       "47             3  \n",
       "48             3  \n",
       "49             3  "
      ]
     },
     "execution_count": 14,
     "metadata": {},
     "output_type": "execute_result"
    }
   ],
   "source": [
    "query = '''\n",
    "        SELECT \n",
    "            books.title AS title,\n",
    "            books.book_id AS id,\n",
    "            AVG(ratings.rating) AS avg_rating,\n",
    "            COUNT(DISTINCT reviews.text) AS count_review\n",
    "        FROM\n",
    "            books\n",
    "        LEFT JOIN ratings ON ratings.book_id = books.book_id\n",
    "        LEFT JOIN reviews ON reviews.book_id = books.book_id\n",
    "        GROUP BY\n",
    "             books.title,\n",
    "             books.book_id\n",
    "        ORDER BY\n",
    "             avg_rating DESC\n",
    "        LIMIT 50\n",
    "        '''\n",
    "pd.io.sql.read_sql(query, con = engine)"
   ]
  },
  {
   "cell_type": "markdown",
   "metadata": {},
   "source": [
    "**Вывод:** 43 книги имеют оценку 5, но при этом обзоров, как правило, не более 2-х. У 6 книг отсутствует рейтинг и обзор. Максимальное количество обзоров у книги Twilight (Twilight #1)."
   ]
  },
  {
   "cell_type": "markdown",
   "metadata": {},
   "source": [
    "### Определить издательство, которое выпустило наибольшее число книг толще 50 страниц, чтобы исключить из анализа брошюры"
   ]
  },
  {
   "cell_type": "code",
   "execution_count": 15,
   "metadata": {},
   "outputs": [
    {
     "data": {
      "text/html": [
       "<div>\n",
       "<style scoped>\n",
       "    .dataframe tbody tr th:only-of-type {\n",
       "        vertical-align: middle;\n",
       "    }\n",
       "\n",
       "    .dataframe tbody tr th {\n",
       "        vertical-align: top;\n",
       "    }\n",
       "\n",
       "    .dataframe thead th {\n",
       "        text-align: right;\n",
       "    }\n",
       "</style>\n",
       "<table border=\"1\" class=\"dataframe\">\n",
       "  <thead>\n",
       "    <tr style=\"text-align: right;\">\n",
       "      <th></th>\n",
       "      <th>publisher_id</th>\n",
       "      <th>publisher</th>\n",
       "      <th>count_books</th>\n",
       "    </tr>\n",
       "  </thead>\n",
       "  <tbody>\n",
       "    <tr>\n",
       "      <th>0</th>\n",
       "      <td>212</td>\n",
       "      <td>Penguin Books</td>\n",
       "      <td>42</td>\n",
       "    </tr>\n",
       "    <tr>\n",
       "      <th>1</th>\n",
       "      <td>309</td>\n",
       "      <td>Vintage</td>\n",
       "      <td>31</td>\n",
       "    </tr>\n",
       "    <tr>\n",
       "      <th>2</th>\n",
       "      <td>116</td>\n",
       "      <td>Grand Central Publishing</td>\n",
       "      <td>25</td>\n",
       "    </tr>\n",
       "    <tr>\n",
       "      <th>3</th>\n",
       "      <td>217</td>\n",
       "      <td>Penguin Classics</td>\n",
       "      <td>24</td>\n",
       "    </tr>\n",
       "    <tr>\n",
       "      <th>4</th>\n",
       "      <td>35</td>\n",
       "      <td>Bantam</td>\n",
       "      <td>19</td>\n",
       "    </tr>\n",
       "    <tr>\n",
       "      <th>5</th>\n",
       "      <td>33</td>\n",
       "      <td>Ballantine Books</td>\n",
       "      <td>19</td>\n",
       "    </tr>\n",
       "    <tr>\n",
       "      <th>6</th>\n",
       "      <td>45</td>\n",
       "      <td>Berkley</td>\n",
       "      <td>17</td>\n",
       "    </tr>\n",
       "    <tr>\n",
       "      <th>7</th>\n",
       "      <td>46</td>\n",
       "      <td>Berkley Books</td>\n",
       "      <td>14</td>\n",
       "    </tr>\n",
       "    <tr>\n",
       "      <th>8</th>\n",
       "      <td>284</td>\n",
       "      <td>St. Martin's Press</td>\n",
       "      <td>14</td>\n",
       "    </tr>\n",
       "    <tr>\n",
       "      <th>9</th>\n",
       "      <td>83</td>\n",
       "      <td>Delta</td>\n",
       "      <td>13</td>\n",
       "    </tr>\n",
       "  </tbody>\n",
       "</table>\n",
       "</div>"
      ],
      "text/plain": [
       "   publisher_id                 publisher  count_books\n",
       "0           212             Penguin Books           42\n",
       "1           309                   Vintage           31\n",
       "2           116  Grand Central Publishing           25\n",
       "3           217          Penguin Classics           24\n",
       "4            35                    Bantam           19\n",
       "5            33          Ballantine Books           19\n",
       "6            45                   Berkley           17\n",
       "7            46             Berkley Books           14\n",
       "8           284        St. Martin's Press           14\n",
       "9            83                     Delta           13"
      ]
     },
     "execution_count": 15,
     "metadata": {},
     "output_type": "execute_result"
    }
   ],
   "source": [
    "query = '''\n",
    "        SELECT b.publisher_id, p.publisher, COUNT(*) count_books\n",
    "        FROM books b\n",
    "        LEFT JOIN publishers p ON b.publisher_id = p.publisher_id\n",
    "        WHERE num_pages > 50\n",
    "        GROUP BY b.publisher_id, p.publisher\n",
    "        ORDER BY COUNT(*) DESC\n",
    "        LIMIT 10\n",
    "        '''\n",
    "pd.io.sql.read_sql(query, con = engine)"
   ]
  },
  {
   "cell_type": "markdown",
   "metadata": {},
   "source": [
    "**Вывод:** издательство Penguin Books выпустило наибольше число книг в количестве 42шт, толще 50 страниц."
   ]
  },
  {
   "cell_type": "markdown",
   "metadata": {},
   "source": [
    "### Определить автора с самой высокой средней оценкой книг (учитывать только книги с 50 и более оценками)"
   ]
  },
  {
   "cell_type": "code",
   "execution_count": 16,
   "metadata": {},
   "outputs": [
    {
     "data": {
      "text/html": [
       "<div>\n",
       "<style scoped>\n",
       "    .dataframe tbody tr th:only-of-type {\n",
       "        vertical-align: middle;\n",
       "    }\n",
       "\n",
       "    .dataframe tbody tr th {\n",
       "        vertical-align: top;\n",
       "    }\n",
       "\n",
       "    .dataframe thead th {\n",
       "        text-align: right;\n",
       "    }\n",
       "</style>\n",
       "<table border=\"1\" class=\"dataframe\">\n",
       "  <thead>\n",
       "    <tr style=\"text-align: right;\">\n",
       "      <th></th>\n",
       "      <th>author</th>\n",
       "      <th>avg_rating</th>\n",
       "    </tr>\n",
       "  </thead>\n",
       "  <tbody>\n",
       "    <tr>\n",
       "      <th>0</th>\n",
       "      <td>J.K. Rowling/Mary GrandPré</td>\n",
       "      <td>4.3</td>\n",
       "    </tr>\n",
       "    <tr>\n",
       "      <th>1</th>\n",
       "      <td>Markus Zusak/Cao Xuân Việt Khương</td>\n",
       "      <td>4.3</td>\n",
       "    </tr>\n",
       "    <tr>\n",
       "      <th>2</th>\n",
       "      <td>J.R.R. Tolkien</td>\n",
       "      <td>4.2</td>\n",
       "    </tr>\n",
       "    <tr>\n",
       "      <th>3</th>\n",
       "      <td>Louisa May Alcott</td>\n",
       "      <td>4.2</td>\n",
       "    </tr>\n",
       "    <tr>\n",
       "      <th>4</th>\n",
       "      <td>Rick Riordan</td>\n",
       "      <td>4.1</td>\n",
       "    </tr>\n",
       "    <tr>\n",
       "      <th>5</th>\n",
       "      <td>William Golding</td>\n",
       "      <td>3.9</td>\n",
       "    </tr>\n",
       "    <tr>\n",
       "      <th>6</th>\n",
       "      <td>J.D. Salinger</td>\n",
       "      <td>3.8</td>\n",
       "    </tr>\n",
       "    <tr>\n",
       "      <th>7</th>\n",
       "      <td>Paulo Coelho/Alan R. Clarke/Özdemir İnce</td>\n",
       "      <td>3.8</td>\n",
       "    </tr>\n",
       "    <tr>\n",
       "      <th>8</th>\n",
       "      <td>William Shakespeare/Paul Werstine/Barbara A. M...</td>\n",
       "      <td>3.8</td>\n",
       "    </tr>\n",
       "    <tr>\n",
       "      <th>9</th>\n",
       "      <td>Lois Lowry</td>\n",
       "      <td>3.8</td>\n",
       "    </tr>\n",
       "  </tbody>\n",
       "</table>\n",
       "</div>"
      ],
      "text/plain": [
       "                                              author  avg_rating\n",
       "0                         J.K. Rowling/Mary GrandPré         4.3\n",
       "1                  Markus Zusak/Cao Xuân Việt Khương         4.3\n",
       "2                                     J.R.R. Tolkien         4.2\n",
       "3                                  Louisa May Alcott         4.2\n",
       "4                                       Rick Riordan         4.1\n",
       "5                                    William Golding         3.9\n",
       "6                                      J.D. Salinger         3.8\n",
       "7           Paulo Coelho/Alan R. Clarke/Özdemir İnce         3.8\n",
       "8  William Shakespeare/Paul Werstine/Barbara A. M...         3.8\n",
       "9                                         Lois Lowry         3.8"
      ]
     },
     "execution_count": 16,
     "metadata": {},
     "output_type": "execute_result"
    }
   ],
   "source": [
    "query = '''\n",
    "        SELECT\n",
    "            authors.author AS author,\n",
    "            ROUND(AVG(ratings.rating), 1) AS avg_rating\n",
    "        FROM ratings\n",
    "        JOIN books ON books.book_id = ratings.book_id\n",
    "        JOIN authors ON books.author_id = authors.author_id\n",
    "        WHERE ratings.book_id IN (\n",
    "            SELECT ratings.book_id\n",
    "            FROM ratings\n",
    "            GROUP BY ratings.book_id\n",
    "            HAVING COUNT(ratings.book_id) >= 50)\n",
    "        GROUP BY authors.author_id\n",
    "        ORDER BY AVG(ratings.rating) DESC\n",
    "        LIMIT 10\n",
    "        '''\n",
    "data = pd.io.sql.read_sql(query, con = engine)\n",
    "data"
   ]
  },
  {
   "cell_type": "markdown",
   "metadata": {},
   "source": [
    "**Вывод:** самая высокая средняя оценка у автора J.K. Rowling/Mary GrandPré."
   ]
  },
  {
   "cell_type": "markdown",
   "metadata": {},
   "source": [
    "### Посчитать среднее количество обзоров от пользователей, которые поставили больше 50 оценок"
   ]
  },
  {
   "cell_type": "code",
   "execution_count": 17,
   "metadata": {},
   "outputs": [
    {
     "data": {
      "text/html": [
       "<div>\n",
       "<style scoped>\n",
       "    .dataframe tbody tr th:only-of-type {\n",
       "        vertical-align: middle;\n",
       "    }\n",
       "\n",
       "    .dataframe tbody tr th {\n",
       "        vertical-align: top;\n",
       "    }\n",
       "\n",
       "    .dataframe thead th {\n",
       "        text-align: right;\n",
       "    }\n",
       "</style>\n",
       "<table border=\"1\" class=\"dataframe\">\n",
       "  <thead>\n",
       "    <tr style=\"text-align: right;\">\n",
       "      <th></th>\n",
       "      <th>avg_reviews_count</th>\n",
       "    </tr>\n",
       "  </thead>\n",
       "  <tbody>\n",
       "    <tr>\n",
       "      <th>0</th>\n",
       "      <td>24.0</td>\n",
       "    </tr>\n",
       "  </tbody>\n",
       "</table>\n",
       "</div>"
      ],
      "text/plain": [
       "   avg_reviews_count\n",
       "0               24.0"
      ]
     },
     "execution_count": 17,
     "metadata": {},
     "output_type": "execute_result"
    }
   ],
   "source": [
    "query = '''\n",
    "        SELECT ROUND(AVG (reviews_count)) as avg_reviews_count\n",
    "        FROM ( \n",
    "            SELECT username,\n",
    "            COUNT(review_id) as reviews_count\n",
    "            FROM reviews\n",
    "            GROUP BY username\n",
    "            HAVING username IN (\n",
    "                            SELECT username\n",
    "                            FROM ratings\n",
    "                            GROUP BY username\n",
    "                            HAVING COUNT (rating_id) > 50\n",
    "                            )\n",
    "        ) as reviews\n",
    "        '''\n",
    "pd.io.sql.read_sql(query, con = engine)"
   ]
  },
  {
   "cell_type": "markdown",
   "metadata": {},
   "source": [
    "**Вывод:** пользователи, которые поставили больше 50 оценок, в среднем оставляют 24 обзора."
   ]
  },
  {
   "cell_type": "markdown",
   "metadata": {},
   "source": [
    "## Общий вывод"
   ]
  },
  {
   "cell_type": "markdown",
   "metadata": {},
   "source": [
    "**Всего 5 таблиц:**\n",
    "* `books` - данные о книгах, содержит 1 000 строк и 6 столбцов;\n",
    "* `authors` - данные об авторах, содержит 636 строк и 2 столбца;\n",
    "* `publishers` - данные об издательствах, содержит 340 строк, 2 столбца;\n",
    "* `rating` - данные о пользовательских обзорах, содержит 6 456 строк, 4 столбца;\n",
    "* `reviews` - данные о пользовательских обзорах, содержит 2 793 строки, 4 столбца.\n",
    "\n",
    "\n",
    "**Отчет по задачам:**\n",
    "1. После 1 января 2000 года вышло 819 книг.\n",
    "2. 43 книги имеют оценку 5, но при этом обзоров, как правило, не более 2-х. У 6 книг отсутствует рейтинг и обзор. Максимальное количество обзоров у книги Twilight (Twilight #1).\n",
    "3. Издательство Penguin Books выпустило наибольше число книг в количестве 42шт, толще 50 страниц.\n",
    "4. Самая высокая средняя оценка у автора J.K. Rowling/Mary GrandPré.\n",
    "5. Пользователи, которые поставили больше 50 оценок, в среднем оставляют 24 обзора."
   ]
  }
 ],
 "metadata": {
  "ExecuteTimeLog": [
   {
    "duration": 7480,
    "start_time": "2022-08-22T13:03:10.014Z"
   },
   {
    "duration": 276,
    "start_time": "2022-08-22T13:03:36.330Z"
   },
   {
    "duration": 11,
    "start_time": "2022-08-22T13:03:44.548Z"
   },
   {
    "duration": 83,
    "start_time": "2022-08-22T13:04:15.441Z"
   },
   {
    "duration": 9,
    "start_time": "2022-08-22T13:04:22.920Z"
   },
   {
    "duration": 72,
    "start_time": "2022-08-22T13:04:53.833Z"
   },
   {
    "duration": 10,
    "start_time": "2022-08-22T13:05:02.271Z"
   },
   {
    "duration": 122,
    "start_time": "2022-08-22T13:05:27.925Z"
   },
   {
    "duration": 11,
    "start_time": "2022-08-22T13:05:33.415Z"
   },
   {
    "duration": 120,
    "start_time": "2022-08-22T13:06:05.394Z"
   },
   {
    "duration": 10,
    "start_time": "2022-08-22T13:06:11.247Z"
   },
   {
    "duration": 3,
    "start_time": "2022-08-22T13:06:47.673Z"
   },
   {
    "duration": 72,
    "start_time": "2022-08-22T13:06:56.318Z"
   },
   {
    "duration": 64,
    "start_time": "2022-08-22T13:07:02.239Z"
   },
   {
    "duration": 113,
    "start_time": "2022-08-22T13:07:23.699Z"
   },
   {
    "duration": 91,
    "start_time": "2022-08-22T13:07:30.864Z"
   },
   {
    "duration": 74,
    "start_time": "2022-08-22T13:08:33.754Z"
   },
   {
    "duration": 76,
    "start_time": "2022-08-22T13:09:00.346Z"
   },
   {
    "duration": 67,
    "start_time": "2022-08-22T13:09:10.173Z"
   },
   {
    "duration": 75,
    "start_time": "2022-08-22T13:09:27.087Z"
   },
   {
    "duration": 14642,
    "start_time": "2022-08-22T13:10:05.244Z"
   },
   {
    "duration": 280,
    "start_time": "2022-08-22T13:10:19.888Z"
   },
   {
    "duration": 10,
    "start_time": "2022-08-22T13:10:20.170Z"
   },
   {
    "duration": 77,
    "start_time": "2022-08-22T13:10:20.182Z"
   },
   {
    "duration": 9,
    "start_time": "2022-08-22T13:10:20.260Z"
   },
   {
    "duration": 76,
    "start_time": "2022-08-22T13:10:20.271Z"
   },
   {
    "duration": 10,
    "start_time": "2022-08-22T13:10:20.348Z"
   },
   {
    "duration": 106,
    "start_time": "2022-08-22T13:10:20.360Z"
   },
   {
    "duration": 11,
    "start_time": "2022-08-22T13:10:20.468Z"
   },
   {
    "duration": 95,
    "start_time": "2022-08-22T13:10:20.481Z"
   },
   {
    "duration": 9,
    "start_time": "2022-08-22T13:10:20.578Z"
   },
   {
    "duration": 77,
    "start_time": "2022-08-22T13:10:20.589Z"
   },
   {
    "duration": 94,
    "start_time": "2022-08-22T13:10:20.668Z"
   },
   {
    "duration": 91,
    "start_time": "2022-08-22T13:10:20.764Z"
   },
   {
    "duration": 74,
    "start_time": "2022-08-22T13:10:20.857Z"
   },
   {
    "duration": 77,
    "start_time": "2022-08-22T13:10:20.933Z"
   },
   {
    "duration": 74,
    "start_time": "2022-08-22T13:10:21.012Z"
   },
   {
    "duration": 4,
    "start_time": "2022-08-22T14:17:14.339Z"
   },
   {
    "duration": 284,
    "start_time": "2022-08-22T14:17:14.346Z"
   },
   {
    "duration": 9,
    "start_time": "2022-08-22T14:17:14.632Z"
   },
   {
    "duration": 82,
    "start_time": "2022-08-22T14:17:14.643Z"
   },
   {
    "duration": 10,
    "start_time": "2022-08-22T14:17:14.727Z"
   },
   {
    "duration": 78,
    "start_time": "2022-08-22T14:17:14.738Z"
   },
   {
    "duration": 8,
    "start_time": "2022-08-22T14:17:14.818Z"
   },
   {
    "duration": 107,
    "start_time": "2022-08-22T14:17:14.828Z"
   },
   {
    "duration": 10,
    "start_time": "2022-08-22T14:17:14.937Z"
   },
   {
    "duration": 93,
    "start_time": "2022-08-22T14:17:14.949Z"
   },
   {
    "duration": 10,
    "start_time": "2022-08-22T14:17:15.044Z"
   },
   {
    "duration": 78,
    "start_time": "2022-08-22T14:17:15.056Z"
   },
   {
    "duration": 98,
    "start_time": "2022-08-22T14:17:15.136Z"
   },
   {
    "duration": 94,
    "start_time": "2022-08-22T14:17:15.236Z"
   },
   {
    "duration": 76,
    "start_time": "2022-08-22T14:17:15.332Z"
   },
   {
    "duration": 75,
    "start_time": "2022-08-22T14:17:15.410Z"
   },
   {
    "duration": 75,
    "start_time": "2022-08-22T14:17:15.487Z"
   },
   {
    "duration": 86,
    "start_time": "2022-08-22T14:22:27.055Z"
   },
   {
    "duration": 114,
    "start_time": "2022-08-22T14:23:04.902Z"
   },
   {
    "duration": 109,
    "start_time": "2022-08-22T14:28:00.434Z"
   },
   {
    "duration": 114,
    "start_time": "2022-08-22T14:28:19.014Z"
   },
   {
    "duration": 112,
    "start_time": "2022-08-22T14:28:24.378Z"
   },
   {
    "duration": 1037,
    "start_time": "2022-08-22T14:28:35.433Z"
   },
   {
    "duration": 50,
    "start_time": "2022-08-22T14:31:18.552Z"
   },
   {
    "duration": 74,
    "start_time": "2022-08-22T14:31:57.431Z"
   },
   {
    "duration": 81,
    "start_time": "2022-08-22T14:37:29.529Z"
   },
   {
    "duration": 9498,
    "start_time": "2022-08-22T14:49:59.559Z"
   },
   {
    "duration": 281,
    "start_time": "2022-08-22T14:50:09.059Z"
   },
   {
    "duration": 11,
    "start_time": "2022-08-22T14:50:09.342Z"
   },
   {
    "duration": 79,
    "start_time": "2022-08-22T14:50:09.355Z"
   },
   {
    "duration": 9,
    "start_time": "2022-08-22T14:50:09.436Z"
   },
   {
    "duration": 82,
    "start_time": "2022-08-22T14:50:09.446Z"
   },
   {
    "duration": 10,
    "start_time": "2022-08-22T14:50:09.529Z"
   },
   {
    "duration": 107,
    "start_time": "2022-08-22T14:50:09.540Z"
   },
   {
    "duration": 10,
    "start_time": "2022-08-22T14:50:09.648Z"
   },
   {
    "duration": 100,
    "start_time": "2022-08-22T14:50:09.660Z"
   },
   {
    "duration": 9,
    "start_time": "2022-08-22T14:50:09.762Z"
   },
   {
    "duration": 85,
    "start_time": "2022-08-22T14:50:09.773Z"
   },
   {
    "duration": 99,
    "start_time": "2022-08-22T14:50:09.859Z"
   },
   {
    "duration": 95,
    "start_time": "2022-08-22T14:50:09.960Z"
   },
   {
    "duration": 78,
    "start_time": "2022-08-22T14:50:10.056Z"
   },
   {
    "duration": 90,
    "start_time": "2022-08-22T14:50:10.136Z"
   },
   {
    "duration": 76,
    "start_time": "2022-08-22T14:50:10.229Z"
   },
   {
    "duration": 77,
    "start_time": "2022-08-22T14:51:18.613Z"
   },
   {
    "duration": 6895,
    "start_time": "2022-08-22T14:51:40.787Z"
   },
   {
    "duration": 285,
    "start_time": "2022-08-22T14:51:47.684Z"
   },
   {
    "duration": 10,
    "start_time": "2022-08-22T14:51:47.971Z"
   },
   {
    "duration": 81,
    "start_time": "2022-08-22T14:51:47.983Z"
   },
   {
    "duration": 9,
    "start_time": "2022-08-22T14:51:48.065Z"
   },
   {
    "duration": 76,
    "start_time": "2022-08-22T14:51:48.076Z"
   },
   {
    "duration": 10,
    "start_time": "2022-08-22T14:51:48.153Z"
   },
   {
    "duration": 105,
    "start_time": "2022-08-22T14:51:48.164Z"
   },
   {
    "duration": 9,
    "start_time": "2022-08-22T14:51:48.271Z"
   },
   {
    "duration": 100,
    "start_time": "2022-08-22T14:51:48.282Z"
   },
   {
    "duration": 9,
    "start_time": "2022-08-22T14:51:48.383Z"
   },
   {
    "duration": 74,
    "start_time": "2022-08-22T14:51:48.394Z"
   },
   {
    "duration": 91,
    "start_time": "2022-08-22T14:51:48.470Z"
   },
   {
    "duration": 90,
    "start_time": "2022-08-22T14:51:48.563Z"
   },
   {
    "duration": 75,
    "start_time": "2022-08-22T14:51:48.654Z"
   },
   {
    "duration": 76,
    "start_time": "2022-08-22T14:51:48.730Z"
   },
   {
    "duration": 73,
    "start_time": "2022-08-22T14:51:48.807Z"
   },
   {
    "duration": 11375,
    "start_time": "2022-08-22T16:36:30.203Z"
   },
   {
    "duration": 336,
    "start_time": "2022-08-22T16:36:41.580Z"
   },
   {
    "duration": 11,
    "start_time": "2022-08-22T16:36:41.918Z"
   },
   {
    "duration": 100,
    "start_time": "2022-08-22T16:36:41.932Z"
   },
   {
    "duration": 11,
    "start_time": "2022-08-22T16:36:42.034Z"
   },
   {
    "duration": 93,
    "start_time": "2022-08-22T16:36:42.047Z"
   },
   {
    "duration": 10,
    "start_time": "2022-08-22T16:36:42.141Z"
   },
   {
    "duration": 111,
    "start_time": "2022-08-22T16:36:42.153Z"
   },
   {
    "duration": 10,
    "start_time": "2022-08-22T16:36:42.266Z"
   },
   {
    "duration": 103,
    "start_time": "2022-08-22T16:36:42.279Z"
   },
   {
    "duration": 18,
    "start_time": "2022-08-22T16:36:42.384Z"
   },
   {
    "duration": 82,
    "start_time": "2022-08-22T16:36:42.404Z"
   },
   {
    "duration": 103,
    "start_time": "2022-08-22T16:36:42.487Z"
   },
   {
    "duration": 100,
    "start_time": "2022-08-22T16:36:42.592Z"
   },
   {
    "duration": 82,
    "start_time": "2022-08-22T16:36:42.694Z"
   },
   {
    "duration": 90,
    "start_time": "2022-08-22T16:36:42.777Z"
   },
   {
    "duration": 81,
    "start_time": "2022-08-22T16:36:42.869Z"
   }
  ],
  "kernelspec": {
   "display_name": "Python 3 (ipykernel)",
   "language": "python",
   "name": "python3"
  },
  "language_info": {
   "codemirror_mode": {
    "name": "ipython",
    "version": 3
   },
   "file_extension": ".py",
   "mimetype": "text/x-python",
   "name": "python",
   "nbconvert_exporter": "python",
   "pygments_lexer": "ipython3",
   "version": "3.9.5"
  },
  "toc": {
   "base_numbering": 1,
   "nav_menu": {},
   "number_sections": true,
   "sideBar": true,
   "skip_h1_title": true,
   "title_cell": "Table of Contents",
   "title_sidebar": "Contents",
   "toc_cell": false,
   "toc_position": {},
   "toc_section_display": true,
   "toc_window_display": false
  }
 },
 "nbformat": 4,
 "nbformat_minor": 2
}
