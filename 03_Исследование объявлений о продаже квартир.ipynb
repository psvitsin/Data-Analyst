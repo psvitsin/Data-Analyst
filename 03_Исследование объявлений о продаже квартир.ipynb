{
 "cells": [
  {
   "cell_type": "markdown",
   "metadata": {
    "toc": true
   },
   "source": [
    "<h1>Содержание<span class=\"tocSkip\"></span></h1>\n",
    "<div class=\"toc\"><ul class=\"toc-item\"><li><span><a href=\"#Изучение-данных-из-файла\" data-toc-modified-id=\"Изучение-данных-из-файла-1\"><span class=\"toc-item-num\">1&nbsp;&nbsp;</span>Изучение данных из файла</a></span><ul class=\"toc-item\"><li><span><a href=\"#Вывод\" data-toc-modified-id=\"Вывод-1.1\"><span class=\"toc-item-num\">1.1&nbsp;&nbsp;</span>Вывод</a></span></li></ul></li><li><span><a href=\"#Предобработка-данных\" data-toc-modified-id=\"Предобработка-данных-2\"><span class=\"toc-item-num\">2&nbsp;&nbsp;</span>Предобработка данных</a></span><ul class=\"toc-item\"><li><span><a href=\"#Число-фотографий-квартиры-в-объявлении\" data-toc-modified-id=\"Число-фотографий-квартиры-в-объявлении-2.1\"><span class=\"toc-item-num\">2.1&nbsp;&nbsp;</span>Число фотографий квартиры в объявлении</a></span></li><li><span><a href=\"#Цена-на-момент-снятия-с-публикации\" data-toc-modified-id=\"Цена-на-момент-снятия-с-публикации-2.2\"><span class=\"toc-item-num\">2.2&nbsp;&nbsp;</span>Цена на момент снятия с публикации</a></span></li><li><span><a href=\"#Площадь-квартиры-в-квадратных-метрах\" data-toc-modified-id=\"Площадь-квартиры-в-квадратных-метрах-2.3\"><span class=\"toc-item-num\">2.3&nbsp;&nbsp;</span>Площадь квартиры в квадратных метрах</a></span></li><li><span><a href=\"#Дата-публикации\" data-toc-modified-id=\"Дата-публикации-2.4\"><span class=\"toc-item-num\">2.4&nbsp;&nbsp;</span>Дата публикации</a></span></li><li><span><a href=\"#Число-комнат\" data-toc-modified-id=\"Число-комнат-2.5\"><span class=\"toc-item-num\">2.5&nbsp;&nbsp;</span>Число комнат</a></span></li><li><span><a href=\"#Высота-потолков\" data-toc-modified-id=\"Высота-потолков-2.6\"><span class=\"toc-item-num\">2.6&nbsp;&nbsp;</span>Высота потолков</a></span></li><li><span><a href=\"#Всего-этажей-в-доме\" data-toc-modified-id=\"Всего-этажей-в-доме-2.7\"><span class=\"toc-item-num\">2.7&nbsp;&nbsp;</span>Всего этажей в доме</a></span></li><li><span><a href=\"#Жилая-площадь\" data-toc-modified-id=\"Жилая-площадь-2.8\"><span class=\"toc-item-num\">2.8&nbsp;&nbsp;</span>Жилая площадь</a></span></li><li><span><a href=\"#Этаж\" data-toc-modified-id=\"Этаж-2.9\"><span class=\"toc-item-num\">2.9&nbsp;&nbsp;</span>Этаж</a></span></li><li><span><a href=\"#Апартаменты\" data-toc-modified-id=\"Апартаменты-2.10\"><span class=\"toc-item-num\">2.10&nbsp;&nbsp;</span>Апартаменты</a></span></li><li><span><a href=\"#Квартира-студия\" data-toc-modified-id=\"Квартира-студия-2.11\"><span class=\"toc-item-num\">2.11&nbsp;&nbsp;</span>Квартира-студия</a></span></li><li><span><a href=\"#Свободная-планировка\" data-toc-modified-id=\"Свободная-планировка-2.12\"><span class=\"toc-item-num\">2.12&nbsp;&nbsp;</span>Свободная планировка</a></span></li><li><span><a href=\"#Площадь-кухни-в-квадратных-метрах\" data-toc-modified-id=\"Площадь-кухни-в-квадратных-метрах-2.13\"><span class=\"toc-item-num\">2.13&nbsp;&nbsp;</span>Площадь кухни в квадратных метрах</a></span></li><li><span><a href=\"#Число-балконов\" data-toc-modified-id=\"Число-балконов-2.14\"><span class=\"toc-item-num\">2.14&nbsp;&nbsp;</span>Число балконов</a></span></li><li><span><a href=\"#Название-населённого-пункта\" data-toc-modified-id=\"Название-населённого-пункта-2.15\"><span class=\"toc-item-num\">2.15&nbsp;&nbsp;</span>Название населённого пункта</a></span></li><li><span><a href=\"#Расстояние-до-ближайшего-аэропорта-в-метрах\" data-toc-modified-id=\"Расстояние-до-ближайшего-аэропорта-в-метрах-2.16\"><span class=\"toc-item-num\">2.16&nbsp;&nbsp;</span>Расстояние до ближайшего аэропорта в метрах</a></span></li><li><span><a href=\"#Расстояние-до-центра-города\" data-toc-modified-id=\"Расстояние-до-центра-города-2.17\"><span class=\"toc-item-num\">2.17&nbsp;&nbsp;</span>Расстояние до центра города</a></span></li><li><span><a href=\"#Число-парков-в-радиусе-3-км\" data-toc-modified-id=\"Число-парков-в-радиусе-3-км-2.18\"><span class=\"toc-item-num\">2.18&nbsp;&nbsp;</span>Число парков в радиусе 3 км</a></span></li><li><span><a href=\"#Расстояние-до-ближайшего-парка\" data-toc-modified-id=\"Расстояние-до-ближайшего-парка-2.19\"><span class=\"toc-item-num\">2.19&nbsp;&nbsp;</span>Расстояние до ближайшего парка</a></span></li><li><span><a href=\"#Число-водоёмов-в-радиусе-3-км\" data-toc-modified-id=\"Число-водоёмов-в-радиусе-3-км-2.20\"><span class=\"toc-item-num\">2.20&nbsp;&nbsp;</span>Число водоёмов в радиусе 3 км</a></span></li><li><span><a href=\"#Расстояние-до-ближайшего-водоёма\" data-toc-modified-id=\"Расстояние-до-ближайшего-водоёма-2.21\"><span class=\"toc-item-num\">2.21&nbsp;&nbsp;</span>Расстояние до ближайшего водоёма</a></span></li><li><span><a href=\"#Сколько-дней-было-размещено-объявление\" data-toc-modified-id=\"Сколько-дней-было-размещено-объявление-2.22\"><span class=\"toc-item-num\">2.22&nbsp;&nbsp;</span>Сколько дней было размещено объявление</a></span></li><li><span><a href=\"#Итоговая-проверка\" data-toc-modified-id=\"Итоговая-проверка-2.23\"><span class=\"toc-item-num\">2.23&nbsp;&nbsp;</span>Итоговая проверка</a></span></li></ul></li><li><span><a href=\"#Расчёты-и-добавление-результатов-в-таблицу\" data-toc-modified-id=\"Расчёты-и-добавление-результатов-в-таблицу-3\"><span class=\"toc-item-num\">3&nbsp;&nbsp;</span>Расчёты и добавление результатов в таблицу</a></span><ul class=\"toc-item\"><li><span><a href=\"#Цена-квадратного-метра\" data-toc-modified-id=\"Цена-квадратного-метра-3.1\"><span class=\"toc-item-num\">3.1&nbsp;&nbsp;</span>Цена квадратного метра</a></span></li><li><span><a href=\"#День-недели,-месяц-и-год-публикации-объявления\" data-toc-modified-id=\"День-недели,-месяц-и-год-публикации-объявления-3.2\"><span class=\"toc-item-num\">3.2&nbsp;&nbsp;</span>День недели, месяц и год публикации объявления</a></span></li><li><span><a href=\"#Этаж-квартиры:-первый,-последний,-другой\" data-toc-modified-id=\"Этаж-квартиры:-первый,-последний,-другой-3.3\"><span class=\"toc-item-num\">3.3&nbsp;&nbsp;</span>Этаж квартиры: первый, последний, другой</a></span></li><li><span><a href=\"#Соотношение-жилой-и-общей-площади,-а-также-отношение-площади-кухни-к-общей\" data-toc-modified-id=\"Соотношение-жилой-и-общей-площади,-а-также-отношение-площади-кухни-к-общей-3.4\"><span class=\"toc-item-num\">3.4&nbsp;&nbsp;</span>Соотношение жилой и общей площади, а также отношение площади кухни к общей</a></span></li><li><span><a href=\"#Проверка-добавленных-данных\" data-toc-modified-id=\"Проверка-добавленных-данных-3.5\"><span class=\"toc-item-num\">3.5&nbsp;&nbsp;</span>Проверка добавленных данных</a></span></li></ul></li><li><span><a href=\"#Исследовательский-анализ-данных\" data-toc-modified-id=\"Исследовательский-анализ-данных-4\"><span class=\"toc-item-num\">4&nbsp;&nbsp;</span>Исследовательский анализ данных</a></span><ul class=\"toc-item\"><li><span><a href=\"#Площадь,-цена,-число-комнат,-высота-потолков-(гистограммы)\" data-toc-modified-id=\"Площадь,-цена,-число-комнат,-высота-потолков-(гистограммы)-4.1\"><span class=\"toc-item-num\">4.1&nbsp;&nbsp;</span>Площадь, цена, число комнат, высота потолков (гистограммы)</a></span></li><li><span><a href=\"#Время-продажи-квартиры\" data-toc-modified-id=\"Время-продажи-квартиры-4.2\"><span class=\"toc-item-num\">4.2&nbsp;&nbsp;</span>Время продажи квартиры</a></span></li><li><span><a href=\"#Редкие-и-выбивающиеся-значения\" data-toc-modified-id=\"Редкие-и-выбивающиеся-значения-4.3\"><span class=\"toc-item-num\">4.3&nbsp;&nbsp;</span>Редкие и выбивающиеся значения</a></span></li><li><span><a href=\"#Факторы-влияющие-на-стоимость-квартиры\" data-toc-modified-id=\"Факторы-влияющие-на-стоимость-квартиры-4.4\"><span class=\"toc-item-num\">4.4&nbsp;&nbsp;</span>Факторы влияющие на стоимость квартиры</a></span></li><li><span><a href=\"#Населённые-пункты\" data-toc-modified-id=\"Населённые-пункты-4.5\"><span class=\"toc-item-num\">4.5&nbsp;&nbsp;</span>Населённые пункты</a></span></li><li><span><a href=\"#Санкт-Петербург:-центр-и-средняя-стомость\" data-toc-modified-id=\"Санкт-Петербург:-центр-и-средняя-стомость-4.6\"><span class=\"toc-item-num\">4.6&nbsp;&nbsp;</span>Санкт-Петербург: центр и средняя стомость</a></span></li><li><span><a href=\"#Центр-Санкт-Петербурга:-площадь,-цена,-число-комнат,-высота-потолков\" data-toc-modified-id=\"Центр-Санкт-Петербурга:-площадь,-цена,-число-комнат,-высота-потолков-4.7\"><span class=\"toc-item-num\">4.7&nbsp;&nbsp;</span>Центр Санкт-Петербурга: площадь, цена, число комнат, высота потолков</a></span></li></ul></li><li><span><a href=\"#Общий-вывод\" data-toc-modified-id=\"Общий-вывод-5\"><span class=\"toc-item-num\">5&nbsp;&nbsp;</span>Общий вывод</a></span></li><li><span><a href=\"#Чек-лист-готовности-проекта\" data-toc-modified-id=\"Чек-лист-готовности-проекта-6\"><span class=\"toc-item-num\">6&nbsp;&nbsp;</span>Чек-лист готовности проекта</a></span></li></ul></div>"
   ]
  },
  {
   "cell_type": "markdown",
   "metadata": {},
   "source": [
    "# Исследование объявлений о продаже квартир\n",
    "\n",
    "В вашем распоряжении данные сервиса Яндекc Недвижимость — архив объявлений о продаже квартир в Санкт-Петербурге и соседних населённых пунктах за несколько лет. Нужно научиться определять рыночную стоимость объектов недвижимости. Ваша задача — установить параметры. Это позволит построить автоматизированную систему: она отследит аномалии и мошенническую деятельность. \n",
    "\n",
    "По каждой квартире на продажу доступны два вида данных. Первые вписаны пользователем, вторые получены автоматически на основе картографических данных. Например, расстояние до центра, аэропорта, ближайшего парка и водоёма. "
   ]
  },
  {
   "cell_type": "markdown",
   "metadata": {},
   "source": [
    "## Изучение данных из файла"
   ]
  },
  {
   "cell_type": "code",
   "execution_count": 1,
   "metadata": {},
   "outputs": [
    {
     "data": {
      "text/html": [
       "<div>\n",
       "<style scoped>\n",
       "    .dataframe tbody tr th:only-of-type {\n",
       "        vertical-align: middle;\n",
       "    }\n",
       "\n",
       "    .dataframe tbody tr th {\n",
       "        vertical-align: top;\n",
       "    }\n",
       "\n",
       "    .dataframe thead th {\n",
       "        text-align: right;\n",
       "    }\n",
       "</style>\n",
       "<table border=\"1\" class=\"dataframe\">\n",
       "  <thead>\n",
       "    <tr style=\"text-align: right;\">\n",
       "      <th></th>\n",
       "      <th>total_images</th>\n",
       "      <th>last_price</th>\n",
       "      <th>total_area</th>\n",
       "      <th>first_day_exposition</th>\n",
       "      <th>rooms</th>\n",
       "      <th>ceiling_height</th>\n",
       "      <th>floors_total</th>\n",
       "      <th>living_area</th>\n",
       "      <th>floor</th>\n",
       "      <th>is_apartment</th>\n",
       "      <th>studio</th>\n",
       "      <th>open_plan</th>\n",
       "      <th>kitchen_area</th>\n",
       "      <th>balcony</th>\n",
       "      <th>locality_name</th>\n",
       "      <th>airports_nearest</th>\n",
       "      <th>cityCenters_nearest</th>\n",
       "      <th>parks_around3000</th>\n",
       "      <th>parks_nearest</th>\n",
       "      <th>ponds_around3000</th>\n",
       "      <th>ponds_nearest</th>\n",
       "      <th>days_exposition</th>\n",
       "    </tr>\n",
       "  </thead>\n",
       "  <tbody>\n",
       "    <tr>\n",
       "      <th>0</th>\n",
       "      <td>20</td>\n",
       "      <td>13000000.0</td>\n",
       "      <td>108.00</td>\n",
       "      <td>2019-03-07T00:00:00</td>\n",
       "      <td>3</td>\n",
       "      <td>2.70</td>\n",
       "      <td>16.0</td>\n",
       "      <td>51.00</td>\n",
       "      <td>8</td>\n",
       "      <td>NaN</td>\n",
       "      <td>False</td>\n",
       "      <td>False</td>\n",
       "      <td>25.00</td>\n",
       "      <td>NaN</td>\n",
       "      <td>Санкт-Петербург</td>\n",
       "      <td>18863.0</td>\n",
       "      <td>16028.0</td>\n",
       "      <td>1.0</td>\n",
       "      <td>482.0</td>\n",
       "      <td>2.0</td>\n",
       "      <td>755.0</td>\n",
       "      <td>NaN</td>\n",
       "    </tr>\n",
       "    <tr>\n",
       "      <th>1</th>\n",
       "      <td>7</td>\n",
       "      <td>3350000.0</td>\n",
       "      <td>40.40</td>\n",
       "      <td>2018-12-04T00:00:00</td>\n",
       "      <td>1</td>\n",
       "      <td>NaN</td>\n",
       "      <td>11.0</td>\n",
       "      <td>18.60</td>\n",
       "      <td>1</td>\n",
       "      <td>NaN</td>\n",
       "      <td>False</td>\n",
       "      <td>False</td>\n",
       "      <td>11.00</td>\n",
       "      <td>2.0</td>\n",
       "      <td>посёлок Шушары</td>\n",
       "      <td>12817.0</td>\n",
       "      <td>18603.0</td>\n",
       "      <td>0.0</td>\n",
       "      <td>NaN</td>\n",
       "      <td>0.0</td>\n",
       "      <td>NaN</td>\n",
       "      <td>81.0</td>\n",
       "    </tr>\n",
       "    <tr>\n",
       "      <th>2</th>\n",
       "      <td>10</td>\n",
       "      <td>5196000.0</td>\n",
       "      <td>56.00</td>\n",
       "      <td>2015-08-20T00:00:00</td>\n",
       "      <td>2</td>\n",
       "      <td>NaN</td>\n",
       "      <td>5.0</td>\n",
       "      <td>34.30</td>\n",
       "      <td>4</td>\n",
       "      <td>NaN</td>\n",
       "      <td>False</td>\n",
       "      <td>False</td>\n",
       "      <td>8.30</td>\n",
       "      <td>0.0</td>\n",
       "      <td>Санкт-Петербург</td>\n",
       "      <td>21741.0</td>\n",
       "      <td>13933.0</td>\n",
       "      <td>1.0</td>\n",
       "      <td>90.0</td>\n",
       "      <td>2.0</td>\n",
       "      <td>574.0</td>\n",
       "      <td>558.0</td>\n",
       "    </tr>\n",
       "    <tr>\n",
       "      <th>3</th>\n",
       "      <td>0</td>\n",
       "      <td>64900000.0</td>\n",
       "      <td>159.00</td>\n",
       "      <td>2015-07-24T00:00:00</td>\n",
       "      <td>3</td>\n",
       "      <td>NaN</td>\n",
       "      <td>14.0</td>\n",
       "      <td>NaN</td>\n",
       "      <td>9</td>\n",
       "      <td>NaN</td>\n",
       "      <td>False</td>\n",
       "      <td>False</td>\n",
       "      <td>NaN</td>\n",
       "      <td>0.0</td>\n",
       "      <td>Санкт-Петербург</td>\n",
       "      <td>28098.0</td>\n",
       "      <td>6800.0</td>\n",
       "      <td>2.0</td>\n",
       "      <td>84.0</td>\n",
       "      <td>3.0</td>\n",
       "      <td>234.0</td>\n",
       "      <td>424.0</td>\n",
       "    </tr>\n",
       "    <tr>\n",
       "      <th>4</th>\n",
       "      <td>2</td>\n",
       "      <td>10000000.0</td>\n",
       "      <td>100.00</td>\n",
       "      <td>2018-06-19T00:00:00</td>\n",
       "      <td>2</td>\n",
       "      <td>3.03</td>\n",
       "      <td>14.0</td>\n",
       "      <td>32.00</td>\n",
       "      <td>13</td>\n",
       "      <td>NaN</td>\n",
       "      <td>False</td>\n",
       "      <td>False</td>\n",
       "      <td>41.00</td>\n",
       "      <td>NaN</td>\n",
       "      <td>Санкт-Петербург</td>\n",
       "      <td>31856.0</td>\n",
       "      <td>8098.0</td>\n",
       "      <td>2.0</td>\n",
       "      <td>112.0</td>\n",
       "      <td>1.0</td>\n",
       "      <td>48.0</td>\n",
       "      <td>121.0</td>\n",
       "    </tr>\n",
       "    <tr>\n",
       "      <th>5</th>\n",
       "      <td>10</td>\n",
       "      <td>2890000.0</td>\n",
       "      <td>30.40</td>\n",
       "      <td>2018-09-10T00:00:00</td>\n",
       "      <td>1</td>\n",
       "      <td>NaN</td>\n",
       "      <td>12.0</td>\n",
       "      <td>14.40</td>\n",
       "      <td>5</td>\n",
       "      <td>NaN</td>\n",
       "      <td>False</td>\n",
       "      <td>False</td>\n",
       "      <td>9.10</td>\n",
       "      <td>NaN</td>\n",
       "      <td>городской посёлок Янино-1</td>\n",
       "      <td>NaN</td>\n",
       "      <td>NaN</td>\n",
       "      <td>NaN</td>\n",
       "      <td>NaN</td>\n",
       "      <td>NaN</td>\n",
       "      <td>NaN</td>\n",
       "      <td>55.0</td>\n",
       "    </tr>\n",
       "    <tr>\n",
       "      <th>6</th>\n",
       "      <td>6</td>\n",
       "      <td>3700000.0</td>\n",
       "      <td>37.30</td>\n",
       "      <td>2017-11-02T00:00:00</td>\n",
       "      <td>1</td>\n",
       "      <td>NaN</td>\n",
       "      <td>26.0</td>\n",
       "      <td>10.60</td>\n",
       "      <td>6</td>\n",
       "      <td>NaN</td>\n",
       "      <td>False</td>\n",
       "      <td>False</td>\n",
       "      <td>14.40</td>\n",
       "      <td>1.0</td>\n",
       "      <td>посёлок Парголово</td>\n",
       "      <td>52996.0</td>\n",
       "      <td>19143.0</td>\n",
       "      <td>0.0</td>\n",
       "      <td>NaN</td>\n",
       "      <td>0.0</td>\n",
       "      <td>NaN</td>\n",
       "      <td>155.0</td>\n",
       "    </tr>\n",
       "    <tr>\n",
       "      <th>7</th>\n",
       "      <td>5</td>\n",
       "      <td>7915000.0</td>\n",
       "      <td>71.60</td>\n",
       "      <td>2019-04-18T00:00:00</td>\n",
       "      <td>2</td>\n",
       "      <td>NaN</td>\n",
       "      <td>24.0</td>\n",
       "      <td>NaN</td>\n",
       "      <td>22</td>\n",
       "      <td>NaN</td>\n",
       "      <td>False</td>\n",
       "      <td>False</td>\n",
       "      <td>18.90</td>\n",
       "      <td>2.0</td>\n",
       "      <td>Санкт-Петербург</td>\n",
       "      <td>23982.0</td>\n",
       "      <td>11634.0</td>\n",
       "      <td>0.0</td>\n",
       "      <td>NaN</td>\n",
       "      <td>0.0</td>\n",
       "      <td>NaN</td>\n",
       "      <td>NaN</td>\n",
       "    </tr>\n",
       "    <tr>\n",
       "      <th>8</th>\n",
       "      <td>20</td>\n",
       "      <td>2900000.0</td>\n",
       "      <td>33.16</td>\n",
       "      <td>2018-05-23T00:00:00</td>\n",
       "      <td>1</td>\n",
       "      <td>NaN</td>\n",
       "      <td>27.0</td>\n",
       "      <td>15.43</td>\n",
       "      <td>26</td>\n",
       "      <td>NaN</td>\n",
       "      <td>False</td>\n",
       "      <td>False</td>\n",
       "      <td>8.81</td>\n",
       "      <td>NaN</td>\n",
       "      <td>посёлок Мурино</td>\n",
       "      <td>NaN</td>\n",
       "      <td>NaN</td>\n",
       "      <td>NaN</td>\n",
       "      <td>NaN</td>\n",
       "      <td>NaN</td>\n",
       "      <td>NaN</td>\n",
       "      <td>189.0</td>\n",
       "    </tr>\n",
       "    <tr>\n",
       "      <th>9</th>\n",
       "      <td>18</td>\n",
       "      <td>5400000.0</td>\n",
       "      <td>61.00</td>\n",
       "      <td>2017-02-26T00:00:00</td>\n",
       "      <td>3</td>\n",
       "      <td>2.50</td>\n",
       "      <td>9.0</td>\n",
       "      <td>43.60</td>\n",
       "      <td>7</td>\n",
       "      <td>NaN</td>\n",
       "      <td>False</td>\n",
       "      <td>False</td>\n",
       "      <td>6.50</td>\n",
       "      <td>2.0</td>\n",
       "      <td>Санкт-Петербург</td>\n",
       "      <td>50898.0</td>\n",
       "      <td>15008.0</td>\n",
       "      <td>0.0</td>\n",
       "      <td>NaN</td>\n",
       "      <td>0.0</td>\n",
       "      <td>NaN</td>\n",
       "      <td>289.0</td>\n",
       "    </tr>\n",
       "  </tbody>\n",
       "</table>\n",
       "</div>"
      ],
      "text/plain": [
       "   total_images  last_price  total_area first_day_exposition  rooms  \\\n",
       "0            20  13000000.0      108.00  2019-03-07T00:00:00      3   \n",
       "1             7   3350000.0       40.40  2018-12-04T00:00:00      1   \n",
       "2            10   5196000.0       56.00  2015-08-20T00:00:00      2   \n",
       "3             0  64900000.0      159.00  2015-07-24T00:00:00      3   \n",
       "4             2  10000000.0      100.00  2018-06-19T00:00:00      2   \n",
       "5            10   2890000.0       30.40  2018-09-10T00:00:00      1   \n",
       "6             6   3700000.0       37.30  2017-11-02T00:00:00      1   \n",
       "7             5   7915000.0       71.60  2019-04-18T00:00:00      2   \n",
       "8            20   2900000.0       33.16  2018-05-23T00:00:00      1   \n",
       "9            18   5400000.0       61.00  2017-02-26T00:00:00      3   \n",
       "\n",
       "   ceiling_height  floors_total  living_area  floor is_apartment  studio  \\\n",
       "0            2.70          16.0        51.00      8          NaN   False   \n",
       "1             NaN          11.0        18.60      1          NaN   False   \n",
       "2             NaN           5.0        34.30      4          NaN   False   \n",
       "3             NaN          14.0          NaN      9          NaN   False   \n",
       "4            3.03          14.0        32.00     13          NaN   False   \n",
       "5             NaN          12.0        14.40      5          NaN   False   \n",
       "6             NaN          26.0        10.60      6          NaN   False   \n",
       "7             NaN          24.0          NaN     22          NaN   False   \n",
       "8             NaN          27.0        15.43     26          NaN   False   \n",
       "9            2.50           9.0        43.60      7          NaN   False   \n",
       "\n",
       "   open_plan  kitchen_area  balcony              locality_name  \\\n",
       "0      False         25.00      NaN            Санкт-Петербург   \n",
       "1      False         11.00      2.0             посёлок Шушары   \n",
       "2      False          8.30      0.0            Санкт-Петербург   \n",
       "3      False           NaN      0.0            Санкт-Петербург   \n",
       "4      False         41.00      NaN            Санкт-Петербург   \n",
       "5      False          9.10      NaN  городской посёлок Янино-1   \n",
       "6      False         14.40      1.0          посёлок Парголово   \n",
       "7      False         18.90      2.0            Санкт-Петербург   \n",
       "8      False          8.81      NaN             посёлок Мурино   \n",
       "9      False          6.50      2.0            Санкт-Петербург   \n",
       "\n",
       "   airports_nearest  cityCenters_nearest  parks_around3000  parks_nearest  \\\n",
       "0           18863.0              16028.0               1.0          482.0   \n",
       "1           12817.0              18603.0               0.0            NaN   \n",
       "2           21741.0              13933.0               1.0           90.0   \n",
       "3           28098.0               6800.0               2.0           84.0   \n",
       "4           31856.0               8098.0               2.0          112.0   \n",
       "5               NaN                  NaN               NaN            NaN   \n",
       "6           52996.0              19143.0               0.0            NaN   \n",
       "7           23982.0              11634.0               0.0            NaN   \n",
       "8               NaN                  NaN               NaN            NaN   \n",
       "9           50898.0              15008.0               0.0            NaN   \n",
       "\n",
       "   ponds_around3000  ponds_nearest  days_exposition  \n",
       "0               2.0          755.0              NaN  \n",
       "1               0.0            NaN             81.0  \n",
       "2               2.0          574.0            558.0  \n",
       "3               3.0          234.0            424.0  \n",
       "4               1.0           48.0            121.0  \n",
       "5               NaN            NaN             55.0  \n",
       "6               0.0            NaN            155.0  \n",
       "7               0.0            NaN              NaN  \n",
       "8               NaN            NaN            189.0  \n",
       "9               0.0            NaN            289.0  "
      ]
     },
     "execution_count": 1,
     "metadata": {},
     "output_type": "execute_result"
    }
   ],
   "source": [
    "# Импорт необходимых библиотек\n",
    "import pandas as pd\n",
    "import matplotlib.pyplot as plt\n",
    "\n",
    "# Открытие файла с использованием конструкции try-except и разделителем \"\\\"\n",
    "try:\n",
    "    df = pd.read_csv('C:/Users/ADMIN/Downloads/03_Исследование недвижимости/real_estate_data.csv', sep='\\t') # Локальный путь\n",
    "except:\n",
    "    df = pd.read_csv('/datasets/real_estate_data.csv', sep='\\t') # Серверный путь\n",
    "    \n",
    "# Снятие ограничений на отражение максимального коливества столбцов\n",
    "pd.set_option('display.max_columns', None)\n",
    "    \n",
    "# Получение первых 10 строк таблицы df\n",
    "df.head(10)"
   ]
  },
  {
   "cell_type": "code",
   "execution_count": 2,
   "metadata": {},
   "outputs": [
    {
     "name": "stdout",
     "output_type": "stream",
     "text": [
      "<class 'pandas.core.frame.DataFrame'>\n",
      "RangeIndex: 23699 entries, 0 to 23698\n",
      "Data columns (total 22 columns):\n",
      " #   Column                Non-Null Count  Dtype  \n",
      "---  ------                --------------  -----  \n",
      " 0   total_images          23699 non-null  int64  \n",
      " 1   last_price            23699 non-null  float64\n",
      " 2   total_area            23699 non-null  float64\n",
      " 3   first_day_exposition  23699 non-null  object \n",
      " 4   rooms                 23699 non-null  int64  \n",
      " 5   ceiling_height        14504 non-null  float64\n",
      " 6   floors_total          23613 non-null  float64\n",
      " 7   living_area           21796 non-null  float64\n",
      " 8   floor                 23699 non-null  int64  \n",
      " 9   is_apartment          2775 non-null   object \n",
      " 10  studio                23699 non-null  bool   \n",
      " 11  open_plan             23699 non-null  bool   \n",
      " 12  kitchen_area          21421 non-null  float64\n",
      " 13  balcony               12180 non-null  float64\n",
      " 14  locality_name         23650 non-null  object \n",
      " 15  airports_nearest      18157 non-null  float64\n",
      " 16  cityCenters_nearest   18180 non-null  float64\n",
      " 17  parks_around3000      18181 non-null  float64\n",
      " 18  parks_nearest         8079 non-null   float64\n",
      " 19  ponds_around3000      18181 non-null  float64\n",
      " 20  ponds_nearest         9110 non-null   float64\n",
      " 21  days_exposition       20518 non-null  float64\n",
      "dtypes: bool(2), float64(14), int64(3), object(3)\n",
      "memory usage: 3.7+ MB\n"
     ]
    },
    {
     "data": {
      "text/html": [
       "<div>\n",
       "<style scoped>\n",
       "    .dataframe tbody tr th:only-of-type {\n",
       "        vertical-align: middle;\n",
       "    }\n",
       "\n",
       "    .dataframe tbody tr th {\n",
       "        vertical-align: top;\n",
       "    }\n",
       "\n",
       "    .dataframe thead th {\n",
       "        text-align: right;\n",
       "    }\n",
       "</style>\n",
       "<table border=\"1\" class=\"dataframe\">\n",
       "  <thead>\n",
       "    <tr style=\"text-align: right;\">\n",
       "      <th></th>\n",
       "      <th>total_images</th>\n",
       "      <th>last_price</th>\n",
       "      <th>total_area</th>\n",
       "      <th>first_day_exposition</th>\n",
       "      <th>rooms</th>\n",
       "      <th>ceiling_height</th>\n",
       "      <th>floors_total</th>\n",
       "      <th>living_area</th>\n",
       "      <th>floor</th>\n",
       "      <th>is_apartment</th>\n",
       "      <th>studio</th>\n",
       "      <th>open_plan</th>\n",
       "      <th>kitchen_area</th>\n",
       "      <th>balcony</th>\n",
       "      <th>locality_name</th>\n",
       "      <th>airports_nearest</th>\n",
       "      <th>cityCenters_nearest</th>\n",
       "      <th>parks_around3000</th>\n",
       "      <th>parks_nearest</th>\n",
       "      <th>ponds_around3000</th>\n",
       "      <th>ponds_nearest</th>\n",
       "      <th>days_exposition</th>\n",
       "    </tr>\n",
       "  </thead>\n",
       "  <tbody>\n",
       "    <tr>\n",
       "      <th>count</th>\n",
       "      <td>23699.000000</td>\n",
       "      <td>2.369900e+04</td>\n",
       "      <td>23699.000000</td>\n",
       "      <td>23699</td>\n",
       "      <td>23699.000000</td>\n",
       "      <td>14504.000000</td>\n",
       "      <td>23613.000000</td>\n",
       "      <td>21796.000000</td>\n",
       "      <td>23699.000000</td>\n",
       "      <td>2775</td>\n",
       "      <td>23699</td>\n",
       "      <td>23699</td>\n",
       "      <td>21421.000000</td>\n",
       "      <td>12180.000000</td>\n",
       "      <td>23650</td>\n",
       "      <td>18157.000000</td>\n",
       "      <td>18180.000000</td>\n",
       "      <td>18181.000000</td>\n",
       "      <td>8079.000000</td>\n",
       "      <td>18181.000000</td>\n",
       "      <td>9110.000000</td>\n",
       "      <td>20518.000000</td>\n",
       "    </tr>\n",
       "    <tr>\n",
       "      <th>unique</th>\n",
       "      <td>NaN</td>\n",
       "      <td>NaN</td>\n",
       "      <td>NaN</td>\n",
       "      <td>1491</td>\n",
       "      <td>NaN</td>\n",
       "      <td>NaN</td>\n",
       "      <td>NaN</td>\n",
       "      <td>NaN</td>\n",
       "      <td>NaN</td>\n",
       "      <td>2</td>\n",
       "      <td>2</td>\n",
       "      <td>2</td>\n",
       "      <td>NaN</td>\n",
       "      <td>NaN</td>\n",
       "      <td>364</td>\n",
       "      <td>NaN</td>\n",
       "      <td>NaN</td>\n",
       "      <td>NaN</td>\n",
       "      <td>NaN</td>\n",
       "      <td>NaN</td>\n",
       "      <td>NaN</td>\n",
       "      <td>NaN</td>\n",
       "    </tr>\n",
       "    <tr>\n",
       "      <th>top</th>\n",
       "      <td>NaN</td>\n",
       "      <td>NaN</td>\n",
       "      <td>NaN</td>\n",
       "      <td>2018-02-01T00:00:00</td>\n",
       "      <td>NaN</td>\n",
       "      <td>NaN</td>\n",
       "      <td>NaN</td>\n",
       "      <td>NaN</td>\n",
       "      <td>NaN</td>\n",
       "      <td>False</td>\n",
       "      <td>False</td>\n",
       "      <td>False</td>\n",
       "      <td>NaN</td>\n",
       "      <td>NaN</td>\n",
       "      <td>Санкт-Петербург</td>\n",
       "      <td>NaN</td>\n",
       "      <td>NaN</td>\n",
       "      <td>NaN</td>\n",
       "      <td>NaN</td>\n",
       "      <td>NaN</td>\n",
       "      <td>NaN</td>\n",
       "      <td>NaN</td>\n",
       "    </tr>\n",
       "    <tr>\n",
       "      <th>freq</th>\n",
       "      <td>NaN</td>\n",
       "      <td>NaN</td>\n",
       "      <td>NaN</td>\n",
       "      <td>368</td>\n",
       "      <td>NaN</td>\n",
       "      <td>NaN</td>\n",
       "      <td>NaN</td>\n",
       "      <td>NaN</td>\n",
       "      <td>NaN</td>\n",
       "      <td>2725</td>\n",
       "      <td>23550</td>\n",
       "      <td>23632</td>\n",
       "      <td>NaN</td>\n",
       "      <td>NaN</td>\n",
       "      <td>15721</td>\n",
       "      <td>NaN</td>\n",
       "      <td>NaN</td>\n",
       "      <td>NaN</td>\n",
       "      <td>NaN</td>\n",
       "      <td>NaN</td>\n",
       "      <td>NaN</td>\n",
       "      <td>NaN</td>\n",
       "    </tr>\n",
       "    <tr>\n",
       "      <th>mean</th>\n",
       "      <td>9.858475</td>\n",
       "      <td>6.541549e+06</td>\n",
       "      <td>60.348651</td>\n",
       "      <td>NaN</td>\n",
       "      <td>2.070636</td>\n",
       "      <td>2.771499</td>\n",
       "      <td>10.673824</td>\n",
       "      <td>34.457852</td>\n",
       "      <td>5.892358</td>\n",
       "      <td>NaN</td>\n",
       "      <td>NaN</td>\n",
       "      <td>NaN</td>\n",
       "      <td>10.569807</td>\n",
       "      <td>1.150082</td>\n",
       "      <td>NaN</td>\n",
       "      <td>28793.672193</td>\n",
       "      <td>14191.277833</td>\n",
       "      <td>0.611408</td>\n",
       "      <td>490.804555</td>\n",
       "      <td>0.770255</td>\n",
       "      <td>517.980900</td>\n",
       "      <td>180.888634</td>\n",
       "    </tr>\n",
       "    <tr>\n",
       "      <th>std</th>\n",
       "      <td>5.682529</td>\n",
       "      <td>1.088701e+07</td>\n",
       "      <td>35.654083</td>\n",
       "      <td>NaN</td>\n",
       "      <td>1.078405</td>\n",
       "      <td>1.261056</td>\n",
       "      <td>6.597173</td>\n",
       "      <td>22.030445</td>\n",
       "      <td>4.885249</td>\n",
       "      <td>NaN</td>\n",
       "      <td>NaN</td>\n",
       "      <td>NaN</td>\n",
       "      <td>5.905438</td>\n",
       "      <td>1.071300</td>\n",
       "      <td>NaN</td>\n",
       "      <td>12630.880622</td>\n",
       "      <td>8608.386210</td>\n",
       "      <td>0.802074</td>\n",
       "      <td>342.317995</td>\n",
       "      <td>0.938346</td>\n",
       "      <td>277.720643</td>\n",
       "      <td>219.727988</td>\n",
       "    </tr>\n",
       "    <tr>\n",
       "      <th>min</th>\n",
       "      <td>0.000000</td>\n",
       "      <td>1.219000e+04</td>\n",
       "      <td>12.000000</td>\n",
       "      <td>NaN</td>\n",
       "      <td>0.000000</td>\n",
       "      <td>1.000000</td>\n",
       "      <td>1.000000</td>\n",
       "      <td>2.000000</td>\n",
       "      <td>1.000000</td>\n",
       "      <td>NaN</td>\n",
       "      <td>NaN</td>\n",
       "      <td>NaN</td>\n",
       "      <td>1.300000</td>\n",
       "      <td>0.000000</td>\n",
       "      <td>NaN</td>\n",
       "      <td>0.000000</td>\n",
       "      <td>181.000000</td>\n",
       "      <td>0.000000</td>\n",
       "      <td>1.000000</td>\n",
       "      <td>0.000000</td>\n",
       "      <td>13.000000</td>\n",
       "      <td>1.000000</td>\n",
       "    </tr>\n",
       "    <tr>\n",
       "      <th>25%</th>\n",
       "      <td>6.000000</td>\n",
       "      <td>3.400000e+06</td>\n",
       "      <td>40.000000</td>\n",
       "      <td>NaN</td>\n",
       "      <td>1.000000</td>\n",
       "      <td>2.520000</td>\n",
       "      <td>5.000000</td>\n",
       "      <td>18.600000</td>\n",
       "      <td>2.000000</td>\n",
       "      <td>NaN</td>\n",
       "      <td>NaN</td>\n",
       "      <td>NaN</td>\n",
       "      <td>7.000000</td>\n",
       "      <td>0.000000</td>\n",
       "      <td>NaN</td>\n",
       "      <td>18585.000000</td>\n",
       "      <td>9238.000000</td>\n",
       "      <td>0.000000</td>\n",
       "      <td>288.000000</td>\n",
       "      <td>0.000000</td>\n",
       "      <td>294.000000</td>\n",
       "      <td>45.000000</td>\n",
       "    </tr>\n",
       "    <tr>\n",
       "      <th>50%</th>\n",
       "      <td>9.000000</td>\n",
       "      <td>4.650000e+06</td>\n",
       "      <td>52.000000</td>\n",
       "      <td>NaN</td>\n",
       "      <td>2.000000</td>\n",
       "      <td>2.650000</td>\n",
       "      <td>9.000000</td>\n",
       "      <td>30.000000</td>\n",
       "      <td>4.000000</td>\n",
       "      <td>NaN</td>\n",
       "      <td>NaN</td>\n",
       "      <td>NaN</td>\n",
       "      <td>9.100000</td>\n",
       "      <td>1.000000</td>\n",
       "      <td>NaN</td>\n",
       "      <td>26726.000000</td>\n",
       "      <td>13098.500000</td>\n",
       "      <td>0.000000</td>\n",
       "      <td>455.000000</td>\n",
       "      <td>1.000000</td>\n",
       "      <td>502.000000</td>\n",
       "      <td>95.000000</td>\n",
       "    </tr>\n",
       "    <tr>\n",
       "      <th>75%</th>\n",
       "      <td>14.000000</td>\n",
       "      <td>6.800000e+06</td>\n",
       "      <td>69.900000</td>\n",
       "      <td>NaN</td>\n",
       "      <td>3.000000</td>\n",
       "      <td>2.800000</td>\n",
       "      <td>16.000000</td>\n",
       "      <td>42.300000</td>\n",
       "      <td>8.000000</td>\n",
       "      <td>NaN</td>\n",
       "      <td>NaN</td>\n",
       "      <td>NaN</td>\n",
       "      <td>12.000000</td>\n",
       "      <td>2.000000</td>\n",
       "      <td>NaN</td>\n",
       "      <td>37273.000000</td>\n",
       "      <td>16293.000000</td>\n",
       "      <td>1.000000</td>\n",
       "      <td>612.000000</td>\n",
       "      <td>1.000000</td>\n",
       "      <td>729.000000</td>\n",
       "      <td>232.000000</td>\n",
       "    </tr>\n",
       "    <tr>\n",
       "      <th>max</th>\n",
       "      <td>50.000000</td>\n",
       "      <td>7.630000e+08</td>\n",
       "      <td>900.000000</td>\n",
       "      <td>NaN</td>\n",
       "      <td>19.000000</td>\n",
       "      <td>100.000000</td>\n",
       "      <td>60.000000</td>\n",
       "      <td>409.700000</td>\n",
       "      <td>33.000000</td>\n",
       "      <td>NaN</td>\n",
       "      <td>NaN</td>\n",
       "      <td>NaN</td>\n",
       "      <td>112.000000</td>\n",
       "      <td>5.000000</td>\n",
       "      <td>NaN</td>\n",
       "      <td>84869.000000</td>\n",
       "      <td>65968.000000</td>\n",
       "      <td>3.000000</td>\n",
       "      <td>3190.000000</td>\n",
       "      <td>3.000000</td>\n",
       "      <td>1344.000000</td>\n",
       "      <td>1580.000000</td>\n",
       "    </tr>\n",
       "  </tbody>\n",
       "</table>\n",
       "</div>"
      ],
      "text/plain": [
       "        total_images    last_price    total_area first_day_exposition  \\\n",
       "count   23699.000000  2.369900e+04  23699.000000                23699   \n",
       "unique           NaN           NaN           NaN                 1491   \n",
       "top              NaN           NaN           NaN  2018-02-01T00:00:00   \n",
       "freq             NaN           NaN           NaN                  368   \n",
       "mean        9.858475  6.541549e+06     60.348651                  NaN   \n",
       "std         5.682529  1.088701e+07     35.654083                  NaN   \n",
       "min         0.000000  1.219000e+04     12.000000                  NaN   \n",
       "25%         6.000000  3.400000e+06     40.000000                  NaN   \n",
       "50%         9.000000  4.650000e+06     52.000000                  NaN   \n",
       "75%        14.000000  6.800000e+06     69.900000                  NaN   \n",
       "max        50.000000  7.630000e+08    900.000000                  NaN   \n",
       "\n",
       "               rooms  ceiling_height  floors_total   living_area  \\\n",
       "count   23699.000000    14504.000000  23613.000000  21796.000000   \n",
       "unique           NaN             NaN           NaN           NaN   \n",
       "top              NaN             NaN           NaN           NaN   \n",
       "freq             NaN             NaN           NaN           NaN   \n",
       "mean        2.070636        2.771499     10.673824     34.457852   \n",
       "std         1.078405        1.261056      6.597173     22.030445   \n",
       "min         0.000000        1.000000      1.000000      2.000000   \n",
       "25%         1.000000        2.520000      5.000000     18.600000   \n",
       "50%         2.000000        2.650000      9.000000     30.000000   \n",
       "75%         3.000000        2.800000     16.000000     42.300000   \n",
       "max        19.000000      100.000000     60.000000    409.700000   \n",
       "\n",
       "               floor is_apartment studio open_plan  kitchen_area  \\\n",
       "count   23699.000000         2775  23699     23699  21421.000000   \n",
       "unique           NaN            2      2         2           NaN   \n",
       "top              NaN        False  False     False           NaN   \n",
       "freq             NaN         2725  23550     23632           NaN   \n",
       "mean        5.892358          NaN    NaN       NaN     10.569807   \n",
       "std         4.885249          NaN    NaN       NaN      5.905438   \n",
       "min         1.000000          NaN    NaN       NaN      1.300000   \n",
       "25%         2.000000          NaN    NaN       NaN      7.000000   \n",
       "50%         4.000000          NaN    NaN       NaN      9.100000   \n",
       "75%         8.000000          NaN    NaN       NaN     12.000000   \n",
       "max        33.000000          NaN    NaN       NaN    112.000000   \n",
       "\n",
       "             balcony    locality_name  airports_nearest  cityCenters_nearest  \\\n",
       "count   12180.000000            23650      18157.000000         18180.000000   \n",
       "unique           NaN              364               NaN                  NaN   \n",
       "top              NaN  Санкт-Петербург               NaN                  NaN   \n",
       "freq             NaN            15721               NaN                  NaN   \n",
       "mean        1.150082              NaN      28793.672193         14191.277833   \n",
       "std         1.071300              NaN      12630.880622          8608.386210   \n",
       "min         0.000000              NaN          0.000000           181.000000   \n",
       "25%         0.000000              NaN      18585.000000          9238.000000   \n",
       "50%         1.000000              NaN      26726.000000         13098.500000   \n",
       "75%         2.000000              NaN      37273.000000         16293.000000   \n",
       "max         5.000000              NaN      84869.000000         65968.000000   \n",
       "\n",
       "        parks_around3000  parks_nearest  ponds_around3000  ponds_nearest  \\\n",
       "count       18181.000000    8079.000000      18181.000000    9110.000000   \n",
       "unique               NaN            NaN               NaN            NaN   \n",
       "top                  NaN            NaN               NaN            NaN   \n",
       "freq                 NaN            NaN               NaN            NaN   \n",
       "mean            0.611408     490.804555          0.770255     517.980900   \n",
       "std             0.802074     342.317995          0.938346     277.720643   \n",
       "min             0.000000       1.000000          0.000000      13.000000   \n",
       "25%             0.000000     288.000000          0.000000     294.000000   \n",
       "50%             0.000000     455.000000          1.000000     502.000000   \n",
       "75%             1.000000     612.000000          1.000000     729.000000   \n",
       "max             3.000000    3190.000000          3.000000    1344.000000   \n",
       "\n",
       "        days_exposition  \n",
       "count      20518.000000  \n",
       "unique              NaN  \n",
       "top                 NaN  \n",
       "freq                NaN  \n",
       "mean         180.888634  \n",
       "std          219.727988  \n",
       "min            1.000000  \n",
       "25%           45.000000  \n",
       "50%           95.000000  \n",
       "75%          232.000000  \n",
       "max         1580.000000  "
      ]
     },
     "execution_count": 2,
     "metadata": {},
     "output_type": "execute_result"
    }
   ],
   "source": [
    "# Вывод информации о df\n",
    "df.info()\n",
    "df.describe(include='all')"
   ]
  },
  {
   "cell_type": "code",
   "execution_count": 3,
   "metadata": {},
   "outputs": [
    {
     "data": {
      "text/plain": [
       "total_images                0\n",
       "last_price                  0\n",
       "total_area                  0\n",
       "first_day_exposition        0\n",
       "rooms                       0\n",
       "ceiling_height           9195\n",
       "floors_total               86\n",
       "living_area              1903\n",
       "floor                       0\n",
       "is_apartment            20924\n",
       "studio                      0\n",
       "open_plan                   0\n",
       "kitchen_area             2278\n",
       "balcony                 11519\n",
       "locality_name              49\n",
       "airports_nearest         5542\n",
       "cityCenters_nearest      5519\n",
       "parks_around3000         5518\n",
       "parks_nearest           15620\n",
       "ponds_around3000         5518\n",
       "ponds_nearest           14589\n",
       "days_exposition          3181\n",
       "dtype: int64"
      ]
     },
     "execution_count": 3,
     "metadata": {},
     "output_type": "execute_result"
    }
   ],
   "source": [
    "# Подсчёт пропусков\n",
    "df.isna().sum()"
   ]
  },
  {
   "cell_type": "markdown",
   "metadata": {},
   "source": [
    "### Вывод"
   ]
  },
  {
   "cell_type": "markdown",
   "metadata": {},
   "source": [
    "В исходных данных 23699 строки и `22 столбца`:\n",
    "* `total_images` — число фотографий квартиры в объявлении **[int64] - норм**\n",
    "* `last_price` — цена на момент снятия с публикации **[float64] - норм**\n",
    "* `total_area` — площадь квартиры в квадратных метрах (м²) **[float64] - норм***\n",
    "* `first_day_exposition` — дата публикации <font color='red'>**[object] - скорректировать на datetime**</font>\n",
    "* `rooms` — число комнат **[int64] - норм**\n",
    "* `ceiling_height` — высота потолков (м) **[float64] - норм**\n",
    "* `floors_total` — всего этажей в доме <font color='red'>**[float64] - скорректировать на int**</font>\n",
    "* `living_area` — жилая площадь в квадратных метрах (м²) **[float64] - норм**\n",
    "* `floor` — этаж **[int64] - норм**\n",
    "* `is_apartment` — апартаменты (булев тип) <font color='red'>**[object] - скорректировать на bool**</font>\n",
    "* `studio` — квартира-студия (булев тип) **[bool] - норм**\n",
    "* `open_plan` — свободная планировка (булев тип) **[bool] - норм**\n",
    "* `kitchen_area` — площадь кухни в квадратных метрах (м²) **[float64] - норм***\n",
    "* `balcony` — число балконов <font color='red'>**[float64] - скорректировать на int**</font>\n",
    "* `locality_name` — название населённого пункта **[object] - норм***\n",
    "* `airports_nearest` — расстояние до ближайшего аэропорта в метрах (м) **[float64] - норм**\n",
    "* `cityCenters_nearest` — расстояние до центра города (м) **[float64] - норм**\n",
    "* `parks_around3000` — число парков в радиусе 3 км <font color='red'>**[float64] - скорректировать на int**</font>\n",
    "* `parks_nearest` — расстояние до ближайшего парка (м) **[float64] - норм**\n",
    "* `ponds_around3000` — число водоёмов в радиусе 3 км <font color='red'>**[float64] - скорректировать на int**</font>\n",
    "* `ponds_nearest` — расстояние до ближайшего водоёма (м) **[float64] - норм**\n",
    "* `days_exposition` — сколько дней было размещено объявление (от публикации до снятия) <font color='red'>**[float64] - скорректировать на int**</font>"
   ]
  },
  {
   "cell_type": "markdown",
   "metadata": {},
   "source": [
    "Присутсвуют **незаполненные значения** в столбцах: ceiling_height, floors_total, living_area, is_apartment, kitchen_area, balcony, locality_name, airports_nearest, cityCenters_nearest, parks_around3000, parks_nearest, ponds_around3000, ponds_nearest, days_exposition.\n",
    "\n",
    "Есть **несоответствия в типах данных** (см.выше красным шрифтом): first_day_exposition, floors_total, is_apartment, balcony, parks_around3000, ponds_around3000, days_exposition.\n",
    "\n",
    "Присутсвуют **аномальные значения** (например: максимальное значение в столбце с высотой потолков = 100, минимальное = 1).\n",
    "\n",
    "В столбцах cityCenters_nearest, parks_around3000, ponds_around3000 наблюдается **нарушение стиля** (верхний регистр, отсутсвие \"_\")"
   ]
  },
  {
   "cell_type": "markdown",
   "metadata": {},
   "source": [
    "## Предобработка данных"
   ]
  },
  {
   "cell_type": "code",
   "execution_count": 4,
   "metadata": {},
   "outputs": [],
   "source": [
    "# Переименование столбцов в соответствии со стилем Python\n",
    "df.rename(columns={'cityCenters_nearest': 'city_centers_nearest', 'parks_around3000': 'parks_around_3000', 'ponds_around3000': 'ponds_around_3000'}, inplace=True)"
   ]
  },
  {
   "cell_type": "markdown",
   "metadata": {},
   "source": [
    "### Число фотографий квартиры в объявлении"
   ]
  },
  {
   "cell_type": "code",
   "execution_count": 5,
   "metadata": {},
   "outputs": [
    {
     "data": {
      "text/plain": [
       "array([20,  7, 10,  0,  2,  6,  5, 18,  9,  1, 16, 11,  8, 12, 13,  3, 15,\n",
       "       17, 14, 19, 32,  4, 35, 39, 23, 21, 27, 30, 24, 25, 28, 31, 22, 29,\n",
       "       26, 50, 42, 37])"
      ]
     },
     "execution_count": 5,
     "metadata": {},
     "output_type": "execute_result"
    }
   ],
   "source": [
    "# Уникальные значения:\n",
    "df['total_images'].unique()"
   ]
  },
  {
   "cell_type": "markdown",
   "metadata": {},
   "source": [
    "Замечаний нет (аномальные/отрицательные значения отсутсвуют, тип данных соответствует, пропусков нет)."
   ]
  },
  {
   "cell_type": "markdown",
   "metadata": {},
   "source": [
    "### Цена на момент снятия с публикации"
   ]
  },
  {
   "cell_type": "markdown",
   "metadata": {},
   "source": [
    "Замечаний нет (аномальные/отрицательные значения отсутсвуют, тип данных соответствует, пропусков нет, минимальные/максимальные значения не вызывают сомнений)."
   ]
  },
  {
   "cell_type": "markdown",
   "metadata": {},
   "source": [
    "### Площадь квартиры в квадратных метрах"
   ]
  },
  {
   "cell_type": "markdown",
   "metadata": {},
   "source": [
    "Замечаний нет (аномальные/отрицательные значения отсутсвуют, тип данных соответствует, пропусков нет, минимальные/максимальные значения не вызывают сомнений)."
   ]
  },
  {
   "cell_type": "markdown",
   "metadata": {},
   "source": [
    "### Дата публикации"
   ]
  },
  {
   "cell_type": "code",
   "execution_count": 6,
   "metadata": {},
   "outputs": [
    {
     "data": {
      "text/plain": [
       "count                            23699\n",
       "mean     2017-11-08 21:55:18.975484160\n",
       "min                2014-11-27 00:00:00\n",
       "25%                2017-05-12 12:00:00\n",
       "50%                2017-12-12 00:00:00\n",
       "75%                2018-08-26 00:00:00\n",
       "max                2019-05-03 00:00:00\n",
       "Name: first_day_exposition, dtype: object"
      ]
     },
     "execution_count": 6,
     "metadata": {},
     "output_type": "execute_result"
    }
   ],
   "source": [
    "# Изменение типа данных\n",
    "df['first_day_exposition'] = pd.to_datetime(df['first_day_exposition'], format='%Y-%m-%dT%H:%M:%S')\n",
    "\n",
    "# Округление до 1 дня\n",
    "df['first_day_exposition'] = df['first_day_exposition'].dt.round('1D')\n",
    "\n",
    "# Проверка аномальных значений\n",
    "df['first_day_exposition'].describe(datetime_is_numeric=True)"
   ]
  },
  {
   "cell_type": "markdown",
   "metadata": {},
   "source": [
    "Крайние даты: 2014-11-27 и 2019-05-03. Аномальные значения и пропуски отсутствуют."
   ]
  },
  {
   "cell_type": "markdown",
   "metadata": {},
   "source": [
    "### Число комнат"
   ]
  },
  {
   "cell_type": "code",
   "execution_count": 7,
   "metadata": {},
   "outputs": [
    {
     "data": {
      "text/plain": [
       "array([ 3,  1,  2,  4,  5,  6,  0,  7, 11,  8, 14, 10, 15,  9, 19, 16, 12])"
      ]
     },
     "execution_count": 7,
     "metadata": {},
     "output_type": "execute_result"
    }
   ],
   "source": [
    "# Уникальные значения:\n",
    "df['rooms'].unique()"
   ]
  },
  {
   "cell_type": "code",
   "execution_count": 8,
   "metadata": {},
   "outputs": [
    {
     "data": {
      "text/plain": [
       "0.008312587028988565"
      ]
     },
     "execution_count": 8,
     "metadata": {},
     "output_type": "execute_result"
    }
   ],
   "source": [
    "# Доля записей со значением \"0\" в столбце 'rooms'\n",
    "df[df['rooms']==0]['rooms'].count() / len(df['rooms'].index)"
   ]
  },
  {
   "cell_type": "code",
   "execution_count": 9,
   "metadata": {},
   "outputs": [
    {
     "data": {
      "text/html": [
       "<div>\n",
       "<style scoped>\n",
       "    .dataframe tbody tr th:only-of-type {\n",
       "        vertical-align: middle;\n",
       "    }\n",
       "\n",
       "    .dataframe tbody tr th {\n",
       "        vertical-align: top;\n",
       "    }\n",
       "\n",
       "    .dataframe thead tr th {\n",
       "        text-align: left;\n",
       "    }\n",
       "\n",
       "    .dataframe thead tr:last-of-type th {\n",
       "        text-align: right;\n",
       "    }\n",
       "</style>\n",
       "<table border=\"1\" class=\"dataframe\">\n",
       "  <thead>\n",
       "    <tr>\n",
       "      <th></th>\n",
       "      <th colspan=\"2\" halign=\"left\">mean</th>\n",
       "      <th colspan=\"2\" halign=\"left\">median</th>\n",
       "    </tr>\n",
       "    <tr>\n",
       "      <th></th>\n",
       "      <th>living_area</th>\n",
       "      <th>total_area</th>\n",
       "      <th>living_area</th>\n",
       "      <th>total_area</th>\n",
       "    </tr>\n",
       "    <tr>\n",
       "      <th>rooms</th>\n",
       "      <th></th>\n",
       "      <th></th>\n",
       "      <th></th>\n",
       "      <th></th>\n",
       "    </tr>\n",
       "  </thead>\n",
       "  <tbody>\n",
       "    <tr>\n",
       "      <th>0</th>\n",
       "      <td>18.865246</td>\n",
       "      <td>29.279746</td>\n",
       "      <td>18.000</td>\n",
       "      <td>26.05</td>\n",
       "    </tr>\n",
       "    <tr>\n",
       "      <th>1</th>\n",
       "      <td>17.893552</td>\n",
       "      <td>37.644669</td>\n",
       "      <td>17.600</td>\n",
       "      <td>36.56</td>\n",
       "    </tr>\n",
       "    <tr>\n",
       "      <th>2</th>\n",
       "      <td>31.736849</td>\n",
       "      <td>55.855089</td>\n",
       "      <td>30.500</td>\n",
       "      <td>53.00</td>\n",
       "    </tr>\n",
       "    <tr>\n",
       "      <th>3</th>\n",
       "      <td>47.387941</td>\n",
       "      <td>77.764580</td>\n",
       "      <td>45.000</td>\n",
       "      <td>73.00</td>\n",
       "    </tr>\n",
       "    <tr>\n",
       "      <th>4</th>\n",
       "      <td>66.983223</td>\n",
       "      <td>107.610763</td>\n",
       "      <td>63.600</td>\n",
       "      <td>99.30</td>\n",
       "    </tr>\n",
       "    <tr>\n",
       "      <th>5</th>\n",
       "      <td>100.009247</td>\n",
       "      <td>161.474816</td>\n",
       "      <td>91.785</td>\n",
       "      <td>146.45</td>\n",
       "    </tr>\n",
       "    <tr>\n",
       "      <th>6</th>\n",
       "      <td>130.983636</td>\n",
       "      <td>201.537619</td>\n",
       "      <td>123.900</td>\n",
       "      <td>184.30</td>\n",
       "    </tr>\n",
       "    <tr>\n",
       "      <th>7</th>\n",
       "      <td>163.564151</td>\n",
       "      <td>265.325424</td>\n",
       "      <td>145.000</td>\n",
       "      <td>214.00</td>\n",
       "    </tr>\n",
       "    <tr>\n",
       "      <th>8</th>\n",
       "      <td>168.683333</td>\n",
       "      <td>259.233333</td>\n",
       "      <td>161.000</td>\n",
       "      <td>235.70</td>\n",
       "    </tr>\n",
       "    <tr>\n",
       "      <th>9</th>\n",
       "      <td>190.257143</td>\n",
       "      <td>305.975000</td>\n",
       "      <td>179.200</td>\n",
       "      <td>300.95</td>\n",
       "    </tr>\n",
       "    <tr>\n",
       "      <th>10</th>\n",
       "      <td>165.566667</td>\n",
       "      <td>259.566667</td>\n",
       "      <td>161.400</td>\n",
       "      <td>272.60</td>\n",
       "    </tr>\n",
       "    <tr>\n",
       "      <th>11</th>\n",
       "      <td>133.900000</td>\n",
       "      <td>188.900000</td>\n",
       "      <td>133.900</td>\n",
       "      <td>188.90</td>\n",
       "    </tr>\n",
       "    <tr>\n",
       "      <th>12</th>\n",
       "      <td>409.700000</td>\n",
       "      <td>900.000000</td>\n",
       "      <td>409.700</td>\n",
       "      <td>900.00</td>\n",
       "    </tr>\n",
       "    <tr>\n",
       "      <th>14</th>\n",
       "      <td>195.150000</td>\n",
       "      <td>304.200000</td>\n",
       "      <td>195.150</td>\n",
       "      <td>304.20</td>\n",
       "    </tr>\n",
       "    <tr>\n",
       "      <th>15</th>\n",
       "      <td>409.000000</td>\n",
       "      <td>590.000000</td>\n",
       "      <td>409.000</td>\n",
       "      <td>590.00</td>\n",
       "    </tr>\n",
       "    <tr>\n",
       "      <th>16</th>\n",
       "      <td>180.000000</td>\n",
       "      <td>270.000000</td>\n",
       "      <td>180.000</td>\n",
       "      <td>270.00</td>\n",
       "    </tr>\n",
       "    <tr>\n",
       "      <th>19</th>\n",
       "      <td>264.500000</td>\n",
       "      <td>374.600000</td>\n",
       "      <td>264.500</td>\n",
       "      <td>374.60</td>\n",
       "    </tr>\n",
       "  </tbody>\n",
       "</table>\n",
       "</div>"
      ],
      "text/plain": [
       "             mean                  median           \n",
       "      living_area  total_area living_area total_area\n",
       "rooms                                               \n",
       "0       18.865246   29.279746      18.000      26.05\n",
       "1       17.893552   37.644669      17.600      36.56\n",
       "2       31.736849   55.855089      30.500      53.00\n",
       "3       47.387941   77.764580      45.000      73.00\n",
       "4       66.983223  107.610763      63.600      99.30\n",
       "5      100.009247  161.474816      91.785     146.45\n",
       "6      130.983636  201.537619     123.900     184.30\n",
       "7      163.564151  265.325424     145.000     214.00\n",
       "8      168.683333  259.233333     161.000     235.70\n",
       "9      190.257143  305.975000     179.200     300.95\n",
       "10     165.566667  259.566667     161.400     272.60\n",
       "11     133.900000  188.900000     133.900     188.90\n",
       "12     409.700000  900.000000     409.700     900.00\n",
       "14     195.150000  304.200000     195.150     304.20\n",
       "15     409.000000  590.000000     409.000     590.00\n",
       "16     180.000000  270.000000     180.000     270.00\n",
       "19     264.500000  374.600000     264.500     374.60"
      ]
     },
     "execution_count": 9,
     "metadata": {},
     "output_type": "execute_result"
    }
   ],
   "source": [
    "# Зависимость количества комнат от жилой и общей площади\n",
    "df.pivot_table(index='rooms', values=['total_area', 'living_area'], aggfunc=['mean', 'median'])"
   ]
  },
  {
   "cell_type": "markdown",
   "metadata": {},
   "source": [
    "Среди уникальных значений присутствует \"0\", доля записей составляет менее 1% от общего количества. Возможно у собственника в документах не отражено количество комнат, поэтому при заполнении было указано \"0\".\n",
    "\n",
    "Значения с большим количеством комнат не являются анамальными и обусловлены большими значениями жилой/общей площади недвижимости."
   ]
  },
  {
   "cell_type": "markdown",
   "metadata": {},
   "source": [
    "### Высота потолков"
   ]
  },
  {
   "cell_type": "code",
   "execution_count": 10,
   "metadata": {},
   "outputs": [
    {
     "data": {
      "text/plain": [
       "array([100.  ,  32.  ,  27.5 ,  27.  ,  26.  ,  25.  ,  24.  ,  22.6 ,\n",
       "        20.  ,  14.  ,  10.3 ,   8.3 ,   8.  ,   6.  ,   5.8 ,   5.6 ,\n",
       "         5.5 ,   5.3 ,   5.2 ,   5.  ,   4.9 ,   4.8 ,   4.7 ,   4.65,\n",
       "         4.5 ,   4.45,   4.4 ,   4.37,   4.3 ,   4.25,   4.2 ,   4.19,\n",
       "         4.15,   4.14,   4.1 ,   4.06,   4.  ,   3.98,   3.95,   3.93,\n",
       "         3.9 ,   3.88,   3.87,   3.86,   3.85,   3.84,   3.83,   3.82,\n",
       "         3.8 ,   3.78,   3.76,   3.75,   3.7 ,   3.69,   3.68,   3.67,\n",
       "         3.66,   3.65,   3.63,   3.62,   3.6 ,   3.59,   3.58,   3.57,\n",
       "         3.56,   3.55,   3.54,   3.53,   3.52,   3.51,   3.5 ,   3.49,\n",
       "         3.48,   3.47,   3.46,   3.45,   3.44,   3.43,   3.42,   3.4 ,\n",
       "         3.39,   3.38,   3.37,   3.36,   3.35,   3.34,   3.33,   3.32,\n",
       "         3.31,   3.3 ,   3.29,   3.28,   3.27,   3.26,   3.25,   3.24,\n",
       "         3.23,   3.22,   3.21,   3.2 ,   3.18,   3.17,   3.16,   3.15,\n",
       "         3.14,   3.13,   3.12,   3.11,   3.1 ,   3.09,   3.08,   3.07,\n",
       "         3.06,   3.05,   3.04,   3.03,   3.02,   3.01,   3.  ,   2.99,\n",
       "         2.98,   2.97,   2.96,   2.95,   2.94,   2.93,   2.92,   2.91,\n",
       "         2.9 ,   2.89,   2.88,   2.87,   2.86,   2.85,   2.84,   2.83,\n",
       "         2.82,   2.81,   2.8 ,   2.79,   2.78,   2.77,   2.76,   2.75,\n",
       "         2.74,   2.73,   2.72,   2.71,   2.7 ,   2.69,   2.68,   2.67,\n",
       "         2.66,   2.65,   2.64,   2.63,   2.62,   2.61,   2.6 ,   2.59,\n",
       "         2.58,   2.57,   2.56,   2.55,   2.54,   2.53,   2.52,   2.51,\n",
       "         2.5 ,   2.49,   2.48,   2.47,   2.46,   2.45,   2.4 ,   2.34,\n",
       "         2.3 ,   2.25,   2.2 ,   2.  ,   1.75,   1.2 ,   1.  ,    nan])"
      ]
     },
     "execution_count": 10,
     "metadata": {},
     "output_type": "execute_result"
    }
   ],
   "source": [
    "# Уникальные значения:\n",
    "df['ceiling_height'].sort_values(ascending=False).unique()"
   ]
  },
  {
   "cell_type": "markdown",
   "metadata": {},
   "source": [
    "**Анализ уникальных значений по высоте потолка:**\n",
    "\n",
    "Элитные квартиры с высотой потолков от 5 до 10 есть на рынке недвижимости (2-х уровневые и пр.)\n",
    "\n",
    "Значения от 20 до 100 - скорей всего шибочные и указаны без десятичной дроби.\n",
    "\n",
    "Аномальные значения 14 и менее 2-х метров скорей всего ошибочны. Их логичнее заменить на медианные значения, т.к. в выборке присутсвуют записи с высотой потолков от 5 до 10 метров.\n",
    "\n",
    "Пропуски составляют около 40%, критично отбросить такую долю, поэтому логичнее заполнить медианными значениями."
   ]
  },
  {
   "cell_type": "code",
   "execution_count": 11,
   "metadata": {},
   "outputs": [],
   "source": [
    "# Корректировка значений от 20 до 100 делением на 10\n",
    "df.loc[(20 <= df['ceiling_height']) & (df['ceiling_height'] <= 100), 'ceiling_height'] /= 10\n",
    "\n",
    "# Корректировка ошибочных значений на медианное\n",
    "df.loc[df['ceiling_height'] == 14, 'ceiling_height'] = df['ceiling_height'].median()\n",
    "df.loc[df['ceiling_height'] < 2, 'ceiling_height'] = df['ceiling_height'].median()\n",
    "\n",
    "# Заполнение пропусков на медианные значения\n",
    "df['ceiling_height'] = df['ceiling_height'].fillna(df['ceiling_height'].median())"
   ]
  },
  {
   "cell_type": "markdown",
   "metadata": {},
   "source": [
    "### Всего этажей в доме"
   ]
  },
  {
   "cell_type": "code",
   "execution_count": 12,
   "metadata": {},
   "outputs": [
    {
     "data": {
      "text/plain": [
       "array([60., 52., 37., 36., 35., 34., 33., 29., 28., 27., 26., 25., 24.,\n",
       "       23., 22., 21., 20., 19., 18., 17., 16., 15., 14., 13., 12., 11.,\n",
       "       10.,  9.,  8.,  7.,  6.,  5.,  4.,  3.,  2.,  1., nan])"
      ]
     },
     "execution_count": 12,
     "metadata": {},
     "output_type": "execute_result"
    }
   ],
   "source": [
    "# Уникальные значения:\n",
    "df['floors_total'].sort_values(ascending=False).unique()"
   ]
  },
  {
   "cell_type": "code",
   "execution_count": 13,
   "metadata": {},
   "outputs": [
    {
     "data": {
      "text/plain": [
       "array([60, 52, 37, 36, 35, 34, 33, 29, 28, 27, 26, 25, 24, 23, 22, 21, 20,\n",
       "       19, 18, 17, 16, 15, 14, 13, 12, 11, 10,  9,  8,  7,  6,  5,  4,  3,\n",
       "        2,  1])"
      ]
     },
     "execution_count": 13,
     "metadata": {},
     "output_type": "execute_result"
    }
   ],
   "source": [
    "# Заполнение пропусков медианными значениями в зависимости от этажа\n",
    "df['floors_total'] = df['floors_total'].fillna(df.groupby(\"floor\")[\"floors_total\"].transform('median'))\n",
    "\n",
    "# Изменение типа данных\n",
    "df['floors_total'] = df['floors_total'].astype('int64')\n",
    "\n",
    "# Проверка после корректировок\n",
    "df['floors_total'].sort_values(ascending=False).unique()"
   ]
  },
  {
   "cell_type": "markdown",
   "metadata": {},
   "source": [
    "### Жилая площадь"
   ]
  },
  {
   "cell_type": "code",
   "execution_count": 14,
   "metadata": {},
   "outputs": [
    {
     "data": {
      "text/plain": [
       "1903"
      ]
     },
     "execution_count": 14,
     "metadata": {},
     "output_type": "execute_result"
    }
   ],
   "source": [
    "# Подсчет пропусков\n",
    "df['living_area'].isna().sum()"
   ]
  },
  {
   "cell_type": "markdown",
   "metadata": {},
   "source": [
    "Вероятно при отсутствии жилой площади данные не заполнялись, тогда логично присвоить нулевые значения."
   ]
  },
  {
   "cell_type": "code",
   "execution_count": 15,
   "metadata": {},
   "outputs": [],
   "source": [
    "# Заполнение пропусков\n",
    "df['living_area'] = df['living_area'].fillna(0)"
   ]
  },
  {
   "cell_type": "markdown",
   "metadata": {},
   "source": [
    "### Этаж"
   ]
  },
  {
   "cell_type": "code",
   "execution_count": 16,
   "metadata": {},
   "outputs": [
    {
     "data": {
      "text/plain": [
       "array([ 8,  1,  4,  9, 13,  5,  6, 22, 26,  7,  3,  2, 11, 15, 18, 10, 19,\n",
       "       16, 20, 27, 25, 17, 14, 12, 21, 28, 24, 23, 30, 29, 32, 33, 31])"
      ]
     },
     "execution_count": 16,
     "metadata": {},
     "output_type": "execute_result"
    }
   ],
   "source": [
    "# Уникальные значения:\n",
    "df['floor'].unique()"
   ]
  },
  {
   "cell_type": "markdown",
   "metadata": {},
   "source": [
    "Замечаний нет (аномальные/отрицательные значения отсутсвуют, тип данных соответствует, пропусков нет, минимальные/максимальные значения не вызывают сомнений)."
   ]
  },
  {
   "cell_type": "markdown",
   "metadata": {},
   "source": [
    "### Апартаменты"
   ]
  },
  {
   "cell_type": "code",
   "execution_count": 17,
   "metadata": {},
   "outputs": [
    {
     "data": {
      "text/plain": [
       "array([nan, False, True], dtype=object)"
      ]
     },
     "execution_count": 17,
     "metadata": {},
     "output_type": "execute_result"
    }
   ],
   "source": [
    "# Уникальные значения:\n",
    "df['is_apartment'].unique()"
   ]
  },
  {
   "cell_type": "markdown",
   "metadata": {},
   "source": [
    "Поскольку апартаменты - это вид коммерческой недвижимости, то незаполненные позиции можно отнести к False."
   ]
  },
  {
   "cell_type": "code",
   "execution_count": 18,
   "metadata": {},
   "outputs": [],
   "source": [
    "# Заполнение пропусков\n",
    "df['is_apartment'] = df['is_apartment'].fillna(False)\n",
    "\n",
    "# Изменение типа данных\n",
    "df['is_apartment'] = df['is_apartment'].astype('bool')"
   ]
  },
  {
   "cell_type": "markdown",
   "metadata": {},
   "source": [
    "### Квартира-студия"
   ]
  },
  {
   "cell_type": "code",
   "execution_count": 19,
   "metadata": {},
   "outputs": [
    {
     "data": {
      "text/plain": [
       "array([False,  True])"
      ]
     },
     "execution_count": 19,
     "metadata": {},
     "output_type": "execute_result"
    }
   ],
   "source": [
    "# Уникальные значения:\n",
    "df['studio'].unique()"
   ]
  },
  {
   "cell_type": "markdown",
   "metadata": {},
   "source": [
    "Замечаний нет (аномальные значения отсутсвуют, тип данных соответствует, пропусков нет)."
   ]
  },
  {
   "cell_type": "markdown",
   "metadata": {},
   "source": [
    "### Свободная планировка"
   ]
  },
  {
   "cell_type": "code",
   "execution_count": 20,
   "metadata": {},
   "outputs": [
    {
     "data": {
      "text/plain": [
       "array([False,  True])"
      ]
     },
     "execution_count": 20,
     "metadata": {},
     "output_type": "execute_result"
    }
   ],
   "source": [
    "# Уникальные значения:\n",
    "df['open_plan'].unique()"
   ]
  },
  {
   "cell_type": "markdown",
   "metadata": {},
   "source": [
    "Замечаний нет (аномальные значения отсутсвуют, тип данных соответствует, пропусков нет)."
   ]
  },
  {
   "cell_type": "markdown",
   "metadata": {},
   "source": [
    "### Площадь кухни в квадратных метрах"
   ]
  },
  {
   "cell_type": "code",
   "execution_count": 21,
   "metadata": {},
   "outputs": [
    {
     "data": {
      "text/plain": [
       "2278"
      ]
     },
     "execution_count": 21,
     "metadata": {},
     "output_type": "execute_result"
    }
   ],
   "source": [
    "# Подсчет пропусков\n",
    "df['kitchen_area'].isna().sum()"
   ]
  },
  {
   "cell_type": "markdown",
   "metadata": {},
   "source": [
    "Вероятно при отсутствии кухни данные не заполнялись, тогда логично присвоить нулевые значения площади кухни."
   ]
  },
  {
   "cell_type": "code",
   "execution_count": 22,
   "metadata": {},
   "outputs": [],
   "source": [
    "# Заполнение пропусков\n",
    "df['kitchen_area'] = df['kitchen_area'].fillna(0)"
   ]
  },
  {
   "cell_type": "markdown",
   "metadata": {},
   "source": [
    "### Число балконов"
   ]
  },
  {
   "cell_type": "code",
   "execution_count": 23,
   "metadata": {},
   "outputs": [
    {
     "data": {
      "text/plain": [
       "array([nan,  2.,  0.,  1.,  5.,  4.,  3.])"
      ]
     },
     "execution_count": 23,
     "metadata": {},
     "output_type": "execute_result"
    }
   ],
   "source": [
    "# Уникальные значения:\n",
    "df['balcony'].unique()"
   ]
  },
  {
   "cell_type": "code",
   "execution_count": 24,
   "metadata": {},
   "outputs": [],
   "source": [
    "# Заполнение пропусков нулевыми значениями, т.к. если человек не указал число балконов — скорее всего, их нет.\n",
    "df['balcony'] = df['balcony'].fillna(0)\n",
    "\n",
    "# Изменение типа данных\n",
    "df['balcony'] = df['balcony'].astype('int64')"
   ]
  },
  {
   "cell_type": "markdown",
   "metadata": {},
   "source": [
    "Примечание: количество балконов 5шт и 4шт выглядит сомнительным, возможно ошибочно была указана площадь балкона. Для анализа эти данные не используются, поэтому остаются без изменений."
   ]
  },
  {
   "cell_type": "markdown",
   "metadata": {},
   "source": [
    "### Название населённого пункта"
   ]
  },
  {
   "cell_type": "code",
   "execution_count": 25,
   "metadata": {},
   "outputs": [
    {
     "data": {
      "text/plain": [
       "array(['Бокситогорск', 'Волосово', 'Волхов', 'Всеволожск', 'Выборг',\n",
       "       'Высоцк', 'Гатчина', 'Зеленогорск', 'Ивангород', 'Каменногорск',\n",
       "       'Кингисепп', 'Кириши', 'Кировск', 'Колпино', 'Коммунар',\n",
       "       'Красное Село', 'Кронштадт', 'Кудрово', 'Лодейное Поле',\n",
       "       'Ломоносов', 'Луга', 'Любань', 'Мурино', 'Никольское',\n",
       "       'Новая Ладога', 'Отрадное', 'Павловск', 'Петергоф', 'Пикалёво',\n",
       "       'Подпорожье', 'Приморск', 'Приозерск', 'Пушкин', 'Санкт-Петербург',\n",
       "       'Светогорск', 'Сертолово', 'Сестрорецк', 'Сланцы', 'Сосновый Бор',\n",
       "       'Сясьстрой', 'Тихвин', 'Тосно', 'Шлиссельбург',\n",
       "       'городской поселок Большая Ижора', 'городской поселок Янино-1',\n",
       "       'городской посёлок Будогощь', 'городской посёлок Виллози',\n",
       "       'городской посёлок Лесогорский', 'городской посёлок Мга',\n",
       "       'городской посёлок Назия', 'городской посёлок Новоселье',\n",
       "       'городской посёлок Павлово', 'городской посёлок Рощино',\n",
       "       'городской посёлок Свирьстрой', 'городской посёлок Советский',\n",
       "       'городской посёлок Фёдоровское', 'городской посёлок Янино-1',\n",
       "       'деревня Агалатово', 'деревня Аро', 'деревня Батово',\n",
       "       'деревня Бегуницы', 'деревня Белогорка', 'деревня Большая Вруда',\n",
       "       'деревня Большая Пустомержа', 'деревня Большие Колпаны',\n",
       "       'деревня Большое Рейзино', 'деревня Большой Сабск', 'деревня Бор',\n",
       "       'деревня Борисова Грива', 'деревня Ваганово', 'деревня Вартемяги',\n",
       "       'деревня Вахнова Кара', 'деревня Выскатка', 'деревня Гарболово',\n",
       "       'деревня Глинка', 'деревня Горбунки', 'деревня Гостилицы',\n",
       "       'деревня Заклинье', 'деревня Заневка', 'деревня Зимитицы',\n",
       "       'деревня Извара', 'деревня Иссад', 'деревня Калитино',\n",
       "       'деревня Кальтино', 'деревня Камышовка', 'деревня Каськово',\n",
       "       'деревня Келози', 'деревня Кипень', 'деревня Кисельня',\n",
       "       'деревня Колтуши', 'деревня Коркино', 'деревня Котлы',\n",
       "       'деревня Кривко', 'деревня Кудрово', 'деревня Кузьмолово',\n",
       "       'деревня Курковицы', 'деревня Куровицы', 'деревня Куттузи',\n",
       "       'деревня Лаврики', 'деревня Лаголово', 'деревня Лампово',\n",
       "       'деревня Лесколово', 'деревня Лопухинка', 'деревня Лупполово',\n",
       "       'деревня Малая Романовка', 'деревня Малое Верево',\n",
       "       'деревня Малое Карлино', 'деревня Малые Колпаны',\n",
       "       'деревня Мануйлово', 'деревня Меньково', 'деревня Мины',\n",
       "       'деревня Мистолово', 'деревня Ненимяки', 'деревня Нижние Осельки',\n",
       "       'деревня Нижняя', 'деревня Низино', 'деревня Новое Девяткино',\n",
       "       'деревня Новолисино', 'деревня Нурма', 'деревня Оржицы',\n",
       "       'деревня Парицы', 'деревня Пельгора', 'деревня Пеники',\n",
       "       'деревня Пижма', 'деревня Пикколово', 'деревня Пудомяги',\n",
       "       'деревня Пустынка', 'деревня Пчева', 'деревня Рабитицы',\n",
       "       'деревня Разбегаево', 'деревня Раздолье', 'деревня Разметелево',\n",
       "       'деревня Рапполово', 'деревня Реброво', 'деревня Русско',\n",
       "       'деревня Сижно', 'деревня Снегирёвка', 'деревня Старая',\n",
       "       'деревня Старая Пустошь', 'деревня Старое Хинколово',\n",
       "       'деревня Старополье', 'деревня Старосиверская',\n",
       "       'деревня Старые Бегуницы', 'деревня Суоранда',\n",
       "       'деревня Сяськелево', 'деревня Тарасово', 'деревня Терпилицы',\n",
       "       'деревня Тихковицы', 'деревня Тойворово', 'деревня Торосово',\n",
       "       'деревня Торошковичи', 'деревня Трубников Бор',\n",
       "       'деревня Фалилеево', 'деревня Фёдоровское', 'деревня Хапо-Ое',\n",
       "       'деревня Хязельки', 'деревня Чудской Бор', 'деревня Шпаньково',\n",
       "       'деревня Щеглово', 'деревня Юкки', 'деревня Ялгино',\n",
       "       'деревня Яльгелево', 'деревня Ям-Тесово',\n",
       "       'коттеджный поселок Кивеннапа Север', 'коттеджный поселок Счастье',\n",
       "       'коттеджный посёлок Лесное', 'поселок Аннино', 'поселок Барышево',\n",
       "       'поселок Бугры', 'поселок Возрождение', 'поселок Войсковицы',\n",
       "       'поселок Володарское', 'поселок Гаврилово', 'поселок Гарболово',\n",
       "       'поселок Гладкое', 'поселок Глажево', 'поселок Глебычево',\n",
       "       'поселок Гончарово', 'поселок Громово', 'поселок Дружноселье',\n",
       "       'поселок Елизаветино', 'поселок Жилгородок', 'поселок Жилпосёлок',\n",
       "       'поселок Житково', 'поселок Заводской', 'поселок Запорожское',\n",
       "       'поселок Зимитицы', 'поселок Ильичёво', 'поселок Калитино',\n",
       "       'поселок Каложицы', 'поселок Кингисеппский', 'поселок Кирпичное',\n",
       "       'поселок Кобралово', 'поселок Кобринское', 'поселок Коммунары',\n",
       "       'поселок Коробицыно', 'поселок Котельский',\n",
       "       'поселок Красная Долина', 'поселок Красносельское',\n",
       "       'поселок Лесное', 'поселок Лисий Нос', 'поселок Лукаши',\n",
       "       'поселок Любань', 'поселок Мельниково', 'поселок Мичуринское',\n",
       "       'поселок Молодцово', 'поселок Мурино', 'поселок Новый Свет',\n",
       "       'поселок Новый Учхоз', 'поселок Оредеж',\n",
       "       'поселок Пансионат Зелёный Бор', 'поселок Первомайское',\n",
       "       'поселок Перово', 'поселок Петровское', 'поселок Победа',\n",
       "       'поселок Поляны', 'поселок Почап', 'поселок Починок',\n",
       "       'поселок Пушное', 'поселок Пчевжа', 'поселок Рабитицы',\n",
       "       'поселок Романовка', 'поселок Ромашки', 'поселок Рябово',\n",
       "       'поселок Севастьяново', 'поселок Селезнёво', 'поселок Сельцо',\n",
       "       'поселок Семиозерье', 'поселок Семрино', 'поселок Серебрянский',\n",
       "       'поселок Совхозный', 'поселок Старая Малукса',\n",
       "       'поселок Стеклянный', 'поселок Сумино', 'поселок Суходолье',\n",
       "       'поселок Тельмана', 'поселок Терволово', 'поселок Торковичи',\n",
       "       'поселок Тёсово-4', 'поселок Углово', 'поселок Усть-Луга',\n",
       "       'поселок Ушаки', 'поселок Цвелодубово', 'поселок Цвылёво',\n",
       "       'поселок городского типа Большая Ижора',\n",
       "       'поселок городского типа Вырица',\n",
       "       'поселок городского типа Дружная Горка',\n",
       "       'поселок городского типа Дубровка',\n",
       "       'поселок городского типа Ефимовский',\n",
       "       'поселок городского типа Кондратьево',\n",
       "       'поселок городского типа Красный Бор',\n",
       "       'поселок городского типа Кузьмоловский',\n",
       "       'поселок городского типа Лебяжье',\n",
       "       'поселок городского типа Лесогорский',\n",
       "       'поселок городского типа Назия',\n",
       "       'поселок городского типа Никольский',\n",
       "       'поселок городского типа Приладожский',\n",
       "       'поселок городского типа Рахья', 'поселок городского типа Рощино',\n",
       "       'поселок городского типа Рябово',\n",
       "       'поселок городского типа Синявино',\n",
       "       'поселок городского типа Советский',\n",
       "       'поселок городского типа Токсово',\n",
       "       'поселок городского типа Форносово',\n",
       "       'поселок городского типа имени Свердлова',\n",
       "       'поселок станции Вещево', 'поселок станции Корнево',\n",
       "       'поселок станции Лужайка', 'поселок станции Приветнинское',\n",
       "       'посёлок Александровская', 'посёлок Алексеевка', 'посёлок Аннино',\n",
       "       'посёлок Белоостров', 'посёлок Бугры', 'посёлок Возрождение',\n",
       "       'посёлок Войскорово', 'посёлок Высокоключевой',\n",
       "       'посёлок Гаврилово', 'посёлок Дзержинского', 'посёлок Жилгородок',\n",
       "       'посёлок Ильичёво', 'посёлок Кикерино', 'посёлок Кобралово',\n",
       "       'посёлок Коробицыно', 'посёлок Левашово', 'посёлок Ленинское',\n",
       "       'посёлок Лисий Нос', 'посёлок Мельниково', 'посёлок Металлострой',\n",
       "       'посёлок Мичуринское', 'посёлок Молодёжное', 'посёлок Мурино',\n",
       "       'посёлок Мыза-Ивановка', 'посёлок Новогорелово',\n",
       "       'посёлок Новый Свет', 'посёлок Пансионат Зелёный Бор',\n",
       "       'посёлок Парголово', 'посёлок Перово', 'посёлок Песочный',\n",
       "       'посёлок Петро-Славянка', 'посёлок Петровское',\n",
       "       'посёлок Платформа 69-й километр', 'посёлок Плодовое',\n",
       "       'посёлок Плоское', 'посёлок Победа', 'посёлок Поляны',\n",
       "       'посёлок Понтонный', 'посёлок Пригородный', 'посёлок Пудость',\n",
       "       'посёлок Репино', 'посёлок Ропша', 'посёлок Сапёрное',\n",
       "       'посёлок Сапёрный', 'посёлок Сосново', 'посёлок Старая Малукса',\n",
       "       'посёлок Стеклянный', 'посёлок Стрельна', 'посёлок Суйда',\n",
       "       'посёлок Сумино', 'посёлок Тельмана', 'посёлок Терволово',\n",
       "       'посёлок Торфяное', 'посёлок Усть-Ижора', 'посёлок Усть-Луга',\n",
       "       'посёлок Форт Красная Горка', 'посёлок Шугозеро', 'посёлок Шушары',\n",
       "       'посёлок Щеглово', 'посёлок городского типа Важины',\n",
       "       'посёлок городского типа Вознесенье',\n",
       "       'посёлок городского типа Вырица',\n",
       "       'посёлок городского типа Красный Бор',\n",
       "       'посёлок городского типа Кузнечное',\n",
       "       'посёлок городского типа Кузьмоловский',\n",
       "       'посёлок городского типа Лебяжье', 'посёлок городского типа Мга',\n",
       "       'посёлок городского типа Павлово',\n",
       "       'посёлок городского типа Рощино', 'посёлок городского типа Рябово',\n",
       "       'посёлок городского типа Сиверский',\n",
       "       'посёлок городского типа Тайцы', 'посёлок городского типа Токсово',\n",
       "       'посёлок городского типа Ульяновка',\n",
       "       'посёлок городского типа Форносово',\n",
       "       'посёлок городского типа имени Морозова',\n",
       "       'посёлок городского типа имени Свердлова',\n",
       "       'посёлок при железнодорожной станции Вещево',\n",
       "       'посёлок при железнодорожной станции Приветнинское',\n",
       "       'посёлок станции Громово', 'посёлок станции Свирь',\n",
       "       'садоводческое некоммерческое товарищество Лесная Поляна',\n",
       "       'садовое товарищество Новая Ропша',\n",
       "       'садовое товарищество Приладожский', 'садовое товарищество Рахья',\n",
       "       'садовое товарищество Садко', 'село Копорье', 'село Никольское',\n",
       "       'село Павлово', 'село Паша', 'село Путилово', 'село Рождествено',\n",
       "       'село Русско-Высоцкое', 'село Старая Ладога', 'село Шум', nan],\n",
       "      dtype=object)"
      ]
     },
     "execution_count": 25,
     "metadata": {},
     "output_type": "execute_result"
    }
   ],
   "source": [
    "# Уникальные значения:\n",
    "df['locality_name'].sort_values().unique()"
   ]
  },
  {
   "cell_type": "code",
   "execution_count": 26,
   "metadata": {},
   "outputs": [
    {
     "data": {
      "text/plain": [
       "0.002067597788936242"
      ]
     },
     "execution_count": 26,
     "metadata": {},
     "output_type": "execute_result"
    }
   ],
   "source": [
    "# Подсчет доли пропусков\n",
    "df['locality_name'].isna().sum() / len(df['locality_name'].index)"
   ]
  },
  {
   "cell_type": "markdown",
   "metadata": {},
   "source": [
    "В уникальных значениях наблюдается единство стиля (потенциальное отсутствие неявных дубликатов).\n",
    "\n",
    "Пропуски в названии населенного пункта можно заменить на \"информация отсутствует\", либо вовсе исключить из анализа, т.к. их доля меньше 1%."
   ]
  },
  {
   "cell_type": "code",
   "execution_count": 27,
   "metadata": {},
   "outputs": [],
   "source": [
    "# Заполнение пропусков\n",
    "df['locality_name'] = df['locality_name'].fillna('информация отсутствует')"
   ]
  },
  {
   "cell_type": "markdown",
   "metadata": {},
   "source": [
    "### Расстояние до ближайшего аэропорта в метрах"
   ]
  },
  {
   "cell_type": "code",
   "execution_count": 28,
   "metadata": {},
   "outputs": [
    {
     "data": {
      "text/plain": [
       "0.23384952951601334"
      ]
     },
     "execution_count": 28,
     "metadata": {},
     "output_type": "execute_result"
    }
   ],
   "source": [
    "# Подсчет доли пропусков\n",
    "df['airports_nearest'].isna().sum() / len(df['airports_nearest'].index)"
   ]
  },
  {
   "cell_type": "markdown",
   "metadata": {},
   "source": [
    "Доля пропусков составляет более 20%, что явлется критичным при исключении данных. Отсутствие значения — тоже важный сигнал, который не нужно прятать.\n",
    "\n",
    "Примечание: есть нулевое значение (1шт), что указывает на местонахождение недвижимости в черте аэропорта, либо на ошибку данных."
   ]
  },
  {
   "cell_type": "markdown",
   "metadata": {},
   "source": [
    "### Расстояние до центра города"
   ]
  },
  {
   "cell_type": "code",
   "execution_count": 29,
   "metadata": {},
   "outputs": [
    {
     "data": {
      "text/plain": [
       "0.23287902443141062"
      ]
     },
     "execution_count": 29,
     "metadata": {},
     "output_type": "execute_result"
    }
   ],
   "source": [
    "# Подсчет доли пропусков\n",
    "df['city_centers_nearest'].isna().sum() / len(df['city_centers_nearest'].index)"
   ]
  },
  {
   "cell_type": "markdown",
   "metadata": {},
   "source": [
    "Доля пропусков составляет более 20%, что явлется критичным при исключении данных. Отсутствие значения — тоже важный сигнал, который не нужно прятать."
   ]
  },
  {
   "cell_type": "markdown",
   "metadata": {},
   "source": [
    "### Число парков в радиусе 3 км"
   ]
  },
  {
   "cell_type": "code",
   "execution_count": 30,
   "metadata": {},
   "outputs": [
    {
     "data": {
      "text/plain": [
       "array([ 0.,  1.,  2.,  3., nan])"
      ]
     },
     "execution_count": 30,
     "metadata": {},
     "output_type": "execute_result"
    }
   ],
   "source": [
    "# Уникальные значения:\n",
    "df['parks_around_3000'].sort_values().unique()"
   ]
  },
  {
   "cell_type": "code",
   "execution_count": 31,
   "metadata": {},
   "outputs": [],
   "source": [
    "# Заполнение пропусков нулевыми значениями, т.к. если данные отсутсвуют, то скорее всего, их нет.\n",
    "df['parks_around_3000'] = df['parks_around_3000'].fillna(0)\n",
    "\n",
    "# Изменение типа данных\n",
    "df['parks_around_3000'] = df['parks_around_3000'].astype('int64')"
   ]
  },
  {
   "cell_type": "markdown",
   "metadata": {},
   "source": [
    "### Расстояние до ближайшего парка"
   ]
  },
  {
   "cell_type": "code",
   "execution_count": 32,
   "metadata": {},
   "outputs": [
    {
     "data": {
      "text/plain": [
       "0.6590995400649816"
      ]
     },
     "execution_count": 32,
     "metadata": {},
     "output_type": "execute_result"
    }
   ],
   "source": [
    "# Подсчет доли пропусков\n",
    "df['parks_nearest'].isna().sum() / len(df['parks_nearest'].index)"
   ]
  },
  {
   "cell_type": "markdown",
   "metadata": {},
   "source": [
    "Доля пропусков составляет более 65%, что явлется критичным при исключении данных. Отсутствие значения — тоже важный сигнал, который не нужно прятать."
   ]
  },
  {
   "cell_type": "markdown",
   "metadata": {},
   "source": [
    "### Число водоёмов в радиусе 3 км"
   ]
  },
  {
   "cell_type": "code",
   "execution_count": 33,
   "metadata": {},
   "outputs": [
    {
     "data": {
      "text/plain": [
       "array([ 0.,  1.,  2.,  3., nan])"
      ]
     },
     "execution_count": 33,
     "metadata": {},
     "output_type": "execute_result"
    }
   ],
   "source": [
    "# Уникальные значения:\n",
    "df['ponds_around_3000'].sort_values().unique()"
   ]
  },
  {
   "cell_type": "code",
   "execution_count": 34,
   "metadata": {},
   "outputs": [],
   "source": [
    "# Заполнение пропусков нулевыми значениями, т.к. если данные отсутсвуют, то скорее всего, их нет.\n",
    "df['ponds_around_3000'] = df['parks_around_3000'].fillna(0)\n",
    "\n",
    "# Изменение типа данных\n",
    "df['ponds_around_3000'] = df['parks_around_3000'].astype('int64')"
   ]
  },
  {
   "cell_type": "markdown",
   "metadata": {},
   "source": [
    "### Расстояние до ближайшего водоёма"
   ]
  },
  {
   "cell_type": "code",
   "execution_count": 35,
   "metadata": {},
   "outputs": [
    {
     "data": {
      "text/plain": [
       "0.6155955947508334"
      ]
     },
     "execution_count": 35,
     "metadata": {},
     "output_type": "execute_result"
    }
   ],
   "source": [
    "# Подсчет доли пропусков\n",
    "df['ponds_nearest'].isna().sum() / len(df['ponds_nearest'].index)"
   ]
  },
  {
   "cell_type": "markdown",
   "metadata": {},
   "source": [
    "Доля пропусков составляет более 60%, что явлется критичным при исключении данных. Отсутствие значения — тоже важный сигнал, который не нужно прятать."
   ]
  },
  {
   "cell_type": "markdown",
   "metadata": {},
   "source": [
    "### Сколько дней было размещено объявление"
   ]
  },
  {
   "cell_type": "code",
   "execution_count": 36,
   "metadata": {},
   "outputs": [
    {
     "data": {
      "text/plain": [
       "0.13422507278788134"
      ]
     },
     "execution_count": 36,
     "metadata": {},
     "output_type": "execute_result"
    }
   ],
   "source": [
    "# Подсчет доли пропусков\n",
    "df['days_exposition'].isna().sum() / len(df['days_exposition'].index)"
   ]
  },
  {
   "cell_type": "code",
   "execution_count": 37,
   "metadata": {},
   "outputs": [],
   "source": [
    "# Заполнение пропусков нулевыми значениями, т.к. нулевые значения отсутствуют, то при анализе будет учтено, что \"0\" = отсутсвие данных в столбце \"days_exposition\"\n",
    "df['days_exposition'] = df['days_exposition'].fillna(0)\n",
    "\n",
    "# Изменение типа данных\n",
    "df['days_exposition'] = df['days_exposition'].astype('int64')"
   ]
  },
  {
   "cell_type": "markdown",
   "metadata": {},
   "source": [
    "### Итоговая проверка"
   ]
  },
  {
   "cell_type": "code",
   "execution_count": 38,
   "metadata": {},
   "outputs": [
    {
     "name": "stdout",
     "output_type": "stream",
     "text": [
      "<class 'pandas.core.frame.DataFrame'>\n",
      "RangeIndex: 23699 entries, 0 to 23698\n",
      "Data columns (total 22 columns):\n",
      " #   Column                Non-Null Count  Dtype         \n",
      "---  ------                --------------  -----         \n",
      " 0   total_images          23699 non-null  int64         \n",
      " 1   last_price            23699 non-null  float64       \n",
      " 2   total_area            23699 non-null  float64       \n",
      " 3   first_day_exposition  23699 non-null  datetime64[ns]\n",
      " 4   rooms                 23699 non-null  int64         \n",
      " 5   ceiling_height        23699 non-null  float64       \n",
      " 6   floors_total          23699 non-null  int64         \n",
      " 7   living_area           23699 non-null  float64       \n",
      " 8   floor                 23699 non-null  int64         \n",
      " 9   is_apartment          23699 non-null  bool          \n",
      " 10  studio                23699 non-null  bool          \n",
      " 11  open_plan             23699 non-null  bool          \n",
      " 12  kitchen_area          23699 non-null  float64       \n",
      " 13  balcony               23699 non-null  int64         \n",
      " 14  locality_name         23699 non-null  object        \n",
      " 15  airports_nearest      18157 non-null  float64       \n",
      " 16  city_centers_nearest  18180 non-null  float64       \n",
      " 17  parks_around_3000     23699 non-null  int64         \n",
      " 18  parks_nearest         8079 non-null   float64       \n",
      " 19  ponds_around_3000     23699 non-null  int64         \n",
      " 20  ponds_nearest         9110 non-null   float64       \n",
      " 21  days_exposition       23699 non-null  int64         \n",
      "dtypes: bool(3), datetime64[ns](1), float64(9), int64(8), object(1)\n",
      "memory usage: 3.5+ MB\n"
     ]
    }
   ],
   "source": [
    "# Вывод информации о df\n",
    "df.info()"
   ]
  },
  {
   "cell_type": "code",
   "execution_count": 39,
   "metadata": {},
   "outputs": [
    {
     "data": {
      "text/plain": [
       "total_images                0\n",
       "last_price                  0\n",
       "total_area                  0\n",
       "first_day_exposition        0\n",
       "rooms                       0\n",
       "ceiling_height              0\n",
       "floors_total                0\n",
       "living_area                 0\n",
       "floor                       0\n",
       "is_apartment                0\n",
       "studio                      0\n",
       "open_plan                   0\n",
       "kitchen_area                0\n",
       "balcony                     0\n",
       "locality_name               0\n",
       "airports_nearest         5542\n",
       "city_centers_nearest     5519\n",
       "parks_around_3000           0\n",
       "parks_nearest           15620\n",
       "ponds_around_3000           0\n",
       "ponds_nearest           14589\n",
       "days_exposition             0\n",
       "dtype: int64"
      ]
     },
     "execution_count": 39,
     "metadata": {},
     "output_type": "execute_result"
    }
   ],
   "source": [
    "# Подсчёт пропусков\n",
    "df.isna().sum()"
   ]
  },
  {
   "cell_type": "code",
   "execution_count": 40,
   "metadata": {},
   "outputs": [
    {
     "data": {
      "text/plain": [
       "0"
      ]
     },
     "execution_count": 40,
     "metadata": {},
     "output_type": "execute_result"
    }
   ],
   "source": [
    "# Подсчёт явных дубликатов\n",
    "df.duplicated().sum()"
   ]
  },
  {
   "cell_type": "markdown",
   "metadata": {},
   "source": [
    "## Расчёты и добавление результатов в таблицу"
   ]
  },
  {
   "cell_type": "markdown",
   "metadata": {},
   "source": [
    "### Цена квадратного метра"
   ]
  },
  {
   "cell_type": "code",
   "execution_count": 41,
   "metadata": {},
   "outputs": [],
   "source": [
    "# Добавление нового столбца с ценой квадратного метра\n",
    "df['price_square_meter'] = df['last_price'] / df['total_area']"
   ]
  },
  {
   "cell_type": "markdown",
   "metadata": {},
   "source": [
    "### День недели, месяц и год публикации объявления"
   ]
  },
  {
   "cell_type": "code",
   "execution_count": 42,
   "metadata": {},
   "outputs": [],
   "source": [
    "# Добавление столбцов с днем недели, месяцем и годом публикации объявления\n",
    "df['weekday'] = df['first_day_exposition'].dt.weekday\n",
    "df['month'] = df['first_day_exposition'].dt.month\n",
    "df['year'] = df['first_day_exposition'].dt.year"
   ]
  },
  {
   "cell_type": "markdown",
   "metadata": {},
   "source": [
    "### Этаж квартиры: первый, последний, другой"
   ]
  },
  {
   "cell_type": "code",
   "execution_count": 43,
   "metadata": {},
   "outputs": [],
   "source": [
    "# Создание функции, которая определяет категорию этажа\n",
    "def floor_group(row):\n",
    "    total_flor = row['floors_total']\n",
    "    floor = row['floor']\n",
    "    if floor == 1:\n",
    "        return 'первый'\n",
    "    elif floor == total_flor:\n",
    "        return 'последний'\n",
    "    else:\n",
    "        return 'другой'\n",
    "    \n",
    "# Добавление столбца с категориями этажей\n",
    "df['floor_category'] = df.apply(floor_group, axis=1)"
   ]
  },
  {
   "cell_type": "markdown",
   "metadata": {},
   "source": [
    "### Соотношение жилой и общей площади, а также отношение площади кухни к общей"
   ]
  },
  {
   "cell_type": "code",
   "execution_count": 44,
   "metadata": {},
   "outputs": [],
   "source": [
    "# Добавление столбцов с соотношением жилой и общей площади, а также с отношением площади кухни к общей\n",
    "df['ratio_living_total_area'] = df['living_area'] / df['total_area']\n",
    "df['ratio_kitchen_total_area'] = df['kitchen_area'] / df['total_area']"
   ]
  },
  {
   "cell_type": "markdown",
   "metadata": {},
   "source": [
    "### Проверка добавленных данных"
   ]
  },
  {
   "cell_type": "code",
   "execution_count": 45,
   "metadata": {},
   "outputs": [
    {
     "data": {
      "text/html": [
       "<div>\n",
       "<style scoped>\n",
       "    .dataframe tbody tr th:only-of-type {\n",
       "        vertical-align: middle;\n",
       "    }\n",
       "\n",
       "    .dataframe tbody tr th {\n",
       "        vertical-align: top;\n",
       "    }\n",
       "\n",
       "    .dataframe thead th {\n",
       "        text-align: right;\n",
       "    }\n",
       "</style>\n",
       "<table border=\"1\" class=\"dataframe\">\n",
       "  <thead>\n",
       "    <tr style=\"text-align: right;\">\n",
       "      <th></th>\n",
       "      <th>total_images</th>\n",
       "      <th>last_price</th>\n",
       "      <th>total_area</th>\n",
       "      <th>first_day_exposition</th>\n",
       "      <th>rooms</th>\n",
       "      <th>ceiling_height</th>\n",
       "      <th>floors_total</th>\n",
       "      <th>living_area</th>\n",
       "      <th>floor</th>\n",
       "      <th>is_apartment</th>\n",
       "      <th>studio</th>\n",
       "      <th>open_plan</th>\n",
       "      <th>kitchen_area</th>\n",
       "      <th>balcony</th>\n",
       "      <th>locality_name</th>\n",
       "      <th>airports_nearest</th>\n",
       "      <th>city_centers_nearest</th>\n",
       "      <th>parks_around_3000</th>\n",
       "      <th>parks_nearest</th>\n",
       "      <th>ponds_around_3000</th>\n",
       "      <th>ponds_nearest</th>\n",
       "      <th>days_exposition</th>\n",
       "      <th>price_square_meter</th>\n",
       "      <th>weekday</th>\n",
       "      <th>month</th>\n",
       "      <th>year</th>\n",
       "      <th>floor_category</th>\n",
       "      <th>ratio_living_total_area</th>\n",
       "      <th>ratio_kitchen_total_area</th>\n",
       "    </tr>\n",
       "  </thead>\n",
       "  <tbody>\n",
       "    <tr>\n",
       "      <th>0</th>\n",
       "      <td>20</td>\n",
       "      <td>13000000.0</td>\n",
       "      <td>108.00</td>\n",
       "      <td>2019-03-07</td>\n",
       "      <td>3</td>\n",
       "      <td>2.70</td>\n",
       "      <td>16</td>\n",
       "      <td>51.00</td>\n",
       "      <td>8</td>\n",
       "      <td>False</td>\n",
       "      <td>False</td>\n",
       "      <td>False</td>\n",
       "      <td>25.00</td>\n",
       "      <td>0</td>\n",
       "      <td>Санкт-Петербург</td>\n",
       "      <td>18863.0</td>\n",
       "      <td>16028.0</td>\n",
       "      <td>1</td>\n",
       "      <td>482.0</td>\n",
       "      <td>1</td>\n",
       "      <td>755.0</td>\n",
       "      <td>0</td>\n",
       "      <td>120370.370370</td>\n",
       "      <td>3</td>\n",
       "      <td>3</td>\n",
       "      <td>2019</td>\n",
       "      <td>другой</td>\n",
       "      <td>0.472222</td>\n",
       "      <td>0.231481</td>\n",
       "    </tr>\n",
       "    <tr>\n",
       "      <th>1</th>\n",
       "      <td>7</td>\n",
       "      <td>3350000.0</td>\n",
       "      <td>40.40</td>\n",
       "      <td>2018-12-04</td>\n",
       "      <td>1</td>\n",
       "      <td>2.65</td>\n",
       "      <td>11</td>\n",
       "      <td>18.60</td>\n",
       "      <td>1</td>\n",
       "      <td>False</td>\n",
       "      <td>False</td>\n",
       "      <td>False</td>\n",
       "      <td>11.00</td>\n",
       "      <td>2</td>\n",
       "      <td>посёлок Шушары</td>\n",
       "      <td>12817.0</td>\n",
       "      <td>18603.0</td>\n",
       "      <td>0</td>\n",
       "      <td>NaN</td>\n",
       "      <td>0</td>\n",
       "      <td>NaN</td>\n",
       "      <td>81</td>\n",
       "      <td>82920.792079</td>\n",
       "      <td>1</td>\n",
       "      <td>12</td>\n",
       "      <td>2018</td>\n",
       "      <td>первый</td>\n",
       "      <td>0.460396</td>\n",
       "      <td>0.272277</td>\n",
       "    </tr>\n",
       "    <tr>\n",
       "      <th>2</th>\n",
       "      <td>10</td>\n",
       "      <td>5196000.0</td>\n",
       "      <td>56.00</td>\n",
       "      <td>2015-08-20</td>\n",
       "      <td>2</td>\n",
       "      <td>2.65</td>\n",
       "      <td>5</td>\n",
       "      <td>34.30</td>\n",
       "      <td>4</td>\n",
       "      <td>False</td>\n",
       "      <td>False</td>\n",
       "      <td>False</td>\n",
       "      <td>8.30</td>\n",
       "      <td>0</td>\n",
       "      <td>Санкт-Петербург</td>\n",
       "      <td>21741.0</td>\n",
       "      <td>13933.0</td>\n",
       "      <td>1</td>\n",
       "      <td>90.0</td>\n",
       "      <td>1</td>\n",
       "      <td>574.0</td>\n",
       "      <td>558</td>\n",
       "      <td>92785.714286</td>\n",
       "      <td>3</td>\n",
       "      <td>8</td>\n",
       "      <td>2015</td>\n",
       "      <td>другой</td>\n",
       "      <td>0.612500</td>\n",
       "      <td>0.148214</td>\n",
       "    </tr>\n",
       "    <tr>\n",
       "      <th>3</th>\n",
       "      <td>0</td>\n",
       "      <td>64900000.0</td>\n",
       "      <td>159.00</td>\n",
       "      <td>2015-07-24</td>\n",
       "      <td>3</td>\n",
       "      <td>2.65</td>\n",
       "      <td>14</td>\n",
       "      <td>0.00</td>\n",
       "      <td>9</td>\n",
       "      <td>False</td>\n",
       "      <td>False</td>\n",
       "      <td>False</td>\n",
       "      <td>0.00</td>\n",
       "      <td>0</td>\n",
       "      <td>Санкт-Петербург</td>\n",
       "      <td>28098.0</td>\n",
       "      <td>6800.0</td>\n",
       "      <td>2</td>\n",
       "      <td>84.0</td>\n",
       "      <td>2</td>\n",
       "      <td>234.0</td>\n",
       "      <td>424</td>\n",
       "      <td>408176.100629</td>\n",
       "      <td>4</td>\n",
       "      <td>7</td>\n",
       "      <td>2015</td>\n",
       "      <td>другой</td>\n",
       "      <td>0.000000</td>\n",
       "      <td>0.000000</td>\n",
       "    </tr>\n",
       "    <tr>\n",
       "      <th>4</th>\n",
       "      <td>2</td>\n",
       "      <td>10000000.0</td>\n",
       "      <td>100.00</td>\n",
       "      <td>2018-06-19</td>\n",
       "      <td>2</td>\n",
       "      <td>3.03</td>\n",
       "      <td>14</td>\n",
       "      <td>32.00</td>\n",
       "      <td>13</td>\n",
       "      <td>False</td>\n",
       "      <td>False</td>\n",
       "      <td>False</td>\n",
       "      <td>41.00</td>\n",
       "      <td>0</td>\n",
       "      <td>Санкт-Петербург</td>\n",
       "      <td>31856.0</td>\n",
       "      <td>8098.0</td>\n",
       "      <td>2</td>\n",
       "      <td>112.0</td>\n",
       "      <td>2</td>\n",
       "      <td>48.0</td>\n",
       "      <td>121</td>\n",
       "      <td>100000.000000</td>\n",
       "      <td>1</td>\n",
       "      <td>6</td>\n",
       "      <td>2018</td>\n",
       "      <td>другой</td>\n",
       "      <td>0.320000</td>\n",
       "      <td>0.410000</td>\n",
       "    </tr>\n",
       "    <tr>\n",
       "      <th>5</th>\n",
       "      <td>10</td>\n",
       "      <td>2890000.0</td>\n",
       "      <td>30.40</td>\n",
       "      <td>2018-09-10</td>\n",
       "      <td>1</td>\n",
       "      <td>2.65</td>\n",
       "      <td>12</td>\n",
       "      <td>14.40</td>\n",
       "      <td>5</td>\n",
       "      <td>False</td>\n",
       "      <td>False</td>\n",
       "      <td>False</td>\n",
       "      <td>9.10</td>\n",
       "      <td>0</td>\n",
       "      <td>городской посёлок Янино-1</td>\n",
       "      <td>NaN</td>\n",
       "      <td>NaN</td>\n",
       "      <td>0</td>\n",
       "      <td>NaN</td>\n",
       "      <td>0</td>\n",
       "      <td>NaN</td>\n",
       "      <td>55</td>\n",
       "      <td>95065.789474</td>\n",
       "      <td>0</td>\n",
       "      <td>9</td>\n",
       "      <td>2018</td>\n",
       "      <td>другой</td>\n",
       "      <td>0.473684</td>\n",
       "      <td>0.299342</td>\n",
       "    </tr>\n",
       "    <tr>\n",
       "      <th>6</th>\n",
       "      <td>6</td>\n",
       "      <td>3700000.0</td>\n",
       "      <td>37.30</td>\n",
       "      <td>2017-11-02</td>\n",
       "      <td>1</td>\n",
       "      <td>2.65</td>\n",
       "      <td>26</td>\n",
       "      <td>10.60</td>\n",
       "      <td>6</td>\n",
       "      <td>False</td>\n",
       "      <td>False</td>\n",
       "      <td>False</td>\n",
       "      <td>14.40</td>\n",
       "      <td>1</td>\n",
       "      <td>посёлок Парголово</td>\n",
       "      <td>52996.0</td>\n",
       "      <td>19143.0</td>\n",
       "      <td>0</td>\n",
       "      <td>NaN</td>\n",
       "      <td>0</td>\n",
       "      <td>NaN</td>\n",
       "      <td>155</td>\n",
       "      <td>99195.710456</td>\n",
       "      <td>3</td>\n",
       "      <td>11</td>\n",
       "      <td>2017</td>\n",
       "      <td>другой</td>\n",
       "      <td>0.284182</td>\n",
       "      <td>0.386059</td>\n",
       "    </tr>\n",
       "    <tr>\n",
       "      <th>7</th>\n",
       "      <td>5</td>\n",
       "      <td>7915000.0</td>\n",
       "      <td>71.60</td>\n",
       "      <td>2019-04-18</td>\n",
       "      <td>2</td>\n",
       "      <td>2.65</td>\n",
       "      <td>24</td>\n",
       "      <td>0.00</td>\n",
       "      <td>22</td>\n",
       "      <td>False</td>\n",
       "      <td>False</td>\n",
       "      <td>False</td>\n",
       "      <td>18.90</td>\n",
       "      <td>2</td>\n",
       "      <td>Санкт-Петербург</td>\n",
       "      <td>23982.0</td>\n",
       "      <td>11634.0</td>\n",
       "      <td>0</td>\n",
       "      <td>NaN</td>\n",
       "      <td>0</td>\n",
       "      <td>NaN</td>\n",
       "      <td>0</td>\n",
       "      <td>110544.692737</td>\n",
       "      <td>3</td>\n",
       "      <td>4</td>\n",
       "      <td>2019</td>\n",
       "      <td>другой</td>\n",
       "      <td>0.000000</td>\n",
       "      <td>0.263966</td>\n",
       "    </tr>\n",
       "    <tr>\n",
       "      <th>8</th>\n",
       "      <td>20</td>\n",
       "      <td>2900000.0</td>\n",
       "      <td>33.16</td>\n",
       "      <td>2018-05-23</td>\n",
       "      <td>1</td>\n",
       "      <td>2.65</td>\n",
       "      <td>27</td>\n",
       "      <td>15.43</td>\n",
       "      <td>26</td>\n",
       "      <td>False</td>\n",
       "      <td>False</td>\n",
       "      <td>False</td>\n",
       "      <td>8.81</td>\n",
       "      <td>0</td>\n",
       "      <td>посёлок Мурино</td>\n",
       "      <td>NaN</td>\n",
       "      <td>NaN</td>\n",
       "      <td>0</td>\n",
       "      <td>NaN</td>\n",
       "      <td>0</td>\n",
       "      <td>NaN</td>\n",
       "      <td>189</td>\n",
       "      <td>87454.764777</td>\n",
       "      <td>2</td>\n",
       "      <td>5</td>\n",
       "      <td>2018</td>\n",
       "      <td>другой</td>\n",
       "      <td>0.465320</td>\n",
       "      <td>0.265682</td>\n",
       "    </tr>\n",
       "    <tr>\n",
       "      <th>9</th>\n",
       "      <td>18</td>\n",
       "      <td>5400000.0</td>\n",
       "      <td>61.00</td>\n",
       "      <td>2017-02-26</td>\n",
       "      <td>3</td>\n",
       "      <td>2.50</td>\n",
       "      <td>9</td>\n",
       "      <td>43.60</td>\n",
       "      <td>7</td>\n",
       "      <td>False</td>\n",
       "      <td>False</td>\n",
       "      <td>False</td>\n",
       "      <td>6.50</td>\n",
       "      <td>2</td>\n",
       "      <td>Санкт-Петербург</td>\n",
       "      <td>50898.0</td>\n",
       "      <td>15008.0</td>\n",
       "      <td>0</td>\n",
       "      <td>NaN</td>\n",
       "      <td>0</td>\n",
       "      <td>NaN</td>\n",
       "      <td>289</td>\n",
       "      <td>88524.590164</td>\n",
       "      <td>6</td>\n",
       "      <td>2</td>\n",
       "      <td>2017</td>\n",
       "      <td>другой</td>\n",
       "      <td>0.714754</td>\n",
       "      <td>0.106557</td>\n",
       "    </tr>\n",
       "  </tbody>\n",
       "</table>\n",
       "</div>"
      ],
      "text/plain": [
       "   total_images  last_price  total_area first_day_exposition  rooms  \\\n",
       "0            20  13000000.0      108.00           2019-03-07      3   \n",
       "1             7   3350000.0       40.40           2018-12-04      1   \n",
       "2            10   5196000.0       56.00           2015-08-20      2   \n",
       "3             0  64900000.0      159.00           2015-07-24      3   \n",
       "4             2  10000000.0      100.00           2018-06-19      2   \n",
       "5            10   2890000.0       30.40           2018-09-10      1   \n",
       "6             6   3700000.0       37.30           2017-11-02      1   \n",
       "7             5   7915000.0       71.60           2019-04-18      2   \n",
       "8            20   2900000.0       33.16           2018-05-23      1   \n",
       "9            18   5400000.0       61.00           2017-02-26      3   \n",
       "\n",
       "   ceiling_height  floors_total  living_area  floor  is_apartment  studio  \\\n",
       "0            2.70            16        51.00      8         False   False   \n",
       "1            2.65            11        18.60      1         False   False   \n",
       "2            2.65             5        34.30      4         False   False   \n",
       "3            2.65            14         0.00      9         False   False   \n",
       "4            3.03            14        32.00     13         False   False   \n",
       "5            2.65            12        14.40      5         False   False   \n",
       "6            2.65            26        10.60      6         False   False   \n",
       "7            2.65            24         0.00     22         False   False   \n",
       "8            2.65            27        15.43     26         False   False   \n",
       "9            2.50             9        43.60      7         False   False   \n",
       "\n",
       "   open_plan  kitchen_area  balcony              locality_name  \\\n",
       "0      False         25.00        0            Санкт-Петербург   \n",
       "1      False         11.00        2             посёлок Шушары   \n",
       "2      False          8.30        0            Санкт-Петербург   \n",
       "3      False          0.00        0            Санкт-Петербург   \n",
       "4      False         41.00        0            Санкт-Петербург   \n",
       "5      False          9.10        0  городской посёлок Янино-1   \n",
       "6      False         14.40        1          посёлок Парголово   \n",
       "7      False         18.90        2            Санкт-Петербург   \n",
       "8      False          8.81        0             посёлок Мурино   \n",
       "9      False          6.50        2            Санкт-Петербург   \n",
       "\n",
       "   airports_nearest  city_centers_nearest  parks_around_3000  parks_nearest  \\\n",
       "0           18863.0               16028.0                  1          482.0   \n",
       "1           12817.0               18603.0                  0            NaN   \n",
       "2           21741.0               13933.0                  1           90.0   \n",
       "3           28098.0                6800.0                  2           84.0   \n",
       "4           31856.0                8098.0                  2          112.0   \n",
       "5               NaN                   NaN                  0            NaN   \n",
       "6           52996.0               19143.0                  0            NaN   \n",
       "7           23982.0               11634.0                  0            NaN   \n",
       "8               NaN                   NaN                  0            NaN   \n",
       "9           50898.0               15008.0                  0            NaN   \n",
       "\n",
       "   ponds_around_3000  ponds_nearest  days_exposition  price_square_meter  \\\n",
       "0                  1          755.0                0       120370.370370   \n",
       "1                  0            NaN               81        82920.792079   \n",
       "2                  1          574.0              558        92785.714286   \n",
       "3                  2          234.0              424       408176.100629   \n",
       "4                  2           48.0              121       100000.000000   \n",
       "5                  0            NaN               55        95065.789474   \n",
       "6                  0            NaN              155        99195.710456   \n",
       "7                  0            NaN                0       110544.692737   \n",
       "8                  0            NaN              189        87454.764777   \n",
       "9                  0            NaN              289        88524.590164   \n",
       "\n",
       "   weekday  month  year floor_category  ratio_living_total_area  \\\n",
       "0        3      3  2019         другой                 0.472222   \n",
       "1        1     12  2018         первый                 0.460396   \n",
       "2        3      8  2015         другой                 0.612500   \n",
       "3        4      7  2015         другой                 0.000000   \n",
       "4        1      6  2018         другой                 0.320000   \n",
       "5        0      9  2018         другой                 0.473684   \n",
       "6        3     11  2017         другой                 0.284182   \n",
       "7        3      4  2019         другой                 0.000000   \n",
       "8        2      5  2018         другой                 0.465320   \n",
       "9        6      2  2017         другой                 0.714754   \n",
       "\n",
       "   ratio_kitchen_total_area  \n",
       "0                  0.231481  \n",
       "1                  0.272277  \n",
       "2                  0.148214  \n",
       "3                  0.000000  \n",
       "4                  0.410000  \n",
       "5                  0.299342  \n",
       "6                  0.386059  \n",
       "7                  0.263966  \n",
       "8                  0.265682  \n",
       "9                  0.106557  "
      ]
     },
     "execution_count": 45,
     "metadata": {},
     "output_type": "execute_result"
    }
   ],
   "source": [
    "# Вывод первых 10 строк датафрейма\n",
    "df.head(10)"
   ]
  },
  {
   "cell_type": "markdown",
   "metadata": {},
   "source": [
    "## Исследовательский анализ данных"
   ]
  },
  {
   "cell_type": "markdown",
   "metadata": {},
   "source": [
    "### Площадь, цена, число комнат, высота потолков (гистограммы)"
   ]
  },
  {
   "cell_type": "code",
   "execution_count": 46,
   "metadata": {},
   "outputs": [
    {
     "data": {
      "image/png": "[encoded data removed]",
      "text/plain": [
       "<Figure size 864x288 with 1 Axes>"
      ]
     },
     "metadata": {
      "needs_background": "light"
     },
     "output_type": "display_data"
    }
   ],
   "source": [
    "# Гистограмма по площади\n",
    "df['total_area'].hist(bins=500, figsize=(12,4))\n",
    "plt.show()"
   ]
  },
  {
   "cell_type": "markdown",
   "metadata": {},
   "source": [
    "**Вывод:** основная масса объявлений приходится на квадратуру от 30м2 до 100м2."
   ]
  },
  {
   "cell_type": "code",
   "execution_count": 47,
   "metadata": {},
   "outputs": [
    {
     "data": {
      "image/png": "[encoded data removed]",
      "text/plain": [
       "<Figure size 864x288 with 1 Axes>"
      ]
     },
     "metadata": {
      "needs_background": "light"
     },
     "output_type": "display_data"
    }
   ],
   "source": [
    "# Гистограмма по цене\n",
    "df['last_price'].hist(bins=500, figsize=(12, 4)) #, range=(0, 50000000)\n",
    "plt.show()"
   ]
  },
  {
   "cell_type": "markdown",
   "metadata": {},
   "source": [
    "**Вывод:** основная масса недвижимости выставлена на продажу по ценам от  12000 до 10000000."
   ]
  },
  {
   "cell_type": "code",
   "execution_count": 48,
   "metadata": {},
   "outputs": [
    {
     "data": {
      "image/png": "[encoded data removed]",
      "text/plain": [
       "<Figure size 432x288 with 1 Axes>"
      ]
     },
     "metadata": {
      "needs_background": "light"
     },
     "output_type": "display_data"
    }
   ],
   "source": [
    "# Гистограмма по числу комнат\n",
    "df['rooms'].hist(bins=50, range=(0, 25))\n",
    "plt.show()"
   ]
  },
  {
   "cell_type": "markdown",
   "metadata": {},
   "source": [
    "**Вывод:** основная масса объявлений относится к недвижимости с количеством комнат от 2 до 4."
   ]
  },
  {
   "cell_type": "code",
   "execution_count": 49,
   "metadata": {},
   "outputs": [
    {
     "data": {
      "image/png": "[encoded data removed]",
      "text/plain": [
       "<Figure size 864x288 with 1 Axes>"
      ]
     },
     "metadata": {
      "needs_background": "light"
     },
     "output_type": "display_data"
    }
   ],
   "source": [
    "# Гистограмма по высоте потолков\n",
    "df['ceiling_height'].hist(bins=100, figsize=(12,4)) #, range=(2, 4)\n",
    "plt.show()"
   ]
  },
  {
   "cell_type": "markdown",
   "metadata": {},
   "source": [
    "**Вывод:** основная масса недвижимости в объявлениях имеет высоту потолка от 2,5м до 3м."
   ]
  },
  {
   "cell_type": "markdown",
   "metadata": {},
   "source": [
    "### Время продажи квартиры"
   ]
  },
  {
   "cell_type": "code",
   "execution_count": 50,
   "metadata": {},
   "outputs": [
    {
     "data": {
      "image/png": "[encoded data removed]",
      "text/plain": [
       "<Figure size 864x288 with 1 Axes>"
      ]
     },
     "metadata": {
      "needs_background": "light"
     },
     "output_type": "display_data"
    }
   ],
   "source": [
    "# Исключение из анализа нулевых значений, которые были установлены в предобработке данных\n",
    "sale_days = df.query('days_exposition != 0')\n",
    "\n",
    "# Гистограмма по времени продажи квартиры\n",
    "sale_days['days_exposition'].hist(bins=200, figsize=(12,4)) #, range=(0, 100)\n",
    "plt.show()"
   ]
  },
  {
   "cell_type": "markdown",
   "metadata": {},
   "source": [
    "**Вывод:** в первые месяцы шансы продать квартиру выше, с течением времени продажи снижаются. При этом есть пиковые значения по истечению 45 и 60 дней (в эти дни сервис удаляет бесплатные объявления)."
   ]
  },
  {
   "cell_type": "code",
   "execution_count": 51,
   "metadata": {},
   "outputs": [
    {
     "data": {
      "text/html": [
       "<div>\n",
       "<style scoped>\n",
       "    .dataframe tbody tr th:only-of-type {\n",
       "        vertical-align: middle;\n",
       "    }\n",
       "\n",
       "    .dataframe tbody tr th {\n",
       "        vertical-align: top;\n",
       "    }\n",
       "\n",
       "    .dataframe thead tr th {\n",
       "        text-align: left;\n",
       "    }\n",
       "\n",
       "    .dataframe thead tr:last-of-type th {\n",
       "        text-align: right;\n",
       "    }\n",
       "</style>\n",
       "<table border=\"1\" class=\"dataframe\">\n",
       "  <thead>\n",
       "    <tr>\n",
       "      <th></th>\n",
       "      <th>count</th>\n",
       "      <th>mean</th>\n",
       "      <th>median</th>\n",
       "    </tr>\n",
       "    <tr>\n",
       "      <th></th>\n",
       "      <th>days_exposition</th>\n",
       "      <th>days_exposition</th>\n",
       "      <th>days_exposition</th>\n",
       "    </tr>\n",
       "    <tr>\n",
       "      <th>rooms</th>\n",
       "      <th></th>\n",
       "      <th></th>\n",
       "      <th></th>\n",
       "    </tr>\n",
       "  </thead>\n",
       "  <tbody>\n",
       "    <tr>\n",
       "      <th>0</th>\n",
       "      <td>183</td>\n",
       "      <td>109.180328</td>\n",
       "      <td>50.0</td>\n",
       "    </tr>\n",
       "    <tr>\n",
       "      <th>1</th>\n",
       "      <td>7273</td>\n",
       "      <td>158.909391</td>\n",
       "      <td>81.0</td>\n",
       "    </tr>\n",
       "    <tr>\n",
       "      <th>2</th>\n",
       "      <td>6913</td>\n",
       "      <td>173.223058</td>\n",
       "      <td>91.0</td>\n",
       "    </tr>\n",
       "    <tr>\n",
       "      <th>3</th>\n",
       "      <td>4819</td>\n",
       "      <td>204.232828</td>\n",
       "      <td>114.0</td>\n",
       "    </tr>\n",
       "    <tr>\n",
       "      <th>4</th>\n",
       "      <td>941</td>\n",
       "      <td>254.273114</td>\n",
       "      <td>156.0</td>\n",
       "    </tr>\n",
       "    <tr>\n",
       "      <th>5</th>\n",
       "      <td>252</td>\n",
       "      <td>306.269841</td>\n",
       "      <td>185.5</td>\n",
       "    </tr>\n",
       "    <tr>\n",
       "      <th>6</th>\n",
       "      <td>76</td>\n",
       "      <td>277.789474</td>\n",
       "      <td>201.5</td>\n",
       "    </tr>\n",
       "    <tr>\n",
       "      <th>7</th>\n",
       "      <td>37</td>\n",
       "      <td>197.945946</td>\n",
       "      <td>138.0</td>\n",
       "    </tr>\n",
       "    <tr>\n",
       "      <th>8</th>\n",
       "      <td>11</td>\n",
       "      <td>391.090909</td>\n",
       "      <td>249.0</td>\n",
       "    </tr>\n",
       "    <tr>\n",
       "      <th>9</th>\n",
       "      <td>4</td>\n",
       "      <td>463.500000</td>\n",
       "      <td>469.5</td>\n",
       "    </tr>\n",
       "    <tr>\n",
       "      <th>10</th>\n",
       "      <td>2</td>\n",
       "      <td>44.000000</td>\n",
       "      <td>44.0</td>\n",
       "    </tr>\n",
       "    <tr>\n",
       "      <th>11</th>\n",
       "      <td>1</td>\n",
       "      <td>813.000000</td>\n",
       "      <td>813.0</td>\n",
       "    </tr>\n",
       "    <tr>\n",
       "      <th>12</th>\n",
       "      <td>1</td>\n",
       "      <td>106.000000</td>\n",
       "      <td>106.0</td>\n",
       "    </tr>\n",
       "    <tr>\n",
       "      <th>14</th>\n",
       "      <td>2</td>\n",
       "      <td>256.500000</td>\n",
       "      <td>256.5</td>\n",
       "    </tr>\n",
       "    <tr>\n",
       "      <th>15</th>\n",
       "      <td>1</td>\n",
       "      <td>14.000000</td>\n",
       "      <td>14.0</td>\n",
       "    </tr>\n",
       "    <tr>\n",
       "      <th>16</th>\n",
       "      <td>1</td>\n",
       "      <td>1365.000000</td>\n",
       "      <td>1365.0</td>\n",
       "    </tr>\n",
       "    <tr>\n",
       "      <th>19</th>\n",
       "      <td>1</td>\n",
       "      <td>114.000000</td>\n",
       "      <td>114.0</td>\n",
       "    </tr>\n",
       "    <tr>\n",
       "      <th>All</th>\n",
       "      <td>20518</td>\n",
       "      <td>180.888634</td>\n",
       "      <td>95.0</td>\n",
       "    </tr>\n",
       "  </tbody>\n",
       "</table>\n",
       "</div>"
      ],
      "text/plain": [
       "                count            mean          median\n",
       "      days_exposition days_exposition days_exposition\n",
       "rooms                                                \n",
       "0                 183      109.180328            50.0\n",
       "1                7273      158.909391            81.0\n",
       "2                6913      173.223058            91.0\n",
       "3                4819      204.232828           114.0\n",
       "4                 941      254.273114           156.0\n",
       "5                 252      306.269841           185.5\n",
       "6                  76      277.789474           201.5\n",
       "7                  37      197.945946           138.0\n",
       "8                  11      391.090909           249.0\n",
       "9                   4      463.500000           469.5\n",
       "10                  2       44.000000            44.0\n",
       "11                  1      813.000000           813.0\n",
       "12                  1      106.000000           106.0\n",
       "14                  2      256.500000           256.5\n",
       "15                  1       14.000000            14.0\n",
       "16                  1     1365.000000          1365.0\n",
       "19                  1      114.000000           114.0\n",
       "All             20518      180.888634            95.0"
      ]
     },
     "execution_count": 51,
     "metadata": {},
     "output_type": "execute_result"
    }
   ],
   "source": [
    "# Построение сводной таблицы времени продажи квартир в зависимости от количества комнат\n",
    "sale_days.pivot_table(index='rooms', values='days_exposition', aggfunc=['count', 'mean', 'median'], margins=True)"
   ]
  },
  {
   "cell_type": "markdown",
   "metadata": {},
   "source": [
    "**Вывод:** в целом по всей выборке среднее время объявления = 180 дней, медианное = 95 дней (расхождение между средним и медианным значениями обусловлено наличием редких объявлений о продаже 8-19 комнатных квартир). Быстрее снимаются объявления о продаже 1-3 комнатных квартир, дольше размешены объявления о продаже 8-19 комнатных квартир."
   ]
  },
  {
   "cell_type": "code",
   "execution_count": 52,
   "metadata": {},
   "outputs": [
    {
     "data": {
      "image/png": "[encoded data removed]",
      "text/plain": [
       "<Figure size 432x288 with 2 Axes>"
      ]
     },
     "metadata": {
      "needs_background": "light"
     },
     "output_type": "display_data"
    }
   ],
   "source": [
    "#Построение ячеечной диаграммы в зависимости от стоимости\n",
    "sale_days.plot(x='last_price', y='days_exposition', kind='hexbin', gridsize=25, sharex=False)\n",
    "plt.show()"
   ]
  },
  {
   "cell_type": "markdown",
   "metadata": {},
   "source": [
    "**Вывод:** быстрее продаются квартиры с низкой стоимостью."
   ]
  },
  {
   "cell_type": "markdown",
   "metadata": {},
   "source": [
    "### Редкие и выбивающиеся значения"
   ]
  },
  {
   "cell_type": "markdown",
   "metadata": {},
   "source": [
    "Выполнено в п.4.2:\n",
    "* редкие значения в зависимости от стоимости исключены путем построения ячеечной диаграммы;\n",
    "*  пиковые значения по истечению 45 и 60 дней - в эти дни сервис удаляет бесплатные объявления.\n"
   ]
  },
  {
   "cell_type": "markdown",
   "metadata": {},
   "source": [
    "### Факторы влияющие на стоимость квартиры"
   ]
  },
  {
   "cell_type": "code",
   "execution_count": 53,
   "metadata": {},
   "outputs": [
    {
     "data": {
      "text/html": [
       "<div>\n",
       "<style scoped>\n",
       "    .dataframe tbody tr th:only-of-type {\n",
       "        vertical-align: middle;\n",
       "    }\n",
       "\n",
       "    .dataframe tbody tr th {\n",
       "        vertical-align: top;\n",
       "    }\n",
       "\n",
       "    .dataframe thead th {\n",
       "        text-align: right;\n",
       "    }\n",
       "</style>\n",
       "<table border=\"1\" class=\"dataframe\">\n",
       "  <thead>\n",
       "    <tr style=\"text-align: right;\">\n",
       "      <th></th>\n",
       "      <th>last_price</th>\n",
       "      <th>total_area</th>\n",
       "      <th>rooms</th>\n",
       "      <th>city_centers_nearest</th>\n",
       "    </tr>\n",
       "  </thead>\n",
       "  <tbody>\n",
       "    <tr>\n",
       "      <th>last_price</th>\n",
       "      <td>1.000000</td>\n",
       "      <td>0.653675</td>\n",
       "      <td>0.363343</td>\n",
       "      <td>-0.206747</td>\n",
       "    </tr>\n",
       "    <tr>\n",
       "      <th>total_area</th>\n",
       "      <td>0.653675</td>\n",
       "      <td>1.000000</td>\n",
       "      <td>0.758344</td>\n",
       "      <td>-0.231446</td>\n",
       "    </tr>\n",
       "    <tr>\n",
       "      <th>rooms</th>\n",
       "      <td>0.363343</td>\n",
       "      <td>0.758344</td>\n",
       "      <td>1.000000</td>\n",
       "      <td>-0.184864</td>\n",
       "    </tr>\n",
       "    <tr>\n",
       "      <th>city_centers_nearest</th>\n",
       "      <td>-0.206747</td>\n",
       "      <td>-0.231446</td>\n",
       "      <td>-0.184864</td>\n",
       "      <td>1.000000</td>\n",
       "    </tr>\n",
       "  </tbody>\n",
       "</table>\n",
       "</div>"
      ],
      "text/plain": [
       "                      last_price  total_area     rooms  city_centers_nearest\n",
       "last_price              1.000000    0.653675  0.363343             -0.206747\n",
       "total_area              0.653675    1.000000  0.758344             -0.231446\n",
       "rooms                   0.363343    0.758344  1.000000             -0.184864\n",
       "city_centers_nearest   -0.206747   -0.231446 -0.184864              1.000000"
      ]
     },
     "execution_count": 53,
     "metadata": {},
     "output_type": "execute_result"
    }
   ],
   "source": [
    "# Расчет коррекляции цены в зависимости от площади, числа комнат, удалённости от центра\n",
    "df.loc[:,['last_price','total_area', 'rooms', 'city_centers_nearest']].corr()"
   ]
  },
  {
   "cell_type": "markdown",
   "metadata": {},
   "source": [
    "**Вывод:** наблюдается положительная корреляция между стоимостью и площадью недвижимости. Низкая зависимость цены от количества комнат и удаленности от центра."
   ]
  },
  {
   "cell_type": "code",
   "execution_count": 54,
   "metadata": {},
   "outputs": [
    {
     "data": {
      "text/html": [
       "<div>\n",
       "<style scoped>\n",
       "    .dataframe tbody tr th:only-of-type {\n",
       "        vertical-align: middle;\n",
       "    }\n",
       "\n",
       "    .dataframe tbody tr th {\n",
       "        vertical-align: top;\n",
       "    }\n",
       "\n",
       "    .dataframe thead tr th {\n",
       "        text-align: left;\n",
       "    }\n",
       "\n",
       "    .dataframe thead tr:last-of-type th {\n",
       "        text-align: right;\n",
       "    }\n",
       "</style>\n",
       "<table border=\"1\" class=\"dataframe\">\n",
       "  <thead>\n",
       "    <tr>\n",
       "      <th></th>\n",
       "      <th>count</th>\n",
       "      <th>median</th>\n",
       "      <th>mean</th>\n",
       "    </tr>\n",
       "    <tr>\n",
       "      <th></th>\n",
       "      <th>last_price</th>\n",
       "      <th>last_price</th>\n",
       "      <th>last_price</th>\n",
       "    </tr>\n",
       "    <tr>\n",
       "      <th>floor_category</th>\n",
       "      <th></th>\n",
       "      <th></th>\n",
       "      <th></th>\n",
       "    </tr>\n",
       "  </thead>\n",
       "  <tbody>\n",
       "    <tr>\n",
       "      <th>другой</th>\n",
       "      <td>17446</td>\n",
       "      <td>4850000.0</td>\n",
       "      <td>6.675444e+06</td>\n",
       "    </tr>\n",
       "    <tr>\n",
       "      <th>первый</th>\n",
       "      <td>2917</td>\n",
       "      <td>3900000.0</td>\n",
       "      <td>4.803560e+06</td>\n",
       "    </tr>\n",
       "    <tr>\n",
       "      <th>последний</th>\n",
       "      <td>3336</td>\n",
       "      <td>4300000.0</td>\n",
       "      <td>7.361025e+06</td>\n",
       "    </tr>\n",
       "  </tbody>\n",
       "</table>\n",
       "</div>"
      ],
      "text/plain": [
       "                    count     median          mean\n",
       "               last_price last_price    last_price\n",
       "floor_category                                    \n",
       "другой              17446  4850000.0  6.675444e+06\n",
       "первый               2917  3900000.0  4.803560e+06\n",
       "последний            3336  4300000.0  7.361025e+06"
      ]
     },
     "execution_count": 54,
     "metadata": {},
     "output_type": "execute_result"
    }
   ],
   "source": [
    "# Построение сводной таблицы в зависимости от этажа\n",
    "df.pivot_table(index='floor_category', values='last_price', aggfunc=['count', 'median', 'mean'])"
   ]
  },
  {
   "cell_type": "code",
   "execution_count": 55,
   "metadata": {},
   "outputs": [
    {
     "data": {
      "image/png": "[encoded data removed]",
      "text/plain": [
       "<Figure size 432x288 with 1 Axes>"
      ]
     },
     "metadata": {
      "needs_background": "light"
     },
     "output_type": "display_data"
    }
   ],
   "source": [
    "# Построение графика медианных значений стоимости недвижимости в зависимости от категории этажа\n",
    "df.groupby('floor_category')['last_price'].median().plot(x='last_price', y='floor_category', kind='bar')\n",
    "plt.xticks(rotation=0, horizontalalignment='center')\n",
    "plt.title('Cтоимость в зависимости от этажа')\n",
    "plt.xlabel('Этаж')\n",
    "plt.ylabel('Стоимость, млн.руб.')\n",
    "plt.show()"
   ]
  },
  {
   "cell_type": "markdown",
   "metadata": {},
   "source": [
    "**Вывод:** в среднем, квартиры на первом этаже дешевле других, немного дороже квартиры на последних этажах, наибольшей стоимостью обладают квартиры на других этажах."
   ]
  },
  {
   "cell_type": "code",
   "execution_count": 56,
   "metadata": {
    "scrolled": true
   },
   "outputs": [
    {
     "data": {
      "text/html": [
       "<div>\n",
       "<style scoped>\n",
       "    .dataframe tbody tr th:only-of-type {\n",
       "        vertical-align: middle;\n",
       "    }\n",
       "\n",
       "    .dataframe tbody tr th {\n",
       "        vertical-align: top;\n",
       "    }\n",
       "\n",
       "    .dataframe thead th {\n",
       "        text-align: right;\n",
       "    }\n",
       "</style>\n",
       "<table border=\"1\" class=\"dataframe\">\n",
       "  <thead>\n",
       "    <tr style=\"text-align: right;\">\n",
       "      <th></th>\n",
       "      <th>last_price</th>\n",
       "      <th>year</th>\n",
       "      <th>month</th>\n",
       "      <th>weekday</th>\n",
       "    </tr>\n",
       "  </thead>\n",
       "  <tbody>\n",
       "    <tr>\n",
       "      <th>last_price</th>\n",
       "      <td>1.000000</td>\n",
       "      <td>-0.043089</td>\n",
       "      <td>0.002779</td>\n",
       "      <td>0.001550</td>\n",
       "    </tr>\n",
       "    <tr>\n",
       "      <th>year</th>\n",
       "      <td>-0.043089</td>\n",
       "      <td>1.000000</td>\n",
       "      <td>-0.269642</td>\n",
       "      <td>-0.004799</td>\n",
       "    </tr>\n",
       "    <tr>\n",
       "      <th>month</th>\n",
       "      <td>0.002779</td>\n",
       "      <td>-0.269642</td>\n",
       "      <td>1.000000</td>\n",
       "      <td>0.011496</td>\n",
       "    </tr>\n",
       "    <tr>\n",
       "      <th>weekday</th>\n",
       "      <td>0.001550</td>\n",
       "      <td>-0.004799</td>\n",
       "      <td>0.011496</td>\n",
       "      <td>1.000000</td>\n",
       "    </tr>\n",
       "  </tbody>\n",
       "</table>\n",
       "</div>"
      ],
      "text/plain": [
       "            last_price      year     month   weekday\n",
       "last_price    1.000000 -0.043089  0.002779  0.001550\n",
       "year         -0.043089  1.000000 -0.269642 -0.004799\n",
       "month         0.002779 -0.269642  1.000000  0.011496\n",
       "weekday       0.001550 -0.004799  0.011496  1.000000"
      ]
     },
     "execution_count": 56,
     "metadata": {},
     "output_type": "execute_result"
    }
   ],
   "source": [
    "# Расчет коррекляции цены в зависимости от года, месяца и дня недели размещения\n",
    "df.loc[:,['last_price','year', 'month', 'weekday']].corr()"
   ]
  },
  {
   "cell_type": "markdown",
   "metadata": {},
   "source": [
    "**Вывод:** практически нулевая корреляция между стоимостью квартиры и датой размещения."
   ]
  },
  {
   "cell_type": "code",
   "execution_count": 57,
   "metadata": {},
   "outputs": [
    {
     "data": {
      "image/png": "[encoded data removed]",
      "text/plain": [
       "<Figure size 432x288 with 1 Axes>"
      ]
     },
     "metadata": {
      "needs_background": "light"
     },
     "output_type": "display_data"
    }
   ],
   "source": [
    "# Построение графика медианных значений стоимости недвижимости в зависимости от года\n",
    "df.groupby('year')['last_price'].median().plot.bar()\n",
    "plt.xticks(rotation=0, horizontalalignment='center')\n",
    "plt.title('Cтоимость в зависимости от года')\n",
    "plt.xlabel('Год')\n",
    "plt.ylabel('Стоимость, млн.руб.')\n",
    "plt.show()"
   ]
  },
  {
   "cell_type": "markdown",
   "metadata": {},
   "source": [
    "**Вывод:** с 2014 по 2017гг. наблюдается снижение стоимости недвижимости и последующий рост в 2018-2019гг."
   ]
  },
  {
   "cell_type": "code",
   "execution_count": 58,
   "metadata": {},
   "outputs": [
    {
     "data": {
      "image/png": "[encoded data removed]",
      "text/plain": [
       "<Figure size 432x288 with 1 Axes>"
      ]
     },
     "metadata": {
      "needs_background": "light"
     },
     "output_type": "display_data"
    }
   ],
   "source": [
    "# Построение графика медианных значений стоимости недвижимости в зависимости от месяца\n",
    "df.groupby('month')['last_price'].median().plot.bar(ylim=(4000000,5000000))\n",
    "plt.xticks(rotation=0, horizontalalignment='center')\n",
    "plt.title('Cтоимость в зависимости от месяца')\n",
    "plt.xlabel('Месяц')\n",
    "plt.ylabel('Стоимость, млн.руб.')\n",
    "plt.show()"
   ]
  },
  {
   "cell_type": "markdown",
   "metadata": {},
   "source": [
    "**Вывод:** наибольшая стоимость недвижимости в апреле, наименьшая - в июне, мае, августе, октябре (по возрастанию). Общая тенденция - к середине года стоимость снижается. Гипотезы:\n",
    "* рост стоимости в апреле обусловлен повышенным спросом на недвижимость, т.к. многие крупные компании выплачивают премии по итогам года и люди вкладывают их в недвижимость (совершают крупные покупки);\n",
    "* снижение стоимости в летний период обусловлено отпускным сезоном, потенциальные покупатели уезжают за пределы региона, спрос на недвижимость падает и цены снижаются."
   ]
  },
  {
   "cell_type": "code",
   "execution_count": 59,
   "metadata": {},
   "outputs": [
    {
     "data": {
      "image/png": "[encoded data removed]",
      "text/plain": [
       "<Figure size 432x288 with 1 Axes>"
      ]
     },
     "metadata": {
      "needs_background": "light"
     },
     "output_type": "display_data"
    }
   ],
   "source": [
    "# Построение графика медианных значений стоимости недвижимости в зависимости от дня недели\n",
    "df.groupby('weekday')['last_price'].median().plot.bar(ylim=(4000000,5000000))\n",
    "plt.xticks(rotation=0, horizontalalignment='center')\n",
    "plt.title('Cтоимость в зависимости от дня недели')\n",
    "plt.xlabel('День недели')\n",
    "plt.ylabel('Стоимость, млн.руб.')\n",
    "plt.show()"
   ]
  },
  {
   "cell_type": "markdown",
   "metadata": {},
   "source": [
    "**Вывод:** с понедельника по вторник стоимость возрастает и со вторника по воскресенье снижается."
   ]
  },
  {
   "cell_type": "markdown",
   "metadata": {},
   "source": [
    "### Населённые пункты"
   ]
  },
  {
   "cell_type": "code",
   "execution_count": 60,
   "metadata": {},
   "outputs": [
    {
     "data": {
      "text/html": [
       "<div>\n",
       "<style scoped>\n",
       "    .dataframe tbody tr th:only-of-type {\n",
       "        vertical-align: middle;\n",
       "    }\n",
       "\n",
       "    .dataframe tbody tr th {\n",
       "        vertical-align: top;\n",
       "    }\n",
       "\n",
       "    .dataframe thead th {\n",
       "        text-align: right;\n",
       "    }\n",
       "</style>\n",
       "<table border=\"1\" class=\"dataframe\">\n",
       "  <thead>\n",
       "    <tr style=\"text-align: right;\">\n",
       "      <th></th>\n",
       "      <th>count</th>\n",
       "      <th>mean</th>\n",
       "      <th>median</th>\n",
       "    </tr>\n",
       "    <tr>\n",
       "      <th>locality_name</th>\n",
       "      <th></th>\n",
       "      <th></th>\n",
       "      <th></th>\n",
       "    </tr>\n",
       "  </thead>\n",
       "  <tbody>\n",
       "    <tr>\n",
       "      <th>Санкт-Петербург</th>\n",
       "      <td>15721</td>\n",
       "      <td>114849.008794</td>\n",
       "      <td>104761.904762</td>\n",
       "    </tr>\n",
       "    <tr>\n",
       "      <th>посёлок Мурино</th>\n",
       "      <td>522</td>\n",
       "      <td>85752.189195</td>\n",
       "      <td>85878.462169</td>\n",
       "    </tr>\n",
       "    <tr>\n",
       "      <th>посёлок Шушары</th>\n",
       "      <td>440</td>\n",
       "      <td>78677.364217</td>\n",
       "      <td>76876.172608</td>\n",
       "    </tr>\n",
       "    <tr>\n",
       "      <th>Всеволожск</th>\n",
       "      <td>398</td>\n",
       "      <td>68654.473986</td>\n",
       "      <td>65789.473684</td>\n",
       "    </tr>\n",
       "    <tr>\n",
       "      <th>Пушкин</th>\n",
       "      <td>369</td>\n",
       "      <td>103125.819291</td>\n",
       "      <td>100000.000000</td>\n",
       "    </tr>\n",
       "    <tr>\n",
       "      <th>Колпино</th>\n",
       "      <td>338</td>\n",
       "      <td>75424.579098</td>\n",
       "      <td>74723.748474</td>\n",
       "    </tr>\n",
       "    <tr>\n",
       "      <th>посёлок Парголово</th>\n",
       "      <td>327</td>\n",
       "      <td>90175.913458</td>\n",
       "      <td>91642.857143</td>\n",
       "    </tr>\n",
       "    <tr>\n",
       "      <th>Гатчина</th>\n",
       "      <td>307</td>\n",
       "      <td>68746.146763</td>\n",
       "      <td>67796.610169</td>\n",
       "    </tr>\n",
       "    <tr>\n",
       "      <th>деревня Кудрово</th>\n",
       "      <td>299</td>\n",
       "      <td>92473.547576</td>\n",
       "      <td>91860.465116</td>\n",
       "    </tr>\n",
       "    <tr>\n",
       "      <th>Выборг</th>\n",
       "      <td>237</td>\n",
       "      <td>58141.909153</td>\n",
       "      <td>58158.319871</td>\n",
       "    </tr>\n",
       "  </tbody>\n",
       "</table>\n",
       "</div>"
      ],
      "text/plain": [
       "                   count           mean         median\n",
       "locality_name                                         \n",
       "Санкт-Петербург    15721  114849.008794  104761.904762\n",
       "посёлок Мурино       522   85752.189195   85878.462169\n",
       "посёлок Шушары       440   78677.364217   76876.172608\n",
       "Всеволожск           398   68654.473986   65789.473684\n",
       "Пушкин               369  103125.819291  100000.000000\n",
       "Колпино              338   75424.579098   74723.748474\n",
       "посёлок Парголово    327   90175.913458   91642.857143\n",
       "Гатчина              307   68746.146763   67796.610169\n",
       "деревня Кудрово      299   92473.547576   91860.465116\n",
       "Выборг               237   58141.909153   58158.319871"
      ]
     },
     "execution_count": 60,
     "metadata": {},
     "output_type": "execute_result"
    }
   ],
   "source": [
    "# Формирование сводной таблицы с наименованием города и стоимостью кв.метра\n",
    "top_city = df.pivot_table(index='locality_name', values='price_square_meter', aggfunc=['count', 'mean', 'median'])\n",
    "\n",
    "# Переименование столбцов с мультииндексом\n",
    "top_city.columns = ['count', 'mean', 'median']\n",
    "\n",
    "# Сортировка и сохранение первых 10 строчек\n",
    "top_city = top_city.sort_values(by='count', ascending=False).head(10)\n",
    "\n",
    "# 10 населённых пунктов с наибольшим числом объявлений, средней и медианной стоимостью квадратного метра\n",
    "top_city"
   ]
  },
  {
   "cell_type": "markdown",
   "metadata": {},
   "source": [
    "**Вывод:** Самая высокая средняя стоимость квадратного метра в Санкт-Петербурге, далее по убыванию Пушкин, деревня Кудрово и посёлок Парголово."
   ]
  },
  {
   "cell_type": "code",
   "execution_count": 61,
   "metadata": {},
   "outputs": [
    {
     "data": {
      "text/plain": [
       "12971    Санкт-Петербург\n",
       "Name: locality_name, dtype: object"
      ]
     },
     "execution_count": 61,
     "metadata": {},
     "output_type": "execute_result"
    }
   ],
   "source": [
    "# Населённый пункт с самой высокой стоимостью жилья\n",
    "df[df['last_price'] == df['last_price'].max()]['locality_name']"
   ]
  },
  {
   "cell_type": "code",
   "execution_count": 62,
   "metadata": {},
   "outputs": [
    {
     "data": {
      "text/plain": [
       "8793    Санкт-Петербург\n",
       "Name: locality_name, dtype: object"
      ]
     },
     "execution_count": 62,
     "metadata": {},
     "output_type": "execute_result"
    }
   ],
   "source": [
    "# Населённый пункт с самой низкой стоимостью жилья\n",
    "df[df['last_price'] == df['last_price'].min()]['locality_name']"
   ]
  },
  {
   "cell_type": "markdown",
   "metadata": {},
   "source": [
    "**Вывод:** самая дорогая и самая дешевая стоимость жилья находится в Санкт-Петербурге."
   ]
  },
  {
   "cell_type": "markdown",
   "metadata": {},
   "source": [
    "###  Санкт-Петербург: центр и средняя стомость"
   ]
  },
  {
   "cell_type": "code",
   "execution_count": 63,
   "metadata": {},
   "outputs": [
    {
     "data": {
      "image/png": "[encoded data removed]",
      "text/plain": [
       "<Figure size 864x288 with 1 Axes>"
      ]
     },
     "metadata": {
      "needs_background": "light"
     },
     "output_type": "display_data"
    }
   ],
   "source": [
    "# Добавление столбца с расстоянием до центра в километрах и округление значений\n",
    "df['city_centers_nearest_km'] = (df['city_centers_nearest'] / 1000).round()\n",
    "\n",
    "# Формирование среза по Санкт-Перетбургу, группировка с pivot_table() и построение графика\n",
    "(\n",
    "    df.query('locality_name == \"Санкт-Петербург\"')\n",
    "    .pivot_table(index='city_centers_nearest_km', values='last_price', aggfunc='mean')\n",
    "    .plot(grid=True, figsize=(12, 4))\n",
    ")\n",
    "plt.show()"
   ]
  },
  {
   "cell_type": "markdown",
   "metadata": {},
   "source": [
    "**Вывод:** радиус центральной зоны = 8 км. По мере удаления от центра города стомость недвижимости снижается."
   ]
  },
  {
   "cell_type": "markdown",
   "metadata": {},
   "source": [
    "### Центр Санкт-Петербурга: площадь, цена, число комнат, высота потолков"
   ]
  },
  {
   "cell_type": "code",
   "execution_count": 64,
   "metadata": {},
   "outputs": [
    {
     "data": {
      "image/png": "[encoded data removed]",
      "text/plain": [
       "<Figure size 864x288 with 1 Axes>"
      ]
     },
     "metadata": {
      "needs_background": "light"
     },
     "output_type": "display_data"
    }
   ],
   "source": [
    "# Формирование среза по центру Санкт-Петербуга\n",
    "sp_center = df.query('locality_name == \"Санкт-Петербург\" and city_centers_nearest_km <= 8')\n",
    "\n",
    "# Гистограмма по площади\n",
    "sp_center['total_area'].hist(bins=500, figsize=(12,4), range=(0, 400))\n",
    "plt.show()"
   ]
  },
  {
   "cell_type": "markdown",
   "metadata": {},
   "source": [
    "**Вывод:** в центре Санкт-Петербурга основная масса объявлений о прадаже недвижимости площадью от 30 м2 до 150 м2."
   ]
  },
  {
   "cell_type": "code",
   "execution_count": 65,
   "metadata": {},
   "outputs": [
    {
     "data": {
      "image/png": "[encoded data removed]",
      "text/plain": [
       "<Figure size 864x288 with 1 Axes>"
      ]
     },
     "metadata": {
      "needs_background": "light"
     },
     "output_type": "display_data"
    }
   ],
   "source": [
    "# Гистограмма по цене\n",
    "sp_center['last_price'].hist(bins=200, figsize=(12, 4), range=(0, 50000000))\n",
    "plt.show()"
   ]
  },
  {
   "cell_type": "markdown",
   "metadata": {},
   "source": [
    "**Вывод:** основная масса недвижимости в центре Санкт-Петербурга выставлена на продажу по ценам от 4000000 до 15000000"
   ]
  },
  {
   "cell_type": "code",
   "execution_count": 66,
   "metadata": {},
   "outputs": [
    {
     "data": {
      "image/png": "[encoded data removed]",
      "text/plain": [
       "<Figure size 432x288 with 1 Axes>"
      ]
     },
     "metadata": {
      "needs_background": "light"
     },
     "output_type": "display_data"
    }
   ],
   "source": [
    "# Гистограмма по числу комнат\n",
    "sp_center['rooms'].hist(bins=50, range=(0, 25))\n",
    "plt.show()"
   ]
  },
  {
   "cell_type": "markdown",
   "metadata": {},
   "source": [
    "**Вывод:** основная масса объявлений в центре Санкт-Петербурга относится к недвижимости с количеством комнат от 1 до 4."
   ]
  },
  {
   "cell_type": "code",
   "execution_count": 67,
   "metadata": {},
   "outputs": [
    {
     "data": {
      "image/png": "[encoded data removed]",
      "text/plain": [
       "<Figure size 864x288 with 1 Axes>"
      ]
     },
     "metadata": {
      "needs_background": "light"
     },
     "output_type": "display_data"
    }
   ],
   "source": [
    "# Гистограмма по высоте потолков\n",
    "sp_center['ceiling_height'].hist(bins=100, figsize=(12,4)) #, range=(2, 4)\n",
    "plt.show()"
   ]
  },
  {
   "cell_type": "markdown",
   "metadata": {},
   "source": [
    "**Вывод:** основная масса недвижимости в центре Санкт-Петербурга в объявлениях о продаже имеет высоту потолка 2,6 м."
   ]
  },
  {
   "cell_type": "code",
   "execution_count": 68,
   "metadata": {},
   "outputs": [
    {
     "data": {
      "text/html": [
       "<div>\n",
       "<style scoped>\n",
       "    .dataframe tbody tr th:only-of-type {\n",
       "        vertical-align: middle;\n",
       "    }\n",
       "\n",
       "    .dataframe tbody tr th {\n",
       "        vertical-align: top;\n",
       "    }\n",
       "\n",
       "    .dataframe thead th {\n",
       "        text-align: right;\n",
       "    }\n",
       "</style>\n",
       "<table border=\"1\" class=\"dataframe\">\n",
       "  <thead>\n",
       "    <tr style=\"text-align: right;\">\n",
       "      <th></th>\n",
       "      <th>last_price</th>\n",
       "      <th>total_area</th>\n",
       "      <th>rooms</th>\n",
       "      <th>city_centers_nearest</th>\n",
       "    </tr>\n",
       "  </thead>\n",
       "  <tbody>\n",
       "    <tr>\n",
       "      <th>last_price</th>\n",
       "      <td>1.000000</td>\n",
       "      <td>0.638837</td>\n",
       "      <td>0.340541</td>\n",
       "      <td>-0.078142</td>\n",
       "    </tr>\n",
       "    <tr>\n",
       "      <th>total_area</th>\n",
       "      <td>0.638837</td>\n",
       "      <td>1.000000</td>\n",
       "      <td>0.743004</td>\n",
       "      <td>-0.141058</td>\n",
       "    </tr>\n",
       "    <tr>\n",
       "      <th>rooms</th>\n",
       "      <td>0.340541</td>\n",
       "      <td>0.743004</td>\n",
       "      <td>1.000000</td>\n",
       "      <td>-0.207007</td>\n",
       "    </tr>\n",
       "    <tr>\n",
       "      <th>city_centers_nearest</th>\n",
       "      <td>-0.078142</td>\n",
       "      <td>-0.141058</td>\n",
       "      <td>-0.207007</td>\n",
       "      <td>1.000000</td>\n",
       "    </tr>\n",
       "  </tbody>\n",
       "</table>\n",
       "</div>"
      ],
      "text/plain": [
       "                      last_price  total_area     rooms  city_centers_nearest\n",
       "last_price              1.000000    0.638837  0.340541             -0.078142\n",
       "total_area              0.638837    1.000000  0.743004             -0.141058\n",
       "rooms                   0.340541    0.743004  1.000000             -0.207007\n",
       "city_centers_nearest   -0.078142   -0.141058 -0.207007              1.000000"
      ]
     },
     "execution_count": 68,
     "metadata": {},
     "output_type": "execute_result"
    }
   ],
   "source": [
    "# Расчет коррекляции цены в зависимости от площади, числа комнат, удалённости от центра\n",
    "sp_center.loc[:,['last_price','total_area', 'rooms', 'city_centers_nearest']].corr()"
   ]
  },
  {
   "cell_type": "markdown",
   "metadata": {},
   "source": [
    "**Вывод:** корреляция между стоимостью и площадью недвижимости в центре Санкт-петербурга ниже чем в целом по базе данных (влияние высокой стоимости по месторасположению - центр города). Низкая зависимость цены от количества комнат и удаленности от центра. Отрицательная корреляция для удаленности - чем дальше от центра, тем дешевле недвижимость."
   ]
  },
  {
   "cell_type": "code",
   "execution_count": 69,
   "metadata": {},
   "outputs": [
    {
     "data": {
      "text/html": [
       "<div>\n",
       "<style scoped>\n",
       "    .dataframe tbody tr th:only-of-type {\n",
       "        vertical-align: middle;\n",
       "    }\n",
       "\n",
       "    .dataframe tbody tr th {\n",
       "        vertical-align: top;\n",
       "    }\n",
       "\n",
       "    .dataframe thead tr th {\n",
       "        text-align: left;\n",
       "    }\n",
       "\n",
       "    .dataframe thead tr:last-of-type th {\n",
       "        text-align: right;\n",
       "    }\n",
       "</style>\n",
       "<table border=\"1\" class=\"dataframe\">\n",
       "  <thead>\n",
       "    <tr>\n",
       "      <th></th>\n",
       "      <th>count</th>\n",
       "      <th>median</th>\n",
       "      <th>mean</th>\n",
       "    </tr>\n",
       "    <tr>\n",
       "      <th></th>\n",
       "      <th>last_price</th>\n",
       "      <th>last_price</th>\n",
       "      <th>last_price</th>\n",
       "    </tr>\n",
       "    <tr>\n",
       "      <th>floor_category</th>\n",
       "      <th></th>\n",
       "      <th></th>\n",
       "      <th></th>\n",
       "    </tr>\n",
       "  </thead>\n",
       "  <tbody>\n",
       "    <tr>\n",
       "      <th>другой</th>\n",
       "      <td>2985</td>\n",
       "      <td>9300000.0</td>\n",
       "      <td>1.402388e+07</td>\n",
       "    </tr>\n",
       "    <tr>\n",
       "      <th>первый</th>\n",
       "      <td>438</td>\n",
       "      <td>6470000.0</td>\n",
       "      <td>8.909883e+06</td>\n",
       "    </tr>\n",
       "    <tr>\n",
       "      <th>последний</th>\n",
       "      <td>699</td>\n",
       "      <td>9000000.0</td>\n",
       "      <td>1.815118e+07</td>\n",
       "    </tr>\n",
       "  </tbody>\n",
       "</table>\n",
       "</div>"
      ],
      "text/plain": [
       "                    count     median          mean\n",
       "               last_price last_price    last_price\n",
       "floor_category                                    \n",
       "другой               2985  9300000.0  1.402388e+07\n",
       "первый                438  6470000.0  8.909883e+06\n",
       "последний             699  9000000.0  1.815118e+07"
      ]
     },
     "execution_count": 69,
     "metadata": {},
     "output_type": "execute_result"
    }
   ],
   "source": [
    "# Построение сводной таблицы в зависимости от этажа\n",
    "sp_center.pivot_table(index='floor_category', values='last_price', aggfunc=['count', 'median', 'mean'])"
   ]
  },
  {
   "cell_type": "markdown",
   "metadata": {},
   "source": [
    "**Вывод:** в среднем, квартиры на первом этаже дешевле других, дороже квартиры на последних этажах, наибольшей стоимостью обладают квартиры на других этажах. Примечание: по медианным значениям нет большой разницы между стомостью последних и других этажей, видимо петербуржцы высоко ценят открывающийся сверху вид + поближе к крыше."
   ]
  },
  {
   "cell_type": "code",
   "execution_count": 70,
   "metadata": {
    "scrolled": false
   },
   "outputs": [
    {
     "data": {
      "text/html": [
       "<div>\n",
       "<style scoped>\n",
       "    .dataframe tbody tr th:only-of-type {\n",
       "        vertical-align: middle;\n",
       "    }\n",
       "\n",
       "    .dataframe tbody tr th {\n",
       "        vertical-align: top;\n",
       "    }\n",
       "\n",
       "    .dataframe thead th {\n",
       "        text-align: right;\n",
       "    }\n",
       "</style>\n",
       "<table border=\"1\" class=\"dataframe\">\n",
       "  <thead>\n",
       "    <tr style=\"text-align: right;\">\n",
       "      <th></th>\n",
       "      <th>last_price</th>\n",
       "      <th>year</th>\n",
       "      <th>month</th>\n",
       "      <th>weekday</th>\n",
       "    </tr>\n",
       "  </thead>\n",
       "  <tbody>\n",
       "    <tr>\n",
       "      <th>last_price</th>\n",
       "      <td>1.000000</td>\n",
       "      <td>-0.047097</td>\n",
       "      <td>-0.004189</td>\n",
       "      <td>0.020718</td>\n",
       "    </tr>\n",
       "    <tr>\n",
       "      <th>year</th>\n",
       "      <td>-0.047097</td>\n",
       "      <td>1.000000</td>\n",
       "      <td>-0.240260</td>\n",
       "      <td>0.000900</td>\n",
       "    </tr>\n",
       "    <tr>\n",
       "      <th>month</th>\n",
       "      <td>-0.004189</td>\n",
       "      <td>-0.240260</td>\n",
       "      <td>1.000000</td>\n",
       "      <td>0.037053</td>\n",
       "    </tr>\n",
       "    <tr>\n",
       "      <th>weekday</th>\n",
       "      <td>0.020718</td>\n",
       "      <td>0.000900</td>\n",
       "      <td>0.037053</td>\n",
       "      <td>1.000000</td>\n",
       "    </tr>\n",
       "  </tbody>\n",
       "</table>\n",
       "</div>"
      ],
      "text/plain": [
       "            last_price      year     month   weekday\n",
       "last_price    1.000000 -0.047097 -0.004189  0.020718\n",
       "year         -0.047097  1.000000 -0.240260  0.000900\n",
       "month        -0.004189 -0.240260  1.000000  0.037053\n",
       "weekday       0.020718  0.000900  0.037053  1.000000"
      ]
     },
     "execution_count": 70,
     "metadata": {},
     "output_type": "execute_result"
    }
   ],
   "source": [
    "# Расчет коррекляции цены в зависимости от года, месяца и дня недели размещения\n",
    "sp_center.loc[:,['last_price','year', 'month', 'weekday']].corr()"
   ]
  },
  {
   "cell_type": "markdown",
   "metadata": {},
   "source": [
    "**Вывод:** практически нулевая корреляция между стоимостью квартиры и датой размещения."
   ]
  },
  {
   "cell_type": "code",
   "execution_count": 71,
   "metadata": {},
   "outputs": [
    {
     "data": {
      "image/png": "[encoded data removed]",
      "text/plain": [
       "<Figure size 432x288 with 1 Axes>"
      ]
     },
     "metadata": {
      "needs_background": "light"
     },
     "output_type": "display_data"
    }
   ],
   "source": [
    "# Построение графика медианных значений стоимости недвижимости центра С-Петербурга в зависимости от года\n",
    "sp_center.groupby('year')['last_price'].median().plot.bar()\n",
    "plt.xticks(rotation=0, horizontalalignment='center')\n",
    "plt.title('Cтоимость в центре СПб в зависимости от года')\n",
    "plt.xlabel('Год')\n",
    "plt.ylabel('Стоимость, млн.руб.')\n",
    "plt.show()"
   ]
  },
  {
   "cell_type": "markdown",
   "metadata": {},
   "source": [
    "**Вывод:** цены на недвижимость в центре Санкт-Петербурга сильно упали после 2014г. Гипотеза: влияние кризиса 2014г и снижение покупательской способности населения."
   ]
  },
  {
   "cell_type": "code",
   "execution_count": 72,
   "metadata": {},
   "outputs": [
    {
     "data": {
      "image/png": "[encoded data removed]",
      "text/plain": [
       "<Figure size 432x288 with 1 Axes>"
      ]
     },
     "metadata": {
      "needs_background": "light"
     },
     "output_type": "display_data"
    }
   ],
   "source": [
    "# Построение графика медианных значений стоимости недвижимости центра С-Петербурга в зависимости от месяца\n",
    "sp_center.groupby('month')['last_price'].median().plot.bar(ylim=(7000000,10000000))\n",
    "plt.xticks(rotation=0, horizontalalignment='center')\n",
    "plt.title('Cтоимость в центре СПб в зависимости от месяца')\n",
    "plt.xlabel('Месяц')\n",
    "plt.ylabel('Стоимость, млн.руб.')\n",
    "plt.show()"
   ]
  },
  {
   "cell_type": "markdown",
   "metadata": {},
   "source": [
    "**Вывод:** для центра Санкт-Петербурга наибольшая стоимость недвижимости приходится на сентябрь и ноябрь, наименьшая - на октябрь и ноябрь."
   ]
  },
  {
   "cell_type": "code",
   "execution_count": 73,
   "metadata": {},
   "outputs": [
    {
     "data": {
      "image/png": "[encoded data removed]",
      "text/plain": [
       "<Figure size 432x288 with 1 Axes>"
      ]
     },
     "metadata": {
      "needs_background": "light"
     },
     "output_type": "display_data"
    }
   ],
   "source": [
    "# Построение графика медианных значений стоимости недвижимости центра С-Петербурга в зависимости от дня недели\n",
    "sp_center.groupby('weekday')['last_price'].median().plot.bar(ylim=(7000000,10000000))\n",
    "plt.xticks(rotation=0, horizontalalignment='center')\n",
    "plt.title('Cтоимость в центре СПб в зависимости от дня недели')\n",
    "plt.xlabel('День недели')\n",
    "plt.ylabel('Стоимость, млн.руб.')\n",
    "plt.show()"
   ]
  },
  {
   "cell_type": "markdown",
   "metadata": {},
   "source": [
    "**Вывод:** наименьшая стоимость недвижимости в центре Санкт-Петербурга по субботам, наибольшая - по понедельникам и воскресеньям."
   ]
  },
  {
   "cell_type": "markdown",
   "metadata": {},
   "source": [
    "## Общий вывод"
   ]
  },
  {
   "cell_type": "markdown",
   "metadata": {},
   "source": [
    "**Входные данные:**\n",
    "* Есть ***несоответствия в типах данных***: first_day_exposition, floors_total, is_apartment, balcony, parks_around3000, ponds_around3000, days_exposition;\n",
    "* Присутсвуют ***аномальные значения*** в данных с высотой потолков (например 100м и 1м), возможно стоит ввести огрничения при вводе данных для пользователей;\n",
    "* В столбцах cityCenters_nearest, parks_around3000, ponds_around3000 наблюдается ***нарушение стиля*** (верхний регистр, отсутсвие \"_\") - желательно исправить в последующих выгрузках.\n",
    "\n",
    "**Санкт-Петербург и соседние населённые пунты:**\n",
    "* ***рыночная стоимость*** 1-4 комнатных квартир площадью от 30м2 до 100м2 составляет от 12 000 до 10 000 000 руб. с высотой потолков от 2,5 до 3 метров. Все показатели которые не входят в указанные диапазоны должны проходить проверку на аномалии и мошенническую деятельность.\n",
    "* ***время продажи:*** быстрее снимаются объявления о продаже недвижимости с низкой стоимостью и 1-3 комнатные квартиры, дольше размешены объявления о продаже 8-19 комнатных квартир. В первые месяцы шансы продать квартиру выше, с течением времени количество продаж снижается. При этом есть пиковые значения по истечению 45 и 60 дней (возможно столько времени требуется банкам на проверку документов при оформлении ипотеки, для проверки гипотезы необходимо начать собирать опросы при закрытии объявления \"Поздравляем с продажей! Помогите нам повысить качество ресурса и ответьте на несколько вопросов: ипотека - да/нет, сколько времени потребовалось на проверку документов -...\").\n",
    "* ***факторы, которые влияют на стоимость:*** есть положительная корреляция между стоимостью и площадью недвижимости, а так же отрицательная корреляция между стоимостью и удаленностью от центра. В среднем, квартиры на первом этаже дешевле других, немного дороже квартиры на последних этажах, наибольшей стоимостью обладают квартиры на других этажах.\n",
    "* ***стоимость недвижимости в зависимости от года, месяца и дня недели размещения:*** с 2014 по 2017гг. наблюдается снижение стоимости недвижимости и последующий рост в 2018-2019гг. Наибольшая стоимость недвижимости в апреле, наименьшая - в июне, мае, августе, октябре (по возрастанию). Общая тенденция - к середине года стоимость снижается. Вероятно рост стоимости в апреле обусловлен повышенным спросом на недвижимость, т.к. многие крупные компании выплачивают премии по итогам года и люди вкладывают их в недвижимость (совершают крупные покупки), а снижение стоимости в летний период обусловлено отпускным сезоном (потенциальные покупатели уезжают за пределы региона, спрос на недвижимость падает и цены снижаются). С понедельника по вторник стоимость возрастает и со вторника по воскресенье снижается.\n",
    "* ***топ-3 населенных пунктов:*** наибольшее количество объявлений в Санкт-Петербурге\t(15721шт), посёлке Мурино (522шт) и посёлке Шушары (440 шт), средняя стоимость квадратного метра соответственно - 114 849, 85 752 и\t78 677 рублей. При этом самая дорогая и самая дешевая стоимость жилья находится в Санкт-Петербурге.\n",
    "\n",
    "**Центр Санкт-Петербурга:**\n",
    "* ***радиус центральной зоны*** равен 8 километрам. По мере удаления от центра города стомость недвижимости снижается.\n",
    "* ***рыночная стоимость*** 1-4 комнатных квартир площадью от 30 м2 до 150 м2 составляет от 4 000 000 до 15 000 000 руб. с высотой потолов 2,6 м.  Стомость значительно выше всей базы данных.\n",
    "* ***факторы, которые влияют на стоимость:*** корреляция между стоимостью и площадью недвижимости в центре Санкт-петербурга ниже чем в целом по базе данных, сказывается влияние высокой стоимости по месторасположению (центр города). Отрицательная корреляция для удаленности - чем дальше от центра, тем дешевле недвижимость. Средняя стоимость квартир в зависимости от этажа не отличается от общей базы данных, но по медианным значениям нет большой разницы между стомостью последних и других этажей, видимо петербуржцы высоко ценят открывающийся сверху вид или любят гулять по крышам. Практически нулевая корреляция между стоимостью квартиры и датой размещения.\n",
    "* ***стоимость недвижимости в зависимости от года, месяца и дня недели размещения:*** цены на недвижимость в центре Санкт-Петербурга сильно упали после 2014г., вероятно сказался кризис 2014г с последующим снижением покупательской способности населения. Наибольшая стоимость недвижимости приходится на сентябрь и ноябрь, наименьшая - на октябрь и ноябрь. По дням недели: наибольшая - по понедельникам и воскресеньям, наименьшая - по субботам.\n"
   ]
  },
  {
   "cell_type": "markdown",
   "metadata": {},
   "source": [
    "## Чек-лист готовности проекта"
   ]
  },
  {
   "cell_type": "markdown",
   "metadata": {},
   "source": [
    "- [x]  открыт файл\n",
    "- [x]  файлы изучены (выведены первые строки, метод `info()`)\n",
    "- [x]  определены пропущенные значения\n",
    "- [x]  заполнены пропущенные значения\n",
    "- [x]  есть пояснение, какие пропущенные значения обнаружены\n",
    "- [x]  изменены типы данных\n",
    "- [x]  есть пояснение, в каких столбцах изменены типы и почему\n",
    "- [x]  посчитано и добавлено в таблицу: цена квадратного метра\n",
    "- [x]  посчитано и добавлено в таблицу: день недели, месяц и год публикации объявления\n",
    "- [x]  посчитано и добавлено в таблицу: этаж квартиры; варианты — первый, последний, другой\n",
    "- [x]  посчитано и добавлено в таблицу: соотношение жилой и общей площади, а также отношение площади кухни к общей\n",
    "- [x]  изучены следующие параметры: площадь, цена, число комнат, высота потолков\n",
    "- [x]  построены гистограммы для каждого параметра\n",
    "- [x]  выполнено задание: «Изучите время продажи квартиры. Постройте гистограмму. Посчитайте среднее и медиану. Опишите, сколько обычно занимает продажа. Когда можно считать, что продажи прошли очень быстро, а когда необычно долго?»\n",
    "- [x]  выполнено задание: «Уберите редкие и выбивающиеся значения. Опишите, какие особенности обнаружили».\n",
    "- [x]  выполнено задание: «Какие факторы больше всего влияют на стоимость квартиры? Изучите, зависит ли цена от квадратного метра, числа комнат, этажа (первого или последнего), удалённости от центра. Также изучите зависимость от даты размещения: дня недели, месяца и года». \n",
    "- [x]  выполнено задание: «Выберите 10 населённых пунктов с наибольшим числом объявлений. Посчитайте среднюю цену квадратного метра в этих населённых пунктах. Выделите населённые пункты с самой высокой и низкой стоимостью жилья. Эти данные можно найти по имени в столбце `locality_name`».\n",
    "- [x]  выполнено задание: «Изучите предложения квартир: для каждой квартиры есть информация о расстоянии до центра. Выделите квартиры в Санкт-Петербурге (`locality_name`). Ваша задача — выяснить, какая область входит в центр. Создайте столбец с расстоянием до центра в километрах: округлите до целых значений. После этого посчитайте среднюю цену для каждого километра. Постройте график: он должен показывать, как цена зависит от удалённости от центра. Определите границу, где график сильно меняется — это и будет центральная зона».\n",
    "- [x]  выполнено задание: «Выделите сегмент квартир в центре. Проанализируйте эту территорию и изучите следующие параметры: площадь, цена, число комнат, высота потолков. Также выделите факторы, которые влияют на стоимость квартиры (число комнат, этаж, удалённость от центра, дата размещения объявления). Сделайте выводы. Отличаются ли они от общих выводов по всей базе?»\n",
    "- [x]  в каждом этапе есть выводы\n",
    "- [x]  есть общий вывод"
   ]
  },
  {
   "cell_type": "code",
   "execution_count": null,
   "metadata": {},
   "outputs": [],
   "source": []
  }
 ],
 "metadata": {
  "ExecuteTimeLog": [
   {
    "duration": 107,
    "start_time": "2022-03-18T01:01:47.003Z"
   },
   {
    "duration": 621,
    "start_time": "2022-03-18T01:02:47.619Z"
   },
   {
    "duration": 193,
    "start_time": "2022-03-18T01:05:41.195Z"
   },
   {
    "duration": 233,
    "start_time": "2022-03-18T01:08:32.192Z"
   },
   {
    "duration": 192,
    "start_time": "2022-03-18T01:10:31.243Z"
   },
   {
    "duration": 21,
    "start_time": "2022-03-18T01:12:01.389Z"
   },
   {
    "duration": 115,
    "start_time": "2022-03-18T01:13:58.828Z"
   },
   {
    "duration": 3,
    "start_time": "2022-03-18T01:22:01.174Z"
   },
   {
    "duration": 20,
    "start_time": "2022-03-18T01:23:36.267Z"
   },
   {
    "duration": 115,
    "start_time": "2022-03-18T01:38:30.803Z"
   },
   {
    "duration": 140,
    "start_time": "2022-03-18T01:39:11.607Z"
   },
   {
    "duration": 20,
    "start_time": "2022-03-18T01:41:25.611Z"
   },
   {
    "duration": 140,
    "start_time": "2022-03-18T01:45:53.646Z"
   },
   {
    "duration": 147,
    "start_time": "2022-03-18T01:53:42.132Z"
   },
   {
    "duration": 175,
    "start_time": "2022-03-18T01:53:48.272Z"
   },
   {
    "duration": 22,
    "start_time": "2022-03-18T02:46:26.039Z"
   },
   {
    "duration": 6,
    "start_time": "2022-03-18T02:48:28.471Z"
   },
   {
    "duration": 12,
    "start_time": "2022-03-18T02:49:17.832Z"
   },
   {
    "duration": 13,
    "start_time": "2022-03-18T02:50:11.487Z"
   },
   {
    "duration": 6,
    "start_time": "2022-03-18T02:55:03.552Z"
   },
   {
    "duration": 102,
    "start_time": "2022-03-18T02:56:58.788Z"
   },
   {
    "duration": 104,
    "start_time": "2022-03-18T02:58:55.522Z"
   },
   {
    "duration": 7,
    "start_time": "2022-03-18T03:05:27.824Z"
   },
   {
    "duration": 28,
    "start_time": "2022-03-18T03:08:26.788Z"
   },
   {
    "duration": 35,
    "start_time": "2022-03-18T03:09:09.575Z"
   },
   {
    "duration": 6,
    "start_time": "2022-03-18T03:09:53.495Z"
   },
   {
    "duration": 7,
    "start_time": "2022-03-18T03:12:00.145Z"
   },
   {
    "duration": 96,
    "start_time": "2022-03-18T03:12:22.903Z"
   },
   {
    "duration": 27,
    "start_time": "2022-03-18T03:12:27.310Z"
   },
   {
    "duration": 26,
    "start_time": "2022-03-18T03:12:38.534Z"
   },
   {
    "duration": 11,
    "start_time": "2022-03-18T03:25:34.828Z"
   },
   {
    "duration": 16,
    "start_time": "2022-03-18T03:26:02.126Z"
   },
   {
    "duration": 57,
    "start_time": "2022-03-18T03:28:07.239Z"
   },
   {
    "duration": 49,
    "start_time": "2022-03-18T03:28:32.576Z"
   },
   {
    "duration": 46,
    "start_time": "2022-03-18T03:28:45.725Z"
   },
   {
    "duration": 34,
    "start_time": "2022-03-18T03:29:47.895Z"
   },
   {
    "duration": 17,
    "start_time": "2022-03-18T03:30:02.617Z"
   },
   {
    "duration": 66,
    "start_time": "2022-03-18T03:30:42.446Z"
   },
   {
    "duration": 66,
    "start_time": "2022-03-18T03:31:05.363Z"
   },
   {
    "duration": 24,
    "start_time": "2022-03-18T03:33:04.167Z"
   },
   {
    "duration": 28,
    "start_time": "2022-03-18T03:33:14.560Z"
   },
   {
    "duration": 33,
    "start_time": "2022-03-18T03:34:44.155Z"
   },
   {
    "duration": 58,
    "start_time": "2022-03-18T03:37:31.439Z"
   },
   {
    "duration": 7,
    "start_time": "2022-03-18T03:39:44.031Z"
   },
   {
    "duration": 6,
    "start_time": "2022-03-18T03:40:07.737Z"
   },
   {
    "duration": 50,
    "start_time": "2022-03-18T03:41:03.846Z"
   },
   {
    "duration": 10,
    "start_time": "2022-03-18T03:44:15.120Z"
   },
   {
    "duration": 8,
    "start_time": "2022-03-18T03:45:22.408Z"
   },
   {
    "duration": 30,
    "start_time": "2022-03-18T03:49:59.116Z"
   },
   {
    "duration": 32,
    "start_time": "2022-03-18T03:50:26.095Z"
   },
   {
    "duration": 30,
    "start_time": "2022-03-18T03:50:36.224Z"
   },
   {
    "duration": 9,
    "start_time": "2022-03-18T03:51:07.164Z"
   },
   {
    "duration": 19,
    "start_time": "2022-03-18T03:52:49.336Z"
   },
   {
    "duration": 22,
    "start_time": "2022-03-18T03:53:42.910Z"
   },
   {
    "duration": 39,
    "start_time": "2022-03-18T03:55:43.264Z"
   },
   {
    "duration": 8,
    "start_time": "2022-03-18T04:05:44.605Z"
   },
   {
    "duration": 10,
    "start_time": "2022-03-18T04:06:14.903Z"
   },
   {
    "duration": 10,
    "start_time": "2022-03-18T04:06:28.515Z"
   },
   {
    "duration": 12,
    "start_time": "2022-03-18T04:07:21.507Z"
   },
   {
    "duration": 47,
    "start_time": "2022-03-18T04:07:51.247Z"
   },
   {
    "duration": 63,
    "start_time": "2022-03-18T04:08:01.846Z"
   },
   {
    "duration": 10,
    "start_time": "2022-03-18T04:08:57.768Z"
   },
   {
    "duration": 27,
    "start_time": "2022-03-18T04:16:19.595Z"
   },
   {
    "duration": 28,
    "start_time": "2022-03-18T04:26:17.363Z"
   },
   {
    "duration": 15,
    "start_time": "2022-03-18T04:27:08.702Z"
   },
   {
    "duration": 28,
    "start_time": "2022-03-18T04:27:14.644Z"
   },
   {
    "duration": 27,
    "start_time": "2022-03-18T04:27:50.061Z"
   },
   {
    "duration": 28,
    "start_time": "2022-03-18T04:27:55.526Z"
   },
   {
    "duration": 30,
    "start_time": "2022-03-18T04:29:03.220Z"
   },
   {
    "duration": 9,
    "start_time": "2022-03-18T04:51:49.290Z"
   },
   {
    "duration": 9,
    "start_time": "2022-03-18T04:52:25.747Z"
   },
   {
    "duration": 14,
    "start_time": "2022-03-18T04:52:43.524Z"
   },
   {
    "duration": 27,
    "start_time": "2022-03-18T04:54:26.124Z"
   },
   {
    "duration": 30,
    "start_time": "2022-03-18T04:54:57.907Z"
   },
   {
    "duration": 28,
    "start_time": "2022-03-18T04:55:08.867Z"
   },
   {
    "duration": 14,
    "start_time": "2022-03-18T04:56:42.604Z"
   },
   {
    "duration": 15,
    "start_time": "2022-03-18T04:58:21.533Z"
   },
   {
    "duration": 16,
    "start_time": "2022-03-18T05:01:47.372Z"
   },
   {
    "duration": 13,
    "start_time": "2022-03-18T05:02:16.407Z"
   },
   {
    "duration": 13,
    "start_time": "2022-03-18T05:02:28.695Z"
   },
   {
    "duration": 15,
    "start_time": "2022-03-18T05:02:51.417Z"
   },
   {
    "duration": 189,
    "start_time": "2022-03-18T05:04:47.437Z"
   },
   {
    "duration": 149,
    "start_time": "2022-03-18T05:04:47.629Z"
   },
   {
    "duration": 12,
    "start_time": "2022-03-18T05:04:47.780Z"
   },
   {
    "duration": 4,
    "start_time": "2022-03-18T05:04:47.795Z"
   },
   {
    "duration": 6,
    "start_time": "2022-03-18T05:04:47.802Z"
   },
   {
    "duration": 19,
    "start_time": "2022-03-18T05:04:47.810Z"
   },
   {
    "duration": 47,
    "start_time": "2022-03-18T05:04:47.831Z"
   },
   {
    "duration": 8,
    "start_time": "2022-03-18T05:04:47.880Z"
   },
   {
    "duration": 36,
    "start_time": "2022-03-18T05:04:47.890Z"
   },
   {
    "duration": 10,
    "start_time": "2022-03-18T05:04:47.928Z"
   },
   {
    "duration": 12,
    "start_time": "2022-03-18T05:04:59.365Z"
   },
   {
    "duration": 15,
    "start_time": "2022-03-18T05:05:14.277Z"
   },
   {
    "duration": 16,
    "start_time": "2022-03-18T05:05:20.559Z"
   },
   {
    "duration": 926,
    "start_time": "2022-03-18T05:07:49.740Z"
   },
   {
    "duration": 29,
    "start_time": "2022-03-18T05:07:57.917Z"
   },
   {
    "duration": 27,
    "start_time": "2022-03-18T05:08:08.302Z"
   },
   {
    "duration": 29,
    "start_time": "2022-03-18T05:08:13.932Z"
   },
   {
    "duration": 21,
    "start_time": "2022-03-18T05:08:28.982Z"
   },
   {
    "duration": 20,
    "start_time": "2022-03-18T05:08:47.717Z"
   },
   {
    "duration": 22,
    "start_time": "2022-03-18T05:12:35.715Z"
   },
   {
    "duration": 14,
    "start_time": "2022-03-18T05:13:20.776Z"
   },
   {
    "duration": 14,
    "start_time": "2022-03-18T05:38:13.474Z"
   },
   {
    "duration": 30,
    "start_time": "2022-03-18T05:38:49.395Z"
   },
   {
    "duration": 11,
    "start_time": "2022-03-18T05:50:43.298Z"
   },
   {
    "duration": 21,
    "start_time": "2022-03-18T05:50:50.099Z"
   },
   {
    "duration": 21,
    "start_time": "2022-03-18T05:51:12.898Z"
   },
   {
    "duration": 10,
    "start_time": "2022-03-18T05:51:21.978Z"
   },
   {
    "duration": 19,
    "start_time": "2022-03-18T05:51:31.933Z"
   },
   {
    "duration": 9,
    "start_time": "2022-03-18T05:52:20.858Z"
   },
   {
    "duration": 22,
    "start_time": "2022-03-18T05:52:49.314Z"
   },
   {
    "duration": 16,
    "start_time": "2022-03-18T05:54:39.708Z"
   },
   {
    "duration": 10,
    "start_time": "2022-03-18T05:55:03.885Z"
   },
   {
    "duration": 21,
    "start_time": "2022-03-18T05:55:29.730Z"
   },
   {
    "duration": 58,
    "start_time": "2022-03-18T05:55:50.626Z"
   },
   {
    "duration": 27,
    "start_time": "2022-03-18T05:57:38.970Z"
   },
   {
    "duration": 48,
    "start_time": "2022-03-18T05:58:22.225Z"
   },
   {
    "duration": 36,
    "start_time": "2022-03-18T05:59:56.380Z"
   },
   {
    "duration": 21,
    "start_time": "2022-03-18T06:03:44.900Z"
   },
   {
    "duration": 12,
    "start_time": "2022-03-18T06:04:15.078Z"
   },
   {
    "duration": 44,
    "start_time": "2022-03-18T06:07:22.617Z"
   },
   {
    "duration": 90,
    "start_time": "2022-03-18T06:13:58.325Z"
   },
   {
    "duration": 32,
    "start_time": "2022-03-18T06:14:37.434Z"
   },
   {
    "duration": 5,
    "start_time": "2022-03-18T06:16:12.352Z"
   },
   {
    "duration": 32,
    "start_time": "2022-03-18T06:16:22.889Z"
   },
   {
    "duration": 31,
    "start_time": "2022-03-18T06:17:10.839Z"
   },
   {
    "duration": 33,
    "start_time": "2022-03-18T06:17:24.191Z"
   },
   {
    "duration": 4,
    "start_time": "2022-03-18T06:27:50.415Z"
   },
   {
    "duration": 158,
    "start_time": "2022-03-18T06:28:47.919Z"
   },
   {
    "duration": 10,
    "start_time": "2022-03-18T06:28:52.816Z"
   },
   {
    "duration": 10,
    "start_time": "2022-03-18T06:28:58.414Z"
   },
   {
    "duration": 16,
    "start_time": "2022-03-18T06:29:04.280Z"
   },
   {
    "duration": 10,
    "start_time": "2022-03-18T06:29:20.105Z"
   },
   {
    "duration": 17,
    "start_time": "2022-03-18T06:29:24.376Z"
   },
   {
    "duration": 32,
    "start_time": "2022-03-18T06:30:39.848Z"
   },
   {
    "duration": 37,
    "start_time": "2022-03-18T06:30:55.855Z"
   },
   {
    "duration": 30,
    "start_time": "2022-03-18T06:31:12.726Z"
   },
   {
    "duration": 26,
    "start_time": "2022-03-18T06:31:42.328Z"
   },
   {
    "duration": 32,
    "start_time": "2022-03-18T06:31:47.343Z"
   },
   {
    "duration": 29,
    "start_time": "2022-03-18T06:32:15.537Z"
   },
   {
    "duration": 34,
    "start_time": "2022-03-18T06:32:34.520Z"
   },
   {
    "duration": 33,
    "start_time": "2022-03-18T06:32:56.863Z"
   },
   {
    "duration": 734,
    "start_time": "2022-03-18T06:34:11.264Z"
   },
   {
    "duration": 32,
    "start_time": "2022-03-18T06:34:43.422Z"
   },
   {
    "duration": 18,
    "start_time": "2022-03-18T06:35:00.737Z"
   },
   {
    "duration": 30,
    "start_time": "2022-03-18T06:35:20.936Z"
   },
   {
    "duration": 10,
    "start_time": "2022-03-18T06:36:15.976Z"
   },
   {
    "duration": 21,
    "start_time": "2022-03-18T06:37:11.135Z"
   },
   {
    "duration": 19,
    "start_time": "2022-03-18T06:37:15.743Z"
   },
   {
    "duration": 161,
    "start_time": "2022-03-18T06:38:03.531Z"
   },
   {
    "duration": 12,
    "start_time": "2022-03-18T06:39:35.295Z"
   },
   {
    "duration": 17,
    "start_time": "2022-03-18T06:39:41.402Z"
   },
   {
    "duration": 59,
    "start_time": "2022-03-18T06:45:10.520Z"
   },
   {
    "duration": 10,
    "start_time": "2022-03-18T06:45:21.695Z"
   },
   {
    "duration": 8,
    "start_time": "2022-03-18T06:46:41.487Z"
   },
   {
    "duration": 8,
    "start_time": "2022-03-18T06:47:07.048Z"
   },
   {
    "duration": 10,
    "start_time": "2022-03-18T06:48:38.697Z"
   },
   {
    "duration": 3,
    "start_time": "2022-03-18T06:48:46.344Z"
   },
   {
    "duration": 10,
    "start_time": "2022-03-18T06:56:58.815Z"
   },
   {
    "duration": 10,
    "start_time": "2022-03-18T06:57:14.971Z"
   },
   {
    "duration": 33,
    "start_time": "2022-03-18T06:59:39.747Z"
   },
   {
    "duration": 12,
    "start_time": "2022-03-18T06:59:55.830Z"
   },
   {
    "duration": 28,
    "start_time": "2022-03-18T07:00:05.623Z"
   },
   {
    "duration": 16,
    "start_time": "2022-03-18T07:00:45.072Z"
   },
   {
    "duration": 51,
    "start_time": "2022-03-18T07:01:11.207Z"
   },
   {
    "duration": 7,
    "start_time": "2022-03-18T07:02:26.587Z"
   },
   {
    "duration": 28,
    "start_time": "2022-03-18T07:02:32.193Z"
   },
   {
    "duration": 17,
    "start_time": "2022-03-18T07:03:11.195Z"
   },
   {
    "duration": 6,
    "start_time": "2022-03-18T07:03:21.943Z"
   },
   {
    "duration": 12,
    "start_time": "2022-03-18T07:05:39.942Z"
   },
   {
    "duration": 15,
    "start_time": "2022-03-18T07:06:03.551Z"
   },
   {
    "duration": 7,
    "start_time": "2022-03-18T07:14:25.983Z"
   },
   {
    "duration": 3,
    "start_time": "2022-03-18T07:15:01.749Z"
   },
   {
    "duration": 10,
    "start_time": "2022-03-18T07:16:36.502Z"
   },
   {
    "duration": 55,
    "start_time": "2022-03-18T07:16:58.074Z"
   },
   {
    "duration": 89,
    "start_time": "2022-03-18T07:18:10.208Z"
   },
   {
    "duration": 71,
    "start_time": "2022-03-18T07:19:29.409Z"
   },
   {
    "duration": 91,
    "start_time": "2022-03-18T07:20:16.152Z"
   },
   {
    "duration": 13,
    "start_time": "2022-03-18T07:27:23.185Z"
   },
   {
    "duration": 98,
    "start_time": "2022-03-18T07:30:25.555Z"
   },
   {
    "duration": 8,
    "start_time": "2022-03-18T07:30:34.670Z"
   },
   {
    "duration": 6,
    "start_time": "2022-03-18T07:31:29.120Z"
   },
   {
    "duration": 11,
    "start_time": "2022-03-18T07:31:47.088Z"
   },
   {
    "duration": 23,
    "start_time": "2022-03-18T07:32:25.061Z"
   },
   {
    "duration": 11,
    "start_time": "2022-03-18T07:33:03.349Z"
   },
   {
    "duration": 15,
    "start_time": "2022-03-18T07:33:20.182Z"
   },
   {
    "duration": 6,
    "start_time": "2022-03-18T07:33:32.605Z"
   },
   {
    "duration": 8,
    "start_time": "2022-03-18T07:33:48.463Z"
   },
   {
    "duration": 6,
    "start_time": "2022-03-18T07:35:36.761Z"
   },
   {
    "duration": 6,
    "start_time": "2022-03-18T07:36:47.743Z"
   },
   {
    "duration": 7,
    "start_time": "2022-03-18T07:38:12.608Z"
   },
   {
    "duration": 17,
    "start_time": "2022-03-18T07:39:10.741Z"
   },
   {
    "duration": 16,
    "start_time": "2022-03-18T07:41:26.887Z"
   },
   {
    "duration": 50,
    "start_time": "2022-03-18T07:42:00.609Z"
   },
   {
    "duration": 13,
    "start_time": "2022-03-18T07:46:01.637Z"
   },
   {
    "duration": 14,
    "start_time": "2022-03-18T07:46:15.585Z"
   },
   {
    "duration": 839,
    "start_time": "2022-03-18T07:46:23.441Z"
   },
   {
    "duration": 14,
    "start_time": "2022-03-18T07:46:39.662Z"
   },
   {
    "duration": 10,
    "start_time": "2022-03-18T07:46:47.557Z"
   },
   {
    "duration": 14,
    "start_time": "2022-03-18T07:47:01.345Z"
   },
   {
    "duration": 54,
    "start_time": "2022-03-18T07:47:20.301Z"
   },
   {
    "duration": 11,
    "start_time": "2022-03-18T07:48:06.103Z"
   },
   {
    "duration": 6,
    "start_time": "2022-03-18T07:48:16.053Z"
   },
   {
    "duration": 5,
    "start_time": "2022-03-18T07:50:38.767Z"
   },
   {
    "duration": 8,
    "start_time": "2022-03-18T07:50:42.584Z"
   },
   {
    "duration": 5,
    "start_time": "2022-03-18T07:50:47.672Z"
   },
   {
    "duration": 7,
    "start_time": "2022-03-18T07:51:44.465Z"
   },
   {
    "duration": 51,
    "start_time": "2022-03-18T07:52:33.984Z"
   },
   {
    "duration": 54,
    "start_time": "2022-03-18T07:53:20.432Z"
   },
   {
    "duration": 55,
    "start_time": "2022-03-18T07:55:54.400Z"
   },
   {
    "duration": 10,
    "start_time": "2022-03-18T08:14:39.417Z"
   },
   {
    "duration": 6,
    "start_time": "2022-03-18T08:15:20.015Z"
   },
   {
    "duration": 8,
    "start_time": "2022-03-18T08:18:36.102Z"
   },
   {
    "duration": 89,
    "start_time": "2022-03-18T08:19:35.257Z"
   },
   {
    "duration": 24,
    "start_time": "2022-03-18T08:27:18.755Z"
   },
   {
    "duration": 6,
    "start_time": "2022-03-18T08:29:39.014Z"
   },
   {
    "duration": 7,
    "start_time": "2022-03-18T08:29:45.396Z"
   },
   {
    "duration": 7,
    "start_time": "2022-03-18T08:30:23.749Z"
   },
   {
    "duration": 7,
    "start_time": "2022-03-18T08:36:47.371Z"
   },
   {
    "duration": 11,
    "start_time": "2022-03-18T08:36:56.810Z"
   },
   {
    "duration": 6,
    "start_time": "2022-03-18T08:37:04.265Z"
   },
   {
    "duration": 10,
    "start_time": "2022-03-18T08:38:45.407Z"
   },
   {
    "duration": 7,
    "start_time": "2022-03-18T08:40:29.912Z"
   },
   {
    "duration": 46,
    "start_time": "2022-03-18T08:42:40.695Z"
   },
   {
    "duration": 26,
    "start_time": "2022-03-18T08:42:59.694Z"
   },
   {
    "duration": 26,
    "start_time": "2022-03-18T08:48:04.821Z"
   },
   {
    "duration": 10,
    "start_time": "2022-03-18T08:49:03.525Z"
   },
   {
    "duration": 1912,
    "start_time": "2022-03-18T08:52:55.165Z"
   },
   {
    "duration": 8,
    "start_time": "2022-03-18T08:53:54.782Z"
   },
   {
    "duration": 23,
    "start_time": "2022-03-18T08:55:17.645Z"
   },
   {
    "duration": 1899,
    "start_time": "2022-03-18T08:56:15.341Z"
   },
   {
    "duration": 8,
    "start_time": "2022-03-18T08:56:24.825Z"
   },
   {
    "duration": 52,
    "start_time": "2022-03-18T08:56:49.933Z"
   },
   {
    "duration": 9,
    "start_time": "2022-03-18T09:05:00.247Z"
   },
   {
    "duration": 8,
    "start_time": "2022-03-18T09:05:21.030Z"
   },
   {
    "duration": 7,
    "start_time": "2022-03-18T09:06:42.862Z"
   },
   {
    "duration": 52,
    "start_time": "2022-03-18T09:08:05.655Z"
   },
   {
    "duration": 5,
    "start_time": "2022-03-18T09:09:14.860Z"
   },
   {
    "duration": 13,
    "start_time": "2022-03-18T09:09:37.580Z"
   },
   {
    "duration": 4,
    "start_time": "2022-03-18T09:10:06.845Z"
   },
   {
    "duration": 6,
    "start_time": "2022-03-18T09:13:14.303Z"
   },
   {
    "duration": 6,
    "start_time": "2022-03-18T09:13:55.020Z"
   },
   {
    "duration": 15,
    "start_time": "2022-03-18T09:15:10.995Z"
   },
   {
    "duration": 9,
    "start_time": "2022-03-18T09:16:13.241Z"
   },
   {
    "duration": 8,
    "start_time": "2022-03-18T09:16:41.348Z"
   },
   {
    "duration": 9,
    "start_time": "2022-03-18T09:16:47.664Z"
   },
   {
    "duration": 6,
    "start_time": "2022-03-18T09:16:51.317Z"
   },
   {
    "duration": 7,
    "start_time": "2022-03-18T09:17:41.963Z"
   },
   {
    "duration": 20,
    "start_time": "2022-03-18T09:17:57.627Z"
   },
   {
    "duration": 7,
    "start_time": "2022-03-18T09:18:03.442Z"
   },
   {
    "duration": 9,
    "start_time": "2022-03-18T09:19:14.388Z"
   },
   {
    "duration": 6,
    "start_time": "2022-03-18T09:20:21.857Z"
   },
   {
    "duration": 6,
    "start_time": "2022-03-18T09:21:13.787Z"
   },
   {
    "duration": 15,
    "start_time": "2022-03-18T09:21:27.898Z"
   },
   {
    "duration": 8,
    "start_time": "2022-03-18T09:22:06.538Z"
   },
   {
    "duration": 17,
    "start_time": "2022-03-18T09:22:59.852Z"
   },
   {
    "duration": 9,
    "start_time": "2022-03-18T09:23:24.275Z"
   },
   {
    "duration": 7,
    "start_time": "2022-03-18T09:25:24.955Z"
   },
   {
    "duration": 8,
    "start_time": "2022-03-18T09:28:59.308Z"
   },
   {
    "duration": 28,
    "start_time": "2022-03-18T09:30:11.746Z"
   },
   {
    "duration": 6,
    "start_time": "2022-03-18T09:33:00.619Z"
   },
   {
    "duration": 53,
    "start_time": "2022-03-18T09:33:50.283Z"
   },
   {
    "duration": 5,
    "start_time": "2022-03-18T09:35:56.226Z"
   },
   {
    "duration": 193,
    "start_time": "2022-03-18T09:36:04.116Z"
   },
   {
    "duration": 176,
    "start_time": "2022-03-18T09:36:04.311Z"
   },
   {
    "duration": 11,
    "start_time": "2022-03-18T09:36:04.490Z"
   },
   {
    "duration": 5,
    "start_time": "2022-03-18T09:36:04.503Z"
   },
   {
    "duration": 8,
    "start_time": "2022-03-18T09:36:04.511Z"
   },
   {
    "duration": 64,
    "start_time": "2022-03-18T09:36:04.521Z"
   },
   {
    "duration": 5,
    "start_time": "2022-03-18T09:36:04.588Z"
   },
   {
    "duration": 10,
    "start_time": "2022-03-18T09:36:04.595Z"
   },
   {
    "duration": 72,
    "start_time": "2022-03-18T09:36:04.607Z"
   },
   {
    "duration": 11,
    "start_time": "2022-03-18T09:36:04.681Z"
   },
   {
    "duration": 14,
    "start_time": "2022-03-18T09:36:04.695Z"
   },
   {
    "duration": 9,
    "start_time": "2022-03-18T09:36:04.711Z"
   },
   {
    "duration": 65,
    "start_time": "2022-03-18T09:36:04.723Z"
   },
   {
    "duration": 7,
    "start_time": "2022-03-18T09:36:04.792Z"
   },
   {
    "duration": 8,
    "start_time": "2022-03-18T09:36:04.801Z"
   },
   {
    "duration": 13,
    "start_time": "2022-03-18T09:36:04.811Z"
   },
   {
    "duration": 8,
    "start_time": "2022-03-18T09:36:04.826Z"
   },
   {
    "duration": 41,
    "start_time": "2022-03-18T09:36:04.836Z"
   },
   {
    "duration": 5,
    "start_time": "2022-03-18T09:36:04.880Z"
   },
   {
    "duration": 8,
    "start_time": "2022-03-18T09:36:04.888Z"
   },
   {
    "duration": 13,
    "start_time": "2022-03-18T09:36:04.899Z"
   },
   {
    "duration": 18,
    "start_time": "2022-03-18T09:36:04.915Z"
   },
   {
    "duration": 40,
    "start_time": "2022-03-18T09:36:04.935Z"
   },
   {
    "duration": 9,
    "start_time": "2022-03-18T09:36:04.978Z"
   },
   {
    "duration": 26,
    "start_time": "2022-03-18T09:36:04.990Z"
   },
   {
    "duration": 7,
    "start_time": "2022-03-18T09:36:05.019Z"
   },
   {
    "duration": 47,
    "start_time": "2022-03-18T09:36:05.028Z"
   },
   {
    "duration": 7,
    "start_time": "2022-03-18T09:36:05.077Z"
   },
   {
    "duration": 17,
    "start_time": "2022-03-18T09:36:05.086Z"
   },
   {
    "duration": 18,
    "start_time": "2022-03-18T09:36:05.105Z"
   },
   {
    "duration": 7,
    "start_time": "2022-03-18T09:36:05.126Z"
   },
   {
    "duration": 11,
    "start_time": "2022-03-18T09:36:05.135Z"
   },
   {
    "duration": 30,
    "start_time": "2022-03-18T09:36:05.148Z"
   },
   {
    "duration": 6,
    "start_time": "2022-03-18T09:36:05.181Z"
   },
   {
    "duration": 13,
    "start_time": "2022-03-18T09:36:05.189Z"
   },
   {
    "duration": 8,
    "start_time": "2022-03-18T09:36:05.204Z"
   },
   {
    "duration": 8,
    "start_time": "2022-03-18T09:36:05.214Z"
   },
   {
    "duration": 19,
    "start_time": "2022-03-18T09:36:12.875Z"
   },
   {
    "duration": 15,
    "start_time": "2022-03-18T09:38:14.356Z"
   },
   {
    "duration": 29,
    "start_time": "2022-03-18T09:56:26.184Z"
   },
   {
    "duration": 33,
    "start_time": "2022-03-18T10:27:06.104Z"
   },
   {
    "duration": 6,
    "start_time": "2022-03-18T10:28:27.743Z"
   },
   {
    "duration": 35,
    "start_time": "2022-03-18T10:31:42.638Z"
   },
   {
    "duration": 40,
    "start_time": "2022-03-18T10:32:34.193Z"
   },
   {
    "duration": 44,
    "start_time": "2022-03-18T10:33:42.218Z"
   },
   {
    "duration": 91,
    "start_time": "2022-03-18T10:56:06.939Z"
   },
   {
    "duration": 453,
    "start_time": "2022-03-18T10:56:34.480Z"
   },
   {
    "duration": 1976,
    "start_time": "2022-03-18T11:00:05.639Z"
   },
   {
    "duration": 137,
    "start_time": "2022-03-18T11:00:24.280Z"
   },
   {
    "duration": 598,
    "start_time": "2022-03-18T11:00:44.267Z"
   },
   {
    "duration": 495,
    "start_time": "2022-03-18T11:01:17.054Z"
   },
   {
    "duration": 585,
    "start_time": "2022-03-18T11:01:41.353Z"
   },
   {
    "duration": 720,
    "start_time": "2022-03-18T11:02:06.172Z"
   },
   {
    "duration": 17,
    "start_time": "2022-03-18T11:02:24.466Z"
   },
   {
    "duration": 36,
    "start_time": "2022-03-18T11:06:18.712Z"
   },
   {
    "duration": 37,
    "start_time": "2022-03-18T11:08:46.769Z"
   },
   {
    "duration": 7,
    "start_time": "2022-03-18T11:09:40.544Z"
   },
   {
    "duration": 42,
    "start_time": "2022-03-18T11:11:12.369Z"
   },
   {
    "duration": 842,
    "start_time": "2022-03-18T11:25:13.913Z"
   },
   {
    "duration": 367,
    "start_time": "2022-03-18T11:25:26.594Z"
   },
   {
    "duration": 390,
    "start_time": "2022-03-18T11:25:50.393Z"
   },
   {
    "duration": 281,
    "start_time": "2022-03-18T11:26:40.145Z"
   },
   {
    "duration": 468,
    "start_time": "2022-03-18T11:27:13.793Z"
   },
   {
    "duration": 366,
    "start_time": "2022-03-18T11:28:34.418Z"
   },
   {
    "duration": 430,
    "start_time": "2022-03-18T11:29:38.858Z"
   },
   {
    "duration": 220,
    "start_time": "2022-03-18T11:29:57.184Z"
   },
   {
    "duration": 2277,
    "start_time": "2022-03-18T11:30:34.139Z"
   },
   {
    "duration": 219,
    "start_time": "2022-03-18T11:30:46.097Z"
   },
   {
    "duration": 274,
    "start_time": "2022-03-18T11:31:54.665Z"
   },
   {
    "duration": 600,
    "start_time": "2022-03-18T11:32:00.337Z"
   },
   {
    "duration": 2510,
    "start_time": "2022-03-18T11:32:14.088Z"
   },
   {
    "duration": 2542,
    "start_time": "2022-03-18T11:33:01.040Z"
   },
   {
    "duration": 2426,
    "start_time": "2022-03-18T11:33:08.747Z"
   },
   {
    "duration": 2552,
    "start_time": "2022-03-18T11:33:36.802Z"
   },
   {
    "duration": 534,
    "start_time": "2022-03-18T11:34:59.911Z"
   },
   {
    "duration": 3408,
    "start_time": "2022-03-18T11:35:05.737Z"
   },
   {
    "duration": 1681,
    "start_time": "2022-03-18T11:35:27.481Z"
   },
   {
    "duration": 1349,
    "start_time": "2022-03-18T11:35:33.461Z"
   },
   {
    "duration": 1280,
    "start_time": "2022-03-18T11:35:54.064Z"
   },
   {
    "duration": 1928,
    "start_time": "2022-03-18T11:36:07.178Z"
   },
   {
    "duration": 1311,
    "start_time": "2022-03-18T11:36:23.529Z"
   },
   {
    "duration": 1361,
    "start_time": "2022-03-18T11:37:12.982Z"
   },
   {
    "duration": 508,
    "start_time": "2022-03-18T11:37:33.858Z"
   },
   {
    "duration": 302,
    "start_time": "2022-03-18T11:37:50.226Z"
   },
   {
    "duration": 338,
    "start_time": "2022-03-18T11:37:56.487Z"
   },
   {
    "duration": 363,
    "start_time": "2022-03-18T11:38:00.932Z"
   },
   {
    "duration": 331,
    "start_time": "2022-03-18T11:38:07.442Z"
   },
   {
    "duration": 316,
    "start_time": "2022-03-18T11:38:34.272Z"
   },
   {
    "duration": 325,
    "start_time": "2022-03-18T11:38:39.515Z"
   },
   {
    "duration": 351,
    "start_time": "2022-03-18T11:38:42.657Z"
   },
   {
    "duration": 341,
    "start_time": "2022-03-18T11:38:48.752Z"
   },
   {
    "duration": 335,
    "start_time": "2022-03-18T11:39:18.914Z"
   },
   {
    "duration": 321,
    "start_time": "2022-03-18T11:39:27.601Z"
   },
   {
    "duration": 330,
    "start_time": "2022-03-18T11:39:43.120Z"
   },
   {
    "duration": 398,
    "start_time": "2022-03-18T11:39:52.330Z"
   },
   {
    "duration": 811,
    "start_time": "2022-03-18T11:40:03.542Z"
   },
   {
    "duration": 310,
    "start_time": "2022-03-18T11:40:11.633Z"
   },
   {
    "duration": 408,
    "start_time": "2022-03-18T11:40:28.024Z"
   },
   {
    "duration": 508,
    "start_time": "2022-03-18T11:40:44.464Z"
   },
   {
    "duration": 324,
    "start_time": "2022-03-18T11:40:59.522Z"
   },
   {
    "duration": 257,
    "start_time": "2022-03-18T11:41:08.537Z"
   },
   {
    "duration": 291,
    "start_time": "2022-03-18T11:41:14.085Z"
   },
   {
    "duration": 281,
    "start_time": "2022-03-18T11:41:29.561Z"
   },
   {
    "duration": 332,
    "start_time": "2022-03-18T11:41:35.121Z"
   },
   {
    "duration": 264,
    "start_time": "2022-03-18T11:41:47.033Z"
   },
   {
    "duration": 1288,
    "start_time": "2022-03-18T11:42:37.825Z"
   },
   {
    "duration": 394,
    "start_time": "2022-03-18T11:42:52.279Z"
   },
   {
    "duration": 301,
    "start_time": "2022-03-18T11:43:04.806Z"
   },
   {
    "duration": 335,
    "start_time": "2022-03-18T11:43:13.358Z"
   },
   {
    "duration": 372,
    "start_time": "2022-03-18T11:43:33.376Z"
   },
   {
    "duration": 461,
    "start_time": "2022-03-18T11:43:44.862Z"
   },
   {
    "duration": 1281,
    "start_time": "2022-03-18T11:43:50.058Z"
   },
   {
    "duration": 683,
    "start_time": "2022-03-18T11:43:55.905Z"
   },
   {
    "duration": 471,
    "start_time": "2022-03-18T11:44:01.822Z"
   },
   {
    "duration": 1837,
    "start_time": "2022-03-18T11:44:22.263Z"
   },
   {
    "duration": 1345,
    "start_time": "2022-03-18T11:44:36.491Z"
   },
   {
    "duration": 436,
    "start_time": "2022-03-18T11:44:46.905Z"
   },
   {
    "duration": 1357,
    "start_time": "2022-03-18T11:46:41.701Z"
   },
   {
    "duration": 1261,
    "start_time": "2022-03-18T11:51:49.689Z"
   },
   {
    "duration": 1462,
    "start_time": "2022-03-18T11:52:11.455Z"
   },
   {
    "duration": 1943,
    "start_time": "2022-03-18T11:53:52.430Z"
   },
   {
    "duration": 1440,
    "start_time": "2022-03-18T11:53:58.342Z"
   },
   {
    "duration": 1502,
    "start_time": "2022-03-18T11:54:13.990Z"
   },
   {
    "duration": 1325,
    "start_time": "2022-03-18T11:56:22.710Z"
   },
   {
    "duration": 442,
    "start_time": "2022-03-18T12:24:09.580Z"
   },
   {
    "duration": 436,
    "start_time": "2022-03-18T12:25:45.605Z"
   },
   {
    "duration": 1296,
    "start_time": "2022-03-18T12:26:49.165Z"
   },
   {
    "duration": 1308,
    "start_time": "2022-03-18T12:27:02.578Z"
   },
   {
    "duration": 429,
    "start_time": "2022-03-18T12:27:21.261Z"
   },
   {
    "duration": 208,
    "start_time": "2022-03-18T12:31:35.218Z"
   },
   {
    "duration": 196,
    "start_time": "2022-03-18T12:31:35.428Z"
   },
   {
    "duration": 15,
    "start_time": "2022-03-18T12:31:35.627Z"
   },
   {
    "duration": 30,
    "start_time": "2022-03-18T12:31:35.644Z"
   },
   {
    "duration": 20,
    "start_time": "2022-03-18T12:31:35.680Z"
   },
   {
    "duration": 23,
    "start_time": "2022-03-18T12:31:35.702Z"
   },
   {
    "duration": 5,
    "start_time": "2022-03-18T12:31:35.727Z"
   },
   {
    "duration": 11,
    "start_time": "2022-03-18T12:31:35.734Z"
   },
   {
    "duration": 61,
    "start_time": "2022-03-18T12:31:35.748Z"
   },
   {
    "duration": 10,
    "start_time": "2022-03-18T12:31:35.812Z"
   },
   {
    "duration": 19,
    "start_time": "2022-03-18T12:31:35.824Z"
   },
   {
    "duration": 42,
    "start_time": "2022-03-18T12:31:35.845Z"
   },
   {
    "duration": 17,
    "start_time": "2022-03-18T12:31:35.889Z"
   },
   {
    "duration": 7,
    "start_time": "2022-03-18T12:31:35.913Z"
   },
   {
    "duration": 6,
    "start_time": "2022-03-18T12:31:35.922Z"
   },
   {
    "duration": 43,
    "start_time": "2022-03-18T12:31:35.930Z"
   },
   {
    "duration": 8,
    "start_time": "2022-03-18T12:31:35.982Z"
   },
   {
    "duration": 10,
    "start_time": "2022-03-18T12:31:35.992Z"
   },
   {
    "duration": 11,
    "start_time": "2022-03-18T12:31:36.005Z"
   },
   {
    "duration": 9,
    "start_time": "2022-03-18T12:31:36.018Z"
   },
   {
    "duration": 7,
    "start_time": "2022-03-18T12:31:36.029Z"
   },
   {
    "duration": 36,
    "start_time": "2022-03-18T12:31:36.038Z"
   },
   {
    "duration": 15,
    "start_time": "2022-03-18T12:31:36.077Z"
   },
   {
    "duration": 10,
    "start_time": "2022-03-18T12:31:36.094Z"
   },
   {
    "duration": 34,
    "start_time": "2022-03-18T12:31:36.106Z"
   },
   {
    "duration": 8,
    "start_time": "2022-03-18T12:31:36.142Z"
   },
   {
    "duration": 8,
    "start_time": "2022-03-18T12:31:36.176Z"
   },
   {
    "duration": 25,
    "start_time": "2022-03-18T12:31:36.186Z"
   },
   {
    "duration": 22,
    "start_time": "2022-03-18T12:31:36.213Z"
   },
   {
    "duration": 11,
    "start_time": "2022-03-18T12:31:36.237Z"
   },
   {
    "duration": 7,
    "start_time": "2022-03-18T12:31:36.250Z"
   },
   {
    "duration": 22,
    "start_time": "2022-03-18T12:31:36.259Z"
   },
   {
    "duration": 19,
    "start_time": "2022-03-18T12:31:36.282Z"
   },
   {
    "duration": 7,
    "start_time": "2022-03-18T12:31:36.304Z"
   },
   {
    "duration": 10,
    "start_time": "2022-03-18T12:31:36.314Z"
   },
   {
    "duration": 13,
    "start_time": "2022-03-18T12:31:36.327Z"
   },
   {
    "duration": 33,
    "start_time": "2022-03-18T12:31:36.342Z"
   },
   {
    "duration": 29,
    "start_time": "2022-03-18T12:31:36.378Z"
   },
   {
    "duration": 13,
    "start_time": "2022-03-18T12:31:36.410Z"
   },
   {
    "duration": 66,
    "start_time": "2022-03-18T12:31:36.425Z"
   },
   {
    "duration": 6,
    "start_time": "2022-03-18T12:31:36.497Z"
   },
   {
    "duration": 21,
    "start_time": "2022-03-18T12:31:36.505Z"
   },
   {
    "duration": 528,
    "start_time": "2022-03-18T12:31:36.528Z"
   },
   {
    "duration": 7,
    "start_time": "2022-03-18T12:31:37.058Z"
   },
   {
    "duration": 51,
    "start_time": "2022-03-18T12:31:37.073Z"
   },
   {
    "duration": 2099,
    "start_time": "2022-03-18T12:31:37.127Z"
   },
   {
    "duration": 1312,
    "start_time": "2022-03-18T12:31:39.228Z"
   },
   {
    "duration": 288,
    "start_time": "2022-03-18T12:31:40.543Z"
   },
   {
    "duration": 448,
    "start_time": "2022-03-18T12:31:40.833Z"
   },
   {
    "duration": 11,
    "start_time": "2022-03-18T12:32:49.149Z"
   },
   {
    "duration": 1200,
    "start_time": "2022-03-18T12:34:15.679Z"
   },
   {
    "duration": 7,
    "start_time": "2022-03-18T12:35:15.965Z"
   },
   {
    "duration": 12,
    "start_time": "2022-03-18T12:35:27.006Z"
   },
   {
    "duration": 179,
    "start_time": "2022-03-18T12:35:56.504Z"
   },
   {
    "duration": 186,
    "start_time": "2022-03-18T12:36:36.222Z"
   },
   {
    "duration": 174,
    "start_time": "2022-03-18T12:36:45.192Z"
   },
   {
    "duration": 11,
    "start_time": "2022-03-18T12:36:48.895Z"
   },
   {
    "duration": 474,
    "start_time": "2022-03-18T12:37:38.791Z"
   },
   {
    "duration": 1935,
    "start_time": "2022-03-18T12:37:57.301Z"
   },
   {
    "duration": 1299,
    "start_time": "2022-03-18T12:38:34.500Z"
   },
   {
    "duration": 1267,
    "start_time": "2022-03-18T12:40:06.215Z"
   },
   {
    "duration": 645,
    "start_time": "2022-03-18T12:40:34.488Z"
   },
   {
    "duration": 629,
    "start_time": "2022-03-18T12:47:02.599Z"
   },
   {
    "duration": 693,
    "start_time": "2022-03-18T12:47:21.469Z"
   },
   {
    "duration": 35,
    "start_time": "2022-03-18T12:51:45.902Z"
   },
   {
    "duration": 51,
    "start_time": "2022-03-18T12:53:19.584Z"
   },
   {
    "duration": 75,
    "start_time": "2022-03-18T12:54:20.216Z"
   },
   {
    "duration": 79,
    "start_time": "2022-03-18T13:00:17.484Z"
   },
   {
    "duration": 314,
    "start_time": "2022-03-18T13:02:13.899Z"
   },
   {
    "duration": 365,
    "start_time": "2022-03-18T13:03:09.574Z"
   },
   {
    "duration": 391,
    "start_time": "2022-03-18T13:35:20.914Z"
   },
   {
    "duration": 439,
    "start_time": "2022-03-18T13:35:33.364Z"
   },
   {
    "duration": 162,
    "start_time": "2022-03-18T13:39:28.763Z"
   },
   {
    "duration": 5,
    "start_time": "2022-03-18T13:39:48.404Z"
   },
   {
    "duration": 6,
    "start_time": "2022-03-18T13:42:09.391Z"
   },
   {
    "duration": 18,
    "start_time": "2022-03-18T13:42:28.721Z"
   },
   {
    "duration": 22,
    "start_time": "2022-03-18T13:42:50.945Z"
   },
   {
    "duration": 350,
    "start_time": "2022-03-18T13:44:35.853Z"
   },
   {
    "duration": 10,
    "start_time": "2022-03-18T13:46:28.285Z"
   },
   {
    "duration": 24,
    "start_time": "2022-03-18T13:54:04.893Z"
   },
   {
    "duration": 30,
    "start_time": "2022-03-18T13:54:15.415Z"
   },
   {
    "duration": 23,
    "start_time": "2022-03-18T13:59:51.221Z"
   },
   {
    "duration": 19,
    "start_time": "2022-03-18T13:59:56.262Z"
   },
   {
    "duration": 20,
    "start_time": "2022-03-18T14:00:46.522Z"
   },
   {
    "duration": 14,
    "start_time": "2022-03-18T14:01:19.028Z"
   },
   {
    "duration": 15,
    "start_time": "2022-03-18T14:01:35.709Z"
   },
   {
    "duration": 13,
    "start_time": "2022-03-18T14:01:49.700Z"
   },
   {
    "duration": 314,
    "start_time": "2022-03-18T14:02:15.888Z"
   },
   {
    "duration": 3670,
    "start_time": "2022-03-18T14:04:07.733Z"
   },
   {
    "duration": 3425,
    "start_time": "2022-03-18T14:06:12.883Z"
   },
   {
    "duration": 218,
    "start_time": "2022-03-18T14:22:37.220Z"
   },
   {
    "duration": 181,
    "start_time": "2022-03-18T14:22:37.441Z"
   },
   {
    "duration": 14,
    "start_time": "2022-03-18T14:22:37.625Z"
   },
   {
    "duration": 15,
    "start_time": "2022-03-18T14:22:37.641Z"
   },
   {
    "duration": 37,
    "start_time": "2022-03-18T14:22:37.659Z"
   },
   {
    "duration": 23,
    "start_time": "2022-03-18T14:22:37.699Z"
   },
   {
    "duration": 6,
    "start_time": "2022-03-18T14:22:37.725Z"
   },
   {
    "duration": 12,
    "start_time": "2022-03-18T14:22:37.734Z"
   },
   {
    "duration": 47,
    "start_time": "2022-03-18T14:22:37.783Z"
   },
   {
    "duration": 16,
    "start_time": "2022-03-18T14:22:37.832Z"
   },
   {
    "duration": 45,
    "start_time": "2022-03-18T14:22:37.850Z"
   },
   {
    "duration": 11,
    "start_time": "2022-03-18T14:22:37.899Z"
   },
   {
    "duration": 16,
    "start_time": "2022-03-18T14:22:37.913Z"
   },
   {
    "duration": 42,
    "start_time": "2022-03-18T14:22:37.935Z"
   },
   {
    "duration": 7,
    "start_time": "2022-03-18T14:22:37.979Z"
   },
   {
    "duration": 19,
    "start_time": "2022-03-18T14:22:37.989Z"
   },
   {
    "duration": 8,
    "start_time": "2022-03-18T14:22:38.010Z"
   },
   {
    "duration": 10,
    "start_time": "2022-03-18T14:22:38.020Z"
   },
   {
    "duration": 47,
    "start_time": "2022-03-18T14:22:38.033Z"
   },
   {
    "duration": 8,
    "start_time": "2022-03-18T14:22:38.083Z"
   },
   {
    "duration": 12,
    "start_time": "2022-03-18T14:22:38.094Z"
   },
   {
    "duration": 13,
    "start_time": "2022-03-18T14:22:38.108Z"
   },
   {
    "duration": 16,
    "start_time": "2022-03-18T14:22:38.124Z"
   },
   {
    "duration": 43,
    "start_time": "2022-03-18T14:22:38.143Z"
   },
   {
    "duration": 29,
    "start_time": "2022-03-18T14:22:38.190Z"
   },
   {
    "duration": 8,
    "start_time": "2022-03-18T14:22:38.221Z"
   },
   {
    "duration": 50,
    "start_time": "2022-03-18T14:22:38.232Z"
   },
   {
    "duration": 9,
    "start_time": "2022-03-18T14:22:38.286Z"
   },
   {
    "duration": 21,
    "start_time": "2022-03-18T14:22:38.298Z"
   },
   {
    "duration": 10,
    "start_time": "2022-03-18T14:22:38.322Z"
   },
   {
    "duration": 8,
    "start_time": "2022-03-18T14:22:38.335Z"
   },
   {
    "duration": 32,
    "start_time": "2022-03-18T14:22:38.345Z"
   },
   {
    "duration": 15,
    "start_time": "2022-03-18T14:22:38.385Z"
   },
   {
    "duration": 6,
    "start_time": "2022-03-18T14:22:38.404Z"
   },
   {
    "duration": 9,
    "start_time": "2022-03-18T14:22:38.413Z"
   },
   {
    "duration": 10,
    "start_time": "2022-03-18T14:22:38.424Z"
   },
   {
    "duration": 9,
    "start_time": "2022-03-18T14:22:38.477Z"
   },
   {
    "duration": 28,
    "start_time": "2022-03-18T14:22:38.497Z"
   },
   {
    "duration": 18,
    "start_time": "2022-03-18T14:22:38.529Z"
   },
   {
    "duration": 76,
    "start_time": "2022-03-18T14:22:38.549Z"
   },
   {
    "duration": 5,
    "start_time": "2022-03-18T14:22:38.633Z"
   },
   {
    "duration": 45,
    "start_time": "2022-03-18T14:22:38.640Z"
   },
   {
    "duration": 562,
    "start_time": "2022-03-18T14:22:38.691Z"
   },
   {
    "duration": 21,
    "start_time": "2022-03-18T14:22:39.256Z"
   },
   {
    "duration": 59,
    "start_time": "2022-03-18T14:22:39.281Z"
   },
   {
    "duration": 2233,
    "start_time": "2022-03-18T14:22:39.344Z"
   },
   {
    "duration": 2003,
    "start_time": "2022-03-18T14:22:41.581Z"
   },
   {
    "duration": 300,
    "start_time": "2022-03-18T14:22:43.589Z"
   },
   {
    "duration": 633,
    "start_time": "2022-03-18T14:22:43.893Z"
   },
   {
    "duration": 822,
    "start_time": "2022-03-18T14:22:44.529Z"
   },
   {
    "duration": 97,
    "start_time": "2022-03-18T14:22:45.353Z"
   },
   {
    "duration": 416,
    "start_time": "2022-03-18T14:22:45.452Z"
   },
   {
    "duration": 22,
    "start_time": "2022-03-18T14:22:45.879Z"
   },
   {
    "duration": 7,
    "start_time": "2022-03-18T14:22:45.904Z"
   },
   {
    "duration": 10,
    "start_time": "2022-03-18T14:22:45.913Z"
   },
   {
    "duration": 49,
    "start_time": "2022-03-18T14:24:28.480Z"
   },
   {
    "duration": 62,
    "start_time": "2022-03-18T14:29:25.194Z"
   },
   {
    "duration": 48,
    "start_time": "2022-03-18T14:30:37.264Z"
   },
   {
    "duration": 41,
    "start_time": "2022-03-18T14:31:58.792Z"
   },
   {
    "duration": 44,
    "start_time": "2022-03-18T14:32:15.383Z"
   },
   {
    "duration": 26,
    "start_time": "2022-03-18T14:33:20.273Z"
   },
   {
    "duration": 47,
    "start_time": "2022-03-18T14:37:27.342Z"
   },
   {
    "duration": 57,
    "start_time": "2022-03-18T14:42:33.064Z"
   },
   {
    "duration": 22,
    "start_time": "2022-03-18T14:43:08.746Z"
   },
   {
    "duration": 24,
    "start_time": "2022-03-18T14:48:17.901Z"
   },
   {
    "duration": 23,
    "start_time": "2022-03-18T14:52:17.653Z"
   },
   {
    "duration": 27,
    "start_time": "2022-03-18T14:52:33.244Z"
   },
   {
    "duration": 25,
    "start_time": "2022-03-18T14:52:41.979Z"
   },
   {
    "duration": 26,
    "start_time": "2022-03-18T14:52:52.657Z"
   },
   {
    "duration": 17,
    "start_time": "2022-03-18T14:53:43.293Z"
   },
   {
    "duration": 17,
    "start_time": "2022-03-18T14:53:47.131Z"
   },
   {
    "duration": 44,
    "start_time": "2022-03-18T14:53:52.481Z"
   },
   {
    "duration": 44,
    "start_time": "2022-03-18T14:54:43.679Z"
   },
   {
    "duration": 41,
    "start_time": "2022-03-18T14:54:52.056Z"
   },
   {
    "duration": 19,
    "start_time": "2022-03-18T14:56:19.854Z"
   },
   {
    "duration": 25,
    "start_time": "2022-03-18T14:57:21.217Z"
   },
   {
    "duration": 17,
    "start_time": "2022-03-18T14:58:00.159Z"
   },
   {
    "duration": 20,
    "start_time": "2022-03-18T14:58:09.817Z"
   },
   {
    "duration": 24,
    "start_time": "2022-03-18T14:58:34.113Z"
   },
   {
    "duration": 40,
    "start_time": "2022-03-18T14:58:54.696Z"
   },
   {
    "duration": 168,
    "start_time": "2022-03-18T15:01:01.988Z"
   },
   {
    "duration": 28,
    "start_time": "2022-03-18T15:01:10.378Z"
   },
   {
    "duration": 48,
    "start_time": "2022-03-18T15:01:36.874Z"
   },
   {
    "duration": 20,
    "start_time": "2022-03-18T15:06:46.383Z"
   },
   {
    "duration": 18,
    "start_time": "2022-03-18T15:08:02.063Z"
   },
   {
    "duration": 41,
    "start_time": "2022-03-18T15:11:09.827Z"
   },
   {
    "duration": 40,
    "start_time": "2022-03-18T15:11:45.233Z"
   },
   {
    "duration": 51,
    "start_time": "2022-03-18T15:11:53.750Z"
   },
   {
    "duration": 32,
    "start_time": "2022-03-18T15:19:32.103Z"
   },
   {
    "duration": 59,
    "start_time": "2022-03-18T15:19:56.416Z"
   },
   {
    "duration": 54,
    "start_time": "2022-03-18T15:20:09.959Z"
   },
   {
    "duration": 436,
    "start_time": "2022-03-18T15:24:31.319Z"
   },
   {
    "duration": 38,
    "start_time": "2022-03-18T15:24:56.026Z"
   },
   {
    "duration": 35,
    "start_time": "2022-03-18T15:25:25.134Z"
   },
   {
    "duration": 35,
    "start_time": "2022-03-18T15:25:42.904Z"
   },
   {
    "duration": 37,
    "start_time": "2022-03-18T15:27:00.811Z"
   },
   {
    "duration": 38,
    "start_time": "2022-03-18T15:27:49.439Z"
   },
   {
    "duration": 31,
    "start_time": "2022-03-18T15:31:58.453Z"
   },
   {
    "duration": 10,
    "start_time": "2022-03-18T15:32:19.503Z"
   },
   {
    "duration": 9,
    "start_time": "2022-03-18T15:33:02.279Z"
   },
   {
    "duration": 10,
    "start_time": "2022-03-18T15:33:16.491Z"
   },
   {
    "duration": 43,
    "start_time": "2022-03-18T15:35:32.170Z"
   },
   {
    "duration": 36,
    "start_time": "2022-03-18T15:35:35.864Z"
   },
   {
    "duration": 49,
    "start_time": "2022-03-18T15:36:41.824Z"
   },
   {
    "duration": 1390,
    "start_time": "2022-03-19T01:50:39.593Z"
   },
   {
    "duration": 148,
    "start_time": "2022-03-19T01:50:40.986Z"
   },
   {
    "duration": 12,
    "start_time": "2022-03-19T01:50:41.143Z"
   },
   {
    "duration": 4,
    "start_time": "2022-03-19T01:50:41.159Z"
   },
   {
    "duration": 8,
    "start_time": "2022-03-19T01:50:41.165Z"
   },
   {
    "duration": 19,
    "start_time": "2022-03-19T01:50:41.175Z"
   },
   {
    "duration": 46,
    "start_time": "2022-03-19T01:50:41.196Z"
   },
   {
    "duration": 9,
    "start_time": "2022-03-19T01:50:41.245Z"
   },
   {
    "duration": 36,
    "start_time": "2022-03-19T01:50:41.256Z"
   },
   {
    "duration": 10,
    "start_time": "2022-03-19T01:50:41.296Z"
   },
   {
    "duration": 15,
    "start_time": "2022-03-19T01:50:41.344Z"
   },
   {
    "duration": 10,
    "start_time": "2022-03-19T01:50:41.361Z"
   },
   {
    "duration": 15,
    "start_time": "2022-03-19T01:50:41.373Z"
   },
   {
    "duration": 7,
    "start_time": "2022-03-19T01:50:41.390Z"
   },
   {
    "duration": 47,
    "start_time": "2022-03-19T01:50:41.399Z"
   },
   {
    "duration": 8,
    "start_time": "2022-03-19T01:50:41.448Z"
   },
   {
    "duration": 8,
    "start_time": "2022-03-19T01:50:41.458Z"
   },
   {
    "duration": 8,
    "start_time": "2022-03-19T01:50:41.468Z"
   },
   {
    "duration": 7,
    "start_time": "2022-03-19T01:50:41.478Z"
   },
   {
    "duration": 6,
    "start_time": "2022-03-19T01:50:41.488Z"
   },
   {
    "duration": 7,
    "start_time": "2022-03-19T01:50:41.544Z"
   },
   {
    "duration": 4,
    "start_time": "2022-03-19T01:50:41.553Z"
   },
   {
    "duration": 9,
    "start_time": "2022-03-19T01:50:41.559Z"
   },
   {
    "duration": 7,
    "start_time": "2022-03-19T01:50:41.571Z"
   },
   {
    "duration": 68,
    "start_time": "2022-03-19T01:50:41.581Z"
   },
   {
    "duration": 7,
    "start_time": "2022-03-19T01:50:41.652Z"
   },
   {
    "duration": 6,
    "start_time": "2022-03-19T01:50:41.661Z"
   },
   {
    "duration": 6,
    "start_time": "2022-03-19T01:50:41.673Z"
   },
   {
    "duration": 6,
    "start_time": "2022-03-19T01:50:41.681Z"
   },
   {
    "duration": 56,
    "start_time": "2022-03-19T01:50:41.689Z"
   },
   {
    "duration": 7,
    "start_time": "2022-03-19T01:50:41.747Z"
   },
   {
    "duration": 6,
    "start_time": "2022-03-19T01:50:41.756Z"
   },
   {
    "duration": 8,
    "start_time": "2022-03-19T01:50:41.765Z"
   },
   {
    "duration": 6,
    "start_time": "2022-03-19T01:50:41.775Z"
   },
   {
    "duration": 9,
    "start_time": "2022-03-19T01:50:41.783Z"
   },
   {
    "duration": 53,
    "start_time": "2022-03-19T01:50:41.794Z"
   },
   {
    "duration": 7,
    "start_time": "2022-03-19T01:50:41.849Z"
   },
   {
    "duration": 20,
    "start_time": "2022-03-19T01:50:41.858Z"
   },
   {
    "duration": 11,
    "start_time": "2022-03-19T01:50:41.880Z"
   },
   {
    "duration": 76,
    "start_time": "2022-03-19T01:50:41.894Z"
   },
   {
    "duration": 5,
    "start_time": "2022-03-19T01:50:41.972Z"
   },
   {
    "duration": 19,
    "start_time": "2022-03-19T01:50:41.979Z"
   },
   {
    "duration": 499,
    "start_time": "2022-03-19T01:50:42.000Z"
   },
   {
    "duration": 7,
    "start_time": "2022-03-19T01:50:42.501Z"
   },
   {
    "duration": 55,
    "start_time": "2022-03-19T01:50:42.510Z"
   },
   {
    "duration": 1209,
    "start_time": "2022-03-19T01:50:42.568Z"
   },
   {
    "duration": 1164,
    "start_time": "2022-03-19T01:50:43.780Z"
   },
   {
    "duration": 350,
    "start_time": "2022-03-19T01:50:44.947Z"
   },
   {
    "duration": 403,
    "start_time": "2022-03-19T01:50:45.299Z"
   },
   {
    "duration": 628,
    "start_time": "2022-03-19T01:50:45.705Z"
   },
   {
    "duration": 66,
    "start_time": "2022-03-19T01:50:46.343Z"
   },
   {
    "duration": 343,
    "start_time": "2022-03-19T01:50:46.412Z"
   },
   {
    "duration": 17,
    "start_time": "2022-03-19T01:50:46.757Z"
   },
   {
    "duration": 40,
    "start_time": "2022-03-19T01:50:46.776Z"
   },
   {
    "duration": 37,
    "start_time": "2022-03-19T01:50:46.818Z"
   },
   {
    "duration": 43,
    "start_time": "2022-03-19T01:50:46.857Z"
   },
   {
    "duration": 8,
    "start_time": "2022-03-19T01:50:46.902Z"
   },
   {
    "duration": 9,
    "start_time": "2022-03-19T01:50:46.943Z"
   },
   {
    "duration": 12,
    "start_time": "2022-03-19T02:22:03.801Z"
   },
   {
    "duration": 67,
    "start_time": "2022-03-19T02:22:12.778Z"
   },
   {
    "duration": 48,
    "start_time": "2022-03-19T02:23:57.601Z"
   },
   {
    "duration": 52,
    "start_time": "2022-03-19T02:25:06.934Z"
   },
   {
    "duration": 2958,
    "start_time": "2022-03-19T02:26:49.660Z"
   },
   {
    "duration": 46,
    "start_time": "2022-03-19T02:27:08.453Z"
   },
   {
    "duration": 26,
    "start_time": "2022-03-19T02:28:45.180Z"
   },
   {
    "duration": 1892,
    "start_time": "2022-03-19T02:28:59.098Z"
   },
   {
    "duration": 49,
    "start_time": "2022-03-19T02:29:14.453Z"
   },
   {
    "duration": 50,
    "start_time": "2022-03-19T02:29:31.235Z"
   },
   {
    "duration": 68,
    "start_time": "2022-03-19T02:29:49.284Z"
   },
   {
    "duration": 46,
    "start_time": "2022-03-19T02:32:45.259Z"
   },
   {
    "duration": 46,
    "start_time": "2022-03-19T02:34:04.202Z"
   },
   {
    "duration": 20,
    "start_time": "2022-03-19T02:35:22.076Z"
   },
   {
    "duration": 30,
    "start_time": "2022-03-19T02:36:40.274Z"
   },
   {
    "duration": 38,
    "start_time": "2022-03-19T02:38:00.768Z"
   },
   {
    "duration": 45,
    "start_time": "2022-03-19T02:38:16.976Z"
   },
   {
    "duration": 31,
    "start_time": "2022-03-19T02:41:43.585Z"
   },
   {
    "duration": 196,
    "start_time": "2022-03-19T02:45:19.123Z"
   },
   {
    "duration": 318,
    "start_time": "2022-03-19T02:45:27.868Z"
   },
   {
    "duration": 274,
    "start_time": "2022-03-19T02:49:58.600Z"
   },
   {
    "duration": 259,
    "start_time": "2022-03-19T02:50:21.313Z"
   },
   {
    "duration": 70,
    "start_time": "2022-03-19T03:13:57.446Z"
   },
   {
    "duration": 49,
    "start_time": "2022-03-19T03:14:05.229Z"
   },
   {
    "duration": 26,
    "start_time": "2022-03-19T03:14:28.542Z"
   },
   {
    "duration": 1273,
    "start_time": "2022-03-19T03:17:01.618Z"
   },
   {
    "duration": 1164,
    "start_time": "2022-03-19T03:22:02.979Z"
   },
   {
    "duration": 1281,
    "start_time": "2022-03-19T03:22:48.470Z"
   },
   {
    "duration": 589,
    "start_time": "2022-03-19T03:23:08.326Z"
   },
   {
    "duration": 587,
    "start_time": "2022-03-19T03:23:20.276Z"
   },
   {
    "duration": 803,
    "start_time": "2022-03-19T03:23:24.623Z"
   },
   {
    "duration": 579,
    "start_time": "2022-03-19T03:23:29.045Z"
   },
   {
    "duration": 592,
    "start_time": "2022-03-19T03:23:33.829Z"
   },
   {
    "duration": 218,
    "start_time": "2022-03-19T03:27:10.988Z"
   },
   {
    "duration": 395,
    "start_time": "2022-03-19T03:29:55.127Z"
   },
   {
    "duration": 411,
    "start_time": "2022-03-19T03:30:17.092Z"
   },
   {
    "duration": 620,
    "start_time": "2022-03-19T03:30:34.645Z"
   },
   {
    "duration": 16,
    "start_time": "2022-03-19T03:35:05.435Z"
   },
   {
    "duration": 36,
    "start_time": "2022-03-19T03:35:08.651Z"
   },
   {
    "duration": 14,
    "start_time": "2022-03-19T03:35:11.260Z"
   },
   {
    "duration": 37,
    "start_time": "2022-03-19T03:42:23.886Z"
   },
   {
    "duration": 15,
    "start_time": "2022-03-19T03:47:35.300Z"
   },
   {
    "duration": 248,
    "start_time": "2022-03-19T04:54:59.100Z"
   },
   {
    "duration": 160,
    "start_time": "2022-03-19T04:54:59.351Z"
   },
   {
    "duration": 30,
    "start_time": "2022-03-19T04:54:59.513Z"
   },
   {
    "duration": 5,
    "start_time": "2022-03-19T04:54:59.548Z"
   },
   {
    "duration": 7,
    "start_time": "2022-03-19T04:54:59.556Z"
   },
   {
    "duration": 20,
    "start_time": "2022-03-19T04:54:59.567Z"
   },
   {
    "duration": 54,
    "start_time": "2022-03-19T04:54:59.589Z"
   },
   {
    "duration": 9,
    "start_time": "2022-03-19T04:54:59.645Z"
   },
   {
    "duration": 36,
    "start_time": "2022-03-19T04:54:59.656Z"
   },
   {
    "duration": 46,
    "start_time": "2022-03-19T04:54:59.696Z"
   },
   {
    "duration": 15,
    "start_time": "2022-03-19T04:54:59.745Z"
   },
   {
    "duration": 9,
    "start_time": "2022-03-19T04:54:59.762Z"
   },
   {
    "duration": 16,
    "start_time": "2022-03-19T04:54:59.773Z"
   },
   {
    "duration": 6,
    "start_time": "2022-03-19T04:54:59.791Z"
   },
   {
    "duration": 50,
    "start_time": "2022-03-19T04:54:59.798Z"
   },
   {
    "duration": 6,
    "start_time": "2022-03-19T04:54:59.851Z"
   },
   {
    "duration": 7,
    "start_time": "2022-03-19T04:54:59.859Z"
   },
   {
    "duration": 9,
    "start_time": "2022-03-19T04:54:59.868Z"
   },
   {
    "duration": 7,
    "start_time": "2022-03-19T04:54:59.879Z"
   },
   {
    "duration": 5,
    "start_time": "2022-03-19T04:54:59.888Z"
   },
   {
    "duration": 49,
    "start_time": "2022-03-19T04:54:59.895Z"
   },
   {
    "duration": 4,
    "start_time": "2022-03-19T04:54:59.946Z"
   },
   {
    "duration": 9,
    "start_time": "2022-03-19T04:54:59.953Z"
   },
   {
    "duration": 8,
    "start_time": "2022-03-19T04:54:59.965Z"
   },
   {
    "duration": 27,
    "start_time": "2022-03-19T04:54:59.976Z"
   },
   {
    "duration": 8,
    "start_time": "2022-03-19T04:55:00.043Z"
   },
   {
    "duration": 9,
    "start_time": "2022-03-19T04:55:00.054Z"
   },
   {
    "duration": 7,
    "start_time": "2022-03-19T04:55:00.071Z"
   },
   {
    "duration": 11,
    "start_time": "2022-03-19T04:55:00.081Z"
   },
   {
    "duration": 51,
    "start_time": "2022-03-19T04:55:00.094Z"
   },
   {
    "duration": 10,
    "start_time": "2022-03-19T04:55:00.148Z"
   },
   {
    "duration": 11,
    "start_time": "2022-03-19T04:55:00.160Z"
   },
   {
    "duration": 11,
    "start_time": "2022-03-19T04:55:00.173Z"
   },
   {
    "duration": 14,
    "start_time": "2022-03-19T04:55:00.186Z"
   },
   {
    "duration": 21,
    "start_time": "2022-03-19T04:55:00.202Z"
   },
   {
    "duration": 8,
    "start_time": "2022-03-19T04:55:00.243Z"
   },
   {
    "duration": 13,
    "start_time": "2022-03-19T04:55:00.253Z"
   },
   {
    "duration": 29,
    "start_time": "2022-03-19T04:55:00.268Z"
   },
   {
    "duration": 13,
    "start_time": "2022-03-19T04:55:00.299Z"
   },
   {
    "duration": 51,
    "start_time": "2022-03-19T04:55:00.314Z"
   },
   {
    "duration": 5,
    "start_time": "2022-03-19T04:55:00.368Z"
   },
   {
    "duration": 34,
    "start_time": "2022-03-19T04:55:00.375Z"
   },
   {
    "duration": 503,
    "start_time": "2022-03-19T04:55:00.412Z"
   },
   {
    "duration": 8,
    "start_time": "2022-03-19T04:55:00.917Z"
   },
   {
    "duration": 54,
    "start_time": "2022-03-19T04:55:00.927Z"
   },
   {
    "duration": 1169,
    "start_time": "2022-03-19T04:55:00.983Z"
   },
   {
    "duration": 1427,
    "start_time": "2022-03-19T04:55:02.154Z"
   },
   {
    "duration": 275,
    "start_time": "2022-03-19T04:55:03.583Z"
   },
   {
    "duration": 402,
    "start_time": "2022-03-19T04:55:03.860Z"
   },
   {
    "duration": 669,
    "start_time": "2022-03-19T04:55:04.265Z"
   },
   {
    "duration": 66,
    "start_time": "2022-03-19T04:55:04.936Z"
   },
   {
    "duration": 352,
    "start_time": "2022-03-19T04:55:05.005Z"
   },
   {
    "duration": 17,
    "start_time": "2022-03-19T04:55:05.359Z"
   },
   {
    "duration": 67,
    "start_time": "2022-03-19T04:55:05.378Z"
   },
   {
    "duration": 22,
    "start_time": "2022-03-19T04:55:05.447Z"
   },
   {
    "duration": 85,
    "start_time": "2022-03-19T04:55:05.471Z"
   },
   {
    "duration": 10,
    "start_time": "2022-03-19T04:55:05.559Z"
   },
   {
    "duration": 11,
    "start_time": "2022-03-19T04:55:05.572Z"
   },
   {
    "duration": 293,
    "start_time": "2022-03-19T04:55:05.585Z"
   },
   {
    "duration": 1180,
    "start_time": "2022-03-19T04:55:05.880Z"
   },
   {
    "duration": 621,
    "start_time": "2022-03-19T04:55:07.062Z"
   },
   {
    "duration": 242,
    "start_time": "2022-03-19T04:55:07.686Z"
   },
   {
    "duration": 717,
    "start_time": "2022-03-19T04:55:07.930Z"
   },
   {
    "duration": 15,
    "start_time": "2022-03-19T04:55:08.650Z"
   },
   {
    "duration": 43,
    "start_time": "2022-03-19T04:55:08.668Z"
   },
   {
    "duration": 20,
    "start_time": "2022-03-19T04:55:08.743Z"
   },
   {
    "duration": 93,
    "start_time": "2022-03-29T21:33:36.367Z"
   },
   {
    "duration": 917,
    "start_time": "2022-03-30T01:45:36.035Z"
   },
   {
    "duration": 104,
    "start_time": "2022-03-30T01:45:36.954Z"
   },
   {
    "duration": 9,
    "start_time": "2022-03-30T01:45:37.059Z"
   },
   {
    "duration": 3,
    "start_time": "2022-03-30T01:45:37.070Z"
   },
   {
    "duration": 6,
    "start_time": "2022-03-30T01:45:37.075Z"
   },
   {
    "duration": 38,
    "start_time": "2022-03-30T01:45:37.083Z"
   },
   {
    "duration": 5,
    "start_time": "2022-03-30T01:45:37.123Z"
   },
   {
    "duration": 7,
    "start_time": "2022-03-30T01:45:37.130Z"
   },
   {
    "duration": 24,
    "start_time": "2022-03-30T01:45:37.138Z"
   },
   {
    "duration": 7,
    "start_time": "2022-03-30T01:45:37.165Z"
   },
   {
    "duration": 11,
    "start_time": "2022-03-30T01:45:37.209Z"
   },
   {
    "duration": 6,
    "start_time": "2022-03-30T01:45:37.222Z"
   },
   {
    "duration": 10,
    "start_time": "2022-03-30T01:45:37.229Z"
   },
   {
    "duration": 4,
    "start_time": "2022-03-30T01:45:37.241Z"
   },
   {
    "duration": 4,
    "start_time": "2022-03-30T01:45:37.246Z"
   },
   {
    "duration": 5,
    "start_time": "2022-03-30T01:45:37.252Z"
   },
   {
    "duration": 5,
    "start_time": "2022-03-30T01:45:37.259Z"
   },
   {
    "duration": 45,
    "start_time": "2022-03-30T01:45:37.266Z"
   },
   {
    "duration": 4,
    "start_time": "2022-03-30T01:45:37.313Z"
   },
   {
    "duration": 4,
    "start_time": "2022-03-30T01:45:37.318Z"
   },
   {
    "duration": 3,
    "start_time": "2022-03-30T01:45:37.324Z"
   },
   {
    "duration": 3,
    "start_time": "2022-03-30T01:45:37.329Z"
   },
   {
    "duration": 7,
    "start_time": "2022-03-30T01:45:37.334Z"
   },
   {
    "duration": 6,
    "start_time": "2022-03-30T01:45:37.342Z"
   },
   {
    "duration": 17,
    "start_time": "2022-03-30T01:45:37.349Z"
   },
   {
    "duration": 43,
    "start_time": "2022-03-30T01:45:37.367Z"
   },
   {
    "duration": 6,
    "start_time": "2022-03-30T01:45:37.411Z"
   },
   {
    "duration": 5,
    "start_time": "2022-03-30T01:45:37.420Z"
   },
   {
    "duration": 5,
    "start_time": "2022-03-30T01:45:37.426Z"
   },
   {
    "duration": 6,
    "start_time": "2022-03-30T01:45:37.432Z"
   },
   {
    "duration": 5,
    "start_time": "2022-03-30T01:45:37.439Z"
   },
   {
    "duration": 7,
    "start_time": "2022-03-30T01:45:37.445Z"
   },
   {
    "duration": 7,
    "start_time": "2022-03-30T01:45:37.453Z"
   },
   {
    "duration": 4,
    "start_time": "2022-03-30T01:45:37.462Z"
   },
   {
    "duration": 4,
    "start_time": "2022-03-30T01:45:37.509Z"
   },
   {
    "duration": 5,
    "start_time": "2022-03-30T01:45:37.515Z"
   },
   {
    "duration": 4,
    "start_time": "2022-03-30T01:45:37.522Z"
   },
   {
    "duration": 12,
    "start_time": "2022-03-30T01:45:37.528Z"
   },
   {
    "duration": 7,
    "start_time": "2022-03-30T01:45:37.541Z"
   },
   {
    "duration": 21,
    "start_time": "2022-03-30T01:45:37.549Z"
   },
   {
    "duration": 4,
    "start_time": "2022-03-30T01:45:37.571Z"
   },
   {
    "duration": 12,
    "start_time": "2022-03-30T01:45:37.608Z"
   },
   {
    "duration": 278,
    "start_time": "2022-03-30T01:45:37.621Z"
   },
   {
    "duration": 9,
    "start_time": "2022-03-30T01:45:37.900Z"
   },
   {
    "duration": 26,
    "start_time": "2022-03-30T01:45:37.911Z"
   },
   {
    "duration": 731,
    "start_time": "2022-03-30T01:45:37.938Z"
   },
   {
    "duration": 683,
    "start_time": "2022-03-30T01:45:38.670Z"
   },
   {
    "duration": 224,
    "start_time": "2022-03-30T01:45:39.355Z"
   },
   {
    "duration": 228,
    "start_time": "2022-03-30T01:45:39.581Z"
   },
   {
    "duration": 359,
    "start_time": "2022-03-30T01:45:39.810Z"
   },
   {
    "duration": 49,
    "start_time": "2022-03-30T01:45:40.171Z"
   },
   {
    "duration": 203,
    "start_time": "2022-03-30T01:45:40.221Z"
   },
   {
    "duration": 11,
    "start_time": "2022-03-30T01:45:40.426Z"
   },
   {
    "duration": 26,
    "start_time": "2022-03-30T01:45:40.439Z"
   },
   {
    "duration": 10,
    "start_time": "2022-03-30T01:45:40.466Z"
   },
   {
    "duration": 57,
    "start_time": "2022-03-30T01:45:40.478Z"
   },
   {
    "duration": 7,
    "start_time": "2022-03-30T01:45:40.536Z"
   },
   {
    "duration": 7,
    "start_time": "2022-03-30T01:45:40.544Z"
   },
   {
    "duration": 182,
    "start_time": "2022-03-30T01:45:40.552Z"
   },
   {
    "duration": 777,
    "start_time": "2022-03-30T01:45:40.736Z"
   },
   {
    "duration": 348,
    "start_time": "2022-03-30T01:45:41.515Z"
   },
   {
    "duration": 143,
    "start_time": "2022-03-30T01:45:41.865Z"
   },
   {
    "duration": 235,
    "start_time": "2022-03-30T01:45:42.010Z"
   },
   {
    "duration": 11,
    "start_time": "2022-03-30T01:45:42.247Z"
   },
   {
    "duration": 24,
    "start_time": "2022-03-30T01:45:42.259Z"
   },
   {
    "duration": 32,
    "start_time": "2022-03-30T01:45:42.284Z"
   },
   {
    "duration": 19,
    "start_time": "2022-03-30T01:49:26.154Z"
   },
   {
    "duration": 143,
    "start_time": "2022-03-30T01:51:29.615Z"
   },
   {
    "duration": 18,
    "start_time": "2022-03-30T01:51:47.169Z"
   },
   {
    "duration": 181,
    "start_time": "2022-03-30T02:17:17.675Z"
   },
   {
    "duration": 150,
    "start_time": "2022-03-30T02:17:38.501Z"
   },
   {
    "duration": 187,
    "start_time": "2022-03-30T02:17:44.345Z"
   },
   {
    "duration": 119,
    "start_time": "2022-03-30T02:35:41.826Z"
   },
   {
    "duration": 237,
    "start_time": "2022-03-30T02:36:50.842Z"
   },
   {
    "duration": 76,
    "start_time": "2022-03-30T02:38:13.289Z"
   },
   {
    "duration": 10,
    "start_time": "2022-03-30T02:38:25.322Z"
   },
   {
    "duration": 15,
    "start_time": "2022-03-30T02:38:30.435Z"
   },
   {
    "duration": 247,
    "start_time": "2022-03-30T02:39:06.099Z"
   },
   {
    "duration": 9,
    "start_time": "2022-03-30T02:39:26.037Z"
   },
   {
    "duration": 122,
    "start_time": "2022-03-30T02:41:52.987Z"
   },
   {
    "duration": 116,
    "start_time": "2022-03-30T02:42:14.679Z"
   },
   {
    "duration": 127,
    "start_time": "2022-03-30T02:42:31.003Z"
   },
   {
    "duration": 112,
    "start_time": "2022-03-30T02:42:48.148Z"
   },
   {
    "duration": 115,
    "start_time": "2022-03-30T02:43:20.011Z"
   },
   {
    "duration": 117,
    "start_time": "2022-03-30T02:44:16.584Z"
   },
   {
    "duration": 113,
    "start_time": "2022-03-30T02:45:22.244Z"
   },
   {
    "duration": 7,
    "start_time": "2022-03-30T02:47:22.204Z"
   },
   {
    "duration": 114,
    "start_time": "2022-03-30T02:47:51.068Z"
   },
   {
    "duration": 257,
    "start_time": "2022-03-30T02:49:28.220Z"
   },
   {
    "duration": 109,
    "start_time": "2022-03-30T02:49:40.342Z"
   },
   {
    "duration": 109,
    "start_time": "2022-03-30T02:51:26.161Z"
   },
   {
    "duration": 19,
    "start_time": "2022-03-30T02:54:19.509Z"
   },
   {
    "duration": 111,
    "start_time": "2022-03-30T02:55:19.301Z"
   },
   {
    "duration": 106,
    "start_time": "2022-03-30T02:55:33.057Z"
   },
   {
    "duration": 106,
    "start_time": "2022-03-30T02:58:06.487Z"
   },
   {
    "duration": 101,
    "start_time": "2022-03-30T02:58:58.029Z"
   },
   {
    "duration": 121,
    "start_time": "2022-03-30T03:01:13.926Z"
   },
   {
    "duration": 113,
    "start_time": "2022-03-30T03:01:40.753Z"
   },
   {
    "duration": 109,
    "start_time": "2022-03-30T03:01:54.456Z"
   },
   {
    "duration": 163,
    "start_time": "2022-03-30T03:03:00.882Z"
   },
   {
    "duration": 129,
    "start_time": "2022-03-30T03:06:30.758Z"
   },
   {
    "duration": 129,
    "start_time": "2022-03-30T03:08:00.879Z"
   },
   {
    "duration": 160,
    "start_time": "2022-03-30T03:09:25.992Z"
   },
   {
    "duration": 156,
    "start_time": "2022-03-30T03:10:18.799Z"
   },
   {
    "duration": 125,
    "start_time": "2022-03-30T03:11:09.038Z"
   },
   {
    "duration": 145,
    "start_time": "2022-03-30T03:18:42.969Z"
   },
   {
    "duration": 130,
    "start_time": "2022-03-30T03:30:34.579Z"
   },
   {
    "duration": 880,
    "start_time": "2022-03-30T03:36:12.098Z"
   },
   {
    "duration": 696,
    "start_time": "2022-03-30T03:37:23.032Z"
   },
   {
    "duration": 358,
    "start_time": "2022-03-30T03:40:42.607Z"
   },
   {
    "duration": 520,
    "start_time": "2022-03-30T03:41:48.369Z"
   },
   {
    "duration": 342,
    "start_time": "2022-03-30T03:42:37.533Z"
   },
   {
    "duration": 144,
    "start_time": "2022-03-30T03:43:06.347Z"
   },
   {
    "duration": 161,
    "start_time": "2022-03-30T03:43:31.860Z"
   },
   {
    "duration": 239,
    "start_time": "2022-03-30T03:43:57.274Z"
   },
   {
    "duration": 138,
    "start_time": "2022-03-30T03:49:51.891Z"
   },
   {
    "duration": 134,
    "start_time": "2022-03-30T03:50:27.753Z"
   },
   {
    "duration": 154,
    "start_time": "2022-03-30T03:55:09.323Z"
   },
   {
    "duration": 148,
    "start_time": "2022-03-30T03:55:22.675Z"
   },
   {
    "duration": 156,
    "start_time": "2022-03-30T03:55:44.173Z"
   },
   {
    "duration": 150,
    "start_time": "2022-03-30T03:55:50.930Z"
   },
   {
    "duration": 136,
    "start_time": "2022-03-30T04:00:56.830Z"
   },
   {
    "duration": 155,
    "start_time": "2022-03-30T04:29:15.677Z"
   },
   {
    "duration": 122,
    "start_time": "2022-03-30T04:29:15.835Z"
   },
   {
    "duration": 9,
    "start_time": "2022-03-30T04:29:15.959Z"
   },
   {
    "duration": 4,
    "start_time": "2022-03-30T04:29:15.970Z"
   },
   {
    "duration": 6,
    "start_time": "2022-03-30T04:29:15.976Z"
   },
   {
    "duration": 15,
    "start_time": "2022-03-30T04:29:16.010Z"
   },
   {
    "duration": 5,
    "start_time": "2022-03-30T04:29:16.027Z"
   },
   {
    "duration": 8,
    "start_time": "2022-03-30T04:29:16.033Z"
   },
   {
    "duration": 67,
    "start_time": "2022-03-30T04:29:16.043Z"
   },
   {
    "duration": 9,
    "start_time": "2022-03-30T04:29:16.114Z"
   },
   {
    "duration": 12,
    "start_time": "2022-03-30T04:29:16.125Z"
   },
   {
    "duration": 6,
    "start_time": "2022-03-30T04:29:16.139Z"
   },
   {
    "duration": 12,
    "start_time": "2022-03-30T04:29:16.147Z"
   },
   {
    "duration": 5,
    "start_time": "2022-03-30T04:29:16.161Z"
   },
   {
    "duration": 5,
    "start_time": "2022-03-30T04:29:16.209Z"
   },
   {
    "duration": 7,
    "start_time": "2022-03-30T04:29:16.215Z"
   },
   {
    "duration": 6,
    "start_time": "2022-03-30T04:29:16.224Z"
   },
   {
    "duration": 9,
    "start_time": "2022-03-30T04:29:16.231Z"
   },
   {
    "duration": 7,
    "start_time": "2022-03-30T04:29:16.241Z"
   },
   {
    "duration": 4,
    "start_time": "2022-03-30T04:29:16.250Z"
   },
   {
    "duration": 4,
    "start_time": "2022-03-30T04:29:16.256Z"
   },
   {
    "duration": 4,
    "start_time": "2022-03-30T04:29:16.262Z"
   },
   {
    "duration": 46,
    "start_time": "2022-03-30T04:29:16.268Z"
   },
   {
    "duration": 6,
    "start_time": "2022-03-30T04:29:16.316Z"
   },
   {
    "duration": 21,
    "start_time": "2022-03-30T04:29:16.323Z"
   },
   {
    "duration": 6,
    "start_time": "2022-03-30T04:29:16.345Z"
   },
   {
    "duration": 14,
    "start_time": "2022-03-30T04:29:16.352Z"
   },
   {
    "duration": 9,
    "start_time": "2022-03-30T04:29:16.370Z"
   },
   {
    "duration": 29,
    "start_time": "2022-03-30T04:29:16.381Z"
   },
   {
    "duration": 10,
    "start_time": "2022-03-30T04:29:16.412Z"
   },
   {
    "duration": 5,
    "start_time": "2022-03-30T04:29:16.424Z"
   },
   {
    "duration": 7,
    "start_time": "2022-03-30T04:29:16.431Z"
   },
   {
    "duration": 8,
    "start_time": "2022-03-30T04:29:16.440Z"
   },
   {
    "duration": 5,
    "start_time": "2022-03-30T04:29:16.450Z"
   },
   {
    "duration": 7,
    "start_time": "2022-03-30T04:29:16.456Z"
   },
   {
    "duration": 5,
    "start_time": "2022-03-30T04:29:16.465Z"
   },
   {
    "duration": 40,
    "start_time": "2022-03-30T04:29:16.472Z"
   },
   {
    "duration": 15,
    "start_time": "2022-03-30T04:29:16.514Z"
   },
   {
    "duration": 9,
    "start_time": "2022-03-30T04:29:16.531Z"
   },
   {
    "duration": 20,
    "start_time": "2022-03-30T04:29:16.542Z"
   },
   {
    "duration": 4,
    "start_time": "2022-03-30T04:29:16.564Z"
   },
   {
    "duration": 13,
    "start_time": "2022-03-30T04:29:16.609Z"
   },
   {
    "duration": 303,
    "start_time": "2022-03-30T04:29:16.624Z"
   },
   {
    "duration": 5,
    "start_time": "2022-03-30T04:29:16.929Z"
   },
   {
    "duration": 29,
    "start_time": "2022-03-30T04:29:16.936Z"
   },
   {
    "duration": 950,
    "start_time": "2022-03-30T04:29:16.967Z"
   },
   {
    "duration": 704,
    "start_time": "2022-03-30T04:29:17.919Z"
   },
   {
    "duration": 202,
    "start_time": "2022-03-30T04:29:18.625Z"
   },
   {
    "duration": 236,
    "start_time": "2022-03-30T04:29:18.829Z"
   },
   {
    "duration": 386,
    "start_time": "2022-03-30T04:29:19.066Z"
   },
   {
    "duration": 44,
    "start_time": "2022-03-30T04:29:19.454Z"
   },
   {
    "duration": 223,
    "start_time": "2022-03-30T04:29:19.509Z"
   },
   {
    "duration": 13,
    "start_time": "2022-03-30T04:29:19.733Z"
   },
   {
    "duration": 29,
    "start_time": "2022-03-30T04:29:19.747Z"
   },
   {
    "duration": 142,
    "start_time": "2022-03-30T04:29:19.778Z"
   },
   {
    "duration": 12,
    "start_time": "2022-03-30T04:29:19.922Z"
   },
   {
    "duration": 158,
    "start_time": "2022-03-30T04:29:19.936Z"
   },
   {
    "duration": 159,
    "start_time": "2022-03-30T04:29:20.095Z"
   },
   {
    "duration": 412,
    "start_time": "2022-03-30T04:29:20.256Z"
   },
   {
    "duration": 43,
    "start_time": "2022-03-30T04:29:20.669Z"
   },
   {
    "duration": 6,
    "start_time": "2022-03-30T04:29:20.714Z"
   },
   {
    "duration": 9,
    "start_time": "2022-03-30T04:29:20.722Z"
   },
   {
    "duration": 186,
    "start_time": "2022-03-30T04:29:20.733Z"
   },
   {
    "duration": 701,
    "start_time": "2022-03-30T04:29:20.921Z"
   },
   {
    "duration": 357,
    "start_time": "2022-03-30T04:29:21.624Z"
   },
   {
    "duration": 179,
    "start_time": "2022-03-30T04:29:21.985Z"
   },
   {
    "duration": 250,
    "start_time": "2022-03-30T04:29:22.166Z"
   },
   {
    "duration": 10,
    "start_time": "2022-03-30T04:29:22.417Z"
   },
   {
    "duration": 22,
    "start_time": "2022-03-30T04:29:22.429Z"
   },
   {
    "duration": 9,
    "start_time": "2022-03-30T04:29:22.452Z"
   },
   {
    "duration": 160,
    "start_time": "2022-03-30T04:29:22.463Z"
   },
   {
    "duration": 160,
    "start_time": "2022-03-30T04:29:22.625Z"
   },
   {
    "duration": 141,
    "start_time": "2022-03-30T04:29:22.787Z"
   },
   {
    "duration": 133,
    "start_time": "2022-03-30T04:30:24.140Z"
   },
   {
    "duration": 121,
    "start_time": "2022-03-30T04:30:24.275Z"
   },
   {
    "duration": 9,
    "start_time": "2022-03-30T04:30:24.409Z"
   },
   {
    "duration": 3,
    "start_time": "2022-03-30T04:30:24.420Z"
   },
   {
    "duration": 8,
    "start_time": "2022-03-30T04:30:24.425Z"
   },
   {
    "duration": 15,
    "start_time": "2022-03-30T04:30:24.434Z"
   },
   {
    "duration": 5,
    "start_time": "2022-03-30T04:30:24.450Z"
   },
   {
    "duration": 6,
    "start_time": "2022-03-30T04:30:24.456Z"
   },
   {
    "duration": 67,
    "start_time": "2022-03-30T04:30:24.463Z"
   },
   {
    "duration": 8,
    "start_time": "2022-03-30T04:30:24.533Z"
   },
   {
    "duration": 11,
    "start_time": "2022-03-30T04:30:24.542Z"
   },
   {
    "duration": 6,
    "start_time": "2022-03-30T04:30:24.555Z"
   },
   {
    "duration": 10,
    "start_time": "2022-03-30T04:30:24.562Z"
   },
   {
    "duration": 5,
    "start_time": "2022-03-30T04:30:24.608Z"
   },
   {
    "duration": 4,
    "start_time": "2022-03-30T04:30:24.615Z"
   },
   {
    "duration": 5,
    "start_time": "2022-03-30T04:30:24.620Z"
   },
   {
    "duration": 6,
    "start_time": "2022-03-30T04:30:24.627Z"
   },
   {
    "duration": 6,
    "start_time": "2022-03-30T04:30:24.635Z"
   },
   {
    "duration": 6,
    "start_time": "2022-03-30T04:30:24.643Z"
   },
   {
    "duration": 4,
    "start_time": "2022-03-30T04:30:24.651Z"
   },
   {
    "duration": 5,
    "start_time": "2022-03-30T04:30:24.656Z"
   },
   {
    "duration": 47,
    "start_time": "2022-03-30T04:30:24.662Z"
   },
   {
    "duration": 7,
    "start_time": "2022-03-30T04:30:24.710Z"
   },
   {
    "duration": 6,
    "start_time": "2022-03-30T04:30:24.718Z"
   },
   {
    "duration": 18,
    "start_time": "2022-03-30T04:30:24.725Z"
   },
   {
    "duration": 6,
    "start_time": "2022-03-30T04:30:24.744Z"
   },
   {
    "duration": 6,
    "start_time": "2022-03-30T04:30:24.751Z"
   },
   {
    "duration": 5,
    "start_time": "2022-03-30T04:30:24.761Z"
   },
   {
    "duration": 42,
    "start_time": "2022-03-30T04:30:24.768Z"
   },
   {
    "duration": 7,
    "start_time": "2022-03-30T04:30:24.812Z"
   },
   {
    "duration": 5,
    "start_time": "2022-03-30T04:30:24.821Z"
   },
   {
    "duration": 5,
    "start_time": "2022-03-30T04:30:24.827Z"
   },
   {
    "duration": 6,
    "start_time": "2022-03-30T04:30:24.834Z"
   },
   {
    "duration": 4,
    "start_time": "2022-03-30T04:30:24.841Z"
   },
   {
    "duration": 5,
    "start_time": "2022-03-30T04:30:24.847Z"
   },
   {
    "duration": 4,
    "start_time": "2022-03-30T04:30:24.853Z"
   },
   {
    "duration": 49,
    "start_time": "2022-03-30T04:30:24.859Z"
   },
   {
    "duration": 13,
    "start_time": "2022-03-30T04:30:24.910Z"
   },
   {
    "duration": 7,
    "start_time": "2022-03-30T04:30:24.925Z"
   },
   {
    "duration": 17,
    "start_time": "2022-03-30T04:30:24.934Z"
   },
   {
    "duration": 4,
    "start_time": "2022-03-30T04:30:24.952Z"
   },
   {
    "duration": 13,
    "start_time": "2022-03-30T04:30:24.957Z"
   },
   {
    "duration": 296,
    "start_time": "2022-03-30T04:30:24.972Z"
   },
   {
    "duration": 4,
    "start_time": "2022-03-30T04:30:25.270Z"
   },
   {
    "duration": 36,
    "start_time": "2022-03-30T04:30:25.276Z"
   },
   {
    "duration": 983,
    "start_time": "2022-03-30T04:30:25.314Z"
   },
   {
    "duration": 709,
    "start_time": "2022-03-30T04:30:26.299Z"
   },
   {
    "duration": 193,
    "start_time": "2022-03-30T04:30:27.010Z"
   },
   {
    "duration": 235,
    "start_time": "2022-03-30T04:30:27.205Z"
   },
   {
    "duration": 376,
    "start_time": "2022-03-30T04:30:27.442Z"
   },
   {
    "duration": 42,
    "start_time": "2022-03-30T04:30:27.819Z"
   },
   {
    "duration": 227,
    "start_time": "2022-03-30T04:30:27.863Z"
   },
   {
    "duration": 18,
    "start_time": "2022-03-30T04:30:28.091Z"
   },
   {
    "duration": 29,
    "start_time": "2022-03-30T04:30:28.111Z"
   },
   {
    "duration": 129,
    "start_time": "2022-03-30T04:30:28.141Z"
   },
   {
    "duration": 13,
    "start_time": "2022-03-30T04:30:28.272Z"
   },
   {
    "duration": 148,
    "start_time": "2022-03-30T04:30:28.287Z"
   },
   {
    "duration": 156,
    "start_time": "2022-03-30T04:30:28.437Z"
   },
   {
    "duration": 134,
    "start_time": "2022-03-30T04:30:28.594Z"
   },
   {
    "duration": 31,
    "start_time": "2022-03-30T04:30:28.730Z"
   },
   {
    "duration": 8,
    "start_time": "2022-03-30T04:30:28.763Z"
   },
   {
    "duration": 7,
    "start_time": "2022-03-30T04:30:28.772Z"
   },
   {
    "duration": 164,
    "start_time": "2022-03-30T04:30:28.808Z"
   },
   {
    "duration": 716,
    "start_time": "2022-03-30T04:30:28.974Z"
   },
   {
    "duration": 727,
    "start_time": "2022-03-30T04:30:29.692Z"
   },
   {
    "duration": 178,
    "start_time": "2022-03-30T04:30:30.421Z"
   },
   {
    "duration": 257,
    "start_time": "2022-03-30T04:30:30.601Z"
   },
   {
    "duration": 10,
    "start_time": "2022-03-30T04:30:30.860Z"
   },
   {
    "duration": 41,
    "start_time": "2022-03-30T04:30:30.872Z"
   },
   {
    "duration": 10,
    "start_time": "2022-03-30T04:30:30.915Z"
   },
   {
    "duration": 152,
    "start_time": "2022-03-30T04:30:30.927Z"
   },
   {
    "duration": 171,
    "start_time": "2022-03-30T04:30:31.081Z"
   },
   {
    "duration": 147,
    "start_time": "2022-03-30T04:30:31.253Z"
   },
   {
    "duration": 138,
    "start_time": "2022-03-30T04:32:00.241Z"
   },
   {
    "duration": 129,
    "start_time": "2022-03-30T04:32:00.381Z"
   },
   {
    "duration": 10,
    "start_time": "2022-03-30T04:32:00.511Z"
   },
   {
    "duration": 9,
    "start_time": "2022-03-30T04:32:00.523Z"
   },
   {
    "duration": 21,
    "start_time": "2022-03-30T04:32:00.533Z"
   },
   {
    "duration": 17,
    "start_time": "2022-03-30T04:32:00.556Z"
   },
   {
    "duration": 4,
    "start_time": "2022-03-30T04:32:00.575Z"
   },
   {
    "duration": 30,
    "start_time": "2022-03-30T04:32:00.580Z"
   },
   {
    "duration": 27,
    "start_time": "2022-03-30T04:32:00.611Z"
   },
   {
    "duration": 7,
    "start_time": "2022-03-30T04:32:00.641Z"
   },
   {
    "duration": 14,
    "start_time": "2022-03-30T04:32:00.649Z"
   },
   {
    "duration": 7,
    "start_time": "2022-03-30T04:32:00.665Z"
   },
   {
    "duration": 41,
    "start_time": "2022-03-30T04:32:00.674Z"
   },
   {
    "duration": 5,
    "start_time": "2022-03-30T04:32:00.716Z"
   },
   {
    "duration": 10,
    "start_time": "2022-03-30T04:32:00.722Z"
   },
   {
    "duration": 9,
    "start_time": "2022-03-30T04:32:00.734Z"
   },
   {
    "duration": 11,
    "start_time": "2022-03-30T04:32:00.745Z"
   },
   {
    "duration": 12,
    "start_time": "2022-03-30T04:32:00.758Z"
   },
   {
    "duration": 9,
    "start_time": "2022-03-30T04:32:00.771Z"
   },
   {
    "duration": 12,
    "start_time": "2022-03-30T04:32:00.782Z"
   },
   {
    "duration": 13,
    "start_time": "2022-03-30T04:32:00.795Z"
   },
   {
    "duration": 5,
    "start_time": "2022-03-30T04:32:00.810Z"
   },
   {
    "duration": 18,
    "start_time": "2022-03-30T04:32:00.817Z"
   },
   {
    "duration": 12,
    "start_time": "2022-03-30T04:32:00.837Z"
   },
   {
    "duration": 22,
    "start_time": "2022-03-30T04:32:00.851Z"
   },
   {
    "duration": 5,
    "start_time": "2022-03-30T04:32:00.875Z"
   },
   {
    "duration": 8,
    "start_time": "2022-03-30T04:32:00.882Z"
   },
   {
    "duration": 6,
    "start_time": "2022-03-30T04:32:00.895Z"
   },
   {
    "duration": 13,
    "start_time": "2022-03-30T04:32:00.903Z"
   },
   {
    "duration": 12,
    "start_time": "2022-03-30T04:32:00.918Z"
   },
   {
    "duration": 4,
    "start_time": "2022-03-30T04:32:00.932Z"
   },
   {
    "duration": 8,
    "start_time": "2022-03-30T04:32:00.938Z"
   },
   {
    "duration": 9,
    "start_time": "2022-03-30T04:32:00.947Z"
   },
   {
    "duration": 5,
    "start_time": "2022-03-30T04:32:00.957Z"
   },
   {
    "duration": 8,
    "start_time": "2022-03-30T04:32:00.963Z"
   },
   {
    "duration": 6,
    "start_time": "2022-03-30T04:32:00.972Z"
   },
   {
    "duration": 33,
    "start_time": "2022-03-30T04:32:00.979Z"
   },
   {
    "duration": 21,
    "start_time": "2022-03-30T04:32:01.014Z"
   },
   {
    "duration": 10,
    "start_time": "2022-03-30T04:32:01.037Z"
   },
   {
    "duration": 39,
    "start_time": "2022-03-30T04:32:01.048Z"
   },
   {
    "duration": 8,
    "start_time": "2022-03-30T04:32:01.089Z"
   },
   {
    "duration": 23,
    "start_time": "2022-03-30T04:32:01.099Z"
   },
   {
    "duration": 267,
    "start_time": "2022-03-30T04:32:01.124Z"
   },
   {
    "duration": 5,
    "start_time": "2022-03-30T04:32:01.392Z"
   },
   {
    "duration": 43,
    "start_time": "2022-03-30T04:32:01.399Z"
   },
   {
    "duration": 670,
    "start_time": "2022-03-30T04:32:01.443Z"
   },
   {
    "duration": 713,
    "start_time": "2022-03-30T04:32:02.115Z"
   },
   {
    "duration": 186,
    "start_time": "2022-03-30T04:32:02.830Z"
   },
   {
    "duration": 233,
    "start_time": "2022-03-30T04:32:03.017Z"
   },
   {
    "duration": 841,
    "start_time": "2022-03-30T04:32:03.252Z"
   },
   {
    "duration": 50,
    "start_time": "2022-03-30T04:32:04.095Z"
   },
   {
    "duration": 210,
    "start_time": "2022-03-30T04:32:04.147Z"
   },
   {
    "duration": 13,
    "start_time": "2022-03-30T04:32:04.358Z"
   },
   {
    "duration": 47,
    "start_time": "2022-03-30T04:32:04.372Z"
   },
   {
    "duration": 124,
    "start_time": "2022-03-30T04:32:04.421Z"
   },
   {
    "duration": 12,
    "start_time": "2022-03-30T04:32:04.547Z"
   },
   {
    "duration": 150,
    "start_time": "2022-03-30T04:32:04.560Z"
   },
   {
    "duration": 157,
    "start_time": "2022-03-30T04:32:04.712Z"
   },
   {
    "duration": 138,
    "start_time": "2022-03-30T04:32:04.871Z"
   },
   {
    "duration": 34,
    "start_time": "2022-03-30T04:32:05.010Z"
   },
   {
    "duration": 7,
    "start_time": "2022-03-30T04:32:05.046Z"
   },
   {
    "duration": 11,
    "start_time": "2022-03-30T04:32:05.055Z"
   },
   {
    "duration": 183,
    "start_time": "2022-03-30T04:32:05.067Z"
   },
   {
    "duration": 723,
    "start_time": "2022-03-30T04:32:05.251Z"
   },
   {
    "duration": 359,
    "start_time": "2022-03-30T04:32:05.975Z"
   },
   {
    "duration": 172,
    "start_time": "2022-03-30T04:32:06.336Z"
   },
   {
    "duration": 256,
    "start_time": "2022-03-30T04:32:06.510Z"
   },
   {
    "duration": 10,
    "start_time": "2022-03-30T04:32:06.768Z"
   },
   {
    "duration": 35,
    "start_time": "2022-03-30T04:32:06.780Z"
   },
   {
    "duration": 10,
    "start_time": "2022-03-30T04:32:06.816Z"
   },
   {
    "duration": 152,
    "start_time": "2022-03-30T04:32:06.828Z"
   },
   {
    "duration": 163,
    "start_time": "2022-03-30T04:32:06.981Z"
   },
   {
    "duration": 137,
    "start_time": "2022-03-30T04:32:07.146Z"
   },
   {
    "duration": 1258,
    "start_time": "2022-06-25T07:20:42.845Z"
   },
   {
    "duration": 114,
    "start_time": "2022-06-25T07:20:44.106Z"
   },
   {
    "duration": 26,
    "start_time": "2022-06-25T07:20:44.222Z"
   },
   {
    "duration": 4,
    "start_time": "2022-06-25T07:20:44.251Z"
   },
   {
    "duration": 16,
    "start_time": "2022-06-25T07:20:44.257Z"
   },
   {
    "duration": 18,
    "start_time": "2022-06-25T07:20:44.275Z"
   },
   {
    "duration": 5,
    "start_time": "2022-06-25T07:20:44.296Z"
   },
   {
    "duration": 42,
    "start_time": "2022-06-25T07:20:44.303Z"
   },
   {
    "duration": 29,
    "start_time": "2022-06-25T07:20:44.347Z"
   },
   {
    "duration": 8,
    "start_time": "2022-06-25T07:20:44.379Z"
   },
   {
    "duration": 16,
    "start_time": "2022-06-25T07:20:44.389Z"
   },
   {
    "duration": 36,
    "start_time": "2022-06-25T07:20:44.407Z"
   },
   {
    "duration": 14,
    "start_time": "2022-06-25T07:20:44.445Z"
   },
   {
    "duration": 6,
    "start_time": "2022-06-25T07:20:44.461Z"
   },
   {
    "duration": 6,
    "start_time": "2022-06-25T07:20:44.469Z"
   },
   {
    "duration": 8,
    "start_time": "2022-06-25T07:20:44.477Z"
   },
   {
    "duration": 12,
    "start_time": "2022-06-25T07:20:44.487Z"
   },
   {
    "duration": 43,
    "start_time": "2022-06-25T07:20:44.501Z"
   },
   {
    "duration": 8,
    "start_time": "2022-06-25T07:20:44.546Z"
   },
   {
    "duration": 10,
    "start_time": "2022-06-25T07:20:44.556Z"
   },
   {
    "duration": 13,
    "start_time": "2022-06-25T07:20:44.568Z"
   },
   {
    "duration": 9,
    "start_time": "2022-06-25T07:20:44.583Z"
   },
   {
    "duration": 11,
    "start_time": "2022-06-25T07:20:44.594Z"
   },
   {
    "duration": 35,
    "start_time": "2022-06-25T07:20:44.607Z"
   },
   {
    "duration": 29,
    "start_time": "2022-06-25T07:20:44.645Z"
   },
   {
    "duration": 8,
    "start_time": "2022-06-25T07:20:44.677Z"
   },
   {
    "duration": 10,
    "start_time": "2022-06-25T07:20:44.687Z"
   },
   {
    "duration": 6,
    "start_time": "2022-06-25T07:20:44.704Z"
   },
   {
    "duration": 31,
    "start_time": "2022-06-25T07:20:44.712Z"
   },
   {
    "duration": 7,
    "start_time": "2022-06-25T07:20:44.744Z"
   },
   {
    "duration": 7,
    "start_time": "2022-06-25T07:20:44.754Z"
   },
   {
    "duration": 7,
    "start_time": "2022-06-25T07:20:44.763Z"
   },
   {
    "duration": 10,
    "start_time": "2022-06-25T07:20:44.771Z"
   },
   {
    "duration": 7,
    "start_time": "2022-06-25T07:20:44.782Z"
   },
   {
    "duration": 13,
    "start_time": "2022-06-25T07:20:44.791Z"
   },
   {
    "duration": 37,
    "start_time": "2022-06-25T07:20:44.806Z"
   },
   {
    "duration": 5,
    "start_time": "2022-06-25T07:20:44.845Z"
   },
   {
    "duration": 18,
    "start_time": "2022-06-25T07:20:44.852Z"
   },
   {
    "duration": 8,
    "start_time": "2022-06-25T07:20:44.872Z"
   },
   {
    "duration": 24,
    "start_time": "2022-06-25T07:20:44.882Z"
   },
   {
    "duration": 36,
    "start_time": "2022-06-25T07:20:44.908Z"
   },
   {
    "duration": 17,
    "start_time": "2022-06-25T07:20:44.946Z"
   },
   {
    "duration": 440,
    "start_time": "2022-06-25T07:20:44.965Z"
   },
   {
    "duration": 6,
    "start_time": "2022-06-25T07:20:45.407Z"
   },
   {
    "duration": 41,
    "start_time": "2022-06-25T07:20:45.415Z"
   },
   {
    "duration": 897,
    "start_time": "2022-06-25T07:20:45.458Z"
   },
   {
    "duration": 948,
    "start_time": "2022-06-25T07:20:46.357Z"
   },
   {
    "duration": 351,
    "start_time": "2022-06-25T07:20:47.308Z"
   },
   {
    "duration": 275,
    "start_time": "2022-06-25T07:20:47.662Z"
   },
   {
    "duration": 445,
    "start_time": "2022-06-25T07:20:47.939Z"
   },
   {
    "duration": 57,
    "start_time": "2022-06-25T07:20:48.386Z"
   },
   {
    "duration": 303,
    "start_time": "2022-06-25T07:20:48.445Z"
   },
   {
    "duration": 12,
    "start_time": "2022-06-25T07:20:48.750Z"
   },
   {
    "duration": 30,
    "start_time": "2022-06-25T07:20:48.764Z"
   },
   {
    "duration": 147,
    "start_time": "2022-06-25T07:20:48.796Z"
   },
   {
    "duration": 13,
    "start_time": "2022-06-25T07:20:48.945Z"
   },
   {
    "duration": 162,
    "start_time": "2022-06-25T07:20:48.960Z"
   },
   {
    "duration": 178,
    "start_time": "2022-06-25T07:20:49.124Z"
   },
   {
    "duration": 149,
    "start_time": "2022-06-25T07:20:49.304Z"
   },
   {
    "duration": 35,
    "start_time": "2022-06-25T07:20:49.455Z"
   },
   {
    "duration": 7,
    "start_time": "2022-06-25T07:20:49.492Z"
   },
   {
    "duration": 11,
    "start_time": "2022-06-25T07:20:49.500Z"
   },
   {
    "duration": 290,
    "start_time": "2022-06-25T07:20:49.512Z"
   },
   {
    "duration": 847,
    "start_time": "2022-06-25T07:20:49.803Z"
   },
   {
    "duration": 396,
    "start_time": "2022-06-25T07:20:50.652Z"
   },
   {
    "duration": 304,
    "start_time": "2022-06-25T07:20:51.049Z"
   },
   {
    "duration": 297,
    "start_time": "2022-06-25T07:20:51.355Z"
   },
   {
    "duration": 12,
    "start_time": "2022-06-25T07:20:51.654Z"
   },
   {
    "duration": 38,
    "start_time": "2022-06-25T07:20:51.668Z"
   },
   {
    "duration": 36,
    "start_time": "2022-06-25T07:20:51.707Z"
   },
   {
    "duration": 158,
    "start_time": "2022-06-25T07:20:51.745Z"
   },
   {
    "duration": 183,
    "start_time": "2022-06-25T07:20:51.905Z"
   },
   {
    "duration": 164,
    "start_time": "2022-06-25T07:20:52.090Z"
   },
   {
    "duration": 1067,
    "start_time": "2022-08-28T10:02:58.347Z"
   },
   {
    "duration": 98,
    "start_time": "2022-08-28T10:02:59.416Z"
   },
   {
    "duration": 9,
    "start_time": "2022-08-28T10:02:59.515Z"
   },
   {
    "duration": 3,
    "start_time": "2022-08-28T10:02:59.525Z"
   },
   {
    "duration": 5,
    "start_time": "2022-08-28T10:02:59.530Z"
   },
   {
    "duration": 14,
    "start_time": "2022-08-28T10:02:59.536Z"
   },
   {
    "duration": 4,
    "start_time": "2022-08-28T10:02:59.551Z"
   },
   {
    "duration": 43,
    "start_time": "2022-08-28T10:02:59.556Z"
   },
   {
    "duration": 23,
    "start_time": "2022-08-28T10:02:59.601Z"
   },
   {
    "duration": 6,
    "start_time": "2022-08-28T10:02:59.626Z"
   },
   {
    "duration": 14,
    "start_time": "2022-08-28T10:02:59.634Z"
   },
   {
    "duration": 5,
    "start_time": "2022-08-28T10:02:59.650Z"
   },
   {
    "duration": 9,
    "start_time": "2022-08-28T10:02:59.657Z"
   },
   {
    "duration": 3,
    "start_time": "2022-08-28T10:02:59.669Z"
   },
   {
    "duration": 3,
    "start_time": "2022-08-28T10:02:59.674Z"
   },
   {
    "duration": 6,
    "start_time": "2022-08-28T10:02:59.678Z"
   },
   {
    "duration": 6,
    "start_time": "2022-08-28T10:02:59.685Z"
   },
   {
    "duration": 6,
    "start_time": "2022-08-28T10:02:59.699Z"
   },
   {
    "duration": 6,
    "start_time": "2022-08-28T10:02:59.707Z"
   },
   {
    "duration": 4,
    "start_time": "2022-08-28T10:02:59.714Z"
   },
   {
    "duration": 5,
    "start_time": "2022-08-28T10:02:59.719Z"
   },
   {
    "duration": 3,
    "start_time": "2022-08-28T10:02:59.725Z"
   },
   {
    "duration": 5,
    "start_time": "2022-08-28T10:02:59.729Z"
   },
   {
    "duration": 5,
    "start_time": "2022-08-28T10:02:59.735Z"
   },
   {
    "duration": 21,
    "start_time": "2022-08-28T10:02:59.741Z"
   },
   {
    "duration": 5,
    "start_time": "2022-08-28T10:02:59.764Z"
   },
   {
    "duration": 5,
    "start_time": "2022-08-28T10:02:59.771Z"
   },
   {
    "duration": 12,
    "start_time": "2022-08-28T10:02:59.778Z"
   },
   {
    "duration": 5,
    "start_time": "2022-08-28T10:02:59.791Z"
   },
   {
    "duration": 6,
    "start_time": "2022-08-28T10:02:59.797Z"
   },
   {
    "duration": 5,
    "start_time": "2022-08-28T10:02:59.804Z"
   },
   {
    "duration": 4,
    "start_time": "2022-08-28T10:02:59.810Z"
   },
   {
    "duration": 6,
    "start_time": "2022-08-28T10:02:59.816Z"
   },
   {
    "duration": 4,
    "start_time": "2022-08-28T10:02:59.824Z"
   },
   {
    "duration": 5,
    "start_time": "2022-08-28T10:02:59.829Z"
   },
   {
    "duration": 4,
    "start_time": "2022-08-28T10:02:59.835Z"
   },
   {
    "duration": 5,
    "start_time": "2022-08-28T10:02:59.841Z"
   },
   {
    "duration": 55,
    "start_time": "2022-08-28T10:02:59.848Z"
   },
   {
    "duration": 8,
    "start_time": "2022-08-28T10:02:59.905Z"
   },
   {
    "duration": 29,
    "start_time": "2022-08-28T10:02:59.914Z"
   },
   {
    "duration": 4,
    "start_time": "2022-08-28T10:02:59.949Z"
   },
   {
    "duration": 44,
    "start_time": "2022-08-28T10:02:59.954Z"
   },
   {
    "duration": 455,
    "start_time": "2022-08-28T10:03:00.000Z"
   },
   {
    "duration": 5,
    "start_time": "2022-08-28T10:03:00.457Z"
   },
   {
    "duration": 58,
    "start_time": "2022-08-28T10:03:00.463Z"
   },
   {
    "duration": 647,
    "start_time": "2022-08-28T10:03:00.523Z"
   },
   {
    "duration": 622,
    "start_time": "2022-08-28T10:03:01.171Z"
   },
   {
    "duration": 247,
    "start_time": "2022-08-28T10:03:01.795Z"
   },
   {
    "duration": 217,
    "start_time": "2022-08-28T10:03:02.044Z"
   },
   {
    "duration": 335,
    "start_time": "2022-08-28T10:03:02.263Z"
   },
   {
    "duration": 38,
    "start_time": "2022-08-28T10:03:02.599Z"
   },
   {
    "duration": 204,
    "start_time": "2022-08-28T10:03:02.639Z"
   },
   {
    "duration": 11,
    "start_time": "2022-08-28T10:03:02.844Z"
   },
   {
    "duration": 42,
    "start_time": "2022-08-28T10:03:02.857Z"
   },
   {
    "duration": 107,
    "start_time": "2022-08-28T10:03:02.900Z"
   },
   {
    "duration": 10,
    "start_time": "2022-08-28T10:03:03.009Z"
   },
   {
    "duration": 132,
    "start_time": "2022-08-28T10:03:03.021Z"
   },
   {
    "duration": 143,
    "start_time": "2022-08-28T10:03:03.155Z"
   },
   {
    "duration": 118,
    "start_time": "2022-08-28T10:03:03.300Z"
   },
   {
    "duration": 29,
    "start_time": "2022-08-28T10:03:03.419Z"
   },
   {
    "duration": 6,
    "start_time": "2022-08-28T10:03:03.450Z"
   },
   {
    "duration": 7,
    "start_time": "2022-08-28T10:03:03.457Z"
   },
   {
    "duration": 228,
    "start_time": "2022-08-28T10:03:03.465Z"
   },
   {
    "duration": 598,
    "start_time": "2022-08-28T10:03:03.697Z"
   },
   {
    "duration": 372,
    "start_time": "2022-08-28T10:03:04.298Z"
   },
   {
    "duration": 226,
    "start_time": "2022-08-28T10:03:04.672Z"
   },
   {
    "duration": 231,
    "start_time": "2022-08-28T10:03:04.900Z"
   },
   {
    "duration": 9,
    "start_time": "2022-08-28T10:03:05.133Z"
   },
   {
    "duration": 45,
    "start_time": "2022-08-28T10:03:05.144Z"
   },
   {
    "duration": 17,
    "start_time": "2022-08-28T10:03:05.191Z"
   },
   {
    "duration": 140,
    "start_time": "2022-08-28T10:03:05.210Z"
   },
   {
    "duration": 157,
    "start_time": "2022-08-28T10:03:05.352Z"
   },
   {
    "duration": 128,
    "start_time": "2022-08-28T10:03:05.511Z"
   }
  ],
  "kernelspec": {
   "display_name": "Python 3 (ipykernel)",
   "language": "python",
   "name": "python3"
  },
  "language_info": {
   "codemirror_mode": {
    "name": "ipython",
    "version": 3
   },
   "file_extension": ".py",
   "mimetype": "text/x-python",
   "name": "python",
   "nbconvert_exporter": "python",
   "pygments_lexer": "ipython3",
   "version": "3.9.5"
  },
  "toc": {
   "base_numbering": 1,
   "nav_menu": {},
   "number_sections": true,
   "sideBar": true,
   "skip_h1_title": true,
   "title_cell": "Содержание",
   "title_sidebar": "Contents",
   "toc_cell": true,
   "toc_position": {
    "height": "calc(100% - 180px)",
    "left": "10px",
    "top": "150px",
    "width": "350.391px"
   },
   "toc_section_display": true,
   "toc_window_display": true
  }
 },
 "nbformat": 4,
 "nbformat_minor": 4
}
