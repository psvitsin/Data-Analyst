{
 "cells": [
  {
   "cell_type": "markdown",
   "metadata": {},
   "source": [
    "# Банки — Сегментация пользователей по потреблению"
   ]
  },
  {
   "cell_type": "markdown",
   "metadata": {},
   "source": [
    "## Общие сведения по проекту\n",
    "\n",
    "**Краткое описание:** имеются данные о клиентах банка «Метанпром», который располагается в Ярославле и областных городах: Ростов Великий и Рыбинск.\n",
    "\n",
    "**Цель —** необходимо проанализировать клиентов регионального банка, сегментировать пользователей по количеству потребляемых продуктов и предложить рекомендации.\n",
    "\n",
    "**Описание данных:**\n",
    "* `userid` — идентификатор пользователя,\n",
    "* `score` — баллы кредитного скоринга,\n",
    "* `City` — город,\n",
    "* `Gender` — пол,\n",
    "* `Age` — возраст,\n",
    "* `Objects` — количество объектов в собственности,\n",
    "* `Balance` — баланс на счёте,\n",
    "* `Products` — количество продуктов, которыми пользуется клиент,\n",
    "* `CreditCard` — есть ли кредитная карта,\n",
    "* `Loyalty` — активный клиент,\n",
    "* `estimated_salary` — заработная плата клиента,\n",
    "* `Churn` — ушёл или нет.\n",
    "\n",
    "**План работы:**\n",
    "* Провести исследовательский анализ данных;\n",
    "* Сегментировать пользователей на основе данных о количестве потребляемых продуктов;\n",
    "* Сформулировать и проверить статистические гипотезы:\n",
    "1. гипотеза различия дохода между теми клиентами, которые пользуются двумя продуктами банка, и теми, которые пользуются одним.\n",
    "2. сформулировать и проверить статистическую гипотезу относительно представленных данных."
   ]
  },
  {
   "cell_type": "markdown",
   "metadata": {},
   "source": [
    "## Загрузка данных"
   ]
  },
  {
   "cell_type": "code",
   "execution_count": 1,
   "metadata": {},
   "outputs": [],
   "source": [
    "# Импорт необходимых библиотек\n",
    "import pandas as pd\n",
    "import numpy as np\n",
    "import seaborn as sns\n",
    "import matplotlib.pyplot as plt\n",
    "import scipy.stats as st\n",
    "import math\n",
    "\n",
    "import warnings\n",
    "warnings.filterwarnings('ignore')"
   ]
  },
  {
   "cell_type": "code",
   "execution_count": 2,
   "metadata": {},
   "outputs": [],
   "source": [
    "# Открытие файла с использованием конструкции try-except\n",
    "try:\n",
    "    df = pd.read_csv('C:/Users/ADMIN/Downloads/12_final/bank_dataset.csv') # Локальный путь\n",
    "except:\n",
    "    df = pd.read_csv('/datasets/bank_dataset.csv') # Серверный путь"
   ]
  },
  {
   "cell_type": "code",
   "execution_count": 3,
   "metadata": {
    "scrolled": true
   },
   "outputs": [],
   "source": [
    "# Снятие ограничений на отражение максимального коливества столбцов\n",
    "pd.set_option('display.max_columns', None)"
   ]
  },
  {
   "cell_type": "markdown",
   "metadata": {},
   "source": [
    "## Общая информация и предобработка данных"
   ]
  },
  {
   "cell_type": "markdown",
   "metadata": {},
   "source": [
    "### Общая информация о датафрейме"
   ]
  },
  {
   "cell_type": "code",
   "execution_count": 4,
   "metadata": {},
   "outputs": [
    {
     "name": "stdout",
     "output_type": "stream",
     "text": [
      "<class 'pandas.core.frame.DataFrame'>\n",
      "RangeIndex: 10000 entries, 0 to 9999\n",
      "Data columns (total 12 columns):\n",
      " #   Column            Non-Null Count  Dtype  \n",
      "---  ------            --------------  -----  \n",
      " 0   userid            10000 non-null  int64  \n",
      " 1   score             10000 non-null  int64  \n",
      " 2   City              10000 non-null  object \n",
      " 3   Gender            10000 non-null  object \n",
      " 4   Age               10000 non-null  int64  \n",
      " 5   Objects           10000 non-null  int64  \n",
      " 6   Balance           6383 non-null   float64\n",
      " 7   Products          10000 non-null  int64  \n",
      " 8   CreditCard        10000 non-null  int64  \n",
      " 9   Loyalty           10000 non-null  int64  \n",
      " 10  estimated_salary  10000 non-null  float64\n",
      " 11  Churn             10000 non-null  int64  \n",
      "dtypes: float64(2), int64(8), object(2)\n",
      "memory usage: 937.6+ KB\n"
     ]
    },
    {
     "data": {
      "text/html": [
       "<div>\n",
       "<style scoped>\n",
       "    .dataframe tbody tr th:only-of-type {\n",
       "        vertical-align: middle;\n",
       "    }\n",
       "\n",
       "    .dataframe tbody tr th {\n",
       "        vertical-align: top;\n",
       "    }\n",
       "\n",
       "    .dataframe thead th {\n",
       "        text-align: right;\n",
       "    }\n",
       "</style>\n",
       "<table border=\"1\" class=\"dataframe\">\n",
       "  <thead>\n",
       "    <tr style=\"text-align: right;\">\n",
       "      <th></th>\n",
       "      <th>count</th>\n",
       "      <th>mean</th>\n",
       "      <th>std</th>\n",
       "      <th>min</th>\n",
       "      <th>25%</th>\n",
       "      <th>50%</th>\n",
       "      <th>75%</th>\n",
       "      <th>max</th>\n",
       "    </tr>\n",
       "  </thead>\n",
       "  <tbody>\n",
       "    <tr>\n",
       "      <th>userid</th>\n",
       "      <td>10000.0</td>\n",
       "      <td>1.573368e+07</td>\n",
       "      <td>71936.186123</td>\n",
       "      <td>15608437.00</td>\n",
       "      <td>1.567126e+07</td>\n",
       "      <td>1.573347e+07</td>\n",
       "      <td>1.579597e+07</td>\n",
       "      <td>15858426.00</td>\n",
       "    </tr>\n",
       "    <tr>\n",
       "      <th>score</th>\n",
       "      <td>10000.0</td>\n",
       "      <td>6.505288e+02</td>\n",
       "      <td>96.653299</td>\n",
       "      <td>350.00</td>\n",
       "      <td>5.840000e+02</td>\n",
       "      <td>6.520000e+02</td>\n",
       "      <td>7.180000e+02</td>\n",
       "      <td>850.00</td>\n",
       "    </tr>\n",
       "    <tr>\n",
       "      <th>Age</th>\n",
       "      <td>10000.0</td>\n",
       "      <td>3.892180e+01</td>\n",
       "      <td>10.487806</td>\n",
       "      <td>18.00</td>\n",
       "      <td>3.200000e+01</td>\n",
       "      <td>3.700000e+01</td>\n",
       "      <td>4.400000e+01</td>\n",
       "      <td>92.00</td>\n",
       "    </tr>\n",
       "    <tr>\n",
       "      <th>Objects</th>\n",
       "      <td>10000.0</td>\n",
       "      <td>5.012800e+00</td>\n",
       "      <td>2.892174</td>\n",
       "      <td>0.00</td>\n",
       "      <td>3.000000e+00</td>\n",
       "      <td>5.000000e+00</td>\n",
       "      <td>7.000000e+00</td>\n",
       "      <td>10.00</td>\n",
       "    </tr>\n",
       "    <tr>\n",
       "      <th>Balance</th>\n",
       "      <td>6383.0</td>\n",
       "      <td>1.198275e+05</td>\n",
       "      <td>30095.056462</td>\n",
       "      <td>3768.69</td>\n",
       "      <td>1.001820e+05</td>\n",
       "      <td>1.198397e+05</td>\n",
       "      <td>1.395123e+05</td>\n",
       "      <td>250898.09</td>\n",
       "    </tr>\n",
       "    <tr>\n",
       "      <th>Products</th>\n",
       "      <td>10000.0</td>\n",
       "      <td>1.530200e+00</td>\n",
       "      <td>0.581654</td>\n",
       "      <td>1.00</td>\n",
       "      <td>1.000000e+00</td>\n",
       "      <td>1.000000e+00</td>\n",
       "      <td>2.000000e+00</td>\n",
       "      <td>4.00</td>\n",
       "    </tr>\n",
       "    <tr>\n",
       "      <th>CreditCard</th>\n",
       "      <td>10000.0</td>\n",
       "      <td>7.055000e-01</td>\n",
       "      <td>0.455840</td>\n",
       "      <td>0.00</td>\n",
       "      <td>0.000000e+00</td>\n",
       "      <td>1.000000e+00</td>\n",
       "      <td>1.000000e+00</td>\n",
       "      <td>1.00</td>\n",
       "    </tr>\n",
       "    <tr>\n",
       "      <th>Loyalty</th>\n",
       "      <td>10000.0</td>\n",
       "      <td>5.151000e-01</td>\n",
       "      <td>0.499797</td>\n",
       "      <td>0.00</td>\n",
       "      <td>0.000000e+00</td>\n",
       "      <td>1.000000e+00</td>\n",
       "      <td>1.000000e+00</td>\n",
       "      <td>1.00</td>\n",
       "    </tr>\n",
       "    <tr>\n",
       "      <th>estimated_salary</th>\n",
       "      <td>10000.0</td>\n",
       "      <td>1.000902e+05</td>\n",
       "      <td>57510.492818</td>\n",
       "      <td>11.58</td>\n",
       "      <td>5.100211e+04</td>\n",
       "      <td>1.001939e+05</td>\n",
       "      <td>1.493882e+05</td>\n",
       "      <td>199992.48</td>\n",
       "    </tr>\n",
       "    <tr>\n",
       "      <th>Churn</th>\n",
       "      <td>10000.0</td>\n",
       "      <td>2.037000e-01</td>\n",
       "      <td>0.402769</td>\n",
       "      <td>0.00</td>\n",
       "      <td>0.000000e+00</td>\n",
       "      <td>0.000000e+00</td>\n",
       "      <td>0.000000e+00</td>\n",
       "      <td>1.00</td>\n",
       "    </tr>\n",
       "  </tbody>\n",
       "</table>\n",
       "</div>"
      ],
      "text/plain": [
       "                    count          mean           std          min  \\\n",
       "userid            10000.0  1.573368e+07  71936.186123  15608437.00   \n",
       "score             10000.0  6.505288e+02     96.653299       350.00   \n",
       "Age               10000.0  3.892180e+01     10.487806        18.00   \n",
       "Objects           10000.0  5.012800e+00      2.892174         0.00   \n",
       "Balance            6383.0  1.198275e+05  30095.056462      3768.69   \n",
       "Products          10000.0  1.530200e+00      0.581654         1.00   \n",
       "CreditCard        10000.0  7.055000e-01      0.455840         0.00   \n",
       "Loyalty           10000.0  5.151000e-01      0.499797         0.00   \n",
       "estimated_salary  10000.0  1.000902e+05  57510.492818        11.58   \n",
       "Churn             10000.0  2.037000e-01      0.402769         0.00   \n",
       "\n",
       "                           25%           50%           75%          max  \n",
       "userid            1.567126e+07  1.573347e+07  1.579597e+07  15858426.00  \n",
       "score             5.840000e+02  6.520000e+02  7.180000e+02       850.00  \n",
       "Age               3.200000e+01  3.700000e+01  4.400000e+01        92.00  \n",
       "Objects           3.000000e+00  5.000000e+00  7.000000e+00        10.00  \n",
       "Balance           1.001820e+05  1.198397e+05  1.395123e+05    250898.09  \n",
       "Products          1.000000e+00  1.000000e+00  2.000000e+00         4.00  \n",
       "CreditCard        0.000000e+00  1.000000e+00  1.000000e+00         1.00  \n",
       "Loyalty           0.000000e+00  1.000000e+00  1.000000e+00         1.00  \n",
       "estimated_salary  5.100211e+04  1.001939e+05  1.493882e+05    199992.48  \n",
       "Churn             0.000000e+00  0.000000e+00  0.000000e+00         1.00  "
      ]
     },
     "execution_count": 4,
     "metadata": {},
     "output_type": "execute_result"
    }
   ],
   "source": [
    "# Вывод информации о датафрейме\n",
    "df.info()\n",
    "df.describe().T"
   ]
  },
  {
   "cell_type": "markdown",
   "metadata": {},
   "source": [
    "**Вывод:**\n",
    "* в исходных данных 10 000 записей и 11 столбцов, есть пропуски по столбцу `Balance` (баланс на счёте);\n",
    "* баллы кредитного скоринга от 350 до 850;\n",
    "* возраст клиентов от 18 до 92 лет (средний - 39 лет);\n",
    "* количество объектов в собственности от 0 до 10 (в среднем 5);\n",
    "* баланс на счёте от 3 769 до 250 898 (в среднем 119 827);\n",
    "* количество продуктов, которыми пользуется клиент от 1 до 4;\n",
    "* заработная плата клиента от 12 до 199 992.\n",
    "\n",
    "При проверке аномальных данных стоит обратить внимание на `estimated_salary`(заработная плата клиента).\n",
    "\n",
    "Для удобства дальнейшего анализа данных пo признаку `Gender`, возможно изменение типа на `int`."
   ]
  },
  {
   "cell_type": "markdown",
   "metadata": {},
   "source": [
    "### Проверка на соответствие стилю python"
   ]
  },
  {
   "cell_type": "code",
   "execution_count": 5,
   "metadata": {},
   "outputs": [
    {
     "data": {
      "text/plain": [
       "array(['Ж', 'М'], dtype=object)"
      ]
     },
     "execution_count": 5,
     "metadata": {},
     "output_type": "execute_result"
    }
   ],
   "source": [
    "# Приведение наимнований столбцов к стилю python\n",
    "df.columns = df.columns.str.lower()\n",
    "\n",
    "# Добавление разделителя \"_\" \n",
    "df.rename(columns = {'userid':'user_id', 'creditcard':'credit_card'}, inplace = True)\n",
    "\n",
    "# Уникальные значения по признаку 'gender'\n",
    "df['gender'].unique()"
   ]
  },
  {
   "cell_type": "code",
   "execution_count": 6,
   "metadata": {},
   "outputs": [],
   "source": [
    "# Замена пола: М = 1, Ж = 0\n",
    "df['gender'] = df['gender'].replace({'Ж':0, 'М': 1})\n",
    "\n",
    "# Именение типа данных для удобства при последующей работе с данными\n",
    "df['gender'] = df['gender'].astype('int64')"
   ]
  },
  {
   "cell_type": "code",
   "execution_count": 7,
   "metadata": {},
   "outputs": [
    {
     "data": {
      "text/html": [
       "<div>\n",
       "<style scoped>\n",
       "    .dataframe tbody tr th:only-of-type {\n",
       "        vertical-align: middle;\n",
       "    }\n",
       "\n",
       "    .dataframe tbody tr th {\n",
       "        vertical-align: top;\n",
       "    }\n",
       "\n",
       "    .dataframe thead th {\n",
       "        text-align: right;\n",
       "    }\n",
       "</style>\n",
       "<table border=\"1\" class=\"dataframe\">\n",
       "  <thead>\n",
       "    <tr style=\"text-align: right;\">\n",
       "      <th></th>\n",
       "      <th>user_id</th>\n",
       "      <th>score</th>\n",
       "      <th>city</th>\n",
       "      <th>gender</th>\n",
       "      <th>age</th>\n",
       "      <th>objects</th>\n",
       "      <th>balance</th>\n",
       "      <th>products</th>\n",
       "      <th>credit_card</th>\n",
       "      <th>loyalty</th>\n",
       "      <th>estimated_salary</th>\n",
       "      <th>churn</th>\n",
       "    </tr>\n",
       "  </thead>\n",
       "  <tbody>\n",
       "    <tr>\n",
       "      <th>0</th>\n",
       "      <td>15677338</td>\n",
       "      <td>619</td>\n",
       "      <td>Ярославль</td>\n",
       "      <td>0</td>\n",
       "      <td>42</td>\n",
       "      <td>2</td>\n",
       "      <td>NaN</td>\n",
       "      <td>1</td>\n",
       "      <td>1</td>\n",
       "      <td>1</td>\n",
       "      <td>101348.88</td>\n",
       "      <td>1</td>\n",
       "    </tr>\n",
       "    <tr>\n",
       "      <th>1</th>\n",
       "      <td>15690047</td>\n",
       "      <td>608</td>\n",
       "      <td>Рыбинск</td>\n",
       "      <td>0</td>\n",
       "      <td>41</td>\n",
       "      <td>1</td>\n",
       "      <td>83807.86</td>\n",
       "      <td>1</td>\n",
       "      <td>0</td>\n",
       "      <td>1</td>\n",
       "      <td>112542.58</td>\n",
       "      <td>0</td>\n",
       "    </tr>\n",
       "    <tr>\n",
       "      <th>2</th>\n",
       "      <td>15662040</td>\n",
       "      <td>502</td>\n",
       "      <td>Ярославль</td>\n",
       "      <td>0</td>\n",
       "      <td>42</td>\n",
       "      <td>8</td>\n",
       "      <td>159660.80</td>\n",
       "      <td>3</td>\n",
       "      <td>1</td>\n",
       "      <td>0</td>\n",
       "      <td>113931.57</td>\n",
       "      <td>1</td>\n",
       "    </tr>\n",
       "    <tr>\n",
       "      <th>3</th>\n",
       "      <td>15744090</td>\n",
       "      <td>699</td>\n",
       "      <td>Ярославль</td>\n",
       "      <td>0</td>\n",
       "      <td>39</td>\n",
       "      <td>1</td>\n",
       "      <td>NaN</td>\n",
       "      <td>2</td>\n",
       "      <td>0</td>\n",
       "      <td>0</td>\n",
       "      <td>93826.63</td>\n",
       "      <td>0</td>\n",
       "    </tr>\n",
       "    <tr>\n",
       "      <th>4</th>\n",
       "      <td>15780624</td>\n",
       "      <td>850</td>\n",
       "      <td>Рыбинск</td>\n",
       "      <td>0</td>\n",
       "      <td>43</td>\n",
       "      <td>2</td>\n",
       "      <td>125510.82</td>\n",
       "      <td>1</td>\n",
       "      <td>1</td>\n",
       "      <td>1</td>\n",
       "      <td>79084.10</td>\n",
       "      <td>0</td>\n",
       "    </tr>\n",
       "  </tbody>\n",
       "</table>\n",
       "</div>"
      ],
      "text/plain": [
       "    user_id  score       city  gender  age  objects    balance  products  \\\n",
       "0  15677338    619  Ярославль       0   42        2        NaN         1   \n",
       "1  15690047    608    Рыбинск       0   41        1   83807.86         1   \n",
       "2  15662040    502  Ярославль       0   42        8  159660.80         3   \n",
       "3  15744090    699  Ярославль       0   39        1        NaN         2   \n",
       "4  15780624    850    Рыбинск       0   43        2  125510.82         1   \n",
       "\n",
       "   credit_card  loyalty  estimated_salary  churn  \n",
       "0            1        1         101348.88      1  \n",
       "1            0        1         112542.58      0  \n",
       "2            1        0         113931.57      1  \n",
       "3            0        0          93826.63      0  \n",
       "4            1        1          79084.10      0  "
      ]
     },
     "execution_count": 7,
     "metadata": {},
     "output_type": "execute_result"
    }
   ],
   "source": [
    "# Получение первых 5 строк таблицы df\n",
    "df.head()"
   ]
  },
  {
   "cell_type": "markdown",
   "metadata": {},
   "source": [
    "**Вывод:** название столбцов скорректировано в соответствии со стилем python (нижний курсив + разделитель \"_\")."
   ]
  },
  {
   "cell_type": "markdown",
   "metadata": {},
   "source": [
    "### Проверка на пропуски, их исследование в разрезе остальных признаков с выдвижением гипотезы"
   ]
  },
  {
   "cell_type": "code",
   "execution_count": 8,
   "metadata": {
    "scrolled": true
   },
   "outputs": [
    {
     "data": {
      "text/plain": [
       "user_id                0\n",
       "score                  0\n",
       "city                   0\n",
       "gender                 0\n",
       "age                    0\n",
       "objects                0\n",
       "balance             3617\n",
       "products               0\n",
       "credit_card            0\n",
       "loyalty                0\n",
       "estimated_salary       0\n",
       "churn                  0\n",
       "dtype: int64"
      ]
     },
     "execution_count": 8,
     "metadata": {},
     "output_type": "execute_result"
    }
   ],
   "source": [
    "# Подсчёт пропусков\n",
    "df.isna().sum()"
   ]
  },
  {
   "cell_type": "code",
   "execution_count": 9,
   "metadata": {},
   "outputs": [
    {
     "data": {
      "text/plain": [
       "0.3617"
      ]
     },
     "execution_count": 9,
     "metadata": {},
     "output_type": "execute_result"
    }
   ],
   "source": [
    "# Расчет доли пропусков\n",
    "df['balance'].isna().sum() / len(df['balance'])"
   ]
  },
  {
   "cell_type": "markdown",
   "metadata": {},
   "source": [
    "Доля пропусков составляет 1/3 от имеющихся данных по балансу на счете. \n",
    "\n",
    "Исключение пропусков приведет к искажению дальнейшего анализа данных."
   ]
  },
  {
   "cell_type": "code",
   "execution_count": 10,
   "metadata": {},
   "outputs": [],
   "source": [
    "# Заполнение пропущенных значений нулями\n",
    "df['balance'] = df['balance'].fillna(0)\n",
    "\n",
    "# Именение типа данных для удобства при последующей работе с данными\n",
    "df['balance'] = df['balance'].astype('int64')\n",
    "df['estimated_salary'] = df['estimated_salary'].astype('int64')"
   ]
  },
  {
   "cell_type": "code",
   "execution_count": 11,
   "metadata": {},
   "outputs": [],
   "source": [
    "# Создание датафрема с пропусками по балансу\n",
    "zero_balance = df[df['balance'] == 0]"
   ]
  },
  {
   "cell_type": "code",
   "execution_count": 12,
   "metadata": {},
   "outputs": [
    {
     "data": {
      "image/png": "[encoded data removed]",
      "text/plain": [
       "<Figure size 1080x720 with 2 Axes>"
      ]
     },
     "metadata": {
      "needs_background": "light"
     },
     "output_type": "display_data"
    }
   ],
   "source": [
    "# Создание корреляционной матрицы\n",
    "corr_matrix = zero_balance.corr()\n",
    "plt.figure(figsize=(15, 10))\n",
    "sns.heatmap(corr_matrix , annot = True, fmt = '0.2f', linewidths=.5)\n",
    "plt.show()"
   ]
  },
  {
   "cell_type": "markdown",
   "metadata": {},
   "source": [
    "Явной зависимости между данными с пропусками по корреляционной матрице не выявлено."
   ]
  },
  {
   "cell_type": "code",
   "execution_count": 13,
   "metadata": {},
   "outputs": [
    {
     "data": {
      "text/html": [
       "<style  type=\"text/css\" >\n",
       "#T_2e99e_row0_col0{\n",
       "            background-color:  #e3e3f3;\n",
       "            color:  #000000;\n",
       "        }#T_2e99e_row0_col1{\n",
       "            background-color:  #bebef5;\n",
       "            color:  #000000;\n",
       "        }#T_2e99e_row0_col2{\n",
       "            background-color:  #dedef4;\n",
       "            color:  #000000;\n",
       "        }#T_2e99e_row1_col0{\n",
       "            background-color:  #b1b1f6;\n",
       "            color:  #000000;\n",
       "        }#T_2e99e_row1_col1,#T_2e99e_row2_col1{\n",
       "            background-color:  #e5e5f3;\n",
       "            color:  #000000;\n",
       "        }#T_2e99e_row1_col2{\n",
       "            background-color:  #b8b8f6;\n",
       "            color:  #000000;\n",
       "        }#T_2e99e_row2_col0,#T_2e99e_row3_col1,#T_2e99e_row3_col2,#T_2e99e_row6_col0,#T_2e99e_row7_col2{\n",
       "            background-color:  #f0f0f3;\n",
       "            color:  #000000;\n",
       "        }#T_2e99e_row2_col2{\n",
       "            background-color:  #efeff3;\n",
       "            color:  #000000;\n",
       "        }#T_2e99e_row3_col0,#T_2e99e_row7_col0{\n",
       "            background-color:  #000000;\n",
       "            color:  #f1f1f1;\n",
       "        }#T_2e99e_row4_col0{\n",
       "            background-color:  #d4d4f4;\n",
       "            color:  #000000;\n",
       "        }#T_2e99e_row4_col1{\n",
       "            background-color:  #8282f8;\n",
       "            color:  #000000;\n",
       "        }#T_2e99e_row4_col2{\n",
       "            background-color:  #c8c8f5;\n",
       "            color:  #000000;\n",
       "        }#T_2e99e_row5_col0{\n",
       "            background-color:  #6f6ff9;\n",
       "            color:  #000000;\n",
       "        }#T_2e99e_row5_col1{\n",
       "            background-color:  #d5d5f4;\n",
       "            color:  #000000;\n",
       "        }#T_2e99e_row5_col2{\n",
       "            background-color:  #7c7cf9;\n",
       "            color:  #000000;\n",
       "        }#T_2e99e_row6_col1{\n",
       "            background-color:  #e1e1f4;\n",
       "            color:  #000000;\n",
       "        }#T_2e99e_row6_col2{\n",
       "            background-color:  #eeeef3;\n",
       "            color:  #000000;\n",
       "        }#T_2e99e_row7_col1{\n",
       "            background-color:  #ececf3;\n",
       "            color:  #000000;\n",
       "        }#T_2e99e_row8_col0,#T_2e99e_row8_col1,#T_2e99e_row8_col2{\n",
       "            background-color:  #0000ff;\n",
       "            color:  #f1f1f1;\n",
       "        }</style><table id=\"T_2e99e_\" ><thead>    <tr>        <th class=\"blank\" ></th>        <th class=\"index_name level0\" >churn</th>        <th class=\"col_heading level0 col0\" >0</th>        <th class=\"col_heading level0 col1\" >1</th>        <th class=\"col_heading level0 col2\" >All</th>    </tr>    <tr>        <th class=\"index_name level0\" >city</th>        <th class=\"index_name level1\" >products</th>        <th class=\"blank\" ></th>        <th class=\"blank\" ></th>        <th class=\"blank\" ></th>    </tr></thead><tbody>\n",
       "                <tr>\n",
       "                        <th id=\"T_2e99e_level0_row0\" class=\"row_heading level0 row0\" rowspan=\"4\">Рыбинск</th>\n",
       "                        <th id=\"T_2e99e_level1_row0\" class=\"row_heading level1 row0\" >1</th>\n",
       "                        <td id=\"T_2e99e_row0_col0\" class=\"data row0 col0\" >187.000000</td>\n",
       "                        <td id=\"T_2e99e_row0_col1\" class=\"data row0 col1\" >108.000000</td>\n",
       "                        <td id=\"T_2e99e_row0_col2\" class=\"data row0 col2\" >295</td>\n",
       "            </tr>\n",
       "            <tr>\n",
       "                                <th id=\"T_2e99e_level1_row1\" class=\"row_heading level1 row1\" >2</th>\n",
       "                        <td id=\"T_2e99e_row1_col0\" class=\"data row1 col0\" >835.000000</td>\n",
       "                        <td id=\"T_2e99e_row1_col1\" class=\"data row1 col1\" >26.000000</td>\n",
       "                        <td id=\"T_2e99e_row1_col2\" class=\"data row1 col2\" >861</td>\n",
       "            </tr>\n",
       "            <tr>\n",
       "                                <th id=\"T_2e99e_level1_row2\" class=\"row_heading level1 row2\" >3</th>\n",
       "                        <td id=\"T_2e99e_row2_col0\" class=\"data row2 col0\" >14.000000</td>\n",
       "                        <td id=\"T_2e99e_row2_col1\" class=\"data row2 col1\" >27.000000</td>\n",
       "                        <td id=\"T_2e99e_row2_col2\" class=\"data row2 col2\" >41</td>\n",
       "            </tr>\n",
       "            <tr>\n",
       "                                <th id=\"T_2e99e_level1_row3\" class=\"row_heading level1 row3\" >4</th>\n",
       "                        <td id=\"T_2e99e_row3_col0\" class=\"data row3 col0\" >nan</td>\n",
       "                        <td id=\"T_2e99e_row3_col1\" class=\"data row3 col1\" >2.000000</td>\n",
       "                        <td id=\"T_2e99e_row3_col2\" class=\"data row3 col2\" >2</td>\n",
       "            </tr>\n",
       "            <tr>\n",
       "                        <th id=\"T_2e99e_level0_row4\" class=\"row_heading level0 row4\" rowspan=\"4\">Ярославль</th>\n",
       "                        <th id=\"T_2e99e_level1_row4\" class=\"row_heading level1 row4\" >1</th>\n",
       "                        <td id=\"T_2e99e_row4_col0\" class=\"data row4 col0\" >380.000000</td>\n",
       "                        <td id=\"T_2e99e_row4_col1\" class=\"data row4 col1\" >230.000000</td>\n",
       "                        <td id=\"T_2e99e_row4_col2\" class=\"data row4 col2\" >610</td>\n",
       "            </tr>\n",
       "            <tr>\n",
       "                                <th id=\"T_2e99e_level1_row5\" class=\"row_heading level1 row5\" >2</th>\n",
       "                        <td id=\"T_2e99e_row5_col0\" class=\"data row5 col0\" >1679.000000</td>\n",
       "                        <td id=\"T_2e99e_row5_col1\" class=\"data row5 col1\" >60.000000</td>\n",
       "                        <td id=\"T_2e99e_row5_col2\" class=\"data row5 col2\" >1739</td>\n",
       "            </tr>\n",
       "            <tr>\n",
       "                                <th id=\"T_2e99e_level1_row6\" class=\"row_heading level1 row6\" >3</th>\n",
       "                        <td id=\"T_2e99e_row6_col0\" class=\"data row6 col0\" >22.000000</td>\n",
       "                        <td id=\"T_2e99e_row6_col1\" class=\"data row6 col1\" >35.000000</td>\n",
       "                        <td id=\"T_2e99e_row6_col2\" class=\"data row6 col2\" >57</td>\n",
       "            </tr>\n",
       "            <tr>\n",
       "                                <th id=\"T_2e99e_level1_row7\" class=\"row_heading level1 row7\" >4</th>\n",
       "                        <td id=\"T_2e99e_row7_col0\" class=\"data row7 col0\" >nan</td>\n",
       "                        <td id=\"T_2e99e_row7_col1\" class=\"data row7 col1\" >12.000000</td>\n",
       "                        <td id=\"T_2e99e_row7_col2\" class=\"data row7 col2\" >12</td>\n",
       "            </tr>\n",
       "            <tr>\n",
       "                        <th id=\"T_2e99e_level0_row8\" class=\"row_heading level0 row8\" >All</th>\n",
       "                        <th id=\"T_2e99e_level1_row8\" class=\"row_heading level1 row8\" ></th>\n",
       "                        <td id=\"T_2e99e_row8_col0\" class=\"data row8 col0\" >3117.000000</td>\n",
       "                        <td id=\"T_2e99e_row8_col1\" class=\"data row8 col1\" >500.000000</td>\n",
       "                        <td id=\"T_2e99e_row8_col2\" class=\"data row8 col2\" >3617</td>\n",
       "            </tr>\n",
       "    </tbody></table>"
      ],
      "text/plain": [
       "<pandas.io.formats.style.Styler at 0x7fb599d4a250>"
      ]
     },
     "execution_count": 13,
     "metadata": {},
     "output_type": "execute_result"
    }
   ],
   "source": [
    "# Определение цветового градиента для вывода таблиц\n",
    "cm = sns.light_palette(\"blue\", as_cmap=True)\n",
    "\n",
    "# Создание сводной таблицы по датафрейму с пропусками\n",
    "zero_balance.pivot_table(index = ['city', 'products'], columns = ['churn'], values = 'user_id', aggfunc = 'count', margins=True).style.background_gradient(cmap=cm)"
   ]
  },
  {
   "cell_type": "markdown",
   "metadata": {},
   "source": [
    "Пропуски в балансе встречаются только в Ярославле и Рыбинске. В отток попали 500 из 3617, при этом не осталось клиентов, которые воспользовались всеми 4 продуктами банка."
   ]
  },
  {
   "cell_type": "code",
   "execution_count": 14,
   "metadata": {
    "scrolled": false
   },
   "outputs": [
    {
     "data": {
      "text/html": [
       "<style  type=\"text/css\" >\n",
       "#T_1de7c_row0_col0{\n",
       "            background-color:  #dadaf4;\n",
       "            color:  #000000;\n",
       "        }#T_1de7c_row0_col1,#T_1de7c_row9_col0{\n",
       "            background-color:  #adadf6;\n",
       "            color:  #000000;\n",
       "        }#T_1de7c_row0_col2,#T_1de7c_row5_col0{\n",
       "            background-color:  #d0d0f4;\n",
       "            color:  #000000;\n",
       "        }#T_1de7c_row1_col0{\n",
       "            background-color:  #d5d5f4;\n",
       "            color:  #000000;\n",
       "        }#T_1de7c_row1_col1{\n",
       "            background-color:  #e2e2f3;\n",
       "            color:  #000000;\n",
       "        }#T_1de7c_row1_col2{\n",
       "            background-color:  #d8d8f4;\n",
       "            color:  #000000;\n",
       "        }#T_1de7c_row2_col0,#T_1de7c_row3_col2,#T_1de7c_row6_col0,#T_1de7c_row7_col1,#T_1de7c_row7_col2,#T_1de7c_row10_col0,#T_1de7c_row11_col2{\n",
       "            background-color:  #f0f0f3;\n",
       "            color:  #000000;\n",
       "        }#T_1de7c_row2_col1,#T_1de7c_row10_col1{\n",
       "            background-color:  #e8e8f3;\n",
       "            color:  #000000;\n",
       "        }#T_1de7c_row2_col2,#T_1de7c_row3_col1,#T_1de7c_row6_col2,#T_1de7c_row10_col2,#T_1de7c_row11_col1{\n",
       "            background-color:  #efeff3;\n",
       "            color:  #000000;\n",
       "        }#T_1de7c_row3_col0,#T_1de7c_row7_col0,#T_1de7c_row11_col0{\n",
       "            background-color:  #000000;\n",
       "            color:  #f1f1f1;\n",
       "        }#T_1de7c_row4_col0,#T_1de7c_row5_col2{\n",
       "            background-color:  #d4d4f4;\n",
       "            color:  #000000;\n",
       "        }#T_1de7c_row4_col1{\n",
       "            background-color:  #d2d2f4;\n",
       "            color:  #000000;\n",
       "        }#T_1de7c_row4_col2{\n",
       "            background-color:  #d3d3f4;\n",
       "            color:  #000000;\n",
       "        }#T_1de7c_row5_col1{\n",
       "            background-color:  #e7e7f3;\n",
       "            color:  #000000;\n",
       "        }#T_1de7c_row6_col1{\n",
       "            background-color:  #ececf3;\n",
       "            color:  #000000;\n",
       "        }#T_1de7c_row8_col0{\n",
       "            background-color:  #b6b6f6;\n",
       "            color:  #000000;\n",
       "        }#T_1de7c_row8_col1{\n",
       "            background-color:  #aeaef6;\n",
       "            color:  #000000;\n",
       "        }#T_1de7c_row8_col2{\n",
       "            background-color:  #b4b4f6;\n",
       "            color:  #000000;\n",
       "        }#T_1de7c_row9_col1{\n",
       "            background-color:  #e1e1f4;\n",
       "            color:  #000000;\n",
       "        }#T_1de7c_row9_col2{\n",
       "            background-color:  #b8b8f6;\n",
       "            color:  #000000;\n",
       "        }#T_1de7c_row12_col0,#T_1de7c_row12_col1,#T_1de7c_row12_col2{\n",
       "            background-color:  #0000ff;\n",
       "            color:  #f1f1f1;\n",
       "        }</style><table id=\"T_1de7c_\" ><thead>    <tr>        <th class=\"blank\" ></th>        <th class=\"index_name level0\" >churn</th>        <th class=\"col_heading level0 col0\" >0</th>        <th class=\"col_heading level0 col1\" >1</th>        <th class=\"col_heading level0 col2\" >All</th>    </tr>    <tr>        <th class=\"index_name level0\" >city</th>        <th class=\"index_name level1\" >products</th>        <th class=\"blank\" ></th>        <th class=\"blank\" ></th>        <th class=\"blank\" ></th>    </tr></thead><tbody>\n",
       "                <tr>\n",
       "                        <th id=\"T_1de7c_level0_row0\" class=\"row_heading level0 row0\" rowspan=\"4\">Ростов Великий</th>\n",
       "                        <th id=\"T_1de7c_level1_row0\" class=\"row_heading level1 row0\" >1</th>\n",
       "                        <td id=\"T_1de7c_row0_col0\" class=\"data row0 col0\" >771.000000</td>\n",
       "                        <td id=\"T_1de7c_row0_col1\" class=\"data row0 col1\" >578.000000</td>\n",
       "                        <td id=\"T_1de7c_row0_col2\" class=\"data row0 col2\" >1349</td>\n",
       "            </tr>\n",
       "            <tr>\n",
       "                                <th id=\"T_1de7c_level1_row1\" class=\"row_heading level1 row1\" >2</th>\n",
       "                        <td id=\"T_1de7c_row1_col0\" class=\"data row1 col0\" >914.000000</td>\n",
       "                        <td id=\"T_1de7c_row1_col1\" class=\"data row1 col1\" >126.000000</td>\n",
       "                        <td id=\"T_1de7c_row1_col2\" class=\"data row1 col2\" >1040</td>\n",
       "            </tr>\n",
       "            <tr>\n",
       "                                <th id=\"T_1de7c_level1_row2\" class=\"row_heading level1 row2\" >3</th>\n",
       "                        <td id=\"T_1de7c_row2_col0\" class=\"data row2 col0\" >10.000000</td>\n",
       "                        <td id=\"T_1de7c_row2_col1\" class=\"data row2 col1\" >86.000000</td>\n",
       "                        <td id=\"T_1de7c_row2_col2\" class=\"data row2 col2\" >96</td>\n",
       "            </tr>\n",
       "            <tr>\n",
       "                                <th id=\"T_1de7c_level1_row3\" class=\"row_heading level1 row3\" >4</th>\n",
       "                        <td id=\"T_1de7c_row3_col0\" class=\"data row3 col0\" >nan</td>\n",
       "                        <td id=\"T_1de7c_row3_col1\" class=\"data row3 col1\" >24.000000</td>\n",
       "                        <td id=\"T_1de7c_row3_col2\" class=\"data row3 col2\" >24</td>\n",
       "            </tr>\n",
       "            <tr>\n",
       "                        <th id=\"T_1de7c_level0_row4\" class=\"row_heading level0 row4\" rowspan=\"4\">Рыбинск</th>\n",
       "                        <th id=\"T_1de7c_level1_row4\" class=\"row_heading level1 row4\" >1</th>\n",
       "                        <td id=\"T_1de7c_row4_col0\" class=\"data row4 col0\" >954.000000</td>\n",
       "                        <td id=\"T_1de7c_row4_col1\" class=\"data row4 col1\" >267.000000</td>\n",
       "                        <td id=\"T_1de7c_row4_col2\" class=\"data row4 col2\" >1221</td>\n",
       "            </tr>\n",
       "            <tr>\n",
       "                                <th id=\"T_1de7c_level1_row5\" class=\"row_heading level1 row5\" >2</th>\n",
       "                        <td id=\"T_1de7c_row5_col0\" class=\"data row5 col0\" >1096.000000</td>\n",
       "                        <td id=\"T_1de7c_row5_col1\" class=\"data row5 col1\" >87.000000</td>\n",
       "                        <td id=\"T_1de7c_row5_col2\" class=\"data row5 col2\" >1183</td>\n",
       "            </tr>\n",
       "            <tr>\n",
       "                                <th id=\"T_1de7c_level1_row6\" class=\"row_heading level1 row6\" >3</th>\n",
       "                        <td id=\"T_1de7c_row6_col0\" class=\"data row6 col0\" >14.000000</td>\n",
       "                        <td id=\"T_1de7c_row6_col1\" class=\"data row6 col1\" >52.000000</td>\n",
       "                        <td id=\"T_1de7c_row6_col2\" class=\"data row6 col2\" >66</td>\n",
       "            </tr>\n",
       "            <tr>\n",
       "                                <th id=\"T_1de7c_level1_row7\" class=\"row_heading level1 row7\" >4</th>\n",
       "                        <td id=\"T_1de7c_row7_col0\" class=\"data row7 col0\" >nan</td>\n",
       "                        <td id=\"T_1de7c_row7_col1\" class=\"data row7 col1\" >7.000000</td>\n",
       "                        <td id=\"T_1de7c_row7_col2\" class=\"data row7 col2\" >7</td>\n",
       "            </tr>\n",
       "            <tr>\n",
       "                        <th id=\"T_1de7c_level0_row8\" class=\"row_heading level0 row8\" rowspan=\"4\">Ярославль</th>\n",
       "                        <th id=\"T_1de7c_level1_row8\" class=\"row_heading level1 row8\" >1</th>\n",
       "                        <td id=\"T_1de7c_row8_col0\" class=\"data row8 col0\" >1950.000000</td>\n",
       "                        <td id=\"T_1de7c_row8_col1\" class=\"data row8 col1\" >564.000000</td>\n",
       "                        <td id=\"T_1de7c_row8_col2\" class=\"data row8 col2\" >2514</td>\n",
       "            </tr>\n",
       "            <tr>\n",
       "                                <th id=\"T_1de7c_level1_row9\" class=\"row_heading level1 row9\" >2</th>\n",
       "                        <td id=\"T_1de7c_row9_col0\" class=\"data row9 col0\" >2232.000000</td>\n",
       "                        <td id=\"T_1de7c_row9_col1\" class=\"data row9 col1\" >135.000000</td>\n",
       "                        <td id=\"T_1de7c_row9_col2\" class=\"data row9 col2\" >2367</td>\n",
       "            </tr>\n",
       "            <tr>\n",
       "                                <th id=\"T_1de7c_level1_row10\" class=\"row_heading level1 row10\" >3</th>\n",
       "                        <td id=\"T_1de7c_row10_col0\" class=\"data row10 col0\" >22.000000</td>\n",
       "                        <td id=\"T_1de7c_row10_col1\" class=\"data row10 col1\" >82.000000</td>\n",
       "                        <td id=\"T_1de7c_row10_col2\" class=\"data row10 col2\" >104</td>\n",
       "            </tr>\n",
       "            <tr>\n",
       "                                <th id=\"T_1de7c_level1_row11\" class=\"row_heading level1 row11\" >4</th>\n",
       "                        <td id=\"T_1de7c_row11_col0\" class=\"data row11 col0\" >nan</td>\n",
       "                        <td id=\"T_1de7c_row11_col1\" class=\"data row11 col1\" >29.000000</td>\n",
       "                        <td id=\"T_1de7c_row11_col2\" class=\"data row11 col2\" >29</td>\n",
       "            </tr>\n",
       "            <tr>\n",
       "                        <th id=\"T_1de7c_level0_row12\" class=\"row_heading level0 row12\" >All</th>\n",
       "                        <th id=\"T_1de7c_level1_row12\" class=\"row_heading level1 row12\" ></th>\n",
       "                        <td id=\"T_1de7c_row12_col0\" class=\"data row12 col0\" >7963.000000</td>\n",
       "                        <td id=\"T_1de7c_row12_col1\" class=\"data row12 col1\" >2037.000000</td>\n",
       "                        <td id=\"T_1de7c_row12_col2\" class=\"data row12 col2\" >10000</td>\n",
       "            </tr>\n",
       "    </tbody></table>"
      ],
      "text/plain": [
       "<pandas.io.formats.style.Styler at 0x7fb59180aaf0>"
      ]
     },
     "execution_count": 14,
     "metadata": {},
     "output_type": "execute_result"
    }
   ],
   "source": [
    "# Создание сводной таблицы по общему датафрейму для сравнения\n",
    "df.pivot_table(index = ['city', 'products'], columns = ['churn'], values = 'user_id', aggfunc = 'count', margins=True).style.background_gradient(cmap=cm)"
   ]
  },
  {
   "cell_type": "markdown",
   "metadata": {},
   "source": [
    "В Растове Великом так же не осталось клиентов, которые воспользовались всеми 4 продуктами банка, но пропуски отсутствуют. "
   ]
  },
  {
   "cell_type": "code",
   "execution_count": 15,
   "metadata": {},
   "outputs": [
    {
     "data": {
      "text/plain": [
       "1    2592\n",
       "0    1025\n",
       "Name: credit_card, dtype: int64"
      ]
     },
     "execution_count": 15,
     "metadata": {},
     "output_type": "execute_result"
    }
   ],
   "source": [
    "# Подсчет количества кредитных кард в датафрейме с пропусками\n",
    "zero_balance['credit_card'].value_counts()"
   ]
  },
  {
   "cell_type": "code",
   "execution_count": 16,
   "metadata": {},
   "outputs": [
    {
     "data": {
      "text/plain": [
       "1    7055\n",
       "0    2945\n",
       "Name: credit_card, dtype: int64"
      ]
     },
     "execution_count": 16,
     "metadata": {},
     "output_type": "execute_result"
    }
   ],
   "source": [
    "# Подсчет количества кредитных кард в датафрейме\n",
    "df['credit_card'].value_counts()"
   ]
  },
  {
   "cell_type": "markdown",
   "metadata": {},
   "source": [
    "**Выводы:** \n",
    "* один из продуктов банка - это закрытие счета;\n",
    "* кредитные карты имеют 2/3 клиентов банка (в т.ч. с нулевым балансом);\n",
    "* пропуски только в двух городах из трех и прямой зависимости не выявлено;\n",
    "* возможные причины пропусков: технический сбой в Ярославле и Рыбинске (следует сравнить работу системы с Растовом Великим); отсутствие данных или отсутствие банковского счета (одновго из продуктов) при оформлении."
   ]
  },
  {
   "cell_type": "markdown",
   "metadata": {},
   "source": [
    "### Проверка наличия аномальных данных"
   ]
  },
  {
   "cell_type": "code",
   "execution_count": 17,
   "metadata": {},
   "outputs": [
    {
     "data": {
      "image/png": "[encoded data removed]",
      "text/plain": [
       "<Figure size 432x288 with 1 Axes>"
      ]
     },
     "metadata": {
      "needs_background": "light"
     },
     "output_type": "display_data"
    }
   ],
   "source": [
    "# Построение гистограммы по заработной плате клиента\n",
    "df['estimated_salary'].hist(bins=100)\n",
    "plt.title('Распределение заработной платы клиентов банка')\n",
    "plt.show()"
   ]
  },
  {
   "cell_type": "markdown",
   "metadata": {},
   "source": [
    "Наблюдается равномерное распределение заработной платы."
   ]
  },
  {
   "cell_type": "code",
   "execution_count": 18,
   "metadata": {},
   "outputs": [
    {
     "data": {
      "text/html": [
       "<div>\n",
       "<style scoped>\n",
       "    .dataframe tbody tr th:only-of-type {\n",
       "        vertical-align: middle;\n",
       "    }\n",
       "\n",
       "    .dataframe tbody tr th {\n",
       "        vertical-align: top;\n",
       "    }\n",
       "\n",
       "    .dataframe thead th {\n",
       "        text-align: right;\n",
       "    }\n",
       "</style>\n",
       "<table border=\"1\" class=\"dataframe\">\n",
       "  <thead>\n",
       "    <tr style=\"text-align: right;\">\n",
       "      <th></th>\n",
       "      <th>count</th>\n",
       "      <th>mean</th>\n",
       "      <th>std</th>\n",
       "      <th>min</th>\n",
       "      <th>25%</th>\n",
       "      <th>50%</th>\n",
       "      <th>75%</th>\n",
       "      <th>max</th>\n",
       "    </tr>\n",
       "  </thead>\n",
       "  <tbody>\n",
       "    <tr>\n",
       "      <th>user_id</th>\n",
       "      <td>761.0</td>\n",
       "      <td>1.573150e+07</td>\n",
       "      <td>71833.939086</td>\n",
       "      <td>15608947.0</td>\n",
       "      <td>15671044.0</td>\n",
       "      <td>15728955.0</td>\n",
       "      <td>15792319.0</td>\n",
       "      <td>15858164.0</td>\n",
       "    </tr>\n",
       "    <tr>\n",
       "      <th>score</th>\n",
       "      <td>761.0</td>\n",
       "      <td>6.450604e+02</td>\n",
       "      <td>98.436122</td>\n",
       "      <td>412.0</td>\n",
       "      <td>578.0</td>\n",
       "      <td>645.0</td>\n",
       "      <td>711.0</td>\n",
       "      <td>850.0</td>\n",
       "    </tr>\n",
       "    <tr>\n",
       "      <th>gender</th>\n",
       "      <td>761.0</td>\n",
       "      <td>5.492773e-01</td>\n",
       "      <td>0.497893</td>\n",
       "      <td>0.0</td>\n",
       "      <td>0.0</td>\n",
       "      <td>1.0</td>\n",
       "      <td>1.0</td>\n",
       "      <td>1.0</td>\n",
       "    </tr>\n",
       "    <tr>\n",
       "      <th>age</th>\n",
       "      <td>761.0</td>\n",
       "      <td>3.868857e+01</td>\n",
       "      <td>10.467066</td>\n",
       "      <td>18.0</td>\n",
       "      <td>31.0</td>\n",
       "      <td>37.0</td>\n",
       "      <td>43.0</td>\n",
       "      <td>77.0</td>\n",
       "    </tr>\n",
       "    <tr>\n",
       "      <th>objects</th>\n",
       "      <td>761.0</td>\n",
       "      <td>4.932983e+00</td>\n",
       "      <td>2.855646</td>\n",
       "      <td>0.0</td>\n",
       "      <td>2.0</td>\n",
       "      <td>5.0</td>\n",
       "      <td>7.0</td>\n",
       "      <td>10.0</td>\n",
       "    </tr>\n",
       "    <tr>\n",
       "      <th>balance</th>\n",
       "      <td>761.0</td>\n",
       "      <td>6.996191e+04</td>\n",
       "      <td>62892.688281</td>\n",
       "      <td>0.0</td>\n",
       "      <td>0.0</td>\n",
       "      <td>89276.0</td>\n",
       "      <td>124442.0</td>\n",
       "      <td>204510.0</td>\n",
       "    </tr>\n",
       "    <tr>\n",
       "      <th>products</th>\n",
       "      <td>761.0</td>\n",
       "      <td>1.537451e+00</td>\n",
       "      <td>0.574894</td>\n",
       "      <td>1.0</td>\n",
       "      <td>1.0</td>\n",
       "      <td>2.0</td>\n",
       "      <td>2.0</td>\n",
       "      <td>4.0</td>\n",
       "    </tr>\n",
       "    <tr>\n",
       "      <th>credit_card</th>\n",
       "      <td>761.0</td>\n",
       "      <td>6.806833e-01</td>\n",
       "      <td>0.466519</td>\n",
       "      <td>0.0</td>\n",
       "      <td>0.0</td>\n",
       "      <td>1.0</td>\n",
       "      <td>1.0</td>\n",
       "      <td>1.0</td>\n",
       "    </tr>\n",
       "    <tr>\n",
       "      <th>loyalty</th>\n",
       "      <td>761.0</td>\n",
       "      <td>5.177398e-01</td>\n",
       "      <td>0.500014</td>\n",
       "      <td>0.0</td>\n",
       "      <td>0.0</td>\n",
       "      <td>1.0</td>\n",
       "      <td>1.0</td>\n",
       "      <td>1.0</td>\n",
       "    </tr>\n",
       "    <tr>\n",
       "      <th>estimated_salary</th>\n",
       "      <td>761.0</td>\n",
       "      <td>7.496445e+03</td>\n",
       "      <td>4423.223811</td>\n",
       "      <td>11.0</td>\n",
       "      <td>3626.0</td>\n",
       "      <td>7611.0</td>\n",
       "      <td>11159.0</td>\n",
       "      <td>15246.0</td>\n",
       "    </tr>\n",
       "    <tr>\n",
       "      <th>churn</th>\n",
       "      <td>761.0</td>\n",
       "      <td>2.010512e-01</td>\n",
       "      <td>0.401050</td>\n",
       "      <td>0.0</td>\n",
       "      <td>0.0</td>\n",
       "      <td>0.0</td>\n",
       "      <td>0.0</td>\n",
       "      <td>1.0</td>\n",
       "    </tr>\n",
       "  </tbody>\n",
       "</table>\n",
       "</div>"
      ],
      "text/plain": [
       "                  count          mean           std         min         25%  \\\n",
       "user_id           761.0  1.573150e+07  71833.939086  15608947.0  15671044.0   \n",
       "score             761.0  6.450604e+02     98.436122       412.0       578.0   \n",
       "gender            761.0  5.492773e-01      0.497893         0.0         0.0   \n",
       "age               761.0  3.868857e+01     10.467066        18.0        31.0   \n",
       "objects           761.0  4.932983e+00      2.855646         0.0         2.0   \n",
       "balance           761.0  6.996191e+04  62892.688281         0.0         0.0   \n",
       "products          761.0  1.537451e+00      0.574894         1.0         1.0   \n",
       "credit_card       761.0  6.806833e-01      0.466519         0.0         0.0   \n",
       "loyalty           761.0  5.177398e-01      0.500014         0.0         0.0   \n",
       "estimated_salary  761.0  7.496445e+03   4423.223811        11.0      3626.0   \n",
       "churn             761.0  2.010512e-01      0.401050         0.0         0.0   \n",
       "\n",
       "                         50%         75%         max  \n",
       "user_id           15728955.0  15792319.0  15858164.0  \n",
       "score                  645.0       711.0       850.0  \n",
       "gender                   1.0         1.0         1.0  \n",
       "age                     37.0        43.0        77.0  \n",
       "objects                  5.0         7.0        10.0  \n",
       "balance              89276.0    124442.0    204510.0  \n",
       "products                 2.0         2.0         4.0  \n",
       "credit_card              1.0         1.0         1.0  \n",
       "loyalty                  1.0         1.0         1.0  \n",
       "estimated_salary      7611.0     11159.0     15246.0  \n",
       "churn                    0.0         0.0         1.0  "
      ]
     },
     "execution_count": 18,
     "metadata": {},
     "output_type": "execute_result"
    }
   ],
   "source": [
    "# Создание датафрема с доходом клиентов меньше минимального размер оплаты труда (15 279 руб. с 01.06.2022)\n",
    "poor = df[df['estimated_salary'] < 15279]\n",
    "\n",
    "# Вывод информации о датафрейме\n",
    "poor.describe().T"
   ]
  },
  {
   "cell_type": "markdown",
   "metadata": {},
   "source": [
    "С учетом нулевых значений по балансу, средняя сумма сбережений 69 962 - большие значения для клиентов с доходом менее 1 МРОТ."
   ]
  },
  {
   "cell_type": "code",
   "execution_count": 19,
   "metadata": {},
   "outputs": [
    {
     "data": {
      "image/png": "[encoded data removed]",
      "text/plain": [
       "<Figure size 432x288 with 1 Axes>"
      ]
     },
     "metadata": {
      "needs_background": "light"
     },
     "output_type": "display_data"
    }
   ],
   "source": [
    "# Построение гистограммы баланса клиентов с доходом < МРОТ без учета пропусков\n",
    "poor.query('balance != 0').balance.hist()\n",
    "plt.title('Распределение баланса клиентов с доходом < МРОТ')\n",
    "plt.show()"
   ]
  },
  {
   "cell_type": "markdown",
   "metadata": {},
   "source": [
    "**Вывод:** равномерное распредедление заработной платы говорит об использовании алгоритма заполнения данных, который стоит проверить/доработать, т.к. клиенты с доходом меньше МРОТ имеют на счету значительные суммы сбережений."
   ]
  },
  {
   "cell_type": "markdown",
   "metadata": {},
   "source": [
    "### Проверка на дубликаты"
   ]
  },
  {
   "cell_type": "code",
   "execution_count": 20,
   "metadata": {},
   "outputs": [
    {
     "data": {
      "text/plain": [
       "0"
      ]
     },
     "execution_count": 20,
     "metadata": {},
     "output_type": "execute_result"
    }
   ],
   "source": [
    "# Подсчет количества дубликатов\n",
    "df.duplicated().sum()"
   ]
  },
  {
   "cell_type": "markdown",
   "metadata": {},
   "source": [
    "**Вывод:** дубликаты отсутствуют."
   ]
  },
  {
   "cell_type": "markdown",
   "metadata": {},
   "source": [
    "## Сегментация данных по количеству потребляемых продуктов"
   ]
  },
  {
   "cell_type": "code",
   "execution_count": 21,
   "metadata": {},
   "outputs": [
    {
     "data": {
      "text/plain": [
       "products\n",
       "1    5084\n",
       "2    4590\n",
       "3     266\n",
       "4      60\n",
       "Name: user_id, dtype: int64"
      ]
     },
     "execution_count": 21,
     "metadata": {},
     "output_type": "execute_result"
    }
   ],
   "source": [
    "# группировка данных по количеству потребляемых продуктов\n",
    "df.groupby('products')['user_id'].count()"
   ]
  },
  {
   "cell_type": "code",
   "execution_count": 22,
   "metadata": {},
   "outputs": [
    {
     "data": {
      "text/html": [
       "<div>\n",
       "<style scoped>\n",
       "    .dataframe tbody tr th:only-of-type {\n",
       "        vertical-align: middle;\n",
       "    }\n",
       "\n",
       "    .dataframe tbody tr th {\n",
       "        vertical-align: top;\n",
       "    }\n",
       "\n",
       "    .dataframe thead th {\n",
       "        text-align: right;\n",
       "    }\n",
       "</style>\n",
       "<table border=\"1\" class=\"dataframe\">\n",
       "  <thead>\n",
       "    <tr style=\"text-align: right;\">\n",
       "      <th></th>\n",
       "      <th>user_id</th>\n",
       "      <th>score</th>\n",
       "      <th>city</th>\n",
       "      <th>gender</th>\n",
       "      <th>age</th>\n",
       "      <th>objects</th>\n",
       "      <th>balance</th>\n",
       "      <th>products</th>\n",
       "      <th>credit_card</th>\n",
       "      <th>loyalty</th>\n",
       "      <th>estimated_salary</th>\n",
       "      <th>churn</th>\n",
       "      <th>products_segment</th>\n",
       "    </tr>\n",
       "  </thead>\n",
       "  <tbody>\n",
       "    <tr>\n",
       "      <th>0</th>\n",
       "      <td>15677338</td>\n",
       "      <td>619</td>\n",
       "      <td>Ярославль</td>\n",
       "      <td>0</td>\n",
       "      <td>42</td>\n",
       "      <td>2</td>\n",
       "      <td>0</td>\n",
       "      <td>1</td>\n",
       "      <td>1</td>\n",
       "      <td>1</td>\n",
       "      <td>101348</td>\n",
       "      <td>1</td>\n",
       "      <td>один продукт</td>\n",
       "    </tr>\n",
       "    <tr>\n",
       "      <th>1</th>\n",
       "      <td>15690047</td>\n",
       "      <td>608</td>\n",
       "      <td>Рыбинск</td>\n",
       "      <td>0</td>\n",
       "      <td>41</td>\n",
       "      <td>1</td>\n",
       "      <td>83807</td>\n",
       "      <td>1</td>\n",
       "      <td>0</td>\n",
       "      <td>1</td>\n",
       "      <td>112542</td>\n",
       "      <td>0</td>\n",
       "      <td>один продукт</td>\n",
       "    </tr>\n",
       "    <tr>\n",
       "      <th>2</th>\n",
       "      <td>15662040</td>\n",
       "      <td>502</td>\n",
       "      <td>Ярославль</td>\n",
       "      <td>0</td>\n",
       "      <td>42</td>\n",
       "      <td>8</td>\n",
       "      <td>159660</td>\n",
       "      <td>3</td>\n",
       "      <td>1</td>\n",
       "      <td>0</td>\n",
       "      <td>113931</td>\n",
       "      <td>1</td>\n",
       "      <td>3-4 продукта</td>\n",
       "    </tr>\n",
       "    <tr>\n",
       "      <th>3</th>\n",
       "      <td>15744090</td>\n",
       "      <td>699</td>\n",
       "      <td>Ярославль</td>\n",
       "      <td>0</td>\n",
       "      <td>39</td>\n",
       "      <td>1</td>\n",
       "      <td>0</td>\n",
       "      <td>2</td>\n",
       "      <td>0</td>\n",
       "      <td>0</td>\n",
       "      <td>93826</td>\n",
       "      <td>0</td>\n",
       "      <td>два продукта</td>\n",
       "    </tr>\n",
       "    <tr>\n",
       "      <th>4</th>\n",
       "      <td>15780624</td>\n",
       "      <td>850</td>\n",
       "      <td>Рыбинск</td>\n",
       "      <td>0</td>\n",
       "      <td>43</td>\n",
       "      <td>2</td>\n",
       "      <td>125510</td>\n",
       "      <td>1</td>\n",
       "      <td>1</td>\n",
       "      <td>1</td>\n",
       "      <td>79084</td>\n",
       "      <td>0</td>\n",
       "      <td>один продукт</td>\n",
       "    </tr>\n",
       "  </tbody>\n",
       "</table>\n",
       "</div>"
      ],
      "text/plain": [
       "    user_id  score       city  gender  age  objects  balance  products  \\\n",
       "0  15677338    619  Ярославль       0   42        2        0         1   \n",
       "1  15690047    608    Рыбинск       0   41        1    83807         1   \n",
       "2  15662040    502  Ярославль       0   42        8   159660         3   \n",
       "3  15744090    699  Ярославль       0   39        1        0         2   \n",
       "4  15780624    850    Рыбинск       0   43        2   125510         1   \n",
       "\n",
       "   credit_card  loyalty  estimated_salary  churn products_segment  \n",
       "0            1        1            101348      1     один продукт  \n",
       "1            0        1            112542      0     один продукт  \n",
       "2            1        0            113931      1     3-4 продукта  \n",
       "3            0        0             93826      0     два продукта  \n",
       "4            1        1             79084      0     один продукт  "
      ]
     },
     "execution_count": 22,
     "metadata": {},
     "output_type": "execute_result"
    }
   ],
   "source": [
    "# Создание функции распределения по количеству потребляемых продуктов\n",
    "\n",
    "def products_segment(df):    \n",
    "    if df['products'] == 1:\n",
    "        return 'один продукт'    \n",
    "    elif df['products'] == 2:\n",
    "        return 'два продукта'    \n",
    "    else:\n",
    "        return '3-4 продукта'\n",
    "\n",
    "# Добавление столбца сегдмента в датафрейм\n",
    "df['products_segment'] = df.apply(products_segment, axis=1)\n",
    "\n",
    "# Создание датафремов по сегментам\n",
    "segment_1 = df.query('products_segment == \"один продукт\"')\n",
    "segment_2 = df.query('products_segment == \"два продукта\"')\n",
    "segment_3 = df.query('products_segment == \"3-4 продукта\"')\n",
    "\n",
    "# Проверка\n",
    "df.head()"
   ]
  },
  {
   "cell_type": "code",
   "execution_count": 23,
   "metadata": {},
   "outputs": [
    {
     "data": {
      "image/png": "[encoded data removed]",
      "text/plain": [
       "<Figure size 1080x432 with 2 Axes>"
      ]
     },
     "metadata": {
      "needs_background": "light"
     },
     "output_type": "display_data"
    }
   ],
   "source": [
    "# Построение тепловой карты по количеству потребляемых продуктов\n",
    "products_heap_map = df\\\n",
    "    .pivot_table(\n",
    "        index='city',\n",
    "        columns='products',\n",
    "        values='user_id',\n",
    "        aggfunc='count'\n",
    "    )\n",
    "plt.figure(figsize=(15, 6))\n",
    "sns.heatmap(products_heap_map, cmap='YlGnBu', annot=True, fmt='.0f')\n",
    "plt.title('Тепловая карта по количеству продуктов')\n",
    "plt.show()"
   ]
  },
  {
   "cell_type": "code",
   "execution_count": 24,
   "metadata": {},
   "outputs": [
    {
     "data": {
      "image/png": "[encoded data removed]",
      "text/plain": [
       "<Figure size 360x360 with 1 Axes>"
      ]
     },
     "metadata": {},
     "output_type": "display_data"
    }
   ],
   "source": [
    "# Построение круговой диаграммы по количеству клиентов\n",
    "df.groupby('products_segment')['user_id'].count().plot(kind='pie', figsize=[5,5], explode = (0.05, 0.05, 0.05), \n",
    "                                                       colors = ['#ff6666', '#66b3ff','#c2c2f0'],\n",
    "                                                       autopct=lambda p: '{:.1f}% ({:.0f})'.format(p,(p/100)*len(df['user_id'])))\n",
    "plt.title('Распределение количества клиентов по сегментам')\n",
    "plt.ylabel('')\n",
    "plt.show()"
   ]
  },
  {
   "cell_type": "code",
   "execution_count": 25,
   "metadata": {},
   "outputs": [
    {
     "data": {
      "image/png": "[encoded data removed]",
      "text/plain": [
       "<Figure size 360x360 with 1 Axes>"
      ]
     },
     "metadata": {},
     "output_type": "display_data"
    }
   ],
   "source": [
    "# Построение круговой диаграммы по оттоку\n",
    "df.groupby('products_segment')['churn'].sum().plot(kind='pie', figsize=[5,5], explode = (0.05, 0.05, 0.05),\n",
    "                                                   colors = ['#ff6666', '#66b3ff','#c2c2f0'],\n",
    "                                                   autopct=lambda p: '{:.1f}% ({:.0f})'.format(p,(p/100)*df['churn'].sum()))\n",
    "plt.title('Распределение ушедших клиентов по сегментам')\n",
    "plt.ylabel('')\n",
    "plt.show()"
   ]
  },
  {
   "cell_type": "markdown",
   "metadata": {},
   "source": [
    "**Вывод:** всего банк предоставляет 4 продукта, сегментация датафрейма выполнена по следующему принципу:\n",
    "* один потребляемый продукт;\n",
    "* два потребляемых продукта;\n",
    "* 3-4 потребляемых продукта.\n",
    "\n",
    "Только 3% клиентов используют 3-4 продукта банка, наибольшей популярностью пользуются 1-2 продукта."
   ]
  },
  {
   "cell_type": "markdown",
   "metadata": {},
   "source": [
    "## Исследовательский анализ данных"
   ]
  },
  {
   "cell_type": "markdown",
   "metadata": {},
   "source": [
    "### Средние значения тех, кто ушел в отток и тех, кто остался"
   ]
  },
  {
   "cell_type": "code",
   "execution_count": 26,
   "metadata": {},
   "outputs": [
    {
     "data": {
      "text/html": [
       "<div>\n",
       "<style scoped>\n",
       "    .dataframe tbody tr th:only-of-type {\n",
       "        vertical-align: middle;\n",
       "    }\n",
       "\n",
       "    .dataframe tbody tr th {\n",
       "        vertical-align: top;\n",
       "    }\n",
       "\n",
       "    .dataframe thead th {\n",
       "        text-align: right;\n",
       "    }\n",
       "</style>\n",
       "<table border=\"1\" class=\"dataframe\">\n",
       "  <thead>\n",
       "    <tr style=\"text-align: right;\">\n",
       "      <th></th>\n",
       "      <th>user_id</th>\n",
       "      <th>score</th>\n",
       "      <th>gender</th>\n",
       "      <th>age</th>\n",
       "      <th>objects</th>\n",
       "      <th>balance</th>\n",
       "      <th>products</th>\n",
       "      <th>credit_card</th>\n",
       "      <th>loyalty</th>\n",
       "      <th>estimated_salary</th>\n",
       "    </tr>\n",
       "    <tr>\n",
       "      <th>churn</th>\n",
       "      <th></th>\n",
       "      <th></th>\n",
       "      <th></th>\n",
       "      <th></th>\n",
       "      <th></th>\n",
       "      <th></th>\n",
       "      <th></th>\n",
       "      <th></th>\n",
       "      <th></th>\n",
       "      <th></th>\n",
       "    </tr>\n",
       "  </thead>\n",
       "  <tbody>\n",
       "    <tr>\n",
       "      <th>0</th>\n",
       "      <td>1.573390e+07</td>\n",
       "      <td>651.853196</td>\n",
       "      <td>0.572523</td>\n",
       "      <td>37.408389</td>\n",
       "      <td>5.033279</td>\n",
       "      <td>72744.992842</td>\n",
       "      <td>1.544267</td>\n",
       "      <td>0.707146</td>\n",
       "      <td>0.554565</td>\n",
       "      <td>99737.901293</td>\n",
       "    </tr>\n",
       "    <tr>\n",
       "      <th>1</th>\n",
       "      <td>1.573279e+07</td>\n",
       "      <td>645.351497</td>\n",
       "      <td>0.440844</td>\n",
       "      <td>44.837997</td>\n",
       "      <td>4.932744</td>\n",
       "      <td>91108.167403</td>\n",
       "      <td>1.475209</td>\n",
       "      <td>0.699067</td>\n",
       "      <td>0.360825</td>\n",
       "      <td>101465.182131</td>\n",
       "    </tr>\n",
       "  </tbody>\n",
       "</table>\n",
       "</div>"
      ],
      "text/plain": [
       "            user_id       score    gender        age   objects       balance  \\\n",
       "churn                                                                          \n",
       "0      1.573390e+07  651.853196  0.572523  37.408389  5.033279  72744.992842   \n",
       "1      1.573279e+07  645.351497  0.440844  44.837997  4.932744  91108.167403   \n",
       "\n",
       "       products  credit_card   loyalty  estimated_salary  \n",
       "churn                                                     \n",
       "0      1.544267     0.707146  0.554565      99737.901293  \n",
       "1      1.475209     0.699067  0.360825     101465.182131  "
      ]
     },
     "execution_count": 26,
     "metadata": {},
     "output_type": "execute_result"
    }
   ],
   "source": [
    "# Группировка по признаку оттока и вывод средних значений\n",
    "df.groupby('churn').mean()"
   ]
  },
  {
   "cell_type": "code",
   "execution_count": 27,
   "metadata": {
    "scrolled": true
   },
   "outputs": [
    {
     "data": {
      "text/plain": [
       "churn\n",
       "0    7963\n",
       "1    2037\n",
       "Name: user_id, dtype: int64"
      ]
     },
     "execution_count": 27,
     "metadata": {},
     "output_type": "execute_result"
    }
   ],
   "source": [
    "df.groupby('churn')['user_id'].count()"
   ]
  },
  {
   "cell_type": "markdown",
   "metadata": {},
   "source": [
    "**Вывод:** отток клиентов банка составляет 20%. В среднем чаще уходят клиенты старшего возраста, женского пола и с низкой активностью."
   ]
  },
  {
   "cell_type": "markdown",
   "metadata": {},
   "source": [
    "### Распределение признаков (остались / ушли) по сегментам"
   ]
  },
  {
   "cell_type": "markdown",
   "metadata": {},
   "source": [
    "#### Распределение по городам"
   ]
  },
  {
   "cell_type": "code",
   "execution_count": 28,
   "metadata": {},
   "outputs": [
    {
     "data": {
      "image/png": "[encoded data removed]",
      "text/plain": [
       "<Figure size 864x576 with 6 Axes>"
      ]
     },
     "metadata": {
      "needs_background": "light"
     },
     "output_type": "display_data"
    }
   ],
   "source": [
    "# Создание многосегментного графика\n",
    "g = sns.FacetGrid(data=df.sort_values(by='products_segment', ascending = False), col='products_segment', hue='city', row='churn', height=4)\n",
    "g.map(sns.histplot, 'city')\n",
    "g.set_axis_labels('Город', 'Количество')\n",
    "g.fig.suptitle('Распределение по городам', y = 1.03, fontsize = 20)\n",
    "plt.show()"
   ]
  },
  {
   "cell_type": "markdown",
   "metadata": {},
   "source": [
    "**Вывод:** по количеству клиентов лидирует г.Ярославль, наибольший процент оттока клиентов приходится на г.Ростов Великий."
   ]
  },
  {
   "cell_type": "markdown",
   "metadata": {},
   "source": [
    "#### Распределение по полу"
   ]
  },
  {
   "cell_type": "code",
   "execution_count": 29,
   "metadata": {},
   "outputs": [
    {
     "data": {
      "image/png": "[encoded data removed]",
      "text/plain": [
       "<Figure size 864x576 with 6 Axes>"
      ]
     },
     "metadata": {
      "needs_background": "light"
     },
     "output_type": "display_data"
    }
   ],
   "source": [
    "# Создание многосегментного графика\n",
    "g = sns.FacetGrid(data=df.sort_values(by='products_segment', ascending = False), col='products_segment', hue='gender', row='churn', height=4)\n",
    "g.map(sns.histplot, 'gender')\n",
    "g.set_axis_labels('Пол', 'Количество')\n",
    "g.fig.suptitle('Распределение по полу (0=Ж, 1=М)', y = 1.03, fontsize = 20)\n",
    "plt.show()"
   ]
  },
  {
   "cell_type": "markdown",
   "metadata": {},
   "source": [
    "**Вывод:** клиенты женского пола склонны больше уходить в отток, чем клиенты мужского пола."
   ]
  },
  {
   "cell_type": "markdown",
   "metadata": {},
   "source": [
    "#### Распределение по наличию кредитной карты"
   ]
  },
  {
   "cell_type": "code",
   "execution_count": 30,
   "metadata": {},
   "outputs": [
    {
     "data": {
      "image/png": "[encoded data removed]",
      "text/plain": [
       "<Figure size 864x576 with 6 Axes>"
      ]
     },
     "metadata": {
      "needs_background": "light"
     },
     "output_type": "display_data"
    }
   ],
   "source": [
    "# Создание многосегментного графика\n",
    "g = sns.FacetGrid(data=df.sort_values(by='products_segment', ascending = False), col='products_segment', hue='credit_card', row='churn', height=4)\n",
    "g.map(sns.histplot, 'credit_card')\n",
    "g.set_axis_labels('Наличие кредитной карты', 'Количество')\n",
    "g.fig.suptitle('Распределение по наличию кредитной карты (0=нет, 1=есть)', y = 1.03, fontsize = 20)\n",
    "plt.show()"
   ]
  },
  {
   "cell_type": "markdown",
   "metadata": {},
   "source": [
    "**Вывод:** примерно 2/3 клиентов обладают кредитной картой вне зависимости, попадают они в отток или нет."
   ]
  },
  {
   "cell_type": "markdown",
   "metadata": {},
   "source": [
    "#### Распределение по активности"
   ]
  },
  {
   "cell_type": "code",
   "execution_count": 31,
   "metadata": {},
   "outputs": [
    {
     "data": {
      "image/png": "[encoded data removed]",
      "text/plain": [
       "<Figure size 864x576 with 6 Axes>"
      ]
     },
     "metadata": {
      "needs_background": "light"
     },
     "output_type": "display_data"
    }
   ],
   "source": [
    "# Создание многосегментного графика\n",
    "g = sns.FacetGrid(data=df.sort_values(by='products_segment', ascending = False), col='products_segment', hue='loyalty', row='churn', height=4)\n",
    "g.map(sns.histplot, 'loyalty')\n",
    "g.set_axis_labels('Активность', 'Количество')\n",
    "g.fig.suptitle('Распределение по активности', y = 1.03, fontsize = 20)\n",
    "plt.show()"
   ]
  },
  {
   "cell_type": "markdown",
   "metadata": {},
   "source": [
    "**Вывод:** активные клиенты не склонны уходить в отток."
   ]
  },
  {
   "cell_type": "markdown",
   "metadata": {},
   "source": [
    "#### Распределение по оттоку клиентов"
   ]
  },
  {
   "cell_type": "code",
   "execution_count": 32,
   "metadata": {},
   "outputs": [
    {
     "data": {
      "image/png": "[encoded data removed]",
      "text/plain": [
       "<Figure size 864x576 with 6 Axes>"
      ]
     },
     "metadata": {
      "needs_background": "light"
     },
     "output_type": "display_data"
    }
   ],
   "source": [
    "# Создание многосегментного графика\n",
    "g = sns.FacetGrid(data=df.sort_values(by='products_segment', ascending = False), col='products_segment', hue='churn', row='churn', height=4)\n",
    "g.map(sns.histplot, 'churn')\n",
    "g.set_axis_labels('Отток клиентов', 'Количество')\n",
    "g.fig.suptitle('Распределение по оттоку клиентов', y = 1.03, fontsize = 20)\n",
    "plt.show()"
   ]
  },
  {
   "cell_type": "markdown",
   "metadata": {},
   "source": [
    "**Вывод:** при использовании второго продукта значительно снижается отток клиентов. Использующие 3 продукта автоматически попадают в группу риска, т.к. последний 4-ый продукт - закрытие счета."
   ]
  },
  {
   "cell_type": "markdown",
   "metadata": {},
   "source": [
    "#### Распределение по баллам кредитного скоринга"
   ]
  },
  {
   "cell_type": "code",
   "execution_count": 33,
   "metadata": {},
   "outputs": [
    {
     "data": {
      "image/png": "[encoded data removed]",
      "text/plain": [
       "<Figure size 864x288 with 3 Axes>"
      ]
     },
     "metadata": {
      "needs_background": "light"
     },
     "output_type": "display_data"
    }
   ],
   "source": [
    "# Создание многосегментного графика\n",
    "g = sns.FacetGrid(data=df.sort_values(by='products_segment', ascending = False), col='products_segment', hue='churn', height=4)\n",
    "g.map(sns.distplot, 'score')\n",
    "g.set_axis_labels('Отток клиентов', 'Плотность')\n",
    "g.fig.legend(labels = ('Остались', 'Ушли'), loc = 5)\n",
    "g.fig.suptitle('Распределение по баллам кредитного скоринга', y = 1.03, fontsize = 20)\n",
    "plt.show()"
   ]
  },
  {
   "cell_type": "markdown",
   "metadata": {},
   "source": [
    "**Вывод:** к оттоку склонны клиенты с более низкими баллами предитного скоринга."
   ]
  },
  {
   "cell_type": "markdown",
   "metadata": {},
   "source": [
    "#### Распределение по возрасту"
   ]
  },
  {
   "cell_type": "code",
   "execution_count": 34,
   "metadata": {},
   "outputs": [
    {
     "data": {
      "image/png": "[encoded data removed]",
      "text/plain": [
       "<Figure size 864x288 with 3 Axes>"
      ]
     },
     "metadata": {
      "needs_background": "light"
     },
     "output_type": "display_data"
    }
   ],
   "source": [
    "# Создание многосегментного графика\n",
    "g = sns.FacetGrid(data=df.sort_values(by='products_segment', ascending = False), col='products_segment', hue='churn', height=4)\n",
    "g.map(sns.distplot, 'age')\n",
    "g.set_axis_labels('Возраст клиентов', 'Плотность')\n",
    "g.fig.legend(labels = ('Остались', 'Ушли'), loc = 5)\n",
    "g.fig.suptitle('Распределение по возрасту', y = 1.03, fontsize = 20)\n",
    "plt.show()"
   ]
  },
  {
   "cell_type": "markdown",
   "metadata": {},
   "source": [
    "**Вывод:** клиенты со средним возрастом 30-40 лет менее склонны к оттоку, чем клиенты с возрастом 40-50 лет."
   ]
  },
  {
   "cell_type": "markdown",
   "metadata": {},
   "source": [
    "#### Распределение по количеству объектов в собственности"
   ]
  },
  {
   "cell_type": "code",
   "execution_count": 35,
   "metadata": {},
   "outputs": [
    {
     "data": {
      "image/png": "[encoded data removed]",
      "text/plain": [
       "<Figure size 864x288 with 3 Axes>"
      ]
     },
     "metadata": {
      "needs_background": "light"
     },
     "output_type": "display_data"
    }
   ],
   "source": [
    "# Создание многосегментного графика\n",
    "g = sns.FacetGrid(data=df.sort_values(by='products_segment', ascending = False), col='products_segment', hue='churn', height=4)\n",
    "g.map(sns.distplot, 'objects')\n",
    "g.set_axis_labels('Количество объектов', 'Плотность')\n",
    "g.fig.legend(labels = ('Остались', 'Ушли'), loc = 5)\n",
    "g.fig.suptitle('Распределение по количеству объектов в собственности', y = 1.03, fontsize = 20)\n",
    "plt.show()"
   ]
  },
  {
   "cell_type": "markdown",
   "metadata": {},
   "source": [
    "**Вывод:** для сегментов с двумя и более продуктами стоит обратить внимание на клиентов с минимальным/максимальным количеством объектов, т.к. они более склонны к оттоку."
   ]
  },
  {
   "cell_type": "markdown",
   "metadata": {},
   "source": [
    "#### Распределение по балансу на счете"
   ]
  },
  {
   "cell_type": "code",
   "execution_count": 36,
   "metadata": {},
   "outputs": [
    {
     "data": {
      "image/png": "[encoded data removed]",
      "text/plain": [
       "<Figure size 864x288 with 3 Axes>"
      ]
     },
     "metadata": {
      "needs_background": "light"
     },
     "output_type": "display_data"
    }
   ],
   "source": [
    "# Создание многосегментного графика\n",
    "g = sns.FacetGrid(data=df.sort_values(by='products_segment', ascending = False), col='products_segment', hue='churn', height=4)\n",
    "g.map(sns.distplot, 'balance')\n",
    "g.set_axis_labels('Количество объектов', 'Плотность')\n",
    "g.fig.legend(labels = ('Остались', 'Ушли'), loc = 5)\n",
    "g.fig.suptitle('Распределение по балансу на счете', y = 1.03, fontsize = 20)\n",
    "plt.show()"
   ]
  },
  {
   "cell_type": "markdown",
   "metadata": {},
   "source": [
    "**Вывод:** в среднем у клиентов банка на балансе более 100тыс.руб."
   ]
  },
  {
   "cell_type": "markdown",
   "metadata": {},
   "source": [
    "#### Распределение по заработной плате"
   ]
  },
  {
   "cell_type": "code",
   "execution_count": 37,
   "metadata": {},
   "outputs": [
    {
     "data": {
      "image/png": "[encoded data removed]",
      "text/plain": [
       "<Figure size 864x288 with 3 Axes>"
      ]
     },
     "metadata": {
      "needs_background": "light"
     },
     "output_type": "display_data"
    }
   ],
   "source": [
    "# Создание многосегментного графика\n",
    "g = sns.FacetGrid(data=df.sort_values(by='products_segment', ascending = False), col='products_segment', hue='churn', height=4)\n",
    "g.map(sns.distplot, 'estimated_salary')\n",
    "g.set_axis_labels('Количество объектов', 'Плотность')\n",
    "g.fig.legend(labels = ('Остались', 'Ушли'), loc = 5)\n",
    "g.fig.suptitle('Распределение по заработной плате', y = 1.03, fontsize = 20)\n",
    "plt.show()"
   ]
  },
  {
   "cell_type": "markdown",
   "metadata": {},
   "source": [
    "**Вывод:** клиенты с высоким уровнем дохода более сконны уходить в отток."
   ]
  },
  {
   "cell_type": "markdown",
   "metadata": {},
   "source": [
    "## Проверка гипотез"
   ]
  },
  {
   "cell_type": "markdown",
   "metadata": {},
   "source": [
    "### Гипотеза различия дохода между теми клиентами, которые пользуются двумя продуктами банка, и теми, которые пользуются одним.\n",
    "**Нулевая гипотеза:** доход клиентов, которые используют один продукт не превосходит доход клиентов, которые используют два продукта\n",
    "\n",
    "**Альтернативная гипотеза:** сдоход клиентов, которые используют один продукт превосходит доход клиентов, которые используют два продукта"
   ]
  },
  {
   "cell_type": "code",
   "execution_count": 38,
   "metadata": {},
   "outputs": [
    {
     "data": {
      "image/png": "[encoded data removed]",
      "text/plain": [
       "<Figure size 432x288 with 1 Axes>"
      ]
     },
     "metadata": {
      "needs_background": "light"
     },
     "output_type": "display_data"
    }
   ],
   "source": [
    "# Построение распределения по уровню дохода клиентов\n",
    "sns_plot = sns.distplot(df['estimated_salary'])\n",
    "fig = sns_plot.get_figure()\n",
    "plt.title('Распределение по уровню дохода клиентов')\n",
    "plt.show()"
   ]
  },
  {
   "cell_type": "markdown",
   "metadata": {},
   "source": [
    "График больше похож на равномерное распределение, поэтому при проверке гипотез используется **U-критерий (Манна-Уитни)** - это статистический критерий, используемый для оценки различий между двумя независимыми выборками по уровню какого-либо признака, измеренного количественно. Позволяет выявлять различия в значении параметра между малыми выборками."
   ]
  },
  {
   "cell_type": "code",
   "execution_count": 39,
   "metadata": {},
   "outputs": [
    {
     "name": "stdout",
     "output_type": "stream",
     "text": [
      "p-значение:  0.40796286066317733\n",
      "Не получилось отвергнуть нулевую гипотезу\n"
     ]
    }
   ],
   "source": [
    "results = st.mannwhitneyu(df[df['products']==1]['estimated_salary'], df[df['products']==2]['estimated_salary'])\n",
    "pvalue = results.pvalue\n",
    "\n",
    "# Критический уровень статистической значимости \n",
    "alpha = 0.05\n",
    "\n",
    "print('p-значение: ', pvalue)\n",
    "\n",
    "if (pvalue < alpha):\n",
    "    print(\"Отвергаем нулевую гипотезу\")\n",
    "else:\n",
    "    print(\"Не получилось отвергнуть нулевую гипотезу\")"
   ]
  },
  {
   "cell_type": "markdown",
   "metadata": {},
   "source": [
    "**Вывод:** `доход клиентов, которые используют один продукт не превосходит доход клиентов, которые используют два продукта`, т.к. вероятность получить среднее значение дохода клиента, использующего один продукт в выборке доходов клиентов с двумя продуктами равна 41% (нулевая гипотеза не может быть отвергнута)."
   ]
  },
  {
   "cell_type": "markdown",
   "metadata": {},
   "source": [
    "### Гипотеза различия возраста между теми клиентами, которые ушли и теми, которые остались\n",
    "**Нулевая гипотеза:** возраст клиентов, которые ушли и возраст клиентов, которые остались не различается\n",
    "\n",
    "**Альтернативная гипотеза:** возраст клиентов, которые ушли и возраст клиентов, которые остались различается"
   ]
  },
  {
   "cell_type": "code",
   "execution_count": 40,
   "metadata": {},
   "outputs": [
    {
     "data": {
      "image/png": "[encoded data removed]",
      "text/plain": [
       "<Figure size 432x288 with 1 Axes>"
      ]
     },
     "metadata": {
      "needs_background": "light"
     },
     "output_type": "display_data"
    }
   ],
   "source": [
    "# Построение распределения по возрасту клиентов\n",
    "sns_plot = sns.distplot(df['age'])\n",
    "fig = sns_plot.get_figure()\n",
    "plt.title('Распределение по возрасту клиентов')\n",
    "plt.show()"
   ]
  },
  {
   "cell_type": "markdown",
   "metadata": {},
   "source": [
    "График похож на нормальное распределение, поэтому при проверке гипотез используется **t-критерий Стьюдента** - общее название для класса методов статистической проверки гипотез (статистических критериев), основанных на распределении Стьюдента. Наиболее частые случаи применения t-критерия связаны с проверкой равенства средних значений в двух выборках."
   ]
  },
  {
   "cell_type": "code",
   "execution_count": 41,
   "metadata": {},
   "outputs": [
    {
     "name": "stdout",
     "output_type": "stream",
     "text": [
      "p-значение: 4.7127272656641046e-179\n",
      "Отвергаем нулевую гипотезу\n"
     ]
    }
   ],
   "source": [
    "# т.к. выборки разного размера используется equal_var = False\n",
    "results = st.ttest_ind(df[df['churn']==1]['age'], df[df['churn']==0]['age'], equal_var = False)\n",
    "\n",
    "# критический уровень статистической значимости \n",
    "alpha = .05 \n",
    "\n",
    "print('p-значение:', results.pvalue)\n",
    "\n",
    "if results.pvalue < alpha:\n",
    "    print(\"Отвергаем нулевую гипотезу\")\n",
    "else:\n",
    "    print(\"Не получилось отвергнуть нулевую гипотезу\") "
   ]
  },
  {
   "cell_type": "code",
   "execution_count": 42,
   "metadata": {},
   "outputs": [
    {
     "data": {
      "text/plain": [
       "churn\n",
       "0    37.408389\n",
       "1    44.837997\n",
       "Name: age, dtype: float64"
      ]
     },
     "execution_count": 42,
     "metadata": {},
     "output_type": "execute_result"
    }
   ],
   "source": [
    "# Средний возраст тех, кто попал в отток и тех, кто остался\n",
    "df.groupby('churn')['age'].mean()"
   ]
  },
  {
   "cell_type": "code",
   "execution_count": 43,
   "metadata": {},
   "outputs": [
    {
     "data": {
      "text/plain": [
       "churn\n",
       "0    36\n",
       "1    45\n",
       "Name: age, dtype: int64"
      ]
     },
     "execution_count": 43,
     "metadata": {},
     "output_type": "execute_result"
    }
   ],
   "source": [
    "# Медианный возраст тех, кто попал в отток и тех, кто остался\n",
    "df.groupby('churn')['age'].median()"
   ]
  },
  {
   "cell_type": "markdown",
   "metadata": {},
   "source": [
    "**Вывод:** `возраст клиентов, которые ушли и возраст клиентов, которые остались различается`, т.к. вероятность получить среднее значение возраста клиентов, которые ушли в выборке возраста клиентов, которые остались близка к нулю."
   ]
  },
  {
   "cell_type": "markdown",
   "metadata": {},
   "source": [
    "## Общий вывод:\n",
    "\n",
    "В исходных данных **10 000 записей**, в т.ч. представлены следующие критерии:\n",
    "* баллы кредитного скоринга от 350 до 850;\n",
    "* возраст клиентов от 18 до 92 лет (средний - 39 лет);\n",
    "* количество объектов в собственности от 0 до 10 (в среднем 5);\n",
    "* баланс на счёте от 3 769 до 250 898 (в среднем 119 827) с пропусками значений в доле 1/3;\n",
    "* количество продуктов, которыми пользуется клиент от 1 до 4 (один из продуктов банка - это закрытие счета);\n",
    "* заработная плата клиента от 12 до 199 992.\n",
    "* кредитные карты имеют 2/3 клиентов банка (в т.ч. с нулевым балансом);\n",
    "* отток клиентов банка составляет 20%.\n",
    "\n",
    "\n",
    "**Возможные причины пропусков**: технический сбой в Ярославле и Рыбинске (следует сравнить работу системы с Ростовом Великим); отсутствие данных или отсутствие банковского счета (одного из продуктов) при оформлении.\n",
    "\n",
    "**Равномерное распределение заработной платы** говорит об использовании алгоритма заполнения данных, который стоит проверить/доработать, т.к. клиенты с доходом меньше МРОТ имеют на счету значительные суммы сбережений.\n",
    "\n",
    "\n",
    "**Сегмент 1 (клиенты, использующие один продукт):** в отток попадают клиенты, средний возраст которых составляет 40-50 лет, в разрезе городов наибольшим % оттока клиентов обладает г.Ростов Великий. Чаще уходят клиенты женского пола, а также клиенты с низкой активностью. Для постоянных клиентов характерно наличие высоких баллов кредитного скоринга, проживание в г.Рыбинске, высокая активность, возраст до 40 лет. Мужчины попадают в отток реже, чем женщины.\n",
    "\n",
    "`Рекомендации:`\n",
    "1. Повысить заинтересованность клиентов в использовании второго продукта (провести акции, активизировать колл-центр, поднять охват предложений);\n",
    "2. Для женского пола возможно следует провести анкетирование при закрытии счета с указанием причины ухода из банка или собрать обратную связь через колл-центр (возможно кто-то из персонала позволяет себе лишнее при выполнении должностных обязанностей, либо недостаточный сервис);\n",
    "3. Клиенты с возрастом 40+ лет более склонны к оттоку, возможно банк используют передовые технологии, которые трудно даются старшему поколению. Следует адаптирвать продукты под эту возрастную категорию клиентов;\n",
    "4. Большинство клиентов склонных к оттоку проживает в городе Ростове Великом, возможно ротация кадров позволит сгладить отток между филиалами.\n",
    "\n",
    "\n",
    "**Сегмент 2 (клиенты, использующие два продукта):** относительно сегмента с использованием одного продукта наблюдается значительное сокращение оттока, следовательно второй продукт повышает удержание клиентов.\n",
    "\n",
    "`Рекомендации:` аналогичные сегмету 1.\n",
    "\n",
    "\n",
    "**Сегмент 3 (клиенты, использующие 3-4 продукта):** клиенты, использующие 3 продукта автоматически попадают в группу риска, т.к. последний продукт - закрытие счета. Количество клиентов использующих 3-4 продукта значительно ниже первых двух сегментов и составляет всего 3% от общего количества данных.\n",
    "\n",
    "`Рекомендации:` к оставшимся клиентам в третьем сегменте, которые используют 3 продукта стоит уделить особое внимание, т.к. имеется высокий риск оттока. "
   ]
  },
  {
   "cell_type": "markdown",
   "metadata": {},
   "source": [
    "# Ссылки на презентацию и dashboard:\n",
    "\n",
    "https://disk.yandex.ru/i/wImLy1cNZ3FW6A\n",
    "\n",
    "https://public.tableau.com/app/profile/viktor5801/viz/Final_project_16606988168100/Dashboard1"
   ]
  }
 ],
 "metadata": {
  "ExecuteTimeLog": [
   {
    "duration": 1118,
    "start_time": "2022-08-12T13:59:59.083Z"
   },
   {
    "duration": 2963,
    "start_time": "2022-08-12T14:00:01.361Z"
   },
   {
    "duration": 1875,
    "start_time": "2022-08-12T14:01:22.675Z"
   },
   {
    "duration": 1649,
    "start_time": "2022-08-12T14:02:00.267Z"
   },
   {
    "duration": 1957,
    "start_time": "2022-08-12T14:02:10.626Z"
   },
   {
    "duration": 13,
    "start_time": "2022-08-12T14:03:45.604Z"
   },
   {
    "duration": 55,
    "start_time": "2022-08-12T14:06:27.419Z"
   },
   {
    "duration": 37,
    "start_time": "2022-08-12T14:17:00.153Z"
   },
   {
    "duration": 48,
    "start_time": "2022-08-12T14:17:29.154Z"
   },
   {
    "duration": 101,
    "start_time": "2022-08-12T14:18:47.138Z"
   },
   {
    "duration": 69,
    "start_time": "2022-08-12T14:18:52.295Z"
   },
   {
    "duration": 34,
    "start_time": "2022-08-12T14:19:09.233Z"
   },
   {
    "duration": 66,
    "start_time": "2022-08-12T14:20:08.637Z"
   },
   {
    "duration": 73,
    "start_time": "2022-08-12T14:20:23.192Z"
   },
   {
    "duration": 44,
    "start_time": "2022-08-13T00:21:18.236Z"
   },
   {
    "duration": 1233,
    "start_time": "2022-08-13T00:21:23.244Z"
   },
   {
    "duration": 118,
    "start_time": "2022-08-13T00:21:24.479Z"
   },
   {
    "duration": 3,
    "start_time": "2022-08-13T00:21:24.599Z"
   },
   {
    "duration": 55,
    "start_time": "2022-08-13T00:21:24.604Z"
   },
   {
    "duration": 3,
    "start_time": "2022-08-13T00:25:14.274Z"
   },
   {
    "duration": 10,
    "start_time": "2022-08-13T00:25:16.315Z"
   },
   {
    "duration": 8,
    "start_time": "2022-08-13T00:35:48.564Z"
   },
   {
    "duration": 5,
    "start_time": "2022-08-13T00:40:15.370Z"
   },
   {
    "duration": 5,
    "start_time": "2022-08-13T00:42:17.453Z"
   },
   {
    "duration": 8,
    "start_time": "2022-08-13T00:43:46.638Z"
   },
   {
    "duration": 9,
    "start_time": "2022-08-13T00:44:55.516Z"
   },
   {
    "duration": 5,
    "start_time": "2022-08-13T00:45:19.558Z"
   },
   {
    "duration": 7,
    "start_time": "2022-08-13T00:45:41.445Z"
   },
   {
    "duration": 5,
    "start_time": "2022-08-13T00:45:55.870Z"
   },
   {
    "duration": 4,
    "start_time": "2022-08-13T00:46:12.422Z"
   },
   {
    "duration": 6,
    "start_time": "2022-08-13T00:47:09.732Z"
   },
   {
    "duration": 5,
    "start_time": "2022-08-13T00:47:20.140Z"
   },
   {
    "duration": 5,
    "start_time": "2022-08-13T00:47:32.702Z"
   },
   {
    "duration": 6,
    "start_time": "2022-08-13T00:47:43.054Z"
   },
   {
    "duration": 5,
    "start_time": "2022-08-13T00:47:51.196Z"
   },
   {
    "duration": 6,
    "start_time": "2022-08-13T00:48:20.604Z"
   },
   {
    "duration": 3,
    "start_time": "2022-08-13T00:48:26.260Z"
   },
   {
    "duration": 71,
    "start_time": "2022-08-13T00:48:26.265Z"
   },
   {
    "duration": 2,
    "start_time": "2022-08-13T00:48:26.338Z"
   },
   {
    "duration": 56,
    "start_time": "2022-08-13T00:48:26.342Z"
   },
   {
    "duration": 3,
    "start_time": "2022-08-13T00:48:26.400Z"
   },
   {
    "duration": 13,
    "start_time": "2022-08-13T00:48:26.404Z"
   },
   {
    "duration": 7,
    "start_time": "2022-08-13T00:48:26.418Z"
   },
   {
    "duration": 4,
    "start_time": "2022-08-13T00:48:26.426Z"
   },
   {
    "duration": 6,
    "start_time": "2022-08-13T00:48:26.432Z"
   },
   {
    "duration": 8,
    "start_time": "2022-08-13T00:48:26.440Z"
   },
   {
    "duration": 8,
    "start_time": "2022-08-13T00:48:26.450Z"
   },
   {
    "duration": 5,
    "start_time": "2022-08-13T00:48:26.459Z"
   },
   {
    "duration": 36,
    "start_time": "2022-08-13T00:48:26.465Z"
   },
   {
    "duration": 4,
    "start_time": "2022-08-13T00:48:26.502Z"
   },
   {
    "duration": 6,
    "start_time": "2022-08-13T00:48:26.507Z"
   },
   {
    "duration": 4,
    "start_time": "2022-08-13T00:48:26.514Z"
   },
   {
    "duration": 6,
    "start_time": "2022-08-13T00:48:26.520Z"
   },
   {
    "duration": 6,
    "start_time": "2022-08-13T00:48:26.527Z"
   },
   {
    "duration": 5,
    "start_time": "2022-08-13T00:48:26.535Z"
   },
   {
    "duration": 17,
    "start_time": "2022-08-13T00:51:16.646Z"
   },
   {
    "duration": 17,
    "start_time": "2022-08-13T00:51:25.941Z"
   },
   {
    "duration": 12,
    "start_time": "2022-08-13T00:53:40.027Z"
   },
   {
    "duration": 11,
    "start_time": "2022-08-13T00:54:09.252Z"
   },
   {
    "duration": 1250,
    "start_time": "2022-08-13T13:03:07.091Z"
   },
   {
    "duration": 108,
    "start_time": "2022-08-13T13:03:08.343Z"
   },
   {
    "duration": 2,
    "start_time": "2022-08-13T13:03:08.453Z"
   },
   {
    "duration": 49,
    "start_time": "2022-08-13T13:03:08.457Z"
   },
   {
    "duration": 4,
    "start_time": "2022-08-13T13:03:08.508Z"
   },
   {
    "duration": 17,
    "start_time": "2022-08-13T13:03:08.513Z"
   },
   {
    "duration": 17,
    "start_time": "2022-08-13T13:03:08.532Z"
   },
   {
    "duration": 18,
    "start_time": "2022-08-13T13:03:08.551Z"
   },
   {
    "duration": 5,
    "start_time": "2022-08-13T13:03:08.570Z"
   },
   {
    "duration": 13,
    "start_time": "2022-08-13T13:03:08.577Z"
   },
   {
    "duration": 24,
    "start_time": "2022-08-13T13:03:08.591Z"
   },
   {
    "duration": 10,
    "start_time": "2022-08-13T13:03:08.617Z"
   },
   {
    "duration": 11,
    "start_time": "2022-08-13T13:03:08.628Z"
   },
   {
    "duration": 8,
    "start_time": "2022-08-13T13:03:08.641Z"
   },
   {
    "duration": 9,
    "start_time": "2022-08-13T13:03:08.651Z"
   },
   {
    "duration": 5,
    "start_time": "2022-08-13T13:03:08.662Z"
   },
   {
    "duration": 9,
    "start_time": "2022-08-13T13:03:08.668Z"
   },
   {
    "duration": 6,
    "start_time": "2022-08-13T13:03:08.679Z"
   },
   {
    "duration": 26,
    "start_time": "2022-08-13T13:03:08.687Z"
   },
   {
    "duration": 8,
    "start_time": "2022-08-13T13:03:08.715Z"
   },
   {
    "duration": 4,
    "start_time": "2022-08-13T13:30:18.041Z"
   },
   {
    "duration": 6,
    "start_time": "2022-08-13T13:40:08.466Z"
   },
   {
    "duration": 6,
    "start_time": "2022-08-13T13:40:22.432Z"
   },
   {
    "duration": 6,
    "start_time": "2022-08-13T13:40:24.499Z"
   },
   {
    "duration": 3,
    "start_time": "2022-08-13T13:43:26.143Z"
   },
   {
    "duration": 101,
    "start_time": "2022-08-13T13:43:27.978Z"
   },
   {
    "duration": 3,
    "start_time": "2022-08-13T13:44:36.029Z"
   },
   {
    "duration": 70,
    "start_time": "2022-08-13T13:44:36.033Z"
   },
   {
    "duration": 2,
    "start_time": "2022-08-13T13:44:36.104Z"
   },
   {
    "duration": 40,
    "start_time": "2022-08-13T13:44:36.108Z"
   },
   {
    "duration": 3,
    "start_time": "2022-08-13T13:44:36.150Z"
   },
   {
    "duration": 12,
    "start_time": "2022-08-13T13:44:36.154Z"
   },
   {
    "duration": 7,
    "start_time": "2022-08-13T13:44:36.168Z"
   },
   {
    "duration": 4,
    "start_time": "2022-08-13T13:44:36.177Z"
   },
   {
    "duration": 4,
    "start_time": "2022-08-13T13:44:36.182Z"
   },
   {
    "duration": 36,
    "start_time": "2022-08-13T13:44:36.187Z"
   },
   {
    "duration": 4,
    "start_time": "2022-08-13T13:44:36.224Z"
   },
   {
    "duration": 6,
    "start_time": "2022-08-13T13:44:36.229Z"
   },
   {
    "duration": 8,
    "start_time": "2022-08-13T13:44:36.236Z"
   },
   {
    "duration": 8,
    "start_time": "2022-08-13T13:44:36.246Z"
   },
   {
    "duration": 4,
    "start_time": "2022-08-13T13:44:36.256Z"
   },
   {
    "duration": 4,
    "start_time": "2022-08-13T13:44:36.261Z"
   },
   {
    "duration": 4,
    "start_time": "2022-08-13T13:44:36.267Z"
   },
   {
    "duration": 41,
    "start_time": "2022-08-13T13:44:36.273Z"
   },
   {
    "duration": 4,
    "start_time": "2022-08-13T13:44:36.316Z"
   },
   {
    "duration": 4,
    "start_time": "2022-08-13T13:44:36.321Z"
   },
   {
    "duration": 3,
    "start_time": "2022-08-13T13:44:36.327Z"
   },
   {
    "duration": 5,
    "start_time": "2022-08-13T13:44:36.331Z"
   },
   {
    "duration": 8,
    "start_time": "2022-08-13T13:44:36.337Z"
   },
   {
    "duration": 3,
    "start_time": "2022-08-13T13:47:08.313Z"
   },
   {
    "duration": 11,
    "start_time": "2022-08-13T13:47:10.065Z"
   },
   {
    "duration": 10,
    "start_time": "2022-08-13T13:47:53.525Z"
   },
   {
    "duration": 10,
    "start_time": "2022-08-13T13:48:04.050Z"
   },
   {
    "duration": 3,
    "start_time": "2022-08-13T13:48:20.086Z"
   },
   {
    "duration": 73,
    "start_time": "2022-08-13T13:48:20.091Z"
   },
   {
    "duration": 3,
    "start_time": "2022-08-13T13:48:20.165Z"
   },
   {
    "duration": 45,
    "start_time": "2022-08-13T13:48:20.169Z"
   },
   {
    "duration": 3,
    "start_time": "2022-08-13T13:48:20.217Z"
   },
   {
    "duration": 15,
    "start_time": "2022-08-13T13:48:20.221Z"
   },
   {
    "duration": 18,
    "start_time": "2022-08-13T13:48:20.237Z"
   },
   {
    "duration": 4,
    "start_time": "2022-08-13T13:48:20.256Z"
   },
   {
    "duration": 5,
    "start_time": "2022-08-13T13:48:20.262Z"
   },
   {
    "duration": 11,
    "start_time": "2022-08-13T13:48:20.269Z"
   },
   {
    "duration": 0,
    "start_time": "2022-08-13T13:48:20.282Z"
   },
   {
    "duration": 0,
    "start_time": "2022-08-13T13:48:20.283Z"
   },
   {
    "duration": 0,
    "start_time": "2022-08-13T13:48:20.283Z"
   },
   {
    "duration": 0,
    "start_time": "2022-08-13T13:48:20.285Z"
   },
   {
    "duration": 0,
    "start_time": "2022-08-13T13:48:20.286Z"
   },
   {
    "duration": 0,
    "start_time": "2022-08-13T13:48:20.287Z"
   },
   {
    "duration": 0,
    "start_time": "2022-08-13T13:48:20.288Z"
   },
   {
    "duration": 0,
    "start_time": "2022-08-13T13:48:20.289Z"
   },
   {
    "duration": 0,
    "start_time": "2022-08-13T13:48:20.311Z"
   },
   {
    "duration": 0,
    "start_time": "2022-08-13T13:48:20.312Z"
   },
   {
    "duration": 0,
    "start_time": "2022-08-13T13:48:20.313Z"
   },
   {
    "duration": 0,
    "start_time": "2022-08-13T13:48:20.314Z"
   },
   {
    "duration": 0,
    "start_time": "2022-08-13T13:48:20.315Z"
   },
   {
    "duration": 10,
    "start_time": "2022-08-13T13:48:46.889Z"
   },
   {
    "duration": 2,
    "start_time": "2022-08-13T13:50:16.989Z"
   },
   {
    "duration": 66,
    "start_time": "2022-08-13T13:50:16.994Z"
   },
   {
    "duration": 4,
    "start_time": "2022-08-13T13:50:17.061Z"
   },
   {
    "duration": 43,
    "start_time": "2022-08-13T13:50:17.067Z"
   },
   {
    "duration": 4,
    "start_time": "2022-08-13T13:50:17.112Z"
   },
   {
    "duration": 17,
    "start_time": "2022-08-13T13:50:17.117Z"
   },
   {
    "duration": 10,
    "start_time": "2022-08-13T13:50:17.135Z"
   },
   {
    "duration": 4,
    "start_time": "2022-08-13T13:50:17.147Z"
   },
   {
    "duration": 4,
    "start_time": "2022-08-13T13:50:17.153Z"
   },
   {
    "duration": 5,
    "start_time": "2022-08-13T13:50:17.159Z"
   },
   {
    "duration": 5,
    "start_time": "2022-08-13T13:50:17.166Z"
   },
   {
    "duration": 3,
    "start_time": "2022-08-13T13:50:17.173Z"
   },
   {
    "duration": 38,
    "start_time": "2022-08-13T13:50:17.178Z"
   },
   {
    "duration": 8,
    "start_time": "2022-08-13T13:50:17.218Z"
   },
   {
    "duration": 6,
    "start_time": "2022-08-13T13:50:17.227Z"
   },
   {
    "duration": 4,
    "start_time": "2022-08-13T13:50:17.235Z"
   },
   {
    "duration": 4,
    "start_time": "2022-08-13T13:50:17.241Z"
   },
   {
    "duration": 5,
    "start_time": "2022-08-13T13:50:17.247Z"
   },
   {
    "duration": 11,
    "start_time": "2022-08-13T13:50:17.253Z"
   },
   {
    "duration": 6,
    "start_time": "2022-08-13T13:50:17.266Z"
   },
   {
    "duration": 3,
    "start_time": "2022-08-13T13:50:17.273Z"
   },
   {
    "duration": 34,
    "start_time": "2022-08-13T13:50:17.278Z"
   },
   {
    "duration": 9,
    "start_time": "2022-08-13T13:50:17.313Z"
   },
   {
    "duration": 3,
    "start_time": "2022-08-13T13:55:17.774Z"
   },
   {
    "duration": 18,
    "start_time": "2022-08-13T13:55:23.992Z"
   },
   {
    "duration": 17,
    "start_time": "2022-08-13T13:55:40.993Z"
   },
   {
    "duration": 14,
    "start_time": "2022-08-13T13:56:18.594Z"
   },
   {
    "duration": 14,
    "start_time": "2022-08-13T13:56:45.329Z"
   },
   {
    "duration": 17,
    "start_time": "2022-08-13T13:57:43.649Z"
   },
   {
    "duration": 17,
    "start_time": "2022-08-13T13:58:19.176Z"
   },
   {
    "duration": 18,
    "start_time": "2022-08-13T13:59:17.019Z"
   },
   {
    "duration": 16,
    "start_time": "2022-08-13T13:59:24.117Z"
   },
   {
    "duration": 14,
    "start_time": "2022-08-13T13:59:30.833Z"
   },
   {
    "duration": 32,
    "start_time": "2022-08-13T14:00:28.703Z"
   },
   {
    "duration": 12,
    "start_time": "2022-08-13T14:05:25.735Z"
   },
   {
    "duration": 33,
    "start_time": "2022-08-13T14:09:41.269Z"
   },
   {
    "duration": 34,
    "start_time": "2022-08-13T14:10:15.467Z"
   },
   {
    "duration": 35,
    "start_time": "2022-08-13T14:10:26.930Z"
   },
   {
    "duration": 10,
    "start_time": "2022-08-13T14:11:58.864Z"
   },
   {
    "duration": 7,
    "start_time": "2022-08-13T14:12:07.848Z"
   },
   {
    "duration": 11,
    "start_time": "2022-08-13T14:12:15.031Z"
   },
   {
    "duration": 35,
    "start_time": "2022-08-13T14:12:48.705Z"
   },
   {
    "duration": 37,
    "start_time": "2022-08-13T14:13:42.154Z"
   },
   {
    "duration": 37,
    "start_time": "2022-08-13T14:17:23.767Z"
   },
   {
    "duration": 44,
    "start_time": "2022-08-13T14:22:37.564Z"
   },
   {
    "duration": 43,
    "start_time": "2022-08-13T14:23:05.401Z"
   },
   {
    "duration": 41,
    "start_time": "2022-08-13T14:25:47.325Z"
   },
   {
    "duration": 35,
    "start_time": "2022-08-13T14:26:12.357Z"
   },
   {
    "duration": 36,
    "start_time": "2022-08-13T14:26:19.228Z"
   },
   {
    "duration": 40,
    "start_time": "2022-08-13T14:26:30.121Z"
   },
   {
    "duration": 5,
    "start_time": "2022-08-13T14:31:08.595Z"
   },
   {
    "duration": 5,
    "start_time": "2022-08-13T14:31:23.540Z"
   },
   {
    "duration": 38,
    "start_time": "2022-08-13T14:32:01.685Z"
   },
   {
    "duration": 31,
    "start_time": "2022-08-13T14:32:22.933Z"
   },
   {
    "duration": 30,
    "start_time": "2022-08-13T14:32:35.013Z"
   },
   {
    "duration": 1227,
    "start_time": "2022-08-14T01:52:41.013Z"
   },
   {
    "duration": 105,
    "start_time": "2022-08-14T01:52:42.241Z"
   },
   {
    "duration": 3,
    "start_time": "2022-08-14T01:52:42.348Z"
   },
   {
    "duration": 55,
    "start_time": "2022-08-14T01:52:42.353Z"
   },
   {
    "duration": 4,
    "start_time": "2022-08-14T01:52:42.410Z"
   },
   {
    "duration": 12,
    "start_time": "2022-08-14T01:52:42.415Z"
   },
   {
    "duration": 8,
    "start_time": "2022-08-14T01:52:42.429Z"
   },
   {
    "duration": 4,
    "start_time": "2022-08-14T01:52:42.438Z"
   },
   {
    "duration": 7,
    "start_time": "2022-08-14T01:52:42.443Z"
   },
   {
    "duration": 59,
    "start_time": "2022-08-14T01:52:42.451Z"
   },
   {
    "duration": 5,
    "start_time": "2022-08-14T01:52:42.511Z"
   },
   {
    "duration": 41,
    "start_time": "2022-08-14T01:52:42.517Z"
   },
   {
    "duration": 5,
    "start_time": "2022-08-14T01:52:42.560Z"
   },
   {
    "duration": 10,
    "start_time": "2022-08-14T01:52:42.567Z"
   },
   {
    "duration": 22,
    "start_time": "2022-08-14T01:52:42.579Z"
   },
   {
    "duration": 5,
    "start_time": "2022-08-14T01:52:42.602Z"
   },
   {
    "duration": 10,
    "start_time": "2022-08-14T01:52:42.608Z"
   },
   {
    "duration": 7,
    "start_time": "2022-08-14T01:52:42.620Z"
   },
   {
    "duration": 5,
    "start_time": "2022-08-14T01:52:42.629Z"
   },
   {
    "duration": 5,
    "start_time": "2022-08-14T01:52:42.635Z"
   },
   {
    "duration": 4,
    "start_time": "2022-08-14T01:52:42.642Z"
   },
   {
    "duration": 5,
    "start_time": "2022-08-14T01:52:42.647Z"
   },
   {
    "duration": 4,
    "start_time": "2022-08-14T01:52:42.653Z"
   },
   {
    "duration": 43,
    "start_time": "2022-08-14T01:52:42.658Z"
   },
   {
    "duration": 5,
    "start_time": "2022-08-14T01:52:42.702Z"
   },
   {
    "duration": 8,
    "start_time": "2022-08-14T01:52:42.708Z"
   },
   {
    "duration": 9,
    "start_time": "2022-08-14T01:52:42.717Z"
   },
   {
    "duration": 83,
    "start_time": "2022-08-14T01:53:02.180Z"
   },
   {
    "duration": 8,
    "start_time": "2022-08-14T01:53:24.456Z"
   },
   {
    "duration": 5750,
    "start_time": "2022-08-14T01:54:50.745Z"
   },
   {
    "duration": 10,
    "start_time": "2022-08-14T01:55:23.005Z"
   },
   {
    "duration": 3,
    "start_time": "2022-08-14T01:55:52.977Z"
   },
   {
    "duration": 9,
    "start_time": "2022-08-14T01:55:55.011Z"
   },
   {
    "duration": 584,
    "start_time": "2022-08-14T01:55:59.818Z"
   },
   {
    "duration": 3,
    "start_time": "2022-08-14T01:56:05.680Z"
   },
   {
    "duration": 79,
    "start_time": "2022-08-14T01:56:05.685Z"
   },
   {
    "duration": 3,
    "start_time": "2022-08-14T01:56:05.765Z"
   },
   {
    "duration": 63,
    "start_time": "2022-08-14T01:56:05.770Z"
   },
   {
    "duration": 3,
    "start_time": "2022-08-14T01:56:05.834Z"
   },
   {
    "duration": 22,
    "start_time": "2022-08-14T01:56:05.839Z"
   },
   {
    "duration": 23,
    "start_time": "2022-08-14T01:56:05.863Z"
   },
   {
    "duration": 15,
    "start_time": "2022-08-14T01:56:05.887Z"
   },
   {
    "duration": 23,
    "start_time": "2022-08-14T01:56:05.904Z"
   },
   {
    "duration": 47,
    "start_time": "2022-08-14T01:56:05.929Z"
   },
   {
    "duration": 5,
    "start_time": "2022-08-14T01:56:05.977Z"
   },
   {
    "duration": 51,
    "start_time": "2022-08-14T01:56:05.983Z"
   },
   {
    "duration": 5,
    "start_time": "2022-08-14T01:56:06.035Z"
   },
   {
    "duration": 17,
    "start_time": "2022-08-14T01:56:06.042Z"
   },
   {
    "duration": 50,
    "start_time": "2022-08-14T01:56:06.060Z"
   },
   {
    "duration": 0,
    "start_time": "2022-08-14T01:56:06.112Z"
   },
   {
    "duration": 0,
    "start_time": "2022-08-14T01:56:06.113Z"
   },
   {
    "duration": 0,
    "start_time": "2022-08-14T01:56:06.114Z"
   },
   {
    "duration": 0,
    "start_time": "2022-08-14T01:56:06.115Z"
   },
   {
    "duration": 0,
    "start_time": "2022-08-14T01:56:06.116Z"
   },
   {
    "duration": 0,
    "start_time": "2022-08-14T01:56:06.117Z"
   },
   {
    "duration": 0,
    "start_time": "2022-08-14T01:56:06.118Z"
   },
   {
    "duration": 0,
    "start_time": "2022-08-14T01:56:06.119Z"
   },
   {
    "duration": 0,
    "start_time": "2022-08-14T01:56:06.120Z"
   },
   {
    "duration": 0,
    "start_time": "2022-08-14T01:56:06.120Z"
   },
   {
    "duration": 0,
    "start_time": "2022-08-14T01:56:06.121Z"
   },
   {
    "duration": 0,
    "start_time": "2022-08-14T01:56:06.122Z"
   },
   {
    "duration": 0,
    "start_time": "2022-08-14T01:56:06.123Z"
   },
   {
    "duration": 5,
    "start_time": "2022-08-14T01:57:28.059Z"
   },
   {
    "duration": 3,
    "start_time": "2022-08-14T01:57:32.841Z"
   },
   {
    "duration": 81,
    "start_time": "2022-08-14T01:57:32.846Z"
   },
   {
    "duration": 3,
    "start_time": "2022-08-14T01:57:32.929Z"
   },
   {
    "duration": 59,
    "start_time": "2022-08-14T01:57:32.934Z"
   },
   {
    "duration": 3,
    "start_time": "2022-08-14T01:57:32.995Z"
   },
   {
    "duration": 30,
    "start_time": "2022-08-14T01:57:33.000Z"
   },
   {
    "duration": 25,
    "start_time": "2022-08-14T01:57:33.031Z"
   },
   {
    "duration": 10,
    "start_time": "2022-08-14T01:57:33.057Z"
   },
   {
    "duration": 29,
    "start_time": "2022-08-14T01:57:33.069Z"
   },
   {
    "duration": 51,
    "start_time": "2022-08-14T01:57:33.100Z"
   },
   {
    "duration": 4,
    "start_time": "2022-08-14T01:57:33.153Z"
   },
   {
    "duration": 53,
    "start_time": "2022-08-14T01:57:33.158Z"
   },
   {
    "duration": 5,
    "start_time": "2022-08-14T01:57:33.212Z"
   },
   {
    "duration": 18,
    "start_time": "2022-08-14T01:57:33.218Z"
   },
   {
    "duration": 26,
    "start_time": "2022-08-14T01:57:33.238Z"
   },
   {
    "duration": 20,
    "start_time": "2022-08-14T01:57:33.266Z"
   },
   {
    "duration": 20,
    "start_time": "2022-08-14T01:57:33.287Z"
   },
   {
    "duration": 8,
    "start_time": "2022-08-14T01:57:33.309Z"
   },
   {
    "duration": 5,
    "start_time": "2022-08-14T01:57:33.318Z"
   },
   {
    "duration": 9,
    "start_time": "2022-08-14T01:57:33.325Z"
   },
   {
    "duration": 15,
    "start_time": "2022-08-14T01:57:33.336Z"
   },
   {
    "duration": 9,
    "start_time": "2022-08-14T01:57:33.352Z"
   },
   {
    "duration": 7,
    "start_time": "2022-08-14T01:57:33.362Z"
   },
   {
    "duration": 5,
    "start_time": "2022-08-14T01:57:33.371Z"
   },
   {
    "duration": 26,
    "start_time": "2022-08-14T01:57:33.377Z"
   },
   {
    "duration": 8,
    "start_time": "2022-08-14T01:57:33.404Z"
   },
   {
    "duration": 10,
    "start_time": "2022-08-14T01:57:33.413Z"
   },
   {
    "duration": 3,
    "start_time": "2022-08-14T02:03:28.234Z"
   },
   {
    "duration": 132,
    "start_time": "2022-08-14T02:03:28.239Z"
   },
   {
    "duration": 3,
    "start_time": "2022-08-14T02:03:28.372Z"
   },
   {
    "duration": 46,
    "start_time": "2022-08-14T02:03:28.376Z"
   },
   {
    "duration": 4,
    "start_time": "2022-08-14T02:03:28.425Z"
   },
   {
    "duration": 17,
    "start_time": "2022-08-14T02:03:28.431Z"
   },
   {
    "duration": 14,
    "start_time": "2022-08-14T02:03:28.450Z"
   },
   {
    "duration": 6,
    "start_time": "2022-08-14T02:03:28.465Z"
   },
   {
    "duration": 5,
    "start_time": "2022-08-14T02:03:28.473Z"
   },
   {
    "duration": 52,
    "start_time": "2022-08-14T02:03:28.479Z"
   },
   {
    "duration": 875,
    "start_time": "2022-08-14T02:03:28.532Z"
   },
   {
    "duration": 0,
    "start_time": "2022-08-14T02:03:29.410Z"
   },
   {
    "duration": 0,
    "start_time": "2022-08-14T02:03:29.412Z"
   },
   {
    "duration": 0,
    "start_time": "2022-08-14T02:03:29.413Z"
   },
   {
    "duration": 0,
    "start_time": "2022-08-14T02:03:29.414Z"
   },
   {
    "duration": 0,
    "start_time": "2022-08-14T02:03:29.416Z"
   },
   {
    "duration": 0,
    "start_time": "2022-08-14T02:03:29.417Z"
   },
   {
    "duration": 0,
    "start_time": "2022-08-14T02:03:29.418Z"
   },
   {
    "duration": 0,
    "start_time": "2022-08-14T02:03:29.419Z"
   },
   {
    "duration": 0,
    "start_time": "2022-08-14T02:03:29.420Z"
   },
   {
    "duration": 0,
    "start_time": "2022-08-14T02:03:29.422Z"
   },
   {
    "duration": 0,
    "start_time": "2022-08-14T02:03:29.423Z"
   },
   {
    "duration": 0,
    "start_time": "2022-08-14T02:03:29.424Z"
   },
   {
    "duration": 0,
    "start_time": "2022-08-14T02:03:29.425Z"
   },
   {
    "duration": 0,
    "start_time": "2022-08-14T02:03:29.427Z"
   },
   {
    "duration": 0,
    "start_time": "2022-08-14T02:03:29.428Z"
   },
   {
    "duration": 0,
    "start_time": "2022-08-14T02:03:29.429Z"
   },
   {
    "duration": 2,
    "start_time": "2022-08-14T02:03:43.803Z"
   },
   {
    "duration": 78,
    "start_time": "2022-08-14T02:03:43.807Z"
   },
   {
    "duration": 3,
    "start_time": "2022-08-14T02:03:43.887Z"
   },
   {
    "duration": 74,
    "start_time": "2022-08-14T02:03:43.891Z"
   },
   {
    "duration": 4,
    "start_time": "2022-08-14T02:03:43.967Z"
   },
   {
    "duration": 13,
    "start_time": "2022-08-14T02:03:43.972Z"
   },
   {
    "duration": 8,
    "start_time": "2022-08-14T02:03:43.986Z"
   },
   {
    "duration": 4,
    "start_time": "2022-08-14T02:03:43.995Z"
   },
   {
    "duration": 5,
    "start_time": "2022-08-14T02:03:44.001Z"
   },
   {
    "duration": 35,
    "start_time": "2022-08-14T02:03:44.007Z"
   },
   {
    "duration": 5,
    "start_time": "2022-08-14T02:03:44.043Z"
   },
   {
    "duration": 52,
    "start_time": "2022-08-14T02:03:44.049Z"
   },
   {
    "duration": 5,
    "start_time": "2022-08-14T02:03:44.103Z"
   },
   {
    "duration": 7,
    "start_time": "2022-08-14T02:03:44.110Z"
   },
   {
    "duration": 6,
    "start_time": "2022-08-14T02:03:44.118Z"
   },
   {
    "duration": 4,
    "start_time": "2022-08-14T02:03:44.126Z"
   },
   {
    "duration": 8,
    "start_time": "2022-08-14T02:03:44.132Z"
   },
   {
    "duration": 8,
    "start_time": "2022-08-14T02:03:44.142Z"
   },
   {
    "duration": 6,
    "start_time": "2022-08-14T02:03:44.152Z"
   },
   {
    "duration": 41,
    "start_time": "2022-08-14T02:03:44.160Z"
   },
   {
    "duration": 6,
    "start_time": "2022-08-14T02:03:44.202Z"
   },
   {
    "duration": 5,
    "start_time": "2022-08-14T02:03:44.209Z"
   },
   {
    "duration": 782,
    "start_time": "2022-08-14T02:03:44.216Z"
   },
   {
    "duration": 0,
    "start_time": "2022-08-14T02:03:44.999Z"
   },
   {
    "duration": 0,
    "start_time": "2022-08-14T02:03:45.000Z"
   },
   {
    "duration": 0,
    "start_time": "2022-08-14T02:03:45.002Z"
   },
   {
    "duration": 0,
    "start_time": "2022-08-14T02:03:45.003Z"
   },
   {
    "duration": 15,
    "start_time": "2022-08-14T02:09:38.386Z"
   },
   {
    "duration": 3,
    "start_time": "2022-08-14T02:11:25.469Z"
   },
   {
    "duration": 86,
    "start_time": "2022-08-14T02:11:25.475Z"
   },
   {
    "duration": 3,
    "start_time": "2022-08-14T02:11:25.563Z"
   },
   {
    "duration": 56,
    "start_time": "2022-08-14T02:11:25.567Z"
   },
   {
    "duration": 4,
    "start_time": "2022-08-14T02:11:25.625Z"
   },
   {
    "duration": 23,
    "start_time": "2022-08-14T02:11:25.631Z"
   },
   {
    "duration": 18,
    "start_time": "2022-08-14T02:11:25.656Z"
   },
   {
    "duration": 19,
    "start_time": "2022-08-14T02:11:25.676Z"
   },
   {
    "duration": 22,
    "start_time": "2022-08-14T02:11:25.696Z"
   },
   {
    "duration": 0,
    "start_time": "2022-08-14T02:11:25.719Z"
   },
   {
    "duration": 0,
    "start_time": "2022-08-14T02:11:25.720Z"
   },
   {
    "duration": 0,
    "start_time": "2022-08-14T02:11:25.721Z"
   },
   {
    "duration": 0,
    "start_time": "2022-08-14T02:11:25.722Z"
   },
   {
    "duration": 0,
    "start_time": "2022-08-14T02:11:25.723Z"
   },
   {
    "duration": 0,
    "start_time": "2022-08-14T02:11:25.724Z"
   },
   {
    "duration": 0,
    "start_time": "2022-08-14T02:11:25.725Z"
   },
   {
    "duration": 0,
    "start_time": "2022-08-14T02:11:25.726Z"
   },
   {
    "duration": 0,
    "start_time": "2022-08-14T02:11:25.727Z"
   },
   {
    "duration": 0,
    "start_time": "2022-08-14T02:11:25.727Z"
   },
   {
    "duration": 0,
    "start_time": "2022-08-14T02:11:25.728Z"
   },
   {
    "duration": 0,
    "start_time": "2022-08-14T02:11:25.729Z"
   },
   {
    "duration": 1,
    "start_time": "2022-08-14T02:11:25.729Z"
   },
   {
    "duration": 0,
    "start_time": "2022-08-14T02:11:25.731Z"
   },
   {
    "duration": 0,
    "start_time": "2022-08-14T02:11:25.732Z"
   },
   {
    "duration": 0,
    "start_time": "2022-08-14T02:11:25.733Z"
   },
   {
    "duration": 0,
    "start_time": "2022-08-14T02:11:25.733Z"
   },
   {
    "duration": 0,
    "start_time": "2022-08-14T02:11:25.734Z"
   },
   {
    "duration": 12,
    "start_time": "2022-08-14T02:15:37.801Z"
   },
   {
    "duration": 9,
    "start_time": "2022-08-14T02:15:54.393Z"
   },
   {
    "duration": 11,
    "start_time": "2022-08-14T02:16:53.115Z"
   },
   {
    "duration": 10,
    "start_time": "2022-08-14T02:17:17.891Z"
   },
   {
    "duration": 12,
    "start_time": "2022-08-14T02:17:43.832Z"
   },
   {
    "duration": 10,
    "start_time": "2022-08-14T02:17:50.186Z"
   },
   {
    "duration": 10,
    "start_time": "2022-08-14T02:18:09.915Z"
   },
   {
    "duration": 3,
    "start_time": "2022-08-14T02:18:48.055Z"
   },
   {
    "duration": 88,
    "start_time": "2022-08-14T02:18:48.060Z"
   },
   {
    "duration": 3,
    "start_time": "2022-08-14T02:18:48.149Z"
   },
   {
    "duration": 45,
    "start_time": "2022-08-14T02:18:48.154Z"
   },
   {
    "duration": 4,
    "start_time": "2022-08-14T02:18:48.200Z"
   },
   {
    "duration": 12,
    "start_time": "2022-08-14T02:18:48.206Z"
   },
   {
    "duration": 8,
    "start_time": "2022-08-14T02:18:48.219Z"
   },
   {
    "duration": 4,
    "start_time": "2022-08-14T02:18:48.228Z"
   },
   {
    "duration": 7,
    "start_time": "2022-08-14T02:18:48.234Z"
   },
   {
    "duration": 6,
    "start_time": "2022-08-14T02:18:48.243Z"
   },
   {
    "duration": 58,
    "start_time": "2022-08-14T02:18:48.250Z"
   },
   {
    "duration": 4,
    "start_time": "2022-08-14T02:18:48.309Z"
   },
   {
    "duration": 39,
    "start_time": "2022-08-14T02:18:48.315Z"
   },
   {
    "duration": 4,
    "start_time": "2022-08-14T02:18:48.355Z"
   },
   {
    "duration": 6,
    "start_time": "2022-08-14T02:18:48.361Z"
   },
   {
    "duration": 5,
    "start_time": "2022-08-14T02:18:48.368Z"
   },
   {
    "duration": 30,
    "start_time": "2022-08-14T02:18:48.375Z"
   },
   {
    "duration": 7,
    "start_time": "2022-08-14T02:18:48.407Z"
   },
   {
    "duration": 5,
    "start_time": "2022-08-14T02:18:48.415Z"
   },
   {
    "duration": 4,
    "start_time": "2022-08-14T02:18:48.422Z"
   },
   {
    "duration": 9,
    "start_time": "2022-08-14T02:18:48.427Z"
   },
   {
    "duration": 10,
    "start_time": "2022-08-14T02:18:48.438Z"
   },
   {
    "duration": 758,
    "start_time": "2022-08-14T02:18:48.449Z"
   },
   {
    "duration": 0,
    "start_time": "2022-08-14T02:18:49.209Z"
   },
   {
    "duration": 0,
    "start_time": "2022-08-14T02:18:49.210Z"
   },
   {
    "duration": 0,
    "start_time": "2022-08-14T02:18:49.211Z"
   },
   {
    "duration": 0,
    "start_time": "2022-08-14T02:18:49.212Z"
   },
   {
    "duration": 5,
    "start_time": "2022-08-14T02:19:08.129Z"
   },
   {
    "duration": 11,
    "start_time": "2022-08-14T02:20:25.275Z"
   },
   {
    "duration": 14,
    "start_time": "2022-08-14T02:22:03.385Z"
   },
   {
    "duration": 14,
    "start_time": "2022-08-14T02:26:50.661Z"
   },
   {
    "duration": 3,
    "start_time": "2022-08-14T02:32:18.803Z"
   },
   {
    "duration": 114,
    "start_time": "2022-08-14T02:32:18.808Z"
   },
   {
    "duration": 3,
    "start_time": "2022-08-14T02:32:18.924Z"
   },
   {
    "duration": 42,
    "start_time": "2022-08-14T02:32:18.929Z"
   },
   {
    "duration": 4,
    "start_time": "2022-08-14T02:32:18.973Z"
   },
   {
    "duration": 13,
    "start_time": "2022-08-14T02:32:18.978Z"
   },
   {
    "duration": 11,
    "start_time": "2022-08-14T02:32:18.993Z"
   },
   {
    "duration": 11,
    "start_time": "2022-08-14T02:32:19.006Z"
   },
   {
    "duration": 25,
    "start_time": "2022-08-14T02:32:19.019Z"
   },
   {
    "duration": 21,
    "start_time": "2022-08-14T02:32:19.048Z"
   },
   {
    "duration": 25,
    "start_time": "2022-08-14T02:32:19.070Z"
   },
   {
    "duration": 34,
    "start_time": "2022-08-14T02:32:19.097Z"
   },
   {
    "duration": 35,
    "start_time": "2022-08-14T02:32:19.132Z"
   },
   {
    "duration": 4,
    "start_time": "2022-08-14T02:32:19.169Z"
   },
   {
    "duration": 13,
    "start_time": "2022-08-14T02:32:19.174Z"
   },
   {
    "duration": 7,
    "start_time": "2022-08-14T02:32:19.200Z"
   },
   {
    "duration": 19,
    "start_time": "2022-08-14T02:32:19.209Z"
   },
   {
    "duration": 31,
    "start_time": "2022-08-14T02:32:19.230Z"
   },
   {
    "duration": 34,
    "start_time": "2022-08-14T02:32:19.262Z"
   },
   {
    "duration": 36,
    "start_time": "2022-08-14T02:32:19.297Z"
   },
   {
    "duration": 27,
    "start_time": "2022-08-14T02:32:19.334Z"
   },
   {
    "duration": 33,
    "start_time": "2022-08-14T02:32:19.362Z"
   },
   {
    "duration": 30,
    "start_time": "2022-08-14T02:32:19.396Z"
   },
   {
    "duration": 20,
    "start_time": "2022-08-14T02:32:19.427Z"
   },
   {
    "duration": 46,
    "start_time": "2022-08-14T02:32:19.448Z"
   },
   {
    "duration": 28,
    "start_time": "2022-08-14T02:32:19.496Z"
   },
   {
    "duration": 27,
    "start_time": "2022-08-14T02:32:19.525Z"
   },
   {
    "duration": 27,
    "start_time": "2022-08-14T02:32:19.554Z"
   },
   {
    "duration": 127,
    "start_time": "2022-08-14T02:42:57.456Z"
   },
   {
    "duration": 232,
    "start_time": "2022-08-14T02:44:40.675Z"
   },
   {
    "duration": 1514,
    "start_time": "2022-08-14T02:44:45.141Z"
   },
   {
    "duration": 148,
    "start_time": "2022-08-14T02:45:01.578Z"
   },
   {
    "duration": 261,
    "start_time": "2022-08-14T02:45:11.337Z"
   },
   {
    "duration": 5,
    "start_time": "2022-08-14T02:52:32.179Z"
   },
   {
    "duration": 36,
    "start_time": "2022-08-14T02:52:56.299Z"
   },
   {
    "duration": 121,
    "start_time": "2022-08-14T02:54:41.934Z"
   },
   {
    "duration": 159,
    "start_time": "2022-08-14T02:55:21.405Z"
   },
   {
    "duration": 125,
    "start_time": "2022-08-14T02:59:07.399Z"
   },
   {
    "duration": 118,
    "start_time": "2022-08-14T03:02:30.864Z"
   },
   {
    "duration": 121,
    "start_time": "2022-08-14T03:03:33.310Z"
   },
   {
    "duration": 266,
    "start_time": "2022-08-14T03:04:01.452Z"
   },
   {
    "duration": 2,
    "start_time": "2022-08-14T03:32:42.052Z"
   },
   {
    "duration": 70,
    "start_time": "2022-08-14T03:32:42.056Z"
   },
   {
    "duration": 3,
    "start_time": "2022-08-14T03:32:42.128Z"
   },
   {
    "duration": 49,
    "start_time": "2022-08-14T03:32:42.132Z"
   },
   {
    "duration": 5,
    "start_time": "2022-08-14T03:32:42.184Z"
   },
   {
    "duration": 13,
    "start_time": "2022-08-14T03:32:42.191Z"
   },
   {
    "duration": 9,
    "start_time": "2022-08-14T03:32:42.206Z"
   },
   {
    "duration": 9,
    "start_time": "2022-08-14T03:32:42.216Z"
   },
   {
    "duration": 5,
    "start_time": "2022-08-14T03:32:42.226Z"
   },
   {
    "duration": 6,
    "start_time": "2022-08-14T03:32:42.232Z"
   },
   {
    "duration": 8,
    "start_time": "2022-08-14T03:32:42.239Z"
   },
   {
    "duration": 15,
    "start_time": "2022-08-14T03:32:42.248Z"
   },
   {
    "duration": 60,
    "start_time": "2022-08-14T03:32:42.264Z"
   },
   {
    "duration": 39,
    "start_time": "2022-08-14T03:32:42.326Z"
   },
   {
    "duration": 5,
    "start_time": "2022-08-14T03:32:42.367Z"
   },
   {
    "duration": 10,
    "start_time": "2022-08-14T03:32:42.373Z"
   },
   {
    "duration": 243,
    "start_time": "2022-08-14T03:32:42.385Z"
   },
   {
    "duration": 35,
    "start_time": "2022-08-14T03:32:42.629Z"
   },
   {
    "duration": 154,
    "start_time": "2022-08-14T03:32:42.666Z"
   },
   {
    "duration": 10,
    "start_time": "2022-08-14T03:32:42.823Z"
   },
   {
    "duration": 13,
    "start_time": "2022-08-14T03:33:17.351Z"
   },
   {
    "duration": 202,
    "start_time": "2022-08-14T03:33:56.725Z"
   },
   {
    "duration": 3,
    "start_time": "2022-08-14T03:34:10.115Z"
   },
   {
    "duration": 79,
    "start_time": "2022-08-14T03:34:10.120Z"
   },
   {
    "duration": 3,
    "start_time": "2022-08-14T03:34:10.201Z"
   },
   {
    "duration": 67,
    "start_time": "2022-08-14T03:34:10.205Z"
   },
   {
    "duration": 6,
    "start_time": "2022-08-14T03:34:10.274Z"
   },
   {
    "duration": 258,
    "start_time": "2022-08-14T03:34:10.401Z"
   },
   {
    "duration": 0,
    "start_time": "2022-08-14T03:34:10.660Z"
   },
   {
    "duration": 0,
    "start_time": "2022-08-14T03:34:10.662Z"
   },
   {
    "duration": 0,
    "start_time": "2022-08-14T03:34:10.663Z"
   },
   {
    "duration": 0,
    "start_time": "2022-08-14T03:34:10.664Z"
   },
   {
    "duration": 0,
    "start_time": "2022-08-14T03:34:10.664Z"
   },
   {
    "duration": 0,
    "start_time": "2022-08-14T03:34:10.665Z"
   },
   {
    "duration": 0,
    "start_time": "2022-08-14T03:34:10.666Z"
   },
   {
    "duration": 0,
    "start_time": "2022-08-14T03:34:10.667Z"
   },
   {
    "duration": 0,
    "start_time": "2022-08-14T03:34:10.668Z"
   },
   {
    "duration": 0,
    "start_time": "2022-08-14T03:34:10.669Z"
   },
   {
    "duration": 0,
    "start_time": "2022-08-14T03:34:10.670Z"
   },
   {
    "duration": 0,
    "start_time": "2022-08-14T03:34:10.671Z"
   },
   {
    "duration": 0,
    "start_time": "2022-08-14T03:34:10.672Z"
   },
   {
    "duration": 0,
    "start_time": "2022-08-14T03:34:10.673Z"
   },
   {
    "duration": 3,
    "start_time": "2022-08-14T03:34:55.581Z"
   },
   {
    "duration": 74,
    "start_time": "2022-08-14T03:34:55.586Z"
   },
   {
    "duration": 3,
    "start_time": "2022-08-14T03:34:55.662Z"
   },
   {
    "duration": 60,
    "start_time": "2022-08-14T03:34:55.666Z"
   },
   {
    "duration": 6,
    "start_time": "2022-08-14T03:34:55.728Z"
   },
   {
    "duration": 18,
    "start_time": "2022-08-14T03:34:55.735Z"
   },
   {
    "duration": 9,
    "start_time": "2022-08-14T03:34:55.754Z"
   },
   {
    "duration": 11,
    "start_time": "2022-08-14T03:34:55.764Z"
   },
   {
    "duration": 7,
    "start_time": "2022-08-14T03:34:55.776Z"
   },
   {
    "duration": 5,
    "start_time": "2022-08-14T03:34:55.800Z"
   },
   {
    "duration": 8,
    "start_time": "2022-08-14T03:34:55.807Z"
   },
   {
    "duration": 18,
    "start_time": "2022-08-14T03:34:55.816Z"
   },
   {
    "duration": 39,
    "start_time": "2022-08-14T03:34:55.835Z"
   },
   {
    "duration": 40,
    "start_time": "2022-08-14T03:34:55.899Z"
   },
   {
    "duration": 4,
    "start_time": "2022-08-14T03:34:55.941Z"
   },
   {
    "duration": 7,
    "start_time": "2022-08-14T03:34:55.946Z"
   },
   {
    "duration": 273,
    "start_time": "2022-08-14T03:34:55.955Z"
   },
   {
    "duration": 41,
    "start_time": "2022-08-14T03:34:56.230Z"
   },
   {
    "duration": 148,
    "start_time": "2022-08-14T03:34:56.272Z"
   },
   {
    "duration": 9,
    "start_time": "2022-08-14T03:34:56.422Z"
   },
   {
    "duration": 5,
    "start_time": "2022-08-14T03:35:10.222Z"
   },
   {
    "duration": 4,
    "start_time": "2022-08-14T03:35:13.898Z"
   },
   {
    "duration": 66,
    "start_time": "2022-08-14T03:35:13.904Z"
   },
   {
    "duration": 3,
    "start_time": "2022-08-14T03:35:13.971Z"
   },
   {
    "duration": 265,
    "start_time": "2022-08-14T03:35:13.976Z"
   },
   {
    "duration": 6,
    "start_time": "2022-08-14T03:35:14.244Z"
   },
   {
    "duration": 8,
    "start_time": "2022-08-14T03:35:14.251Z"
   },
   {
    "duration": 11,
    "start_time": "2022-08-14T03:35:14.261Z"
   },
   {
    "duration": 31,
    "start_time": "2022-08-14T03:35:14.274Z"
   },
   {
    "duration": 7,
    "start_time": "2022-08-14T03:35:14.306Z"
   },
   {
    "duration": 14,
    "start_time": "2022-08-14T03:35:14.314Z"
   },
   {
    "duration": 4,
    "start_time": "2022-08-14T03:35:14.330Z"
   },
   {
    "duration": 15,
    "start_time": "2022-08-14T03:35:14.336Z"
   },
   {
    "duration": 50,
    "start_time": "2022-08-14T03:35:14.353Z"
   },
   {
    "duration": 37,
    "start_time": "2022-08-14T03:35:14.406Z"
   },
   {
    "duration": 5,
    "start_time": "2022-08-14T03:35:14.444Z"
   },
   {
    "duration": 8,
    "start_time": "2022-08-14T03:35:14.450Z"
   },
   {
    "duration": 250,
    "start_time": "2022-08-14T03:35:14.460Z"
   },
   {
    "duration": 35,
    "start_time": "2022-08-14T03:35:14.712Z"
   },
   {
    "duration": 140,
    "start_time": "2022-08-14T03:35:14.748Z"
   },
   {
    "duration": 16,
    "start_time": "2022-08-14T03:35:14.890Z"
   },
   {
    "duration": 49,
    "start_time": "2022-08-14T09:49:17.498Z"
   },
   {
    "duration": 1291,
    "start_time": "2022-08-14T09:49:23.127Z"
   },
   {
    "duration": 106,
    "start_time": "2022-08-14T09:49:24.421Z"
   },
   {
    "duration": 4,
    "start_time": "2022-08-14T09:49:24.529Z"
   },
   {
    "duration": 55,
    "start_time": "2022-08-14T09:49:24.535Z"
   },
   {
    "duration": 8,
    "start_time": "2022-08-14T09:49:24.593Z"
   },
   {
    "duration": 10,
    "start_time": "2022-08-14T09:49:24.603Z"
   },
   {
    "duration": 13,
    "start_time": "2022-08-14T09:49:24.615Z"
   },
   {
    "duration": 32,
    "start_time": "2022-08-14T09:49:24.629Z"
   },
   {
    "duration": 18,
    "start_time": "2022-08-14T09:49:24.663Z"
   },
   {
    "duration": 11,
    "start_time": "2022-08-14T09:49:24.683Z"
   },
   {
    "duration": 9,
    "start_time": "2022-08-14T09:49:24.696Z"
   },
   {
    "duration": 31,
    "start_time": "2022-08-14T09:49:24.706Z"
   },
   {
    "duration": 80,
    "start_time": "2022-08-14T09:49:24.739Z"
   },
   {
    "duration": 75,
    "start_time": "2022-08-14T09:49:24.823Z"
   },
   {
    "duration": 5,
    "start_time": "2022-08-14T09:49:24.902Z"
   },
   {
    "duration": 10,
    "start_time": "2022-08-14T09:49:24.910Z"
   },
   {
    "duration": 330,
    "start_time": "2022-08-14T09:49:24.922Z"
   },
   {
    "duration": 61,
    "start_time": "2022-08-14T09:49:25.260Z"
   },
   {
    "duration": 219,
    "start_time": "2022-08-14T09:49:25.323Z"
   },
   {
    "duration": 17,
    "start_time": "2022-08-14T09:49:25.544Z"
   },
   {
    "duration": 5,
    "start_time": "2022-08-14T09:49:25.563Z"
   },
   {
    "duration": 5,
    "start_time": "2022-08-14T10:00:16.245Z"
   },
   {
    "duration": 104,
    "start_time": "2022-08-14T10:10:00.270Z"
   },
   {
    "duration": 123,
    "start_time": "2022-08-14T10:10:05.621Z"
   },
   {
    "duration": 59,
    "start_time": "2022-08-14T10:11:30.309Z"
   },
   {
    "duration": 4,
    "start_time": "2022-08-14T10:11:35.557Z"
   },
   {
    "duration": 121,
    "start_time": "2022-08-14T10:12:32.023Z"
   },
   {
    "duration": 124,
    "start_time": "2022-08-14T10:13:12.287Z"
   },
   {
    "duration": 136,
    "start_time": "2022-08-14T10:24:49.473Z"
   },
   {
    "duration": 139,
    "start_time": "2022-08-14T10:25:55.389Z"
   },
   {
    "duration": 14,
    "start_time": "2022-08-14T10:27:16.301Z"
   },
   {
    "duration": 93,
    "start_time": "2022-08-14T10:27:30.958Z"
   },
   {
    "duration": 9,
    "start_time": "2022-08-14T10:27:38.056Z"
   },
   {
    "duration": 95,
    "start_time": "2022-08-14T10:28:23.796Z"
   },
   {
    "duration": 147,
    "start_time": "2022-08-14T10:29:01.143Z"
   },
   {
    "duration": 123,
    "start_time": "2022-08-14T10:29:20.030Z"
   },
   {
    "duration": 127,
    "start_time": "2022-08-14T10:30:11.790Z"
   },
   {
    "duration": 693,
    "start_time": "2022-08-14T10:35:54.008Z"
   },
   {
    "duration": 642,
    "start_time": "2022-08-14T10:36:15.593Z"
   },
   {
    "duration": 1303,
    "start_time": "2022-08-14T10:37:21.220Z"
   },
   {
    "duration": 16,
    "start_time": "2022-08-14T10:43:54.002Z"
   },
   {
    "duration": 908,
    "start_time": "2022-08-14T10:44:08.148Z"
   },
   {
    "duration": 643,
    "start_time": "2022-08-14T10:47:28.483Z"
   },
   {
    "duration": 14,
    "start_time": "2022-08-14T10:48:37.413Z"
   },
   {
    "duration": 1258,
    "start_time": "2022-08-14T10:55:35.697Z"
   },
   {
    "duration": 92,
    "start_time": "2022-08-14T10:55:36.957Z"
   },
   {
    "duration": 3,
    "start_time": "2022-08-14T10:55:37.052Z"
   },
   {
    "duration": 125,
    "start_time": "2022-08-14T10:55:37.057Z"
   },
   {
    "duration": 8,
    "start_time": "2022-08-14T10:55:37.187Z"
   },
   {
    "duration": 12,
    "start_time": "2022-08-14T10:55:37.197Z"
   },
   {
    "duration": 20,
    "start_time": "2022-08-14T10:55:37.211Z"
   },
   {
    "duration": 13,
    "start_time": "2022-08-14T10:55:37.232Z"
   },
   {
    "duration": 49,
    "start_time": "2022-08-14T10:55:37.247Z"
   },
   {
    "duration": 13,
    "start_time": "2022-08-14T10:55:37.298Z"
   },
   {
    "duration": 12,
    "start_time": "2022-08-14T10:55:37.312Z"
   },
   {
    "duration": 19,
    "start_time": "2022-08-14T10:55:37.326Z"
   },
   {
    "duration": 54,
    "start_time": "2022-08-14T10:55:37.347Z"
   },
   {
    "duration": 47,
    "start_time": "2022-08-14T10:55:37.405Z"
   },
   {
    "duration": 29,
    "start_time": "2022-08-14T10:55:37.454Z"
   },
   {
    "duration": 27,
    "start_time": "2022-08-14T10:55:37.495Z"
   },
   {
    "duration": 318,
    "start_time": "2022-08-14T10:55:37.524Z"
   },
   {
    "duration": 70,
    "start_time": "2022-08-14T10:55:37.845Z"
   },
   {
    "duration": 222,
    "start_time": "2022-08-14T10:55:37.917Z"
   },
   {
    "duration": 37,
    "start_time": "2022-08-14T10:55:38.142Z"
   },
   {
    "duration": 9,
    "start_time": "2022-08-14T10:55:38.191Z"
   },
   {
    "duration": 100,
    "start_time": "2022-08-14T10:55:38.203Z"
   },
   {
    "duration": 144,
    "start_time": "2022-08-14T10:55:38.305Z"
   },
   {
    "duration": 1396,
    "start_time": "2022-08-14T10:55:38.455Z"
   },
   {
    "duration": 766,
    "start_time": "2022-08-14T10:55:39.853Z"
   },
   {
    "duration": 1002,
    "start_time": "2022-08-14T10:55:40.621Z"
   },
   {
    "duration": 3210,
    "start_time": "2022-08-14T10:55:41.625Z"
   },
   {
    "duration": 10,
    "start_time": "2022-08-14T10:55:44.837Z"
   },
   {
    "duration": 4,
    "start_time": "2022-08-14T10:57:29.702Z"
   },
   {
    "duration": 4,
    "start_time": "2022-08-14T11:09:17.348Z"
   },
   {
    "duration": 135,
    "start_time": "2022-08-14T11:09:17.354Z"
   },
   {
    "duration": 4,
    "start_time": "2022-08-14T11:09:17.493Z"
   },
   {
    "duration": 60,
    "start_time": "2022-08-14T11:09:17.503Z"
   },
   {
    "duration": 7,
    "start_time": "2022-08-14T11:09:17.565Z"
   },
   {
    "duration": 9,
    "start_time": "2022-08-14T11:09:17.574Z"
   },
   {
    "duration": 38,
    "start_time": "2022-08-14T11:09:17.585Z"
   },
   {
    "duration": 13,
    "start_time": "2022-08-14T11:09:17.625Z"
   },
   {
    "duration": 6,
    "start_time": "2022-08-14T11:09:17.640Z"
   },
   {
    "duration": 17,
    "start_time": "2022-08-14T11:09:17.647Z"
   },
   {
    "duration": 45,
    "start_time": "2022-08-14T11:09:17.667Z"
   },
   {
    "duration": 28,
    "start_time": "2022-08-14T11:09:17.714Z"
   },
   {
    "duration": 59,
    "start_time": "2022-08-14T11:09:17.744Z"
   },
   {
    "duration": 57,
    "start_time": "2022-08-14T11:09:17.808Z"
   },
   {
    "duration": 9,
    "start_time": "2022-08-14T11:09:17.867Z"
   },
   {
    "duration": 32,
    "start_time": "2022-08-14T11:09:17.879Z"
   },
   {
    "duration": 297,
    "start_time": "2022-08-14T11:09:17.913Z"
   },
   {
    "duration": 84,
    "start_time": "2022-08-14T11:09:18.212Z"
   },
   {
    "duration": 163,
    "start_time": "2022-08-14T11:09:18.299Z"
   },
   {
    "duration": 10,
    "start_time": "2022-08-14T11:09:18.464Z"
   },
   {
    "duration": 36,
    "start_time": "2022-08-14T11:09:18.476Z"
   },
   {
    "duration": 135,
    "start_time": "2022-08-14T11:09:18.514Z"
   },
   {
    "duration": 30,
    "start_time": "2022-08-14T11:09:18.651Z"
   },
   {
    "duration": 134,
    "start_time": "2022-08-14T11:09:18.683Z"
   },
   {
    "duration": 1400,
    "start_time": "2022-08-14T11:09:18.818Z"
   },
   {
    "duration": 732,
    "start_time": "2022-08-14T11:09:20.223Z"
   },
   {
    "duration": 1189,
    "start_time": "2022-08-14T11:09:20.958Z"
   },
   {
    "duration": 2127,
    "start_time": "2022-08-14T11:09:22.150Z"
   },
   {
    "duration": 12,
    "start_time": "2022-08-14T11:09:24.280Z"
   },
   {
    "duration": 2576,
    "start_time": "2022-08-14T11:09:34.480Z"
   },
   {
    "duration": 2251,
    "start_time": "2022-08-14T11:10:16.385Z"
   },
   {
    "duration": 2183,
    "start_time": "2022-08-14T11:10:24.723Z"
   },
   {
    "duration": 9,
    "start_time": "2022-08-14T11:15:01.274Z"
   },
   {
    "duration": 414,
    "start_time": "2022-08-14T11:23:29.785Z"
   },
   {
    "duration": 2250,
    "start_time": "2022-08-14T11:24:21.493Z"
   },
   {
    "duration": 2247,
    "start_time": "2022-08-14T11:24:39.996Z"
   },
   {
    "duration": 2306,
    "start_time": "2022-08-14T11:24:45.677Z"
   },
   {
    "duration": 2011,
    "start_time": "2022-08-14T11:24:58.701Z"
   },
   {
    "duration": 2183,
    "start_time": "2022-08-14T11:25:11.117Z"
   },
   {
    "duration": 330,
    "start_time": "2022-08-14T11:26:50.853Z"
   },
   {
    "duration": 315,
    "start_time": "2022-08-14T11:26:59.901Z"
   },
   {
    "duration": 2195,
    "start_time": "2022-08-14T11:27:05.732Z"
   },
   {
    "duration": 2422,
    "start_time": "2022-08-14T11:27:34.700Z"
   },
   {
    "duration": 1192,
    "start_time": "2022-08-14T11:31:24.049Z"
   },
   {
    "duration": 109,
    "start_time": "2022-08-14T11:31:25.244Z"
   },
   {
    "duration": 15,
    "start_time": "2022-08-14T11:31:25.355Z"
   },
   {
    "duration": 100,
    "start_time": "2022-08-14T11:31:25.376Z"
   },
   {
    "duration": 10,
    "start_time": "2022-08-14T11:31:25.488Z"
   },
   {
    "duration": 12,
    "start_time": "2022-08-14T11:31:25.500Z"
   },
   {
    "duration": 14,
    "start_time": "2022-08-14T11:31:25.514Z"
   },
   {
    "duration": 16,
    "start_time": "2022-08-14T11:31:25.530Z"
   },
   {
    "duration": 17,
    "start_time": "2022-08-14T11:31:25.549Z"
   },
   {
    "duration": 57,
    "start_time": "2022-08-14T11:31:25.570Z"
   },
   {
    "duration": 17,
    "start_time": "2022-08-14T11:31:25.629Z"
   },
   {
    "duration": 64,
    "start_time": "2022-08-14T11:31:25.648Z"
   },
   {
    "duration": 45,
    "start_time": "2022-08-14T11:31:25.714Z"
   },
   {
    "duration": 58,
    "start_time": "2022-08-14T11:31:25.762Z"
   },
   {
    "duration": 6,
    "start_time": "2022-08-14T11:31:25.821Z"
   },
   {
    "duration": 8,
    "start_time": "2022-08-14T11:31:25.828Z"
   },
   {
    "duration": 302,
    "start_time": "2022-08-14T11:31:25.838Z"
   },
   {
    "duration": 49,
    "start_time": "2022-08-14T11:31:26.142Z"
   },
   {
    "duration": 157,
    "start_time": "2022-08-14T11:31:26.193Z"
   },
   {
    "duration": 14,
    "start_time": "2022-08-14T11:31:26.358Z"
   },
   {
    "duration": 32,
    "start_time": "2022-08-14T11:31:26.374Z"
   },
   {
    "duration": 89,
    "start_time": "2022-08-14T11:31:26.408Z"
   },
   {
    "duration": 18,
    "start_time": "2022-08-14T11:31:26.498Z"
   },
   {
    "duration": 6,
    "start_time": "2022-08-14T11:31:26.518Z"
   },
   {
    "duration": 2177,
    "start_time": "2022-08-14T11:31:26.526Z"
   },
   {
    "duration": 2158,
    "start_time": "2022-08-14T11:31:28.705Z"
   },
   {
    "duration": 20,
    "start_time": "2022-08-14T11:31:30.866Z"
   },
   {
    "duration": 2012,
    "start_time": "2022-08-14T11:32:13.490Z"
   },
   {
    "duration": 376,
    "start_time": "2022-08-14T11:38:23.015Z"
   },
   {
    "duration": 156,
    "start_time": "2022-08-14T11:38:54.234Z"
   },
   {
    "duration": 30,
    "start_time": "2022-08-14T11:38:59.881Z"
   },
   {
    "duration": 383,
    "start_time": "2022-08-14T11:39:35.625Z"
   },
   {
    "duration": 342,
    "start_time": "2022-08-14T11:40:11.447Z"
   },
   {
    "duration": 364,
    "start_time": "2022-08-14T11:40:36.239Z"
   },
   {
    "duration": 426,
    "start_time": "2022-08-14T11:40:52.441Z"
   },
   {
    "duration": 371,
    "start_time": "2022-08-14T11:41:23.151Z"
   },
   {
    "duration": 397,
    "start_time": "2022-08-14T11:41:35.415Z"
   },
   {
    "duration": 338,
    "start_time": "2022-08-14T11:41:52.743Z"
   },
   {
    "duration": 416,
    "start_time": "2022-08-14T11:42:13.479Z"
   },
   {
    "duration": 326,
    "start_time": "2022-08-14T11:42:21.299Z"
   },
   {
    "duration": 329,
    "start_time": "2022-08-14T11:42:33.065Z"
   },
   {
    "duration": 1101,
    "start_time": "2022-08-14T11:48:58.897Z"
   },
   {
    "duration": 100,
    "start_time": "2022-08-14T11:48:59.999Z"
   },
   {
    "duration": 2,
    "start_time": "2022-08-14T11:49:00.101Z"
   },
   {
    "duration": 69,
    "start_time": "2022-08-14T11:49:00.104Z"
   },
   {
    "duration": 6,
    "start_time": "2022-08-14T11:49:00.176Z"
   },
   {
    "duration": 25,
    "start_time": "2022-08-14T11:49:00.184Z"
   },
   {
    "duration": 16,
    "start_time": "2022-08-14T11:49:00.211Z"
   },
   {
    "duration": 13,
    "start_time": "2022-08-14T11:49:00.229Z"
   },
   {
    "duration": 8,
    "start_time": "2022-08-14T11:49:00.243Z"
   },
   {
    "duration": 40,
    "start_time": "2022-08-14T11:49:00.252Z"
   },
   {
    "duration": 20,
    "start_time": "2022-08-14T11:49:00.294Z"
   },
   {
    "duration": 24,
    "start_time": "2022-08-14T11:49:00.316Z"
   },
   {
    "duration": 971,
    "start_time": "2022-08-14T11:49:00.342Z"
   },
   {
    "duration": 76,
    "start_time": "2022-08-14T11:49:01.317Z"
   },
   {
    "duration": 52,
    "start_time": "2022-08-14T11:49:01.400Z"
   },
   {
    "duration": 7,
    "start_time": "2022-08-14T11:49:01.453Z"
   },
   {
    "duration": 35,
    "start_time": "2022-08-14T11:49:01.462Z"
   },
   {
    "duration": 293,
    "start_time": "2022-08-14T11:49:01.499Z"
   },
   {
    "duration": 42,
    "start_time": "2022-08-14T11:49:01.793Z"
   },
   {
    "duration": 162,
    "start_time": "2022-08-14T11:49:01.837Z"
   },
   {
    "duration": 10,
    "start_time": "2022-08-14T11:49:02.001Z"
   },
   {
    "duration": 20,
    "start_time": "2022-08-14T11:49:02.012Z"
   },
   {
    "duration": 104,
    "start_time": "2022-08-14T11:49:02.034Z"
   },
   {
    "duration": 351,
    "start_time": "2022-08-14T11:49:02.140Z"
   },
   {
    "duration": 16,
    "start_time": "2022-08-14T11:49:02.493Z"
   },
   {
    "duration": 6,
    "start_time": "2022-08-14T11:49:02.511Z"
   },
   {
    "duration": 2400,
    "start_time": "2022-08-14T11:49:02.518Z"
   },
   {
    "duration": 1968,
    "start_time": "2022-08-14T11:49:04.920Z"
   },
   {
    "duration": 1136,
    "start_time": "2022-08-14T11:49:26.441Z"
   },
   {
    "duration": 175,
    "start_time": "2022-08-14T12:36:39.835Z"
   },
   {
    "duration": 193,
    "start_time": "2022-08-14T12:36:51.596Z"
   },
   {
    "duration": 1223,
    "start_time": "2022-08-14T13:01:00.371Z"
   },
   {
    "duration": 94,
    "start_time": "2022-08-14T13:01:01.600Z"
   },
   {
    "duration": 4,
    "start_time": "2022-08-14T13:01:01.697Z"
   },
   {
    "duration": 93,
    "start_time": "2022-08-14T13:01:01.704Z"
   },
   {
    "duration": 9,
    "start_time": "2022-08-14T13:01:01.800Z"
   },
   {
    "duration": 23,
    "start_time": "2022-08-14T13:01:01.811Z"
   },
   {
    "duration": 15,
    "start_time": "2022-08-14T13:01:01.836Z"
   },
   {
    "duration": 51,
    "start_time": "2022-08-14T13:01:01.852Z"
   },
   {
    "duration": 11,
    "start_time": "2022-08-14T13:01:01.905Z"
   },
   {
    "duration": 10,
    "start_time": "2022-08-14T13:01:01.919Z"
   },
   {
    "duration": 10,
    "start_time": "2022-08-14T13:01:01.931Z"
   },
   {
    "duration": 1049,
    "start_time": "2022-08-14T13:01:01.943Z"
   },
   {
    "duration": 45,
    "start_time": "2022-08-14T13:01:02.994Z"
   },
   {
    "duration": 50,
    "start_time": "2022-08-14T13:01:03.041Z"
   },
   {
    "duration": 9,
    "start_time": "2022-08-14T13:01:03.093Z"
   },
   {
    "duration": 27,
    "start_time": "2022-08-14T13:01:03.103Z"
   },
   {
    "duration": 316,
    "start_time": "2022-08-14T13:01:03.132Z"
   },
   {
    "duration": 46,
    "start_time": "2022-08-14T13:01:03.450Z"
   },
   {
    "duration": 174,
    "start_time": "2022-08-14T13:01:03.498Z"
   },
   {
    "duration": 15,
    "start_time": "2022-08-14T13:01:03.674Z"
   },
   {
    "duration": 29,
    "start_time": "2022-08-14T13:01:03.691Z"
   },
   {
    "duration": 126,
    "start_time": "2022-08-14T13:01:03.722Z"
   },
   {
    "duration": 360,
    "start_time": "2022-08-14T13:01:03.850Z"
   },
   {
    "duration": 16,
    "start_time": "2022-08-14T13:01:04.211Z"
   },
   {
    "duration": 10,
    "start_time": "2022-08-14T13:01:04.229Z"
   },
   {
    "duration": 2360,
    "start_time": "2022-08-14T13:01:04.241Z"
   },
   {
    "duration": 1901,
    "start_time": "2022-08-14T13:01:06.604Z"
   },
   {
    "duration": 317,
    "start_time": "2022-08-14T13:01:08.509Z"
   },
   {
    "duration": 14,
    "start_time": "2022-08-14T13:01:08.827Z"
   },
   {
    "duration": 7,
    "start_time": "2022-08-14T13:06:59.522Z"
   },
   {
    "duration": 8,
    "start_time": "2022-08-14T13:07:38.034Z"
   },
   {
    "duration": 268,
    "start_time": "2022-08-14T13:20:12.733Z"
   },
   {
    "duration": 8,
    "start_time": "2022-08-14T13:33:44.786Z"
   },
   {
    "duration": 1165,
    "start_time": "2022-08-14T13:47:40.189Z"
   },
   {
    "duration": 81,
    "start_time": "2022-08-14T13:47:41.356Z"
   },
   {
    "duration": 3,
    "start_time": "2022-08-14T13:47:41.438Z"
   },
   {
    "duration": 60,
    "start_time": "2022-08-14T13:47:41.443Z"
   },
   {
    "duration": 6,
    "start_time": "2022-08-14T13:47:41.505Z"
   },
   {
    "duration": 14,
    "start_time": "2022-08-14T13:47:41.513Z"
   },
   {
    "duration": 17,
    "start_time": "2022-08-14T13:47:41.529Z"
   },
   {
    "duration": 14,
    "start_time": "2022-08-14T13:47:41.548Z"
   },
   {
    "duration": 32,
    "start_time": "2022-08-14T13:47:41.564Z"
   },
   {
    "duration": 16,
    "start_time": "2022-08-14T13:47:41.597Z"
   },
   {
    "duration": 10,
    "start_time": "2022-08-14T13:47:41.614Z"
   },
   {
    "duration": 1015,
    "start_time": "2022-08-14T13:47:41.626Z"
   },
   {
    "duration": 48,
    "start_time": "2022-08-14T13:47:42.643Z"
   },
   {
    "duration": 41,
    "start_time": "2022-08-14T13:47:42.693Z"
   },
   {
    "duration": 5,
    "start_time": "2022-08-14T13:47:42.735Z"
   },
   {
    "duration": 34,
    "start_time": "2022-08-14T13:47:42.741Z"
   },
   {
    "duration": 287,
    "start_time": "2022-08-14T13:47:42.777Z"
   },
   {
    "duration": 48,
    "start_time": "2022-08-14T13:47:43.067Z"
   },
   {
    "duration": 161,
    "start_time": "2022-08-14T13:47:43.116Z"
   },
   {
    "duration": 15,
    "start_time": "2022-08-14T13:47:43.279Z"
   },
   {
    "duration": 15,
    "start_time": "2022-08-14T13:47:43.299Z"
   },
   {
    "duration": 111,
    "start_time": "2022-08-14T13:47:43.315Z"
   },
   {
    "duration": 357,
    "start_time": "2022-08-14T13:47:43.428Z"
   },
   {
    "duration": 15,
    "start_time": "2022-08-14T13:47:43.786Z"
   },
   {
    "duration": 6,
    "start_time": "2022-08-14T13:47:43.803Z"
   },
   {
    "duration": 2426,
    "start_time": "2022-08-14T13:47:43.810Z"
   },
   {
    "duration": 1795,
    "start_time": "2022-08-14T13:47:46.238Z"
   },
   {
    "duration": 308,
    "start_time": "2022-08-14T13:47:48.034Z"
   },
   {
    "duration": 28,
    "start_time": "2022-08-14T13:47:48.344Z"
   },
   {
    "duration": 260,
    "start_time": "2022-08-14T13:47:48.373Z"
   },
   {
    "duration": 8,
    "start_time": "2022-08-14T13:47:48.635Z"
   },
   {
    "duration": 96,
    "start_time": "2022-08-14T13:48:44.003Z"
   },
   {
    "duration": 1797,
    "start_time": "2022-08-14T13:49:49.938Z"
   },
   {
    "duration": 1704,
    "start_time": "2022-08-14T13:51:12.795Z"
   },
   {
    "duration": 1741,
    "start_time": "2022-08-14T13:52:18.442Z"
   },
   {
    "duration": 1717,
    "start_time": "2022-08-14T13:52:29.682Z"
   },
   {
    "duration": 1398,
    "start_time": "2022-08-14T13:53:19.388Z"
   },
   {
    "duration": 1290,
    "start_time": "2022-08-14T13:53:31.475Z"
   },
   {
    "duration": 6,
    "start_time": "2022-08-14T13:54:34.270Z"
   },
   {
    "duration": 79,
    "start_time": "2022-08-14T13:54:34.278Z"
   },
   {
    "duration": 5,
    "start_time": "2022-08-14T13:54:34.361Z"
   },
   {
    "duration": 64,
    "start_time": "2022-08-14T13:54:34.374Z"
   },
   {
    "duration": 8,
    "start_time": "2022-08-14T13:54:34.440Z"
   },
   {
    "duration": 27,
    "start_time": "2022-08-14T13:54:34.450Z"
   },
   {
    "duration": 28,
    "start_time": "2022-08-14T13:54:34.481Z"
   },
   {
    "duration": 10,
    "start_time": "2022-08-14T13:54:34.510Z"
   },
   {
    "duration": 4,
    "start_time": "2022-08-14T13:54:34.522Z"
   },
   {
    "duration": 6,
    "start_time": "2022-08-14T13:54:34.528Z"
   },
   {
    "duration": 5,
    "start_time": "2022-08-14T13:54:34.536Z"
   },
   {
    "duration": 1056,
    "start_time": "2022-08-14T13:54:34.543Z"
   },
   {
    "duration": 63,
    "start_time": "2022-08-14T13:54:35.602Z"
   },
   {
    "duration": 54,
    "start_time": "2022-08-14T13:54:35.667Z"
   },
   {
    "duration": 5,
    "start_time": "2022-08-14T13:54:35.723Z"
   },
   {
    "duration": 31,
    "start_time": "2022-08-14T13:54:35.731Z"
   },
   {
    "duration": 291,
    "start_time": "2022-08-14T13:54:35.764Z"
   },
   {
    "duration": 46,
    "start_time": "2022-08-14T13:54:36.057Z"
   },
   {
    "duration": 286,
    "start_time": "2022-08-14T13:54:36.104Z"
   },
   {
    "duration": 11,
    "start_time": "2022-08-14T13:54:36.392Z"
   },
   {
    "duration": 5,
    "start_time": "2022-08-14T13:54:36.405Z"
   },
   {
    "duration": 114,
    "start_time": "2022-08-14T13:54:36.412Z"
   },
   {
    "duration": 372,
    "start_time": "2022-08-14T13:54:36.528Z"
   },
   {
    "duration": 15,
    "start_time": "2022-08-14T13:54:36.902Z"
   },
   {
    "duration": 6,
    "start_time": "2022-08-14T13:54:36.918Z"
   },
   {
    "duration": 1865,
    "start_time": "2022-08-14T13:54:36.926Z"
   },
   {
    "duration": 1502,
    "start_time": "2022-08-14T13:54:38.793Z"
   },
   {
    "duration": 1683,
    "start_time": "2022-08-14T13:54:40.297Z"
   },
   {
    "duration": 1320,
    "start_time": "2022-08-14T13:54:41.985Z"
   },
   {
    "duration": 1377,
    "start_time": "2022-08-14T13:54:43.306Z"
   },
   {
    "duration": 962,
    "start_time": "2022-08-14T13:54:44.685Z"
   },
   {
    "duration": 211,
    "start_time": "2022-08-14T13:54:45.650Z"
   },
   {
    "duration": 16,
    "start_time": "2022-08-14T13:54:45.868Z"
   },
   {
    "duration": 329,
    "start_time": "2022-08-14T13:54:45.885Z"
   },
   {
    "duration": 7,
    "start_time": "2022-08-14T13:54:46.216Z"
   },
   {
    "duration": 3,
    "start_time": "2022-08-14T14:17:24.820Z"
   },
   {
    "duration": 83,
    "start_time": "2022-08-14T14:17:24.825Z"
   },
   {
    "duration": 3,
    "start_time": "2022-08-14T14:17:24.909Z"
   },
   {
    "duration": 54,
    "start_time": "2022-08-14T14:17:24.913Z"
   },
   {
    "duration": 7,
    "start_time": "2022-08-14T14:17:24.970Z"
   },
   {
    "duration": 15,
    "start_time": "2022-08-14T14:17:24.979Z"
   },
   {
    "duration": 16,
    "start_time": "2022-08-14T14:17:24.996Z"
   },
   {
    "duration": 14,
    "start_time": "2022-08-14T14:17:25.013Z"
   },
   {
    "duration": 10,
    "start_time": "2022-08-14T14:17:25.029Z"
   },
   {
    "duration": 13,
    "start_time": "2022-08-14T14:17:25.041Z"
   },
   {
    "duration": 24,
    "start_time": "2022-08-14T14:17:25.056Z"
   },
   {
    "duration": 987,
    "start_time": "2022-08-14T14:17:25.082Z"
   },
   {
    "duration": 41,
    "start_time": "2022-08-14T14:17:26.074Z"
   },
   {
    "duration": 55,
    "start_time": "2022-08-14T14:17:26.118Z"
   },
   {
    "duration": 5,
    "start_time": "2022-08-14T14:17:26.175Z"
   },
   {
    "duration": 11,
    "start_time": "2022-08-14T14:17:26.182Z"
   },
   {
    "duration": 258,
    "start_time": "2022-08-14T14:17:26.195Z"
   },
   {
    "duration": 44,
    "start_time": "2022-08-14T14:17:26.455Z"
   },
   {
    "duration": 150,
    "start_time": "2022-08-14T14:17:26.500Z"
   },
   {
    "duration": 19,
    "start_time": "2022-08-14T14:17:26.652Z"
   },
   {
    "duration": 6,
    "start_time": "2022-08-14T14:17:26.672Z"
   },
   {
    "duration": 100,
    "start_time": "2022-08-14T14:17:26.680Z"
   },
   {
    "duration": 313,
    "start_time": "2022-08-14T14:17:26.781Z"
   },
   {
    "duration": 15,
    "start_time": "2022-08-14T14:17:27.096Z"
   },
   {
    "duration": 5,
    "start_time": "2022-08-14T14:17:27.112Z"
   },
   {
    "duration": 1730,
    "start_time": "2022-08-14T14:17:27.118Z"
   },
   {
    "duration": 1358,
    "start_time": "2022-08-14T14:17:28.849Z"
   },
   {
    "duration": 1788,
    "start_time": "2022-08-14T14:17:30.209Z"
   },
   {
    "duration": 1259,
    "start_time": "2022-08-14T14:17:31.999Z"
   },
   {
    "duration": 1775,
    "start_time": "2022-08-14T14:17:33.260Z"
   },
   {
    "duration": 1338,
    "start_time": "2022-08-14T14:17:35.037Z"
   },
   {
    "duration": 174,
    "start_time": "2022-08-14T14:17:36.377Z"
   },
   {
    "duration": 20,
    "start_time": "2022-08-14T14:17:36.552Z"
   },
   {
    "duration": 234,
    "start_time": "2022-08-14T14:17:36.574Z"
   },
   {
    "duration": 8,
    "start_time": "2022-08-14T14:17:36.810Z"
   },
   {
    "duration": 3,
    "start_time": "2022-08-14T14:58:08.533Z"
   },
   {
    "duration": 74,
    "start_time": "2022-08-14T14:58:08.570Z"
   },
   {
    "duration": 3,
    "start_time": "2022-08-14T14:58:08.646Z"
   },
   {
    "duration": 54,
    "start_time": "2022-08-14T14:58:08.650Z"
   },
   {
    "duration": 6,
    "start_time": "2022-08-14T14:58:08.706Z"
   },
   {
    "duration": 13,
    "start_time": "2022-08-14T14:58:08.714Z"
   },
   {
    "duration": 10,
    "start_time": "2022-08-14T14:58:08.729Z"
   },
   {
    "duration": 14,
    "start_time": "2022-08-14T14:58:08.758Z"
   },
   {
    "duration": 7,
    "start_time": "2022-08-14T14:58:08.773Z"
   },
   {
    "duration": 7,
    "start_time": "2022-08-14T14:58:08.782Z"
   },
   {
    "duration": 4,
    "start_time": "2022-08-14T14:58:08.791Z"
   },
   {
    "duration": 955,
    "start_time": "2022-08-14T14:58:08.796Z"
   },
   {
    "duration": 47,
    "start_time": "2022-08-14T14:58:09.758Z"
   },
   {
    "duration": 57,
    "start_time": "2022-08-14T14:58:09.806Z"
   },
   {
    "duration": 8,
    "start_time": "2022-08-14T14:58:09.872Z"
   },
   {
    "duration": 10,
    "start_time": "2022-08-14T14:58:09.882Z"
   },
   {
    "duration": 323,
    "start_time": "2022-08-14T14:58:09.894Z"
   },
   {
    "duration": 59,
    "start_time": "2022-08-14T14:58:10.219Z"
   },
   {
    "duration": 313,
    "start_time": "2022-08-14T14:58:10.281Z"
   },
   {
    "duration": 11,
    "start_time": "2022-08-14T14:58:10.597Z"
   },
   {
    "duration": 7,
    "start_time": "2022-08-14T14:58:10.610Z"
   },
   {
    "duration": 124,
    "start_time": "2022-08-14T14:58:10.619Z"
   },
   {
    "duration": 352,
    "start_time": "2022-08-14T14:58:10.744Z"
   },
   {
    "duration": 17,
    "start_time": "2022-08-14T14:58:11.098Z"
   },
   {
    "duration": 6,
    "start_time": "2022-08-14T14:58:11.118Z"
   },
   {
    "duration": 1858,
    "start_time": "2022-08-14T14:58:11.126Z"
   },
   {
    "duration": 1436,
    "start_time": "2022-08-14T14:58:12.986Z"
   },
   {
    "duration": 1915,
    "start_time": "2022-08-14T14:58:14.424Z"
   },
   {
    "duration": 1403,
    "start_time": "2022-08-14T14:58:16.341Z"
   },
   {
    "duration": 1874,
    "start_time": "2022-08-14T14:58:17.746Z"
   },
   {
    "duration": 1041,
    "start_time": "2022-08-14T14:58:19.622Z"
   },
   {
    "duration": 190,
    "start_time": "2022-08-14T14:58:20.665Z"
   },
   {
    "duration": 22,
    "start_time": "2022-08-14T14:58:20.857Z"
   },
   {
    "duration": 323,
    "start_time": "2022-08-14T14:58:20.880Z"
   },
   {
    "duration": 7,
    "start_time": "2022-08-14T14:58:21.205Z"
   },
   {
    "duration": 1097,
    "start_time": "2022-08-15T14:30:05.024Z"
   },
   {
    "duration": 225,
    "start_time": "2022-08-15T14:30:06.124Z"
   },
   {
    "duration": 3,
    "start_time": "2022-08-15T14:30:06.350Z"
   },
   {
    "duration": 72,
    "start_time": "2022-08-15T14:30:06.354Z"
   },
   {
    "duration": 6,
    "start_time": "2022-08-15T14:30:06.428Z"
   },
   {
    "duration": 15,
    "start_time": "2022-08-15T14:30:06.436Z"
   },
   {
    "duration": 34,
    "start_time": "2022-08-15T14:30:06.453Z"
   },
   {
    "duration": 33,
    "start_time": "2022-08-15T14:30:06.489Z"
   },
   {
    "duration": 10,
    "start_time": "2022-08-15T14:30:06.524Z"
   },
   {
    "duration": 18,
    "start_time": "2022-08-15T14:30:06.535Z"
   },
   {
    "duration": 34,
    "start_time": "2022-08-15T14:30:06.555Z"
   },
   {
    "duration": 957,
    "start_time": "2022-08-15T14:30:06.591Z"
   },
   {
    "duration": 52,
    "start_time": "2022-08-15T14:30:07.550Z"
   },
   {
    "duration": 47,
    "start_time": "2022-08-15T14:30:07.606Z"
   },
   {
    "duration": 7,
    "start_time": "2022-08-15T14:30:07.655Z"
   },
   {
    "duration": 9,
    "start_time": "2022-08-15T14:30:07.665Z"
   },
   {
    "duration": 316,
    "start_time": "2022-08-15T14:30:07.676Z"
   },
   {
    "duration": 47,
    "start_time": "2022-08-15T14:30:07.994Z"
   },
   {
    "duration": 148,
    "start_time": "2022-08-15T14:30:08.043Z"
   },
   {
    "duration": 16,
    "start_time": "2022-08-15T14:30:08.193Z"
   },
   {
    "duration": 6,
    "start_time": "2022-08-15T14:30:08.210Z"
   },
   {
    "duration": 111,
    "start_time": "2022-08-15T14:30:08.217Z"
   },
   {
    "duration": 303,
    "start_time": "2022-08-15T14:30:08.330Z"
   },
   {
    "duration": 17,
    "start_time": "2022-08-15T14:30:08.634Z"
   },
   {
    "duration": 6,
    "start_time": "2022-08-15T14:30:08.652Z"
   },
   {
    "duration": 1914,
    "start_time": "2022-08-15T14:30:08.660Z"
   },
   {
    "duration": 1239,
    "start_time": "2022-08-15T14:30:10.575Z"
   },
   {
    "duration": 1659,
    "start_time": "2022-08-15T14:30:11.815Z"
   },
   {
    "duration": 1057,
    "start_time": "2022-08-15T14:30:13.475Z"
   },
   {
    "duration": 1715,
    "start_time": "2022-08-15T14:30:14.534Z"
   },
   {
    "duration": 928,
    "start_time": "2022-08-15T14:30:16.251Z"
   },
   {
    "duration": 176,
    "start_time": "2022-08-15T14:30:17.181Z"
   },
   {
    "duration": 12,
    "start_time": "2022-08-15T14:30:17.358Z"
   },
   {
    "duration": 216,
    "start_time": "2022-08-15T14:30:17.372Z"
   },
   {
    "duration": 7,
    "start_time": "2022-08-15T14:30:17.590Z"
   },
   {
    "duration": 83,
    "start_time": "2022-08-15T14:31:50.885Z"
   },
   {
    "duration": 96,
    "start_time": "2022-08-15T14:32:53.415Z"
   },
   {
    "duration": 114,
    "start_time": "2022-08-15T14:38:54.003Z"
   },
   {
    "duration": 182,
    "start_time": "2022-08-15T14:38:58.223Z"
   },
   {
    "duration": 101,
    "start_time": "2022-08-15T14:41:18.174Z"
   },
   {
    "duration": 90,
    "start_time": "2022-08-15T14:41:28.567Z"
   },
   {
    "duration": 98,
    "start_time": "2022-08-15T14:41:40.366Z"
   },
   {
    "duration": 189,
    "start_time": "2022-08-15T14:50:29.741Z"
   },
   {
    "duration": 214,
    "start_time": "2022-08-15T14:51:09.071Z"
   },
   {
    "duration": 85,
    "start_time": "2022-08-15T14:51:12.454Z"
   },
   {
    "duration": 86,
    "start_time": "2022-08-15T14:51:19.620Z"
   },
   {
    "duration": 87,
    "start_time": "2022-08-15T14:51:33.355Z"
   },
   {
    "duration": 86,
    "start_time": "2022-08-15T14:53:29.596Z"
   },
   {
    "duration": 123,
    "start_time": "2022-08-15T15:13:55.917Z"
   },
   {
    "duration": 115,
    "start_time": "2022-08-15T15:14:36.029Z"
   },
   {
    "duration": 89,
    "start_time": "2022-08-15T15:14:45.082Z"
   },
   {
    "duration": 90,
    "start_time": "2022-08-15T15:14:53.730Z"
   },
   {
    "duration": 90,
    "start_time": "2022-08-15T15:15:04.594Z"
   },
   {
    "duration": 83,
    "start_time": "2022-08-15T15:15:20.369Z"
   },
   {
    "duration": 80,
    "start_time": "2022-08-15T15:17:17.213Z"
   },
   {
    "duration": 111,
    "start_time": "2022-08-15T15:17:26.011Z"
   },
   {
    "duration": 89,
    "start_time": "2022-08-15T15:18:30.813Z"
   },
   {
    "duration": 92,
    "start_time": "2022-08-15T15:18:41.986Z"
   },
   {
    "duration": 168,
    "start_time": "2022-08-15T15:18:54.674Z"
   },
   {
    "duration": 88,
    "start_time": "2022-08-15T15:19:01.827Z"
   },
   {
    "duration": 83,
    "start_time": "2022-08-15T15:19:30.989Z"
   },
   {
    "duration": 99,
    "start_time": "2022-08-15T15:19:58.130Z"
   },
   {
    "duration": 102,
    "start_time": "2022-08-15T15:20:06.491Z"
   },
   {
    "duration": 101,
    "start_time": "2022-08-15T15:20:18.207Z"
   },
   {
    "duration": 88,
    "start_time": "2022-08-15T15:20:35.826Z"
   },
   {
    "duration": 85,
    "start_time": "2022-08-15T15:21:21.170Z"
   },
   {
    "duration": 85,
    "start_time": "2022-08-15T15:21:48.746Z"
   },
   {
    "duration": 84,
    "start_time": "2022-08-15T15:22:02.594Z"
   },
   {
    "duration": 83,
    "start_time": "2022-08-15T15:22:19.003Z"
   },
   {
    "duration": 78,
    "start_time": "2022-08-15T15:30:21.962Z"
   },
   {
    "duration": 1240,
    "start_time": "2022-08-16T00:57:52.561Z"
   },
   {
    "duration": 101,
    "start_time": "2022-08-16T00:57:53.802Z"
   },
   {
    "duration": 3,
    "start_time": "2022-08-16T00:57:53.904Z"
   },
   {
    "duration": 50,
    "start_time": "2022-08-16T00:57:53.909Z"
   },
   {
    "duration": 7,
    "start_time": "2022-08-16T00:57:53.961Z"
   },
   {
    "duration": 13,
    "start_time": "2022-08-16T00:57:53.969Z"
   },
   {
    "duration": 21,
    "start_time": "2022-08-16T00:57:53.983Z"
   },
   {
    "duration": 13,
    "start_time": "2022-08-16T00:57:54.006Z"
   },
   {
    "duration": 21,
    "start_time": "2022-08-16T00:57:54.020Z"
   },
   {
    "duration": 6,
    "start_time": "2022-08-16T00:57:54.043Z"
   },
   {
    "duration": 7,
    "start_time": "2022-08-16T00:57:54.051Z"
   },
   {
    "duration": 938,
    "start_time": "2022-08-16T00:57:54.059Z"
   },
   {
    "duration": 39,
    "start_time": "2022-08-16T00:57:54.998Z"
   },
   {
    "duration": 39,
    "start_time": "2022-08-16T00:57:55.038Z"
   },
   {
    "duration": 4,
    "start_time": "2022-08-16T00:57:55.079Z"
   },
   {
    "duration": 13,
    "start_time": "2022-08-16T00:57:55.085Z"
   },
   {
    "duration": 256,
    "start_time": "2022-08-16T00:57:55.100Z"
   },
   {
    "duration": 36,
    "start_time": "2022-08-16T00:57:55.358Z"
   },
   {
    "duration": 143,
    "start_time": "2022-08-16T00:57:55.395Z"
   },
   {
    "duration": 9,
    "start_time": "2022-08-16T00:57:55.540Z"
   },
   {
    "duration": 4,
    "start_time": "2022-08-16T00:57:55.551Z"
   },
   {
    "duration": 102,
    "start_time": "2022-08-16T00:57:55.557Z"
   },
   {
    "duration": 301,
    "start_time": "2022-08-16T00:57:55.661Z"
   },
   {
    "duration": 104,
    "start_time": "2022-08-16T00:57:55.963Z"
   },
   {
    "duration": 102,
    "start_time": "2022-08-16T00:57:56.069Z"
   },
   {
    "duration": 15,
    "start_time": "2022-08-16T00:57:56.173Z"
   },
   {
    "duration": 6,
    "start_time": "2022-08-16T00:57:56.189Z"
   },
   {
    "duration": 1664,
    "start_time": "2022-08-16T00:57:56.197Z"
   },
   {
    "duration": 1218,
    "start_time": "2022-08-16T00:57:57.862Z"
   },
   {
    "duration": 1610,
    "start_time": "2022-08-16T00:57:59.081Z"
   },
   {
    "duration": 1059,
    "start_time": "2022-08-16T00:58:00.692Z"
   },
   {
    "duration": 1567,
    "start_time": "2022-08-16T00:58:01.753Z"
   },
   {
    "duration": 876,
    "start_time": "2022-08-16T00:58:03.322Z"
   },
   {
    "duration": 196,
    "start_time": "2022-08-16T00:58:04.199Z"
   },
   {
    "duration": 13,
    "start_time": "2022-08-16T00:58:04.396Z"
   },
   {
    "duration": 206,
    "start_time": "2022-08-16T00:58:04.411Z"
   },
   {
    "duration": 7,
    "start_time": "2022-08-16T00:58:04.619Z"
   },
   {
    "duration": 28,
    "start_time": "2022-08-16T00:58:04.627Z"
   },
   {
    "duration": 21,
    "start_time": "2022-08-16T00:58:04.657Z"
   },
   {
    "duration": 3,
    "start_time": "2022-08-16T00:59:48.492Z"
   },
   {
    "duration": 66,
    "start_time": "2022-08-16T00:59:48.498Z"
   },
   {
    "duration": 3,
    "start_time": "2022-08-16T00:59:48.565Z"
   },
   {
    "duration": 50,
    "start_time": "2022-08-16T00:59:48.571Z"
   },
   {
    "duration": 7,
    "start_time": "2022-08-16T00:59:48.638Z"
   },
   {
    "duration": 9,
    "start_time": "2022-08-16T00:59:48.647Z"
   },
   {
    "duration": 14,
    "start_time": "2022-08-16T00:59:48.658Z"
   },
   {
    "duration": 9,
    "start_time": "2022-08-16T00:59:48.674Z"
   },
   {
    "duration": 5,
    "start_time": "2022-08-16T00:59:48.685Z"
   },
   {
    "duration": 5,
    "start_time": "2022-08-16T00:59:48.692Z"
   },
   {
    "duration": 42,
    "start_time": "2022-08-16T00:59:48.699Z"
   },
   {
    "duration": 954,
    "start_time": "2022-08-16T00:59:48.742Z"
   },
   {
    "duration": 44,
    "start_time": "2022-08-16T00:59:49.699Z"
   },
   {
    "duration": 34,
    "start_time": "2022-08-16T00:59:49.744Z"
   },
   {
    "duration": 4,
    "start_time": "2022-08-16T00:59:49.780Z"
   },
   {
    "duration": 7,
    "start_time": "2022-08-16T00:59:49.785Z"
   },
   {
    "duration": 239,
    "start_time": "2022-08-16T00:59:49.794Z"
   },
   {
    "duration": 37,
    "start_time": "2022-08-16T00:59:50.034Z"
   },
   {
    "duration": 126,
    "start_time": "2022-08-16T00:59:50.073Z"
   },
   {
    "duration": 8,
    "start_time": "2022-08-16T00:59:50.201Z"
   },
   {
    "duration": 4,
    "start_time": "2022-08-16T00:59:50.211Z"
   },
   {
    "duration": 103,
    "start_time": "2022-08-16T00:59:50.216Z"
   },
   {
    "duration": 302,
    "start_time": "2022-08-16T00:59:50.320Z"
   },
   {
    "duration": 87,
    "start_time": "2022-08-16T00:59:50.624Z"
   },
   {
    "duration": 89,
    "start_time": "2022-08-16T00:59:50.713Z"
   },
   {
    "duration": 13,
    "start_time": "2022-08-16T00:59:50.803Z"
   },
   {
    "duration": 5,
    "start_time": "2022-08-16T00:59:50.817Z"
   },
   {
    "duration": 1486,
    "start_time": "2022-08-16T00:59:50.823Z"
   },
   {
    "duration": 1179,
    "start_time": "2022-08-16T00:59:52.311Z"
   },
   {
    "duration": 1595,
    "start_time": "2022-08-16T00:59:53.492Z"
   },
   {
    "duration": 1012,
    "start_time": "2022-08-16T00:59:55.091Z"
   },
   {
    "duration": 1515,
    "start_time": "2022-08-16T00:59:56.105Z"
   },
   {
    "duration": 993,
    "start_time": "2022-08-16T00:59:57.621Z"
   },
   {
    "duration": 167,
    "start_time": "2022-08-16T00:59:58.615Z"
   },
   {
    "duration": 12,
    "start_time": "2022-08-16T00:59:58.784Z"
   },
   {
    "duration": 250,
    "start_time": "2022-08-16T00:59:58.798Z"
   },
   {
    "duration": 7,
    "start_time": "2022-08-16T00:59:59.050Z"
   },
   {
    "duration": 28,
    "start_time": "2022-08-16T00:59:59.058Z"
   },
   {
    "duration": 14,
    "start_time": "2022-08-16T00:59:59.088Z"
   },
   {
    "duration": 1260,
    "start_time": "2022-08-17T14:28:13.851Z"
   },
   {
    "duration": 296,
    "start_time": "2022-08-17T14:28:15.113Z"
   },
   {
    "duration": 2,
    "start_time": "2022-08-17T14:28:15.411Z"
   },
   {
    "duration": 48,
    "start_time": "2022-08-17T14:28:15.415Z"
   },
   {
    "duration": 6,
    "start_time": "2022-08-17T14:28:15.465Z"
   },
   {
    "duration": 9,
    "start_time": "2022-08-17T14:28:15.472Z"
   },
   {
    "duration": 39,
    "start_time": "2022-08-17T14:28:15.483Z"
   },
   {
    "duration": 8,
    "start_time": "2022-08-17T14:28:15.524Z"
   },
   {
    "duration": 4,
    "start_time": "2022-08-17T14:28:15.533Z"
   },
   {
    "duration": 6,
    "start_time": "2022-08-17T14:28:15.539Z"
   },
   {
    "duration": 6,
    "start_time": "2022-08-17T14:28:15.546Z"
   },
   {
    "duration": 1088,
    "start_time": "2022-08-17T14:28:15.553Z"
   },
   {
    "duration": 47,
    "start_time": "2022-08-17T14:28:16.643Z"
   },
   {
    "duration": 43,
    "start_time": "2022-08-17T14:28:16.693Z"
   },
   {
    "duration": 5,
    "start_time": "2022-08-17T14:28:16.738Z"
   },
   {
    "duration": 9,
    "start_time": "2022-08-17T14:28:16.745Z"
   },
   {
    "duration": 272,
    "start_time": "2022-08-17T14:28:16.756Z"
   },
   {
    "duration": 35,
    "start_time": "2022-08-17T14:28:17.030Z"
   },
   {
    "duration": 150,
    "start_time": "2022-08-17T14:28:17.067Z"
   },
   {
    "duration": 10,
    "start_time": "2022-08-17T14:28:17.218Z"
   },
   {
    "duration": 9,
    "start_time": "2022-08-17T14:28:17.229Z"
   },
   {
    "duration": 97,
    "start_time": "2022-08-17T14:28:17.239Z"
   },
   {
    "duration": 297,
    "start_time": "2022-08-17T14:28:17.338Z"
   },
   {
    "duration": 102,
    "start_time": "2022-08-17T14:28:17.636Z"
   },
   {
    "duration": 99,
    "start_time": "2022-08-17T14:28:17.740Z"
   },
   {
    "duration": 14,
    "start_time": "2022-08-17T14:28:17.840Z"
   },
   {
    "duration": 5,
    "start_time": "2022-08-17T14:28:17.856Z"
   },
   {
    "duration": 1699,
    "start_time": "2022-08-17T14:28:17.862Z"
   },
   {
    "duration": 1230,
    "start_time": "2022-08-17T14:28:19.562Z"
   },
   {
    "duration": 1663,
    "start_time": "2022-08-17T14:28:20.793Z"
   },
   {
    "duration": 1109,
    "start_time": "2022-08-17T14:28:22.458Z"
   },
   {
    "duration": 1690,
    "start_time": "2022-08-17T14:28:23.568Z"
   },
   {
    "duration": 992,
    "start_time": "2022-08-17T14:28:25.259Z"
   },
   {
    "duration": 196,
    "start_time": "2022-08-17T14:28:26.253Z"
   },
   {
    "duration": 12,
    "start_time": "2022-08-17T14:28:26.450Z"
   },
   {
    "duration": 285,
    "start_time": "2022-08-17T14:28:26.464Z"
   },
   {
    "duration": 8,
    "start_time": "2022-08-17T14:28:26.750Z"
   },
   {
    "duration": 9,
    "start_time": "2022-08-17T14:28:26.760Z"
   },
   {
    "duration": 6,
    "start_time": "2022-08-17T14:28:26.771Z"
   },
   {
    "duration": 98,
    "start_time": "2022-08-19T11:02:46.755Z"
   },
   {
    "duration": 151,
    "start_time": "2022-08-19T11:04:14.936Z"
   },
   {
    "duration": 100,
    "start_time": "2022-08-19T11:05:24.845Z"
   },
   {
    "duration": 103,
    "start_time": "2022-08-19T11:07:05.331Z"
   },
   {
    "duration": 107,
    "start_time": "2022-08-19T11:07:37.822Z"
   },
   {
    "duration": 1292,
    "start_time": "2022-08-20T01:58:44.573Z"
   },
   {
    "duration": 107,
    "start_time": "2022-08-20T01:58:45.867Z"
   },
   {
    "duration": 2,
    "start_time": "2022-08-20T01:58:45.976Z"
   },
   {
    "duration": 52,
    "start_time": "2022-08-20T01:58:45.980Z"
   },
   {
    "duration": 6,
    "start_time": "2022-08-20T01:58:46.033Z"
   },
   {
    "duration": 8,
    "start_time": "2022-08-20T01:58:46.040Z"
   },
   {
    "duration": 9,
    "start_time": "2022-08-20T01:58:46.050Z"
   },
   {
    "duration": 9,
    "start_time": "2022-08-20T01:58:46.060Z"
   },
   {
    "duration": 4,
    "start_time": "2022-08-20T01:58:46.070Z"
   },
   {
    "duration": 26,
    "start_time": "2022-08-20T01:58:46.076Z"
   },
   {
    "duration": 6,
    "start_time": "2022-08-20T01:58:46.103Z"
   },
   {
    "duration": 900,
    "start_time": "2022-08-20T01:58:46.111Z"
   },
   {
    "duration": 47,
    "start_time": "2022-08-20T01:58:47.012Z"
   },
   {
    "duration": 43,
    "start_time": "2022-08-20T01:58:47.061Z"
   },
   {
    "duration": 5,
    "start_time": "2022-08-20T01:58:47.106Z"
   },
   {
    "duration": 7,
    "start_time": "2022-08-20T01:58:47.113Z"
   },
   {
    "duration": 261,
    "start_time": "2022-08-20T01:58:47.122Z"
   },
   {
    "duration": 46,
    "start_time": "2022-08-20T01:58:47.385Z"
   },
   {
    "duration": 144,
    "start_time": "2022-08-20T01:58:47.432Z"
   },
   {
    "duration": 9,
    "start_time": "2022-08-20T01:58:47.577Z"
   },
   {
    "duration": 15,
    "start_time": "2022-08-20T01:58:47.588Z"
   },
   {
    "duration": 85,
    "start_time": "2022-08-20T01:58:47.605Z"
   },
   {
    "duration": 316,
    "start_time": "2022-08-20T01:58:47.700Z"
   },
   {
    "duration": 106,
    "start_time": "2022-08-20T01:58:48.017Z"
   },
   {
    "duration": 94,
    "start_time": "2022-08-20T01:58:48.125Z"
   },
   {
    "duration": 15,
    "start_time": "2022-08-20T01:58:48.221Z"
   },
   {
    "duration": 5,
    "start_time": "2022-08-20T01:58:48.238Z"
   },
   {
    "duration": 1899,
    "start_time": "2022-08-20T01:58:48.246Z"
   },
   {
    "duration": 1219,
    "start_time": "2022-08-20T01:58:50.147Z"
   },
   {
    "duration": 1840,
    "start_time": "2022-08-20T01:58:51.368Z"
   },
   {
    "duration": 1160,
    "start_time": "2022-08-20T01:58:53.210Z"
   },
   {
    "duration": 1705,
    "start_time": "2022-08-20T01:58:54.372Z"
   },
   {
    "duration": 940,
    "start_time": "2022-08-20T01:58:56.079Z"
   },
   {
    "duration": 179,
    "start_time": "2022-08-20T01:58:57.021Z"
   },
   {
    "duration": 13,
    "start_time": "2022-08-20T01:58:57.202Z"
   },
   {
    "duration": 222,
    "start_time": "2022-08-20T01:58:57.216Z"
   },
   {
    "duration": 7,
    "start_time": "2022-08-20T01:58:57.440Z"
   },
   {
    "duration": 11,
    "start_time": "2022-08-20T01:58:57.449Z"
   },
   {
    "duration": 6,
    "start_time": "2022-08-20T01:58:57.461Z"
   },
   {
    "duration": 5173,
    "start_time": "2022-08-20T01:59:18.113Z"
   },
   {
    "duration": 39,
    "start_time": "2022-08-20T01:59:58.842Z"
   },
   {
    "duration": 40,
    "start_time": "2022-08-20T02:02:48.171Z"
   },
   {
    "duration": 43,
    "start_time": "2022-08-20T02:04:02.672Z"
   },
   {
    "duration": 43,
    "start_time": "2022-08-20T02:04:15.168Z"
   },
   {
    "duration": 37,
    "start_time": "2022-08-20T02:04:35.784Z"
   },
   {
    "duration": 41,
    "start_time": "2022-08-20T02:04:42.817Z"
   },
   {
    "duration": 42,
    "start_time": "2022-08-20T02:06:42.702Z"
   },
   {
    "duration": 45,
    "start_time": "2022-08-20T02:06:52.099Z"
   },
   {
    "duration": 43,
    "start_time": "2022-08-20T02:08:56.832Z"
   },
   {
    "duration": 48,
    "start_time": "2022-08-20T02:09:04.664Z"
   },
   {
    "duration": 1468,
    "start_time": "2022-08-20T02:12:13.040Z"
   },
   {
    "duration": 1852,
    "start_time": "2022-08-20T02:12:19.832Z"
   },
   {
    "duration": 1591,
    "start_time": "2022-08-20T02:12:25.024Z"
   },
   {
    "duration": 193,
    "start_time": "2022-08-20T02:24:42.446Z"
   },
   {
    "duration": 908,
    "start_time": "2022-08-20T02:25:09.471Z"
   },
   {
    "duration": 940,
    "start_time": "2022-08-20T02:27:38.591Z"
   },
   {
    "duration": 1036,
    "start_time": "2022-08-20T02:28:13.727Z"
   },
   {
    "duration": 1115,
    "start_time": "2022-08-20T02:28:37.432Z"
   },
   {
    "duration": 1200,
    "start_time": "2022-08-20T02:28:53.745Z"
   },
   {
    "duration": 1474,
    "start_time": "2022-08-20T02:30:48.527Z"
   },
   {
    "duration": 1192,
    "start_time": "2022-08-20T02:31:00.072Z"
   },
   {
    "duration": 418,
    "start_time": "2022-08-20T02:31:37.993Z"
   },
   {
    "duration": 482,
    "start_time": "2022-08-20T02:32:01.347Z"
   },
   {
    "duration": 802,
    "start_time": "2022-08-20T02:36:54.783Z"
   },
   {
    "duration": 612,
    "start_time": "2022-08-20T02:37:11.706Z"
   },
   {
    "duration": 589,
    "start_time": "2022-08-20T02:37:54.211Z"
   },
   {
    "duration": 1111,
    "start_time": "2022-08-20T02:40:52.203Z"
   },
   {
    "duration": 530,
    "start_time": "2022-08-20T02:47:22.174Z"
   },
   {
    "duration": 577,
    "start_time": "2022-08-20T02:47:45.105Z"
   },
   {
    "duration": 45,
    "start_time": "2022-08-20T02:50:52.593Z"
   },
   {
    "duration": 917,
    "start_time": "2022-08-20T02:50:58.027Z"
   },
   {
    "duration": 591,
    "start_time": "2022-08-20T02:52:26.916Z"
   },
   {
    "duration": 812,
    "start_time": "2022-08-20T02:52:55.057Z"
   },
   {
    "duration": 691,
    "start_time": "2022-08-20T02:53:07.389Z"
   },
   {
    "duration": 903,
    "start_time": "2022-08-20T02:55:30.130Z"
   },
   {
    "duration": 764,
    "start_time": "2022-08-20T02:55:49.905Z"
   },
   {
    "duration": 729,
    "start_time": "2022-08-20T02:56:12.891Z"
   },
   {
    "duration": 997,
    "start_time": "2022-08-20T02:56:17.348Z"
   },
   {
    "duration": 720,
    "start_time": "2022-08-20T02:56:22.259Z"
   },
   {
    "duration": 12,
    "start_time": "2022-08-20T02:58:23.944Z"
   },
   {
    "duration": 735,
    "start_time": "2022-08-20T02:58:52.348Z"
   },
   {
    "duration": 765,
    "start_time": "2022-08-20T02:59:46.410Z"
   },
   {
    "duration": 741,
    "start_time": "2022-08-20T02:59:52.394Z"
   },
   {
    "duration": 598,
    "start_time": "2022-08-20T03:04:56.217Z"
   },
   {
    "duration": 14,
    "start_time": "2022-08-20T03:05:59.074Z"
   },
   {
    "duration": 968,
    "start_time": "2022-08-20T03:06:29.241Z"
   },
   {
    "duration": 736,
    "start_time": "2022-08-20T03:07:16.131Z"
   },
   {
    "duration": 926,
    "start_time": "2022-08-20T03:09:54.386Z"
   },
   {
    "duration": 766,
    "start_time": "2022-08-20T03:10:02.818Z"
   },
   {
    "duration": 1003,
    "start_time": "2022-08-20T03:10:13.737Z"
   },
   {
    "duration": 778,
    "start_time": "2022-08-20T03:10:45.122Z"
   },
   {
    "duration": 887,
    "start_time": "2022-08-20T03:14:53.517Z"
   },
   {
    "duration": 878,
    "start_time": "2022-08-20T03:15:02.421Z"
   },
   {
    "duration": 848,
    "start_time": "2022-08-20T03:15:17.843Z"
   },
   {
    "duration": 824,
    "start_time": "2022-08-20T03:15:36.370Z"
   },
   {
    "duration": 975,
    "start_time": "2022-08-20T03:16:16.323Z"
   },
   {
    "duration": 523,
    "start_time": "2022-08-20T03:16:29.450Z"
   },
   {
    "duration": 698,
    "start_time": "2022-08-20T03:16:57.477Z"
   },
   {
    "duration": 816,
    "start_time": "2022-08-20T03:18:39.138Z"
   },
   {
    "duration": 444,
    "start_time": "2022-08-20T03:19:01.308Z"
   },
   {
    "duration": 754,
    "start_time": "2022-08-20T03:19:28.748Z"
   },
   {
    "duration": 1239,
    "start_time": "2022-08-20T03:19:48.834Z"
   },
   {
    "duration": 979,
    "start_time": "2022-08-20T03:20:14.275Z"
   },
   {
    "duration": 844,
    "start_time": "2022-08-20T03:20:33.674Z"
   },
   {
    "duration": 894,
    "start_time": "2022-08-20T03:21:24.845Z"
   },
   {
    "duration": 915,
    "start_time": "2022-08-20T03:23:28.227Z"
   },
   {
    "duration": 939,
    "start_time": "2022-08-20T03:23:39.276Z"
   },
   {
    "duration": 1202,
    "start_time": "2022-08-20T03:25:47.565Z"
   },
   {
    "duration": 933,
    "start_time": "2022-08-20T03:27:17.283Z"
   },
   {
    "duration": 998,
    "start_time": "2022-08-20T03:29:06.970Z"
   },
   {
    "duration": 970,
    "start_time": "2022-08-20T03:30:53.773Z"
   },
   {
    "duration": 932,
    "start_time": "2022-08-20T03:32:46.342Z"
   },
   {
    "duration": 999,
    "start_time": "2022-08-20T03:32:51.558Z"
   },
   {
    "duration": 1190,
    "start_time": "2022-08-20T03:34:17.299Z"
   },
   {
    "duration": 953,
    "start_time": "2022-08-20T03:35:02.781Z"
   },
   {
    "duration": 954,
    "start_time": "2022-08-20T03:38:43.021Z"
   },
   {
    "duration": 1187,
    "start_time": "2022-08-20T03:41:47.078Z"
   },
   {
    "duration": 82,
    "start_time": "2022-08-20T03:41:48.267Z"
   },
   {
    "duration": 2,
    "start_time": "2022-08-20T03:41:48.351Z"
   },
   {
    "duration": 48,
    "start_time": "2022-08-20T03:41:48.356Z"
   },
   {
    "duration": 7,
    "start_time": "2022-08-20T03:41:48.406Z"
   },
   {
    "duration": 13,
    "start_time": "2022-08-20T03:41:48.414Z"
   },
   {
    "duration": 10,
    "start_time": "2022-08-20T03:41:48.429Z"
   },
   {
    "duration": 18,
    "start_time": "2022-08-20T03:41:48.440Z"
   },
   {
    "duration": 11,
    "start_time": "2022-08-20T03:41:48.459Z"
   },
   {
    "duration": 8,
    "start_time": "2022-08-20T03:41:48.472Z"
   },
   {
    "duration": 10,
    "start_time": "2022-08-20T03:41:48.481Z"
   },
   {
    "duration": 882,
    "start_time": "2022-08-20T03:41:48.492Z"
   },
   {
    "duration": 87,
    "start_time": "2022-08-20T03:41:49.376Z"
   },
   {
    "duration": 57,
    "start_time": "2022-08-20T03:41:49.464Z"
   },
   {
    "duration": 5,
    "start_time": "2022-08-20T03:41:49.522Z"
   },
   {
    "duration": 7,
    "start_time": "2022-08-20T03:41:49.529Z"
   },
   {
    "duration": 279,
    "start_time": "2022-08-20T03:41:49.537Z"
   },
   {
    "duration": 39,
    "start_time": "2022-08-20T03:41:49.818Z"
   },
   {
    "duration": 162,
    "start_time": "2022-08-20T03:41:49.858Z"
   },
   {
    "duration": 11,
    "start_time": "2022-08-20T03:41:50.022Z"
   },
   {
    "duration": 5,
    "start_time": "2022-08-20T03:41:50.035Z"
   },
   {
    "duration": 118,
    "start_time": "2022-08-20T03:41:50.041Z"
   },
   {
    "duration": 357,
    "start_time": "2022-08-20T03:41:50.160Z"
   },
   {
    "duration": 98,
    "start_time": "2022-08-20T03:41:50.518Z"
   },
   {
    "duration": 96,
    "start_time": "2022-08-20T03:41:50.618Z"
   },
   {
    "duration": 14,
    "start_time": "2022-08-20T03:41:50.716Z"
   },
   {
    "duration": 5,
    "start_time": "2022-08-20T03:41:50.732Z"
   },
   {
    "duration": 1058,
    "start_time": "2022-08-20T03:41:50.740Z"
   },
   {
    "duration": 952,
    "start_time": "2022-08-20T03:41:51.800Z"
   },
   {
    "duration": 938,
    "start_time": "2022-08-20T03:41:52.754Z"
   },
   {
    "duration": 1065,
    "start_time": "2022-08-20T03:41:53.693Z"
   },
   {
    "duration": 886,
    "start_time": "2022-08-20T03:41:54.760Z"
   },
   {
    "duration": 1087,
    "start_time": "2022-08-20T03:43:33.050Z"
   },
   {
    "duration": 62,
    "start_time": "2022-08-20T03:43:34.139Z"
   },
   {
    "duration": 3,
    "start_time": "2022-08-20T03:43:34.203Z"
   },
   {
    "duration": 62,
    "start_time": "2022-08-20T03:43:34.208Z"
   },
   {
    "duration": 6,
    "start_time": "2022-08-20T03:43:34.272Z"
   },
   {
    "duration": 15,
    "start_time": "2022-08-20T03:43:34.280Z"
   },
   {
    "duration": 14,
    "start_time": "2022-08-20T03:43:34.297Z"
   },
   {
    "duration": 17,
    "start_time": "2022-08-20T03:43:34.312Z"
   },
   {
    "duration": 5,
    "start_time": "2022-08-20T03:43:34.331Z"
   },
   {
    "duration": 6,
    "start_time": "2022-08-20T03:43:34.337Z"
   },
   {
    "duration": 6,
    "start_time": "2022-08-20T03:43:34.345Z"
   },
   {
    "duration": 929,
    "start_time": "2022-08-20T03:43:34.353Z"
   },
   {
    "duration": 80,
    "start_time": "2022-08-20T03:43:35.284Z"
   },
   {
    "duration": 59,
    "start_time": "2022-08-20T03:43:35.368Z"
   },
   {
    "duration": 6,
    "start_time": "2022-08-20T03:43:35.429Z"
   },
   {
    "duration": 9,
    "start_time": "2022-08-20T03:43:35.437Z"
   },
   {
    "duration": 296,
    "start_time": "2022-08-20T03:43:35.448Z"
   },
   {
    "duration": 37,
    "start_time": "2022-08-20T03:43:35.746Z"
   },
   {
    "duration": 155,
    "start_time": "2022-08-20T03:43:35.784Z"
   },
   {
    "duration": 9,
    "start_time": "2022-08-20T03:43:35.940Z"
   },
   {
    "duration": 6,
    "start_time": "2022-08-20T03:43:35.951Z"
   },
   {
    "duration": 110,
    "start_time": "2022-08-20T03:43:35.959Z"
   },
   {
    "duration": 351,
    "start_time": "2022-08-20T03:43:36.071Z"
   },
   {
    "duration": 102,
    "start_time": "2022-08-20T03:43:36.424Z"
   },
   {
    "duration": 99,
    "start_time": "2022-08-20T03:43:36.528Z"
   },
   {
    "duration": 20,
    "start_time": "2022-08-20T03:43:36.629Z"
   },
   {
    "duration": 8,
    "start_time": "2022-08-20T03:43:36.651Z"
   },
   {
    "duration": 1035,
    "start_time": "2022-08-20T03:43:36.660Z"
   },
   {
    "duration": 988,
    "start_time": "2022-08-20T03:43:37.699Z"
   },
   {
    "duration": 983,
    "start_time": "2022-08-20T03:43:38.689Z"
   },
   {
    "duration": 1111,
    "start_time": "2022-08-20T03:43:39.673Z"
   },
   {
    "duration": 1017,
    "start_time": "2022-08-20T03:43:40.786Z"
   },
   {
    "duration": 34784,
    "start_time": "2022-08-20T03:43:41.805Z"
   },
   {
    "duration": 1572,
    "start_time": "2022-08-20T03:44:16.591Z"
   },
   {
    "duration": 1676,
    "start_time": "2022-08-20T03:44:18.164Z"
   },
   {
    "duration": 1213,
    "start_time": "2022-08-20T03:44:19.842Z"
   },
   {
    "duration": 1763,
    "start_time": "2022-08-20T03:44:21.057Z"
   },
   {
    "duration": 1338,
    "start_time": "2022-08-20T03:44:22.821Z"
   },
   {
    "duration": 201,
    "start_time": "2022-08-20T03:44:24.160Z"
   },
   {
    "duration": 14,
    "start_time": "2022-08-20T03:44:24.362Z"
   },
   {
    "duration": 255,
    "start_time": "2022-08-20T03:44:24.379Z"
   },
   {
    "duration": 9,
    "start_time": "2022-08-20T03:44:24.635Z"
   },
   {
    "duration": 6,
    "start_time": "2022-08-20T03:44:24.645Z"
   },
   {
    "duration": 6,
    "start_time": "2022-08-20T03:44:24.652Z"
   },
   {
    "duration": 832,
    "start_time": "2022-08-20T03:48:44.372Z"
   },
   {
    "duration": 842,
    "start_time": "2022-08-20T03:50:16.742Z"
   },
   {
    "duration": 898,
    "start_time": "2022-08-20T03:50:36.165Z"
   },
   {
    "duration": 1213,
    "start_time": "2022-08-20T03:52:06.828Z"
   },
   {
    "duration": 687,
    "start_time": "2022-08-20T03:54:16.243Z"
   },
   {
    "duration": 805,
    "start_time": "2022-08-20T03:58:12.626Z"
   },
   {
    "duration": 701,
    "start_time": "2022-08-20T03:58:18.323Z"
   },
   {
    "duration": 891,
    "start_time": "2022-08-20T03:58:30.437Z"
   },
   {
    "duration": 713,
    "start_time": "2022-08-20T04:00:13.557Z"
   },
   {
    "duration": 681,
    "start_time": "2022-08-20T04:00:33.066Z"
   },
   {
    "duration": 863,
    "start_time": "2022-08-20T04:00:41.060Z"
   },
   {
    "duration": 807,
    "start_time": "2022-08-20T04:00:46.700Z"
   },
   {
    "duration": 3,
    "start_time": "2022-08-20T04:01:36.226Z"
   },
   {
    "duration": 77,
    "start_time": "2022-08-20T04:01:36.231Z"
   },
   {
    "duration": 3,
    "start_time": "2022-08-20T04:01:36.310Z"
   },
   {
    "duration": 54,
    "start_time": "2022-08-20T04:01:36.315Z"
   },
   {
    "duration": 7,
    "start_time": "2022-08-20T04:01:36.371Z"
   },
   {
    "duration": 8,
    "start_time": "2022-08-20T04:01:36.401Z"
   },
   {
    "duration": 14,
    "start_time": "2022-08-20T04:01:36.411Z"
   },
   {
    "duration": 10,
    "start_time": "2022-08-20T04:01:36.426Z"
   },
   {
    "duration": 7,
    "start_time": "2022-08-20T04:01:36.438Z"
   },
   {
    "duration": 10,
    "start_time": "2022-08-20T04:01:36.447Z"
   },
   {
    "duration": 8,
    "start_time": "2022-08-20T04:01:36.459Z"
   },
   {
    "duration": 880,
    "start_time": "2022-08-20T04:01:36.468Z"
   },
   {
    "duration": 64,
    "start_time": "2022-08-20T04:01:37.353Z"
   },
   {
    "duration": 44,
    "start_time": "2022-08-20T04:01:37.418Z"
   },
   {
    "duration": 5,
    "start_time": "2022-08-20T04:01:37.464Z"
   },
   {
    "duration": 14,
    "start_time": "2022-08-20T04:01:37.470Z"
   },
   {
    "duration": 292,
    "start_time": "2022-08-20T04:01:37.501Z"
   },
   {
    "duration": 39,
    "start_time": "2022-08-20T04:01:37.795Z"
   },
   {
    "duration": 160,
    "start_time": "2022-08-20T04:01:37.836Z"
   },
   {
    "duration": 10,
    "start_time": "2022-08-20T04:01:37.999Z"
   },
   {
    "duration": 6,
    "start_time": "2022-08-20T04:01:38.011Z"
   },
   {
    "duration": 101,
    "start_time": "2022-08-20T04:01:38.019Z"
   },
   {
    "duration": 297,
    "start_time": "2022-08-20T04:01:38.122Z"
   },
   {
    "duration": 105,
    "start_time": "2022-08-20T04:01:38.421Z"
   },
   {
    "duration": 99,
    "start_time": "2022-08-20T04:01:38.527Z"
   },
   {
    "duration": 20,
    "start_time": "2022-08-20T04:01:38.628Z"
   },
   {
    "duration": 6,
    "start_time": "2022-08-20T04:01:38.649Z"
   },
   {
    "duration": 1115,
    "start_time": "2022-08-20T04:01:38.657Z"
   },
   {
    "duration": 1059,
    "start_time": "2022-08-20T04:01:39.774Z"
   },
   {
    "duration": 1073,
    "start_time": "2022-08-20T04:01:40.835Z"
   },
   {
    "duration": 990,
    "start_time": "2022-08-20T04:01:41.910Z"
   },
   {
    "duration": 1049,
    "start_time": "2022-08-20T04:01:42.902Z"
   },
   {
    "duration": 762,
    "start_time": "2022-08-20T04:01:43.953Z"
   },
   {
    "duration": 832,
    "start_time": "2022-08-20T04:01:44.717Z"
   },
   {
    "duration": 849,
    "start_time": "2022-08-20T04:01:45.551Z"
   },
   {
    "duration": 699,
    "start_time": "2022-08-20T04:01:46.402Z"
   },
   {
    "duration": 704,
    "start_time": "2022-08-20T04:01:47.105Z"
   },
   {
    "duration": 1503,
    "start_time": "2022-08-20T04:01:47.811Z"
   },
   {
    "duration": 1728,
    "start_time": "2022-08-20T04:01:49.316Z"
   },
   {
    "duration": 1401,
    "start_time": "2022-08-20T04:01:51.045Z"
   },
   {
    "duration": 1835,
    "start_time": "2022-08-20T04:01:52.448Z"
   },
   {
    "duration": 1117,
    "start_time": "2022-08-20T04:01:54.285Z"
   },
   {
    "duration": 182,
    "start_time": "2022-08-20T04:01:55.404Z"
   },
   {
    "duration": 16,
    "start_time": "2022-08-20T04:01:55.588Z"
   },
   {
    "duration": 224,
    "start_time": "2022-08-20T04:01:55.606Z"
   },
   {
    "duration": 8,
    "start_time": "2022-08-20T04:01:55.832Z"
   },
   {
    "duration": 12,
    "start_time": "2022-08-20T04:01:55.841Z"
   },
   {
    "duration": 7,
    "start_time": "2022-08-20T04:01:55.855Z"
   },
   {
    "duration": 739,
    "start_time": "2022-08-20T04:16:46.759Z"
   },
   {
    "duration": 3,
    "start_time": "2022-08-20T04:44:33.559Z"
   },
   {
    "duration": 71,
    "start_time": "2022-08-20T04:44:33.564Z"
   },
   {
    "duration": 3,
    "start_time": "2022-08-20T04:44:33.637Z"
   },
   {
    "duration": 50,
    "start_time": "2022-08-20T04:44:33.641Z"
   },
   {
    "duration": 5,
    "start_time": "2022-08-20T04:44:33.694Z"
   },
   {
    "duration": 10,
    "start_time": "2022-08-20T04:44:33.701Z"
   },
   {
    "duration": 11,
    "start_time": "2022-08-20T04:44:33.712Z"
   },
   {
    "duration": 13,
    "start_time": "2022-08-20T04:44:33.724Z"
   },
   {
    "duration": 4,
    "start_time": "2022-08-20T04:44:33.739Z"
   },
   {
    "duration": 18,
    "start_time": "2022-08-20T04:44:33.745Z"
   },
   {
    "duration": 10,
    "start_time": "2022-08-20T04:44:33.765Z"
   },
   {
    "duration": 938,
    "start_time": "2022-08-20T04:44:33.776Z"
   },
   {
    "duration": 47,
    "start_time": "2022-08-20T04:44:34.716Z"
   },
   {
    "duration": 60,
    "start_time": "2022-08-20T04:44:34.764Z"
   },
   {
    "duration": 5,
    "start_time": "2022-08-20T04:44:34.826Z"
   },
   {
    "duration": 8,
    "start_time": "2022-08-20T04:44:34.832Z"
   },
   {
    "duration": 274,
    "start_time": "2022-08-20T04:44:34.842Z"
   },
   {
    "duration": 39,
    "start_time": "2022-08-20T04:44:35.119Z"
   },
   {
    "duration": 159,
    "start_time": "2022-08-20T04:44:35.160Z"
   },
   {
    "duration": 11,
    "start_time": "2022-08-20T04:44:35.322Z"
   },
   {
    "duration": 6,
    "start_time": "2022-08-20T04:44:35.335Z"
   },
   {
    "duration": 113,
    "start_time": "2022-08-20T04:44:35.343Z"
   },
   {
    "duration": 460,
    "start_time": "2022-08-20T04:44:35.457Z"
   },
   {
    "duration": 101,
    "start_time": "2022-08-20T04:44:35.919Z"
   },
   {
    "duration": 100,
    "start_time": "2022-08-20T04:44:36.022Z"
   },
   {
    "duration": 15,
    "start_time": "2022-08-20T04:44:36.124Z"
   },
   {
    "duration": 7,
    "start_time": "2022-08-20T04:44:36.141Z"
   },
   {
    "duration": 892,
    "start_time": "2022-08-20T04:44:36.150Z"
   },
   {
    "duration": 895,
    "start_time": "2022-08-20T04:44:37.044Z"
   },
   {
    "duration": 1051,
    "start_time": "2022-08-20T04:44:37.941Z"
   },
   {
    "duration": 958,
    "start_time": "2022-08-20T04:44:39.000Z"
   },
   {
    "duration": 988,
    "start_time": "2022-08-20T04:44:39.960Z"
   },
   {
    "duration": 896,
    "start_time": "2022-08-20T04:44:40.950Z"
   },
   {
    "duration": 1016,
    "start_time": "2022-08-20T04:44:41.848Z"
   },
   {
    "duration": 692,
    "start_time": "2022-08-20T04:44:42.866Z"
   },
   {
    "duration": 704,
    "start_time": "2022-08-20T04:44:43.560Z"
   },
   {
    "duration": 706,
    "start_time": "2022-08-20T04:44:44.267Z"
   },
   {
    "duration": 294,
    "start_time": "2022-08-20T04:44:44.976Z"
   },
   {
    "duration": 14,
    "start_time": "2022-08-20T04:44:45.272Z"
   },
   {
    "duration": 214,
    "start_time": "2022-08-20T04:44:45.300Z"
   },
   {
    "duration": 9,
    "start_time": "2022-08-20T04:44:45.516Z"
   },
   {
    "duration": 7,
    "start_time": "2022-08-20T04:44:45.527Z"
   },
   {
    "duration": 7,
    "start_time": "2022-08-20T04:44:45.535Z"
   },
   {
    "duration": 1062,
    "start_time": "2022-08-28T11:32:26.628Z"
   },
   {
    "duration": 108,
    "start_time": "2022-08-28T11:32:27.692Z"
   },
   {
    "duration": 3,
    "start_time": "2022-08-28T11:32:27.801Z"
   },
   {
    "duration": 51,
    "start_time": "2022-08-28T11:32:27.806Z"
   },
   {
    "duration": 8,
    "start_time": "2022-08-28T11:32:27.860Z"
   },
   {
    "duration": 31,
    "start_time": "2022-08-28T11:32:27.870Z"
   },
   {
    "duration": 14,
    "start_time": "2022-08-28T11:32:27.903Z"
   },
   {
    "duration": 8,
    "start_time": "2022-08-28T11:32:27.918Z"
   },
   {
    "duration": 6,
    "start_time": "2022-08-28T11:32:27.927Z"
   },
   {
    "duration": 8,
    "start_time": "2022-08-28T11:32:27.936Z"
   },
   {
    "duration": 19,
    "start_time": "2022-08-28T11:32:27.946Z"
   },
   {
    "duration": 822,
    "start_time": "2022-08-28T11:32:27.967Z"
   },
   {
    "duration": 79,
    "start_time": "2022-08-28T11:32:28.791Z"
   },
   {
    "duration": 57,
    "start_time": "2022-08-28T11:32:28.872Z"
   },
   {
    "duration": 6,
    "start_time": "2022-08-28T11:32:28.931Z"
   },
   {
    "duration": 8,
    "start_time": "2022-08-28T11:32:28.938Z"
   },
   {
    "duration": 259,
    "start_time": "2022-08-28T11:32:28.948Z"
   },
   {
    "duration": 43,
    "start_time": "2022-08-28T11:32:29.209Z"
   },
   {
    "duration": 225,
    "start_time": "2022-08-28T11:32:29.255Z"
   },
   {
    "duration": 17,
    "start_time": "2022-08-28T11:32:29.482Z"
   },
   {
    "duration": 6,
    "start_time": "2022-08-28T11:32:29.500Z"
   },
   {
    "duration": 143,
    "start_time": "2022-08-28T11:32:29.508Z"
   },
   {
    "duration": 359,
    "start_time": "2022-08-28T11:32:29.653Z"
   },
   {
    "duration": 108,
    "start_time": "2022-08-28T11:32:30.013Z"
   },
   {
    "duration": 91,
    "start_time": "2022-08-28T11:32:30.122Z"
   },
   {
    "duration": 12,
    "start_time": "2022-08-28T11:32:30.215Z"
   },
   {
    "duration": 6,
    "start_time": "2022-08-28T11:32:30.229Z"
   },
   {
    "duration": 942,
    "start_time": "2022-08-28T11:32:30.238Z"
   },
   {
    "duration": 852,
    "start_time": "2022-08-28T11:32:31.181Z"
   },
   {
    "duration": 892,
    "start_time": "2022-08-28T11:32:32.035Z"
   },
   {
    "duration": 911,
    "start_time": "2022-08-28T11:32:32.929Z"
   },
   {
    "duration": 882,
    "start_time": "2022-08-28T11:32:33.841Z"
   },
   {
    "duration": 734,
    "start_time": "2022-08-28T11:32:34.724Z"
   },
   {
    "duration": 766,
    "start_time": "2022-08-28T11:32:35.460Z"
   },
   {
    "duration": 689,
    "start_time": "2022-08-28T11:32:36.227Z"
   },
   {
    "duration": 618,
    "start_time": "2022-08-28T11:32:36.918Z"
   },
   {
    "duration": 662,
    "start_time": "2022-08-28T11:32:37.538Z"
   },
   {
    "duration": 166,
    "start_time": "2022-08-28T11:32:38.201Z"
   },
   {
    "duration": 14,
    "start_time": "2022-08-28T11:32:38.369Z"
   },
   {
    "duration": 203,
    "start_time": "2022-08-28T11:32:38.398Z"
   },
   {
    "duration": 8,
    "start_time": "2022-08-28T11:32:38.602Z"
   },
   {
    "duration": 7,
    "start_time": "2022-08-28T11:32:38.612Z"
   },
   {
    "duration": 11,
    "start_time": "2022-08-28T11:32:38.620Z"
   }
  ],
  "kernelspec": {
   "display_name": "Python 3 (ipykernel)",
   "language": "python",
   "name": "python3"
  },
  "language_info": {
   "codemirror_mode": {
    "name": "ipython",
    "version": 3
   },
   "file_extension": ".py",
   "mimetype": "text/x-python",
   "name": "python",
   "nbconvert_exporter": "python",
   "pygments_lexer": "ipython3",
   "version": "3.9.5"
  },
  "toc": {
   "base_numbering": 1,
   "nav_menu": {},
   "number_sections": true,
   "sideBar": true,
   "skip_h1_title": true,
   "title_cell": "Table of Contents",
   "title_sidebar": "Contents",
   "toc_cell": false,
   "toc_position": {},
   "toc_section_display": true,
   "toc_window_display": false
  }
 },
 "nbformat": 4,
 "nbformat_minor": 2
}
