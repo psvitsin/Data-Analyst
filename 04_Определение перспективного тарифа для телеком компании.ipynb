{
 "cells": [
  {
   "cell_type": "markdown",
   "metadata": {},
   "source": [
    "# Исследование тарифных планов оператора сотовой связи\n",
    "Компания «Мегалайн» — федеральный оператор сотовой связи. Клиентам предлагают два тарифных плана: «Смарт» и «Ультра». Чтобы скорректировать рекламный бюджет, коммерческий департамент хочет понять, какой тариф приносит больше денег.\n",
    "Необходимо сделать предварительный анализ тарифов на небольшой выборке клиентов. В распоряжении данные 500 пользователей «Мегалайна»: кто они, откуда, каким тарифом пользуются, сколько звонков и сообщений каждый отправил за 2018 год. Нужно проанализировать поведение клиентов и сделать вывод — какой тариф лучше."
   ]
  },
  {
   "cell_type": "markdown",
   "metadata": {},
   "source": [
    "## Описание тарифов\n",
    "**Тариф «Смарт»**\n",
    " 1. Ежемесячная плата: 550 рублей\n",
    " 2. Включено 500 минут разговора, 50 сообщений и 15 Гб интернет-трафика\n",
    " 3. Стоимость услуг сверх тарифного пакета:\n",
    "* минута разговора: 3 рубля\n",
    "* сообщение: 3 рубля\n",
    "* 1 Гб интернет-трафика: 200 рублей\n",
    "\n",
    "**Тариф «Ультра»**\n",
    " 1. Ежемесячная плата: 1950 рублей\n",
    " 2. Включено 3000 минут разговора, 1000 сообщений и 30 Гб интернет-трафика\n",
    " 3. Стоимость услуг сверх тарифного пакета:\n",
    "* минута разговора: 1 рубль\n",
    "* сообщение: 1 рубль\n",
    "* 1 Гб интернет-трафика: 150 рублей\n",
    "\n",
    "**Примечание:**\n",
    "«Мегалайн» всегда округляет секунды до минут, а мегабайты — до гигабайт. Каждый звонок округляется отдельно: даже если он длился всего 1 секунду, будет засчитан как 1 минута.\n",
    "Для веб-трафика отдельные сессии не считаются. Вместо этого общая сумма за месяц округляется в бо́льшую сторону. Если абонент использует 1025 мегабайт в этом месяце, с него возьмут плату за 2 гигабайта."
   ]
  },
  {
   "cell_type": "markdown",
   "metadata": {},
   "source": [
    "## Изучение данных из файлов"
   ]
  },
  {
   "cell_type": "markdown",
   "metadata": {},
   "source": [
    "### Открытие файлов"
   ]
  },
  {
   "cell_type": "code",
   "execution_count": 1,
   "metadata": {},
   "outputs": [
    {
     "data": {
      "text/html": [
       "<div>\n",
       "<style scoped>\n",
       "    .dataframe tbody tr th:only-of-type {\n",
       "        vertical-align: middle;\n",
       "    }\n",
       "\n",
       "    .dataframe tbody tr th {\n",
       "        vertical-align: top;\n",
       "    }\n",
       "\n",
       "    .dataframe thead th {\n",
       "        text-align: right;\n",
       "    }\n",
       "</style>\n",
       "<table border=\"1\" class=\"dataframe\">\n",
       "  <thead>\n",
       "    <tr style=\"text-align: right;\">\n",
       "      <th></th>\n",
       "      <th>user_id</th>\n",
       "      <th>age</th>\n",
       "      <th>churn_date</th>\n",
       "      <th>city</th>\n",
       "      <th>first_name</th>\n",
       "      <th>last_name</th>\n",
       "      <th>reg_date</th>\n",
       "      <th>tariff</th>\n",
       "    </tr>\n",
       "  </thead>\n",
       "  <tbody>\n",
       "    <tr>\n",
       "      <th>0</th>\n",
       "      <td>1000</td>\n",
       "      <td>52</td>\n",
       "      <td>NaN</td>\n",
       "      <td>Краснодар</td>\n",
       "      <td>Рафаил</td>\n",
       "      <td>Верещагин</td>\n",
       "      <td>2018-05-25</td>\n",
       "      <td>ultra</td>\n",
       "    </tr>\n",
       "    <tr>\n",
       "      <th>1</th>\n",
       "      <td>1001</td>\n",
       "      <td>41</td>\n",
       "      <td>NaN</td>\n",
       "      <td>Москва</td>\n",
       "      <td>Иван</td>\n",
       "      <td>Ежов</td>\n",
       "      <td>2018-11-01</td>\n",
       "      <td>smart</td>\n",
       "    </tr>\n",
       "    <tr>\n",
       "      <th>2</th>\n",
       "      <td>1002</td>\n",
       "      <td>59</td>\n",
       "      <td>NaN</td>\n",
       "      <td>Стерлитамак</td>\n",
       "      <td>Евгений</td>\n",
       "      <td>Абрамович</td>\n",
       "      <td>2018-06-17</td>\n",
       "      <td>smart</td>\n",
       "    </tr>\n",
       "    <tr>\n",
       "      <th>3</th>\n",
       "      <td>1003</td>\n",
       "      <td>23</td>\n",
       "      <td>NaN</td>\n",
       "      <td>Москва</td>\n",
       "      <td>Белла</td>\n",
       "      <td>Белякова</td>\n",
       "      <td>2018-08-17</td>\n",
       "      <td>ultra</td>\n",
       "    </tr>\n",
       "    <tr>\n",
       "      <th>4</th>\n",
       "      <td>1004</td>\n",
       "      <td>68</td>\n",
       "      <td>NaN</td>\n",
       "      <td>Новокузнецк</td>\n",
       "      <td>Татьяна</td>\n",
       "      <td>Авдеенко</td>\n",
       "      <td>2018-05-14</td>\n",
       "      <td>ultra</td>\n",
       "    </tr>\n",
       "  </tbody>\n",
       "</table>\n",
       "</div>"
      ],
      "text/plain": [
       "   user_id  age churn_date         city first_name  last_name    reg_date  \\\n",
       "0     1000   52        NaN    Краснодар     Рафаил  Верещагин  2018-05-25   \n",
       "1     1001   41        NaN       Москва       Иван       Ежов  2018-11-01   \n",
       "2     1002   59        NaN  Стерлитамак    Евгений  Абрамович  2018-06-17   \n",
       "3     1003   23        NaN       Москва      Белла   Белякова  2018-08-17   \n",
       "4     1004   68        NaN  Новокузнецк    Татьяна   Авдеенко  2018-05-14   \n",
       "\n",
       "  tariff  \n",
       "0  ultra  \n",
       "1  smart  \n",
       "2  smart  \n",
       "3  ultra  \n",
       "4  ultra  "
      ]
     },
     "execution_count": 1,
     "metadata": {},
     "output_type": "execute_result"
    }
   ],
   "source": [
    "# Импорт необходимых библиотек\n",
    "import pandas as pd\n",
    "import numpy as np\n",
    "import matplotlib.pyplot as plt\n",
    "import scipy.stats as st\n",
    "\n",
    "# Открытие файла с использованием конструкции try-except\n",
    "try:\n",
    "    calls = pd.read_csv('C:/Users/ADMIN/Downloads/04_Анализ тарифов/datasets/calls.csv') # Локальный путь\n",
    "    internet = pd.read_csv('C:/Users/ADMIN/Downloads/04_Анализ тарифов/datasets/internet.csv') # Локальный путь\n",
    "    messages = pd.read_csv('C:/Users/ADMIN/Downloads/04_Анализ тарифов/datasets/messages.csv') # Локальный путь\n",
    "    tariffs = pd.read_csv('C:/Users/ADMIN/Downloads/04_Анализ тарифов/datasets/tariffs.csv') # Локальный путь\n",
    "    users = pd.read_csv('C:/Users/ADMIN/Downloads/04_Анализ тарифов/datasets/users.csv') # Локальный путь\n",
    "except:\n",
    "    calls = pd.read_csv('/datasets/calls.csv') # Серверный путь\n",
    "    internet = pd.read_csv('/datasets/internet.csv') # Серверный путь\n",
    "    messages = pd.read_csv('/datasets/messages.csv') # Серверный путь\n",
    "    tariffs = pd.read_csv('/datasets/tariffs.csv') # Серверный путь\n",
    "    users = pd.read_csv('/datasets/users.csv') # Серверный путь\n",
    "\n",
    "# Снятие ограничений на отражение максимального коливества столбцов\n",
    "pd.set_option('display.max_columns', None)\n",
    "\n",
    "# Получение первых строк таблицы users\n",
    "users.head()"
   ]
  },
  {
   "cell_type": "code",
   "execution_count": 2,
   "metadata": {},
   "outputs": [
    {
     "data": {
      "text/html": [
       "<div>\n",
       "<style scoped>\n",
       "    .dataframe tbody tr th:only-of-type {\n",
       "        vertical-align: middle;\n",
       "    }\n",
       "\n",
       "    .dataframe tbody tr th {\n",
       "        vertical-align: top;\n",
       "    }\n",
       "\n",
       "    .dataframe thead th {\n",
       "        text-align: right;\n",
       "    }\n",
       "</style>\n",
       "<table border=\"1\" class=\"dataframe\">\n",
       "  <thead>\n",
       "    <tr style=\"text-align: right;\">\n",
       "      <th></th>\n",
       "      <th>id</th>\n",
       "      <th>call_date</th>\n",
       "      <th>duration</th>\n",
       "      <th>user_id</th>\n",
       "    </tr>\n",
       "  </thead>\n",
       "  <tbody>\n",
       "    <tr>\n",
       "      <th>0</th>\n",
       "      <td>1000_0</td>\n",
       "      <td>2018-07-25</td>\n",
       "      <td>0.00</td>\n",
       "      <td>1000</td>\n",
       "    </tr>\n",
       "    <tr>\n",
       "      <th>1</th>\n",
       "      <td>1000_1</td>\n",
       "      <td>2018-08-17</td>\n",
       "      <td>0.00</td>\n",
       "      <td>1000</td>\n",
       "    </tr>\n",
       "    <tr>\n",
       "      <th>2</th>\n",
       "      <td>1000_2</td>\n",
       "      <td>2018-06-11</td>\n",
       "      <td>2.85</td>\n",
       "      <td>1000</td>\n",
       "    </tr>\n",
       "    <tr>\n",
       "      <th>3</th>\n",
       "      <td>1000_3</td>\n",
       "      <td>2018-09-21</td>\n",
       "      <td>13.80</td>\n",
       "      <td>1000</td>\n",
       "    </tr>\n",
       "    <tr>\n",
       "      <th>4</th>\n",
       "      <td>1000_4</td>\n",
       "      <td>2018-12-15</td>\n",
       "      <td>5.18</td>\n",
       "      <td>1000</td>\n",
       "    </tr>\n",
       "  </tbody>\n",
       "</table>\n",
       "</div>"
      ],
      "text/plain": [
       "       id   call_date  duration  user_id\n",
       "0  1000_0  2018-07-25      0.00     1000\n",
       "1  1000_1  2018-08-17      0.00     1000\n",
       "2  1000_2  2018-06-11      2.85     1000\n",
       "3  1000_3  2018-09-21     13.80     1000\n",
       "4  1000_4  2018-12-15      5.18     1000"
      ]
     },
     "execution_count": 2,
     "metadata": {},
     "output_type": "execute_result"
    }
   ],
   "source": [
    "# Получение первых строк таблицы calls\n",
    "calls.head()"
   ]
  },
  {
   "cell_type": "code",
   "execution_count": 3,
   "metadata": {},
   "outputs": [
    {
     "data": {
      "text/html": [
       "<div>\n",
       "<style scoped>\n",
       "    .dataframe tbody tr th:only-of-type {\n",
       "        vertical-align: middle;\n",
       "    }\n",
       "\n",
       "    .dataframe tbody tr th {\n",
       "        vertical-align: top;\n",
       "    }\n",
       "\n",
       "    .dataframe thead th {\n",
       "        text-align: right;\n",
       "    }\n",
       "</style>\n",
       "<table border=\"1\" class=\"dataframe\">\n",
       "  <thead>\n",
       "    <tr style=\"text-align: right;\">\n",
       "      <th></th>\n",
       "      <th>id</th>\n",
       "      <th>message_date</th>\n",
       "      <th>user_id</th>\n",
       "    </tr>\n",
       "  </thead>\n",
       "  <tbody>\n",
       "    <tr>\n",
       "      <th>0</th>\n",
       "      <td>1000_0</td>\n",
       "      <td>2018-06-27</td>\n",
       "      <td>1000</td>\n",
       "    </tr>\n",
       "    <tr>\n",
       "      <th>1</th>\n",
       "      <td>1000_1</td>\n",
       "      <td>2018-10-08</td>\n",
       "      <td>1000</td>\n",
       "    </tr>\n",
       "    <tr>\n",
       "      <th>2</th>\n",
       "      <td>1000_2</td>\n",
       "      <td>2018-08-04</td>\n",
       "      <td>1000</td>\n",
       "    </tr>\n",
       "    <tr>\n",
       "      <th>3</th>\n",
       "      <td>1000_3</td>\n",
       "      <td>2018-06-16</td>\n",
       "      <td>1000</td>\n",
       "    </tr>\n",
       "    <tr>\n",
       "      <th>4</th>\n",
       "      <td>1000_4</td>\n",
       "      <td>2018-12-05</td>\n",
       "      <td>1000</td>\n",
       "    </tr>\n",
       "  </tbody>\n",
       "</table>\n",
       "</div>"
      ],
      "text/plain": [
       "       id message_date  user_id\n",
       "0  1000_0   2018-06-27     1000\n",
       "1  1000_1   2018-10-08     1000\n",
       "2  1000_2   2018-08-04     1000\n",
       "3  1000_3   2018-06-16     1000\n",
       "4  1000_4   2018-12-05     1000"
      ]
     },
     "execution_count": 3,
     "metadata": {},
     "output_type": "execute_result"
    }
   ],
   "source": [
    "# Получение первых строк таблицы messages\n",
    "messages.head()"
   ]
  },
  {
   "cell_type": "code",
   "execution_count": 4,
   "metadata": {},
   "outputs": [
    {
     "data": {
      "text/html": [
       "<div>\n",
       "<style scoped>\n",
       "    .dataframe tbody tr th:only-of-type {\n",
       "        vertical-align: middle;\n",
       "    }\n",
       "\n",
       "    .dataframe tbody tr th {\n",
       "        vertical-align: top;\n",
       "    }\n",
       "\n",
       "    .dataframe thead th {\n",
       "        text-align: right;\n",
       "    }\n",
       "</style>\n",
       "<table border=\"1\" class=\"dataframe\">\n",
       "  <thead>\n",
       "    <tr style=\"text-align: right;\">\n",
       "      <th></th>\n",
       "      <th>Unnamed: 0</th>\n",
       "      <th>id</th>\n",
       "      <th>mb_used</th>\n",
       "      <th>session_date</th>\n",
       "      <th>user_id</th>\n",
       "    </tr>\n",
       "  </thead>\n",
       "  <tbody>\n",
       "    <tr>\n",
       "      <th>0</th>\n",
       "      <td>0</td>\n",
       "      <td>1000_0</td>\n",
       "      <td>112.95</td>\n",
       "      <td>2018-11-25</td>\n",
       "      <td>1000</td>\n",
       "    </tr>\n",
       "    <tr>\n",
       "      <th>1</th>\n",
       "      <td>1</td>\n",
       "      <td>1000_1</td>\n",
       "      <td>1052.81</td>\n",
       "      <td>2018-09-07</td>\n",
       "      <td>1000</td>\n",
       "    </tr>\n",
       "    <tr>\n",
       "      <th>2</th>\n",
       "      <td>2</td>\n",
       "      <td>1000_2</td>\n",
       "      <td>1197.26</td>\n",
       "      <td>2018-06-25</td>\n",
       "      <td>1000</td>\n",
       "    </tr>\n",
       "    <tr>\n",
       "      <th>3</th>\n",
       "      <td>3</td>\n",
       "      <td>1000_3</td>\n",
       "      <td>550.27</td>\n",
       "      <td>2018-08-22</td>\n",
       "      <td>1000</td>\n",
       "    </tr>\n",
       "    <tr>\n",
       "      <th>4</th>\n",
       "      <td>4</td>\n",
       "      <td>1000_4</td>\n",
       "      <td>302.56</td>\n",
       "      <td>2018-09-24</td>\n",
       "      <td>1000</td>\n",
       "    </tr>\n",
       "  </tbody>\n",
       "</table>\n",
       "</div>"
      ],
      "text/plain": [
       "   Unnamed: 0      id  mb_used session_date  user_id\n",
       "0           0  1000_0   112.95   2018-11-25     1000\n",
       "1           1  1000_1  1052.81   2018-09-07     1000\n",
       "2           2  1000_2  1197.26   2018-06-25     1000\n",
       "3           3  1000_3   550.27   2018-08-22     1000\n",
       "4           4  1000_4   302.56   2018-09-24     1000"
      ]
     },
     "execution_count": 4,
     "metadata": {},
     "output_type": "execute_result"
    }
   ],
   "source": [
    "# Получение первых строк таблицы internet\n",
    "internet.head()"
   ]
  },
  {
   "cell_type": "code",
   "execution_count": 5,
   "metadata": {},
   "outputs": [
    {
     "data": {
      "text/html": [
       "<div>\n",
       "<style scoped>\n",
       "    .dataframe tbody tr th:only-of-type {\n",
       "        vertical-align: middle;\n",
       "    }\n",
       "\n",
       "    .dataframe tbody tr th {\n",
       "        vertical-align: top;\n",
       "    }\n",
       "\n",
       "    .dataframe thead th {\n",
       "        text-align: right;\n",
       "    }\n",
       "</style>\n",
       "<table border=\"1\" class=\"dataframe\">\n",
       "  <thead>\n",
       "    <tr style=\"text-align: right;\">\n",
       "      <th></th>\n",
       "      <th>messages_included</th>\n",
       "      <th>mb_per_month_included</th>\n",
       "      <th>minutes_included</th>\n",
       "      <th>rub_monthly_fee</th>\n",
       "      <th>rub_per_gb</th>\n",
       "      <th>rub_per_message</th>\n",
       "      <th>rub_per_minute</th>\n",
       "      <th>tariff_name</th>\n",
       "    </tr>\n",
       "  </thead>\n",
       "  <tbody>\n",
       "    <tr>\n",
       "      <th>0</th>\n",
       "      <td>50</td>\n",
       "      <td>15360</td>\n",
       "      <td>500</td>\n",
       "      <td>550</td>\n",
       "      <td>200</td>\n",
       "      <td>3</td>\n",
       "      <td>3</td>\n",
       "      <td>smart</td>\n",
       "    </tr>\n",
       "    <tr>\n",
       "      <th>1</th>\n",
       "      <td>1000</td>\n",
       "      <td>30720</td>\n",
       "      <td>3000</td>\n",
       "      <td>1950</td>\n",
       "      <td>150</td>\n",
       "      <td>1</td>\n",
       "      <td>1</td>\n",
       "      <td>ultra</td>\n",
       "    </tr>\n",
       "  </tbody>\n",
       "</table>\n",
       "</div>"
      ],
      "text/plain": [
       "   messages_included  mb_per_month_included  minutes_included  \\\n",
       "0                 50                  15360               500   \n",
       "1               1000                  30720              3000   \n",
       "\n",
       "   rub_monthly_fee  rub_per_gb  rub_per_message  rub_per_minute tariff_name  \n",
       "0              550         200                3               3       smart  \n",
       "1             1950         150                1               1       ultra  "
      ]
     },
     "execution_count": 5,
     "metadata": {},
     "output_type": "execute_result"
    }
   ],
   "source": [
    "# Получение первых строк таблицы tariffs\n",
    "tariffs.head()"
   ]
  },
  {
   "cell_type": "markdown",
   "metadata": {},
   "source": [
    "### Информация о данных"
   ]
  },
  {
   "cell_type": "markdown",
   "metadata": {},
   "source": [
    "#### Users (информация о пользователях)"
   ]
  },
  {
   "cell_type": "code",
   "execution_count": 6,
   "metadata": {},
   "outputs": [
    {
     "name": "stdout",
     "output_type": "stream",
     "text": [
      "<class 'pandas.core.frame.DataFrame'>\n",
      "RangeIndex: 500 entries, 0 to 499\n",
      "Data columns (total 8 columns):\n",
      " #   Column      Non-Null Count  Dtype \n",
      "---  ------      --------------  ----- \n",
      " 0   user_id     500 non-null    int64 \n",
      " 1   age         500 non-null    int64 \n",
      " 2   churn_date  38 non-null     object\n",
      " 3   city        500 non-null    object\n",
      " 4   first_name  500 non-null    object\n",
      " 5   last_name   500 non-null    object\n",
      " 6   reg_date    500 non-null    object\n",
      " 7   tariff      500 non-null    object\n",
      "dtypes: int64(2), object(6)\n",
      "memory usage: 31.4+ KB\n"
     ]
    },
    {
     "data": {
      "text/html": [
       "<div>\n",
       "<style scoped>\n",
       "    .dataframe tbody tr th:only-of-type {\n",
       "        vertical-align: middle;\n",
       "    }\n",
       "\n",
       "    .dataframe tbody tr th {\n",
       "        vertical-align: top;\n",
       "    }\n",
       "\n",
       "    .dataframe thead th {\n",
       "        text-align: right;\n",
       "    }\n",
       "</style>\n",
       "<table border=\"1\" class=\"dataframe\">\n",
       "  <thead>\n",
       "    <tr style=\"text-align: right;\">\n",
       "      <th></th>\n",
       "      <th>user_id</th>\n",
       "      <th>age</th>\n",
       "      <th>churn_date</th>\n",
       "      <th>city</th>\n",
       "      <th>first_name</th>\n",
       "      <th>last_name</th>\n",
       "      <th>reg_date</th>\n",
       "      <th>tariff</th>\n",
       "    </tr>\n",
       "  </thead>\n",
       "  <tbody>\n",
       "    <tr>\n",
       "      <th>count</th>\n",
       "      <td>500.000000</td>\n",
       "      <td>500.00000</td>\n",
       "      <td>38</td>\n",
       "      <td>500</td>\n",
       "      <td>500</td>\n",
       "      <td>500</td>\n",
       "      <td>500</td>\n",
       "      <td>500</td>\n",
       "    </tr>\n",
       "    <tr>\n",
       "      <th>unique</th>\n",
       "      <td>NaN</td>\n",
       "      <td>NaN</td>\n",
       "      <td>33</td>\n",
       "      <td>76</td>\n",
       "      <td>246</td>\n",
       "      <td>419</td>\n",
       "      <td>270</td>\n",
       "      <td>2</td>\n",
       "    </tr>\n",
       "    <tr>\n",
       "      <th>top</th>\n",
       "      <td>NaN</td>\n",
       "      <td>NaN</td>\n",
       "      <td>2018-10-03</td>\n",
       "      <td>Москва</td>\n",
       "      <td>Радим</td>\n",
       "      <td>Андреенко</td>\n",
       "      <td>2018-05-28</td>\n",
       "      <td>smart</td>\n",
       "    </tr>\n",
       "    <tr>\n",
       "      <th>freq</th>\n",
       "      <td>NaN</td>\n",
       "      <td>NaN</td>\n",
       "      <td>2</td>\n",
       "      <td>99</td>\n",
       "      <td>6</td>\n",
       "      <td>5</td>\n",
       "      <td>8</td>\n",
       "      <td>351</td>\n",
       "    </tr>\n",
       "    <tr>\n",
       "      <th>mean</th>\n",
       "      <td>1249.500000</td>\n",
       "      <td>46.58800</td>\n",
       "      <td>NaN</td>\n",
       "      <td>NaN</td>\n",
       "      <td>NaN</td>\n",
       "      <td>NaN</td>\n",
       "      <td>NaN</td>\n",
       "      <td>NaN</td>\n",
       "    </tr>\n",
       "    <tr>\n",
       "      <th>std</th>\n",
       "      <td>144.481833</td>\n",
       "      <td>16.66763</td>\n",
       "      <td>NaN</td>\n",
       "      <td>NaN</td>\n",
       "      <td>NaN</td>\n",
       "      <td>NaN</td>\n",
       "      <td>NaN</td>\n",
       "      <td>NaN</td>\n",
       "    </tr>\n",
       "    <tr>\n",
       "      <th>min</th>\n",
       "      <td>1000.000000</td>\n",
       "      <td>18.00000</td>\n",
       "      <td>NaN</td>\n",
       "      <td>NaN</td>\n",
       "      <td>NaN</td>\n",
       "      <td>NaN</td>\n",
       "      <td>NaN</td>\n",
       "      <td>NaN</td>\n",
       "    </tr>\n",
       "    <tr>\n",
       "      <th>25%</th>\n",
       "      <td>1124.750000</td>\n",
       "      <td>32.00000</td>\n",
       "      <td>NaN</td>\n",
       "      <td>NaN</td>\n",
       "      <td>NaN</td>\n",
       "      <td>NaN</td>\n",
       "      <td>NaN</td>\n",
       "      <td>NaN</td>\n",
       "    </tr>\n",
       "    <tr>\n",
       "      <th>50%</th>\n",
       "      <td>1249.500000</td>\n",
       "      <td>46.00000</td>\n",
       "      <td>NaN</td>\n",
       "      <td>NaN</td>\n",
       "      <td>NaN</td>\n",
       "      <td>NaN</td>\n",
       "      <td>NaN</td>\n",
       "      <td>NaN</td>\n",
       "    </tr>\n",
       "    <tr>\n",
       "      <th>75%</th>\n",
       "      <td>1374.250000</td>\n",
       "      <td>62.00000</td>\n",
       "      <td>NaN</td>\n",
       "      <td>NaN</td>\n",
       "      <td>NaN</td>\n",
       "      <td>NaN</td>\n",
       "      <td>NaN</td>\n",
       "      <td>NaN</td>\n",
       "    </tr>\n",
       "    <tr>\n",
       "      <th>max</th>\n",
       "      <td>1499.000000</td>\n",
       "      <td>75.00000</td>\n",
       "      <td>NaN</td>\n",
       "      <td>NaN</td>\n",
       "      <td>NaN</td>\n",
       "      <td>NaN</td>\n",
       "      <td>NaN</td>\n",
       "      <td>NaN</td>\n",
       "    </tr>\n",
       "  </tbody>\n",
       "</table>\n",
       "</div>"
      ],
      "text/plain": [
       "            user_id        age  churn_date    city first_name  last_name  \\\n",
       "count    500.000000  500.00000          38     500        500        500   \n",
       "unique          NaN        NaN          33      76        246        419   \n",
       "top             NaN        NaN  2018-10-03  Москва      Радим  Андреенко   \n",
       "freq            NaN        NaN           2      99          6          5   \n",
       "mean    1249.500000   46.58800         NaN     NaN        NaN        NaN   \n",
       "std      144.481833   16.66763         NaN     NaN        NaN        NaN   \n",
       "min     1000.000000   18.00000         NaN     NaN        NaN        NaN   \n",
       "25%     1124.750000   32.00000         NaN     NaN        NaN        NaN   \n",
       "50%     1249.500000   46.00000         NaN     NaN        NaN        NaN   \n",
       "75%     1374.250000   62.00000         NaN     NaN        NaN        NaN   \n",
       "max     1499.000000   75.00000         NaN     NaN        NaN        NaN   \n",
       "\n",
       "          reg_date tariff  \n",
       "count          500    500  \n",
       "unique         270      2  \n",
       "top     2018-05-28  smart  \n",
       "freq             8    351  \n",
       "mean           NaN    NaN  \n",
       "std            NaN    NaN  \n",
       "min            NaN    NaN  \n",
       "25%            NaN    NaN  \n",
       "50%            NaN    NaN  \n",
       "75%            NaN    NaN  \n",
       "max            NaN    NaN  "
      ]
     },
     "execution_count": 6,
     "metadata": {},
     "output_type": "execute_result"
    }
   ],
   "source": [
    "# Вывод информации о users\n",
    "users.info()\n",
    "users.describe(include='all')"
   ]
  },
  {
   "cell_type": "code",
   "execution_count": 7,
   "metadata": {},
   "outputs": [
    {
     "data": {
      "text/plain": [
       "user_id         0\n",
       "age             0\n",
       "churn_date    462\n",
       "city            0\n",
       "first_name      0\n",
       "last_name       0\n",
       "reg_date        0\n",
       "tariff          0\n",
       "dtype: int64"
      ]
     },
     "execution_count": 7,
     "metadata": {},
     "output_type": "execute_result"
    }
   ],
   "source": [
    "# Подсчёт пропусков\n",
    "users.isna().sum()"
   ]
  },
  {
   "cell_type": "markdown",
   "metadata": {},
   "source": [
    "В исходных данных о пользователях 500 строк и `8 столбцов`:\n",
    "* `user_id` — уникальный идентификатор пользователя **[int64] - норм**\n",
    "* `age` — возраст пользователя (годы) **[int64] - норм**\n",
    "* `churn_date` — дата прекращения пользования тарифом (если значение пропущено, то тариф ещё действовал на момент выгрузки данных) <font color='red'>**[object] - скорректировать на datetime**</font>\n",
    "* `city` — город проживания пользователя **[object] - норм**\n",
    "* `first_name` — имя пользователя **[object] - норм**\n",
    "* `last_name` — фамилия пользователя **[object] - норм**\n",
    "* `reg_date` — дата подключения тарифа (день, месяц, год) <font color='red'>**[object] - скорректировать на datetime**</font>\n",
    "* `tariff` — название тарифного плана **[object] - норм**"
   ]
  },
  {
   "cell_type": "markdown",
   "metadata": {},
   "source": [
    "#### Calls (информация о звонках)"
   ]
  },
  {
   "cell_type": "code",
   "execution_count": 8,
   "metadata": {},
   "outputs": [
    {
     "name": "stdout",
     "output_type": "stream",
     "text": [
      "<class 'pandas.core.frame.DataFrame'>\n",
      "RangeIndex: 202607 entries, 0 to 202606\n",
      "Data columns (total 4 columns):\n",
      " #   Column     Non-Null Count   Dtype  \n",
      "---  ------     --------------   -----  \n",
      " 0   id         202607 non-null  object \n",
      " 1   call_date  202607 non-null  object \n",
      " 2   duration   202607 non-null  float64\n",
      " 3   user_id    202607 non-null  int64  \n",
      "dtypes: float64(1), int64(1), object(2)\n",
      "memory usage: 6.2+ MB\n"
     ]
    },
    {
     "data": {
      "text/html": [
       "<div>\n",
       "<style scoped>\n",
       "    .dataframe tbody tr th:only-of-type {\n",
       "        vertical-align: middle;\n",
       "    }\n",
       "\n",
       "    .dataframe tbody tr th {\n",
       "        vertical-align: top;\n",
       "    }\n",
       "\n",
       "    .dataframe thead th {\n",
       "        text-align: right;\n",
       "    }\n",
       "</style>\n",
       "<table border=\"1\" class=\"dataframe\">\n",
       "  <thead>\n",
       "    <tr style=\"text-align: right;\">\n",
       "      <th></th>\n",
       "      <th>id</th>\n",
       "      <th>call_date</th>\n",
       "      <th>duration</th>\n",
       "      <th>user_id</th>\n",
       "    </tr>\n",
       "  </thead>\n",
       "  <tbody>\n",
       "    <tr>\n",
       "      <th>count</th>\n",
       "      <td>202607</td>\n",
       "      <td>202607</td>\n",
       "      <td>202607.000000</td>\n",
       "      <td>202607.000000</td>\n",
       "    </tr>\n",
       "    <tr>\n",
       "      <th>unique</th>\n",
       "      <td>202607</td>\n",
       "      <td>365</td>\n",
       "      <td>NaN</td>\n",
       "      <td>NaN</td>\n",
       "    </tr>\n",
       "    <tr>\n",
       "      <th>top</th>\n",
       "      <td>1063_807</td>\n",
       "      <td>2018-12-31</td>\n",
       "      <td>NaN</td>\n",
       "      <td>NaN</td>\n",
       "    </tr>\n",
       "    <tr>\n",
       "      <th>freq</th>\n",
       "      <td>1</td>\n",
       "      <td>1435</td>\n",
       "      <td>NaN</td>\n",
       "      <td>NaN</td>\n",
       "    </tr>\n",
       "    <tr>\n",
       "      <th>mean</th>\n",
       "      <td>NaN</td>\n",
       "      <td>NaN</td>\n",
       "      <td>6.755887</td>\n",
       "      <td>1253.940619</td>\n",
       "    </tr>\n",
       "    <tr>\n",
       "      <th>std</th>\n",
       "      <td>NaN</td>\n",
       "      <td>NaN</td>\n",
       "      <td>5.843365</td>\n",
       "      <td>144.722751</td>\n",
       "    </tr>\n",
       "    <tr>\n",
       "      <th>min</th>\n",
       "      <td>NaN</td>\n",
       "      <td>NaN</td>\n",
       "      <td>0.000000</td>\n",
       "      <td>1000.000000</td>\n",
       "    </tr>\n",
       "    <tr>\n",
       "      <th>25%</th>\n",
       "      <td>NaN</td>\n",
       "      <td>NaN</td>\n",
       "      <td>1.300000</td>\n",
       "      <td>1126.000000</td>\n",
       "    </tr>\n",
       "    <tr>\n",
       "      <th>50%</th>\n",
       "      <td>NaN</td>\n",
       "      <td>NaN</td>\n",
       "      <td>6.000000</td>\n",
       "      <td>1260.000000</td>\n",
       "    </tr>\n",
       "    <tr>\n",
       "      <th>75%</th>\n",
       "      <td>NaN</td>\n",
       "      <td>NaN</td>\n",
       "      <td>10.700000</td>\n",
       "      <td>1379.000000</td>\n",
       "    </tr>\n",
       "    <tr>\n",
       "      <th>max</th>\n",
       "      <td>NaN</td>\n",
       "      <td>NaN</td>\n",
       "      <td>38.000000</td>\n",
       "      <td>1499.000000</td>\n",
       "    </tr>\n",
       "  </tbody>\n",
       "</table>\n",
       "</div>"
      ],
      "text/plain": [
       "              id   call_date       duration        user_id\n",
       "count     202607      202607  202607.000000  202607.000000\n",
       "unique    202607         365            NaN            NaN\n",
       "top     1063_807  2018-12-31            NaN            NaN\n",
       "freq           1        1435            NaN            NaN\n",
       "mean         NaN         NaN       6.755887    1253.940619\n",
       "std          NaN         NaN       5.843365     144.722751\n",
       "min          NaN         NaN       0.000000    1000.000000\n",
       "25%          NaN         NaN       1.300000    1126.000000\n",
       "50%          NaN         NaN       6.000000    1260.000000\n",
       "75%          NaN         NaN      10.700000    1379.000000\n",
       "max          NaN         NaN      38.000000    1499.000000"
      ]
     },
     "execution_count": 8,
     "metadata": {},
     "output_type": "execute_result"
    }
   ],
   "source": [
    "# Вывод информации о calls\n",
    "calls.info()\n",
    "calls.describe(include='all')"
   ]
  },
  {
   "cell_type": "code",
   "execution_count": 9,
   "metadata": {},
   "outputs": [
    {
     "data": {
      "text/plain": [
       "id           0\n",
       "call_date    0\n",
       "duration     0\n",
       "user_id      0\n",
       "dtype: int64"
      ]
     },
     "execution_count": 9,
     "metadata": {},
     "output_type": "execute_result"
    }
   ],
   "source": [
    "# Подсчёт пропусков\n",
    "calls.isna().sum()"
   ]
  },
  {
   "cell_type": "markdown",
   "metadata": {},
   "source": [
    "В исходных данных о звонках 202607 строк и `4 столбца`:\n",
    "* `id` — уникальный номер звонка **[object] - норм**\n",
    "* `call_date` — дата звонка <font color='red'>**[object] - скорректировать на datetime**</font>\n",
    "* `duration` — длительность звонка в минутах <font color='red'>**[float64] - округлить до целых в большую сторону и скорректировать на int64**</font>\n",
    "* `user_id` — идентификатор пользователя, сделавшего звонок **[int64] - норм**"
   ]
  },
  {
   "cell_type": "markdown",
   "metadata": {},
   "source": [
    "#### Messages (информация о сообщениях)"
   ]
  },
  {
   "cell_type": "code",
   "execution_count": 10,
   "metadata": {},
   "outputs": [
    {
     "name": "stdout",
     "output_type": "stream",
     "text": [
      "<class 'pandas.core.frame.DataFrame'>\n",
      "RangeIndex: 123036 entries, 0 to 123035\n",
      "Data columns (total 3 columns):\n",
      " #   Column        Non-Null Count   Dtype \n",
      "---  ------        --------------   ----- \n",
      " 0   id            123036 non-null  object\n",
      " 1   message_date  123036 non-null  object\n",
      " 2   user_id       123036 non-null  int64 \n",
      "dtypes: int64(1), object(2)\n",
      "memory usage: 2.8+ MB\n"
     ]
    },
    {
     "data": {
      "text/html": [
       "<div>\n",
       "<style scoped>\n",
       "    .dataframe tbody tr th:only-of-type {\n",
       "        vertical-align: middle;\n",
       "    }\n",
       "\n",
       "    .dataframe tbody tr th {\n",
       "        vertical-align: top;\n",
       "    }\n",
       "\n",
       "    .dataframe thead th {\n",
       "        text-align: right;\n",
       "    }\n",
       "</style>\n",
       "<table border=\"1\" class=\"dataframe\">\n",
       "  <thead>\n",
       "    <tr style=\"text-align: right;\">\n",
       "      <th></th>\n",
       "      <th>id</th>\n",
       "      <th>message_date</th>\n",
       "      <th>user_id</th>\n",
       "    </tr>\n",
       "  </thead>\n",
       "  <tbody>\n",
       "    <tr>\n",
       "      <th>count</th>\n",
       "      <td>123036</td>\n",
       "      <td>123036</td>\n",
       "      <td>123036.000000</td>\n",
       "    </tr>\n",
       "    <tr>\n",
       "      <th>unique</th>\n",
       "      <td>123036</td>\n",
       "      <td>364</td>\n",
       "      <td>NaN</td>\n",
       "    </tr>\n",
       "    <tr>\n",
       "      <th>top</th>\n",
       "      <td>1267_58</td>\n",
       "      <td>2018-12-31</td>\n",
       "      <td>NaN</td>\n",
       "    </tr>\n",
       "    <tr>\n",
       "      <th>freq</th>\n",
       "      <td>1</td>\n",
       "      <td>859</td>\n",
       "      <td>NaN</td>\n",
       "    </tr>\n",
       "    <tr>\n",
       "      <th>mean</th>\n",
       "      <td>NaN</td>\n",
       "      <td>NaN</td>\n",
       "      <td>1256.989410</td>\n",
       "    </tr>\n",
       "    <tr>\n",
       "      <th>std</th>\n",
       "      <td>NaN</td>\n",
       "      <td>NaN</td>\n",
       "      <td>143.523967</td>\n",
       "    </tr>\n",
       "    <tr>\n",
       "      <th>min</th>\n",
       "      <td>NaN</td>\n",
       "      <td>NaN</td>\n",
       "      <td>1000.000000</td>\n",
       "    </tr>\n",
       "    <tr>\n",
       "      <th>25%</th>\n",
       "      <td>NaN</td>\n",
       "      <td>NaN</td>\n",
       "      <td>1134.000000</td>\n",
       "    </tr>\n",
       "    <tr>\n",
       "      <th>50%</th>\n",
       "      <td>NaN</td>\n",
       "      <td>NaN</td>\n",
       "      <td>1271.000000</td>\n",
       "    </tr>\n",
       "    <tr>\n",
       "      <th>75%</th>\n",
       "      <td>NaN</td>\n",
       "      <td>NaN</td>\n",
       "      <td>1381.000000</td>\n",
       "    </tr>\n",
       "    <tr>\n",
       "      <th>max</th>\n",
       "      <td>NaN</td>\n",
       "      <td>NaN</td>\n",
       "      <td>1499.000000</td>\n",
       "    </tr>\n",
       "  </tbody>\n",
       "</table>\n",
       "</div>"
      ],
      "text/plain": [
       "             id message_date        user_id\n",
       "count    123036       123036  123036.000000\n",
       "unique   123036          364            NaN\n",
       "top     1267_58   2018-12-31            NaN\n",
       "freq          1          859            NaN\n",
       "mean        NaN          NaN    1256.989410\n",
       "std         NaN          NaN     143.523967\n",
       "min         NaN          NaN    1000.000000\n",
       "25%         NaN          NaN    1134.000000\n",
       "50%         NaN          NaN    1271.000000\n",
       "75%         NaN          NaN    1381.000000\n",
       "max         NaN          NaN    1499.000000"
      ]
     },
     "execution_count": 10,
     "metadata": {},
     "output_type": "execute_result"
    }
   ],
   "source": [
    "# Вывод информации о messages\n",
    "messages.info()\n",
    "messages.describe(include='all')"
   ]
  },
  {
   "cell_type": "code",
   "execution_count": 11,
   "metadata": {},
   "outputs": [
    {
     "data": {
      "text/plain": [
       "id              0\n",
       "message_date    0\n",
       "user_id         0\n",
       "dtype: int64"
      ]
     },
     "execution_count": 11,
     "metadata": {},
     "output_type": "execute_result"
    }
   ],
   "source": [
    "# Подсчёт пропусков\n",
    "messages.isna().sum()"
   ]
  },
  {
   "cell_type": "markdown",
   "metadata": {},
   "source": [
    "В исходных данных о сообщениях 123036 строк и `3 столбца`:\n",
    "* `id` — уникальный номер сообщения **[object] - норм**\n",
    "* `message_date` — дата сообщения <font color='red'>**[object] - скорректировать на datetime**</font>\n",
    "* `user_id` — идентификатор пользователя, отправившего сообщение **[int64] - норм**"
   ]
  },
  {
   "cell_type": "markdown",
   "metadata": {},
   "source": [
    "#### Internet (информация об интернет-сессиях)"
   ]
  },
  {
   "cell_type": "code",
   "execution_count": 12,
   "metadata": {},
   "outputs": [
    {
     "name": "stdout",
     "output_type": "stream",
     "text": [
      "<class 'pandas.core.frame.DataFrame'>\n",
      "RangeIndex: 149396 entries, 0 to 149395\n",
      "Data columns (total 5 columns):\n",
      " #   Column        Non-Null Count   Dtype  \n",
      "---  ------        --------------   -----  \n",
      " 0   Unnamed: 0    149396 non-null  int64  \n",
      " 1   id            149396 non-null  object \n",
      " 2   mb_used       149396 non-null  float64\n",
      " 3   session_date  149396 non-null  object \n",
      " 4   user_id       149396 non-null  int64  \n",
      "dtypes: float64(1), int64(2), object(2)\n",
      "memory usage: 5.7+ MB\n"
     ]
    },
    {
     "data": {
      "text/html": [
       "<div>\n",
       "<style scoped>\n",
       "    .dataframe tbody tr th:only-of-type {\n",
       "        vertical-align: middle;\n",
       "    }\n",
       "\n",
       "    .dataframe tbody tr th {\n",
       "        vertical-align: top;\n",
       "    }\n",
       "\n",
       "    .dataframe thead th {\n",
       "        text-align: right;\n",
       "    }\n",
       "</style>\n",
       "<table border=\"1\" class=\"dataframe\">\n",
       "  <thead>\n",
       "    <tr style=\"text-align: right;\">\n",
       "      <th></th>\n",
       "      <th>Unnamed: 0</th>\n",
       "      <th>id</th>\n",
       "      <th>mb_used</th>\n",
       "      <th>session_date</th>\n",
       "      <th>user_id</th>\n",
       "    </tr>\n",
       "  </thead>\n",
       "  <tbody>\n",
       "    <tr>\n",
       "      <th>count</th>\n",
       "      <td>149396.000000</td>\n",
       "      <td>149396</td>\n",
       "      <td>149396.000000</td>\n",
       "      <td>149396</td>\n",
       "      <td>149396.000000</td>\n",
       "    </tr>\n",
       "    <tr>\n",
       "      <th>unique</th>\n",
       "      <td>NaN</td>\n",
       "      <td>149396</td>\n",
       "      <td>NaN</td>\n",
       "      <td>365</td>\n",
       "      <td>NaN</td>\n",
       "    </tr>\n",
       "    <tr>\n",
       "      <th>top</th>\n",
       "      <td>NaN</td>\n",
       "      <td>1458_146</td>\n",
       "      <td>NaN</td>\n",
       "      <td>2018-12-31</td>\n",
       "      <td>NaN</td>\n",
       "    </tr>\n",
       "    <tr>\n",
       "      <th>freq</th>\n",
       "      <td>NaN</td>\n",
       "      <td>1</td>\n",
       "      <td>NaN</td>\n",
       "      <td>1057</td>\n",
       "      <td>NaN</td>\n",
       "    </tr>\n",
       "    <tr>\n",
       "      <th>mean</th>\n",
       "      <td>74697.500000</td>\n",
       "      <td>NaN</td>\n",
       "      <td>370.192426</td>\n",
       "      <td>NaN</td>\n",
       "      <td>1252.099842</td>\n",
       "    </tr>\n",
       "    <tr>\n",
       "      <th>std</th>\n",
       "      <td>43127.054745</td>\n",
       "      <td>NaN</td>\n",
       "      <td>278.300951</td>\n",
       "      <td>NaN</td>\n",
       "      <td>144.050823</td>\n",
       "    </tr>\n",
       "    <tr>\n",
       "      <th>min</th>\n",
       "      <td>0.000000</td>\n",
       "      <td>NaN</td>\n",
       "      <td>0.000000</td>\n",
       "      <td>NaN</td>\n",
       "      <td>1000.000000</td>\n",
       "    </tr>\n",
       "    <tr>\n",
       "      <th>25%</th>\n",
       "      <td>37348.750000</td>\n",
       "      <td>NaN</td>\n",
       "      <td>138.187500</td>\n",
       "      <td>NaN</td>\n",
       "      <td>1130.000000</td>\n",
       "    </tr>\n",
       "    <tr>\n",
       "      <th>50%</th>\n",
       "      <td>74697.500000</td>\n",
       "      <td>NaN</td>\n",
       "      <td>348.015000</td>\n",
       "      <td>NaN</td>\n",
       "      <td>1251.000000</td>\n",
       "    </tr>\n",
       "    <tr>\n",
       "      <th>75%</th>\n",
       "      <td>112046.250000</td>\n",
       "      <td>NaN</td>\n",
       "      <td>559.552500</td>\n",
       "      <td>NaN</td>\n",
       "      <td>1380.000000</td>\n",
       "    </tr>\n",
       "    <tr>\n",
       "      <th>max</th>\n",
       "      <td>149395.000000</td>\n",
       "      <td>NaN</td>\n",
       "      <td>1724.830000</td>\n",
       "      <td>NaN</td>\n",
       "      <td>1499.000000</td>\n",
       "    </tr>\n",
       "  </tbody>\n",
       "</table>\n",
       "</div>"
      ],
      "text/plain": [
       "           Unnamed: 0        id        mb_used session_date        user_id\n",
       "count   149396.000000    149396  149396.000000       149396  149396.000000\n",
       "unique            NaN    149396            NaN          365            NaN\n",
       "top               NaN  1458_146            NaN   2018-12-31            NaN\n",
       "freq              NaN         1            NaN         1057            NaN\n",
       "mean     74697.500000       NaN     370.192426          NaN    1252.099842\n",
       "std      43127.054745       NaN     278.300951          NaN     144.050823\n",
       "min          0.000000       NaN       0.000000          NaN    1000.000000\n",
       "25%      37348.750000       NaN     138.187500          NaN    1130.000000\n",
       "50%      74697.500000       NaN     348.015000          NaN    1251.000000\n",
       "75%     112046.250000       NaN     559.552500          NaN    1380.000000\n",
       "max     149395.000000       NaN    1724.830000          NaN    1499.000000"
      ]
     },
     "execution_count": 12,
     "metadata": {},
     "output_type": "execute_result"
    }
   ],
   "source": [
    "# Вывод информации о internet\n",
    "internet.info()\n",
    "internet.describe(include='all')"
   ]
  },
  {
   "cell_type": "code",
   "execution_count": 13,
   "metadata": {},
   "outputs": [
    {
     "data": {
      "text/plain": [
       "Unnamed: 0      0\n",
       "id              0\n",
       "mb_used         0\n",
       "session_date    0\n",
       "user_id         0\n",
       "dtype: int64"
      ]
     },
     "execution_count": 13,
     "metadata": {},
     "output_type": "execute_result"
    }
   ],
   "source": [
    "# Подсчёт пропусков\n",
    "internet.isna().sum()"
   ]
  },
  {
   "cell_type": "markdown",
   "metadata": {},
   "source": [
    "В исходных данных об интернет-сессиях 149396 строк и `5 столбцов`:\n",
    "* `Unnamed: 0` - дублирует index <font color='red'>**удалить столбец**</font>\n",
    "* `id` — уникальный номер сессии **[object] - норм**\n",
    "* `mb_used` — объём потраченного за сессию интернет-трафика (в мегабайтах) **[float64] - норм**\n",
    "* `session_date` — дата интернет-сессии <font color='red'>**[object] - скорректировать на datetime**</font>\n",
    "* `user_id` — идентификатор пользователя **[int64] - норм**"
   ]
  },
  {
   "cell_type": "markdown",
   "metadata": {},
   "source": [
    "#### Tariffs (информация о тарифах)"
   ]
  },
  {
   "cell_type": "code",
   "execution_count": 14,
   "metadata": {},
   "outputs": [
    {
     "name": "stdout",
     "output_type": "stream",
     "text": [
      "<class 'pandas.core.frame.DataFrame'>\n",
      "RangeIndex: 2 entries, 0 to 1\n",
      "Data columns (total 8 columns):\n",
      " #   Column                 Non-Null Count  Dtype \n",
      "---  ------                 --------------  ----- \n",
      " 0   messages_included      2 non-null      int64 \n",
      " 1   mb_per_month_included  2 non-null      int64 \n",
      " 2   minutes_included       2 non-null      int64 \n",
      " 3   rub_monthly_fee        2 non-null      int64 \n",
      " 4   rub_per_gb             2 non-null      int64 \n",
      " 5   rub_per_message        2 non-null      int64 \n",
      " 6   rub_per_minute         2 non-null      int64 \n",
      " 7   tariff_name            2 non-null      object\n",
      "dtypes: int64(7), object(1)\n",
      "memory usage: 256.0+ bytes\n"
     ]
    },
    {
     "data": {
      "text/html": [
       "<div>\n",
       "<style scoped>\n",
       "    .dataframe tbody tr th:only-of-type {\n",
       "        vertical-align: middle;\n",
       "    }\n",
       "\n",
       "    .dataframe tbody tr th {\n",
       "        vertical-align: top;\n",
       "    }\n",
       "\n",
       "    .dataframe thead th {\n",
       "        text-align: right;\n",
       "    }\n",
       "</style>\n",
       "<table border=\"1\" class=\"dataframe\">\n",
       "  <thead>\n",
       "    <tr style=\"text-align: right;\">\n",
       "      <th></th>\n",
       "      <th>messages_included</th>\n",
       "      <th>mb_per_month_included</th>\n",
       "      <th>minutes_included</th>\n",
       "      <th>rub_monthly_fee</th>\n",
       "      <th>rub_per_gb</th>\n",
       "      <th>rub_per_message</th>\n",
       "      <th>rub_per_minute</th>\n",
       "      <th>tariff_name</th>\n",
       "    </tr>\n",
       "  </thead>\n",
       "  <tbody>\n",
       "    <tr>\n",
       "      <th>count</th>\n",
       "      <td>2.000000</td>\n",
       "      <td>2.000000</td>\n",
       "      <td>2.000000</td>\n",
       "      <td>2.000000</td>\n",
       "      <td>2.000000</td>\n",
       "      <td>2.000000</td>\n",
       "      <td>2.000000</td>\n",
       "      <td>2</td>\n",
       "    </tr>\n",
       "    <tr>\n",
       "      <th>unique</th>\n",
       "      <td>NaN</td>\n",
       "      <td>NaN</td>\n",
       "      <td>NaN</td>\n",
       "      <td>NaN</td>\n",
       "      <td>NaN</td>\n",
       "      <td>NaN</td>\n",
       "      <td>NaN</td>\n",
       "      <td>2</td>\n",
       "    </tr>\n",
       "    <tr>\n",
       "      <th>top</th>\n",
       "      <td>NaN</td>\n",
       "      <td>NaN</td>\n",
       "      <td>NaN</td>\n",
       "      <td>NaN</td>\n",
       "      <td>NaN</td>\n",
       "      <td>NaN</td>\n",
       "      <td>NaN</td>\n",
       "      <td>ultra</td>\n",
       "    </tr>\n",
       "    <tr>\n",
       "      <th>freq</th>\n",
       "      <td>NaN</td>\n",
       "      <td>NaN</td>\n",
       "      <td>NaN</td>\n",
       "      <td>NaN</td>\n",
       "      <td>NaN</td>\n",
       "      <td>NaN</td>\n",
       "      <td>NaN</td>\n",
       "      <td>1</td>\n",
       "    </tr>\n",
       "    <tr>\n",
       "      <th>mean</th>\n",
       "      <td>525.000000</td>\n",
       "      <td>23040.000000</td>\n",
       "      <td>1750.000000</td>\n",
       "      <td>1250.000000</td>\n",
       "      <td>175.000000</td>\n",
       "      <td>2.000000</td>\n",
       "      <td>2.000000</td>\n",
       "      <td>NaN</td>\n",
       "    </tr>\n",
       "    <tr>\n",
       "      <th>std</th>\n",
       "      <td>671.751442</td>\n",
       "      <td>10861.160159</td>\n",
       "      <td>1767.766953</td>\n",
       "      <td>989.949494</td>\n",
       "      <td>35.355339</td>\n",
       "      <td>1.414214</td>\n",
       "      <td>1.414214</td>\n",
       "      <td>NaN</td>\n",
       "    </tr>\n",
       "    <tr>\n",
       "      <th>min</th>\n",
       "      <td>50.000000</td>\n",
       "      <td>15360.000000</td>\n",
       "      <td>500.000000</td>\n",
       "      <td>550.000000</td>\n",
       "      <td>150.000000</td>\n",
       "      <td>1.000000</td>\n",
       "      <td>1.000000</td>\n",
       "      <td>NaN</td>\n",
       "    </tr>\n",
       "    <tr>\n",
       "      <th>25%</th>\n",
       "      <td>287.500000</td>\n",
       "      <td>19200.000000</td>\n",
       "      <td>1125.000000</td>\n",
       "      <td>900.000000</td>\n",
       "      <td>162.500000</td>\n",
       "      <td>1.500000</td>\n",
       "      <td>1.500000</td>\n",
       "      <td>NaN</td>\n",
       "    </tr>\n",
       "    <tr>\n",
       "      <th>50%</th>\n",
       "      <td>525.000000</td>\n",
       "      <td>23040.000000</td>\n",
       "      <td>1750.000000</td>\n",
       "      <td>1250.000000</td>\n",
       "      <td>175.000000</td>\n",
       "      <td>2.000000</td>\n",
       "      <td>2.000000</td>\n",
       "      <td>NaN</td>\n",
       "    </tr>\n",
       "    <tr>\n",
       "      <th>75%</th>\n",
       "      <td>762.500000</td>\n",
       "      <td>26880.000000</td>\n",
       "      <td>2375.000000</td>\n",
       "      <td>1600.000000</td>\n",
       "      <td>187.500000</td>\n",
       "      <td>2.500000</td>\n",
       "      <td>2.500000</td>\n",
       "      <td>NaN</td>\n",
       "    </tr>\n",
       "    <tr>\n",
       "      <th>max</th>\n",
       "      <td>1000.000000</td>\n",
       "      <td>30720.000000</td>\n",
       "      <td>3000.000000</td>\n",
       "      <td>1950.000000</td>\n",
       "      <td>200.000000</td>\n",
       "      <td>3.000000</td>\n",
       "      <td>3.000000</td>\n",
       "      <td>NaN</td>\n",
       "    </tr>\n",
       "  </tbody>\n",
       "</table>\n",
       "</div>"
      ],
      "text/plain": [
       "        messages_included  mb_per_month_included  minutes_included  \\\n",
       "count            2.000000               2.000000          2.000000   \n",
       "unique                NaN                    NaN               NaN   \n",
       "top                   NaN                    NaN               NaN   \n",
       "freq                  NaN                    NaN               NaN   \n",
       "mean           525.000000           23040.000000       1750.000000   \n",
       "std            671.751442           10861.160159       1767.766953   \n",
       "min             50.000000           15360.000000        500.000000   \n",
       "25%            287.500000           19200.000000       1125.000000   \n",
       "50%            525.000000           23040.000000       1750.000000   \n",
       "75%            762.500000           26880.000000       2375.000000   \n",
       "max           1000.000000           30720.000000       3000.000000   \n",
       "\n",
       "        rub_monthly_fee  rub_per_gb  rub_per_message  rub_per_minute  \\\n",
       "count          2.000000    2.000000         2.000000        2.000000   \n",
       "unique              NaN         NaN              NaN             NaN   \n",
       "top                 NaN         NaN              NaN             NaN   \n",
       "freq                NaN         NaN              NaN             NaN   \n",
       "mean        1250.000000  175.000000         2.000000        2.000000   \n",
       "std          989.949494   35.355339         1.414214        1.414214   \n",
       "min          550.000000  150.000000         1.000000        1.000000   \n",
       "25%          900.000000  162.500000         1.500000        1.500000   \n",
       "50%         1250.000000  175.000000         2.000000        2.000000   \n",
       "75%         1600.000000  187.500000         2.500000        2.500000   \n",
       "max         1950.000000  200.000000         3.000000        3.000000   \n",
       "\n",
       "       tariff_name  \n",
       "count            2  \n",
       "unique           2  \n",
       "top          ultra  \n",
       "freq             1  \n",
       "mean           NaN  \n",
       "std            NaN  \n",
       "min            NaN  \n",
       "25%            NaN  \n",
       "50%            NaN  \n",
       "75%            NaN  \n",
       "max            NaN  "
      ]
     },
     "execution_count": 14,
     "metadata": {},
     "output_type": "execute_result"
    }
   ],
   "source": [
    "# Вывод информации о tariffs\n",
    "tariffs.info()\n",
    "tariffs.describe(include='all')"
   ]
  },
  {
   "cell_type": "code",
   "execution_count": 15,
   "metadata": {},
   "outputs": [
    {
     "data": {
      "text/plain": [
       "messages_included        0\n",
       "mb_per_month_included    0\n",
       "minutes_included         0\n",
       "rub_monthly_fee          0\n",
       "rub_per_gb               0\n",
       "rub_per_message          0\n",
       "rub_per_minute           0\n",
       "tariff_name              0\n",
       "dtype: int64"
      ]
     },
     "execution_count": 15,
     "metadata": {},
     "output_type": "execute_result"
    }
   ],
   "source": [
    "# Подсчёт пропусков\n",
    "tariffs.isna().sum()"
   ]
  },
  {
   "cell_type": "markdown",
   "metadata": {},
   "source": [
    "В исходных данных о тарифах 2 строки и `8 столбцов`:\n",
    "* `messages_included` — количество сообщений в месяц, включённых в абонентскую плату **[int64] - норм**\n",
    "* `mb_per_month_included` — объём интернет-трафика, включённого в абонентскую плату (в мегабайтах) **[int64] - норм**\n",
    "* `minutes_included` — количество минут разговора в месяц, включённых в абонентскую плату **[int64] - норм**\n",
    "* `rub_monthly_fee` — ежемесячная абонентская плата в рублях **[int64] - норм**\n",
    "* `rub_per_gb` — стоимость дополнительного гигабайта интернет-трафика сверх тарифного пакета (1 гигабайт = 1024 мегабайта) **[int64] - норм**\n",
    "* `rub_per_message` — стоимость отправки сообщения сверх тарифного пакета **[int64] - норм**\n",
    "* `rub_per_minute` — стоимость минуты разговора сверх тарифного пакета (например, если в тарифе 100 минут разговора в месяц, то со 101 минуты будет взиматься плата) **[int64] - норм**\n",
    "* `tariff_name` — название тарифа **[object] - норм**"
   ]
  },
  {
   "cell_type": "markdown",
   "metadata": {},
   "source": [
    "### Вывод"
   ]
  },
  {
   "cell_type": "markdown",
   "metadata": {},
   "source": [
    "В источнике данных с информацией об интернет-сессиях есть **столбец дублирующий индексацию** `Unnamed: 0`, в предобработке данных он будет исключен, но при последующих выгрузках желательно сохранять файлы с данными без индекса, используя `index=False`.\n",
    "\n",
    "Есть **несоответствия в типах данных** (см.выше красным шрифтом): churn_date, reg_date, call_date, duration, message_date, session_date.\n",
    "\n",
    "**Пропусков значений нет**, за исключением столбца `churn_date` в данных с информацией о пользователях (если значение пропущено, то тариф ещё действовал на момент выгрузки данных)."
   ]
  },
  {
   "cell_type": "markdown",
   "metadata": {},
   "source": [
    "## Предобработка данных"
   ]
  },
  {
   "cell_type": "markdown",
   "metadata": {},
   "source": [
    "Приведите данные к нужным типам;\n",
    "\n",
    "Найдите и исправьте ошибки в данных, если они есть.\n",
    "\n",
    "Поясните, какие ошибки вы нашли и как их исправили. В данных вы найдёте звонки с нулевой продолжительностью. Это не ошибка: нулями обозначены пропущенные звонки, поэтому их не нужно удалять.\n"
   ]
  },
  {
   "cell_type": "markdown",
   "metadata": {},
   "source": [
    "### Users (информация о пользователях)"
   ]
  },
  {
   "cell_type": "markdown",
   "metadata": {},
   "source": [
    "#### user_id"
   ]
  },
  {
   "cell_type": "code",
   "execution_count": 16,
   "metadata": {},
   "outputs": [
    {
     "data": {
      "text/plain": [
       "500"
      ]
     },
     "execution_count": 16,
     "metadata": {},
     "output_type": "execute_result"
    }
   ],
   "source": [
    "# Количество уникальных значений:\n",
    "users['user_id'].nunique()"
   ]
  },
  {
   "cell_type": "markdown",
   "metadata": {},
   "source": [
    "Замечаний нет (аномальные/отрицательные значения отсутсвуют, тип данных соответствует, пропусков и повторов нет)."
   ]
  },
  {
   "cell_type": "markdown",
   "metadata": {},
   "source": [
    "#### age"
   ]
  },
  {
   "cell_type": "code",
   "execution_count": 17,
   "metadata": {},
   "outputs": [
    {
     "data": {
      "text/plain": [
       "array([18, 19, 20, 21, 22, 23, 24, 25, 26, 27, 28, 29, 30, 31, 32, 33, 34,\n",
       "       35, 36, 37, 38, 39, 40, 41, 42, 43, 44, 45, 46, 47, 48, 49, 50, 51,\n",
       "       52, 53, 54, 55, 56, 57, 58, 59, 60, 61, 62, 63, 64, 65, 66, 67, 68,\n",
       "       69, 70, 71, 72, 73, 74, 75])"
      ]
     },
     "execution_count": 17,
     "metadata": {},
     "output_type": "execute_result"
    }
   ],
   "source": [
    "# Уникальные значения:\n",
    "users['age'].sort_values().unique()"
   ]
  },
  {
   "cell_type": "markdown",
   "metadata": {},
   "source": [
    "Замечаний нет (аномальные/отрицательные значения отсутсвуют, тип данных соответствует, пропусков нет, минимальные/максимальные значения не вызывают сомнений)."
   ]
  },
  {
   "cell_type": "markdown",
   "metadata": {},
   "source": [
    "#### churn_date"
   ]
  },
  {
   "cell_type": "code",
   "execution_count": 18,
   "metadata": {},
   "outputs": [
    {
     "data": {
      "text/plain": [
       "count                               38\n",
       "mean     2018-11-13 00:37:53.684210432\n",
       "min                2018-08-17 00:00:00\n",
       "25%                2018-10-14 00:00:00\n",
       "50%                2018-11-24 00:00:00\n",
       "75%                2018-12-15 12:00:00\n",
       "max                2018-12-30 00:00:00\n",
       "Name: churn_date, dtype: object"
      ]
     },
     "execution_count": 18,
     "metadata": {},
     "output_type": "execute_result"
    }
   ],
   "source": [
    "# Изменение типа данных\n",
    "users['churn_date'] = pd.to_datetime(users['churn_date'], format='%Y-%m-%d')\n",
    "\n",
    "# Округление до 1 дня\n",
    "users['churn_date'] = users['churn_date'].dt.round('1D')\n",
    "\n",
    "# Проверка аномальных значений\n",
    "users['churn_date'].describe(datetime_is_numeric=True)"
   ]
  },
  {
   "cell_type": "markdown",
   "metadata": {},
   "source": [
    "Крайние даты: 2018-08-17 и 2018-12-30. Аномальные значения отсутствуют."
   ]
  },
  {
   "cell_type": "markdown",
   "metadata": {},
   "source": [
    "#### city"
   ]
  },
  {
   "cell_type": "code",
   "execution_count": 19,
   "metadata": {},
   "outputs": [
    {
     "data": {
      "text/plain": [
       "array(['Архангельск', 'Астрахань', 'Балашиха', 'Барнаул', 'Белгород',\n",
       "       'Брянск', 'Владивосток', 'Владикавказ', 'Владимир', 'Волгоград',\n",
       "       'Волжский', 'Вологда', 'Воронеж', 'Грозный', 'Екатеринбург',\n",
       "       'Иваново', 'Ижевск', 'Иркутск', 'Казань', 'Калининград', 'Калуга',\n",
       "       'Кемерово', 'Киров', 'Кострома', 'Краснодар', 'Красноярск',\n",
       "       'Курган', 'Курск', 'Липецк', 'Магнитогорск', 'Махачкала', 'Москва',\n",
       "       'Мурманск', 'Набережные Челны', 'Нижневартовск', 'Нижний Новгород',\n",
       "       'Нижний Тагил', 'Новокузнецк', 'Новороссийск', 'Новосибирск',\n",
       "       'Омск', 'Оренбург', 'Орёл', 'Пенза', 'Пермь', 'Петрозаводск',\n",
       "       'Подольск', 'Ростов-на-Дону', 'Рязань', 'Самара',\n",
       "       'Санкт-Петербург', 'Саранск', 'Саратов', 'Севастополь', 'Смоленск',\n",
       "       'Сочи', 'Ставрополь', 'Стерлитамак', 'Сургут', 'Тамбов', 'Тверь',\n",
       "       'Тольятти', 'Томск', 'Тула', 'Тюмень', 'Улан-Удэ', 'Ульяновск',\n",
       "       'Уфа', 'Хабаровск', 'Химки', 'Чебоксары', 'Челябинск', 'Череповец',\n",
       "       'Чита', 'Якутск', 'Ярославль'], dtype=object)"
      ]
     },
     "execution_count": 19,
     "metadata": {},
     "output_type": "execute_result"
    }
   ],
   "source": [
    "# Уникальные значения:\n",
    "users['city'].sort_values().unique()"
   ]
  },
  {
   "cell_type": "markdown",
   "metadata": {},
   "source": [
    "В уникальных значениях наблюдается единство стиля. Неявные дубликаты и пропуски отсутствуют."
   ]
  },
  {
   "cell_type": "markdown",
   "metadata": {},
   "source": [
    "#### first_name"
   ]
  },
  {
   "cell_type": "code",
   "execution_count": 20,
   "metadata": {},
   "outputs": [
    {
     "data": {
      "text/plain": [
       "array(['Авксентий', 'Агата', 'Агафья', 'Агнесса', 'Адам', 'Аким', 'Аксён',\n",
       "       'Алан', 'Алевтина', 'Александр', 'Александра', 'Алексей', 'Алина',\n",
       "       'Алиса', 'Алла', 'Альберта', 'Альбин', 'Альфред', 'Алёна',\n",
       "       'Анатолий', 'Анвар', 'Ангелина', 'Андрей', 'Анжелика', 'Анита',\n",
       "       'Антонина', 'Анфиса', 'Арина', 'Арнольд', 'Арсен', 'Арсений',\n",
       "       'Артемий', 'Артём', 'Аурелия', 'Афанасий', 'Ахмет', 'Аюна',\n",
       "       'Белла', 'Берта', 'Борис', 'Вадим', 'Валентина', 'Валерий',\n",
       "       'Валерия', 'Варвара', 'Варлам', 'Василиса', 'Вениамин', 'Вера',\n",
       "       'Вероника', 'Веселина', 'Виктор', 'Виктория', 'Виолетта',\n",
       "       'Виталий', 'Владимир', 'Владислав', 'Владислава', 'Всеволод',\n",
       "       'Габриель', 'Габриэль', 'Гайдар', 'Галина', 'Гарри', 'Гектор',\n",
       "       'Гелена', 'Геннадий', 'Геодар', 'Георгий', 'Георгина', 'Геральд',\n",
       "       'Герасим', 'Глеб', 'Гордей', 'Григорий', 'Дайна', 'Дана', 'Даниил',\n",
       "       'Даниэла', 'Дебора', 'Демьян', 'Денис', 'Джемма', 'Джозефина',\n",
       "       'Джулия', 'Динара', 'Доминика', 'Ева', 'Евгений', 'Евгения',\n",
       "       'Евдокия', 'Евфросинья', 'Егор', 'Екатерина', 'Елена', 'Еремей',\n",
       "       'Ермолай', 'Ефим', 'Зинаида', 'Иван', 'Игнатий', 'Игорь',\n",
       "       'Изольда', 'Илзе', 'Илья', 'Инара', 'Инга', 'Инесса', 'Инна',\n",
       "       'Иннокентий', 'Ириней', 'Исаак', 'Исак', 'Иулиан', 'Камилла',\n",
       "       'Карина', 'Каролина', 'Касьян', 'Ким', 'Клавдия', 'Клара',\n",
       "       'Клариса', 'Константин', 'Кристина', 'Ксения', 'Кузьма',\n",
       "       'Лаврентий', 'Лариса', 'Лаура', 'Лев', 'Лейла', 'Леон', 'Леонид',\n",
       "       'Леонтий', 'Леся', 'Лидия', 'Лилия', 'Лия', 'Лола', 'Лолита',\n",
       "       'Луиза', 'Лукий', 'Людмила', 'Мадина', 'Майя', 'Максим',\n",
       "       'Мальвина', 'Мануэла', 'Маргарита', 'Марианна', 'Мариетта',\n",
       "       'Марина', 'Марица', 'Мария', 'Марта', 'Марьяна', 'Матвей',\n",
       "       'Милана', 'Милена', 'Милица', 'Мирослава', 'Михаил', 'Мстислав',\n",
       "       'Надежда', 'Наида', 'Наталья', 'Нателла', 'Нелли', 'Николай',\n",
       "       'Нина', 'Оксана', 'Олег', 'Олеся', 'Онисим', 'Павел', 'Пётр',\n",
       "       'Радим', 'Радислав', 'Радомир', 'Раиса', 'Рауль', 'Рафаил',\n",
       "       'Рафаэль', 'Рашид', 'Рем', 'Ренальд', 'Ренат', 'Рената', 'Ринат',\n",
       "       'Роберт', 'Роза', 'Розалия', 'Роксана', 'Ростислав', 'Рубен',\n",
       "       'Рудольф', 'Рузана', 'Руслан', 'Руслана', 'Рустам', 'Рустем',\n",
       "       'Рустэм', 'Рэм', 'Сабина', 'Саида', 'Сара', 'Светлана',\n",
       "       'Святослав', 'Семён', 'Серафима', 'Симона', 'Снежана', 'Софья',\n",
       "       'Станислав', 'Степан', 'Таира', 'Таисия', 'Тала', 'Тамара',\n",
       "       'Татьяна', 'Тимофей', 'Тихон', 'Трифон', 'Трофим', 'Фаддей',\n",
       "       'Фёдор', 'Харитон', 'Эдита', 'Эдуард', 'Элеонора', 'Элина', 'Элла',\n",
       "       'Эллада', 'Эльвира', 'Эльга', 'Эльза', 'Эльмира', 'Эмилия',\n",
       "       'Эсмеральда', 'Юзефа', 'Юлий', 'Юлия', 'Юна', 'Юрий', 'Яков',\n",
       "       'Яна'], dtype=object)"
      ]
     },
     "execution_count": 20,
     "metadata": {},
     "output_type": "execute_result"
    }
   ],
   "source": [
    "# Уникальные значения:\n",
    "users['first_name'].sort_values().unique()"
   ]
  },
  {
   "cell_type": "markdown",
   "metadata": {},
   "source": [
    "В уникальных значениях наблюдается единство стиля. Аномальные значения и пропуски отсутствуют."
   ]
  },
  {
   "cell_type": "markdown",
   "metadata": {},
   "source": [
    "#### last_name"
   ]
  },
  {
   "cell_type": "code",
   "execution_count": 21,
   "metadata": {},
   "outputs": [
    {
     "data": {
      "text/plain": [
       "array(['Ёлчина', 'Ёркин', 'Ёркина', 'Ёрохов', 'Ёрохова', 'Абаимов',\n",
       "       'Абакумов', 'Абакшина', 'Абалакова', 'Абалдуева', 'Абалкин',\n",
       "       'Абашкин', 'Абашкина', 'Абдулина', 'Абоимов', 'Абрамович',\n",
       "       'Абрамцев', 'Абрамычева', 'Абрашина', 'Абрикосова', 'Авдеев',\n",
       "       'Авдеенко', 'Авдонюшкин', 'Авдушева', 'Авдышев', 'Авдюков',\n",
       "       'Авраамова', 'Авраменко', 'Авринский', 'Аврорин', 'Авроров',\n",
       "       'Авросимова', 'Авросинова', 'Авсейкина', 'Авчинникова', 'Агаев',\n",
       "       'Агаева', 'Агапеева', 'Агеева', 'Адаменко', 'Адамов', 'Азаров',\n",
       "       'Азерников', 'Азимова', 'Акимов', 'Акимчин', 'Акимычева',\n",
       "       'Акиндинов', 'Акинин', 'Акинфьев', 'Аксёнов', 'Акуленко',\n",
       "       'Александрова', 'Александрович', 'Александрюк', 'Алексеева',\n",
       "       'Алексеенко', 'Алексеичев', 'Аленникова', 'Алесин', 'Алехина',\n",
       "       'Алешин', 'Алешина', 'Алешкова', 'Алиев', 'Алфеева', 'Алфимов',\n",
       "       'Алфимова', 'Алымова', 'Алютин', 'Алюшина', 'Алёшко', 'Алёшкова',\n",
       "       'Амелин', 'Амелишко', 'Амельченко', 'Ананьева', 'Андреенко',\n",
       "       'Андрейкин', 'Андрейчук', 'Андрианов', 'Андропов', 'Андропова',\n",
       "       'Андрющенко', 'Аникина', 'Аничкина', 'Анищенко', 'Антипов',\n",
       "       'Антоненко', 'Антонова', 'Антропов', 'Антропова', 'Аракина',\n",
       "       'Аракчеев', 'Аркадьев', 'Арсенкова', 'Артемчук', 'Артемьев',\n",
       "       'Артёменко', 'Артёмов', 'Артёшин', 'Архипова', 'Асафьева',\n",
       "       'Астапенко', 'Астапов', 'Астафьева', 'Афанасенко', 'Афанасова',\n",
       "       'Афинин', 'Афонасьева', 'Афонин', 'Афонина', 'Ахмадулин',\n",
       "       'Ахматов', 'Ахматулин', 'Ахматулина', 'Ахмедов', 'Бабушкина',\n",
       "       'Барсуков', 'Басова', 'Безруков', 'Беликова', 'Белова',\n",
       "       'Белозёров', 'Белоусова', 'Беляев', 'Беляева', 'Белякова',\n",
       "       'Березина', 'Блинова', 'Блохин', 'Блохина', 'Боброва', 'Бобылёв',\n",
       "       'Богданов', 'Богданова', 'Болдырев', 'Болдырева', 'Бондарев',\n",
       "       'Борисова', 'Бородин', 'Бородина', 'Булгаков', 'Бычкова',\n",
       "       'Васильева', 'Верещагин', 'Верещагина', 'Веселов', 'Вешнякова',\n",
       "       'Вишневский', 'Вишняков', 'Воронин', 'Воронина', 'Гаврилова',\n",
       "       'Галкин', 'Глушков', 'Голованова', 'Гончаров', 'Горбачева',\n",
       "       'Горбунов', 'Горлов', 'Григорьев', 'Григорьева', 'Гришина',\n",
       "       'Громова', 'Давыдов', 'Демидов', 'Демьянов', 'Демьянова',\n",
       "       'Денисова', 'Добрынин', 'Добрынина', 'Дорофеева', 'Дроздов',\n",
       "       'Дубинина', 'Дьячкова', 'Евсеев', 'Ежов', 'Елизаров', 'Емельянова',\n",
       "       'Еремин', 'Ермилов', 'Ермолаев', 'Ерофеев', 'Ерофеева', 'Ефремов',\n",
       "       'Жарова', 'Жданов', 'Жукова', 'Завьялова', 'Зайцев', 'Зеленина',\n",
       "       'Зимина', 'Золотов', 'Золотова', 'Зубков', 'Зубкова', 'Зуев',\n",
       "       'Зыков', 'Иванов', 'Иванова', 'Игнатова', 'Игнатьев', 'Игнатьева',\n",
       "       'Измайлова', 'Ильин', 'Ильина', 'Кабанова', 'Казакова', 'Казанцев',\n",
       "       'Калинина', 'Капустин', 'Карасев', 'Карасева', 'Карташова',\n",
       "       'Касьянова', 'Киреева', 'Кириллов', 'Киселёв', 'Климова',\n",
       "       'Ковалева', 'Козлов', 'Козлова', 'Козырева', 'Колесова', 'Колобов',\n",
       "       'Кольцова', 'Кондратов', 'Коновалова', 'Кононов', 'Константинова',\n",
       "       'Корнеева', 'Корнилов', 'Корнилова', 'Корольков', 'Королькова',\n",
       "       'Короткова', 'Коршунов', 'Костин', 'Костина', 'Кочергина',\n",
       "       'Кочетков', 'Кочетов', 'Кошелева', 'Кравцов', 'Красильников',\n",
       "       'Круглов', 'Крылова', 'Крюков', 'Крюкова', 'Крючков', 'Кузнецов',\n",
       "       'Кукушкин', 'Кулагина', 'Кулешова', 'Куприянов', 'Курочкин',\n",
       "       'Лазарева', 'Лапина', 'Лаптева', 'Ларин', 'Ларина', 'Ларионова',\n",
       "       'Латышева', 'Лебедев', 'Левин', 'Леонтьев', 'Литвинов', 'Лобанова',\n",
       "       'Логинов', 'Лосева', 'Лукин', 'Любимов', 'Макаров', 'Макарова',\n",
       "       'Макеев', 'Малахов', 'Малинин', 'Малинина', 'Малышев', 'Мальцев',\n",
       "       'Мамонтова', 'Марков', 'Масленникова', 'Матвеев', 'Медведев',\n",
       "       'Мельникова', 'Меркулова', 'Минаев', 'Минаева', 'Мишин',\n",
       "       'Молчанова', 'Моргунов', 'Морозов', 'Муравьева', 'Муравьёв',\n",
       "       'Мясникова', 'Наумов', 'Некрасов', 'Нестеров', 'Нестерова',\n",
       "       'Нечаева', 'Никонов', 'Никулин', 'Новикова', 'Носкова',\n",
       "       'Овчинников', 'Одинцов', 'Одинцова', 'Озерова', 'Орлов',\n",
       "       'Павловский', 'Панов', 'Пантелеева', 'Панфилов', 'Панфилова',\n",
       "       'Парфенов', 'Петухова', 'Пирогова', 'Платонова', 'Покровский',\n",
       "       'Поликарпова', 'Поляков', 'Пономарев', 'Пономарева', 'Пономарёв',\n",
       "       'Попов', 'Прокофьева', 'Пугачева', 'Ракова', 'Родина', 'Родионов',\n",
       "       'Родионова', 'Розанова', 'Рудаков', 'Румянцева', 'Русанова',\n",
       "       'Рыбакова', 'Рябов', 'Савельева', 'Сазонов', 'Сазонова',\n",
       "       'Сальников', 'Сафонова', 'Сахарова', 'Свиридов', 'Севастьянова',\n",
       "       'Седова', 'Селезнев', 'Селезнева', 'Селиванова', 'Семенова',\n",
       "       'Семин', 'Семина', 'Семёнов', 'Сергеева', 'Серебрякова', 'Серов',\n",
       "       'Силин', 'Симонова', 'Синицын', 'Ситникова', 'Соколов', 'Соловьев',\n",
       "       'Соловьёв', 'Сомова', 'Сорокин', 'Софронов', 'Спиридонова',\n",
       "       'Субботина', 'Суслов', 'Суслова', 'Сухарев', 'Сухарева', 'Сухова',\n",
       "       'Сысоев', 'Тарасов', 'Тарасова', 'Терехова', 'Тетерина',\n",
       "       'Тимофеев', 'Тимофеева', 'Тихомирова', 'Тихонов', 'Толкачев',\n",
       "       'Третьякова', 'Троицкий', 'Трофимов', 'Трофимова', 'Трошин',\n",
       "       'Уваров', 'Устинов', 'Устинова', 'Фадеева', 'Федосеев', 'Фетисова',\n",
       "       'Филатов', 'Фокин', 'Фокина', 'Фомин', 'Фролов', 'Фёдоров',\n",
       "       'Худяков', 'Чернов', 'Черный', 'Чернышев', 'Черняев', 'Чеснокова',\n",
       "       'Чижова', 'Чистякова', 'Чумаков', 'Шарапов', 'Шарапова', 'Шарова',\n",
       "       'Швецов', 'Шевцов', 'Шевцова', 'Щербакова', 'Яшина'], dtype=object)"
      ]
     },
     "execution_count": 21,
     "metadata": {},
     "output_type": "execute_result"
    }
   ],
   "source": [
    "# Уникальные значения:\n",
    "users['last_name'].sort_values().unique()"
   ]
  },
  {
   "cell_type": "markdown",
   "metadata": {},
   "source": [
    "В уникальных значениях наблюдается единство стиля. Аномальные значения и пропуски отсутствуют."
   ]
  },
  {
   "cell_type": "markdown",
   "metadata": {},
   "source": [
    "#### reg_date"
   ]
  },
  {
   "cell_type": "code",
   "execution_count": 22,
   "metadata": {
    "scrolled": true
   },
   "outputs": [
    {
     "data": {
      "text/plain": [
       "count                              500\n",
       "mean     2018-06-30 18:57:35.999999744\n",
       "min                2018-01-01 00:00:00\n",
       "25%                2018-04-07 12:00:00\n",
       "50%                2018-07-02 12:00:00\n",
       "75%                2018-09-29 00:00:00\n",
       "max                2018-12-31 00:00:00\n",
       "Name: reg_date, dtype: object"
      ]
     },
     "execution_count": 22,
     "metadata": {},
     "output_type": "execute_result"
    }
   ],
   "source": [
    "# Изменение типа данных\n",
    "users['reg_date'] = pd.to_datetime(users['reg_date'], format='%Y-%m-%d')\n",
    "\n",
    "# Округление до 1 дня\n",
    "users['reg_date'] = users['reg_date'].dt.round('1D')\n",
    "\n",
    "# Проверка аномальных значений\n",
    "users['reg_date'].describe(datetime_is_numeric=True)"
   ]
  },
  {
   "cell_type": "markdown",
   "metadata": {},
   "source": [
    "Крайние даты: 2018-01-01 и 2018-12-31. Аномальные значения отсутствуют."
   ]
  },
  {
   "cell_type": "markdown",
   "metadata": {},
   "source": [
    "#### tariff"
   ]
  },
  {
   "cell_type": "code",
   "execution_count": 23,
   "metadata": {},
   "outputs": [
    {
     "data": {
      "text/plain": [
       "array(['smart', 'ultra'], dtype=object)"
      ]
     },
     "execution_count": 23,
     "metadata": {},
     "output_type": "execute_result"
    }
   ],
   "source": [
    "# Уникальные значения:\n",
    "users['tariff'].sort_values().unique()"
   ]
  },
  {
   "cell_type": "markdown",
   "metadata": {},
   "source": [
    "Замечаний нет (аномальные/отрицательные значения отсутсвуют, тип данных соответствует, пропусков и повторов нет)."
   ]
  },
  {
   "cell_type": "markdown",
   "metadata": {},
   "source": [
    "### Calls (информация о звонках)"
   ]
  },
  {
   "cell_type": "markdown",
   "metadata": {},
   "source": [
    "#### id"
   ]
  },
  {
   "cell_type": "code",
   "execution_count": 24,
   "metadata": {},
   "outputs": [
    {
     "data": {
      "text/plain": [
       "202607"
      ]
     },
     "execution_count": 24,
     "metadata": {},
     "output_type": "execute_result"
    }
   ],
   "source": [
    "# Количество уникальных значений:\n",
    "calls['id'].nunique()"
   ]
  },
  {
   "cell_type": "markdown",
   "metadata": {},
   "source": [
    "Замечаний нет (аномальные/отрицательные значения отсутсвуют, тип данных соответствует, пропусков и повторов нет).\n",
    "\n",
    "Логика записи данных: `user_id`_`порядковый номер звонка`."
   ]
  },
  {
   "cell_type": "markdown",
   "metadata": {},
   "source": [
    "#### call_date"
   ]
  },
  {
   "cell_type": "code",
   "execution_count": 25,
   "metadata": {},
   "outputs": [
    {
     "data": {
      "text/plain": [
       "count                           202607\n",
       "mean     2018-09-02 20:01:37.583992832\n",
       "min                2018-01-01 00:00:00\n",
       "25%                2018-07-05 00:00:00\n",
       "50%                2018-09-17 00:00:00\n",
       "75%                2018-11-14 00:00:00\n",
       "max                2018-12-31 00:00:00\n",
       "Name: call_date, dtype: object"
      ]
     },
     "execution_count": 25,
     "metadata": {},
     "output_type": "execute_result"
    }
   ],
   "source": [
    "# Изменение типа данных\n",
    "calls['call_date'] = pd.to_datetime(calls['call_date'], format='%Y-%m-%d')\n",
    "\n",
    "# Округление до 1 дня\n",
    "calls['call_date'] = calls['call_date'].dt.round('1D')\n",
    "\n",
    "# Проверка аномальных значений\n",
    "calls['call_date'].describe(datetime_is_numeric=True)"
   ]
  },
  {
   "cell_type": "markdown",
   "metadata": {},
   "source": [
    "Крайние даты: 2018-01-01 и 2018-12-31. Аномальные значения отсутствуют."
   ]
  },
  {
   "cell_type": "markdown",
   "metadata": {},
   "source": [
    "#### duration"
   ]
  },
  {
   "cell_type": "code",
   "execution_count": 26,
   "metadata": {},
   "outputs": [
    {
     "data": {
      "text/plain": [
       "array([0.000e+00, 1.000e-02, 2.000e-02, ..., 3.647e+01, 3.735e+01,\n",
       "       3.800e+01])"
      ]
     },
     "execution_count": 26,
     "metadata": {},
     "output_type": "execute_result"
    }
   ],
   "source": [
    "# Уникальные значения:\n",
    "calls['duration'].sort_values().unique()"
   ]
  },
  {
   "cell_type": "code",
   "execution_count": 27,
   "metadata": {},
   "outputs": [],
   "source": [
    "# Округление до целого в большую сторону в соответствии с примечанием к тарифам + изменение типа\n",
    "calls['duration'] = np.ceil(calls.duration).astype(int)"
   ]
  },
  {
   "cell_type": "markdown",
   "metadata": {},
   "source": [
    "Замечаний нет (аномальные/отрицательные значения отсутсвуют, тип данных соответствует, пропусков нет)."
   ]
  },
  {
   "cell_type": "markdown",
   "metadata": {},
   "source": [
    "#### user_id"
   ]
  },
  {
   "cell_type": "code",
   "execution_count": 28,
   "metadata": {},
   "outputs": [
    {
     "data": {
      "text/plain": [
       "492"
      ]
     },
     "execution_count": 28,
     "metadata": {},
     "output_type": "execute_result"
    }
   ],
   "source": [
    "# Количество уникальных значений:\n",
    "calls['user_id'].nunique()"
   ]
  },
  {
   "cell_type": "markdown",
   "metadata": {},
   "source": [
    "Замечаний нет (аномальные/отрицательные значения отсутсвуют, тип данных соответствует, пропусков нет)."
   ]
  },
  {
   "cell_type": "markdown",
   "metadata": {},
   "source": [
    "### Messages (информация о сообщениях)"
   ]
  },
  {
   "cell_type": "markdown",
   "metadata": {},
   "source": [
    "#### id"
   ]
  },
  {
   "cell_type": "code",
   "execution_count": 29,
   "metadata": {},
   "outputs": [
    {
     "data": {
      "text/plain": [
       "123036"
      ]
     },
     "execution_count": 29,
     "metadata": {},
     "output_type": "execute_result"
    }
   ],
   "source": [
    "# Количество уникальных значений:\n",
    "messages['id'].nunique()"
   ]
  },
  {
   "cell_type": "markdown",
   "metadata": {},
   "source": [
    "Замечаний нет (аномальные/отрицательные значения отсутсвуют, тип данных соответствует, пропусков и повторов нет).\n",
    "\n",
    "Логика записи данных: `user_id`_`порядковый номер сообщения`."
   ]
  },
  {
   "cell_type": "markdown",
   "metadata": {},
   "source": [
    "#### message_date"
   ]
  },
  {
   "cell_type": "code",
   "execution_count": 30,
   "metadata": {},
   "outputs": [
    {
     "data": {
      "text/plain": [
       "count                           123036\n",
       "mean     2018-09-04 15:28:42.227640576\n",
       "min                2018-01-02 00:00:00\n",
       "25%                2018-07-09 00:00:00\n",
       "50%                2018-09-20 00:00:00\n",
       "75%                2018-11-14 00:00:00\n",
       "max                2018-12-31 00:00:00\n",
       "Name: message_date, dtype: object"
      ]
     },
     "execution_count": 30,
     "metadata": {},
     "output_type": "execute_result"
    }
   ],
   "source": [
    "# Изменение типа данных\n",
    "messages['message_date'] = pd.to_datetime(messages['message_date'], format='%Y-%m-%d')\n",
    "\n",
    "# Округление до 1 дня\n",
    "messages['message_date'] = messages['message_date'].dt.round('1D')\n",
    "\n",
    "# Проверка аномальных значений\n",
    "messages['message_date'].describe(datetime_is_numeric=True)"
   ]
  },
  {
   "cell_type": "markdown",
   "metadata": {},
   "source": [
    "Крайние даты: 2018-01-02 и 2018-12-31. Аномальные значения отсутствуют."
   ]
  },
  {
   "cell_type": "markdown",
   "metadata": {},
   "source": [
    "#### user_id"
   ]
  },
  {
   "cell_type": "code",
   "execution_count": 31,
   "metadata": {},
   "outputs": [
    {
     "data": {
      "text/plain": [
       "426"
      ]
     },
     "execution_count": 31,
     "metadata": {},
     "output_type": "execute_result"
    }
   ],
   "source": [
    "# Количество уникальных значений:\n",
    "messages['user_id'].nunique()"
   ]
  },
  {
   "cell_type": "markdown",
   "metadata": {},
   "source": [
    "Замечаний нет (аномальные/отрицательные значения отсутсвуют, тип данных соответствует, пропусков нет)."
   ]
  },
  {
   "cell_type": "markdown",
   "metadata": {},
   "source": [
    "### Internet (информация об интернет-сессиях)"
   ]
  },
  {
   "cell_type": "markdown",
   "metadata": {},
   "source": [
    "#### Unnamed: 0"
   ]
  },
  {
   "cell_type": "code",
   "execution_count": 32,
   "metadata": {},
   "outputs": [],
   "source": [
    "# Удаление столбца 'Unnamed: 0'\n",
    "internet.drop(['Unnamed: 0'], axis=1, inplace=True)"
   ]
  },
  {
   "cell_type": "markdown",
   "metadata": {},
   "source": [
    "#### id"
   ]
  },
  {
   "cell_type": "code",
   "execution_count": 33,
   "metadata": {},
   "outputs": [
    {
     "data": {
      "text/plain": [
       "149396"
      ]
     },
     "execution_count": 33,
     "metadata": {},
     "output_type": "execute_result"
    }
   ],
   "source": [
    "# Количество уникальных значений:\n",
    "internet['id'].nunique()"
   ]
  },
  {
   "cell_type": "markdown",
   "metadata": {},
   "source": [
    "Замечаний нет (аномальные/отрицательные значения отсутсвуют, тип данных соответствует, пропусков и повторов нет).\n",
    "\n",
    "Логика записи данных: `user_id`_`порядковый номер сообщения`."
   ]
  },
  {
   "cell_type": "markdown",
   "metadata": {},
   "source": [
    "#### mb_used"
   ]
  },
  {
   "cell_type": "code",
   "execution_count": 34,
   "metadata": {},
   "outputs": [
    {
     "data": {
      "text/plain": [
       "array([0.00000e+00, 3.00000e-02, 4.00000e-02, ..., 1.65155e+03,\n",
       "       1.70275e+03, 1.72483e+03])"
      ]
     },
     "execution_count": 34,
     "metadata": {},
     "output_type": "execute_result"
    }
   ],
   "source": [
    "# Уникальные значения:\n",
    "internet['mb_used'].sort_values().unique()"
   ]
  },
  {
   "cell_type": "markdown",
   "metadata": {},
   "source": [
    "Замечаний нет (аномальные/отрицательные значения отсутсвуют, тип данных соответствует, пропусков нет)."
   ]
  },
  {
   "cell_type": "markdown",
   "metadata": {},
   "source": [
    "#### session_date"
   ]
  },
  {
   "cell_type": "code",
   "execution_count": 35,
   "metadata": {},
   "outputs": [
    {
     "data": {
      "text/plain": [
       "count                           149396\n",
       "mean     2018-09-02 12:55:35.221826560\n",
       "min                2018-01-01 00:00:00\n",
       "25%                2018-07-05 00:00:00\n",
       "50%                2018-09-17 00:00:00\n",
       "75%                2018-11-14 00:00:00\n",
       "max                2018-12-31 00:00:00\n",
       "Name: session_date, dtype: object"
      ]
     },
     "execution_count": 35,
     "metadata": {},
     "output_type": "execute_result"
    }
   ],
   "source": [
    "# Изменение типа данных\n",
    "internet['session_date'] = pd.to_datetime(internet['session_date'], format='%Y-%m-%d')\n",
    "\n",
    "# Округление до 1 дня\n",
    "internet['session_date'] = internet['session_date'].dt.round('1D')\n",
    "\n",
    "# Проверка аномальных значений\n",
    "internet['session_date'].describe(datetime_is_numeric=True)"
   ]
  },
  {
   "cell_type": "markdown",
   "metadata": {},
   "source": [
    "Крайние даты: 2018-01-01 и 2018-12-31. Аномальные значения отсутствуют."
   ]
  },
  {
   "cell_type": "markdown",
   "metadata": {},
   "source": [
    "#### user_id"
   ]
  },
  {
   "cell_type": "code",
   "execution_count": 36,
   "metadata": {
    "scrolled": true
   },
   "outputs": [
    {
     "data": {
      "text/plain": [
       "497"
      ]
     },
     "execution_count": 36,
     "metadata": {},
     "output_type": "execute_result"
    }
   ],
   "source": [
    "# Количество уникальных значений:\n",
    "internet['user_id'].nunique()"
   ]
  },
  {
   "cell_type": "markdown",
   "metadata": {},
   "source": [
    "Замечаний нет (аномальные/отрицательные значения отсутсвуют, тип данных соответствует, пропусков нет)."
   ]
  },
  {
   "cell_type": "markdown",
   "metadata": {},
   "source": [
    "### Tariffs (информация о тарифах)"
   ]
  },
  {
   "cell_type": "markdown",
   "metadata": {},
   "source": [
    "#### mb_per_month_included"
   ]
  },
  {
   "cell_type": "code",
   "execution_count": 37,
   "metadata": {},
   "outputs": [
    {
     "data": {
      "text/plain": [
       "array([15360, 30720])"
      ]
     },
     "execution_count": 37,
     "metadata": {},
     "output_type": "execute_result"
    }
   ],
   "source": [
    "# Уникальные значения:\n",
    "tariffs['mb_per_month_included'].sort_values().unique()"
   ]
  },
  {
   "cell_type": "markdown",
   "metadata": {},
   "source": [
    "Замечаний нет (аномальные/отрицательные значения отсутсвуют, тип данных соответствует, пропусков нет)."
   ]
  },
  {
   "cell_type": "markdown",
   "metadata": {},
   "source": [
    "#### minutes_included"
   ]
  },
  {
   "cell_type": "code",
   "execution_count": 38,
   "metadata": {},
   "outputs": [
    {
     "data": {
      "text/plain": [
       "array([ 500, 3000])"
      ]
     },
     "execution_count": 38,
     "metadata": {},
     "output_type": "execute_result"
    }
   ],
   "source": [
    "# Уникальные значения:\n",
    "tariffs['minutes_included'].sort_values().unique()"
   ]
  },
  {
   "cell_type": "markdown",
   "metadata": {},
   "source": [
    "Замечаний нет (аномальные/отрицательные значения отсутсвуют, тип данных соответствует, пропусков нет)."
   ]
  },
  {
   "cell_type": "markdown",
   "metadata": {},
   "source": [
    "#### rub_monthly_fee"
   ]
  },
  {
   "cell_type": "code",
   "execution_count": 39,
   "metadata": {},
   "outputs": [
    {
     "data": {
      "text/plain": [
       "array([ 550, 1950])"
      ]
     },
     "execution_count": 39,
     "metadata": {},
     "output_type": "execute_result"
    }
   ],
   "source": [
    "# Уникальные значения:\n",
    "tariffs['rub_monthly_fee'].sort_values().unique()"
   ]
  },
  {
   "cell_type": "markdown",
   "metadata": {},
   "source": [
    "Замечаний нет (аномальные/отрицательные значения отсутсвуют, тип данных соответствует, пропусков нет)."
   ]
  },
  {
   "cell_type": "markdown",
   "metadata": {},
   "source": [
    "#### rub_per_gb "
   ]
  },
  {
   "cell_type": "code",
   "execution_count": 40,
   "metadata": {},
   "outputs": [
    {
     "data": {
      "text/plain": [
       "array([150, 200])"
      ]
     },
     "execution_count": 40,
     "metadata": {},
     "output_type": "execute_result"
    }
   ],
   "source": [
    "# Уникальные значения:\n",
    "tariffs['rub_per_gb'].sort_values().unique()"
   ]
  },
  {
   "cell_type": "markdown",
   "metadata": {},
   "source": [
    "Замечаний нет (аномальные/отрицательные значения отсутсвуют, тип данных соответствует, пропусков нет)."
   ]
  },
  {
   "cell_type": "markdown",
   "metadata": {},
   "source": [
    "#### rub_per_message"
   ]
  },
  {
   "cell_type": "code",
   "execution_count": 41,
   "metadata": {},
   "outputs": [
    {
     "data": {
      "text/plain": [
       "array([1, 3])"
      ]
     },
     "execution_count": 41,
     "metadata": {},
     "output_type": "execute_result"
    }
   ],
   "source": [
    "# Уникальные значения:\n",
    "tariffs['rub_per_message'].sort_values().unique()"
   ]
  },
  {
   "cell_type": "markdown",
   "metadata": {},
   "source": [
    "Замечаний нет (аномальные/отрицательные значения отсутсвуют, тип данных соответствует, пропусков нет)."
   ]
  },
  {
   "cell_type": "markdown",
   "metadata": {},
   "source": [
    "#### rub_per_minute "
   ]
  },
  {
   "cell_type": "code",
   "execution_count": 42,
   "metadata": {},
   "outputs": [
    {
     "data": {
      "text/plain": [
       "array([1, 3])"
      ]
     },
     "execution_count": 42,
     "metadata": {},
     "output_type": "execute_result"
    }
   ],
   "source": [
    "# Уникальные значения:\n",
    "tariffs['rub_per_minute'].sort_values().unique()"
   ]
  },
  {
   "cell_type": "markdown",
   "metadata": {},
   "source": [
    "Замечаний нет (аномальные/отрицательные значения отсутсвуют, тип данных соответствует, пропусков нет)."
   ]
  },
  {
   "cell_type": "markdown",
   "metadata": {},
   "source": [
    "#### tariff_name"
   ]
  },
  {
   "cell_type": "code",
   "execution_count": 43,
   "metadata": {},
   "outputs": [
    {
     "name": "stdout",
     "output_type": "stream",
     "text": [
      "<class 'pandas.core.frame.DataFrame'>\n",
      "RangeIndex: 2 entries, 0 to 1\n",
      "Data columns (total 8 columns):\n",
      " #   Column                 Non-Null Count  Dtype \n",
      "---  ------                 --------------  ----- \n",
      " 0   messages_included      2 non-null      int64 \n",
      " 1   mb_per_month_included  2 non-null      int64 \n",
      " 2   minutes_included       2 non-null      int64 \n",
      " 3   rub_monthly_fee        2 non-null      int64 \n",
      " 4   rub_per_gb             2 non-null      int64 \n",
      " 5   rub_per_message        2 non-null      int64 \n",
      " 6   rub_per_minute         2 non-null      int64 \n",
      " 7   tariff                 2 non-null      object\n",
      "dtypes: int64(7), object(1)\n",
      "memory usage: 256.0+ bytes\n"
     ]
    }
   ],
   "source": [
    "# Уникальные значения:\n",
    "tariffs['tariff_name'].sort_values().unique()\n",
    "\n",
    "# Переименование столбца для последующего объединения данных\n",
    "tariffs = tariffs.rename(columns={'tariff_name': 'tariff'})\n",
    "\n",
    "tariffs.info()"
   ]
  },
  {
   "cell_type": "markdown",
   "metadata": {},
   "source": [
    "Замечаний нет (аномальные/отрицательные значения отсутсвуют, тип данных соответствует, пропусков нет)."
   ]
  },
  {
   "cell_type": "markdown",
   "metadata": {},
   "source": [
    "### Итоговая проверка"
   ]
  },
  {
   "cell_type": "code",
   "execution_count": 44,
   "metadata": {},
   "outputs": [
    {
     "name": "stdout",
     "output_type": "stream",
     "text": [
      "<class 'pandas.core.frame.DataFrame'>\n",
      "RangeIndex: 500 entries, 0 to 499\n",
      "Data columns (total 8 columns):\n",
      " #   Column      Non-Null Count  Dtype         \n",
      "---  ------      --------------  -----         \n",
      " 0   user_id     500 non-null    int64         \n",
      " 1   age         500 non-null    int64         \n",
      " 2   churn_date  38 non-null     datetime64[ns]\n",
      " 3   city        500 non-null    object        \n",
      " 4   first_name  500 non-null    object        \n",
      " 5   last_name   500 non-null    object        \n",
      " 6   reg_date    500 non-null    datetime64[ns]\n",
      " 7   tariff      500 non-null    object        \n",
      "dtypes: datetime64[ns](2), int64(2), object(4)\n",
      "memory usage: 31.4+ KB\n"
     ]
    }
   ],
   "source": [
    "# Вывод информации о users\n",
    "users.info()"
   ]
  },
  {
   "cell_type": "code",
   "execution_count": 45,
   "metadata": {},
   "outputs": [
    {
     "name": "stdout",
     "output_type": "stream",
     "text": [
      "<class 'pandas.core.frame.DataFrame'>\n",
      "RangeIndex: 202607 entries, 0 to 202606\n",
      "Data columns (total 4 columns):\n",
      " #   Column     Non-Null Count   Dtype         \n",
      "---  ------     --------------   -----         \n",
      " 0   id         202607 non-null  object        \n",
      " 1   call_date  202607 non-null  datetime64[ns]\n",
      " 2   duration   202607 non-null  int64         \n",
      " 3   user_id    202607 non-null  int64         \n",
      "dtypes: datetime64[ns](1), int64(2), object(1)\n",
      "memory usage: 6.2+ MB\n"
     ]
    }
   ],
   "source": [
    "# Вывод информации о calls\n",
    "calls.info()"
   ]
  },
  {
   "cell_type": "code",
   "execution_count": 46,
   "metadata": {},
   "outputs": [
    {
     "name": "stdout",
     "output_type": "stream",
     "text": [
      "<class 'pandas.core.frame.DataFrame'>\n",
      "RangeIndex: 123036 entries, 0 to 123035\n",
      "Data columns (total 3 columns):\n",
      " #   Column        Non-Null Count   Dtype         \n",
      "---  ------        --------------   -----         \n",
      " 0   id            123036 non-null  object        \n",
      " 1   message_date  123036 non-null  datetime64[ns]\n",
      " 2   user_id       123036 non-null  int64         \n",
      "dtypes: datetime64[ns](1), int64(1), object(1)\n",
      "memory usage: 2.8+ MB\n"
     ]
    }
   ],
   "source": [
    "# Вывод информации о messages\n",
    "messages.info()"
   ]
  },
  {
   "cell_type": "code",
   "execution_count": 47,
   "metadata": {},
   "outputs": [
    {
     "name": "stdout",
     "output_type": "stream",
     "text": [
      "<class 'pandas.core.frame.DataFrame'>\n",
      "RangeIndex: 149396 entries, 0 to 149395\n",
      "Data columns (total 4 columns):\n",
      " #   Column        Non-Null Count   Dtype         \n",
      "---  ------        --------------   -----         \n",
      " 0   id            149396 non-null  object        \n",
      " 1   mb_used       149396 non-null  float64       \n",
      " 2   session_date  149396 non-null  datetime64[ns]\n",
      " 3   user_id       149396 non-null  int64         \n",
      "dtypes: datetime64[ns](1), float64(1), int64(1), object(1)\n",
      "memory usage: 4.6+ MB\n"
     ]
    }
   ],
   "source": [
    "# Вывод информации о internet\n",
    "internet.info()"
   ]
  },
  {
   "cell_type": "code",
   "execution_count": 48,
   "metadata": {
    "scrolled": true
   },
   "outputs": [
    {
     "name": "stdout",
     "output_type": "stream",
     "text": [
      "<class 'pandas.core.frame.DataFrame'>\n",
      "RangeIndex: 2 entries, 0 to 1\n",
      "Data columns (total 8 columns):\n",
      " #   Column                 Non-Null Count  Dtype \n",
      "---  ------                 --------------  ----- \n",
      " 0   messages_included      2 non-null      int64 \n",
      " 1   mb_per_month_included  2 non-null      int64 \n",
      " 2   minutes_included       2 non-null      int64 \n",
      " 3   rub_monthly_fee        2 non-null      int64 \n",
      " 4   rub_per_gb             2 non-null      int64 \n",
      " 5   rub_per_message        2 non-null      int64 \n",
      " 6   rub_per_minute         2 non-null      int64 \n",
      " 7   tariff                 2 non-null      object\n",
      "dtypes: int64(7), object(1)\n",
      "memory usage: 256.0+ bytes\n"
     ]
    }
   ],
   "source": [
    "# Вывод информации о tariffs\n",
    "tariffs.info()"
   ]
  },
  {
   "cell_type": "code",
   "execution_count": 49,
   "metadata": {},
   "outputs": [
    {
     "data": {
      "text/plain": [
       "0"
      ]
     },
     "execution_count": 49,
     "metadata": {},
     "output_type": "execute_result"
    }
   ],
   "source": [
    "# Подсчёт явных дубликатов users\n",
    "users.duplicated().sum()"
   ]
  },
  {
   "cell_type": "code",
   "execution_count": 50,
   "metadata": {},
   "outputs": [
    {
     "data": {
      "text/plain": [
       "0"
      ]
     },
     "execution_count": 50,
     "metadata": {},
     "output_type": "execute_result"
    }
   ],
   "source": [
    "# Подсчёт явных дубликатов calls\n",
    "calls.duplicated().sum()"
   ]
  },
  {
   "cell_type": "code",
   "execution_count": 51,
   "metadata": {},
   "outputs": [
    {
     "data": {
      "text/plain": [
       "0"
      ]
     },
     "execution_count": 51,
     "metadata": {},
     "output_type": "execute_result"
    }
   ],
   "source": [
    "# Подсчёт явных дубликатов messages\n",
    "messages.duplicated().sum()"
   ]
  },
  {
   "cell_type": "code",
   "execution_count": 52,
   "metadata": {},
   "outputs": [
    {
     "data": {
      "text/plain": [
       "0"
      ]
     },
     "execution_count": 52,
     "metadata": {},
     "output_type": "execute_result"
    }
   ],
   "source": [
    "# Подсчёт явных дубликатов internet\n",
    "internet.duplicated().sum()"
   ]
  },
  {
   "cell_type": "code",
   "execution_count": 53,
   "metadata": {},
   "outputs": [
    {
     "data": {
      "text/plain": [
       "0"
      ]
     },
     "execution_count": 53,
     "metadata": {},
     "output_type": "execute_result"
    }
   ],
   "source": [
    "# Подсчёт явных дубликатов tariffs\n",
    "tariffs.duplicated().sum()"
   ]
  },
  {
   "cell_type": "markdown",
   "metadata": {},
   "source": [
    "## Расчёты и добавление результатов в таблицу"
   ]
  },
  {
   "cell_type": "markdown",
   "metadata": {},
   "source": [
    "### Количество сделанных звонков и израсходованных минут разговора по месяцам"
   ]
  },
  {
   "cell_type": "code",
   "execution_count": 54,
   "metadata": {},
   "outputs": [
    {
     "data": {
      "text/html": [
       "<div>\n",
       "<style scoped>\n",
       "    .dataframe tbody tr th:only-of-type {\n",
       "        vertical-align: middle;\n",
       "    }\n",
       "\n",
       "    .dataframe tbody tr th {\n",
       "        vertical-align: top;\n",
       "    }\n",
       "\n",
       "    .dataframe thead th {\n",
       "        text-align: right;\n",
       "    }\n",
       "</style>\n",
       "<table border=\"1\" class=\"dataframe\">\n",
       "  <thead>\n",
       "    <tr style=\"text-align: right;\">\n",
       "      <th></th>\n",
       "      <th>user_id</th>\n",
       "      <th>month</th>\n",
       "      <th>calls_time</th>\n",
       "      <th>calls_amount</th>\n",
       "    </tr>\n",
       "  </thead>\n",
       "  <tbody>\n",
       "    <tr>\n",
       "      <th>0</th>\n",
       "      <td>1000</td>\n",
       "      <td>5</td>\n",
       "      <td>159</td>\n",
       "      <td>22</td>\n",
       "    </tr>\n",
       "    <tr>\n",
       "      <th>1</th>\n",
       "      <td>1000</td>\n",
       "      <td>6</td>\n",
       "      <td>172</td>\n",
       "      <td>43</td>\n",
       "    </tr>\n",
       "    <tr>\n",
       "      <th>2</th>\n",
       "      <td>1000</td>\n",
       "      <td>7</td>\n",
       "      <td>340</td>\n",
       "      <td>47</td>\n",
       "    </tr>\n",
       "    <tr>\n",
       "      <th>3</th>\n",
       "      <td>1000</td>\n",
       "      <td>8</td>\n",
       "      <td>408</td>\n",
       "      <td>52</td>\n",
       "    </tr>\n",
       "    <tr>\n",
       "      <th>4</th>\n",
       "      <td>1000</td>\n",
       "      <td>9</td>\n",
       "      <td>466</td>\n",
       "      <td>58</td>\n",
       "    </tr>\n",
       "  </tbody>\n",
       "</table>\n",
       "</div>"
      ],
      "text/plain": [
       "   user_id  month  calls_time  calls_amount\n",
       "0     1000      5         159            22\n",
       "1     1000      6         172            43\n",
       "2     1000      7         340            47\n",
       "3     1000      8         408            52\n",
       "4     1000      9         466            58"
      ]
     },
     "execution_count": 54,
     "metadata": {},
     "output_type": "execute_result"
    }
   ],
   "source": [
    "# Добавление столбца с номером месяца\n",
    "calls['month'] = calls['call_date'].dt.month\n",
    "\n",
    "# Создание сгруппированного датафрейма\n",
    "calls_grouped = calls.groupby(['user_id', 'month'], as_index=False).agg({'duration': ['sum','count']})\n",
    "\n",
    "# Переимнование столбцов для исключения двойной индексации\n",
    "calls_grouped.columns = ['user_id', 'month', 'calls_time', 'calls_amount']\n",
    "\n",
    "# Проверка\n",
    "calls_grouped.head()"
   ]
  },
  {
   "cell_type": "markdown",
   "metadata": {},
   "source": [
    "### Количество отправленных сообщений по месяцам"
   ]
  },
  {
   "cell_type": "code",
   "execution_count": 55,
   "metadata": {},
   "outputs": [
    {
     "data": {
      "text/html": [
       "<div>\n",
       "<style scoped>\n",
       "    .dataframe tbody tr th:only-of-type {\n",
       "        vertical-align: middle;\n",
       "    }\n",
       "\n",
       "    .dataframe tbody tr th {\n",
       "        vertical-align: top;\n",
       "    }\n",
       "\n",
       "    .dataframe thead th {\n",
       "        text-align: right;\n",
       "    }\n",
       "</style>\n",
       "<table border=\"1\" class=\"dataframe\">\n",
       "  <thead>\n",
       "    <tr style=\"text-align: right;\">\n",
       "      <th></th>\n",
       "      <th>user_id</th>\n",
       "      <th>month</th>\n",
       "      <th>message_amount</th>\n",
       "    </tr>\n",
       "  </thead>\n",
       "  <tbody>\n",
       "    <tr>\n",
       "      <th>0</th>\n",
       "      <td>1000</td>\n",
       "      <td>5</td>\n",
       "      <td>22</td>\n",
       "    </tr>\n",
       "    <tr>\n",
       "      <th>1</th>\n",
       "      <td>1000</td>\n",
       "      <td>6</td>\n",
       "      <td>60</td>\n",
       "    </tr>\n",
       "    <tr>\n",
       "      <th>2</th>\n",
       "      <td>1000</td>\n",
       "      <td>7</td>\n",
       "      <td>75</td>\n",
       "    </tr>\n",
       "    <tr>\n",
       "      <th>3</th>\n",
       "      <td>1000</td>\n",
       "      <td>8</td>\n",
       "      <td>81</td>\n",
       "    </tr>\n",
       "    <tr>\n",
       "      <th>4</th>\n",
       "      <td>1000</td>\n",
       "      <td>9</td>\n",
       "      <td>57</td>\n",
       "    </tr>\n",
       "  </tbody>\n",
       "</table>\n",
       "</div>"
      ],
      "text/plain": [
       "   user_id  month  message_amount\n",
       "0     1000      5              22\n",
       "1     1000      6              60\n",
       "2     1000      7              75\n",
       "3     1000      8              81\n",
       "4     1000      9              57"
      ]
     },
     "execution_count": 55,
     "metadata": {},
     "output_type": "execute_result"
    }
   ],
   "source": [
    "# Добавление столбца с номером месяца\n",
    "messages['month'] = messages['message_date'].dt.month\n",
    "\n",
    "# Создание сгруппированного датафрейма и переименование столбца\n",
    "messages_grouped = messages.groupby(['user_id', 'month'], as_index=False).agg({'message_date': 'count'}).rename(columns={'message_date':'message_amount'})\n",
    "\n",
    "# Проверка\n",
    "messages_grouped.head()"
   ]
  },
  {
   "cell_type": "markdown",
   "metadata": {},
   "source": [
    "### Объем израсходованного интернет-трафика по месяцам"
   ]
  },
  {
   "cell_type": "code",
   "execution_count": 56,
   "metadata": {},
   "outputs": [
    {
     "data": {
      "text/html": [
       "<div>\n",
       "<style scoped>\n",
       "    .dataframe tbody tr th:only-of-type {\n",
       "        vertical-align: middle;\n",
       "    }\n",
       "\n",
       "    .dataframe tbody tr th {\n",
       "        vertical-align: top;\n",
       "    }\n",
       "\n",
       "    .dataframe thead th {\n",
       "        text-align: right;\n",
       "    }\n",
       "</style>\n",
       "<table border=\"1\" class=\"dataframe\">\n",
       "  <thead>\n",
       "    <tr style=\"text-align: right;\">\n",
       "      <th></th>\n",
       "      <th>user_id</th>\n",
       "      <th>month</th>\n",
       "      <th>mb_used_month</th>\n",
       "    </tr>\n",
       "  </thead>\n",
       "  <tbody>\n",
       "    <tr>\n",
       "      <th>0</th>\n",
       "      <td>1000</td>\n",
       "      <td>5</td>\n",
       "      <td>2253.49</td>\n",
       "    </tr>\n",
       "    <tr>\n",
       "      <th>1</th>\n",
       "      <td>1000</td>\n",
       "      <td>6</td>\n",
       "      <td>23233.77</td>\n",
       "    </tr>\n",
       "    <tr>\n",
       "      <th>2</th>\n",
       "      <td>1000</td>\n",
       "      <td>7</td>\n",
       "      <td>14003.64</td>\n",
       "    </tr>\n",
       "    <tr>\n",
       "      <th>3</th>\n",
       "      <td>1000</td>\n",
       "      <td>8</td>\n",
       "      <td>14055.93</td>\n",
       "    </tr>\n",
       "    <tr>\n",
       "      <th>4</th>\n",
       "      <td>1000</td>\n",
       "      <td>9</td>\n",
       "      <td>14568.91</td>\n",
       "    </tr>\n",
       "  </tbody>\n",
       "</table>\n",
       "</div>"
      ],
      "text/plain": [
       "   user_id  month  mb_used_month\n",
       "0     1000      5        2253.49\n",
       "1     1000      6       23233.77\n",
       "2     1000      7       14003.64\n",
       "3     1000      8       14055.93\n",
       "4     1000      9       14568.91"
      ]
     },
     "execution_count": 56,
     "metadata": {},
     "output_type": "execute_result"
    }
   ],
   "source": [
    "# Добавление столбца с номером месяца\n",
    "internet['month'] = internet['session_date'].dt.month\n",
    "\n",
    "# Создание сгруппированного датафрейма и переименование столбца\n",
    "internet_grouped = internet.groupby(['user_id', 'month'], as_index=False).agg({'mb_used': 'sum'}).rename(columns={'mb_used':'mb_used_month'})\n",
    "\n",
    "# Проверка\n",
    "internet_grouped.head()"
   ]
  },
  {
   "cell_type": "markdown",
   "metadata": {},
   "source": [
    "### Помесячная выручка с каждого пользователя (revenue)"
   ]
  },
  {
   "cell_type": "code",
   "execution_count": 57,
   "metadata": {},
   "outputs": [
    {
     "name": "stdout",
     "output_type": "stream",
     "text": [
      "<class 'pandas.core.frame.DataFrame'>\n",
      "Int64Index: 6000 entries, 0 to 5999\n",
      "Data columns (total 26 columns):\n",
      " #   Column                 Non-Null Count  Dtype         \n",
      "---  ------                 --------------  -----         \n",
      " 0   user_id                6000 non-null   int64         \n",
      " 1   age                    6000 non-null   int64         \n",
      " 2   churn_date             456 non-null    datetime64[ns]\n",
      " 3   city                   6000 non-null   object        \n",
      " 4   first_name             6000 non-null   object        \n",
      " 5   last_name              6000 non-null   object        \n",
      " 6   reg_date               6000 non-null   datetime64[ns]\n",
      " 7   tariff                 6000 non-null   object        \n",
      " 8   month                  6000 non-null   int64         \n",
      " 9   messages_included      6000 non-null   int64         \n",
      " 10  mb_per_month_included  6000 non-null   int64         \n",
      " 11  minutes_included       6000 non-null   int64         \n",
      " 12  rub_monthly_fee        6000 non-null   int64         \n",
      " 13  rub_per_gb             6000 non-null   int64         \n",
      " 14  rub_per_message        6000 non-null   int64         \n",
      " 15  rub_per_minute         6000 non-null   int64         \n",
      " 16  calls_time             6000 non-null   int64         \n",
      " 17  calls_amount           6000 non-null   int64         \n",
      " 18  message_amount         6000 non-null   int64         \n",
      " 19  mb_used_month          6000 non-null   float64       \n",
      " 20  over_limit_calls       6000 non-null   int64         \n",
      " 21  over_limit_message     6000 non-null   int64         \n",
      " 22  over_limit_gb          6000 non-null   int64         \n",
      " 23  reg_on                 6000 non-null   int64         \n",
      " 24  churn_off              6000 non-null   float64       \n",
      " 25  revenue                6000 non-null   float64       \n",
      "dtypes: datetime64[ns](2), float64(3), int64(17), object(4)\n",
      "memory usage: 1.2+ MB\n"
     ]
    },
    {
     "data": {
      "text/html": [
       "<div>\n",
       "<style scoped>\n",
       "    .dataframe tbody tr th:only-of-type {\n",
       "        vertical-align: middle;\n",
       "    }\n",
       "\n",
       "    .dataframe tbody tr th {\n",
       "        vertical-align: top;\n",
       "    }\n",
       "\n",
       "    .dataframe thead th {\n",
       "        text-align: right;\n",
       "    }\n",
       "</style>\n",
       "<table border=\"1\" class=\"dataframe\">\n",
       "  <thead>\n",
       "    <tr style=\"text-align: right;\">\n",
       "      <th></th>\n",
       "      <th>user_id</th>\n",
       "      <th>age</th>\n",
       "      <th>churn_date</th>\n",
       "      <th>city</th>\n",
       "      <th>first_name</th>\n",
       "      <th>last_name</th>\n",
       "      <th>reg_date</th>\n",
       "      <th>tariff</th>\n",
       "      <th>month</th>\n",
       "      <th>messages_included</th>\n",
       "      <th>mb_per_month_included</th>\n",
       "      <th>minutes_included</th>\n",
       "      <th>rub_monthly_fee</th>\n",
       "      <th>rub_per_gb</th>\n",
       "      <th>rub_per_message</th>\n",
       "      <th>rub_per_minute</th>\n",
       "      <th>calls_time</th>\n",
       "      <th>calls_amount</th>\n",
       "      <th>message_amount</th>\n",
       "      <th>mb_used_month</th>\n",
       "      <th>over_limit_calls</th>\n",
       "      <th>over_limit_message</th>\n",
       "      <th>over_limit_gb</th>\n",
       "      <th>reg_on</th>\n",
       "      <th>churn_off</th>\n",
       "      <th>revenue</th>\n",
       "    </tr>\n",
       "  </thead>\n",
       "  <tbody>\n",
       "    <tr>\n",
       "      <th>0</th>\n",
       "      <td>1000</td>\n",
       "      <td>52</td>\n",
       "      <td>NaT</td>\n",
       "      <td>Краснодар</td>\n",
       "      <td>Рафаил</td>\n",
       "      <td>Верещагин</td>\n",
       "      <td>2018-05-25</td>\n",
       "      <td>ultra</td>\n",
       "      <td>1</td>\n",
       "      <td>1000</td>\n",
       "      <td>30720</td>\n",
       "      <td>3000</td>\n",
       "      <td>1950</td>\n",
       "      <td>150</td>\n",
       "      <td>1</td>\n",
       "      <td>1</td>\n",
       "      <td>0</td>\n",
       "      <td>0</td>\n",
       "      <td>0</td>\n",
       "      <td>0.00</td>\n",
       "      <td>0</td>\n",
       "      <td>0</td>\n",
       "      <td>0</td>\n",
       "      <td>0</td>\n",
       "      <td>1.0</td>\n",
       "      <td>0.0</td>\n",
       "    </tr>\n",
       "    <tr>\n",
       "      <th>1</th>\n",
       "      <td>1000</td>\n",
       "      <td>52</td>\n",
       "      <td>NaT</td>\n",
       "      <td>Краснодар</td>\n",
       "      <td>Рафаил</td>\n",
       "      <td>Верещагин</td>\n",
       "      <td>2018-05-25</td>\n",
       "      <td>ultra</td>\n",
       "      <td>2</td>\n",
       "      <td>1000</td>\n",
       "      <td>30720</td>\n",
       "      <td>3000</td>\n",
       "      <td>1950</td>\n",
       "      <td>150</td>\n",
       "      <td>1</td>\n",
       "      <td>1</td>\n",
       "      <td>0</td>\n",
       "      <td>0</td>\n",
       "      <td>0</td>\n",
       "      <td>0.00</td>\n",
       "      <td>0</td>\n",
       "      <td>0</td>\n",
       "      <td>0</td>\n",
       "      <td>0</td>\n",
       "      <td>1.0</td>\n",
       "      <td>0.0</td>\n",
       "    </tr>\n",
       "    <tr>\n",
       "      <th>2</th>\n",
       "      <td>1000</td>\n",
       "      <td>52</td>\n",
       "      <td>NaT</td>\n",
       "      <td>Краснодар</td>\n",
       "      <td>Рафаил</td>\n",
       "      <td>Верещагин</td>\n",
       "      <td>2018-05-25</td>\n",
       "      <td>ultra</td>\n",
       "      <td>3</td>\n",
       "      <td>1000</td>\n",
       "      <td>30720</td>\n",
       "      <td>3000</td>\n",
       "      <td>1950</td>\n",
       "      <td>150</td>\n",
       "      <td>1</td>\n",
       "      <td>1</td>\n",
       "      <td>0</td>\n",
       "      <td>0</td>\n",
       "      <td>0</td>\n",
       "      <td>0.00</td>\n",
       "      <td>0</td>\n",
       "      <td>0</td>\n",
       "      <td>0</td>\n",
       "      <td>0</td>\n",
       "      <td>1.0</td>\n",
       "      <td>0.0</td>\n",
       "    </tr>\n",
       "    <tr>\n",
       "      <th>3</th>\n",
       "      <td>1000</td>\n",
       "      <td>52</td>\n",
       "      <td>NaT</td>\n",
       "      <td>Краснодар</td>\n",
       "      <td>Рафаил</td>\n",
       "      <td>Верещагин</td>\n",
       "      <td>2018-05-25</td>\n",
       "      <td>ultra</td>\n",
       "      <td>4</td>\n",
       "      <td>1000</td>\n",
       "      <td>30720</td>\n",
       "      <td>3000</td>\n",
       "      <td>1950</td>\n",
       "      <td>150</td>\n",
       "      <td>1</td>\n",
       "      <td>1</td>\n",
       "      <td>0</td>\n",
       "      <td>0</td>\n",
       "      <td>0</td>\n",
       "      <td>0.00</td>\n",
       "      <td>0</td>\n",
       "      <td>0</td>\n",
       "      <td>0</td>\n",
       "      <td>0</td>\n",
       "      <td>1.0</td>\n",
       "      <td>0.0</td>\n",
       "    </tr>\n",
       "    <tr>\n",
       "      <th>4</th>\n",
       "      <td>1000</td>\n",
       "      <td>52</td>\n",
       "      <td>NaT</td>\n",
       "      <td>Краснодар</td>\n",
       "      <td>Рафаил</td>\n",
       "      <td>Верещагин</td>\n",
       "      <td>2018-05-25</td>\n",
       "      <td>ultra</td>\n",
       "      <td>5</td>\n",
       "      <td>1000</td>\n",
       "      <td>30720</td>\n",
       "      <td>3000</td>\n",
       "      <td>1950</td>\n",
       "      <td>150</td>\n",
       "      <td>1</td>\n",
       "      <td>1</td>\n",
       "      <td>159</td>\n",
       "      <td>22</td>\n",
       "      <td>22</td>\n",
       "      <td>2253.49</td>\n",
       "      <td>0</td>\n",
       "      <td>0</td>\n",
       "      <td>0</td>\n",
       "      <td>1</td>\n",
       "      <td>1.0</td>\n",
       "      <td>1950.0</td>\n",
       "    </tr>\n",
       "  </tbody>\n",
       "</table>\n",
       "</div>"
      ],
      "text/plain": [
       "   user_id  age churn_date       city first_name  last_name   reg_date tariff  \\\n",
       "0     1000   52        NaT  Краснодар     Рафаил  Верещагин 2018-05-25  ultra   \n",
       "1     1000   52        NaT  Краснодар     Рафаил  Верещагин 2018-05-25  ultra   \n",
       "2     1000   52        NaT  Краснодар     Рафаил  Верещагин 2018-05-25  ultra   \n",
       "3     1000   52        NaT  Краснодар     Рафаил  Верещагин 2018-05-25  ultra   \n",
       "4     1000   52        NaT  Краснодар     Рафаил  Верещагин 2018-05-25  ultra   \n",
       "\n",
       "   month  messages_included  mb_per_month_included  minutes_included  \\\n",
       "0      1               1000                  30720              3000   \n",
       "1      2               1000                  30720              3000   \n",
       "2      3               1000                  30720              3000   \n",
       "3      4               1000                  30720              3000   \n",
       "4      5               1000                  30720              3000   \n",
       "\n",
       "   rub_monthly_fee  rub_per_gb  rub_per_message  rub_per_minute  calls_time  \\\n",
       "0             1950         150                1               1           0   \n",
       "1             1950         150                1               1           0   \n",
       "2             1950         150                1               1           0   \n",
       "3             1950         150                1               1           0   \n",
       "4             1950         150                1               1         159   \n",
       "\n",
       "   calls_amount  message_amount  mb_used_month  over_limit_calls  \\\n",
       "0             0               0           0.00                 0   \n",
       "1             0               0           0.00                 0   \n",
       "2             0               0           0.00                 0   \n",
       "3             0               0           0.00                 0   \n",
       "4            22              22        2253.49                 0   \n",
       "\n",
       "   over_limit_message  over_limit_gb  reg_on  churn_off  revenue  \n",
       "0                   0              0       0        1.0      0.0  \n",
       "1                   0              0       0        1.0      0.0  \n",
       "2                   0              0       0        1.0      0.0  \n",
       "3                   0              0       0        1.0      0.0  \n",
       "4                   0              0       1        1.0   1950.0  "
      ]
     },
     "execution_count": 57,
     "metadata": {},
     "output_type": "execute_result"
    }
   ],
   "source": [
    "# Добавление столбца с месяцем в данные о пользователях\n",
    "users['month'] = ''\n",
    "\n",
    "# Формирование датафрейма на основе имеющейся информации\n",
    "df = pd.DataFrame()\n",
    "index = 0\n",
    "for i in range(len(users)): # повтор для каждой строки в датафрейме\n",
    "    for j in range(1, 12+1): # сколько строк необходимо вставить (12 месяцев)\n",
    "        row = users.iloc[i] # выделяем строку из исходного датафрейма\n",
    "        df = df.append(row,ignore_index=True) # добавляем в новый датафрейм\n",
    "        df.at[index, 'month'] = j # присваиваем месяц\n",
    "        index+=1 # сдвигаем счетчик\n",
    "\n",
    "# Восстановление расположения столбцов в соответствии с users\n",
    "df = df.reindex(columns=['user_id', 'age', 'churn_date', 'city', 'first_name', 'last_name', 'reg_date', 'tariff', 'month'])\n",
    "\n",
    "# Изменение типа данных\n",
    "df['user_id'] = df['user_id'].astype('int64')\n",
    "df['age'] = df['age'].astype('int64')\n",
    "df['month'] = df['month'].astype('int64')\n",
    "\n",
    "# Добавление информации о звонках, сообщениях, интернете, тарифе\n",
    "df = df.merge(tariffs, on='tariff', how='left')\n",
    "df = df.merge(calls_grouped, on=['user_id', 'month'], how='left')\n",
    "df = df.merge(messages_grouped, on=['user_id', 'month'], how='left')\n",
    "df = df.merge(internet_grouped, on=['user_id', 'month'], how='left')\n",
    "\n",
    "# Заполнение пропусков нулевыми значениями\n",
    "df['calls_time'] = df['calls_time'].fillna(0)\n",
    "df['calls_amount'] = df['calls_amount'].fillna(0)\n",
    "df['message_amount'] = df['message_amount'].fillna(0)\n",
    "df['mb_used_month'] = df['mb_used_month'].fillna(0)\n",
    "\n",
    "# Изменение типа данных\n",
    "df['calls_time'] = df['calls_time'].astype('int64')\n",
    "df['calls_amount'] = df['calls_amount'].astype('int64')\n",
    "df['message_amount'] = df['message_amount'].astype('int64')\n",
    "\n",
    "# Вычитание бесплатного лимита из суммарного количетсва звонков, сообщений и интернет-трафика\n",
    "df['over_limit_calls'] = df['calls_time'] - df['minutes_included']\n",
    "df['over_limit_message'] = df['message_amount'] - df['messages_included']\n",
    "df['over_limit_gb'] = (df['mb_used_month'] - df['mb_per_month_included']) / 1024\n",
    "\n",
    "# Исключение отрицательных значений\n",
    "df.loc[df['over_limit_calls']<0, 'over_limit_calls'] = 0\n",
    "df.loc[df['over_limit_message']<0, 'over_limit_message'] = 0\n",
    "df.loc[df['over_limit_gb']<0, 'over_limit_gb'] = 0\n",
    "\n",
    "# Округление трафика до Гб в большую сторону и корреткировка типа данных\n",
    "df['over_limit_gb'] = np.ceil(df.over_limit_gb).astype(int)\n",
    "\n",
    "# Создание столбца с коэффициентом 0 / 1 для месяцев после начала регистрации\n",
    "df['reg_on'] = df['month'] - df['reg_date'].dt.month # вычитание месяца подключения\n",
    "df.loc[df['reg_on']>=0, 'reg_on'] = 1 # 0  и положиельные значения - тариф подключен\n",
    "df.loc[df['reg_on']<0, 'reg_on'] = 0 # отрицательные значения - тариф не подключен\n",
    "\n",
    "# Создание столбца с коэффициентом 0 / 1 для месяцев до окончания регистрации\n",
    "df['churn_off'] = df['churn_date'].dt.month - df['month']\n",
    "df['churn_off'] = df['churn_off'].fillna(1)\n",
    "df.loc[df['churn_off']>=0, 'churn_off'] = 1 # 0  и положиельные значения - тариф подключен\n",
    "df.loc[df['churn_off']<0, 'churn_off'] = 0 # отрицательные значения - тариф не подключен\n",
    "\n",
    "# Расчет выручки\n",
    "df['revenue'] = (df['over_limit_calls'] * df['rub_per_minute']\n",
    "                 + df['over_limit_message'] * df['rub_per_message']\n",
    "                 + df['over_limit_gb'] * df['rub_per_gb']\n",
    "                 + df['rub_monthly_fee']\n",
    "                ) * df['reg_on'] * df['churn_off']\n",
    "\n",
    "# Проверка\n",
    "df.info()\n",
    "df.head()"
   ]
  },
  {
   "cell_type": "markdown",
   "metadata": {},
   "source": [
    "## Исследовательский анализ данных"
   ]
  },
  {
   "cell_type": "markdown",
   "metadata": {},
   "source": [
    "Опишите поведение клиентов оператора, исходя из выборки. Сколько минут разговора, сколько сообщений и какой объём интернет-трафика требуется пользователям каждого тарифа в месяц? Посчитайте среднее количество, дисперсию и стандартное отклонение. Постройте гистограммы. Опишите распределения."
   ]
  },
  {
   "cell_type": "markdown",
   "metadata": {},
   "source": [
    "### Тариф smart"
   ]
  },
  {
   "cell_type": "code",
   "execution_count": 58,
   "metadata": {},
   "outputs": [],
   "source": [
    "# Срез df по тарифу smart и наличию выручки\n",
    "smart = df.query('tariff == \"smart\" and revenue > 0')"
   ]
  },
  {
   "cell_type": "markdown",
   "metadata": {},
   "source": [
    "#### Минуты разговора"
   ]
  },
  {
   "cell_type": "code",
   "execution_count": 59,
   "metadata": {},
   "outputs": [
    {
     "data": {
      "image/png": "[encoded data removed]",
      "text/plain": [
       "<Figure size 432x288 with 1 Axes>"
      ]
     },
     "metadata": {
      "needs_background": "light"
     },
     "output_type": "display_data"
    }
   ],
   "source": [
    "# Построение гистограммы по минутам разговора\n",
    "smart['calls_time'].hist(bins=100)\n",
    "plt.title('Гистограмма по минутам разговора')\n",
    "plt.xlabel('минуты')\n",
    "plt.ylabel('кол-во')\n",
    "plt.show()"
   ]
  },
  {
   "cell_type": "code",
   "execution_count": 60,
   "metadata": {},
   "outputs": [
    {
     "data": {
      "image/png": "[encoded data removed]",
      "text/plain": [
       "<Figure size 432x288 with 1 Axes>"
      ]
     },
     "metadata": {
      "needs_background": "light"
     },
     "output_type": "display_data"
    }
   ],
   "source": [
    "# Среднее количество минут разговора\n",
    "smart_calls_mean = smart['calls_time'].mean()\n",
    "\n",
    "# Расчет дисперсии по выборке\n",
    "variance_smart_calls = np.var(smart['calls_time'], ddof=1)\n",
    "\n",
    "# Стандартное отклонение равно квадратному корню из дисперсии \n",
    "st_deviation_calls = np.sqrt(variance_smart_calls)\n",
    "\n",
    "# Построение графика нормального распределения\n",
    "plt.plot(st.norm.pdf(range(0, 1500), smart_calls_mean, st_deviation_calls))\n",
    "plt.show() "
   ]
  },
  {
   "cell_type": "markdown",
   "metadata": {},
   "source": [
    "**Описание распределения:** данные по минутам разговора имеют нормальное распределение с небольшой отрицательной скошенностью. `Среднее время разговора в месяц составляет 418 минут` (медианное 421 мин.), дисперсия = 36281, стандартное отклонение = 190."
   ]
  },
  {
   "cell_type": "markdown",
   "metadata": {},
   "source": [
    "#### Количество сообщений"
   ]
  },
  {
   "cell_type": "code",
   "execution_count": 61,
   "metadata": {},
   "outputs": [
    {
     "data": {
      "image/png": "[encoded data removed]",
      "text/plain": [
       "<Figure size 432x288 with 1 Axes>"
      ]
     },
     "metadata": {
      "needs_background": "light"
     },
     "output_type": "display_data"
    }
   ],
   "source": [
    "# Построение гистограммы по количеству сообщений\n",
    "smart['message_amount'].hist(bins=100)\n",
    "plt.title('Гистограмма по кол-ву сообщений')\n",
    "plt.xlabel('кол-во сообщений')\n",
    "plt.show()"
   ]
  },
  {
   "cell_type": "markdown",
   "metadata": {},
   "source": [
    "Значительная часть клиентов тарифа `Smart` не пользуется отправкой сообщений. Рассмотрим распределение данных по клиентам, которые пользуются сообщениями."
   ]
  },
  {
   "cell_type": "code",
   "execution_count": 62,
   "metadata": {},
   "outputs": [
    {
     "data": {
      "image/png": "[encoded data removed]",
      "text/plain": [
       "<Figure size 432x288 with 1 Axes>"
      ]
     },
     "metadata": {
      "needs_background": "light"
     },
     "output_type": "display_data"
    }
   ],
   "source": [
    "# Построение гистограммы по количеству сообщений без 0 значений\n",
    "smart_message = smart.query('message_amount > 0')\n",
    "smart_message['message_amount'].hist(bins=100)\n",
    "plt.title('Гистограмма по кол-ву сообщений')\n",
    "plt.xlabel('кол-во сообщений')\n",
    "plt.show()"
   ]
  },
  {
   "cell_type": "code",
   "execution_count": 63,
   "metadata": {},
   "outputs": [
    {
     "data": {
      "image/png": "[encoded data removed]",
      "text/plain": [
       "<Figure size 432x288 with 1 Axes>"
      ]
     },
     "metadata": {
      "needs_background": "light"
     },
     "output_type": "display_data"
    }
   ],
   "source": [
    "# Среднее количество сообщений\n",
    "smart_message_mean = smart_message['message_amount'].mean()\n",
    "\n",
    "# Расчет дисперсии по выборке\n",
    "variance_smart_message = np.var(smart_message['message_amount'], ddof=1)\n",
    "\n",
    "# Стандартное отклонение равно квадратному корню из дисперсии \n",
    "st_deviation_message = np.sqrt(variance_smart_message)\n",
    "\n",
    "# Построение графика нормального распределения\n",
    "plt.plot(st.norm.pdf(range(0, 150),smart_message_mean, st_deviation_message))\n",
    "plt.show() "
   ]
  },
  {
   "cell_type": "markdown",
   "metadata": {},
   "source": [
    "**Описание распределения:** данные по количеству сообщений имеют нормальное распределение с положительной скошенностью. `Среднее количество сообщений в месяц составляет 39шт` (медианное 34шт), дисперсия = 718, стандартное отклонение = 27."
   ]
  },
  {
   "cell_type": "markdown",
   "metadata": {},
   "source": [
    "#### Интернет трафик"
   ]
  },
  {
   "cell_type": "code",
   "execution_count": 64,
   "metadata": {},
   "outputs": [
    {
     "data": {
      "image/png": "[encoded data removed]",
      "text/plain": [
       "<Figure size 432x288 with 1 Axes>"
      ]
     },
     "metadata": {
      "needs_background": "light"
     },
     "output_type": "display_data"
    }
   ],
   "source": [
    "# Округление трафика до Гб в большую сторону, корреткировка типа данных и построение гистограммы по использанному объему интернет трафика\n",
    "np.ceil(smart.loc[:,'mb_used_month'] / 1024).astype(int).hist(bins=75)\n",
    "plt.title('Гистограмма по объему интернет трафика')\n",
    "plt.xlabel('Гбайт')\n",
    "plt.show()"
   ]
  },
  {
   "cell_type": "code",
   "execution_count": 65,
   "metadata": {},
   "outputs": [
    {
     "data": {
      "image/png": "[encoded data removed]",
      "text/plain": [
       "<Figure size 432x288 with 1 Axes>"
      ]
     },
     "metadata": {
      "needs_background": "light"
     },
     "output_type": "display_data"
    }
   ],
   "source": [
    "# Средний объем трафика\n",
    "smart_internet_mean = np.ceil(smart.loc[:,'mb_used_month'] / 1024).astype(int).median()\n",
    "\n",
    "# Расчет дисперсии по выборке\n",
    "variance_smart_internet = np.var(np.ceil(smart.loc[:,'mb_used_month'] / 1024).astype(int), ddof=1)\n",
    "\n",
    "# Стандартное отклонение равно квадратному корню из дисперсии \n",
    "st_deviation_internet = np.sqrt(variance_smart_internet)\n",
    "\n",
    "# Построение графика нормального распределения\n",
    "plt.plot(st.norm.pdf(range(0, 40),smart_internet_mean, st_deviation_internet))\n",
    "plt.show() "
   ]
  },
  {
   "cell_type": "markdown",
   "metadata": {},
   "source": [
    "**Описание распределения:** данные по объему трафика имеют нормальное распределение с небольшой отрицательной скошенностью. `Средний объем используемого интернет трафика в месяц составляет 16.3Гб` (медианное 17.0Мб), дисперсия = 31.13, стандартное отклонение = 5.756."
   ]
  },
  {
   "cell_type": "markdown",
   "metadata": {},
   "source": [
    "### Тариф ultra"
   ]
  },
  {
   "cell_type": "code",
   "execution_count": 66,
   "metadata": {},
   "outputs": [],
   "source": [
    "# Срез df по тарифу ultra и наличию выручки\n",
    "ultra = df.query('tariff == \"ultra\" and revenue > 0')"
   ]
  },
  {
   "cell_type": "markdown",
   "metadata": {},
   "source": [
    "#### Минуты разговора"
   ]
  },
  {
   "cell_type": "code",
   "execution_count": 67,
   "metadata": {},
   "outputs": [
    {
     "data": {
      "image/png": "[encoded data removed]",
      "text/plain": [
       "<Figure size 432x288 with 1 Axes>"
      ]
     },
     "metadata": {
      "needs_background": "light"
     },
     "output_type": "display_data"
    }
   ],
   "source": [
    "# Построение гистограммы по минутам разговора + сравнение с тарифом Smart\n",
    "smart['calls_time'].hist(bins=100, alpha = 0.5, label='Smart')\n",
    "ultra['calls_time'].hist(bins=100, alpha = 0.5, label='Ultra')\n",
    "plt.title('Гистограмма по минутам разговора')\n",
    "plt.legend(loc='best')\n",
    "plt.xlabel('минуты')\n",
    "plt.ylabel('кол-во')\n",
    "plt.show()"
   ]
  },
  {
   "cell_type": "markdown",
   "metadata": {},
   "source": [
    "Часть клиентов тарифа Ultra не используют телефон для разговоров."
   ]
  },
  {
   "cell_type": "code",
   "execution_count": 68,
   "metadata": {},
   "outputs": [
    {
     "data": {
      "image/png": "[encoded data removed]",
      "text/plain": [
       "<Figure size 432x288 with 1 Axes>"
      ]
     },
     "metadata": {
      "needs_background": "light"
     },
     "output_type": "display_data"
    }
   ],
   "source": [
    "# Среднее количество минут разговора\n",
    "ultra_calls_mean = ultra['calls_time'].mean()\n",
    "\n",
    "# Расчет дисперсии по выборке\n",
    "variance_ultra_calls = np.var(ultra['calls_time'], ddof=1)\n",
    "\n",
    "# Стандартное отклонение равно квадратному корню из дисперсии \n",
    "st_deviation_calls = np.sqrt(variance_ultra_calls)\n",
    "\n",
    "# Построение графика нормального распределения\n",
    "plt.plot(st.norm.pdf(range(0, 1750), ultra_calls_mean, st_deviation_calls))\n",
    "plt.show() "
   ]
  },
  {
   "cell_type": "markdown",
   "metadata": {},
   "source": [
    "**Описание распределения:** данные по минутам разговора имеют нормальное распределение с небольшой положительной скошенностью. `Среднее время разговора в месяц составляет 526 минут` (медианное 518 мин.), дисперсия = 101052, стандартное отклонение = 318."
   ]
  },
  {
   "cell_type": "markdown",
   "metadata": {},
   "source": [
    "#### Количество сообщений"
   ]
  },
  {
   "cell_type": "code",
   "execution_count": 69,
   "metadata": {},
   "outputs": [
    {
     "data": {
      "image/png": "[encoded data removed]",
      "text/plain": [
       "<Figure size 432x288 with 1 Axes>"
      ]
     },
     "metadata": {
      "needs_background": "light"
     },
     "output_type": "display_data"
    }
   ],
   "source": [
    "# Построение гистограммы по количеству сообщений\n",
    "ultra['message_amount'].hist(bins=100)\n",
    "plt.title('Гистограмма по кол-ву сообщений')\n",
    "plt.xlabel('кол-во сообщений')\n",
    "plt.show()"
   ]
  },
  {
   "cell_type": "markdown",
   "metadata": {},
   "source": [
    "Значительная часть клиентов тарифа `Ultra` не пользуется отправкой сообщений. Рассмотрим распределение данных по клиентам, которые пользуются сообщениями."
   ]
  },
  {
   "cell_type": "code",
   "execution_count": 70,
   "metadata": {},
   "outputs": [
    {
     "data": {
      "image/png": "[encoded data removed]",
      "text/plain": [
       "<Figure size 432x288 with 1 Axes>"
      ]
     },
     "metadata": {
      "needs_background": "light"
     },
     "output_type": "display_data"
    }
   ],
   "source": [
    "# Построение гистограммы по количеству сообщений без 0 значений\n",
    "ultra_message = ultra.query('message_amount > 0')\n",
    "ultra_message['message_amount'].hist(bins=100)\n",
    "plt.title('Гистограмма по кол-ву сообщений')\n",
    "plt.xlabel('кол-во сообщений')\n",
    "plt.show()"
   ]
  },
  {
   "cell_type": "code",
   "execution_count": 71,
   "metadata": {},
   "outputs": [
    {
     "data": {
      "image/png": "[encoded data removed]",
      "text/plain": [
       "<Figure size 432x288 with 1 Axes>"
      ]
     },
     "metadata": {
      "needs_background": "light"
     },
     "output_type": "display_data"
    }
   ],
   "source": [
    "# Среднее количество сообщений\n",
    "ultra_message_mean = ultra_message['message_amount'].mean()\n",
    "\n",
    "# Расчет дисперсии по выборке\n",
    "variance_ultra_message = np.var(ultra_message['message_amount'], ddof=1)\n",
    "\n",
    "# Стандартное отклонение равно квадратному корню из дисперсии \n",
    "st_deviation_message = np.sqrt(variance_ultra_message)\n",
    "\n",
    "# Построение графика нормального распределения\n",
    "plt.plot(st.norm.pdf(range(0, 250),ultra_message_mean, st_deviation_message))\n",
    "plt.show() "
   ]
  },
  {
   "cell_type": "markdown",
   "metadata": {},
   "source": [
    "**Описание распределения:** данные по количеству сообщений имеют нормальное распределение с положительной скошенностью. `Среднее количество сообщений в месяц составляет 61шт` (медианное 51шт), дисперсия = 2110, стандартное отклонение = 46."
   ]
  },
  {
   "cell_type": "markdown",
   "metadata": {},
   "source": [
    "#### Интернет трафик"
   ]
  },
  {
   "cell_type": "code",
   "execution_count": 72,
   "metadata": {},
   "outputs": [
    {
     "data": {
      "image/png": "[encoded data removed]",
      "text/plain": [
       "<Figure size 432x288 with 1 Axes>"
      ]
     },
     "metadata": {
      "needs_background": "light"
     },
     "output_type": "display_data"
    }
   ],
   "source": [
    "# Округление трафика до Гб в большую сторону, корреткировка типа данных и построение гистограммы по использанному объему интернет трафика\n",
    "np.ceil(smart.loc[:,'mb_used_month'] / 1024).astype(int).hist(bins=75, alpha = 0.5, label='Smart')\n",
    "np.ceil(ultra.loc[:,'mb_used_month'] / 1024).astype(int).hist(bins=75, alpha = 0.5, label='Ultra')\n",
    "plt.title('Гистограмма по объему интернет трафика')\n",
    "plt.xlabel('Гбайт')\n",
    "plt.legend(loc='best')\n",
    "plt.show()"
   ]
  },
  {
   "cell_type": "code",
   "execution_count": 73,
   "metadata": {},
   "outputs": [
    {
     "data": {
      "image/png": "[encoded data removed]",
      "text/plain": [
       "<Figure size 432x288 with 1 Axes>"
      ]
     },
     "metadata": {
      "needs_background": "light"
     },
     "output_type": "display_data"
    }
   ],
   "source": [
    "# Средний объем трафика\n",
    "ultra_internet_mean = np.ceil(ultra.loc[:,'mb_used_month'] / 1024).astype(int).mean()\n",
    "\n",
    "# Расчет дисперсии по выборке\n",
    "variance_ultra_internet = np.var(np.ceil(ultra.loc[:,'mb_used_month'] / 1024).astype(int), ddof=1)\n",
    "\n",
    "# Стандартное отклонение равно квадратному корню из дисперсии \n",
    "st_deviation_internet = np.sqrt(variance_ultra_internet)\n",
    "\n",
    "# Построение графика нормального распределения\n",
    "plt.plot(st.norm.pdf(range(0, 50),ultra_internet_mean, st_deviation_internet))\n",
    "plt.show() "
   ]
  },
  {
   "cell_type": "markdown",
   "metadata": {},
   "source": [
    "**Описание распределения:** данные по объему трафика имеют нормальное распределение с небольшой положительной скошенностью. `Средний объем используемого интернет трафика в месяц составляет 19.5Гб` (медианное 19.0Гб), дисперсия = 97.38, стандартное отклонение = 4.413."
   ]
  },
  {
   "cell_type": "markdown",
   "metadata": {},
   "source": [
    "## Проверка гипотез"
   ]
  },
  {
   "cell_type": "markdown",
   "metadata": {},
   "source": [
    "### Cредняя выручка пользователей тарифов «Смарт» и «Ультра» различаются"
   ]
  },
  {
   "cell_type": "markdown",
   "metadata": {},
   "source": [
    "**Нулевая гипотеза:** средняя выручка пользователей тарифа \"Смарт\" равна А.\n",
    "\n",
    "**Альтернативная гипотеза:** средняя выручка пользователей тарифа \"Ультра\" не равна А."
   ]
  },
  {
   "cell_type": "code",
   "execution_count": 74,
   "metadata": {
    "scrolled": false
   },
   "outputs": [
    {
     "data": {
      "image/png": "[encoded data removed]",
      "text/plain": [
       "<Figure size 432x288 with 1 Axes>"
      ]
     },
     "metadata": {
      "needs_background": "light"
     },
     "output_type": "display_data"
    }
   ],
   "source": [
    "# Построение гистограммы по выручке\n",
    "smart['revenue'].hist(bins=75, alpha=0.7, label='Smart')\n",
    "ultra['revenue'].hist(bins=25, alpha=0.7, label='Ultra')\n",
    "plt.title('Гистограмма по выручке тарифа')\n",
    "plt.xlabel('руб.')\n",
    "plt.legend(loc='best')\n",
    "plt.show()"
   ]
  },
  {
   "cell_type": "code",
   "execution_count": 75,
   "metadata": {
    "scrolled": true
   },
   "outputs": [
    {
     "data": {
      "text/plain": [
       "1289.6417040358745"
      ]
     },
     "execution_count": 75,
     "metadata": {},
     "output_type": "execute_result"
    }
   ],
   "source": [
    "# Средняя месячная выручка по тарифу Smart\n",
    "smart['revenue'].mean()"
   ]
  },
  {
   "cell_type": "code",
   "execution_count": 76,
   "metadata": {},
   "outputs": [
    {
     "data": {
      "text/plain": [
       "2070.030425963489"
      ]
     },
     "execution_count": 76,
     "metadata": {},
     "output_type": "execute_result"
    }
   ],
   "source": [
    "# Средняя месячная выручка по тарифу Ultra\n",
    "ultra['revenue'].mean()"
   ]
  },
  {
   "cell_type": "code",
   "execution_count": 77,
   "metadata": {},
   "outputs": [
    {
     "data": {
      "text/plain": [
       "2875901.0"
      ]
     },
     "execution_count": 77,
     "metadata": {},
     "output_type": "execute_result"
    }
   ],
   "source": [
    "# Абсолютная выручка по тарифу Smart\n",
    "smart['revenue'].sum()"
   ]
  },
  {
   "cell_type": "code",
   "execution_count": 78,
   "metadata": {},
   "outputs": [
    {
     "data": {
      "text/plain": [
       "2041050.0"
      ]
     },
     "execution_count": 78,
     "metadata": {},
     "output_type": "execute_result"
    }
   ],
   "source": [
    "# Абсолютная выручка по тарифу Ultra\n",
    "ultra['revenue'].sum()"
   ]
  },
  {
   "cell_type": "markdown",
   "metadata": {},
   "source": [
    "Примечание: основная выручка по двум тарифам формируется за счет абонентской платы, но клиенты тарифа Ultra реже превышают бесплатные лимиты в отличии от клиентов с тарифом Smart. При том, что тарифом Ultra пользуется всего 30%, доля выручки от общего значения составляет 42%."
   ]
  },
  {
   "cell_type": "code",
   "execution_count": 79,
   "metadata": {
    "scrolled": false
   },
   "outputs": [
    {
     "data": {
      "text/plain": [
       "2230"
      ]
     },
     "execution_count": 79,
     "metadata": {},
     "output_type": "execute_result"
    }
   ],
   "source": [
    "# Размер выборки тарифа Smart\n",
    "len(smart.index)"
   ]
  },
  {
   "cell_type": "code",
   "execution_count": 80,
   "metadata": {},
   "outputs": [
    {
     "data": {
      "text/plain": [
       "986"
      ]
     },
     "execution_count": 80,
     "metadata": {},
     "output_type": "execute_result"
    }
   ],
   "source": [
    "# Размер выборки тарифа Ultra\n",
    "len(ultra.index)"
   ]
  },
  {
   "cell_type": "code",
   "execution_count": 81,
   "metadata": {},
   "outputs": [
    {
     "name": "stdout",
     "output_type": "stream",
     "text": [
      "p-значение: 1.927011394420941e-250\n",
      "Отвергаем нулевую гипотезу\n"
     ]
    }
   ],
   "source": [
    "# т.к. выборки разного размера используется equal_var = False\n",
    "results = st.ttest_ind(smart['revenue'], ultra['revenue'], equal_var = False)\n",
    "\n",
    "# критический уровень статистической значимости \n",
    "alpha = .05 \n",
    "\n",
    "print('p-значение:', results.pvalue)\n",
    "\n",
    "if results.pvalue < alpha:\n",
    "    print(\"Отвергаем нулевую гипотезу\")\n",
    "else:\n",
    "    print(\"Не получилось отвергнуть нулевую гипотезу\") "
   ]
  },
  {
   "cell_type": "markdown",
   "metadata": {},
   "source": [
    "**Вывод:** `Выручка пользователей тарифов «Смарт» и «Ультра» различаются`, т.к. вероятность получить среднее значение выручки тарифа Smart в выборке тарифа Ultra крайне мала (нулевая гипотеза отвергается). "
   ]
  },
  {
   "cell_type": "markdown",
   "metadata": {},
   "source": [
    "### Средняя выручка пользователей из Москвы отличается от выручки пользователей из других регионов"
   ]
  },
  {
   "cell_type": "markdown",
   "metadata": {},
   "source": [
    "**Нулевая гипотеза:** средняя выручка пользователей из Москвы равна А.\n",
    "\n",
    "**Альтернативная гипотеза:** средняя выручка пользователей не из Москвы не равна А."
   ]
  },
  {
   "cell_type": "code",
   "execution_count": 82,
   "metadata": {},
   "outputs": [],
   "source": [
    "# Срез df по тарифу городу и наличию выручки\n",
    "moscow = df.query('city == \"Москва\" and revenue > 0')\n",
    "\n",
    "# Срез df по тарифу городу и наличию выручки\n",
    "citys = df.query('city != \"Москва\" and revenue > 0')"
   ]
  },
  {
   "cell_type": "code",
   "execution_count": 83,
   "metadata": {},
   "outputs": [
    {
     "data": {
      "text/plain": [
       "1546.7135842880523"
      ]
     },
     "execution_count": 83,
     "metadata": {},
     "output_type": "execute_result"
    }
   ],
   "source": [
    "# Средняя месячная выручка по Москве\n",
    "moscow['revenue'].mean()"
   ]
  },
  {
   "cell_type": "code",
   "execution_count": 84,
   "metadata": {},
   "outputs": [
    {
     "data": {
      "text/plain": [
       "1524.7251439539348"
      ]
     },
     "execution_count": 84,
     "metadata": {},
     "output_type": "execute_result"
    }
   ],
   "source": [
    "# Средняя месячная выручка по другим городам\n",
    "citys['revenue'].mean()"
   ]
  },
  {
   "cell_type": "code",
   "execution_count": 85,
   "metadata": {},
   "outputs": [
    {
     "data": {
      "text/plain": [
       "611"
      ]
     },
     "execution_count": 85,
     "metadata": {},
     "output_type": "execute_result"
    }
   ],
   "source": [
    "# Размер выборки по Москве\n",
    "len(moscow.index)"
   ]
  },
  {
   "cell_type": "code",
   "execution_count": 86,
   "metadata": {},
   "outputs": [
    {
     "data": {
      "text/plain": [
       "2605"
      ]
     },
     "execution_count": 86,
     "metadata": {},
     "output_type": "execute_result"
    }
   ],
   "source": [
    "# Размер выборки по другим городам\n",
    "len(citys.index)"
   ]
  },
  {
   "cell_type": "code",
   "execution_count": 87,
   "metadata": {},
   "outputs": [
    {
     "name": "stdout",
     "output_type": "stream",
     "text": [
      "p-значение: 0.5216952110000278\n",
      "Не получилось отвергнуть нулевую гипотезу\n"
     ]
    }
   ],
   "source": [
    "# т.к. выборки разного размера используется equal_var = False\n",
    "results = st.ttest_ind(moscow['revenue'], citys['revenue'], equal_var = False)\n",
    "\n",
    "# критический уровень статистической значимости \n",
    "alpha = .05 \n",
    "\n",
    "print('p-значение:', results.pvalue)\n",
    "\n",
    "if results.pvalue < alpha:\n",
    "    print(\"Отвергаем нулевую гипотезу\")\n",
    "else:\n",
    "    print(\"Не получилось отвергнуть нулевую гипотезу\") "
   ]
  },
  {
   "cell_type": "markdown",
   "metadata": {},
   "source": [
    "**Вывод:** `Средняя выручка пользователей из Москвы не отличается от выручки пользователей из других регионов`, т.к. вероятность получить среднее значение выручки по Москве в выборке из других городов составляет 52% (нулевая гипотеза не может быть отвергнута). "
   ]
  },
  {
   "cell_type": "markdown",
   "metadata": {},
   "source": [
    "## Общий вывод"
   ]
  },
  {
   "cell_type": "markdown",
   "metadata": {},
   "source": [
    "**Входные данные:**\n",
    "* Есть ***несоответствия в типах данных***: churn_date, reg_date, call_date, duration, message_date, session_date;\n",
    "* В источнике данных с информацией об интернет-сессиях есть ***столбец дублирующий индексацию Unnamed: 0***, при последующих выгрузках желательно сохранять файлы с данными без индекса, используя index=False.\n",
    "\n",
    "**Средние значения в месяц по тарифу Smart:**\n",
    "* Время разговора - 418 минут\n",
    "* Количество сообщений - 39 шт.\n",
    "* Объем используемого интернет трафика - 16.3 Гб\n",
    "* Выручка - 1 290 руб.\n",
    "\n",
    "**Средние значения в месяц по тарифу Ultra:**\n",
    "* Время разговора - 526 минут\n",
    "* Количество сообщений - 61 шт.\n",
    "* Объем используемого интернет трафика - 19.5 Гб\n",
    "* Выручка - 2 070 руб.\n",
    "\n",
    "**Проверенные гипотезы:**\n",
    "* Выручка пользователей тарифов «Смарт» и «Ультра» различаются\n",
    "* Средняя выручка пользователей из Москвы не отличается от выручки пользователей из других регионов\n",
    "\n",
    "**Лучший тариф с точки зрения выручки - Ultra** (за счет высокой абонентской платы генерирует больше выручки на 1 клиента, чем тариф Smart с низкой абонентской платой и большей частотой превышения лимитов)."
   ]
  },
  {
   "cell_type": "markdown",
   "metadata": {},
   "source": [
    "## Чек-лист готовности проекта"
   ]
  },
  {
   "cell_type": "markdown",
   "metadata": {},
   "source": [
    "- [x]  открыты файлы\n",
    "- [x]  файлы изучены (выведены первые строки, метод `info()`)\n",
    "- [x]  определены пропущенные значения\n",
    "- [x]  есть пояснение, какие пропущенные значения обнаружены\n",
    "- [x]  изменены типы данных\n",
    "- [x]  есть пояснение, в каких столбцах изменены типы и почему\n",
    "- [x]  посчитано и добавлено в таблицу: количество сделанных звонков и израсходованных минут\n",
    "- [x]  посчитано и добавлено в таблицу: количество отправленных сообщений\n",
    "- [x]  посчитано и добавлено в таблицу: объем израсходованного трафика\n",
    "- [x]  посчитано и добавлено в таблицу: помесячная выручка с каждого пользователя\n",
    "- [x]  построены и описаны гистограммы по количеству минут, сообщений и интернет трафику для всех тарифов\n",
    "- [x]  построены и описаны гистограммы по выручке\n",
    "- [x]  проверена гипотеза: средняя выручка пользователей тарифов «Смарт» и «Ультра» различаются\n",
    "- [x]  проверена гипотеза: средняя выручка пользователей из Москвы отличается от выручки пользователей из других регионов\n",
    "- [x]  в каждом этапе есть выводы\n",
    "- [x]  есть общий вывод"
   ]
  },
  {
   "cell_type": "code",
   "execution_count": null,
   "metadata": {},
   "outputs": [],
   "source": []
  }
 ],
 "metadata": {
  "ExecuteTimeLog": [
   {
    "duration": 1020,
    "start_time": "2022-03-31T14:35:43.433Z"
   },
   {
    "duration": 112,
    "start_time": "2022-03-31T14:37:07.103Z"
   },
   {
    "duration": 162,
    "start_time": "2022-03-31T14:38:14.184Z"
   },
   {
    "duration": 643,
    "start_time": "2022-03-31T14:41:04.621Z"
   },
   {
    "duration": 480,
    "start_time": "2022-03-31T14:41:23.225Z"
   },
   {
    "duration": 612,
    "start_time": "2022-03-31T14:41:39.064Z"
   },
   {
    "duration": 850,
    "start_time": "2022-03-31T14:41:46.170Z"
   },
   {
    "duration": 8,
    "start_time": "2022-03-31T14:43:13.867Z"
   },
   {
    "duration": 8,
    "start_time": "2022-03-31T14:43:15.926Z"
   },
   {
    "duration": 8,
    "start_time": "2022-03-31T14:43:16.575Z"
   },
   {
    "duration": 10,
    "start_time": "2022-03-31T14:43:17.811Z"
   },
   {
    "duration": 419,
    "start_time": "2022-03-31T14:43:36.936Z"
   },
   {
    "duration": 583,
    "start_time": "2022-03-31T14:44:22.652Z"
   },
   {
    "duration": 8,
    "start_time": "2022-03-31T14:44:23.237Z"
   },
   {
    "duration": 24,
    "start_time": "2022-03-31T14:44:23.246Z"
   },
   {
    "duration": 12,
    "start_time": "2022-03-31T14:44:23.272Z"
   },
   {
    "duration": 17,
    "start_time": "2022-03-31T14:44:23.287Z"
   },
   {
    "duration": 2244,
    "start_time": "2022-04-01T01:47:41.245Z"
   },
   {
    "duration": 11,
    "start_time": "2022-04-01T01:47:43.493Z"
   },
   {
    "duration": 16,
    "start_time": "2022-04-01T01:47:43.506Z"
   },
   {
    "duration": 13,
    "start_time": "2022-04-01T01:47:43.525Z"
   },
   {
    "duration": 36,
    "start_time": "2022-04-01T01:47:43.540Z"
   },
   {
    "duration": 59,
    "start_time": "2022-04-01T01:49:05.422Z"
   },
   {
    "duration": 9,
    "start_time": "2022-04-01T01:50:18.262Z"
   },
   {
    "duration": 32,
    "start_time": "2022-04-01T01:55:09.703Z"
   },
   {
    "duration": 52,
    "start_time": "2022-04-01T01:55:17.006Z"
   },
   {
    "duration": 102,
    "start_time": "2022-04-01T02:11:15.897Z"
   },
   {
    "duration": 7,
    "start_time": "2022-04-01T02:11:48.801Z"
   },
   {
    "duration": 10,
    "start_time": "2022-04-01T02:13:36.354Z"
   },
   {
    "duration": 8,
    "start_time": "2022-04-01T02:14:42.841Z"
   },
   {
    "duration": 5,
    "start_time": "2022-04-01T02:24:57.472Z"
   },
   {
    "duration": 6,
    "start_time": "2022-04-01T02:27:46.919Z"
   },
   {
    "duration": 7,
    "start_time": "2022-04-01T02:28:19.999Z"
   },
   {
    "duration": 7,
    "start_time": "2022-04-01T02:28:25.924Z"
   },
   {
    "duration": 11,
    "start_time": "2022-04-01T02:45:18.204Z"
   },
   {
    "duration": 538,
    "start_time": "2022-04-01T02:45:51.817Z"
   },
   {
    "duration": 549,
    "start_time": "2022-04-01T02:46:03.622Z"
   },
   {
    "duration": 662,
    "start_time": "2022-04-01T02:46:15.221Z"
   },
   {
    "duration": 14,
    "start_time": "2022-04-01T02:47:51.637Z"
   },
   {
    "duration": 15,
    "start_time": "2022-04-01T02:48:26.805Z"
   },
   {
    "duration": 51,
    "start_time": "2022-04-01T05:34:58.698Z"
   },
   {
    "duration": 7,
    "start_time": "2022-04-01T05:35:05.766Z"
   },
   {
    "duration": 1316,
    "start_time": "2022-04-01T05:35:13.981Z"
   },
   {
    "duration": 9,
    "start_time": "2022-04-01T05:35:15.299Z"
   },
   {
    "duration": 10,
    "start_time": "2022-04-01T05:35:15.310Z"
   },
   {
    "duration": 11,
    "start_time": "2022-04-01T05:35:15.322Z"
   },
   {
    "duration": 10,
    "start_time": "2022-04-01T05:35:15.334Z"
   },
   {
    "duration": 39,
    "start_time": "2022-04-01T05:35:15.346Z"
   },
   {
    "duration": 8,
    "start_time": "2022-04-01T05:35:15.408Z"
   },
   {
    "duration": 5,
    "start_time": "2022-04-01T05:35:15.417Z"
   },
   {
    "duration": 9,
    "start_time": "2022-04-01T05:35:15.424Z"
   },
   {
    "duration": 12,
    "start_time": "2022-04-01T05:35:15.436Z"
   },
   {
    "duration": 6,
    "start_time": "2022-04-01T05:35:15.450Z"
   },
   {
    "duration": 6,
    "start_time": "2022-04-01T05:39:39.926Z"
   },
   {
    "duration": 6,
    "start_time": "2022-04-01T05:39:47.526Z"
   },
   {
    "duration": 7,
    "start_time": "2022-04-01T05:40:50.646Z"
   },
   {
    "duration": 5,
    "start_time": "2022-04-01T05:44:19.608Z"
   },
   {
    "duration": 11,
    "start_time": "2022-04-01T05:44:57.046Z"
   },
   {
    "duration": 5,
    "start_time": "2022-04-01T05:46:26.365Z"
   },
   {
    "duration": 254,
    "start_time": "2022-04-01T05:52:55.492Z"
   },
   {
    "duration": 7,
    "start_time": "2022-04-01T05:53:17.790Z"
   },
   {
    "duration": 22,
    "start_time": "2022-04-01T05:53:24.580Z"
   },
   {
    "duration": 39,
    "start_time": "2022-04-01T06:02:17.617Z"
   },
   {
    "duration": 183,
    "start_time": "2022-04-01T06:02:23.262Z"
   },
   {
    "duration": 4,
    "start_time": "2022-04-01T06:04:33.911Z"
   },
   {
    "duration": 75,
    "start_time": "2022-04-01T06:04:55.343Z"
   },
   {
    "duration": 1647,
    "start_time": "2022-04-01T06:11:27.986Z"
   },
   {
    "duration": 51,
    "start_time": "2022-04-01T06:11:43.619Z"
   },
   {
    "duration": 419,
    "start_time": "2022-04-01T06:11:47.787Z"
   },
   {
    "duration": 8,
    "start_time": "2022-04-01T06:11:48.208Z"
   },
   {
    "duration": 11,
    "start_time": "2022-04-01T06:11:48.217Z"
   },
   {
    "duration": 12,
    "start_time": "2022-04-01T06:11:48.230Z"
   },
   {
    "duration": 10,
    "start_time": "2022-04-01T06:11:48.243Z"
   },
   {
    "duration": 59,
    "start_time": "2022-04-01T06:11:48.254Z"
   },
   {
    "duration": 6,
    "start_time": "2022-04-01T06:11:48.314Z"
   },
   {
    "duration": 281,
    "start_time": "2022-04-01T06:11:48.322Z"
   },
   {
    "duration": 23,
    "start_time": "2022-04-01T06:11:48.605Z"
   },
   {
    "duration": 4,
    "start_time": "2022-04-01T06:11:48.631Z"
   },
   {
    "duration": 6,
    "start_time": "2022-04-01T06:11:48.637Z"
   },
   {
    "duration": 15,
    "start_time": "2022-04-01T06:11:48.645Z"
   },
   {
    "duration": 8,
    "start_time": "2022-04-01T06:11:48.661Z"
   },
   {
    "duration": 7,
    "start_time": "2022-04-01T06:11:48.671Z"
   },
   {
    "duration": 7,
    "start_time": "2022-04-01T06:11:48.709Z"
   },
   {
    "duration": 12,
    "start_time": "2022-04-01T06:11:48.717Z"
   },
   {
    "duration": 18,
    "start_time": "2022-04-01T06:11:48.730Z"
   },
   {
    "duration": 86,
    "start_time": "2022-04-01T06:11:48.750Z"
   },
   {
    "duration": 51,
    "start_time": "2022-04-01T06:11:48.838Z"
   },
   {
    "duration": 30,
    "start_time": "2022-04-01T06:13:16.743Z"
   },
   {
    "duration": 7,
    "start_time": "2022-04-01T06:14:40.631Z"
   },
   {
    "duration": 235,
    "start_time": "2022-04-01T07:05:52.717Z"
   },
   {
    "duration": 44,
    "start_time": "2022-04-01T07:06:04.932Z"
   },
   {
    "duration": 246,
    "start_time": "2022-04-01T07:06:09.627Z"
   },
   {
    "duration": 221,
    "start_time": "2022-04-01T07:06:39.341Z"
   },
   {
    "duration": 142,
    "start_time": "2022-04-01T07:08:02.094Z"
   },
   {
    "duration": 17,
    "start_time": "2022-04-01T07:08:12.431Z"
   },
   {
    "duration": 82,
    "start_time": "2022-04-01T07:24:30.600Z"
   },
   {
    "duration": 38,
    "start_time": "2022-04-01T07:24:59.995Z"
   },
   {
    "duration": 36,
    "start_time": "2022-04-01T07:26:41.503Z"
   },
   {
    "duration": 9,
    "start_time": "2022-04-01T07:27:13.994Z"
   },
   {
    "duration": 6,
    "start_time": "2022-04-01T07:27:25.120Z"
   },
   {
    "duration": 179,
    "start_time": "2022-04-01T07:29:23.211Z"
   },
   {
    "duration": 17,
    "start_time": "2022-04-01T07:29:36.984Z"
   },
   {
    "duration": 9,
    "start_time": "2022-04-01T07:34:13.192Z"
   },
   {
    "duration": 9,
    "start_time": "2022-04-01T07:34:20.758Z"
   },
   {
    "duration": 28,
    "start_time": "2022-04-01T07:45:07.555Z"
   },
   {
    "duration": 216,
    "start_time": "2022-04-01T07:53:07.996Z"
   },
   {
    "duration": 0,
    "start_time": "2022-04-01T07:53:08.215Z"
   },
   {
    "duration": 0,
    "start_time": "2022-04-01T07:53:08.217Z"
   },
   {
    "duration": 0,
    "start_time": "2022-04-01T07:53:08.218Z"
   },
   {
    "duration": 0,
    "start_time": "2022-04-01T07:53:08.220Z"
   },
   {
    "duration": 0,
    "start_time": "2022-04-01T07:53:08.221Z"
   },
   {
    "duration": 0,
    "start_time": "2022-04-01T07:53:08.222Z"
   },
   {
    "duration": 0,
    "start_time": "2022-04-01T07:53:08.224Z"
   },
   {
    "duration": 0,
    "start_time": "2022-04-01T07:53:08.225Z"
   },
   {
    "duration": 0,
    "start_time": "2022-04-01T07:53:08.227Z"
   },
   {
    "duration": 0,
    "start_time": "2022-04-01T07:53:08.228Z"
   },
   {
    "duration": 0,
    "start_time": "2022-04-01T07:53:08.229Z"
   },
   {
    "duration": 0,
    "start_time": "2022-04-01T07:53:08.231Z"
   },
   {
    "duration": 0,
    "start_time": "2022-04-01T07:53:08.232Z"
   },
   {
    "duration": 0,
    "start_time": "2022-04-01T07:53:08.234Z"
   },
   {
    "duration": 0,
    "start_time": "2022-04-01T07:53:08.235Z"
   },
   {
    "duration": 0,
    "start_time": "2022-04-01T07:53:08.236Z"
   },
   {
    "duration": 0,
    "start_time": "2022-04-01T07:53:08.238Z"
   },
   {
    "duration": 0,
    "start_time": "2022-04-01T07:53:08.239Z"
   },
   {
    "duration": 0,
    "start_time": "2022-04-01T07:53:08.240Z"
   },
   {
    "duration": 0,
    "start_time": "2022-04-01T07:53:08.241Z"
   },
   {
    "duration": 1,
    "start_time": "2022-04-01T07:53:08.242Z"
   },
   {
    "duration": 0,
    "start_time": "2022-04-01T07:53:08.243Z"
   },
   {
    "duration": 0,
    "start_time": "2022-04-01T07:53:08.244Z"
   },
   {
    "duration": 0,
    "start_time": "2022-04-01T07:53:08.245Z"
   },
   {
    "duration": 0,
    "start_time": "2022-04-01T07:53:08.246Z"
   },
   {
    "duration": 0,
    "start_time": "2022-04-01T07:53:08.247Z"
   },
   {
    "duration": 0,
    "start_time": "2022-04-01T07:53:08.248Z"
   },
   {
    "duration": 447,
    "start_time": "2022-04-01T07:57:14.507Z"
   },
   {
    "duration": 8,
    "start_time": "2022-04-01T07:57:14.956Z"
   },
   {
    "duration": 8,
    "start_time": "2022-04-01T07:57:14.966Z"
   },
   {
    "duration": 11,
    "start_time": "2022-04-01T07:57:14.975Z"
   },
   {
    "duration": 11,
    "start_time": "2022-04-01T07:57:14.988Z"
   },
   {
    "duration": 35,
    "start_time": "2022-04-01T07:57:15.008Z"
   },
   {
    "duration": 5,
    "start_time": "2022-04-01T07:57:15.045Z"
   },
   {
    "duration": 304,
    "start_time": "2022-04-01T07:57:15.052Z"
   },
   {
    "duration": 22,
    "start_time": "2022-04-01T07:57:15.358Z"
   },
   {
    "duration": 149,
    "start_time": "2022-04-01T07:57:15.381Z"
   },
   {
    "duration": 15,
    "start_time": "2022-04-01T07:57:15.532Z"
   },
   {
    "duration": 190,
    "start_time": "2022-04-01T07:57:15.549Z"
   },
   {
    "duration": 17,
    "start_time": "2022-04-01T07:57:15.741Z"
   },
   {
    "duration": 10,
    "start_time": "2022-04-01T07:57:15.761Z"
   },
   {
    "duration": 9,
    "start_time": "2022-04-01T07:57:15.773Z"
   },
   {
    "duration": 30,
    "start_time": "2022-04-01T07:57:15.783Z"
   },
   {
    "duration": 5,
    "start_time": "2022-04-01T07:57:15.814Z"
   },
   {
    "duration": 8,
    "start_time": "2022-04-01T07:57:15.821Z"
   },
   {
    "duration": 7,
    "start_time": "2022-04-01T07:57:15.830Z"
   },
   {
    "duration": 15,
    "start_time": "2022-04-01T07:57:15.838Z"
   },
   {
    "duration": 7,
    "start_time": "2022-04-01T07:57:15.854Z"
   },
   {
    "duration": 103,
    "start_time": "2022-04-01T07:57:15.863Z"
   },
   {
    "duration": 56,
    "start_time": "2022-04-01T07:57:15.968Z"
   },
   {
    "duration": 28,
    "start_time": "2022-04-01T07:57:16.026Z"
   },
   {
    "duration": 6,
    "start_time": "2022-04-01T07:57:16.056Z"
   },
   {
    "duration": 63,
    "start_time": "2022-04-01T07:57:16.064Z"
   },
   {
    "duration": 32,
    "start_time": "2022-04-01T07:57:16.128Z"
   },
   {
    "duration": 5,
    "start_time": "2022-04-01T07:57:16.162Z"
   },
   {
    "duration": 25,
    "start_time": "2022-04-01T08:07:22.975Z"
   },
   {
    "duration": 13,
    "start_time": "2022-04-01T08:08:16.450Z"
   },
   {
    "duration": 453,
    "start_time": "2022-04-01T08:08:34.839Z"
   },
   {
    "duration": 8,
    "start_time": "2022-04-01T08:08:35.293Z"
   },
   {
    "duration": 8,
    "start_time": "2022-04-01T08:08:35.303Z"
   },
   {
    "duration": 10,
    "start_time": "2022-04-01T08:08:35.313Z"
   },
   {
    "duration": 9,
    "start_time": "2022-04-01T08:08:35.324Z"
   },
   {
    "duration": 35,
    "start_time": "2022-04-01T08:08:35.335Z"
   },
   {
    "duration": 6,
    "start_time": "2022-04-01T08:08:35.371Z"
   },
   {
    "duration": 285,
    "start_time": "2022-04-01T08:08:35.378Z"
   },
   {
    "duration": 21,
    "start_time": "2022-04-01T08:08:35.665Z"
   },
   {
    "duration": 125,
    "start_time": "2022-04-01T08:08:35.689Z"
   },
   {
    "duration": 15,
    "start_time": "2022-04-01T08:08:35.816Z"
   },
   {
    "duration": 173,
    "start_time": "2022-04-01T08:08:35.832Z"
   },
   {
    "duration": 17,
    "start_time": "2022-04-01T08:08:36.009Z"
   },
   {
    "duration": 7,
    "start_time": "2022-04-01T08:08:36.028Z"
   },
   {
    "duration": 10,
    "start_time": "2022-04-01T08:08:36.036Z"
   },
   {
    "duration": 11,
    "start_time": "2022-04-01T08:08:36.047Z"
   },
   {
    "duration": 4,
    "start_time": "2022-04-01T08:08:36.060Z"
   },
   {
    "duration": 6,
    "start_time": "2022-04-01T08:08:36.066Z"
   },
   {
    "duration": 9,
    "start_time": "2022-04-01T08:08:36.073Z"
   },
   {
    "duration": 25,
    "start_time": "2022-04-01T08:08:36.084Z"
   },
   {
    "duration": 5,
    "start_time": "2022-04-01T08:08:36.111Z"
   },
   {
    "duration": 93,
    "start_time": "2022-04-01T08:08:36.117Z"
   },
   {
    "duration": 50,
    "start_time": "2022-04-01T08:08:36.211Z"
   },
   {
    "duration": 60,
    "start_time": "2022-04-01T08:08:36.263Z"
   },
   {
    "duration": 6,
    "start_time": "2022-04-01T08:08:36.325Z"
   },
   {
    "duration": 93,
    "start_time": "2022-04-01T08:08:36.333Z"
   },
   {
    "duration": 34,
    "start_time": "2022-04-01T08:08:36.427Z"
   },
   {
    "duration": 47,
    "start_time": "2022-04-01T08:08:36.464Z"
   },
   {
    "duration": 7,
    "start_time": "2022-04-01T08:08:36.512Z"
   },
   {
    "duration": 22,
    "start_time": "2022-04-01T08:08:50.720Z"
   },
   {
    "duration": 39,
    "start_time": "2022-04-01T08:15:00.602Z"
   },
   {
    "duration": 36,
    "start_time": "2022-04-01T08:15:09.049Z"
   },
   {
    "duration": 26,
    "start_time": "2022-04-01T08:17:46.170Z"
   },
   {
    "duration": 39,
    "start_time": "2022-04-01T08:18:38.226Z"
   },
   {
    "duration": 6,
    "start_time": "2022-04-01T08:19:40.275Z"
   },
   {
    "duration": 37,
    "start_time": "2022-04-01T08:23:18.692Z"
   },
   {
    "duration": 7,
    "start_time": "2022-04-01T08:23:35.229Z"
   },
   {
    "duration": 9,
    "start_time": "2022-04-01T08:27:46.315Z"
   },
   {
    "duration": 7,
    "start_time": "2022-04-01T08:29:30.068Z"
   },
   {
    "duration": 27,
    "start_time": "2022-04-01T08:33:43.781Z"
   },
   {
    "duration": 27,
    "start_time": "2022-04-01T08:34:16.807Z"
   },
   {
    "duration": 5,
    "start_time": "2022-04-01T08:34:46.268Z"
   },
   {
    "duration": 4,
    "start_time": "2022-04-01T08:35:11.759Z"
   },
   {
    "duration": 4,
    "start_time": "2022-04-01T08:35:51.045Z"
   },
   {
    "duration": 4,
    "start_time": "2022-04-01T08:36:05.494Z"
   },
   {
    "duration": 5,
    "start_time": "2022-04-01T08:36:23.742Z"
   },
   {
    "duration": 4,
    "start_time": "2022-04-01T08:36:30.446Z"
   },
   {
    "duration": 1363,
    "start_time": "2022-04-01T08:36:36.789Z"
   },
   {
    "duration": 5,
    "start_time": "2022-04-01T08:36:41.997Z"
   },
   {
    "duration": 11,
    "start_time": "2022-04-01T08:38:50.199Z"
   },
   {
    "duration": 20,
    "start_time": "2022-04-01T08:39:09.336Z"
   },
   {
    "duration": 15,
    "start_time": "2022-04-01T08:39:17.330Z"
   },
   {
    "duration": 18,
    "start_time": "2022-04-01T08:39:24.286Z"
   },
   {
    "duration": 10,
    "start_time": "2022-04-01T08:39:31.821Z"
   },
   {
    "duration": 7,
    "start_time": "2022-04-01T08:40:11.101Z"
   },
   {
    "duration": 107,
    "start_time": "2022-04-01T08:40:45.518Z"
   },
   {
    "duration": 51,
    "start_time": "2022-04-01T08:40:47.222Z"
   },
   {
    "duration": 39,
    "start_time": "2022-04-01T08:40:49.638Z"
   },
   {
    "duration": 7,
    "start_time": "2022-04-01T08:40:51.189Z"
   },
   {
    "duration": 22,
    "start_time": "2022-04-01T09:36:16.805Z"
   },
   {
    "duration": 30,
    "start_time": "2022-04-01T09:36:21.950Z"
   },
   {
    "duration": 10,
    "start_time": "2022-04-01T09:38:33.151Z"
   },
   {
    "duration": 17,
    "start_time": "2022-04-01T09:39:01.169Z"
   },
   {
    "duration": 13,
    "start_time": "2022-04-01T09:39:08.774Z"
   },
   {
    "duration": 12,
    "start_time": "2022-04-01T09:39:39.948Z"
   },
   {
    "duration": 10,
    "start_time": "2022-04-01T09:40:00.349Z"
   },
   {
    "duration": 8,
    "start_time": "2022-04-01T09:40:27.278Z"
   },
   {
    "duration": 11,
    "start_time": "2022-04-01T09:41:42.742Z"
   },
   {
    "duration": 23,
    "start_time": "2022-04-01T09:53:40.101Z"
   },
   {
    "duration": 8,
    "start_time": "2022-04-01T09:53:42.326Z"
   },
   {
    "duration": 33,
    "start_time": "2022-04-01T09:56:07.133Z"
   },
   {
    "duration": 13,
    "start_time": "2022-04-01T09:56:10.825Z"
   },
   {
    "duration": 52,
    "start_time": "2022-04-01T09:59:33.839Z"
   },
   {
    "duration": 45,
    "start_time": "2022-04-01T09:59:45.273Z"
   },
   {
    "duration": 50,
    "start_time": "2022-04-01T10:00:04.835Z"
   },
   {
    "duration": 59,
    "start_time": "2022-04-01T10:00:40.771Z"
   },
   {
    "duration": 44,
    "start_time": "2022-04-01T10:01:27.277Z"
   },
   {
    "duration": 6,
    "start_time": "2022-04-01T10:01:44.242Z"
   },
   {
    "duration": 44,
    "start_time": "2022-04-01T10:08:24.177Z"
   },
   {
    "duration": 43,
    "start_time": "2022-04-01T10:08:34.051Z"
   },
   {
    "duration": 42,
    "start_time": "2022-04-01T10:08:56.019Z"
   },
   {
    "duration": 4,
    "start_time": "2022-04-01T10:10:14.450Z"
   },
   {
    "duration": 5,
    "start_time": "2022-04-01T10:11:43.874Z"
   },
   {
    "duration": 27,
    "start_time": "2022-04-01T10:13:15.358Z"
   },
   {
    "duration": 27,
    "start_time": "2022-04-01T10:13:25.252Z"
   },
   {
    "duration": 29,
    "start_time": "2022-04-01T10:13:31.054Z"
   },
   {
    "duration": 53,
    "start_time": "2022-04-01T10:18:57.157Z"
   },
   {
    "duration": 46,
    "start_time": "2022-04-01T10:25:55.135Z"
   },
   {
    "duration": 43,
    "start_time": "2022-04-01T10:34:27.976Z"
   },
   {
    "duration": 44,
    "start_time": "2022-04-01T10:35:23.048Z"
   },
   {
    "duration": 2,
    "start_time": "2022-04-01T10:36:57.692Z"
   },
   {
    "duration": 8,
    "start_time": "2022-04-01T10:42:48.880Z"
   },
   {
    "duration": 20,
    "start_time": "2022-04-01T10:43:32.847Z"
   },
   {
    "duration": 51,
    "start_time": "2022-04-01T10:45:09.989Z"
   },
   {
    "duration": 34,
    "start_time": "2022-04-01T10:45:22.510Z"
   },
   {
    "duration": 29,
    "start_time": "2022-04-01T10:46:21.270Z"
   },
   {
    "duration": 28,
    "start_time": "2022-04-01T10:46:35.287Z"
   },
   {
    "duration": 28,
    "start_time": "2022-04-01T10:47:24.758Z"
   },
   {
    "duration": 9,
    "start_time": "2022-04-01T10:48:42.357Z"
   },
   {
    "duration": 18,
    "start_time": "2022-04-01T10:49:15.134Z"
   },
   {
    "duration": 9,
    "start_time": "2022-04-01T10:49:16.823Z"
   },
   {
    "duration": 35,
    "start_time": "2022-04-01T10:50:43.477Z"
   },
   {
    "duration": 8,
    "start_time": "2022-04-01T10:56:50.392Z"
   },
   {
    "duration": 10,
    "start_time": "2022-04-01T10:57:53.801Z"
   },
   {
    "duration": 25,
    "start_time": "2022-04-01T11:02:40.448Z"
   },
   {
    "duration": 2612,
    "start_time": "2022-04-01T11:03:09.819Z"
   },
   {
    "duration": 8,
    "start_time": "2022-04-01T11:03:39.211Z"
   },
   {
    "duration": 14,
    "start_time": "2022-04-01T11:03:48.595Z"
   },
   {
    "duration": 4,
    "start_time": "2022-04-01T11:04:23.389Z"
   },
   {
    "duration": 49,
    "start_time": "2022-04-01T11:06:22.555Z"
   },
   {
    "duration": 17,
    "start_time": "2022-04-01T11:06:24.788Z"
   },
   {
    "duration": 13,
    "start_time": "2022-04-01T11:12:10.281Z"
   },
   {
    "duration": 25,
    "start_time": "2022-04-01T11:12:15.160Z"
   },
   {
    "duration": 10,
    "start_time": "2022-04-01T11:15:53.977Z"
   },
   {
    "duration": 41,
    "start_time": "2022-04-01T11:55:33.764Z"
   },
   {
    "duration": 39,
    "start_time": "2022-04-01T11:55:41.524Z"
   },
   {
    "duration": 12,
    "start_time": "2022-04-01T12:02:42.169Z"
   },
   {
    "duration": 11,
    "start_time": "2022-04-01T12:02:53.792Z"
   },
   {
    "duration": 11,
    "start_time": "2022-04-01T12:03:02.448Z"
   },
   {
    "duration": 11,
    "start_time": "2022-04-01T12:03:32.077Z"
   },
   {
    "duration": 13,
    "start_time": "2022-04-01T12:05:03.496Z"
   },
   {
    "duration": 17,
    "start_time": "2022-04-01T12:05:22.644Z"
   },
   {
    "duration": 21,
    "start_time": "2022-04-01T12:05:38.152Z"
   },
   {
    "duration": 52,
    "start_time": "2022-04-01T12:06:30.639Z"
   },
   {
    "duration": 57,
    "start_time": "2022-04-01T12:07:29.406Z"
   },
   {
    "duration": 66,
    "start_time": "2022-04-01T12:07:58.298Z"
   },
   {
    "duration": 74,
    "start_time": "2022-04-01T12:08:03.120Z"
   },
   {
    "duration": 67,
    "start_time": "2022-04-01T12:23:03.950Z"
   },
   {
    "duration": 532,
    "start_time": "2022-04-01T12:23:43.457Z"
   },
   {
    "duration": 5,
    "start_time": "2022-04-01T12:24:32.111Z"
   },
   {
    "duration": 11,
    "start_time": "2022-04-01T12:24:43.095Z"
   },
   {
    "duration": 27442,
    "start_time": "2022-04-01T12:33:00.038Z"
   },
   {
    "duration": 25649,
    "start_time": "2022-04-01T12:38:46.939Z"
   },
   {
    "duration": 26166,
    "start_time": "2022-04-01T12:40:38.756Z"
   },
   {
    "duration": 16,
    "start_time": "2022-04-01T12:41:39.795Z"
   },
   {
    "duration": 41,
    "start_time": "2022-04-01T12:44:09.162Z"
   },
   {
    "duration": 25702,
    "start_time": "2022-04-01T12:44:29.094Z"
   },
   {
    "duration": 14,
    "start_time": "2022-04-01T12:46:56.809Z"
   },
   {
    "duration": 12,
    "start_time": "2022-04-01T12:50:42.851Z"
   },
   {
    "duration": 22,
    "start_time": "2022-04-01T12:50:53.581Z"
   },
   {
    "duration": 29267,
    "start_time": "2022-04-01T12:59:59.348Z"
   },
   {
    "duration": 5,
    "start_time": "2022-04-01T13:29:37.948Z"
   },
   {
    "duration": 6,
    "start_time": "2022-04-01T13:29:41.260Z"
   },
   {
    "duration": 12,
    "start_time": "2022-04-01T13:29:53.564Z"
   },
   {
    "duration": 13,
    "start_time": "2022-04-01T13:30:16.734Z"
   },
   {
    "duration": 421,
    "start_time": "2022-04-01T13:31:08.824Z"
   },
   {
    "duration": 8,
    "start_time": "2022-04-01T13:31:09.246Z"
   },
   {
    "duration": 10,
    "start_time": "2022-04-01T13:31:09.256Z"
   },
   {
    "duration": 9,
    "start_time": "2022-04-01T13:31:09.268Z"
   },
   {
    "duration": 8,
    "start_time": "2022-04-01T13:31:09.279Z"
   },
   {
    "duration": 42,
    "start_time": "2022-04-01T13:31:09.289Z"
   },
   {
    "duration": 6,
    "start_time": "2022-04-01T13:31:09.333Z"
   },
   {
    "duration": 275,
    "start_time": "2022-04-01T13:31:09.341Z"
   },
   {
    "duration": 21,
    "start_time": "2022-04-01T13:31:09.618Z"
   },
   {
    "duration": 178,
    "start_time": "2022-04-01T13:31:09.642Z"
   },
   {
    "duration": 15,
    "start_time": "2022-04-01T13:31:09.822Z"
   },
   {
    "duration": 192,
    "start_time": "2022-04-01T13:31:09.839Z"
   },
   {
    "duration": 18,
    "start_time": "2022-04-01T13:31:10.033Z"
   },
   {
    "duration": 58,
    "start_time": "2022-04-01T13:31:10.052Z"
   },
   {
    "duration": 5,
    "start_time": "2022-04-01T13:31:10.112Z"
   },
   {
    "duration": 6,
    "start_time": "2022-04-01T13:31:10.119Z"
   },
   {
    "duration": 7,
    "start_time": "2022-04-01T13:31:10.127Z"
   },
   {
    "duration": 17,
    "start_time": "2022-04-01T13:31:10.136Z"
   },
   {
    "duration": 7,
    "start_time": "2022-04-01T13:31:10.154Z"
   },
   {
    "duration": 6,
    "start_time": "2022-04-01T13:31:10.163Z"
   },
   {
    "duration": 42,
    "start_time": "2022-04-01T13:31:10.171Z"
   },
   {
    "duration": 11,
    "start_time": "2022-04-01T13:31:10.215Z"
   },
   {
    "duration": 7,
    "start_time": "2022-04-01T13:31:10.228Z"
   },
   {
    "duration": 98,
    "start_time": "2022-04-01T13:31:10.236Z"
   },
   {
    "duration": 47,
    "start_time": "2022-04-01T13:31:10.336Z"
   },
   {
    "duration": 41,
    "start_time": "2022-04-01T13:31:10.385Z"
   },
   {
    "duration": 7,
    "start_time": "2022-04-01T13:31:10.428Z"
   },
   {
    "duration": 35,
    "start_time": "2022-04-01T13:31:10.439Z"
   },
   {
    "duration": 59,
    "start_time": "2022-04-01T13:31:10.476Z"
   },
   {
    "duration": 6,
    "start_time": "2022-04-01T13:31:10.537Z"
   },
   {
    "duration": 6,
    "start_time": "2022-04-01T13:31:10.545Z"
   },
   {
    "duration": 60,
    "start_time": "2022-04-01T13:31:10.553Z"
   },
   {
    "duration": 27,
    "start_time": "2022-04-01T13:31:10.615Z"
   },
   {
    "duration": 40,
    "start_time": "2022-04-01T13:31:10.644Z"
   },
   {
    "duration": 29,
    "start_time": "2022-04-01T13:31:10.686Z"
   },
   {
    "duration": 5,
    "start_time": "2022-04-01T13:31:10.716Z"
   },
   {
    "duration": 7,
    "start_time": "2022-04-01T13:31:10.723Z"
   },
   {
    "duration": 6,
    "start_time": "2022-04-01T13:31:10.732Z"
   },
   {
    "duration": 8,
    "start_time": "2022-04-01T13:31:10.740Z"
   },
   {
    "duration": 5,
    "start_time": "2022-04-01T13:31:10.750Z"
   },
   {
    "duration": 5,
    "start_time": "2022-04-01T13:31:10.757Z"
   },
   {
    "duration": 54,
    "start_time": "2022-04-01T13:31:10.764Z"
   },
   {
    "duration": 13,
    "start_time": "2022-04-01T13:31:10.820Z"
   },
   {
    "duration": 20,
    "start_time": "2022-04-01T13:31:10.835Z"
   },
   {
    "duration": 18,
    "start_time": "2022-04-01T13:31:10.857Z"
   },
   {
    "duration": 47,
    "start_time": "2022-04-01T13:31:10.877Z"
   },
   {
    "duration": 10,
    "start_time": "2022-04-01T13:31:10.926Z"
   },
   {
    "duration": 8,
    "start_time": "2022-04-01T13:31:10.938Z"
   },
   {
    "duration": 132,
    "start_time": "2022-04-01T13:31:10.948Z"
   },
   {
    "duration": 54,
    "start_time": "2022-04-01T13:31:11.082Z"
   },
   {
    "duration": 40,
    "start_time": "2022-04-01T13:31:11.138Z"
   },
   {
    "duration": 5,
    "start_time": "2022-04-01T13:31:11.180Z"
   },
   {
    "duration": 67,
    "start_time": "2022-04-01T13:31:11.187Z"
   },
   {
    "duration": 31,
    "start_time": "2022-04-01T13:31:11.256Z"
   },
   {
    "duration": 37,
    "start_time": "2022-04-01T13:31:11.308Z"
   },
   {
    "duration": 29638,
    "start_time": "2022-04-01T13:31:11.348Z"
   },
   {
    "duration": 46,
    "start_time": "2022-04-01T13:31:40.988Z"
   },
   {
    "duration": 8,
    "start_time": "2022-04-01T13:31:41.036Z"
   },
   {
    "duration": 36,
    "start_time": "2022-04-01T13:33:27.692Z"
   },
   {
    "duration": 65,
    "start_time": "2022-04-01T13:34:08.404Z"
   },
   {
    "duration": 421,
    "start_time": "2022-04-01T13:35:03.295Z"
   },
   {
    "duration": 8,
    "start_time": "2022-04-01T13:35:03.718Z"
   },
   {
    "duration": 11,
    "start_time": "2022-04-01T13:35:03.728Z"
   },
   {
    "duration": 10,
    "start_time": "2022-04-01T13:35:03.741Z"
   },
   {
    "duration": 9,
    "start_time": "2022-04-01T13:35:03.753Z"
   },
   {
    "duration": 60,
    "start_time": "2022-04-01T13:35:03.764Z"
   },
   {
    "duration": 6,
    "start_time": "2022-04-01T13:35:03.825Z"
   },
   {
    "duration": 265,
    "start_time": "2022-04-01T13:35:03.833Z"
   },
   {
    "duration": 27,
    "start_time": "2022-04-01T13:35:04.099Z"
   },
   {
    "duration": 149,
    "start_time": "2022-04-01T13:35:04.130Z"
   },
   {
    "duration": 15,
    "start_time": "2022-04-01T13:35:04.282Z"
   },
   {
    "duration": 178,
    "start_time": "2022-04-01T13:35:04.309Z"
   },
   {
    "duration": 28,
    "start_time": "2022-04-01T13:35:04.488Z"
   },
   {
    "duration": 38,
    "start_time": "2022-04-01T13:35:04.519Z"
   },
   {
    "duration": 6,
    "start_time": "2022-04-01T13:35:04.559Z"
   },
   {
    "duration": 8,
    "start_time": "2022-04-01T13:35:04.567Z"
   },
   {
    "duration": 39,
    "start_time": "2022-04-01T13:35:04.576Z"
   },
   {
    "duration": 13,
    "start_time": "2022-04-01T13:35:04.616Z"
   },
   {
    "duration": 7,
    "start_time": "2022-04-01T13:35:04.630Z"
   },
   {
    "duration": 9,
    "start_time": "2022-04-01T13:35:04.639Z"
   },
   {
    "duration": 7,
    "start_time": "2022-04-01T13:35:04.649Z"
   },
   {
    "duration": 10,
    "start_time": "2022-04-01T13:35:04.658Z"
   },
   {
    "duration": 40,
    "start_time": "2022-04-01T13:35:04.670Z"
   },
   {
    "duration": 76,
    "start_time": "2022-04-01T13:35:04.711Z"
   },
   {
    "duration": 61,
    "start_time": "2022-04-01T13:35:04.789Z"
   },
   {
    "duration": 28,
    "start_time": "2022-04-01T13:35:04.851Z"
   },
   {
    "duration": 28,
    "start_time": "2022-04-01T13:35:04.881Z"
   },
   {
    "duration": 34,
    "start_time": "2022-04-01T13:35:04.913Z"
   },
   {
    "duration": 33,
    "start_time": "2022-04-01T13:35:04.949Z"
   },
   {
    "duration": 27,
    "start_time": "2022-04-01T13:35:04.983Z"
   },
   {
    "duration": 7,
    "start_time": "2022-04-01T13:35:05.011Z"
   },
   {
    "duration": 43,
    "start_time": "2022-04-01T13:35:05.020Z"
   },
   {
    "duration": 44,
    "start_time": "2022-04-01T13:35:05.065Z"
   },
   {
    "duration": 38,
    "start_time": "2022-04-01T13:35:05.110Z"
   },
   {
    "duration": 5,
    "start_time": "2022-04-01T13:35:05.150Z"
   },
   {
    "duration": 6,
    "start_time": "2022-04-01T13:35:05.157Z"
   },
   {
    "duration": 8,
    "start_time": "2022-04-01T13:35:05.164Z"
   },
   {
    "duration": 8,
    "start_time": "2022-04-01T13:35:05.174Z"
   },
   {
    "duration": 5,
    "start_time": "2022-04-01T13:35:05.208Z"
   },
   {
    "duration": 9,
    "start_time": "2022-04-01T13:35:05.215Z"
   },
   {
    "duration": 9,
    "start_time": "2022-04-01T13:35:05.226Z"
   },
   {
    "duration": 14,
    "start_time": "2022-04-01T13:35:05.236Z"
   },
   {
    "duration": 17,
    "start_time": "2022-04-01T13:35:05.252Z"
   },
   {
    "duration": 39,
    "start_time": "2022-04-01T13:35:05.270Z"
   },
   {
    "duration": 14,
    "start_time": "2022-04-01T13:35:05.311Z"
   },
   {
    "duration": 15,
    "start_time": "2022-04-01T13:35:05.327Z"
   },
   {
    "duration": 10,
    "start_time": "2022-04-01T13:35:05.344Z"
   },
   {
    "duration": 7,
    "start_time": "2022-04-01T13:35:05.355Z"
   },
   {
    "duration": 121,
    "start_time": "2022-04-01T13:35:05.363Z"
   },
   {
    "duration": 49,
    "start_time": "2022-04-01T13:35:05.486Z"
   },
   {
    "duration": 42,
    "start_time": "2022-04-01T13:35:05.537Z"
   },
   {
    "duration": 6,
    "start_time": "2022-04-01T13:35:05.581Z"
   },
   {
    "duration": 45,
    "start_time": "2022-04-01T13:35:05.609Z"
   },
   {
    "duration": 30,
    "start_time": "2022-04-01T13:35:05.655Z"
   },
   {
    "duration": 53,
    "start_time": "2022-04-01T13:35:05.687Z"
   },
   {
    "duration": 29854,
    "start_time": "2022-04-01T13:35:05.742Z"
   },
   {
    "duration": 82,
    "start_time": "2022-04-01T13:35:35.598Z"
   },
   {
    "duration": 11,
    "start_time": "2022-04-01T13:35:35.682Z"
   },
   {
    "duration": 53,
    "start_time": "2022-04-01T13:38:41.918Z"
   },
   {
    "duration": 402,
    "start_time": "2022-04-01T13:42:01.607Z"
   },
   {
    "duration": 7,
    "start_time": "2022-04-01T13:42:02.011Z"
   },
   {
    "duration": 23,
    "start_time": "2022-04-01T13:42:02.020Z"
   },
   {
    "duration": 16,
    "start_time": "2022-04-01T13:42:02.045Z"
   },
   {
    "duration": 20,
    "start_time": "2022-04-01T13:42:02.062Z"
   },
   {
    "duration": 41,
    "start_time": "2022-04-01T13:42:02.083Z"
   },
   {
    "duration": 6,
    "start_time": "2022-04-01T13:42:02.126Z"
   },
   {
    "duration": 264,
    "start_time": "2022-04-01T13:42:02.133Z"
   },
   {
    "duration": 25,
    "start_time": "2022-04-01T13:42:02.398Z"
   },
   {
    "duration": 136,
    "start_time": "2022-04-01T13:42:02.426Z"
   },
   {
    "duration": 15,
    "start_time": "2022-04-01T13:42:02.564Z"
   },
   {
    "duration": 173,
    "start_time": "2022-04-01T13:42:02.580Z"
   },
   {
    "duration": 16,
    "start_time": "2022-04-01T13:42:02.755Z"
   },
   {
    "duration": 54,
    "start_time": "2022-04-01T13:42:02.773Z"
   },
   {
    "duration": 6,
    "start_time": "2022-04-01T13:42:02.828Z"
   },
   {
    "duration": 17,
    "start_time": "2022-04-01T13:42:02.836Z"
   },
   {
    "duration": 15,
    "start_time": "2022-04-01T13:42:02.855Z"
   },
   {
    "duration": 16,
    "start_time": "2022-04-01T13:42:02.871Z"
   },
   {
    "duration": 7,
    "start_time": "2022-04-01T13:42:02.888Z"
   },
   {
    "duration": 5,
    "start_time": "2022-04-01T13:42:02.909Z"
   },
   {
    "duration": 15,
    "start_time": "2022-04-01T13:42:02.916Z"
   },
   {
    "duration": 19,
    "start_time": "2022-04-01T13:42:02.932Z"
   },
   {
    "duration": 14,
    "start_time": "2022-04-01T13:42:02.952Z"
   },
   {
    "duration": 79,
    "start_time": "2022-04-01T13:42:02.968Z"
   },
   {
    "duration": 60,
    "start_time": "2022-04-01T13:42:03.048Z"
   },
   {
    "duration": 28,
    "start_time": "2022-04-01T13:42:03.110Z"
   },
   {
    "duration": 6,
    "start_time": "2022-04-01T13:42:03.140Z"
   },
   {
    "duration": 33,
    "start_time": "2022-04-01T13:42:03.150Z"
   },
   {
    "duration": 31,
    "start_time": "2022-04-01T13:42:03.209Z"
   },
   {
    "duration": 6,
    "start_time": "2022-04-01T13:42:03.242Z"
   },
   {
    "duration": 14,
    "start_time": "2022-04-01T13:42:03.249Z"
   },
   {
    "duration": 46,
    "start_time": "2022-04-01T13:42:03.264Z"
   },
   {
    "duration": 24,
    "start_time": "2022-04-01T13:42:03.312Z"
   },
   {
    "duration": 37,
    "start_time": "2022-04-01T13:42:03.338Z"
   },
   {
    "duration": 6,
    "start_time": "2022-04-01T13:42:03.376Z"
   },
   {
    "duration": 29,
    "start_time": "2022-04-01T13:42:03.383Z"
   },
   {
    "duration": 6,
    "start_time": "2022-04-01T13:42:03.413Z"
   },
   {
    "duration": 14,
    "start_time": "2022-04-01T13:42:03.421Z"
   },
   {
    "duration": 11,
    "start_time": "2022-04-01T13:42:03.436Z"
   },
   {
    "duration": 10,
    "start_time": "2022-04-01T13:42:03.448Z"
   },
   {
    "duration": 7,
    "start_time": "2022-04-01T13:42:03.459Z"
   },
   {
    "duration": 13,
    "start_time": "2022-04-01T13:42:03.467Z"
   },
   {
    "duration": 27,
    "start_time": "2022-04-01T13:42:03.482Z"
   },
   {
    "duration": 22,
    "start_time": "2022-04-01T13:42:03.510Z"
   },
   {
    "duration": 14,
    "start_time": "2022-04-01T13:42:03.534Z"
   },
   {
    "duration": 15,
    "start_time": "2022-04-01T13:42:03.550Z"
   },
   {
    "duration": 10,
    "start_time": "2022-04-01T13:42:03.567Z"
   },
   {
    "duration": 35,
    "start_time": "2022-04-01T13:42:03.578Z"
   },
   {
    "duration": 101,
    "start_time": "2022-04-01T13:42:03.615Z"
   },
   {
    "duration": 38,
    "start_time": "2022-04-01T13:42:03.717Z"
   },
   {
    "duration": 54,
    "start_time": "2022-04-01T13:42:03.756Z"
   },
   {
    "duration": 5,
    "start_time": "2022-04-01T13:42:03.812Z"
   },
   {
    "duration": 108,
    "start_time": "2022-04-01T13:42:03.819Z"
   },
   {
    "duration": 29,
    "start_time": "2022-04-01T13:42:03.929Z"
   },
   {
    "duration": 50,
    "start_time": "2022-04-01T13:42:03.959Z"
   },
   {
    "duration": 28951,
    "start_time": "2022-04-01T13:42:04.010Z"
   },
   {
    "duration": 22,
    "start_time": "2022-04-01T13:42:32.962Z"
   },
   {
    "duration": 25,
    "start_time": "2022-04-01T13:42:32.985Z"
   },
   {
    "duration": 27,
    "start_time": "2022-04-01T13:43:53.852Z"
   },
   {
    "duration": 445,
    "start_time": "2022-04-01T13:46:54.237Z"
   },
   {
    "duration": 8,
    "start_time": "2022-04-01T13:46:54.685Z"
   },
   {
    "duration": 10,
    "start_time": "2022-04-01T13:46:54.695Z"
   },
   {
    "duration": 13,
    "start_time": "2022-04-01T13:46:54.708Z"
   },
   {
    "duration": 9,
    "start_time": "2022-04-01T13:46:54.723Z"
   },
   {
    "duration": 33,
    "start_time": "2022-04-01T13:46:54.734Z"
   },
   {
    "duration": 7,
    "start_time": "2022-04-01T13:46:54.769Z"
   },
   {
    "duration": 284,
    "start_time": "2022-04-01T13:46:54.778Z"
   },
   {
    "duration": 21,
    "start_time": "2022-04-01T13:46:55.064Z"
   },
   {
    "duration": 150,
    "start_time": "2022-04-01T13:46:55.089Z"
   },
   {
    "duration": 14,
    "start_time": "2022-04-01T13:46:55.240Z"
   },
   {
    "duration": 178,
    "start_time": "2022-04-01T13:46:55.255Z"
   },
   {
    "duration": 17,
    "start_time": "2022-04-01T13:46:55.435Z"
   },
   {
    "duration": 53,
    "start_time": "2022-04-01T13:46:55.455Z"
   },
   {
    "duration": 6,
    "start_time": "2022-04-01T13:46:55.510Z"
   },
   {
    "duration": 6,
    "start_time": "2022-04-01T13:46:55.517Z"
   },
   {
    "duration": 5,
    "start_time": "2022-04-01T13:46:55.524Z"
   },
   {
    "duration": 10,
    "start_time": "2022-04-01T13:46:55.531Z"
   },
   {
    "duration": 10,
    "start_time": "2022-04-01T13:46:55.543Z"
   },
   {
    "duration": 7,
    "start_time": "2022-04-01T13:46:55.554Z"
   },
   {
    "duration": 47,
    "start_time": "2022-04-01T13:46:55.563Z"
   },
   {
    "duration": 10,
    "start_time": "2022-04-01T13:46:55.611Z"
   },
   {
    "duration": 8,
    "start_time": "2022-04-01T13:46:55.622Z"
   },
   {
    "duration": 90,
    "start_time": "2022-04-01T13:46:55.631Z"
   },
   {
    "duration": 58,
    "start_time": "2022-04-01T13:46:55.723Z"
   },
   {
    "duration": 43,
    "start_time": "2022-04-01T13:46:55.783Z"
   },
   {
    "duration": 6,
    "start_time": "2022-04-01T13:46:55.827Z"
   },
   {
    "duration": 31,
    "start_time": "2022-04-01T13:46:55.836Z"
   },
   {
    "duration": 55,
    "start_time": "2022-04-01T13:46:55.869Z"
   },
   {
    "duration": 4,
    "start_time": "2022-04-01T13:46:55.926Z"
   },
   {
    "duration": 6,
    "start_time": "2022-04-01T13:46:55.932Z"
   },
   {
    "duration": 31,
    "start_time": "2022-04-01T13:46:55.939Z"
   },
   {
    "duration": 50,
    "start_time": "2022-04-01T13:46:55.971Z"
   },
   {
    "duration": 35,
    "start_time": "2022-04-01T13:46:56.023Z"
   },
   {
    "duration": 6,
    "start_time": "2022-04-01T13:46:56.060Z"
   },
   {
    "duration": 4,
    "start_time": "2022-04-01T13:46:56.068Z"
   },
   {
    "duration": 38,
    "start_time": "2022-04-01T13:46:56.074Z"
   },
   {
    "duration": 13,
    "start_time": "2022-04-01T13:46:56.114Z"
   },
   {
    "duration": 9,
    "start_time": "2022-04-01T13:46:56.129Z"
   },
   {
    "duration": 16,
    "start_time": "2022-04-01T13:46:56.139Z"
   },
   {
    "duration": 12,
    "start_time": "2022-04-01T13:46:56.156Z"
   },
   {
    "duration": 14,
    "start_time": "2022-04-01T13:46:56.169Z"
   },
   {
    "duration": 25,
    "start_time": "2022-04-01T13:46:56.184Z"
   },
   {
    "duration": 18,
    "start_time": "2022-04-01T13:46:56.210Z"
   },
   {
    "duration": 14,
    "start_time": "2022-04-01T13:46:56.229Z"
   },
   {
    "duration": 16,
    "start_time": "2022-04-01T13:46:56.244Z"
   },
   {
    "duration": 9,
    "start_time": "2022-04-01T13:46:56.261Z"
   },
   {
    "duration": 6,
    "start_time": "2022-04-01T13:46:56.308Z"
   },
   {
    "duration": 106,
    "start_time": "2022-04-01T13:46:56.316Z"
   },
   {
    "duration": 47,
    "start_time": "2022-04-01T13:46:56.423Z"
   },
   {
    "duration": 52,
    "start_time": "2022-04-01T13:46:56.472Z"
   },
   {
    "duration": 6,
    "start_time": "2022-04-01T13:46:56.525Z"
   },
   {
    "duration": 49,
    "start_time": "2022-04-01T13:46:56.533Z"
   },
   {
    "duration": 45,
    "start_time": "2022-04-01T13:46:56.583Z"
   },
   {
    "duration": 32,
    "start_time": "2022-04-01T13:46:56.630Z"
   },
   {
    "duration": 29611,
    "start_time": "2022-04-01T13:46:56.663Z"
   },
   {
    "duration": 12,
    "start_time": "2022-04-01T13:47:26.276Z"
   },
   {
    "duration": 17,
    "start_time": "2022-04-01T14:05:36.371Z"
   },
   {
    "duration": 22,
    "start_time": "2022-04-01T14:09:55.933Z"
   },
   {
    "duration": 22,
    "start_time": "2022-04-01T14:11:30.989Z"
   },
   {
    "duration": 397,
    "start_time": "2022-04-01T14:26:41.413Z"
   },
   {
    "duration": 8,
    "start_time": "2022-04-01T14:26:41.812Z"
   },
   {
    "duration": 8,
    "start_time": "2022-04-01T14:26:41.821Z"
   },
   {
    "duration": 10,
    "start_time": "2022-04-01T14:26:41.831Z"
   },
   {
    "duration": 11,
    "start_time": "2022-04-01T14:26:41.843Z"
   },
   {
    "duration": 33,
    "start_time": "2022-04-01T14:26:41.855Z"
   },
   {
    "duration": 5,
    "start_time": "2022-04-01T14:26:41.908Z"
   },
   {
    "duration": 241,
    "start_time": "2022-04-01T14:26:41.914Z"
   },
   {
    "duration": 18,
    "start_time": "2022-04-01T14:26:42.156Z"
   },
   {
    "duration": 124,
    "start_time": "2022-04-01T14:26:42.177Z"
   },
   {
    "duration": 13,
    "start_time": "2022-04-01T14:26:42.308Z"
   },
   {
    "duration": 162,
    "start_time": "2022-04-01T14:26:42.322Z"
   },
   {
    "duration": 27,
    "start_time": "2022-04-01T14:26:42.486Z"
   },
   {
    "duration": 32,
    "start_time": "2022-04-01T14:26:42.514Z"
   },
   {
    "duration": 5,
    "start_time": "2022-04-01T14:26:42.547Z"
   },
   {
    "duration": 8,
    "start_time": "2022-04-01T14:26:42.554Z"
   },
   {
    "duration": 5,
    "start_time": "2022-04-01T14:26:42.564Z"
   },
   {
    "duration": 39,
    "start_time": "2022-04-01T14:26:42.571Z"
   },
   {
    "duration": 6,
    "start_time": "2022-04-01T14:26:42.612Z"
   },
   {
    "duration": 6,
    "start_time": "2022-04-01T14:26:42.620Z"
   },
   {
    "duration": 6,
    "start_time": "2022-04-01T14:26:42.628Z"
   },
   {
    "duration": 11,
    "start_time": "2022-04-01T14:26:42.636Z"
   },
   {
    "duration": 5,
    "start_time": "2022-04-01T14:26:42.648Z"
   },
   {
    "duration": 106,
    "start_time": "2022-04-01T14:26:42.654Z"
   },
   {
    "duration": 56,
    "start_time": "2022-04-01T14:26:42.761Z"
   },
   {
    "duration": 26,
    "start_time": "2022-04-01T14:26:42.819Z"
   },
   {
    "duration": 6,
    "start_time": "2022-04-01T14:26:42.847Z"
   },
   {
    "duration": 54,
    "start_time": "2022-04-01T14:26:42.857Z"
   },
   {
    "duration": 32,
    "start_time": "2022-04-01T14:26:42.912Z"
   },
   {
    "duration": 6,
    "start_time": "2022-04-01T14:26:42.946Z"
   },
   {
    "duration": 8,
    "start_time": "2022-04-01T14:26:42.953Z"
   },
   {
    "duration": 57,
    "start_time": "2022-04-01T14:26:42.962Z"
   },
   {
    "duration": 26,
    "start_time": "2022-04-01T14:26:43.021Z"
   },
   {
    "duration": 60,
    "start_time": "2022-04-01T14:26:43.049Z"
   },
   {
    "duration": 6,
    "start_time": "2022-04-01T14:26:43.110Z"
   },
   {
    "duration": 5,
    "start_time": "2022-04-01T14:26:43.117Z"
   },
   {
    "duration": 8,
    "start_time": "2022-04-01T14:26:43.123Z"
   },
   {
    "duration": 5,
    "start_time": "2022-04-01T14:26:43.132Z"
   },
   {
    "duration": 9,
    "start_time": "2022-04-01T14:26:43.139Z"
   },
   {
    "duration": 11,
    "start_time": "2022-04-01T14:26:43.149Z"
   },
   {
    "duration": 8,
    "start_time": "2022-04-01T14:26:43.161Z"
   },
   {
    "duration": 38,
    "start_time": "2022-04-01T14:26:43.171Z"
   },
   {
    "duration": 10,
    "start_time": "2022-04-01T14:26:43.211Z"
   },
   {
    "duration": 19,
    "start_time": "2022-04-01T14:26:43.222Z"
   },
   {
    "duration": 14,
    "start_time": "2022-04-01T14:26:43.242Z"
   },
   {
    "duration": 17,
    "start_time": "2022-04-01T14:26:43.258Z"
   },
   {
    "duration": 39,
    "start_time": "2022-04-01T14:26:43.276Z"
   },
   {
    "duration": 11,
    "start_time": "2022-04-01T14:26:43.317Z"
   },
   {
    "duration": 102,
    "start_time": "2022-04-01T14:26:43.329Z"
   },
   {
    "duration": 37,
    "start_time": "2022-04-01T14:26:43.432Z"
   },
   {
    "duration": 54,
    "start_time": "2022-04-01T14:26:43.470Z"
   },
   {
    "duration": 5,
    "start_time": "2022-04-01T14:26:43.525Z"
   },
   {
    "duration": 52,
    "start_time": "2022-04-01T14:26:43.532Z"
   },
   {
    "duration": 46,
    "start_time": "2022-04-01T14:26:43.586Z"
   },
   {
    "duration": 35,
    "start_time": "2022-04-01T14:26:43.634Z"
   },
   {
    "duration": 29033,
    "start_time": "2022-04-01T14:26:43.671Z"
   },
   {
    "duration": 1060,
    "start_time": "2022-04-01T14:27:12.706Z"
   },
   {
    "duration": 0,
    "start_time": "2022-04-01T14:27:13.768Z"
   },
   {
    "duration": 22,
    "start_time": "2022-04-01T14:27:44.810Z"
   },
   {
    "duration": 407,
    "start_time": "2022-04-01T14:31:26.241Z"
   },
   {
    "duration": 386,
    "start_time": "2022-04-01T14:31:35.407Z"
   },
   {
    "duration": 8,
    "start_time": "2022-04-01T14:31:35.795Z"
   },
   {
    "duration": 10,
    "start_time": "2022-04-01T14:31:35.805Z"
   },
   {
    "duration": 9,
    "start_time": "2022-04-01T14:31:35.817Z"
   },
   {
    "duration": 8,
    "start_time": "2022-04-01T14:31:35.828Z"
   },
   {
    "duration": 33,
    "start_time": "2022-04-01T14:31:35.838Z"
   },
   {
    "duration": 6,
    "start_time": "2022-04-01T14:31:35.872Z"
   },
   {
    "duration": 279,
    "start_time": "2022-04-01T14:31:35.880Z"
   },
   {
    "duration": 22,
    "start_time": "2022-04-01T14:31:36.161Z"
   },
   {
    "duration": 133,
    "start_time": "2022-04-01T14:31:36.184Z"
   },
   {
    "duration": 15,
    "start_time": "2022-04-01T14:31:36.319Z"
   },
   {
    "duration": 185,
    "start_time": "2022-04-01T14:31:36.336Z"
   },
   {
    "duration": 19,
    "start_time": "2022-04-01T14:31:36.523Z"
   },
   {
    "duration": 37,
    "start_time": "2022-04-01T14:31:36.545Z"
   },
   {
    "duration": 29,
    "start_time": "2022-04-01T14:31:36.584Z"
   },
   {
    "duration": 5,
    "start_time": "2022-04-01T14:31:36.615Z"
   },
   {
    "duration": 5,
    "start_time": "2022-04-01T14:31:36.622Z"
   },
   {
    "duration": 11,
    "start_time": "2022-04-01T14:31:36.628Z"
   },
   {
    "duration": 6,
    "start_time": "2022-04-01T14:31:36.641Z"
   },
   {
    "duration": 6,
    "start_time": "2022-04-01T14:31:36.648Z"
   },
   {
    "duration": 8,
    "start_time": "2022-04-01T14:31:36.655Z"
   },
   {
    "duration": 51,
    "start_time": "2022-04-01T14:31:36.664Z"
   },
   {
    "duration": 6,
    "start_time": "2022-04-01T14:31:36.716Z"
   },
   {
    "duration": 61,
    "start_time": "2022-04-01T14:31:36.724Z"
   },
   {
    "duration": 77,
    "start_time": "2022-04-01T14:31:36.786Z"
   },
   {
    "duration": 45,
    "start_time": "2022-04-01T14:31:36.864Z"
   },
   {
    "duration": 7,
    "start_time": "2022-04-01T14:31:36.910Z"
   },
   {
    "duration": 30,
    "start_time": "2022-04-01T14:31:36.918Z"
   },
   {
    "duration": 31,
    "start_time": "2022-04-01T14:31:36.949Z"
   },
   {
    "duration": 27,
    "start_time": "2022-04-01T14:31:36.982Z"
   },
   {
    "duration": 6,
    "start_time": "2022-04-01T14:31:37.011Z"
   },
   {
    "duration": 30,
    "start_time": "2022-04-01T14:31:37.019Z"
   },
   {
    "duration": 25,
    "start_time": "2022-04-01T14:31:37.051Z"
   },
   {
    "duration": 63,
    "start_time": "2022-04-01T14:31:37.077Z"
   },
   {
    "duration": 5,
    "start_time": "2022-04-01T14:31:37.142Z"
   },
   {
    "duration": 4,
    "start_time": "2022-04-01T14:31:37.149Z"
   },
   {
    "duration": 5,
    "start_time": "2022-04-01T14:31:37.155Z"
   },
   {
    "duration": 5,
    "start_time": "2022-04-01T14:31:37.162Z"
   },
   {
    "duration": 7,
    "start_time": "2022-04-01T14:31:37.168Z"
   },
   {
    "duration": 4,
    "start_time": "2022-04-01T14:31:37.208Z"
   },
   {
    "duration": 5,
    "start_time": "2022-04-01T14:31:37.215Z"
   },
   {
    "duration": 11,
    "start_time": "2022-04-01T14:31:37.222Z"
   },
   {
    "duration": 11,
    "start_time": "2022-04-01T14:31:37.235Z"
   },
   {
    "duration": 16,
    "start_time": "2022-04-01T14:31:37.248Z"
   },
   {
    "duration": 47,
    "start_time": "2022-04-01T14:31:37.265Z"
   },
   {
    "duration": 16,
    "start_time": "2022-04-01T14:31:37.313Z"
   },
   {
    "duration": 10,
    "start_time": "2022-04-01T14:31:37.331Z"
   },
   {
    "duration": 6,
    "start_time": "2022-04-01T14:31:37.343Z"
   },
   {
    "duration": 112,
    "start_time": "2022-04-01T14:31:37.350Z"
   },
   {
    "duration": 34,
    "start_time": "2022-04-01T14:31:37.463Z"
   },
   {
    "duration": 34,
    "start_time": "2022-04-01T14:31:37.509Z"
   },
   {
    "duration": 5,
    "start_time": "2022-04-01T14:31:37.545Z"
   },
   {
    "duration": 62,
    "start_time": "2022-04-01T14:31:37.551Z"
   },
   {
    "duration": 29,
    "start_time": "2022-04-01T14:31:37.615Z"
   },
   {
    "duration": 35,
    "start_time": "2022-04-01T14:31:37.645Z"
   },
   {
    "duration": 28967,
    "start_time": "2022-04-01T14:31:37.681Z"
   },
   {
    "duration": 28,
    "start_time": "2022-04-01T14:32:06.650Z"
   },
   {
    "duration": 8,
    "start_time": "2022-04-01T14:32:06.679Z"
   },
   {
    "duration": 37,
    "start_time": "2022-04-01T14:33:45.161Z"
   },
   {
    "duration": 17,
    "start_time": "2022-04-01T14:34:23.517Z"
   },
   {
    "duration": 38,
    "start_time": "2022-04-01T14:34:45.635Z"
   },
   {
    "duration": 37,
    "start_time": "2022-04-01T14:35:19.343Z"
   },
   {
    "duration": 35,
    "start_time": "2022-04-01T14:35:28.109Z"
   },
   {
    "duration": 35,
    "start_time": "2022-04-01T14:35:55.013Z"
   },
   {
    "duration": 22,
    "start_time": "2022-04-01T14:39:47.405Z"
   },
   {
    "duration": 10,
    "start_time": "2022-04-01T14:40:26.716Z"
   },
   {
    "duration": 22,
    "start_time": "2022-04-01T14:40:30.140Z"
   },
   {
    "duration": 5,
    "start_time": "2022-04-01T14:40:55.517Z"
   },
   {
    "duration": 420,
    "start_time": "2022-04-01T14:42:04.112Z"
   },
   {
    "duration": 8,
    "start_time": "2022-04-01T14:42:04.534Z"
   },
   {
    "duration": 9,
    "start_time": "2022-04-01T14:42:04.543Z"
   },
   {
    "duration": 10,
    "start_time": "2022-04-01T14:42:04.553Z"
   },
   {
    "duration": 10,
    "start_time": "2022-04-01T14:42:04.565Z"
   },
   {
    "duration": 40,
    "start_time": "2022-04-01T14:42:04.577Z"
   },
   {
    "duration": 6,
    "start_time": "2022-04-01T14:42:04.619Z"
   },
   {
    "duration": 273,
    "start_time": "2022-04-01T14:42:04.627Z"
   },
   {
    "duration": 24,
    "start_time": "2022-04-01T14:42:04.902Z"
   },
   {
    "duration": 136,
    "start_time": "2022-04-01T14:42:04.928Z"
   },
   {
    "duration": 15,
    "start_time": "2022-04-01T14:42:05.066Z"
   },
   {
    "duration": 183,
    "start_time": "2022-04-01T14:42:05.083Z"
   },
   {
    "duration": 17,
    "start_time": "2022-04-01T14:42:05.267Z"
   },
   {
    "duration": 48,
    "start_time": "2022-04-01T14:42:05.288Z"
   },
   {
    "duration": 5,
    "start_time": "2022-04-01T14:42:05.338Z"
   },
   {
    "duration": 7,
    "start_time": "2022-04-01T14:42:05.345Z"
   },
   {
    "duration": 6,
    "start_time": "2022-04-01T14:42:05.353Z"
   },
   {
    "duration": 11,
    "start_time": "2022-04-01T14:42:05.360Z"
   },
   {
    "duration": 39,
    "start_time": "2022-04-01T14:42:05.372Z"
   },
   {
    "duration": 6,
    "start_time": "2022-04-01T14:42:05.413Z"
   },
   {
    "duration": 6,
    "start_time": "2022-04-01T14:42:05.421Z"
   },
   {
    "duration": 10,
    "start_time": "2022-04-01T14:42:05.429Z"
   },
   {
    "duration": 9,
    "start_time": "2022-04-01T14:42:05.440Z"
   },
   {
    "duration": 102,
    "start_time": "2022-04-01T14:42:05.451Z"
   },
   {
    "duration": 54,
    "start_time": "2022-04-01T14:42:05.555Z"
   },
   {
    "duration": 26,
    "start_time": "2022-04-01T14:42:05.611Z"
   },
   {
    "duration": 5,
    "start_time": "2022-04-01T14:42:05.638Z"
   },
   {
    "duration": 20,
    "start_time": "2022-04-01T14:42:05.644Z"
   },
   {
    "duration": 49,
    "start_time": "2022-04-01T14:42:05.666Z"
   },
   {
    "duration": 31,
    "start_time": "2022-04-01T14:42:05.717Z"
   },
   {
    "duration": 6,
    "start_time": "2022-04-01T14:42:05.749Z"
   },
   {
    "duration": 17,
    "start_time": "2022-04-01T14:42:05.756Z"
   },
   {
    "duration": 46,
    "start_time": "2022-04-01T14:42:05.775Z"
   },
   {
    "duration": 25,
    "start_time": "2022-04-01T14:42:05.823Z"
   },
   {
    "duration": 60,
    "start_time": "2022-04-01T14:42:05.850Z"
   },
   {
    "duration": 6,
    "start_time": "2022-04-01T14:42:05.911Z"
   },
   {
    "duration": 12,
    "start_time": "2022-04-01T14:42:05.919Z"
   },
   {
    "duration": 8,
    "start_time": "2022-04-01T14:42:05.933Z"
   },
   {
    "duration": 7,
    "start_time": "2022-04-01T14:42:05.942Z"
   },
   {
    "duration": 7,
    "start_time": "2022-04-01T14:42:05.950Z"
   },
   {
    "duration": 7,
    "start_time": "2022-04-01T14:42:05.961Z"
   },
   {
    "duration": 8,
    "start_time": "2022-04-01T14:42:05.969Z"
   },
   {
    "duration": 41,
    "start_time": "2022-04-01T14:42:05.979Z"
   },
   {
    "duration": 13,
    "start_time": "2022-04-01T14:42:06.022Z"
   },
   {
    "duration": 19,
    "start_time": "2022-04-01T14:42:06.036Z"
   },
   {
    "duration": 16,
    "start_time": "2022-04-01T14:42:06.056Z"
   },
   {
    "duration": 42,
    "start_time": "2022-04-01T14:42:06.073Z"
   },
   {
    "duration": 10,
    "start_time": "2022-04-01T14:42:06.117Z"
   },
   {
    "duration": 7,
    "start_time": "2022-04-01T14:42:06.128Z"
   },
   {
    "duration": 119,
    "start_time": "2022-04-01T14:42:06.137Z"
   },
   {
    "duration": 39,
    "start_time": "2022-04-01T14:42:06.258Z"
   },
   {
    "duration": 40,
    "start_time": "2022-04-01T14:42:06.309Z"
   },
   {
    "duration": 5,
    "start_time": "2022-04-01T14:42:06.351Z"
   },
   {
    "duration": 67,
    "start_time": "2022-04-01T14:42:06.358Z"
   },
   {
    "duration": 32,
    "start_time": "2022-04-01T14:42:06.427Z"
   },
   {
    "duration": 54,
    "start_time": "2022-04-01T14:42:06.460Z"
   },
   {
    "duration": 29322,
    "start_time": "2022-04-01T14:42:06.516Z"
   },
   {
    "duration": 39,
    "start_time": "2022-04-01T14:42:35.840Z"
   },
   {
    "duration": 8,
    "start_time": "2022-04-01T14:42:35.881Z"
   },
   {
    "duration": 24,
    "start_time": "2022-04-01T14:45:43.647Z"
   },
   {
    "duration": 407,
    "start_time": "2022-04-01T14:47:57.628Z"
   },
   {
    "duration": 7,
    "start_time": "2022-04-01T14:47:58.037Z"
   },
   {
    "duration": 8,
    "start_time": "2022-04-01T14:47:58.046Z"
   },
   {
    "duration": 14,
    "start_time": "2022-04-01T14:47:58.056Z"
   },
   {
    "duration": 11,
    "start_time": "2022-04-01T14:47:58.072Z"
   },
   {
    "duration": 38,
    "start_time": "2022-04-01T14:47:58.085Z"
   },
   {
    "duration": 6,
    "start_time": "2022-04-01T14:47:58.124Z"
   },
   {
    "duration": 270,
    "start_time": "2022-04-01T14:47:58.131Z"
   },
   {
    "duration": 24,
    "start_time": "2022-04-01T14:47:58.403Z"
   },
   {
    "duration": 131,
    "start_time": "2022-04-01T14:47:58.429Z"
   },
   {
    "duration": 14,
    "start_time": "2022-04-01T14:47:58.561Z"
   },
   {
    "duration": 170,
    "start_time": "2022-04-01T14:47:58.577Z"
   },
   {
    "duration": 16,
    "start_time": "2022-04-01T14:47:58.748Z"
   },
   {
    "duration": 50,
    "start_time": "2022-04-01T14:47:58.768Z"
   },
   {
    "duration": 5,
    "start_time": "2022-04-01T14:47:58.819Z"
   },
   {
    "duration": 6,
    "start_time": "2022-04-01T14:47:58.826Z"
   },
   {
    "duration": 5,
    "start_time": "2022-04-01T14:47:58.833Z"
   },
   {
    "duration": 10,
    "start_time": "2022-04-01T14:47:58.839Z"
   },
   {
    "duration": 4,
    "start_time": "2022-04-01T14:47:58.851Z"
   },
   {
    "duration": 7,
    "start_time": "2022-04-01T14:47:58.857Z"
   },
   {
    "duration": 47,
    "start_time": "2022-04-01T14:47:58.865Z"
   },
   {
    "duration": 11,
    "start_time": "2022-04-01T14:47:58.914Z"
   },
   {
    "duration": 6,
    "start_time": "2022-04-01T14:47:58.927Z"
   },
   {
    "duration": 92,
    "start_time": "2022-04-01T14:47:58.934Z"
   },
   {
    "duration": 48,
    "start_time": "2022-04-01T14:47:59.028Z"
   },
   {
    "duration": 47,
    "start_time": "2022-04-01T14:47:59.078Z"
   },
   {
    "duration": 5,
    "start_time": "2022-04-01T14:47:59.127Z"
   },
   {
    "duration": 6,
    "start_time": "2022-04-01T14:47:59.134Z"
   },
   {
    "duration": 38,
    "start_time": "2022-04-01T14:47:59.142Z"
   },
   {
    "duration": 48,
    "start_time": "2022-04-01T14:47:59.182Z"
   },
   {
    "duration": 6,
    "start_time": "2022-04-01T14:47:59.231Z"
   },
   {
    "duration": 6,
    "start_time": "2022-04-01T14:47:59.239Z"
   },
   {
    "duration": 34,
    "start_time": "2022-04-01T14:47:59.247Z"
   },
   {
    "duration": 53,
    "start_time": "2022-04-01T14:47:59.283Z"
   },
   {
    "duration": 39,
    "start_time": "2022-04-01T14:47:59.338Z"
   },
   {
    "duration": 30,
    "start_time": "2022-04-01T14:47:59.379Z"
   },
   {
    "duration": 5,
    "start_time": "2022-04-01T14:47:59.411Z"
   },
   {
    "duration": 7,
    "start_time": "2022-04-01T14:47:59.417Z"
   },
   {
    "duration": 11,
    "start_time": "2022-04-01T14:47:59.425Z"
   },
   {
    "duration": 5,
    "start_time": "2022-04-01T14:47:59.437Z"
   },
   {
    "duration": 5,
    "start_time": "2022-04-01T14:47:59.446Z"
   },
   {
    "duration": 12,
    "start_time": "2022-04-01T14:47:59.452Z"
   },
   {
    "duration": 12,
    "start_time": "2022-04-01T14:47:59.466Z"
   },
   {
    "duration": 35,
    "start_time": "2022-04-01T14:47:59.479Z"
   },
   {
    "duration": 21,
    "start_time": "2022-04-01T14:47:59.515Z"
   },
   {
    "duration": 14,
    "start_time": "2022-04-01T14:47:59.537Z"
   },
   {
    "duration": 15,
    "start_time": "2022-04-01T14:47:59.553Z"
   },
   {
    "duration": 10,
    "start_time": "2022-04-01T14:47:59.569Z"
   },
   {
    "duration": 6,
    "start_time": "2022-04-01T14:47:59.609Z"
   },
   {
    "duration": 100,
    "start_time": "2022-04-01T14:47:59.616Z"
   },
   {
    "duration": 35,
    "start_time": "2022-04-01T14:47:59.717Z"
   },
   {
    "duration": 34,
    "start_time": "2022-04-01T14:47:59.753Z"
   },
   {
    "duration": 21,
    "start_time": "2022-04-01T14:47:59.789Z"
   },
   {
    "duration": 44,
    "start_time": "2022-04-01T14:47:59.812Z"
   },
   {
    "duration": 29,
    "start_time": "2022-04-01T14:47:59.858Z"
   },
   {
    "duration": 34,
    "start_time": "2022-04-01T14:47:59.908Z"
   },
   {
    "duration": 29743,
    "start_time": "2022-04-01T14:47:59.944Z"
   },
   {
    "duration": 399,
    "start_time": "2022-04-01T14:49:32.884Z"
   },
   {
    "duration": 8,
    "start_time": "2022-04-01T14:49:33.285Z"
   },
   {
    "duration": 8,
    "start_time": "2022-04-01T14:49:33.294Z"
   },
   {
    "duration": 8,
    "start_time": "2022-04-01T14:49:33.304Z"
   },
   {
    "duration": 8,
    "start_time": "2022-04-01T14:49:33.313Z"
   },
   {
    "duration": 37,
    "start_time": "2022-04-01T14:49:33.323Z"
   },
   {
    "duration": 5,
    "start_time": "2022-04-01T14:49:33.361Z"
   },
   {
    "duration": 264,
    "start_time": "2022-04-01T14:49:33.368Z"
   },
   {
    "duration": 21,
    "start_time": "2022-04-01T14:49:33.633Z"
   },
   {
    "duration": 123,
    "start_time": "2022-04-01T14:49:33.657Z"
   },
   {
    "duration": 15,
    "start_time": "2022-04-01T14:49:33.781Z"
   },
   {
    "duration": 176,
    "start_time": "2022-04-01T14:49:33.809Z"
   },
   {
    "duration": 27,
    "start_time": "2022-04-01T14:49:33.987Z"
   },
   {
    "duration": 36,
    "start_time": "2022-04-01T14:49:34.016Z"
   },
   {
    "duration": 7,
    "start_time": "2022-04-01T14:49:34.053Z"
   },
   {
    "duration": 5,
    "start_time": "2022-04-01T14:49:34.061Z"
   },
   {
    "duration": 6,
    "start_time": "2022-04-01T14:49:34.068Z"
   },
   {
    "duration": 13,
    "start_time": "2022-04-01T14:49:34.109Z"
   },
   {
    "duration": 5,
    "start_time": "2022-04-01T14:49:34.124Z"
   },
   {
    "duration": 6,
    "start_time": "2022-04-01T14:49:34.131Z"
   },
   {
    "duration": 7,
    "start_time": "2022-04-01T14:49:34.139Z"
   },
   {
    "duration": 10,
    "start_time": "2022-04-01T14:49:34.148Z"
   },
   {
    "duration": 5,
    "start_time": "2022-04-01T14:49:34.159Z"
   },
   {
    "duration": 100,
    "start_time": "2022-04-01T14:49:34.166Z"
   },
   {
    "duration": 56,
    "start_time": "2022-04-01T14:49:34.268Z"
   },
   {
    "duration": 25,
    "start_time": "2022-04-01T14:49:34.326Z"
   },
   {
    "duration": 4,
    "start_time": "2022-04-01T14:49:34.353Z"
   },
   {
    "duration": 7,
    "start_time": "2022-04-01T14:49:34.361Z"
   },
   {
    "duration": 62,
    "start_time": "2022-04-01T14:49:34.369Z"
   },
   {
    "duration": 31,
    "start_time": "2022-04-01T14:49:34.433Z"
   },
   {
    "duration": 6,
    "start_time": "2022-04-01T14:49:34.466Z"
   },
   {
    "duration": 7,
    "start_time": "2022-04-01T14:49:34.474Z"
   },
   {
    "duration": 59,
    "start_time": "2022-04-01T14:49:34.482Z"
   },
   {
    "duration": 28,
    "start_time": "2022-04-01T14:49:34.542Z"
   },
   {
    "duration": 60,
    "start_time": "2022-04-01T14:49:34.572Z"
   },
   {
    "duration": 6,
    "start_time": "2022-04-01T14:49:34.634Z"
   },
   {
    "duration": 5,
    "start_time": "2022-04-01T14:49:34.642Z"
   },
   {
    "duration": 5,
    "start_time": "2022-04-01T14:49:34.648Z"
   },
   {
    "duration": 5,
    "start_time": "2022-04-01T14:49:34.655Z"
   },
   {
    "duration": 6,
    "start_time": "2022-04-01T14:49:34.662Z"
   },
   {
    "duration": 41,
    "start_time": "2022-04-01T14:49:34.669Z"
   },
   {
    "duration": 4,
    "start_time": "2022-04-01T14:49:34.712Z"
   },
   {
    "duration": 12,
    "start_time": "2022-04-01T14:49:34.718Z"
   },
   {
    "duration": 10,
    "start_time": "2022-04-01T14:49:34.732Z"
   },
   {
    "duration": 19,
    "start_time": "2022-04-01T14:49:34.744Z"
   },
   {
    "duration": 47,
    "start_time": "2022-04-01T14:49:34.765Z"
   },
   {
    "duration": 16,
    "start_time": "2022-04-01T14:49:34.814Z"
   },
   {
    "duration": 9,
    "start_time": "2022-04-01T14:49:34.832Z"
   },
   {
    "duration": 7,
    "start_time": "2022-04-01T14:49:34.843Z"
   },
   {
    "duration": 116,
    "start_time": "2022-04-01T14:49:34.852Z"
   },
   {
    "duration": 45,
    "start_time": "2022-04-01T14:49:34.970Z"
   },
   {
    "duration": 35,
    "start_time": "2022-04-01T14:49:35.017Z"
   },
   {
    "duration": 5,
    "start_time": "2022-04-01T14:49:35.054Z"
   },
   {
    "duration": 65,
    "start_time": "2022-04-01T14:49:35.061Z"
   },
   {
    "duration": 28,
    "start_time": "2022-04-01T14:49:35.128Z"
   },
   {
    "duration": 53,
    "start_time": "2022-04-01T14:49:35.157Z"
   },
   {
    "duration": 30230,
    "start_time": "2022-04-01T14:49:35.212Z"
   },
   {
    "duration": 443,
    "start_time": "2022-04-01T14:54:31.853Z"
   },
   {
    "duration": 9,
    "start_time": "2022-04-01T14:54:32.298Z"
   },
   {
    "duration": 9,
    "start_time": "2022-04-01T14:54:32.309Z"
   },
   {
    "duration": 13,
    "start_time": "2022-04-01T14:54:32.320Z"
   },
   {
    "duration": 9,
    "start_time": "2022-04-01T14:54:32.336Z"
   },
   {
    "duration": 64,
    "start_time": "2022-04-01T14:54:32.347Z"
   },
   {
    "duration": 7,
    "start_time": "2022-04-01T14:54:32.414Z"
   },
   {
    "duration": 263,
    "start_time": "2022-04-01T14:54:32.423Z"
   },
   {
    "duration": 30,
    "start_time": "2022-04-01T14:54:32.688Z"
   },
   {
    "duration": 155,
    "start_time": "2022-04-01T14:54:32.720Z"
   },
   {
    "duration": 16,
    "start_time": "2022-04-01T14:54:32.877Z"
   },
   {
    "duration": 179,
    "start_time": "2022-04-01T14:54:32.894Z"
   },
   {
    "duration": 17,
    "start_time": "2022-04-01T14:54:33.075Z"
   },
   {
    "duration": 38,
    "start_time": "2022-04-01T14:54:33.111Z"
   },
   {
    "duration": 7,
    "start_time": "2022-04-01T14:54:33.151Z"
   },
   {
    "duration": 6,
    "start_time": "2022-04-01T14:54:33.159Z"
   },
   {
    "duration": 5,
    "start_time": "2022-04-01T14:54:33.167Z"
   },
   {
    "duration": 15,
    "start_time": "2022-04-01T14:54:33.208Z"
   },
   {
    "duration": 7,
    "start_time": "2022-04-01T14:54:33.225Z"
   },
   {
    "duration": 7,
    "start_time": "2022-04-01T14:54:33.234Z"
   },
   {
    "duration": 8,
    "start_time": "2022-04-01T14:54:33.242Z"
   },
   {
    "duration": 10,
    "start_time": "2022-04-01T14:54:33.251Z"
   },
   {
    "duration": 9,
    "start_time": "2022-04-01T14:54:33.263Z"
   },
   {
    "duration": 72,
    "start_time": "2022-04-01T14:54:33.309Z"
   },
   {
    "duration": 58,
    "start_time": "2022-04-01T14:54:33.382Z"
   },
   {
    "duration": 33,
    "start_time": "2022-04-01T14:54:33.442Z"
   },
   {
    "duration": 5,
    "start_time": "2022-04-01T14:54:33.477Z"
   },
   {
    "duration": 31,
    "start_time": "2022-04-01T14:54:33.484Z"
   },
   {
    "duration": 33,
    "start_time": "2022-04-01T14:54:33.517Z"
   },
   {
    "duration": 33,
    "start_time": "2022-04-01T14:54:33.551Z"
   },
   {
    "duration": 28,
    "start_time": "2022-04-01T14:54:33.585Z"
   },
   {
    "duration": 7,
    "start_time": "2022-04-01T14:54:33.615Z"
   },
   {
    "duration": 38,
    "start_time": "2022-04-01T14:54:33.624Z"
   },
   {
    "duration": 57,
    "start_time": "2022-04-01T14:54:33.665Z"
   },
   {
    "duration": 56,
    "start_time": "2022-04-01T14:54:33.724Z"
   },
   {
    "duration": 27,
    "start_time": "2022-04-01T14:54:33.782Z"
   },
   {
    "duration": 5,
    "start_time": "2022-04-01T14:54:33.811Z"
   },
   {
    "duration": 5,
    "start_time": "2022-04-01T14:54:33.818Z"
   },
   {
    "duration": 7,
    "start_time": "2022-04-01T14:54:33.825Z"
   },
   {
    "duration": 6,
    "start_time": "2022-04-01T14:54:33.834Z"
   },
   {
    "duration": 7,
    "start_time": "2022-04-01T14:54:33.844Z"
   },
   {
    "duration": 7,
    "start_time": "2022-04-01T14:54:33.852Z"
   },
   {
    "duration": 51,
    "start_time": "2022-04-01T14:54:33.861Z"
   },
   {
    "duration": 15,
    "start_time": "2022-04-01T14:54:33.914Z"
   },
   {
    "duration": 25,
    "start_time": "2022-04-01T14:54:33.931Z"
   },
   {
    "duration": 15,
    "start_time": "2022-04-01T14:54:33.958Z"
   },
   {
    "duration": 47,
    "start_time": "2022-04-01T14:54:33.975Z"
   },
   {
    "duration": 12,
    "start_time": "2022-04-01T14:54:34.024Z"
   },
   {
    "duration": 7,
    "start_time": "2022-04-01T14:54:34.038Z"
   },
   {
    "duration": 128,
    "start_time": "2022-04-01T14:54:34.047Z"
   },
   {
    "duration": 67,
    "start_time": "2022-04-01T14:54:34.177Z"
   },
   {
    "duration": 38,
    "start_time": "2022-04-01T14:54:34.246Z"
   },
   {
    "duration": 6,
    "start_time": "2022-04-01T14:54:34.286Z"
   },
   {
    "duration": 45,
    "start_time": "2022-04-01T14:54:34.309Z"
   },
   {
    "duration": 27,
    "start_time": "2022-04-01T14:54:34.356Z"
   },
   {
    "duration": 33,
    "start_time": "2022-04-01T14:54:34.409Z"
   },
   {
    "duration": 30986,
    "start_time": "2022-04-01T14:54:34.444Z"
   },
   {
    "duration": 16,
    "start_time": "2022-04-01T15:01:20.537Z"
   },
   {
    "duration": 10,
    "start_time": "2022-04-01T15:01:53.808Z"
   },
   {
    "duration": 25,
    "start_time": "2022-04-01T15:04:03.352Z"
   },
   {
    "duration": 1530,
    "start_time": "2022-04-01T15:08:04.513Z"
   },
   {
    "duration": 1318,
    "start_time": "2022-04-01T15:09:18.571Z"
   },
   {
    "duration": 6,
    "start_time": "2022-04-01T15:10:50.818Z"
   },
   {
    "duration": 18,
    "start_time": "2022-04-01T15:10:57.711Z"
   },
   {
    "duration": 36,
    "start_time": "2022-04-01T15:12:00.170Z"
   },
   {
    "duration": 25,
    "start_time": "2022-04-01T15:13:59.422Z"
   },
   {
    "duration": 29,
    "start_time": "2022-04-01T15:15:12.044Z"
   },
   {
    "duration": 28,
    "start_time": "2022-04-01T15:15:15.924Z"
   },
   {
    "duration": 28,
    "start_time": "2022-04-01T15:22:01.083Z"
   },
   {
    "duration": 33,
    "start_time": "2022-04-01T15:23:21.945Z"
   },
   {
    "duration": 29,
    "start_time": "2022-04-01T15:26:31.689Z"
   },
   {
    "duration": 33,
    "start_time": "2022-04-01T15:30:06.777Z"
   },
   {
    "duration": 406,
    "start_time": "2022-04-01T15:32:25.576Z"
   },
   {
    "duration": 9,
    "start_time": "2022-04-01T15:32:25.984Z"
   },
   {
    "duration": 10,
    "start_time": "2022-04-01T15:32:25.995Z"
   },
   {
    "duration": 10,
    "start_time": "2022-04-01T15:32:26.007Z"
   },
   {
    "duration": 11,
    "start_time": "2022-04-01T15:32:26.019Z"
   },
   {
    "duration": 34,
    "start_time": "2022-04-01T15:32:26.031Z"
   },
   {
    "duration": 8,
    "start_time": "2022-04-01T15:32:26.068Z"
   },
   {
    "duration": 284,
    "start_time": "2022-04-01T15:32:26.078Z"
   },
   {
    "duration": 47,
    "start_time": "2022-04-01T15:32:26.363Z"
   },
   {
    "duration": 146,
    "start_time": "2022-04-01T15:32:26.412Z"
   },
   {
    "duration": 15,
    "start_time": "2022-04-01T15:32:26.559Z"
   },
   {
    "duration": 170,
    "start_time": "2022-04-01T15:32:26.576Z"
   },
   {
    "duration": 17,
    "start_time": "2022-04-01T15:32:26.748Z"
   },
   {
    "duration": 56,
    "start_time": "2022-04-01T15:32:26.768Z"
   },
   {
    "duration": 6,
    "start_time": "2022-04-01T15:32:26.826Z"
   },
   {
    "duration": 5,
    "start_time": "2022-04-01T15:32:26.834Z"
   },
   {
    "duration": 5,
    "start_time": "2022-04-01T15:32:26.841Z"
   },
   {
    "duration": 11,
    "start_time": "2022-04-01T15:32:26.848Z"
   },
   {
    "duration": 5,
    "start_time": "2022-04-01T15:32:26.861Z"
   },
   {
    "duration": 43,
    "start_time": "2022-04-01T15:32:26.867Z"
   },
   {
    "duration": 15,
    "start_time": "2022-04-01T15:32:26.912Z"
   },
   {
    "duration": 10,
    "start_time": "2022-04-01T15:32:26.929Z"
   },
   {
    "duration": 6,
    "start_time": "2022-04-01T15:32:26.941Z"
   },
   {
    "duration": 91,
    "start_time": "2022-04-01T15:32:26.948Z"
   },
   {
    "duration": 48,
    "start_time": "2022-04-01T15:32:27.041Z"
   },
   {
    "duration": 42,
    "start_time": "2022-04-01T15:32:27.091Z"
   },
   {
    "duration": 5,
    "start_time": "2022-04-01T15:32:27.134Z"
   },
   {
    "duration": 7,
    "start_time": "2022-04-01T15:32:27.141Z"
   },
   {
    "duration": 63,
    "start_time": "2022-04-01T15:32:27.150Z"
   },
   {
    "duration": 31,
    "start_time": "2022-04-01T15:32:27.214Z"
   },
   {
    "duration": 6,
    "start_time": "2022-04-01T15:32:27.247Z"
   },
   {
    "duration": 7,
    "start_time": "2022-04-01T15:32:27.254Z"
   },
   {
    "duration": 64,
    "start_time": "2022-04-01T15:32:27.262Z"
   },
   {
    "duration": 27,
    "start_time": "2022-04-01T15:32:27.328Z"
   },
   {
    "duration": 57,
    "start_time": "2022-04-01T15:32:27.357Z"
   },
   {
    "duration": 5,
    "start_time": "2022-04-01T15:32:27.416Z"
   },
   {
    "duration": 6,
    "start_time": "2022-04-01T15:32:27.423Z"
   },
   {
    "duration": 7,
    "start_time": "2022-04-01T15:32:27.430Z"
   },
   {
    "duration": 6,
    "start_time": "2022-04-01T15:32:27.439Z"
   },
   {
    "duration": 5,
    "start_time": "2022-04-01T15:32:27.447Z"
   },
   {
    "duration": 4,
    "start_time": "2022-04-01T15:32:27.457Z"
   },
   {
    "duration": 47,
    "start_time": "2022-04-01T15:32:27.463Z"
   },
   {
    "duration": 12,
    "start_time": "2022-04-01T15:32:27.512Z"
   },
   {
    "duration": 11,
    "start_time": "2022-04-01T15:32:27.526Z"
   },
   {
    "duration": 18,
    "start_time": "2022-04-01T15:32:27.539Z"
   },
   {
    "duration": 14,
    "start_time": "2022-04-01T15:32:27.559Z"
   },
   {
    "duration": 46,
    "start_time": "2022-04-01T15:32:27.575Z"
   },
   {
    "duration": 10,
    "start_time": "2022-04-01T15:32:27.623Z"
   },
   {
    "duration": 7,
    "start_time": "2022-04-01T15:32:27.635Z"
   },
   {
    "duration": 140,
    "start_time": "2022-04-01T15:32:27.644Z"
   },
   {
    "duration": 50,
    "start_time": "2022-04-01T15:32:27.786Z"
   },
   {
    "duration": 39,
    "start_time": "2022-04-01T15:32:27.838Z"
   },
   {
    "duration": 6,
    "start_time": "2022-04-01T15:32:27.879Z"
   },
   {
    "duration": 52,
    "start_time": "2022-04-01T15:32:27.908Z"
   },
   {
    "duration": 29,
    "start_time": "2022-04-01T15:32:27.961Z"
   },
   {
    "duration": 47,
    "start_time": "2022-04-01T15:32:27.992Z"
   },
   {
    "duration": 29264,
    "start_time": "2022-04-01T15:32:28.041Z"
   },
   {
    "duration": 26,
    "start_time": "2022-04-01T15:32:57.306Z"
   },
   {
    "duration": 1307,
    "start_time": "2022-04-02T01:03:42.965Z"
   },
   {
    "duration": 9,
    "start_time": "2022-04-02T01:03:44.274Z"
   },
   {
    "duration": 8,
    "start_time": "2022-04-02T01:03:44.284Z"
   },
   {
    "duration": 9,
    "start_time": "2022-04-02T01:03:44.293Z"
   },
   {
    "duration": 9,
    "start_time": "2022-04-02T01:03:44.304Z"
   },
   {
    "duration": 38,
    "start_time": "2022-04-02T01:03:44.315Z"
   },
   {
    "duration": 8,
    "start_time": "2022-04-02T01:03:44.355Z"
   },
   {
    "duration": 340,
    "start_time": "2022-04-02T01:03:44.364Z"
   },
   {
    "duration": 20,
    "start_time": "2022-04-02T01:03:44.705Z"
   },
   {
    "duration": 140,
    "start_time": "2022-04-02T01:03:44.738Z"
   },
   {
    "duration": 14,
    "start_time": "2022-04-02T01:03:44.879Z"
   },
   {
    "duration": 202,
    "start_time": "2022-04-02T01:03:44.895Z"
   },
   {
    "duration": 17,
    "start_time": "2022-04-02T01:03:45.098Z"
   },
   {
    "duration": 44,
    "start_time": "2022-04-02T01:03:45.118Z"
   },
   {
    "duration": 6,
    "start_time": "2022-04-02T01:03:45.163Z"
   },
   {
    "duration": 10,
    "start_time": "2022-04-02T01:03:45.170Z"
   },
   {
    "duration": 9,
    "start_time": "2022-04-02T01:03:45.182Z"
   },
   {
    "duration": 16,
    "start_time": "2022-04-02T01:03:45.192Z"
   },
   {
    "duration": 29,
    "start_time": "2022-04-02T01:03:45.210Z"
   },
   {
    "duration": 15,
    "start_time": "2022-04-02T01:03:45.241Z"
   },
   {
    "duration": 12,
    "start_time": "2022-04-02T01:03:45.258Z"
   },
   {
    "duration": 16,
    "start_time": "2022-04-02T01:03:45.272Z"
   },
   {
    "duration": 6,
    "start_time": "2022-04-02T01:03:45.290Z"
   },
   {
    "duration": 104,
    "start_time": "2022-04-02T01:03:45.298Z"
   },
   {
    "duration": 59,
    "start_time": "2022-04-02T01:03:45.404Z"
   },
   {
    "duration": 36,
    "start_time": "2022-04-02T01:03:45.466Z"
   },
   {
    "duration": 6,
    "start_time": "2022-04-02T01:03:45.504Z"
   },
   {
    "duration": 27,
    "start_time": "2022-04-02T01:03:45.512Z"
   },
   {
    "duration": 64,
    "start_time": "2022-04-02T01:03:45.541Z"
   },
   {
    "duration": 53,
    "start_time": "2022-04-02T01:03:45.608Z"
   },
   {
    "duration": 6,
    "start_time": "2022-04-02T01:03:45.663Z"
   },
   {
    "duration": 14,
    "start_time": "2022-04-02T01:03:45.671Z"
   },
   {
    "duration": 87,
    "start_time": "2022-04-02T01:03:45.687Z"
   },
   {
    "duration": 37,
    "start_time": "2022-04-02T01:03:45.776Z"
   },
   {
    "duration": 54,
    "start_time": "2022-04-02T01:03:45.815Z"
   },
   {
    "duration": 5,
    "start_time": "2022-04-02T01:03:45.871Z"
   },
   {
    "duration": 9,
    "start_time": "2022-04-02T01:03:45.878Z"
   },
   {
    "duration": 9,
    "start_time": "2022-04-02T01:03:45.889Z"
   },
   {
    "duration": 7,
    "start_time": "2022-04-02T01:03:45.900Z"
   },
   {
    "duration": 30,
    "start_time": "2022-04-02T01:03:45.908Z"
   },
   {
    "duration": 7,
    "start_time": "2022-04-02T01:03:45.942Z"
   },
   {
    "duration": 7,
    "start_time": "2022-04-02T01:03:45.951Z"
   },
   {
    "duration": 14,
    "start_time": "2022-04-02T01:03:45.960Z"
   },
   {
    "duration": 14,
    "start_time": "2022-04-02T01:03:45.976Z"
   },
   {
    "duration": 26,
    "start_time": "2022-04-02T01:03:45.992Z"
   },
   {
    "duration": 17,
    "start_time": "2022-04-02T01:03:46.037Z"
   },
   {
    "duration": 17,
    "start_time": "2022-04-02T01:03:46.055Z"
   },
   {
    "duration": 10,
    "start_time": "2022-04-02T01:03:46.074Z"
   },
   {
    "duration": 11,
    "start_time": "2022-04-02T01:03:46.085Z"
   },
   {
    "duration": 145,
    "start_time": "2022-04-02T01:03:46.097Z"
   },
   {
    "duration": 49,
    "start_time": "2022-04-02T01:03:46.244Z"
   },
   {
    "duration": 60,
    "start_time": "2022-04-02T01:03:46.295Z"
   },
   {
    "duration": 6,
    "start_time": "2022-04-02T01:03:46.358Z"
   },
   {
    "duration": 75,
    "start_time": "2022-04-02T01:03:46.366Z"
   },
   {
    "duration": 35,
    "start_time": "2022-04-02T01:03:46.444Z"
   },
   {
    "duration": 38,
    "start_time": "2022-04-02T01:03:46.480Z"
   },
   {
    "duration": 26924,
    "start_time": "2022-04-02T01:03:46.519Z"
   },
   {
    "duration": 13,
    "start_time": "2022-04-02T01:13:41.603Z"
   },
   {
    "duration": 13,
    "start_time": "2022-04-02T01:15:14.248Z"
   },
   {
    "duration": 20,
    "start_time": "2022-04-02T01:18:59.380Z"
   },
   {
    "duration": 14,
    "start_time": "2022-04-02T01:19:10.264Z"
   },
   {
    "duration": 76,
    "start_time": "2022-04-02T01:22:19.318Z"
   },
   {
    "duration": 11,
    "start_time": "2022-04-02T01:22:23.589Z"
   },
   {
    "duration": 8,
    "start_time": "2022-04-02T01:23:48.428Z"
   },
   {
    "duration": 9,
    "start_time": "2022-04-02T01:23:51.902Z"
   },
   {
    "duration": 3,
    "start_time": "2022-04-02T01:23:53.677Z"
   },
   {
    "duration": 5,
    "start_time": "2022-04-02T01:24:00.904Z"
   },
   {
    "duration": 9,
    "start_time": "2022-04-02T01:24:34.741Z"
   },
   {
    "duration": 10,
    "start_time": "2022-04-02T01:24:39.294Z"
   },
   {
    "duration": 5,
    "start_time": "2022-04-02T01:25:03.887Z"
   },
   {
    "duration": 16,
    "start_time": "2022-04-02T01:28:13.503Z"
   },
   {
    "duration": 10,
    "start_time": "2022-04-02T01:28:22.463Z"
   },
   {
    "duration": 13,
    "start_time": "2022-04-02T01:32:03.707Z"
   },
   {
    "duration": 2222,
    "start_time": "2022-04-02T01:32:10.456Z"
   },
   {
    "duration": 11,
    "start_time": "2022-04-02T01:32:19.519Z"
   },
   {
    "duration": 9,
    "start_time": "2022-04-02T01:33:24.746Z"
   },
   {
    "duration": 11,
    "start_time": "2022-04-02T01:33:34.672Z"
   },
   {
    "duration": 10,
    "start_time": "2022-04-02T01:33:44.374Z"
   },
   {
    "duration": 11,
    "start_time": "2022-04-02T01:33:58.529Z"
   },
   {
    "duration": 10,
    "start_time": "2022-04-02T01:34:14.118Z"
   },
   {
    "duration": 10,
    "start_time": "2022-04-02T01:35:54.190Z"
   },
   {
    "duration": 4,
    "start_time": "2022-04-02T01:36:02.917Z"
   },
   {
    "duration": 10,
    "start_time": "2022-04-02T01:37:44.101Z"
   },
   {
    "duration": 5,
    "start_time": "2022-04-02T01:37:46.780Z"
   },
   {
    "duration": 11,
    "start_time": "2022-04-02T01:38:02.213Z"
   },
   {
    "duration": 5,
    "start_time": "2022-04-02T01:38:04.434Z"
   },
   {
    "duration": 10,
    "start_time": "2022-04-02T01:39:11.397Z"
   },
   {
    "duration": 3,
    "start_time": "2022-04-02T01:40:41.245Z"
   },
   {
    "duration": 4,
    "start_time": "2022-04-02T01:40:47.597Z"
   },
   {
    "duration": 130,
    "start_time": "2022-04-02T01:42:28.710Z"
   },
   {
    "duration": 130,
    "start_time": "2022-04-02T01:42:42.599Z"
   },
   {
    "duration": 273,
    "start_time": "2022-04-02T01:42:50.157Z"
   },
   {
    "duration": 137,
    "start_time": "2022-04-02T01:43:00.806Z"
   },
   {
    "duration": 9,
    "start_time": "2022-04-02T01:43:27.847Z"
   },
   {
    "duration": 11,
    "start_time": "2022-04-02T01:43:31.896Z"
   },
   {
    "duration": 130,
    "start_time": "2022-04-02T01:45:23.511Z"
   },
   {
    "duration": 145,
    "start_time": "2022-04-02T01:46:47.070Z"
   },
   {
    "duration": 142,
    "start_time": "2022-04-02T01:48:42.066Z"
   },
   {
    "duration": 141,
    "start_time": "2022-04-02T01:48:59.129Z"
   },
   {
    "duration": 5,
    "start_time": "2022-04-02T01:50:40.214Z"
   },
   {
    "duration": 130,
    "start_time": "2022-04-02T01:58:58.089Z"
   },
   {
    "duration": 4,
    "start_time": "2022-04-02T01:59:42.465Z"
   },
   {
    "duration": 174,
    "start_time": "2022-04-02T02:03:23.195Z"
   },
   {
    "duration": 148,
    "start_time": "2022-04-02T02:04:12.331Z"
   },
   {
    "duration": 225,
    "start_time": "2022-04-02T02:04:18.570Z"
   },
   {
    "duration": 269,
    "start_time": "2022-04-02T02:04:32.064Z"
   },
   {
    "duration": 166,
    "start_time": "2022-04-02T02:05:54.288Z"
   },
   {
    "duration": 179,
    "start_time": "2022-04-02T02:06:14.080Z"
   },
   {
    "duration": 205,
    "start_time": "2022-04-02T02:06:31.777Z"
   },
   {
    "duration": 214,
    "start_time": "2022-04-02T02:07:02.328Z"
   },
   {
    "duration": 5,
    "start_time": "2022-04-02T02:07:57.583Z"
   },
   {
    "duration": 4,
    "start_time": "2022-04-02T02:09:24.247Z"
   },
   {
    "duration": 4,
    "start_time": "2022-04-02T02:10:02.519Z"
   },
   {
    "duration": 518,
    "start_time": "2022-04-02T02:21:16.848Z"
   },
   {
    "duration": 231,
    "start_time": "2022-04-02T02:22:03.480Z"
   },
   {
    "duration": 10,
    "start_time": "2022-04-02T02:22:29.312Z"
   },
   {
    "duration": 3,
    "start_time": "2022-04-02T02:22:47.176Z"
   },
   {
    "duration": 96,
    "start_time": "2022-04-02T02:22:49.392Z"
   },
   {
    "duration": 192,
    "start_time": "2022-04-02T02:23:05.072Z"
   },
   {
    "duration": 100,
    "start_time": "2022-04-02T02:23:13.415Z"
   },
   {
    "duration": 102,
    "start_time": "2022-04-02T02:23:36.898Z"
   },
   {
    "duration": 12,
    "start_time": "2022-04-02T02:25:06.512Z"
   },
   {
    "duration": 25105,
    "start_time": "2022-04-02T02:25:24.272Z"
   },
   {
    "duration": 25477,
    "start_time": "2022-04-02T02:27:09.748Z"
   },
   {
    "duration": 25541,
    "start_time": "2022-04-02T02:28:00.985Z"
   },
   {
    "duration": 13,
    "start_time": "2022-04-02T02:29:35.787Z"
   },
   {
    "duration": 118,
    "start_time": "2022-04-02T02:30:17.746Z"
   },
   {
    "duration": 17,
    "start_time": "2022-04-02T02:30:22.708Z"
   },
   {
    "duration": 12,
    "start_time": "2022-04-02T02:30:27.866Z"
   },
   {
    "duration": 15,
    "start_time": "2022-04-02T02:30:50.305Z"
   },
   {
    "duration": 208,
    "start_time": "2022-04-02T02:32:19.306Z"
   },
   {
    "duration": 226,
    "start_time": "2022-04-02T02:37:27.731Z"
   },
   {
    "duration": 266,
    "start_time": "2022-04-02T02:40:07.756Z"
   },
   {
    "duration": 242,
    "start_time": "2022-04-02T02:40:17.279Z"
   },
   {
    "duration": 106,
    "start_time": "2022-04-02T02:46:13.493Z"
   },
   {
    "duration": 109,
    "start_time": "2022-04-02T02:50:26.468Z"
   },
   {
    "duration": 107,
    "start_time": "2022-04-02T02:51:50.724Z"
   },
   {
    "duration": 115,
    "start_time": "2022-04-02T02:51:57.341Z"
   },
   {
    "duration": 195,
    "start_time": "2022-04-02T02:52:08.461Z"
   },
   {
    "duration": 102,
    "start_time": "2022-04-02T02:52:41.950Z"
   },
   {
    "duration": 198,
    "start_time": "2022-04-02T02:52:44.635Z"
   },
   {
    "duration": 208,
    "start_time": "2022-04-02T02:53:52.126Z"
   },
   {
    "duration": 111,
    "start_time": "2022-04-02T02:56:02.392Z"
   },
   {
    "duration": 455,
    "start_time": "2022-04-02T02:57:10.843Z"
   },
   {
    "duration": 8,
    "start_time": "2022-04-02T02:57:11.300Z"
   },
   {
    "duration": 11,
    "start_time": "2022-04-02T02:57:11.309Z"
   },
   {
    "duration": 13,
    "start_time": "2022-04-02T02:57:11.322Z"
   },
   {
    "duration": 20,
    "start_time": "2022-04-02T02:57:11.338Z"
   },
   {
    "duration": 42,
    "start_time": "2022-04-02T02:57:11.360Z"
   },
   {
    "duration": 6,
    "start_time": "2022-04-02T02:57:11.404Z"
   },
   {
    "duration": 278,
    "start_time": "2022-04-02T02:57:11.411Z"
   },
   {
    "duration": 21,
    "start_time": "2022-04-02T02:57:11.690Z"
   },
   {
    "duration": 154,
    "start_time": "2022-04-02T02:57:11.713Z"
   },
   {
    "duration": 15,
    "start_time": "2022-04-02T02:57:11.868Z"
   },
   {
    "duration": 195,
    "start_time": "2022-04-02T02:57:11.885Z"
   },
   {
    "duration": 17,
    "start_time": "2022-04-02T02:57:12.082Z"
   },
   {
    "duration": 54,
    "start_time": "2022-04-02T02:57:12.103Z"
   },
   {
    "duration": 5,
    "start_time": "2022-04-02T02:57:12.159Z"
   },
   {
    "duration": 7,
    "start_time": "2022-04-02T02:57:12.166Z"
   },
   {
    "duration": 8,
    "start_time": "2022-04-02T02:57:12.175Z"
   },
   {
    "duration": 16,
    "start_time": "2022-04-02T02:57:12.184Z"
   },
   {
    "duration": 8,
    "start_time": "2022-04-02T02:57:12.202Z"
   },
   {
    "duration": 6,
    "start_time": "2022-04-02T02:57:12.237Z"
   },
   {
    "duration": 13,
    "start_time": "2022-04-02T02:57:12.245Z"
   },
   {
    "duration": 12,
    "start_time": "2022-04-02T02:57:12.260Z"
   },
   {
    "duration": 6,
    "start_time": "2022-04-02T02:57:12.273Z"
   },
   {
    "duration": 99,
    "start_time": "2022-04-02T02:57:12.280Z"
   },
   {
    "duration": 58,
    "start_time": "2022-04-02T02:57:12.381Z"
   },
   {
    "duration": 28,
    "start_time": "2022-04-02T02:57:12.441Z"
   },
   {
    "duration": 4,
    "start_time": "2022-04-02T02:57:12.471Z"
   },
   {
    "duration": 10,
    "start_time": "2022-04-02T02:57:12.477Z"
   },
   {
    "duration": 67,
    "start_time": "2022-04-02T02:57:12.489Z"
   },
   {
    "duration": 32,
    "start_time": "2022-04-02T02:57:12.558Z"
   },
   {
    "duration": 5,
    "start_time": "2022-04-02T02:57:12.591Z"
   },
   {
    "duration": 7,
    "start_time": "2022-04-02T02:57:12.598Z"
   },
   {
    "duration": 57,
    "start_time": "2022-04-02T02:57:12.606Z"
   },
   {
    "duration": 27,
    "start_time": "2022-04-02T02:57:12.665Z"
   },
   {
    "duration": 56,
    "start_time": "2022-04-02T02:57:12.693Z"
   },
   {
    "duration": 5,
    "start_time": "2022-04-02T02:57:12.751Z"
   },
   {
    "duration": 8,
    "start_time": "2022-04-02T02:57:12.758Z"
   },
   {
    "duration": 7,
    "start_time": "2022-04-02T02:57:12.767Z"
   },
   {
    "duration": 6,
    "start_time": "2022-04-02T02:57:12.776Z"
   },
   {
    "duration": 7,
    "start_time": "2022-04-02T02:57:12.783Z"
   },
   {
    "duration": 5,
    "start_time": "2022-04-02T02:57:12.793Z"
   },
   {
    "duration": 8,
    "start_time": "2022-04-02T02:57:12.799Z"
   },
   {
    "duration": 40,
    "start_time": "2022-04-02T02:57:12.808Z"
   },
   {
    "duration": 12,
    "start_time": "2022-04-02T02:57:12.850Z"
   },
   {
    "duration": 21,
    "start_time": "2022-04-02T02:57:12.864Z"
   },
   {
    "duration": 15,
    "start_time": "2022-04-02T02:57:12.886Z"
   },
   {
    "duration": 41,
    "start_time": "2022-04-02T02:57:12.903Z"
   },
   {
    "duration": 9,
    "start_time": "2022-04-02T02:57:12.946Z"
   },
   {
    "duration": 12,
    "start_time": "2022-04-02T02:57:12.957Z"
   },
   {
    "duration": 125,
    "start_time": "2022-04-02T02:57:12.971Z"
   },
   {
    "duration": 60,
    "start_time": "2022-04-02T02:57:13.098Z"
   },
   {
    "duration": 40,
    "start_time": "2022-04-02T02:57:13.159Z"
   },
   {
    "duration": 5,
    "start_time": "2022-04-02T02:57:13.201Z"
   },
   {
    "duration": 65,
    "start_time": "2022-04-02T02:57:13.207Z"
   },
   {
    "duration": 30,
    "start_time": "2022-04-02T02:57:13.274Z"
   },
   {
    "duration": 48,
    "start_time": "2022-04-02T02:57:13.306Z"
   },
   {
    "duration": 27434,
    "start_time": "2022-04-02T02:57:13.355Z"
   },
   {
    "duration": 212,
    "start_time": "2022-04-02T02:57:40.791Z"
   },
   {
    "duration": 107,
    "start_time": "2022-04-02T02:57:41.005Z"
   },
   {
    "duration": 152,
    "start_time": "2022-04-02T02:57:41.114Z"
   },
   {
    "duration": 735,
    "start_time": "2022-04-02T02:58:15.404Z"
   },
   {
    "duration": 8,
    "start_time": "2022-04-02T02:58:19.539Z"
   },
   {
    "duration": 5,
    "start_time": "2022-04-02T03:08:23.557Z"
   },
   {
    "duration": 5,
    "start_time": "2022-04-02T03:08:29.779Z"
   },
   {
    "duration": 4,
    "start_time": "2022-04-02T03:11:33.511Z"
   },
   {
    "duration": 4,
    "start_time": "2022-04-02T03:11:52.210Z"
   },
   {
    "duration": 211,
    "start_time": "2022-04-02T03:15:56.546Z"
   },
   {
    "duration": 215,
    "start_time": "2022-04-02T03:17:37.100Z"
   },
   {
    "duration": 170,
    "start_time": "2022-04-02T03:17:48.819Z"
   },
   {
    "duration": 185,
    "start_time": "2022-04-02T03:17:56.547Z"
   },
   {
    "duration": 213,
    "start_time": "2022-04-02T03:18:05.486Z"
   },
   {
    "duration": 376,
    "start_time": "2022-04-02T03:18:10.324Z"
   },
   {
    "duration": 247,
    "start_time": "2022-04-02T03:18:18.679Z"
   },
   {
    "duration": 223,
    "start_time": "2022-04-02T03:22:36.980Z"
   },
   {
    "duration": 236,
    "start_time": "2022-04-02T03:23:33.239Z"
   },
   {
    "duration": 230,
    "start_time": "2022-04-02T03:24:22.398Z"
   },
   {
    "duration": 239,
    "start_time": "2022-04-02T03:28:17.221Z"
   },
   {
    "duration": 226,
    "start_time": "2022-04-02T03:30:08.086Z"
   },
   {
    "duration": 105,
    "start_time": "2022-04-02T03:30:21.885Z"
   },
   {
    "duration": 114,
    "start_time": "2022-04-02T03:31:57.967Z"
   },
   {
    "duration": 98,
    "start_time": "2022-04-02T03:32:06.620Z"
   },
   {
    "duration": 116,
    "start_time": "2022-04-02T03:32:14.557Z"
   },
   {
    "duration": 4,
    "start_time": "2022-04-02T03:32:56.887Z"
   },
   {
    "duration": 4,
    "start_time": "2022-04-02T03:33:11.854Z"
   },
   {
    "duration": 4,
    "start_time": "2022-04-02T03:51:00.034Z"
   },
   {
    "duration": 4,
    "start_time": "2022-04-02T03:51:01.925Z"
   },
   {
    "duration": 2,
    "start_time": "2022-04-02T03:54:23.221Z"
   },
   {
    "duration": 244,
    "start_time": "2022-04-02T03:56:48.835Z"
   },
   {
    "duration": 242,
    "start_time": "2022-04-02T03:56:59.069Z"
   },
   {
    "duration": 124,
    "start_time": "2022-04-02T03:59:41.783Z"
   },
   {
    "duration": 5,
    "start_time": "2022-04-02T04:00:17.277Z"
   },
   {
    "duration": 6,
    "start_time": "2022-04-02T04:00:31.796Z"
   },
   {
    "duration": 4,
    "start_time": "2022-04-02T04:00:47.396Z"
   },
   {
    "duration": 4,
    "start_time": "2022-04-02T04:00:48.740Z"
   },
   {
    "duration": 7,
    "start_time": "2022-04-02T04:06:44.060Z"
   },
   {
    "duration": 362,
    "start_time": "2022-04-02T04:07:20.124Z"
   },
   {
    "duration": 114,
    "start_time": "2022-04-02T04:08:50.950Z"
   },
   {
    "duration": 119,
    "start_time": "2022-04-02T04:09:56.024Z"
   },
   {
    "duration": 228,
    "start_time": "2022-04-02T04:10:09.555Z"
   },
   {
    "duration": 218,
    "start_time": "2022-04-02T04:10:37.685Z"
   },
   {
    "duration": 120,
    "start_time": "2022-04-02T04:11:15.330Z"
   },
   {
    "duration": 102,
    "start_time": "2022-04-02T04:11:23.835Z"
   },
   {
    "duration": 110,
    "start_time": "2022-04-02T04:11:29.563Z"
   },
   {
    "duration": 97,
    "start_time": "2022-04-02T04:11:34.775Z"
   },
   {
    "duration": 236,
    "start_time": "2022-04-02T04:11:43.451Z"
   },
   {
    "duration": 217,
    "start_time": "2022-04-02T04:12:53.118Z"
   },
   {
    "duration": 127,
    "start_time": "2022-04-02T04:14:16.672Z"
   },
   {
    "duration": 120,
    "start_time": "2022-04-02T04:14:23.827Z"
   },
   {
    "duration": 5,
    "start_time": "2022-04-02T04:23:31.307Z"
   },
   {
    "duration": 4,
    "start_time": "2022-04-02T04:23:32.875Z"
   },
   {
    "duration": 4,
    "start_time": "2022-04-02T04:23:35.290Z"
   },
   {
    "duration": 3,
    "start_time": "2022-04-02T04:23:36.874Z"
   },
   {
    "duration": 5,
    "start_time": "2022-04-02T04:25:07.826Z"
   },
   {
    "duration": 5,
    "start_time": "2022-04-02T04:25:16.862Z"
   },
   {
    "duration": 4,
    "start_time": "2022-04-02T04:25:22.473Z"
   },
   {
    "duration": 4,
    "start_time": "2022-04-02T04:25:26.925Z"
   },
   {
    "duration": 4,
    "start_time": "2022-04-02T04:25:30.548Z"
   },
   {
    "duration": 5,
    "start_time": "2022-04-02T04:27:50.594Z"
   },
   {
    "duration": 5,
    "start_time": "2022-04-02T04:27:56.416Z"
   },
   {
    "duration": 3,
    "start_time": "2022-04-02T04:28:03.317Z"
   },
   {
    "duration": 4,
    "start_time": "2022-04-02T04:28:07.297Z"
   },
   {
    "duration": 222,
    "start_time": "2022-04-02T05:26:57.569Z"
   },
   {
    "duration": 215,
    "start_time": "2022-04-02T05:27:35.290Z"
   },
   {
    "duration": 9,
    "start_time": "2022-04-02T05:28:23.947Z"
   },
   {
    "duration": 353,
    "start_time": "2022-04-02T05:28:41.635Z"
   },
   {
    "duration": 136,
    "start_time": "2022-04-02T05:28:52.498Z"
   },
   {
    "duration": 170,
    "start_time": "2022-04-02T05:28:57.483Z"
   },
   {
    "duration": 134,
    "start_time": "2022-04-02T05:29:04.465Z"
   },
   {
    "duration": 149,
    "start_time": "2022-04-02T05:29:09.322Z"
   },
   {
    "duration": 115,
    "start_time": "2022-04-02T05:29:25.921Z"
   },
   {
    "duration": 138,
    "start_time": "2022-04-02T05:29:30.260Z"
   },
   {
    "duration": 220,
    "start_time": "2022-04-02T05:29:38.049Z"
   },
   {
    "duration": 286,
    "start_time": "2022-04-02T05:30:10.345Z"
   },
   {
    "duration": 8,
    "start_time": "2022-04-02T05:33:40.754Z"
   },
   {
    "duration": 116,
    "start_time": "2022-04-02T05:33:44.416Z"
   },
   {
    "duration": 4,
    "start_time": "2022-04-02T05:33:47.246Z"
   },
   {
    "duration": 4,
    "start_time": "2022-04-02T05:33:57.775Z"
   },
   {
    "duration": 438,
    "start_time": "2022-04-02T05:43:11.518Z"
   },
   {
    "duration": 8,
    "start_time": "2022-04-02T05:43:11.957Z"
   },
   {
    "duration": 9,
    "start_time": "2022-04-02T05:43:11.967Z"
   },
   {
    "duration": 14,
    "start_time": "2022-04-02T05:43:11.978Z"
   },
   {
    "duration": 9,
    "start_time": "2022-04-02T05:43:11.993Z"
   },
   {
    "duration": 44,
    "start_time": "2022-04-02T05:43:12.004Z"
   },
   {
    "duration": 6,
    "start_time": "2022-04-02T05:43:12.049Z"
   },
   {
    "duration": 302,
    "start_time": "2022-04-02T05:43:12.056Z"
   },
   {
    "duration": 22,
    "start_time": "2022-04-02T05:43:12.359Z"
   },
   {
    "duration": 154,
    "start_time": "2022-04-02T05:43:12.384Z"
   },
   {
    "duration": 16,
    "start_time": "2022-04-02T05:43:12.540Z"
   },
   {
    "duration": 199,
    "start_time": "2022-04-02T05:43:12.558Z"
   },
   {
    "duration": 17,
    "start_time": "2022-04-02T05:43:12.759Z"
   },
   {
    "duration": 34,
    "start_time": "2022-04-02T05:43:12.778Z"
   },
   {
    "duration": 6,
    "start_time": "2022-04-02T05:43:12.837Z"
   },
   {
    "duration": 6,
    "start_time": "2022-04-02T05:43:12.845Z"
   },
   {
    "duration": 6,
    "start_time": "2022-04-02T05:43:12.853Z"
   },
   {
    "duration": 13,
    "start_time": "2022-04-02T05:43:12.860Z"
   },
   {
    "duration": 5,
    "start_time": "2022-04-02T05:43:12.875Z"
   },
   {
    "duration": 9,
    "start_time": "2022-04-02T05:43:12.881Z"
   },
   {
    "duration": 9,
    "start_time": "2022-04-02T05:43:12.891Z"
   },
   {
    "duration": 45,
    "start_time": "2022-04-02T05:43:12.901Z"
   },
   {
    "duration": 9,
    "start_time": "2022-04-02T05:43:12.948Z"
   },
   {
    "duration": 98,
    "start_time": "2022-04-02T05:43:12.959Z"
   },
   {
    "duration": 46,
    "start_time": "2022-04-02T05:43:13.059Z"
   },
   {
    "duration": 39,
    "start_time": "2022-04-02T05:43:13.106Z"
   },
   {
    "duration": 4,
    "start_time": "2022-04-02T05:43:13.147Z"
   },
   {
    "duration": 8,
    "start_time": "2022-04-02T05:43:13.155Z"
   },
   {
    "duration": 36,
    "start_time": "2022-04-02T05:43:13.165Z"
   },
   {
    "duration": 59,
    "start_time": "2022-04-02T05:43:13.203Z"
   },
   {
    "duration": 5,
    "start_time": "2022-04-02T05:43:13.264Z"
   },
   {
    "duration": 7,
    "start_time": "2022-04-02T05:43:13.271Z"
   },
   {
    "duration": 38,
    "start_time": "2022-04-02T05:43:13.279Z"
   },
   {
    "duration": 26,
    "start_time": "2022-04-02T05:43:13.338Z"
   },
   {
    "duration": 39,
    "start_time": "2022-04-02T05:43:13.366Z"
   },
   {
    "duration": 32,
    "start_time": "2022-04-02T05:43:13.407Z"
   },
   {
    "duration": 6,
    "start_time": "2022-04-02T05:43:13.440Z"
   },
   {
    "duration": 7,
    "start_time": "2022-04-02T05:43:13.447Z"
   },
   {
    "duration": 6,
    "start_time": "2022-04-02T05:43:13.456Z"
   },
   {
    "duration": 7,
    "start_time": "2022-04-02T05:43:13.463Z"
   },
   {
    "duration": 11,
    "start_time": "2022-04-02T05:43:13.471Z"
   },
   {
    "duration": 13,
    "start_time": "2022-04-02T05:43:13.484Z"
   },
   {
    "duration": 14,
    "start_time": "2022-04-02T05:43:13.498Z"
   },
   {
    "duration": 12,
    "start_time": "2022-04-02T05:43:13.538Z"
   },
   {
    "duration": 27,
    "start_time": "2022-04-02T05:43:13.552Z"
   },
   {
    "duration": 16,
    "start_time": "2022-04-02T05:43:13.581Z"
   },
   {
    "duration": 39,
    "start_time": "2022-04-02T05:43:13.599Z"
   },
   {
    "duration": 10,
    "start_time": "2022-04-02T05:43:13.641Z"
   },
   {
    "duration": 7,
    "start_time": "2022-04-02T05:43:13.653Z"
   },
   {
    "duration": 128,
    "start_time": "2022-04-02T05:43:13.662Z"
   },
   {
    "duration": 58,
    "start_time": "2022-04-02T05:43:13.792Z"
   },
   {
    "duration": 45,
    "start_time": "2022-04-02T05:43:13.851Z"
   },
   {
    "duration": 5,
    "start_time": "2022-04-02T05:43:13.898Z"
   },
   {
    "duration": 69,
    "start_time": "2022-04-02T05:43:13.904Z"
   },
   {
    "duration": 30,
    "start_time": "2022-04-02T05:43:13.974Z"
   },
   {
    "duration": 53,
    "start_time": "2022-04-02T05:43:14.006Z"
   },
   {
    "duration": 27049,
    "start_time": "2022-04-02T05:43:14.060Z"
   },
   {
    "duration": 7,
    "start_time": "2022-04-02T05:43:41.111Z"
   },
   {
    "duration": 244,
    "start_time": "2022-04-02T05:43:41.120Z"
   },
   {
    "duration": 115,
    "start_time": "2022-04-02T05:43:41.366Z"
   },
   {
    "duration": 236,
    "start_time": "2022-04-02T05:43:41.483Z"
   },
   {
    "duration": 237,
    "start_time": "2022-04-02T05:43:41.721Z"
   },
   {
    "duration": 130,
    "start_time": "2022-04-02T05:43:41.959Z"
   },
   {
    "duration": 364,
    "start_time": "2022-04-02T05:43:42.091Z"
   },
   {
    "duration": 135,
    "start_time": "2022-04-02T05:43:42.457Z"
   },
   {
    "duration": 9,
    "start_time": "2022-04-02T05:43:42.593Z"
   },
   {
    "duration": 247,
    "start_time": "2022-04-02T05:43:42.604Z"
   },
   {
    "duration": 125,
    "start_time": "2022-04-02T05:43:42.853Z"
   },
   {
    "duration": 235,
    "start_time": "2022-04-02T05:43:42.979Z"
   },
   {
    "duration": 232,
    "start_time": "2022-04-02T05:43:43.216Z"
   },
   {
    "duration": 125,
    "start_time": "2022-04-02T05:43:43.450Z"
   },
   {
    "duration": 411,
    "start_time": "2022-04-02T05:43:43.577Z"
   },
   {
    "duration": 140,
    "start_time": "2022-04-02T05:43:43.989Z"
   },
   {
    "duration": 154,
    "start_time": "2022-04-02T05:43:44.131Z"
   },
   {
    "duration": 174,
    "start_time": "2022-04-02T05:43:44.287Z"
   },
   {
    "duration": 4,
    "start_time": "2022-04-02T05:43:44.462Z"
   },
   {
    "duration": 6,
    "start_time": "2022-04-02T05:43:44.467Z"
   },
   {
    "duration": 10,
    "start_time": "2022-04-02T05:43:44.475Z"
   },
   {
    "duration": 5,
    "start_time": "2022-04-02T05:44:01.807Z"
   },
   {
    "duration": 5,
    "start_time": "2022-04-02T05:45:13.233Z"
   },
   {
    "duration": 23,
    "start_time": "2022-04-02T05:53:14.102Z"
   },
   {
    "duration": 24,
    "start_time": "2022-04-02T05:53:56.093Z"
   },
   {
    "duration": 11,
    "start_time": "2022-04-02T05:54:08.833Z"
   },
   {
    "duration": 4,
    "start_time": "2022-04-02T05:54:29.532Z"
   },
   {
    "duration": 4,
    "start_time": "2022-04-02T05:54:43.743Z"
   },
   {
    "duration": 6,
    "start_time": "2022-04-02T05:56:08.180Z"
   },
   {
    "duration": 442,
    "start_time": "2022-04-02T06:00:51.779Z"
   },
   {
    "duration": 7,
    "start_time": "2022-04-02T06:00:52.223Z"
   },
   {
    "duration": 21,
    "start_time": "2022-04-02T06:00:52.232Z"
   },
   {
    "duration": 25,
    "start_time": "2022-04-02T06:00:52.255Z"
   },
   {
    "duration": 19,
    "start_time": "2022-04-02T06:00:52.282Z"
   },
   {
    "duration": 50,
    "start_time": "2022-04-02T06:00:52.302Z"
   },
   {
    "duration": 5,
    "start_time": "2022-04-02T06:00:52.354Z"
   },
   {
    "duration": 263,
    "start_time": "2022-04-02T06:00:52.361Z"
   },
   {
    "duration": 29,
    "start_time": "2022-04-02T06:00:52.625Z"
   },
   {
    "duration": 139,
    "start_time": "2022-04-02T06:00:52.655Z"
   },
   {
    "duration": 14,
    "start_time": "2022-04-02T06:00:52.796Z"
   },
   {
    "duration": 161,
    "start_time": "2022-04-02T06:00:52.811Z"
   },
   {
    "duration": 17,
    "start_time": "2022-04-02T06:00:52.974Z"
   },
   {
    "duration": 56,
    "start_time": "2022-04-02T06:00:52.994Z"
   },
   {
    "duration": 6,
    "start_time": "2022-04-02T06:00:53.052Z"
   },
   {
    "duration": 9,
    "start_time": "2022-04-02T06:00:53.059Z"
   },
   {
    "duration": 7,
    "start_time": "2022-04-02T06:00:53.069Z"
   },
   {
    "duration": 12,
    "start_time": "2022-04-02T06:00:53.078Z"
   },
   {
    "duration": 10,
    "start_time": "2022-04-02T06:00:53.093Z"
   },
   {
    "duration": 19,
    "start_time": "2022-04-02T06:00:53.105Z"
   },
   {
    "duration": 6,
    "start_time": "2022-04-02T06:00:53.138Z"
   },
   {
    "duration": 13,
    "start_time": "2022-04-02T06:00:53.146Z"
   },
   {
    "duration": 7,
    "start_time": "2022-04-02T06:00:53.161Z"
   },
   {
    "duration": 92,
    "start_time": "2022-04-02T06:00:53.170Z"
   },
   {
    "duration": 46,
    "start_time": "2022-04-02T06:00:53.263Z"
   },
   {
    "duration": 43,
    "start_time": "2022-04-02T06:00:53.310Z"
   },
   {
    "duration": 4,
    "start_time": "2022-04-02T06:00:53.355Z"
   },
   {
    "duration": 22,
    "start_time": "2022-04-02T06:00:53.361Z"
   },
   {
    "duration": 39,
    "start_time": "2022-04-02T06:00:53.385Z"
   },
   {
    "duration": 36,
    "start_time": "2022-04-02T06:00:53.426Z"
   },
   {
    "duration": 6,
    "start_time": "2022-04-02T06:00:53.463Z"
   },
   {
    "duration": 13,
    "start_time": "2022-04-02T06:00:53.470Z"
   },
   {
    "duration": 56,
    "start_time": "2022-04-02T06:00:53.485Z"
   },
   {
    "duration": 26,
    "start_time": "2022-04-02T06:00:53.543Z"
   },
   {
    "duration": 40,
    "start_time": "2022-04-02T06:00:53.570Z"
   },
   {
    "duration": 32,
    "start_time": "2022-04-02T06:00:53.612Z"
   },
   {
    "duration": 12,
    "start_time": "2022-04-02T06:00:53.645Z"
   },
   {
    "duration": 6,
    "start_time": "2022-04-02T06:00:53.659Z"
   },
   {
    "duration": 15,
    "start_time": "2022-04-02T06:00:53.667Z"
   },
   {
    "duration": 10,
    "start_time": "2022-04-02T06:00:53.683Z"
   },
   {
    "duration": 5,
    "start_time": "2022-04-02T06:00:53.697Z"
   },
   {
    "duration": 11,
    "start_time": "2022-04-02T06:00:53.703Z"
   },
   {
    "duration": 28,
    "start_time": "2022-04-02T06:00:53.715Z"
   },
   {
    "duration": 14,
    "start_time": "2022-04-02T06:00:53.745Z"
   },
   {
    "duration": 24,
    "start_time": "2022-04-02T06:00:53.761Z"
   },
   {
    "duration": 14,
    "start_time": "2022-04-02T06:00:53.787Z"
   },
   {
    "duration": 34,
    "start_time": "2022-04-02T06:00:53.803Z"
   },
   {
    "duration": 10,
    "start_time": "2022-04-02T06:00:53.839Z"
   },
   {
    "duration": 12,
    "start_time": "2022-04-02T06:00:53.851Z"
   },
   {
    "duration": 118,
    "start_time": "2022-04-02T06:00:53.865Z"
   },
   {
    "duration": 57,
    "start_time": "2022-04-02T06:00:53.984Z"
   },
   {
    "duration": 41,
    "start_time": "2022-04-02T06:00:54.043Z"
   },
   {
    "duration": 5,
    "start_time": "2022-04-02T06:00:54.085Z"
   },
   {
    "duration": 68,
    "start_time": "2022-04-02T06:00:54.092Z"
   },
   {
    "duration": 31,
    "start_time": "2022-04-02T06:00:54.162Z"
   },
   {
    "duration": 51,
    "start_time": "2022-04-02T06:00:54.195Z"
   },
   {
    "duration": 27295,
    "start_time": "2022-04-02T06:00:54.248Z"
   },
   {
    "duration": 8,
    "start_time": "2022-04-02T06:01:21.546Z"
   },
   {
    "duration": 256,
    "start_time": "2022-04-02T06:01:21.556Z"
   },
   {
    "duration": 115,
    "start_time": "2022-04-02T06:01:21.814Z"
   },
   {
    "duration": 251,
    "start_time": "2022-04-02T06:01:21.931Z"
   },
   {
    "duration": 382,
    "start_time": "2022-04-02T06:01:22.184Z"
   },
   {
    "duration": 133,
    "start_time": "2022-04-02T06:01:22.568Z"
   },
   {
    "duration": 259,
    "start_time": "2022-04-02T06:01:22.703Z"
   },
   {
    "duration": 147,
    "start_time": "2022-04-02T06:01:22.964Z"
   },
   {
    "duration": 9,
    "start_time": "2022-04-02T06:01:23.113Z"
   },
   {
    "duration": 242,
    "start_time": "2022-04-02T06:01:23.124Z"
   },
   {
    "duration": 126,
    "start_time": "2022-04-02T06:01:23.368Z"
   },
   {
    "duration": 234,
    "start_time": "2022-04-02T06:01:23.496Z"
   },
   {
    "duration": 370,
    "start_time": "2022-04-02T06:01:23.732Z"
   },
   {
    "duration": 106,
    "start_time": "2022-04-02T06:01:24.103Z"
   },
   {
    "duration": 229,
    "start_time": "2022-04-02T06:01:24.211Z"
   },
   {
    "duration": 137,
    "start_time": "2022-04-02T06:01:24.441Z"
   },
   {
    "duration": 4,
    "start_time": "2022-04-02T06:01:24.579Z"
   },
   {
    "duration": 12,
    "start_time": "2022-04-02T06:01:24.584Z"
   },
   {
    "duration": 10,
    "start_time": "2022-04-02T06:01:24.597Z"
   },
   {
    "duration": 13,
    "start_time": "2022-04-02T06:01:24.609Z"
   },
   {
    "duration": 4,
    "start_time": "2022-04-02T06:01:24.637Z"
   },
   {
    "duration": 6,
    "start_time": "2022-04-02T06:01:24.643Z"
   },
   {
    "duration": 6,
    "start_time": "2022-04-02T06:01:24.651Z"
   },
   {
    "duration": 6,
    "start_time": "2022-04-02T06:09:53.548Z"
   },
   {
    "duration": 4,
    "start_time": "2022-04-02T06:10:23.812Z"
   },
   {
    "duration": 5,
    "start_time": "2022-04-02T06:11:24.137Z"
   },
   {
    "duration": 4,
    "start_time": "2022-04-02T06:11:26.242Z"
   },
   {
    "duration": 231,
    "start_time": "2022-04-02T06:17:39.983Z"
   },
   {
    "duration": 234,
    "start_time": "2022-04-02T06:18:09.057Z"
   },
   {
    "duration": 228,
    "start_time": "2022-04-02T06:18:52.798Z"
   },
   {
    "duration": 268,
    "start_time": "2022-04-02T06:18:57.144Z"
   },
   {
    "duration": 5,
    "start_time": "2022-04-02T06:22:31.252Z"
   },
   {
    "duration": 4,
    "start_time": "2022-04-02T06:23:04.398Z"
   },
   {
    "duration": 5,
    "start_time": "2022-04-02T06:23:15.976Z"
   },
   {
    "duration": 452,
    "start_time": "2022-04-02T06:38:30.324Z"
   },
   {
    "duration": 8,
    "start_time": "2022-04-02T06:38:30.778Z"
   },
   {
    "duration": 13,
    "start_time": "2022-04-02T06:38:30.788Z"
   },
   {
    "duration": 11,
    "start_time": "2022-04-02T06:38:30.803Z"
   },
   {
    "duration": 14,
    "start_time": "2022-04-02T06:38:30.816Z"
   },
   {
    "duration": 43,
    "start_time": "2022-04-02T06:38:30.832Z"
   },
   {
    "duration": 6,
    "start_time": "2022-04-02T06:38:30.877Z"
   },
   {
    "duration": 311,
    "start_time": "2022-04-02T06:38:30.885Z"
   },
   {
    "duration": 41,
    "start_time": "2022-04-02T06:38:31.198Z"
   },
   {
    "duration": 155,
    "start_time": "2022-04-02T06:38:31.241Z"
   },
   {
    "duration": 17,
    "start_time": "2022-04-02T06:38:31.398Z"
   },
   {
    "duration": 213,
    "start_time": "2022-04-02T06:38:31.417Z"
   },
   {
    "duration": 18,
    "start_time": "2022-04-02T06:38:31.637Z"
   },
   {
    "duration": 37,
    "start_time": "2022-04-02T06:38:31.658Z"
   },
   {
    "duration": 9,
    "start_time": "2022-04-02T06:38:31.697Z"
   },
   {
    "duration": 25,
    "start_time": "2022-04-02T06:38:31.707Z"
   },
   {
    "duration": 25,
    "start_time": "2022-04-02T06:38:31.733Z"
   },
   {
    "duration": 34,
    "start_time": "2022-04-02T06:38:31.759Z"
   },
   {
    "duration": 40,
    "start_time": "2022-04-02T06:38:31.795Z"
   },
   {
    "duration": 16,
    "start_time": "2022-04-02T06:38:31.837Z"
   },
   {
    "duration": 10,
    "start_time": "2022-04-02T06:38:31.855Z"
   },
   {
    "duration": 20,
    "start_time": "2022-04-02T06:38:31.867Z"
   },
   {
    "duration": 10,
    "start_time": "2022-04-02T06:38:31.889Z"
   },
   {
    "duration": 104,
    "start_time": "2022-04-02T06:38:31.901Z"
   },
   {
    "duration": 56,
    "start_time": "2022-04-02T06:38:32.006Z"
   },
   {
    "duration": 28,
    "start_time": "2022-04-02T06:38:32.064Z"
   },
   {
    "duration": 5,
    "start_time": "2022-04-02T06:38:32.094Z"
   },
   {
    "duration": 16,
    "start_time": "2022-04-02T06:38:32.100Z"
   },
   {
    "duration": 40,
    "start_time": "2022-04-02T06:38:32.138Z"
   },
   {
    "duration": 35,
    "start_time": "2022-04-02T06:38:32.180Z"
   },
   {
    "duration": 21,
    "start_time": "2022-04-02T06:38:32.217Z"
   },
   {
    "duration": 7,
    "start_time": "2022-04-02T06:38:32.240Z"
   },
   {
    "duration": 38,
    "start_time": "2022-04-02T06:38:32.248Z"
   },
   {
    "duration": 27,
    "start_time": "2022-04-02T06:38:32.288Z"
   },
   {
    "duration": 57,
    "start_time": "2022-04-02T06:38:32.317Z"
   },
   {
    "duration": 6,
    "start_time": "2022-04-02T06:38:32.376Z"
   },
   {
    "duration": 13,
    "start_time": "2022-04-02T06:38:32.384Z"
   },
   {
    "duration": 24,
    "start_time": "2022-04-02T06:38:32.398Z"
   },
   {
    "duration": 14,
    "start_time": "2022-04-02T06:38:32.424Z"
   },
   {
    "duration": 25,
    "start_time": "2022-04-02T06:38:32.440Z"
   },
   {
    "duration": 9,
    "start_time": "2022-04-02T06:38:32.470Z"
   },
   {
    "duration": 7,
    "start_time": "2022-04-02T06:38:32.481Z"
   },
   {
    "duration": 16,
    "start_time": "2022-04-02T06:38:32.489Z"
   },
   {
    "duration": 21,
    "start_time": "2022-04-02T06:38:32.506Z"
   },
   {
    "duration": 24,
    "start_time": "2022-04-02T06:38:32.528Z"
   },
   {
    "duration": 18,
    "start_time": "2022-04-02T06:38:32.554Z"
   },
   {
    "duration": 15,
    "start_time": "2022-04-02T06:38:32.574Z"
   },
   {
    "duration": 9,
    "start_time": "2022-04-02T06:38:32.591Z"
   },
   {
    "duration": 10,
    "start_time": "2022-04-02T06:38:32.602Z"
   },
   {
    "duration": 128,
    "start_time": "2022-04-02T06:38:32.614Z"
   },
   {
    "duration": 41,
    "start_time": "2022-04-02T06:38:32.744Z"
   },
   {
    "duration": 56,
    "start_time": "2022-04-02T06:38:32.787Z"
   },
   {
    "duration": 5,
    "start_time": "2022-04-02T06:38:32.845Z"
   },
   {
    "duration": 47,
    "start_time": "2022-04-02T06:38:32.851Z"
   },
   {
    "duration": 48,
    "start_time": "2022-04-02T06:38:32.899Z"
   },
   {
    "duration": 37,
    "start_time": "2022-04-02T06:38:32.948Z"
   },
   {
    "duration": 26731,
    "start_time": "2022-04-02T06:38:32.987Z"
   },
   {
    "duration": 17,
    "start_time": "2022-04-02T06:38:59.720Z"
   },
   {
    "duration": 237,
    "start_time": "2022-04-02T06:38:59.739Z"
   },
   {
    "duration": 122,
    "start_time": "2022-04-02T06:38:59.977Z"
   },
   {
    "duration": 252,
    "start_time": "2022-04-02T06:39:00.100Z"
   },
   {
    "duration": 252,
    "start_time": "2022-04-02T06:39:00.354Z"
   },
   {
    "duration": 131,
    "start_time": "2022-04-02T06:39:00.608Z"
   },
   {
    "duration": 389,
    "start_time": "2022-04-02T06:39:00.741Z"
   },
   {
    "duration": 140,
    "start_time": "2022-04-02T06:39:01.132Z"
   },
   {
    "duration": 8,
    "start_time": "2022-04-02T06:39:01.273Z"
   },
   {
    "duration": 259,
    "start_time": "2022-04-02T06:39:01.283Z"
   },
   {
    "duration": 130,
    "start_time": "2022-04-02T06:39:01.543Z"
   },
   {
    "duration": 238,
    "start_time": "2022-04-02T06:39:01.675Z"
   },
   {
    "duration": 244,
    "start_time": "2022-04-02T06:39:01.914Z"
   },
   {
    "duration": 110,
    "start_time": "2022-04-02T06:39:02.160Z"
   },
   {
    "duration": 387,
    "start_time": "2022-04-02T06:39:02.272Z"
   },
   {
    "duration": 137,
    "start_time": "2022-04-02T06:39:02.660Z"
   },
   {
    "duration": 233,
    "start_time": "2022-04-02T06:39:02.799Z"
   },
   {
    "duration": 164,
    "start_time": "2022-04-02T06:39:03.033Z"
   },
   {
    "duration": 5,
    "start_time": "2022-04-02T06:39:03.198Z"
   },
   {
    "duration": 10,
    "start_time": "2022-04-02T06:39:03.204Z"
   },
   {
    "duration": 7,
    "start_time": "2022-04-02T06:39:03.216Z"
   },
   {
    "duration": 15,
    "start_time": "2022-04-02T06:39:03.225Z"
   },
   {
    "duration": 7,
    "start_time": "2022-04-02T06:39:03.242Z"
   },
   {
    "duration": 13,
    "start_time": "2022-04-02T06:39:03.251Z"
   },
   {
    "duration": 10,
    "start_time": "2022-04-02T06:39:03.265Z"
   },
   {
    "duration": 18,
    "start_time": "2022-04-02T06:39:03.276Z"
   },
   {
    "duration": 20,
    "start_time": "2022-04-02T06:39:03.296Z"
   },
   {
    "duration": 29,
    "start_time": "2022-04-02T06:39:03.318Z"
   },
   {
    "duration": 13,
    "start_time": "2022-04-02T06:39:03.349Z"
   },
   {
    "duration": 25,
    "start_time": "2022-04-02T06:39:03.363Z"
   },
   {
    "duration": 33,
    "start_time": "2022-04-02T06:39:03.389Z"
   },
   {
    "duration": 115,
    "start_time": "2022-04-12T16:33:57.522Z"
   },
   {
    "duration": 51,
    "start_time": "2022-04-13T13:33:54.348Z"
   },
   {
    "duration": 1915,
    "start_time": "2022-04-13T13:34:01.533Z"
   },
   {
    "duration": 10,
    "start_time": "2022-04-13T13:34:03.450Z"
   },
   {
    "duration": 34,
    "start_time": "2022-04-13T13:34:03.461Z"
   },
   {
    "duration": 54,
    "start_time": "2022-04-13T13:34:03.498Z"
   },
   {
    "duration": 28,
    "start_time": "2022-04-13T13:34:03.555Z"
   },
   {
    "duration": 61,
    "start_time": "2022-04-13T13:34:03.585Z"
   },
   {
    "duration": 7,
    "start_time": "2022-04-13T13:34:03.648Z"
   },
   {
    "duration": 308,
    "start_time": "2022-04-13T13:34:03.656Z"
   },
   {
    "duration": 22,
    "start_time": "2022-04-13T13:34:03.966Z"
   },
   {
    "duration": 166,
    "start_time": "2022-04-13T13:34:03.991Z"
   },
   {
    "duration": 16,
    "start_time": "2022-04-13T13:34:04.159Z"
   },
   {
    "duration": 207,
    "start_time": "2022-04-13T13:34:04.177Z"
   },
   {
    "duration": 18,
    "start_time": "2022-04-13T13:34:04.386Z"
   },
   {
    "duration": 56,
    "start_time": "2022-04-13T13:34:04.405Z"
   },
   {
    "duration": 6,
    "start_time": "2022-04-13T13:34:04.462Z"
   },
   {
    "duration": 29,
    "start_time": "2022-04-13T13:34:04.470Z"
   },
   {
    "duration": 32,
    "start_time": "2022-04-13T13:34:04.501Z"
   },
   {
    "duration": 26,
    "start_time": "2022-04-13T13:34:04.536Z"
   },
   {
    "duration": 15,
    "start_time": "2022-04-13T13:34:04.565Z"
   },
   {
    "duration": 25,
    "start_time": "2022-04-13T13:34:04.582Z"
   },
   {
    "duration": 20,
    "start_time": "2022-04-13T13:34:04.609Z"
   },
   {
    "duration": 28,
    "start_time": "2022-04-13T13:34:04.631Z"
   },
   {
    "duration": 31,
    "start_time": "2022-04-13T13:34:04.661Z"
   },
   {
    "duration": 105,
    "start_time": "2022-04-13T13:34:04.694Z"
   },
   {
    "duration": 57,
    "start_time": "2022-04-13T13:34:04.801Z"
   },
   {
    "duration": 30,
    "start_time": "2022-04-13T13:34:04.860Z"
   },
   {
    "duration": 5,
    "start_time": "2022-04-13T13:34:04.892Z"
   },
   {
    "duration": 12,
    "start_time": "2022-04-13T13:34:04.922Z"
   },
   {
    "duration": 59,
    "start_time": "2022-04-13T13:34:04.936Z"
   },
   {
    "duration": 40,
    "start_time": "2022-04-13T13:34:04.997Z"
   },
   {
    "duration": 6,
    "start_time": "2022-04-13T13:34:05.039Z"
   },
   {
    "duration": 25,
    "start_time": "2022-04-13T13:34:05.047Z"
   },
   {
    "duration": 54,
    "start_time": "2022-04-13T13:34:05.074Z"
   },
   {
    "duration": 28,
    "start_time": "2022-04-13T13:34:05.130Z"
   },
   {
    "duration": 60,
    "start_time": "2022-04-13T13:34:05.160Z"
   },
   {
    "duration": 7,
    "start_time": "2022-04-13T13:34:05.222Z"
   },
   {
    "duration": 36,
    "start_time": "2022-04-13T13:34:05.230Z"
   },
   {
    "duration": 17,
    "start_time": "2022-04-13T13:34:05.268Z"
   },
   {
    "duration": 13,
    "start_time": "2022-04-13T13:34:05.287Z"
   },
   {
    "duration": 22,
    "start_time": "2022-04-13T13:34:05.302Z"
   },
   {
    "duration": 17,
    "start_time": "2022-04-13T13:34:05.326Z"
   },
   {
    "duration": 17,
    "start_time": "2022-04-13T13:34:05.345Z"
   },
   {
    "duration": 26,
    "start_time": "2022-04-13T13:34:05.364Z"
   },
   {
    "duration": 40,
    "start_time": "2022-04-13T13:34:05.392Z"
   },
   {
    "duration": 41,
    "start_time": "2022-04-13T13:34:05.434Z"
   },
   {
    "duration": 31,
    "start_time": "2022-04-13T13:34:05.477Z"
   },
   {
    "duration": 46,
    "start_time": "2022-04-13T13:34:05.510Z"
   },
   {
    "duration": 17,
    "start_time": "2022-04-13T13:34:05.558Z"
   },
   {
    "duration": 37,
    "start_time": "2022-04-13T13:34:05.577Z"
   },
   {
    "duration": 117,
    "start_time": "2022-04-13T13:34:05.616Z"
   },
   {
    "duration": 46,
    "start_time": "2022-04-13T13:34:05.735Z"
   },
   {
    "duration": 57,
    "start_time": "2022-04-13T13:34:05.782Z"
   },
   {
    "duration": 6,
    "start_time": "2022-04-13T13:34:05.841Z"
   },
   {
    "duration": 75,
    "start_time": "2022-04-13T13:34:05.849Z"
   },
   {
    "duration": 34,
    "start_time": "2022-04-13T13:34:05.926Z"
   },
   {
    "duration": 57,
    "start_time": "2022-04-13T13:34:05.962Z"
   },
   {
    "duration": 30625,
    "start_time": "2022-04-13T13:34:06.021Z"
   },
   {
    "duration": 10,
    "start_time": "2022-04-13T13:34:36.647Z"
   },
   {
    "duration": 276,
    "start_time": "2022-04-13T13:34:36.658Z"
   },
   {
    "duration": 121,
    "start_time": "2022-04-13T13:34:36.936Z"
   },
   {
    "duration": 251,
    "start_time": "2022-04-13T13:34:37.059Z"
   },
   {
    "duration": 251,
    "start_time": "2022-04-13T13:34:37.311Z"
   },
   {
    "duration": 138,
    "start_time": "2022-04-13T13:34:37.565Z"
   },
   {
    "duration": 329,
    "start_time": "2022-04-13T13:34:37.705Z"
   },
   {
    "duration": 145,
    "start_time": "2022-04-13T13:34:38.036Z"
   },
   {
    "duration": 8,
    "start_time": "2022-04-13T13:34:38.184Z"
   },
   {
    "duration": 365,
    "start_time": "2022-04-13T13:34:38.194Z"
   },
   {
    "duration": 137,
    "start_time": "2022-04-13T13:34:38.562Z"
   },
   {
    "duration": 288,
    "start_time": "2022-04-13T13:34:38.700Z"
   },
   {
    "duration": 249,
    "start_time": "2022-04-13T13:34:38.991Z"
   },
   {
    "duration": 206,
    "start_time": "2022-04-13T13:34:39.242Z"
   },
   {
    "duration": 235,
    "start_time": "2022-04-13T13:34:39.451Z"
   },
   {
    "duration": 141,
    "start_time": "2022-04-13T13:34:39.688Z"
   },
   {
    "duration": 240,
    "start_time": "2022-04-13T13:34:39.831Z"
   },
   {
    "duration": 164,
    "start_time": "2022-04-13T13:34:40.073Z"
   },
   {
    "duration": 5,
    "start_time": "2022-04-13T13:34:40.239Z"
   },
   {
    "duration": 11,
    "start_time": "2022-04-13T13:34:40.246Z"
   },
   {
    "duration": 10,
    "start_time": "2022-04-13T13:34:40.259Z"
   },
   {
    "duration": 9,
    "start_time": "2022-04-13T13:34:40.271Z"
   },
   {
    "duration": 13,
    "start_time": "2022-04-13T13:34:40.282Z"
   },
   {
    "duration": 24,
    "start_time": "2022-04-13T13:34:40.297Z"
   },
   {
    "duration": 7,
    "start_time": "2022-04-13T13:34:40.327Z"
   },
   {
    "duration": 26,
    "start_time": "2022-04-13T13:34:40.336Z"
   },
   {
    "duration": 11,
    "start_time": "2022-04-13T13:34:40.364Z"
   },
   {
    "duration": 13,
    "start_time": "2022-04-13T13:34:40.377Z"
   },
   {
    "duration": 11,
    "start_time": "2022-04-13T13:34:40.392Z"
   },
   {
    "duration": 14,
    "start_time": "2022-04-13T13:34:40.405Z"
   },
   {
    "duration": 13,
    "start_time": "2022-04-13T13:34:40.420Z"
   },
   {
    "duration": 387,
    "start_time": "2022-04-13T13:35:33.040Z"
   },
   {
    "duration": 140,
    "start_time": "2022-04-13T13:41:53.584Z"
   },
   {
    "duration": 67,
    "start_time": "2022-04-13T13:42:14.594Z"
   },
   {
    "duration": 321,
    "start_time": "2022-04-13T13:45:40.239Z"
   },
   {
    "duration": 8,
    "start_time": "2022-04-13T13:54:19.630Z"
   },
   {
    "duration": 15,
    "start_time": "2022-04-13T13:55:44.030Z"
   },
   {
    "duration": 27,
    "start_time": "2022-04-13T13:56:05.813Z"
   },
   {
    "duration": 548,
    "start_time": "2022-04-13T13:56:29.935Z"
   },
   {
    "duration": 10,
    "start_time": "2022-04-13T13:56:30.486Z"
   },
   {
    "duration": 44,
    "start_time": "2022-04-13T13:56:30.498Z"
   },
   {
    "duration": 29,
    "start_time": "2022-04-13T13:56:30.545Z"
   },
   {
    "duration": 20,
    "start_time": "2022-04-13T13:56:30.577Z"
   },
   {
    "duration": 62,
    "start_time": "2022-04-13T13:56:30.599Z"
   },
   {
    "duration": 15,
    "start_time": "2022-04-13T13:56:30.663Z"
   },
   {
    "duration": 315,
    "start_time": "2022-04-13T13:56:30.680Z"
   },
   {
    "duration": 34,
    "start_time": "2022-04-13T13:56:30.997Z"
   },
   {
    "duration": 177,
    "start_time": "2022-04-13T13:56:31.034Z"
   },
   {
    "duration": 24,
    "start_time": "2022-04-13T13:56:31.214Z"
   },
   {
    "duration": 221,
    "start_time": "2022-04-13T13:56:31.240Z"
   },
   {
    "duration": 19,
    "start_time": "2022-04-13T13:56:31.463Z"
   },
   {
    "duration": 55,
    "start_time": "2022-04-13T13:56:31.484Z"
   },
   {
    "duration": 7,
    "start_time": "2022-04-13T13:56:31.541Z"
   },
   {
    "duration": 29,
    "start_time": "2022-04-13T13:56:31.550Z"
   },
   {
    "duration": 11,
    "start_time": "2022-04-13T13:56:31.581Z"
   },
   {
    "duration": 32,
    "start_time": "2022-04-13T13:56:31.594Z"
   },
   {
    "duration": 26,
    "start_time": "2022-04-13T13:56:31.629Z"
   },
   {
    "duration": 32,
    "start_time": "2022-04-13T13:56:31.658Z"
   },
   {
    "duration": 44,
    "start_time": "2022-04-13T13:56:31.692Z"
   },
   {
    "duration": 25,
    "start_time": "2022-04-13T13:56:31.738Z"
   },
   {
    "duration": 13,
    "start_time": "2022-04-13T13:56:31.765Z"
   },
   {
    "duration": 109,
    "start_time": "2022-04-13T13:56:31.780Z"
   },
   {
    "duration": 54,
    "start_time": "2022-04-13T13:56:31.891Z"
   },
   {
    "duration": 29,
    "start_time": "2022-04-13T13:56:31.947Z"
   },
   {
    "duration": 6,
    "start_time": "2022-04-13T13:56:31.977Z"
   },
   {
    "duration": 57,
    "start_time": "2022-04-13T13:56:31.987Z"
   },
   {
    "duration": 60,
    "start_time": "2022-04-13T13:56:32.046Z"
   },
   {
    "duration": 45,
    "start_time": "2022-04-13T13:56:32.108Z"
   },
   {
    "duration": 5,
    "start_time": "2022-04-13T13:56:32.155Z"
   },
   {
    "duration": 26,
    "start_time": "2022-04-13T13:56:32.162Z"
   },
   {
    "duration": 51,
    "start_time": "2022-04-13T13:56:32.189Z"
   },
   {
    "duration": 28,
    "start_time": "2022-04-13T13:56:32.242Z"
   },
   {
    "duration": 55,
    "start_time": "2022-04-13T13:56:32.272Z"
   },
   {
    "duration": 7,
    "start_time": "2022-04-13T13:56:32.330Z"
   },
   {
    "duration": 9,
    "start_time": "2022-04-13T13:56:32.339Z"
   },
   {
    "duration": 17,
    "start_time": "2022-04-13T13:56:32.350Z"
   },
   {
    "duration": 27,
    "start_time": "2022-04-13T13:56:32.369Z"
   },
   {
    "duration": 26,
    "start_time": "2022-04-13T13:56:32.398Z"
   },
   {
    "duration": 28,
    "start_time": "2022-04-13T13:56:32.427Z"
   },
   {
    "duration": 21,
    "start_time": "2022-04-13T13:56:32.457Z"
   },
   {
    "duration": 26,
    "start_time": "2022-04-13T13:56:32.479Z"
   },
   {
    "duration": 28,
    "start_time": "2022-04-13T13:56:32.506Z"
   },
   {
    "duration": 27,
    "start_time": "2022-04-13T13:56:32.536Z"
   },
   {
    "duration": 44,
    "start_time": "2022-04-13T13:56:32.565Z"
   },
   {
    "duration": 39,
    "start_time": "2022-04-13T13:56:32.612Z"
   },
   {
    "duration": 11,
    "start_time": "2022-04-13T13:56:32.653Z"
   },
   {
    "duration": 20,
    "start_time": "2022-04-13T13:56:32.666Z"
   },
   {
    "duration": 123,
    "start_time": "2022-04-13T13:56:32.688Z"
   },
   {
    "duration": 58,
    "start_time": "2022-04-13T13:56:32.813Z"
   },
   {
    "duration": 60,
    "start_time": "2022-04-13T13:56:32.874Z"
   },
   {
    "duration": 6,
    "start_time": "2022-04-13T13:56:32.936Z"
   },
   {
    "duration": 53,
    "start_time": "2022-04-13T13:56:32.944Z"
   },
   {
    "duration": 47,
    "start_time": "2022-04-13T13:56:32.999Z"
   },
   {
    "duration": 38,
    "start_time": "2022-04-13T13:56:33.048Z"
   },
   {
    "duration": 32499,
    "start_time": "2022-04-13T13:56:33.089Z"
   },
   {
    "duration": 8,
    "start_time": "2022-04-13T13:57:05.590Z"
   },
   {
    "duration": 277,
    "start_time": "2022-04-13T13:57:05.600Z"
   },
   {
    "duration": 159,
    "start_time": "2022-04-13T13:57:05.880Z"
   },
   {
    "duration": 266,
    "start_time": "2022-04-13T13:57:06.041Z"
   },
   {
    "duration": 372,
    "start_time": "2022-04-13T13:57:06.309Z"
   },
   {
    "duration": 197,
    "start_time": "2022-04-13T13:57:06.683Z"
   },
   {
    "duration": 364,
    "start_time": "2022-04-13T13:57:06.882Z"
   },
   {
    "duration": 276,
    "start_time": "2022-04-13T13:57:07.248Z"
   },
   {
    "duration": 153,
    "start_time": "2022-04-13T13:57:07.527Z"
   },
   {
    "duration": 10,
    "start_time": "2022-04-13T13:57:07.682Z"
   },
   {
    "duration": 403,
    "start_time": "2022-04-13T13:57:07.694Z"
   },
   {
    "duration": 143,
    "start_time": "2022-04-13T13:57:08.099Z"
   },
   {
    "duration": 243,
    "start_time": "2022-04-13T13:57:08.245Z"
   },
   {
    "duration": 387,
    "start_time": "2022-04-13T13:57:08.490Z"
   },
   {
    "duration": 123,
    "start_time": "2022-04-13T13:57:08.879Z"
   },
   {
    "duration": 263,
    "start_time": "2022-04-13T13:57:09.004Z"
   },
   {
    "duration": 151,
    "start_time": "2022-04-13T13:57:09.269Z"
   },
   {
    "duration": 262,
    "start_time": "2022-04-13T13:57:09.423Z"
   },
   {
    "duration": 178,
    "start_time": "2022-04-13T13:57:09.687Z"
   },
   {
    "duration": 6,
    "start_time": "2022-04-13T13:57:09.867Z"
   },
   {
    "duration": 16,
    "start_time": "2022-04-13T13:57:09.875Z"
   },
   {
    "duration": 14,
    "start_time": "2022-04-13T13:57:09.893Z"
   },
   {
    "duration": 14,
    "start_time": "2022-04-13T13:57:09.909Z"
   },
   {
    "duration": 22,
    "start_time": "2022-04-13T13:57:09.926Z"
   },
   {
    "duration": 5,
    "start_time": "2022-04-13T13:57:09.955Z"
   },
   {
    "duration": 10,
    "start_time": "2022-04-13T13:57:09.962Z"
   },
   {
    "duration": 17,
    "start_time": "2022-04-13T13:57:09.974Z"
   },
   {
    "duration": 6,
    "start_time": "2022-04-13T13:57:09.993Z"
   },
   {
    "duration": 31,
    "start_time": "2022-04-13T13:57:10.001Z"
   },
   {
    "duration": 16,
    "start_time": "2022-04-13T13:57:10.035Z"
   },
   {
    "duration": 13,
    "start_time": "2022-04-13T13:57:10.053Z"
   },
   {
    "duration": 14,
    "start_time": "2022-04-13T13:57:10.067Z"
   },
   {
    "duration": 254,
    "start_time": "2022-04-13T13:58:44.900Z"
   },
   {
    "duration": 357,
    "start_time": "2022-04-13T13:59:11.901Z"
   },
   {
    "duration": 294,
    "start_time": "2022-04-13T13:59:30.232Z"
   },
   {
    "duration": 201,
    "start_time": "2022-04-13T14:00:39.037Z"
   },
   {
    "duration": 176,
    "start_time": "2022-04-13T14:00:44.717Z"
   },
   {
    "duration": 189,
    "start_time": "2022-04-13T14:00:48.403Z"
   },
   {
    "duration": 196,
    "start_time": "2022-04-13T14:00:51.996Z"
   },
   {
    "duration": 191,
    "start_time": "2022-04-13T14:00:57.032Z"
   },
   {
    "duration": 229,
    "start_time": "2022-04-13T14:01:10.436Z"
   },
   {
    "duration": 360,
    "start_time": "2022-04-13T14:01:16.536Z"
   },
   {
    "duration": 210,
    "start_time": "2022-04-13T14:01:27.692Z"
   },
   {
    "duration": 248,
    "start_time": "2022-04-13T14:01:36.595Z"
   },
   {
    "duration": 160,
    "start_time": "2022-04-13T14:02:44.036Z"
   },
   {
    "duration": 206,
    "start_time": "2022-04-13T14:03:40.364Z"
   },
   {
    "duration": 531,
    "start_time": "2022-04-13T14:04:32.868Z"
   },
   {
    "duration": 20,
    "start_time": "2022-04-13T14:04:33.401Z"
   },
   {
    "duration": 16,
    "start_time": "2022-04-13T14:04:33.422Z"
   },
   {
    "duration": 14,
    "start_time": "2022-04-13T14:04:33.441Z"
   },
   {
    "duration": 20,
    "start_time": "2022-04-13T14:04:33.457Z"
   },
   {
    "duration": 54,
    "start_time": "2022-04-13T14:04:33.479Z"
   },
   {
    "duration": 6,
    "start_time": "2022-04-13T14:04:33.535Z"
   },
   {
    "duration": 305,
    "start_time": "2022-04-13T14:04:33.543Z"
   },
   {
    "duration": 23,
    "start_time": "2022-04-13T14:04:33.850Z"
   },
   {
    "duration": 170,
    "start_time": "2022-04-13T14:04:33.877Z"
   },
   {
    "duration": 16,
    "start_time": "2022-04-13T14:04:34.049Z"
   },
   {
    "duration": 211,
    "start_time": "2022-04-13T14:04:34.067Z"
   },
   {
    "duration": 19,
    "start_time": "2022-04-13T14:04:34.280Z"
   },
   {
    "duration": 54,
    "start_time": "2022-04-13T14:04:34.301Z"
   },
   {
    "duration": 6,
    "start_time": "2022-04-13T14:04:34.357Z"
   },
   {
    "duration": 13,
    "start_time": "2022-04-13T14:04:34.365Z"
   },
   {
    "duration": 13,
    "start_time": "2022-04-13T14:04:34.379Z"
   },
   {
    "duration": 31,
    "start_time": "2022-04-13T14:04:34.394Z"
   },
   {
    "duration": 12,
    "start_time": "2022-04-13T14:04:34.427Z"
   },
   {
    "duration": 16,
    "start_time": "2022-04-13T14:04:34.441Z"
   },
   {
    "duration": 12,
    "start_time": "2022-04-13T14:04:34.459Z"
   },
   {
    "duration": 16,
    "start_time": "2022-04-13T14:04:34.474Z"
   },
   {
    "duration": 13,
    "start_time": "2022-04-13T14:04:34.492Z"
   },
   {
    "duration": 96,
    "start_time": "2022-04-13T14:04:34.506Z"
   },
   {
    "duration": 66,
    "start_time": "2022-04-13T14:04:34.604Z"
   },
   {
    "duration": 52,
    "start_time": "2022-04-13T14:04:34.672Z"
   },
   {
    "duration": 6,
    "start_time": "2022-04-13T14:04:34.726Z"
   },
   {
    "duration": 9,
    "start_time": "2022-04-13T14:04:34.738Z"
   },
   {
    "duration": 70,
    "start_time": "2022-04-13T14:04:34.749Z"
   },
   {
    "duration": 37,
    "start_time": "2022-04-13T14:04:34.822Z"
   },
   {
    "duration": 8,
    "start_time": "2022-04-13T14:04:34.861Z"
   },
   {
    "duration": 13,
    "start_time": "2022-04-13T14:04:34.871Z"
   },
   {
    "duration": 68,
    "start_time": "2022-04-13T14:04:34.886Z"
   },
   {
    "duration": 30,
    "start_time": "2022-04-13T14:04:34.956Z"
   },
   {
    "duration": 58,
    "start_time": "2022-04-13T14:04:34.988Z"
   },
   {
    "duration": 7,
    "start_time": "2022-04-13T14:04:35.048Z"
   },
   {
    "duration": 14,
    "start_time": "2022-04-13T14:04:35.057Z"
   },
   {
    "duration": 11,
    "start_time": "2022-04-13T14:04:35.073Z"
   },
   {
    "duration": 16,
    "start_time": "2022-04-13T14:04:35.086Z"
   },
   {
    "duration": 20,
    "start_time": "2022-04-13T14:04:35.104Z"
   },
   {
    "duration": 11,
    "start_time": "2022-04-13T14:04:35.127Z"
   },
   {
    "duration": 10,
    "start_time": "2022-04-13T14:04:35.140Z"
   },
   {
    "duration": 18,
    "start_time": "2022-04-13T14:04:35.152Z"
   },
   {
    "duration": 20,
    "start_time": "2022-04-13T14:04:35.172Z"
   },
   {
    "duration": 41,
    "start_time": "2022-04-13T14:04:35.194Z"
   },
   {
    "duration": 28,
    "start_time": "2022-04-13T14:04:35.237Z"
   },
   {
    "duration": 25,
    "start_time": "2022-04-13T14:04:35.268Z"
   },
   {
    "duration": 35,
    "start_time": "2022-04-13T14:04:35.295Z"
   },
   {
    "duration": 9,
    "start_time": "2022-04-13T14:04:35.333Z"
   },
   {
    "duration": 147,
    "start_time": "2022-04-13T14:04:35.345Z"
   },
   {
    "duration": 66,
    "start_time": "2022-04-13T14:04:35.494Z"
   },
   {
    "duration": 70,
    "start_time": "2022-04-13T14:04:35.562Z"
   },
   {
    "duration": 6,
    "start_time": "2022-04-13T14:04:35.633Z"
   },
   {
    "duration": 63,
    "start_time": "2022-04-13T14:04:35.641Z"
   },
   {
    "duration": 42,
    "start_time": "2022-04-13T14:04:35.705Z"
   },
   {
    "duration": 39,
    "start_time": "2022-04-13T14:04:35.749Z"
   },
   {
    "duration": 38356,
    "start_time": "2022-04-13T14:04:35.790Z"
   },
   {
    "duration": 10,
    "start_time": "2022-04-13T14:05:14.149Z"
   },
   {
    "duration": 277,
    "start_time": "2022-04-13T14:05:14.161Z"
   },
   {
    "duration": 129,
    "start_time": "2022-04-13T14:05:14.441Z"
   },
   {
    "duration": 369,
    "start_time": "2022-04-13T14:05:14.572Z"
   },
   {
    "duration": 269,
    "start_time": "2022-04-13T14:05:14.944Z"
   },
   {
    "duration": 142,
    "start_time": "2022-04-13T14:05:15.218Z"
   },
   {
    "duration": 247,
    "start_time": "2022-04-13T14:05:15.362Z"
   },
   {
    "duration": 161,
    "start_time": "2022-04-13T14:05:15.611Z"
   },
   {
    "duration": 10,
    "start_time": "2022-04-13T14:05:15.774Z"
   },
   {
    "duration": 603,
    "start_time": "2022-04-13T14:05:15.787Z"
   },
   {
    "duration": 346,
    "start_time": "2022-04-13T14:05:16.393Z"
   },
   {
    "duration": 381,
    "start_time": "2022-04-13T14:05:16.741Z"
   },
   {
    "duration": 260,
    "start_time": "2022-04-13T14:05:17.125Z"
   },
   {
    "duration": 132,
    "start_time": "2022-04-13T14:05:17.388Z"
   },
   {
    "duration": 224,
    "start_time": "2022-04-13T14:05:17.523Z"
   },
   {
    "duration": 225,
    "start_time": "2022-04-13T14:05:17.751Z"
   },
   {
    "duration": 683,
    "start_time": "2022-04-13T14:05:17.979Z"
   },
   {
    "duration": 312,
    "start_time": "2022-04-13T14:05:18.665Z"
   },
   {
    "duration": 7,
    "start_time": "2022-04-13T14:05:18.979Z"
   },
   {
    "duration": 32,
    "start_time": "2022-04-13T14:05:18.988Z"
   },
   {
    "duration": 6,
    "start_time": "2022-04-13T14:05:19.022Z"
   },
   {
    "duration": 11,
    "start_time": "2022-04-13T14:05:19.030Z"
   },
   {
    "duration": 14,
    "start_time": "2022-04-13T14:05:19.043Z"
   },
   {
    "duration": 16,
    "start_time": "2022-04-13T14:05:19.060Z"
   },
   {
    "duration": 7,
    "start_time": "2022-04-13T14:05:19.121Z"
   },
   {
    "duration": 19,
    "start_time": "2022-04-13T14:05:19.130Z"
   },
   {
    "duration": 20,
    "start_time": "2022-04-13T14:05:19.152Z"
   },
   {
    "duration": 11,
    "start_time": "2022-04-13T14:05:19.174Z"
   },
   {
    "duration": 34,
    "start_time": "2022-04-13T14:05:19.187Z"
   },
   {
    "duration": 24,
    "start_time": "2022-04-13T14:05:19.225Z"
   },
   {
    "duration": 19,
    "start_time": "2022-04-13T14:05:19.253Z"
   },
   {
    "duration": 211,
    "start_time": "2022-04-13T14:07:46.860Z"
   },
   {
    "duration": 206,
    "start_time": "2022-04-13T14:07:49.356Z"
   },
   {
    "duration": 206,
    "start_time": "2022-04-13T14:09:45.492Z"
   },
   {
    "duration": 199,
    "start_time": "2022-04-13T14:09:49.472Z"
   },
   {
    "duration": 197,
    "start_time": "2022-04-13T14:09:55.484Z"
   },
   {
    "duration": 189,
    "start_time": "2022-04-13T14:10:24.868Z"
   },
   {
    "duration": 554,
    "start_time": "2022-04-13T14:10:48.106Z"
   },
   {
    "duration": 9,
    "start_time": "2022-04-13T14:10:48.663Z"
   },
   {
    "duration": 24,
    "start_time": "2022-04-13T14:10:48.674Z"
   },
   {
    "duration": 20,
    "start_time": "2022-04-13T14:10:48.702Z"
   },
   {
    "duration": 20,
    "start_time": "2022-04-13T14:10:48.724Z"
   },
   {
    "duration": 142,
    "start_time": "2022-04-13T14:10:48.745Z"
   },
   {
    "duration": 6,
    "start_time": "2022-04-13T14:10:48.889Z"
   },
   {
    "duration": 294,
    "start_time": "2022-04-13T14:10:48.897Z"
   },
   {
    "duration": 27,
    "start_time": "2022-04-13T14:10:49.193Z"
   },
   {
    "duration": 157,
    "start_time": "2022-04-13T14:10:49.223Z"
   },
   {
    "duration": 16,
    "start_time": "2022-04-13T14:10:49.381Z"
   },
   {
    "duration": 203,
    "start_time": "2022-04-13T14:10:49.399Z"
   },
   {
    "duration": 27,
    "start_time": "2022-04-13T14:10:49.604Z"
   },
   {
    "duration": 36,
    "start_time": "2022-04-13T14:10:49.633Z"
   },
   {
    "duration": 6,
    "start_time": "2022-04-13T14:10:49.671Z"
   },
   {
    "duration": 10,
    "start_time": "2022-04-13T14:10:49.679Z"
   },
   {
    "duration": 30,
    "start_time": "2022-04-13T14:10:49.691Z"
   },
   {
    "duration": 15,
    "start_time": "2022-04-13T14:10:49.723Z"
   },
   {
    "duration": 11,
    "start_time": "2022-04-13T14:10:49.740Z"
   },
   {
    "duration": 11,
    "start_time": "2022-04-13T14:10:49.753Z"
   },
   {
    "duration": 11,
    "start_time": "2022-04-13T14:10:49.766Z"
   },
   {
    "duration": 15,
    "start_time": "2022-04-13T14:10:49.778Z"
   },
   {
    "duration": 24,
    "start_time": "2022-04-13T14:10:49.795Z"
   },
   {
    "duration": 80,
    "start_time": "2022-04-13T14:10:49.821Z"
   },
   {
    "duration": 63,
    "start_time": "2022-04-13T14:10:49.903Z"
   },
   {
    "duration": 29,
    "start_time": "2022-04-13T14:10:49.968Z"
   },
   {
    "duration": 6,
    "start_time": "2022-04-13T14:10:50.018Z"
   },
   {
    "duration": 10,
    "start_time": "2022-04-13T14:10:50.029Z"
   },
   {
    "duration": 47,
    "start_time": "2022-04-13T14:10:50.041Z"
   },
   {
    "duration": 50,
    "start_time": "2022-04-13T14:10:50.090Z"
   },
   {
    "duration": 6,
    "start_time": "2022-04-13T14:10:50.141Z"
   },
   {
    "duration": 13,
    "start_time": "2022-04-13T14:10:50.149Z"
   },
   {
    "duration": 56,
    "start_time": "2022-04-13T14:10:50.164Z"
   },
   {
    "duration": 28,
    "start_time": "2022-04-13T14:10:50.221Z"
   },
   {
    "duration": 42,
    "start_time": "2022-04-13T14:10:50.251Z"
   },
   {
    "duration": 28,
    "start_time": "2022-04-13T14:10:50.295Z"
   },
   {
    "duration": 12,
    "start_time": "2022-04-13T14:10:50.325Z"
   },
   {
    "duration": 13,
    "start_time": "2022-04-13T14:10:50.338Z"
   },
   {
    "duration": 13,
    "start_time": "2022-04-13T14:10:50.353Z"
   },
   {
    "duration": 12,
    "start_time": "2022-04-13T14:10:50.368Z"
   },
   {
    "duration": 10,
    "start_time": "2022-04-13T14:10:50.382Z"
   },
   {
    "duration": 11,
    "start_time": "2022-04-13T14:10:50.394Z"
   },
   {
    "duration": 14,
    "start_time": "2022-04-13T14:10:50.417Z"
   },
   {
    "duration": 22,
    "start_time": "2022-04-13T14:10:50.433Z"
   },
   {
    "duration": 28,
    "start_time": "2022-04-13T14:10:50.457Z"
   },
   {
    "duration": 32,
    "start_time": "2022-04-13T14:10:50.487Z"
   },
   {
    "duration": 17,
    "start_time": "2022-04-13T14:10:50.521Z"
   },
   {
    "duration": 10,
    "start_time": "2022-04-13T14:10:50.540Z"
   },
   {
    "duration": 13,
    "start_time": "2022-04-13T14:10:50.552Z"
   },
   {
    "duration": 123,
    "start_time": "2022-04-13T14:10:50.567Z"
   },
   {
    "duration": 59,
    "start_time": "2022-04-13T14:10:50.692Z"
   },
   {
    "duration": 42,
    "start_time": "2022-04-13T14:10:50.752Z"
   },
   {
    "duration": 5,
    "start_time": "2022-04-13T14:10:50.796Z"
   },
   {
    "duration": 48,
    "start_time": "2022-04-13T14:10:50.819Z"
   },
   {
    "duration": 50,
    "start_time": "2022-04-13T14:10:50.868Z"
   },
   {
    "duration": 38,
    "start_time": "2022-04-13T14:10:50.920Z"
   },
   {
    "duration": 31377,
    "start_time": "2022-04-13T14:10:50.960Z"
   },
   {
    "duration": 9,
    "start_time": "2022-04-13T14:11:22.338Z"
   },
   {
    "duration": 255,
    "start_time": "2022-04-13T14:11:22.349Z"
   },
   {
    "duration": 123,
    "start_time": "2022-04-13T14:11:22.605Z"
   },
   {
    "duration": 248,
    "start_time": "2022-04-13T14:11:22.730Z"
   },
   {
    "duration": 246,
    "start_time": "2022-04-13T14:11:22.980Z"
   },
   {
    "duration": 134,
    "start_time": "2022-04-13T14:11:23.228Z"
   },
   {
    "duration": 225,
    "start_time": "2022-04-13T14:11:23.364Z"
   },
   {
    "duration": 238,
    "start_time": "2022-04-13T14:11:23.591Z"
   },
   {
    "duration": 9,
    "start_time": "2022-04-13T14:11:23.831Z"
   },
   {
    "duration": 362,
    "start_time": "2022-04-13T14:11:23.842Z"
   },
   {
    "duration": 125,
    "start_time": "2022-04-13T14:11:24.206Z"
   },
   {
    "duration": 238,
    "start_time": "2022-04-13T14:11:24.332Z"
   },
   {
    "duration": 236,
    "start_time": "2022-04-13T14:11:24.572Z"
   },
   {
    "duration": 114,
    "start_time": "2022-04-13T14:11:24.810Z"
   },
   {
    "duration": 297,
    "start_time": "2022-04-13T14:11:24.926Z"
   },
   {
    "duration": 133,
    "start_time": "2022-04-13T14:11:25.224Z"
   },
   {
    "duration": 234,
    "start_time": "2022-04-13T14:11:25.359Z"
   },
   {
    "duration": 170,
    "start_time": "2022-04-13T14:11:25.594Z"
   },
   {
    "duration": 4,
    "start_time": "2022-04-13T14:11:25.766Z"
   },
   {
    "duration": 15,
    "start_time": "2022-04-13T14:11:25.772Z"
   },
   {
    "duration": 24,
    "start_time": "2022-04-13T14:11:25.788Z"
   },
   {
    "duration": 22,
    "start_time": "2022-04-13T14:11:25.814Z"
   },
   {
    "duration": 27,
    "start_time": "2022-04-13T14:11:25.838Z"
   },
   {
    "duration": 15,
    "start_time": "2022-04-13T14:11:25.867Z"
   },
   {
    "duration": 9,
    "start_time": "2022-04-13T14:11:25.888Z"
   },
   {
    "duration": 28,
    "start_time": "2022-04-13T14:11:25.899Z"
   },
   {
    "duration": 18,
    "start_time": "2022-04-13T14:11:25.929Z"
   },
   {
    "duration": 23,
    "start_time": "2022-04-13T14:11:25.949Z"
   },
   {
    "duration": 16,
    "start_time": "2022-04-13T14:11:25.974Z"
   },
   {
    "duration": 27,
    "start_time": "2022-04-13T14:11:25.992Z"
   },
   {
    "duration": 27,
    "start_time": "2022-04-13T14:11:26.020Z"
   },
   {
    "duration": 197,
    "start_time": "2022-04-13T14:12:53.611Z"
   },
   {
    "duration": 537,
    "start_time": "2022-04-13T14:12:59.614Z"
   },
   {
    "duration": 9,
    "start_time": "2022-04-13T14:13:00.154Z"
   },
   {
    "duration": 18,
    "start_time": "2022-04-13T14:13:00.165Z"
   },
   {
    "duration": 20,
    "start_time": "2022-04-13T14:13:00.185Z"
   },
   {
    "duration": 22,
    "start_time": "2022-04-13T14:13:00.207Z"
   },
   {
    "duration": 61,
    "start_time": "2022-04-13T14:13:00.231Z"
   },
   {
    "duration": 8,
    "start_time": "2022-04-13T14:13:00.294Z"
   },
   {
    "duration": 306,
    "start_time": "2022-04-13T14:13:00.304Z"
   },
   {
    "duration": 23,
    "start_time": "2022-04-13T14:13:00.617Z"
   },
   {
    "duration": 184,
    "start_time": "2022-04-13T14:13:00.642Z"
   },
   {
    "duration": 19,
    "start_time": "2022-04-13T14:13:00.828Z"
   },
   {
    "duration": 218,
    "start_time": "2022-04-13T14:13:00.849Z"
   },
   {
    "duration": 19,
    "start_time": "2022-04-13T14:13:01.069Z"
   },
   {
    "duration": 50,
    "start_time": "2022-04-13T14:13:01.092Z"
   },
   {
    "duration": 7,
    "start_time": "2022-04-13T14:13:01.143Z"
   },
   {
    "duration": 42,
    "start_time": "2022-04-13T14:13:01.152Z"
   },
   {
    "duration": 43,
    "start_time": "2022-04-13T14:13:01.196Z"
   },
   {
    "duration": 37,
    "start_time": "2022-04-13T14:13:01.241Z"
   },
   {
    "duration": 32,
    "start_time": "2022-04-13T14:13:01.279Z"
   },
   {
    "duration": 42,
    "start_time": "2022-04-13T14:13:01.313Z"
   },
   {
    "duration": 36,
    "start_time": "2022-04-13T14:13:01.357Z"
   },
   {
    "duration": 27,
    "start_time": "2022-04-13T14:13:01.395Z"
   },
   {
    "duration": 23,
    "start_time": "2022-04-13T14:13:01.424Z"
   },
   {
    "duration": 97,
    "start_time": "2022-04-13T14:13:01.449Z"
   },
   {
    "duration": 54,
    "start_time": "2022-04-13T14:13:01.548Z"
   },
   {
    "duration": 42,
    "start_time": "2022-04-13T14:13:01.604Z"
   },
   {
    "duration": 17,
    "start_time": "2022-04-13T14:13:01.648Z"
   },
   {
    "duration": 35,
    "start_time": "2022-04-13T14:13:01.667Z"
   },
   {
    "duration": 50,
    "start_time": "2022-04-13T14:13:01.705Z"
   },
   {
    "duration": 36,
    "start_time": "2022-04-13T14:13:01.757Z"
   },
   {
    "duration": 28,
    "start_time": "2022-04-13T14:13:01.795Z"
   },
   {
    "duration": 27,
    "start_time": "2022-04-13T14:13:01.825Z"
   },
   {
    "duration": 45,
    "start_time": "2022-04-13T14:13:01.854Z"
   },
   {
    "duration": 28,
    "start_time": "2022-04-13T14:13:01.901Z"
   },
   {
    "duration": 43,
    "start_time": "2022-04-13T14:13:01.932Z"
   },
   {
    "duration": 7,
    "start_time": "2022-04-13T14:13:01.977Z"
   },
   {
    "duration": 31,
    "start_time": "2022-04-13T14:13:01.986Z"
   },
   {
    "duration": 17,
    "start_time": "2022-04-13T14:13:02.019Z"
   },
   {
    "duration": 40,
    "start_time": "2022-04-13T14:13:02.039Z"
   },
   {
    "duration": 25,
    "start_time": "2022-04-13T14:13:02.081Z"
   },
   {
    "duration": 16,
    "start_time": "2022-04-13T14:13:02.111Z"
   },
   {
    "duration": 19,
    "start_time": "2022-04-13T14:13:02.129Z"
   },
   {
    "duration": 27,
    "start_time": "2022-04-13T14:13:02.150Z"
   },
   {
    "duration": 41,
    "start_time": "2022-04-13T14:13:02.180Z"
   },
   {
    "duration": 86,
    "start_time": "2022-04-13T14:13:02.223Z"
   },
   {
    "duration": 18,
    "start_time": "2022-04-13T14:13:02.311Z"
   },
   {
    "duration": 30,
    "start_time": "2022-04-13T14:13:02.332Z"
   },
   {
    "duration": 15,
    "start_time": "2022-04-13T14:13:02.364Z"
   },
   {
    "duration": 17,
    "start_time": "2022-04-13T14:13:02.381Z"
   },
   {
    "duration": 149,
    "start_time": "2022-04-13T14:13:02.419Z"
   },
   {
    "duration": 81,
    "start_time": "2022-04-13T14:13:02.570Z"
   },
   {
    "duration": 72,
    "start_time": "2022-04-13T14:13:02.653Z"
   },
   {
    "duration": 8,
    "start_time": "2022-04-13T14:13:02.727Z"
   },
   {
    "duration": 55,
    "start_time": "2022-04-13T14:13:02.737Z"
   },
   {
    "duration": 52,
    "start_time": "2022-04-13T14:13:02.794Z"
   },
   {
    "duration": 37,
    "start_time": "2022-04-13T14:13:02.848Z"
   },
   {
    "duration": 32608,
    "start_time": "2022-04-13T14:13:02.888Z"
   },
   {
    "duration": 8,
    "start_time": "2022-04-13T14:13:35.498Z"
   },
   {
    "duration": 251,
    "start_time": "2022-04-13T14:13:35.519Z"
   },
   {
    "duration": 124,
    "start_time": "2022-04-13T14:13:35.772Z"
   },
   {
    "duration": 344,
    "start_time": "2022-04-13T14:13:35.898Z"
   },
   {
    "duration": 251,
    "start_time": "2022-04-13T14:13:36.244Z"
   },
   {
    "duration": 140,
    "start_time": "2022-04-13T14:13:36.497Z"
   },
   {
    "duration": 234,
    "start_time": "2022-04-13T14:13:36.639Z"
   },
   {
    "duration": 146,
    "start_time": "2022-04-13T14:13:36.876Z"
   },
   {
    "duration": 9,
    "start_time": "2022-04-13T14:13:37.024Z"
   },
   {
    "duration": 363,
    "start_time": "2022-04-13T14:13:37.035Z"
   },
   {
    "duration": 230,
    "start_time": "2022-04-13T14:13:37.400Z"
   },
   {
    "duration": 239,
    "start_time": "2022-04-13T14:13:37.632Z"
   },
   {
    "duration": 240,
    "start_time": "2022-04-13T14:13:37.873Z"
   },
   {
    "duration": 119,
    "start_time": "2022-04-13T14:13:38.115Z"
   },
   {
    "duration": 203,
    "start_time": "2022-04-13T14:13:38.236Z"
   },
   {
    "duration": 140,
    "start_time": "2022-04-13T14:13:38.441Z"
   },
   {
    "duration": 239,
    "start_time": "2022-04-13T14:13:38.582Z"
   },
   {
    "duration": 269,
    "start_time": "2022-04-13T14:13:38.823Z"
   },
   {
    "duration": 6,
    "start_time": "2022-04-13T14:13:39.094Z"
   },
   {
    "duration": 26,
    "start_time": "2022-04-13T14:13:39.102Z"
   },
   {
    "duration": 27,
    "start_time": "2022-04-13T14:13:39.129Z"
   },
   {
    "duration": 19,
    "start_time": "2022-04-13T14:13:39.158Z"
   },
   {
    "duration": 28,
    "start_time": "2022-04-13T14:13:39.179Z"
   },
   {
    "duration": 19,
    "start_time": "2022-04-13T14:13:39.209Z"
   },
   {
    "duration": 33,
    "start_time": "2022-04-13T14:13:39.230Z"
   },
   {
    "duration": 37,
    "start_time": "2022-04-13T14:13:39.264Z"
   },
   {
    "duration": 21,
    "start_time": "2022-04-13T14:13:39.303Z"
   },
   {
    "duration": 29,
    "start_time": "2022-04-13T14:13:39.326Z"
   },
   {
    "duration": 31,
    "start_time": "2022-04-13T14:13:39.357Z"
   },
   {
    "duration": 14,
    "start_time": "2022-04-13T14:13:39.391Z"
   },
   {
    "duration": 28,
    "start_time": "2022-04-13T14:13:39.407Z"
   },
   {
    "duration": 214,
    "start_time": "2022-04-13T14:14:30.983Z"
   },
   {
    "duration": 504,
    "start_time": "2022-04-13T14:15:11.878Z"
   },
   {
    "duration": 9,
    "start_time": "2022-04-13T14:15:12.384Z"
   },
   {
    "duration": 23,
    "start_time": "2022-04-13T14:15:12.395Z"
   },
   {
    "duration": 10,
    "start_time": "2022-04-13T14:15:12.420Z"
   },
   {
    "duration": 16,
    "start_time": "2022-04-13T14:15:12.432Z"
   },
   {
    "duration": 40,
    "start_time": "2022-04-13T14:15:12.450Z"
   },
   {
    "duration": 7,
    "start_time": "2022-04-13T14:15:12.492Z"
   },
   {
    "duration": 327,
    "start_time": "2022-04-13T14:15:12.501Z"
   },
   {
    "duration": 24,
    "start_time": "2022-04-13T14:15:12.830Z"
   },
   {
    "duration": 165,
    "start_time": "2022-04-13T14:15:12.857Z"
   },
   {
    "duration": 16,
    "start_time": "2022-04-13T14:15:13.024Z"
   },
   {
    "duration": 205,
    "start_time": "2022-04-13T14:15:13.042Z"
   },
   {
    "duration": 19,
    "start_time": "2022-04-13T14:15:13.249Z"
   },
   {
    "duration": 53,
    "start_time": "2022-04-13T14:15:13.270Z"
   },
   {
    "duration": 7,
    "start_time": "2022-04-13T14:15:13.325Z"
   },
   {
    "duration": 14,
    "start_time": "2022-04-13T14:15:13.334Z"
   },
   {
    "duration": 27,
    "start_time": "2022-04-13T14:15:13.350Z"
   },
   {
    "duration": 37,
    "start_time": "2022-04-13T14:15:13.379Z"
   },
   {
    "duration": 22,
    "start_time": "2022-04-13T14:15:13.418Z"
   },
   {
    "duration": 21,
    "start_time": "2022-04-13T14:15:13.442Z"
   },
   {
    "duration": 26,
    "start_time": "2022-04-13T14:15:13.464Z"
   },
   {
    "duration": 24,
    "start_time": "2022-04-13T14:15:13.492Z"
   },
   {
    "duration": 17,
    "start_time": "2022-04-13T14:15:13.518Z"
   },
   {
    "duration": 102,
    "start_time": "2022-04-13T14:15:13.537Z"
   },
   {
    "duration": 51,
    "start_time": "2022-04-13T14:15:13.641Z"
   },
   {
    "duration": 49,
    "start_time": "2022-04-13T14:15:13.694Z"
   },
   {
    "duration": 4,
    "start_time": "2022-04-13T14:15:13.745Z"
   },
   {
    "duration": 25,
    "start_time": "2022-04-13T14:15:13.754Z"
   },
   {
    "duration": 46,
    "start_time": "2022-04-13T14:15:13.781Z"
   },
   {
    "duration": 34,
    "start_time": "2022-04-13T14:15:13.829Z"
   },
   {
    "duration": 6,
    "start_time": "2022-04-13T14:15:13.865Z"
   },
   {
    "duration": 24,
    "start_time": "2022-04-13T14:15:13.873Z"
   },
   {
    "duration": 51,
    "start_time": "2022-04-13T14:15:13.899Z"
   },
   {
    "duration": 30,
    "start_time": "2022-04-13T14:15:13.952Z"
   },
   {
    "duration": 59,
    "start_time": "2022-04-13T14:15:13.984Z"
   },
   {
    "duration": 6,
    "start_time": "2022-04-13T14:15:14.045Z"
   },
   {
    "duration": 38,
    "start_time": "2022-04-13T14:15:14.053Z"
   },
   {
    "duration": 22,
    "start_time": "2022-04-13T14:15:14.093Z"
   },
   {
    "duration": 31,
    "start_time": "2022-04-13T14:15:14.117Z"
   },
   {
    "duration": 45,
    "start_time": "2022-04-13T14:15:14.150Z"
   },
   {
    "duration": 23,
    "start_time": "2022-04-13T14:15:14.197Z"
   },
   {
    "duration": 29,
    "start_time": "2022-04-13T14:15:14.222Z"
   },
   {
    "duration": 29,
    "start_time": "2022-04-13T14:15:14.253Z"
   },
   {
    "duration": 27,
    "start_time": "2022-04-13T14:15:14.284Z"
   },
   {
    "duration": 38,
    "start_time": "2022-04-13T14:15:14.313Z"
   },
   {
    "duration": 19,
    "start_time": "2022-04-13T14:15:14.353Z"
   },
   {
    "duration": 42,
    "start_time": "2022-04-13T14:15:14.374Z"
   },
   {
    "duration": 26,
    "start_time": "2022-04-13T14:15:14.417Z"
   },
   {
    "duration": 21,
    "start_time": "2022-04-13T14:15:14.444Z"
   },
   {
    "duration": 117,
    "start_time": "2022-04-13T14:15:14.467Z"
   },
   {
    "duration": 47,
    "start_time": "2022-04-13T14:15:14.586Z"
   },
   {
    "duration": 41,
    "start_time": "2022-04-13T14:15:14.635Z"
   },
   {
    "duration": 5,
    "start_time": "2022-04-13T14:15:14.678Z"
   },
   {
    "duration": 70,
    "start_time": "2022-04-13T14:15:14.685Z"
   },
   {
    "duration": 31,
    "start_time": "2022-04-13T14:15:14.757Z"
   },
   {
    "duration": 58,
    "start_time": "2022-04-13T14:15:14.789Z"
   },
   {
    "duration": 32678,
    "start_time": "2022-04-13T14:15:14.849Z"
   },
   {
    "duration": 9,
    "start_time": "2022-04-13T14:15:47.529Z"
   },
   {
    "duration": 266,
    "start_time": "2022-04-13T14:15:47.540Z"
   },
   {
    "duration": 124,
    "start_time": "2022-04-13T14:15:47.809Z"
   },
   {
    "duration": 263,
    "start_time": "2022-04-13T14:15:47.935Z"
   },
   {
    "duration": 256,
    "start_time": "2022-04-13T14:15:48.200Z"
   },
   {
    "duration": 231,
    "start_time": "2022-04-13T14:15:48.458Z"
   },
   {
    "duration": 236,
    "start_time": "2022-04-13T14:15:48.691Z"
   },
   {
    "duration": 144,
    "start_time": "2022-04-13T14:15:48.929Z"
   },
   {
    "duration": 9,
    "start_time": "2022-04-13T14:15:49.075Z"
   },
   {
    "duration": 385,
    "start_time": "2022-04-13T14:15:49.085Z"
   },
   {
    "duration": 126,
    "start_time": "2022-04-13T14:15:49.472Z"
   },
   {
    "duration": 236,
    "start_time": "2022-04-13T14:15:49.600Z"
   },
   {
    "duration": 335,
    "start_time": "2022-04-13T14:15:49.838Z"
   },
   {
    "duration": 113,
    "start_time": "2022-04-13T14:15:50.175Z"
   },
   {
    "duration": 211,
    "start_time": "2022-04-13T14:15:50.290Z"
   },
   {
    "duration": 137,
    "start_time": "2022-04-13T14:15:50.503Z"
   },
   {
    "duration": 242,
    "start_time": "2022-04-13T14:15:50.642Z"
   },
   {
    "duration": 170,
    "start_time": "2022-04-13T14:15:50.886Z"
   },
   {
    "duration": 5,
    "start_time": "2022-04-13T14:15:51.058Z"
   },
   {
    "duration": 15,
    "start_time": "2022-04-13T14:15:51.064Z"
   },
   {
    "duration": 16,
    "start_time": "2022-04-13T14:15:51.081Z"
   },
   {
    "duration": 29,
    "start_time": "2022-04-13T14:15:51.099Z"
   },
   {
    "duration": 12,
    "start_time": "2022-04-13T14:15:51.130Z"
   },
   {
    "duration": 20,
    "start_time": "2022-04-13T14:15:51.144Z"
   },
   {
    "duration": 7,
    "start_time": "2022-04-13T14:15:51.170Z"
   },
   {
    "duration": 19,
    "start_time": "2022-04-13T14:15:51.178Z"
   },
   {
    "duration": 7,
    "start_time": "2022-04-13T14:15:51.199Z"
   },
   {
    "duration": 11,
    "start_time": "2022-04-13T14:15:51.208Z"
   },
   {
    "duration": 13,
    "start_time": "2022-04-13T14:15:51.221Z"
   },
   {
    "duration": 13,
    "start_time": "2022-04-13T14:15:51.236Z"
   },
   {
    "duration": 13,
    "start_time": "2022-04-13T14:15:51.251Z"
   },
   {
    "duration": 6,
    "start_time": "2022-04-13T14:17:32.002Z"
   },
   {
    "duration": 6,
    "start_time": "2022-04-13T14:17:47.644Z"
   },
   {
    "duration": 5,
    "start_time": "2022-04-13T14:18:27.152Z"
   },
   {
    "duration": 6,
    "start_time": "2022-04-13T14:18:38.180Z"
   },
   {
    "duration": 6,
    "start_time": "2022-04-13T14:19:43.997Z"
   },
   {
    "duration": 4,
    "start_time": "2022-04-13T14:20:37.531Z"
   },
   {
    "duration": 136,
    "start_time": "2022-04-13T14:20:52.493Z"
   },
   {
    "duration": 4,
    "start_time": "2022-04-13T14:21:06.163Z"
   },
   {
    "duration": 126,
    "start_time": "2022-04-13T14:21:21.923Z"
   },
   {
    "duration": 503,
    "start_time": "2022-04-13T15:48:30.390Z"
   },
   {
    "duration": 8,
    "start_time": "2022-04-13T15:48:30.895Z"
   },
   {
    "duration": 32,
    "start_time": "2022-04-13T15:48:30.905Z"
   },
   {
    "duration": 25,
    "start_time": "2022-04-13T15:48:30.939Z"
   },
   {
    "duration": 28,
    "start_time": "2022-04-13T15:48:30.966Z"
   },
   {
    "duration": 46,
    "start_time": "2022-04-13T15:48:30.996Z"
   },
   {
    "duration": 8,
    "start_time": "2022-04-13T15:48:31.044Z"
   },
   {
    "duration": 319,
    "start_time": "2022-04-13T15:48:31.054Z"
   },
   {
    "duration": 22,
    "start_time": "2022-04-13T15:48:31.375Z"
   },
   {
    "duration": 161,
    "start_time": "2022-04-13T15:48:31.399Z"
   },
   {
    "duration": 16,
    "start_time": "2022-04-13T15:48:31.562Z"
   },
   {
    "duration": 209,
    "start_time": "2022-04-13T15:48:31.579Z"
   },
   {
    "duration": 19,
    "start_time": "2022-04-13T15:48:31.790Z"
   },
   {
    "duration": 42,
    "start_time": "2022-04-13T15:48:31.819Z"
   },
   {
    "duration": 7,
    "start_time": "2022-04-13T15:48:31.862Z"
   },
   {
    "duration": 33,
    "start_time": "2022-04-13T15:48:31.871Z"
   },
   {
    "duration": 28,
    "start_time": "2022-04-13T15:48:31.906Z"
   },
   {
    "duration": 37,
    "start_time": "2022-04-13T15:48:31.936Z"
   },
   {
    "duration": 35,
    "start_time": "2022-04-13T15:48:31.975Z"
   },
   {
    "duration": 32,
    "start_time": "2022-04-13T15:48:32.012Z"
   },
   {
    "duration": 22,
    "start_time": "2022-04-13T15:48:32.046Z"
   },
   {
    "duration": 31,
    "start_time": "2022-04-13T15:48:32.070Z"
   },
   {
    "duration": 23,
    "start_time": "2022-04-13T15:48:32.103Z"
   },
   {
    "duration": 114,
    "start_time": "2022-04-13T15:48:32.128Z"
   },
   {
    "duration": 55,
    "start_time": "2022-04-13T15:48:32.244Z"
   },
   {
    "duration": 31,
    "start_time": "2022-04-13T15:48:32.318Z"
   },
   {
    "duration": 4,
    "start_time": "2022-04-13T15:48:32.351Z"
   },
   {
    "duration": 13,
    "start_time": "2022-04-13T15:48:32.360Z"
   },
   {
    "duration": 63,
    "start_time": "2022-04-13T15:48:32.375Z"
   },
   {
    "duration": 35,
    "start_time": "2022-04-13T15:48:32.440Z"
   },
   {
    "duration": 7,
    "start_time": "2022-04-13T15:48:32.476Z"
   },
   {
    "duration": 10,
    "start_time": "2022-04-13T15:48:32.484Z"
   },
   {
    "duration": 37,
    "start_time": "2022-04-13T15:48:32.519Z"
   },
   {
    "duration": 30,
    "start_time": "2022-04-13T15:48:32.558Z"
   },
   {
    "duration": 57,
    "start_time": "2022-04-13T15:48:32.590Z"
   },
   {
    "duration": 6,
    "start_time": "2022-04-13T15:48:32.649Z"
   },
   {
    "duration": 13,
    "start_time": "2022-04-13T15:48:32.656Z"
   },
   {
    "duration": 14,
    "start_time": "2022-04-13T15:48:32.671Z"
   },
   {
    "duration": 11,
    "start_time": "2022-04-13T15:48:32.687Z"
   },
   {
    "duration": 19,
    "start_time": "2022-04-13T15:48:32.700Z"
   },
   {
    "duration": 10,
    "start_time": "2022-04-13T15:48:32.722Z"
   },
   {
    "duration": 15,
    "start_time": "2022-04-13T15:48:32.734Z"
   },
   {
    "duration": 24,
    "start_time": "2022-04-13T15:48:32.751Z"
   },
   {
    "duration": 23,
    "start_time": "2022-04-13T15:48:32.777Z"
   },
   {
    "duration": 41,
    "start_time": "2022-04-13T15:48:32.802Z"
   },
   {
    "duration": 35,
    "start_time": "2022-04-13T15:48:32.845Z"
   },
   {
    "duration": 35,
    "start_time": "2022-04-13T15:48:32.882Z"
   },
   {
    "duration": 22,
    "start_time": "2022-04-13T15:48:32.919Z"
   },
   {
    "duration": 12,
    "start_time": "2022-04-13T15:48:32.942Z"
   },
   {
    "duration": 113,
    "start_time": "2022-04-13T15:48:32.956Z"
   },
   {
    "duration": 51,
    "start_time": "2022-04-13T15:48:33.071Z"
   },
   {
    "duration": 42,
    "start_time": "2022-04-13T15:48:33.124Z"
   },
   {
    "duration": 6,
    "start_time": "2022-04-13T15:48:33.168Z"
   },
   {
    "duration": 69,
    "start_time": "2022-04-13T15:48:33.175Z"
   },
   {
    "duration": 32,
    "start_time": "2022-04-13T15:48:33.245Z"
   },
   {
    "duration": 58,
    "start_time": "2022-04-13T15:48:33.279Z"
   },
   {
    "duration": 30820,
    "start_time": "2022-04-13T15:48:33.339Z"
   },
   {
    "duration": 10,
    "start_time": "2022-04-13T15:49:04.162Z"
   },
   {
    "duration": 365,
    "start_time": "2022-04-13T15:49:04.174Z"
   },
   {
    "duration": 134,
    "start_time": "2022-04-13T15:49:04.542Z"
   },
   {
    "duration": 260,
    "start_time": "2022-04-13T15:49:04.679Z"
   },
   {
    "duration": 257,
    "start_time": "2022-04-13T15:49:04.941Z"
   },
   {
    "duration": 138,
    "start_time": "2022-04-13T15:49:05.200Z"
   },
   {
    "duration": 224,
    "start_time": "2022-04-13T15:49:05.340Z"
   },
   {
    "duration": 142,
    "start_time": "2022-04-13T15:49:05.566Z"
   },
   {
    "duration": 11,
    "start_time": "2022-04-13T15:49:05.710Z"
   },
   {
    "duration": 474,
    "start_time": "2022-04-13T15:49:05.723Z"
   },
   {
    "duration": 131,
    "start_time": "2022-04-13T15:49:06.199Z"
   },
   {
    "duration": 246,
    "start_time": "2022-04-13T15:49:06.332Z"
   },
   {
    "duration": 238,
    "start_time": "2022-04-13T15:49:06.580Z"
   },
   {
    "duration": 122,
    "start_time": "2022-04-13T15:49:06.819Z"
   },
   {
    "duration": 300,
    "start_time": "2022-04-13T15:49:06.943Z"
   },
   {
    "duration": 243,
    "start_time": "2022-04-13T15:49:07.245Z"
   },
   {
    "duration": 240,
    "start_time": "2022-04-13T15:49:07.490Z"
   },
   {
    "duration": 165,
    "start_time": "2022-04-13T15:49:07.731Z"
   },
   {
    "duration": 4,
    "start_time": "2022-04-13T15:49:07.898Z"
   },
   {
    "duration": 18,
    "start_time": "2022-04-13T15:49:07.904Z"
   },
   {
    "duration": 11,
    "start_time": "2022-04-13T15:49:07.924Z"
   },
   {
    "duration": 12,
    "start_time": "2022-04-13T15:49:07.937Z"
   },
   {
    "duration": 13,
    "start_time": "2022-04-13T15:49:07.951Z"
   },
   {
    "duration": 16,
    "start_time": "2022-04-13T15:49:07.965Z"
   },
   {
    "duration": 6,
    "start_time": "2022-04-13T15:49:07.988Z"
   },
   {
    "duration": 24,
    "start_time": "2022-04-13T15:49:07.996Z"
   },
   {
    "duration": 7,
    "start_time": "2022-04-13T15:49:08.022Z"
   },
   {
    "duration": 29,
    "start_time": "2022-04-13T15:49:08.031Z"
   },
   {
    "duration": 42,
    "start_time": "2022-04-13T15:49:08.061Z"
   },
   {
    "duration": 36,
    "start_time": "2022-04-13T15:49:08.104Z"
   },
   {
    "duration": 12,
    "start_time": "2022-04-13T15:49:08.142Z"
   },
   {
    "duration": 5,
    "start_time": "2022-04-13T15:50:32.526Z"
   },
   {
    "duration": 365,
    "start_time": "2022-04-13T15:50:37.432Z"
   },
   {
    "duration": 373,
    "start_time": "2022-04-13T15:50:48.625Z"
   },
   {
    "duration": 538,
    "start_time": "2022-04-13T15:51:22.941Z"
   },
   {
    "duration": 346,
    "start_time": "2022-04-13T15:52:02.359Z"
   },
   {
    "duration": 360,
    "start_time": "2022-04-13T15:52:25.566Z"
   },
   {
    "duration": 7,
    "start_time": "2022-04-13T15:53:33.142Z"
   },
   {
    "duration": 6,
    "start_time": "2022-04-13T15:53:51.550Z"
   },
   {
    "duration": 6,
    "start_time": "2022-04-13T15:54:08.952Z"
   },
   {
    "duration": 7,
    "start_time": "2022-04-13T15:54:45.684Z"
   },
   {
    "duration": 125,
    "start_time": "2022-04-13T15:56:46.070Z"
   },
   {
    "duration": 440,
    "start_time": "2022-04-13T15:59:01.088Z"
   },
   {
    "duration": 560,
    "start_time": "2022-04-13T15:59:18.991Z"
   },
   {
    "duration": 522,
    "start_time": "2022-04-13T15:59:31.417Z"
   },
   {
    "duration": 380,
    "start_time": "2022-04-13T15:59:43.975Z"
   },
   {
    "duration": 609,
    "start_time": "2022-04-13T16:00:19.160Z"
   },
   {
    "duration": 401,
    "start_time": "2022-04-13T16:00:32.190Z"
   },
   {
    "duration": 461,
    "start_time": "2022-04-13T16:00:41.126Z"
   },
   {
    "duration": 313,
    "start_time": "2022-04-13T16:00:57.094Z"
   },
   {
    "duration": 1964,
    "start_time": "2022-08-28T10:06:56.818Z"
   },
   {
    "duration": 9,
    "start_time": "2022-08-28T10:06:58.784Z"
   },
   {
    "duration": 14,
    "start_time": "2022-08-28T10:06:58.795Z"
   },
   {
    "duration": 11,
    "start_time": "2022-08-28T10:06:58.812Z"
   },
   {
    "duration": 10,
    "start_time": "2022-08-28T10:06:58.825Z"
   },
   {
    "duration": 32,
    "start_time": "2022-08-28T10:06:58.836Z"
   },
   {
    "duration": 6,
    "start_time": "2022-08-28T10:06:58.869Z"
   },
   {
    "duration": 215,
    "start_time": "2022-08-28T10:06:58.876Z"
   },
   {
    "duration": 21,
    "start_time": "2022-08-28T10:06:59.092Z"
   },
   {
    "duration": 106,
    "start_time": "2022-08-28T10:06:59.115Z"
   },
   {
    "duration": 12,
    "start_time": "2022-08-28T10:06:59.222Z"
   },
   {
    "duration": 148,
    "start_time": "2022-08-28T10:06:59.235Z"
   },
   {
    "duration": 19,
    "start_time": "2022-08-28T10:06:59.385Z"
   },
   {
    "duration": 30,
    "start_time": "2022-08-28T10:06:59.406Z"
   },
   {
    "duration": 5,
    "start_time": "2022-08-28T10:06:59.438Z"
   },
   {
    "duration": 5,
    "start_time": "2022-08-28T10:06:59.444Z"
   },
   {
    "duration": 9,
    "start_time": "2022-08-28T10:06:59.451Z"
   },
   {
    "duration": 42,
    "start_time": "2022-08-28T10:06:59.461Z"
   },
   {
    "duration": 4,
    "start_time": "2022-08-28T10:06:59.505Z"
   },
   {
    "duration": 17,
    "start_time": "2022-08-28T10:06:59.510Z"
   },
   {
    "duration": 7,
    "start_time": "2022-08-28T10:06:59.528Z"
   },
   {
    "duration": 10,
    "start_time": "2022-08-28T10:06:59.536Z"
   },
   {
    "duration": 5,
    "start_time": "2022-08-28T10:06:59.548Z"
   },
   {
    "duration": 108,
    "start_time": "2022-08-28T10:06:59.555Z"
   },
   {
    "duration": 78,
    "start_time": "2022-08-28T10:06:59.665Z"
   },
   {
    "duration": 34,
    "start_time": "2022-08-28T10:06:59.745Z"
   },
   {
    "duration": 4,
    "start_time": "2022-08-28T10:06:59.798Z"
   },
   {
    "duration": 6,
    "start_time": "2022-08-28T10:06:59.808Z"
   },
   {
    "duration": 31,
    "start_time": "2022-08-28T10:06:59.816Z"
   },
   {
    "duration": 51,
    "start_time": "2022-08-28T10:06:59.849Z"
   },
   {
    "duration": 5,
    "start_time": "2022-08-28T10:06:59.902Z"
   },
   {
    "duration": 8,
    "start_time": "2022-08-28T10:06:59.908Z"
   },
   {
    "duration": 33,
    "start_time": "2022-08-28T10:06:59.917Z"
   },
   {
    "duration": 54,
    "start_time": "2022-08-28T10:06:59.952Z"
   },
   {
    "duration": 35,
    "start_time": "2022-08-28T10:07:00.007Z"
   },
   {
    "duration": 7,
    "start_time": "2022-08-28T10:07:00.044Z"
   },
   {
    "duration": 15,
    "start_time": "2022-08-28T10:07:00.053Z"
   },
   {
    "duration": 7,
    "start_time": "2022-08-28T10:07:00.070Z"
   },
   {
    "duration": 23,
    "start_time": "2022-08-28T10:07:00.079Z"
   },
   {
    "duration": 11,
    "start_time": "2022-08-28T10:07:00.103Z"
   },
   {
    "duration": 13,
    "start_time": "2022-08-28T10:07:00.115Z"
   },
   {
    "duration": 13,
    "start_time": "2022-08-28T10:07:00.129Z"
   },
   {
    "duration": 17,
    "start_time": "2022-08-28T10:07:00.143Z"
   },
   {
    "duration": 22,
    "start_time": "2022-08-28T10:07:00.161Z"
   },
   {
    "duration": 23,
    "start_time": "2022-08-28T10:07:00.184Z"
   },
   {
    "duration": 19,
    "start_time": "2022-08-28T10:07:00.208Z"
   },
   {
    "duration": 17,
    "start_time": "2022-08-28T10:07:00.228Z"
   },
   {
    "duration": 14,
    "start_time": "2022-08-28T10:07:00.247Z"
   },
   {
    "duration": 13,
    "start_time": "2022-08-28T10:07:00.262Z"
   },
   {
    "duration": 89,
    "start_time": "2022-08-28T10:07:00.276Z"
   },
   {
    "duration": 39,
    "start_time": "2022-08-28T10:07:00.367Z"
   },
   {
    "duration": 32,
    "start_time": "2022-08-28T10:07:00.408Z"
   },
   {
    "duration": 6,
    "start_time": "2022-08-28T10:07:00.441Z"
   },
   {
    "duration": 68,
    "start_time": "2022-08-28T10:07:00.449Z"
   },
   {
    "duration": 24,
    "start_time": "2022-08-28T10:07:00.518Z"
   },
   {
    "duration": 28,
    "start_time": "2022-08-28T10:07:00.544Z"
   },
   {
    "duration": 26620,
    "start_time": "2022-08-28T10:07:00.574Z"
   },
   {
    "duration": 7,
    "start_time": "2022-08-28T10:07:27.196Z"
   },
   {
    "duration": 239,
    "start_time": "2022-08-28T10:07:27.205Z"
   },
   {
    "duration": 108,
    "start_time": "2022-08-28T10:07:27.446Z"
   },
   {
    "duration": 226,
    "start_time": "2022-08-28T10:07:27.555Z"
   },
   {
    "duration": 236,
    "start_time": "2022-08-28T10:07:27.783Z"
   },
   {
    "duration": 121,
    "start_time": "2022-08-28T10:07:28.020Z"
   },
   {
    "duration": 249,
    "start_time": "2022-08-28T10:07:28.143Z"
   },
   {
    "duration": 114,
    "start_time": "2022-08-28T10:07:28.398Z"
   },
   {
    "duration": 6,
    "start_time": "2022-08-28T10:07:28.514Z"
   },
   {
    "duration": 388,
    "start_time": "2022-08-28T10:07:28.521Z"
   },
   {
    "duration": 114,
    "start_time": "2022-08-28T10:07:28.911Z"
   },
   {
    "duration": 215,
    "start_time": "2022-08-28T10:07:29.026Z"
   },
   {
    "duration": 208,
    "start_time": "2022-08-28T10:07:29.242Z"
   },
   {
    "duration": 165,
    "start_time": "2022-08-28T10:07:29.451Z"
   },
   {
    "duration": 323,
    "start_time": "2022-08-28T10:07:29.617Z"
   },
   {
    "duration": 122,
    "start_time": "2022-08-28T10:07:29.941Z"
   },
   {
    "duration": 269,
    "start_time": "2022-08-28T10:07:30.064Z"
   },
   {
    "duration": 4,
    "start_time": "2022-08-28T10:07:30.334Z"
   },
   {
    "duration": 14,
    "start_time": "2022-08-28T10:07:30.339Z"
   },
   {
    "duration": 20,
    "start_time": "2022-08-28T10:07:30.355Z"
   },
   {
    "duration": 25,
    "start_time": "2022-08-28T10:07:30.376Z"
   },
   {
    "duration": 53,
    "start_time": "2022-08-28T10:07:30.402Z"
   },
   {
    "duration": 54,
    "start_time": "2022-08-28T10:07:30.456Z"
   },
   {
    "duration": 25,
    "start_time": "2022-08-28T10:07:30.511Z"
   },
   {
    "duration": 54,
    "start_time": "2022-08-28T10:07:30.541Z"
   },
   {
    "duration": 88,
    "start_time": "2022-08-28T10:07:30.597Z"
   },
   {
    "duration": 9,
    "start_time": "2022-08-28T10:07:30.687Z"
   },
   {
    "duration": 16,
    "start_time": "2022-08-28T10:07:30.698Z"
   },
   {
    "duration": 18,
    "start_time": "2022-08-28T10:07:30.715Z"
   },
   {
    "duration": 59,
    "start_time": "2022-08-28T10:07:30.735Z"
   }
  ],
  "kernelspec": {
   "display_name": "Python 3 (ipykernel)",
   "language": "python",
   "name": "python3"
  },
  "language_info": {
   "codemirror_mode": {
    "name": "ipython",
    "version": 3
   },
   "file_extension": ".py",
   "mimetype": "text/x-python",
   "name": "python",
   "nbconvert_exporter": "python",
   "pygments_lexer": "ipython3",
   "version": "3.9.5"
  },
  "toc": {
   "base_numbering": 1,
   "nav_menu": {},
   "number_sections": true,
   "sideBar": true,
   "skip_h1_title": true,
   "title_cell": "Table of Contents",
   "title_sidebar": "Contents",
   "toc_cell": false,
   "toc_position": {
    "height": "calc(100% - 180px)",
    "left": "10px",
    "top": "150px",
    "width": "260.388px"
   },
   "toc_section_display": true,
   "toc_window_display": false
  }
 },
 "nbformat": 4,
 "nbformat_minor": 2
}
